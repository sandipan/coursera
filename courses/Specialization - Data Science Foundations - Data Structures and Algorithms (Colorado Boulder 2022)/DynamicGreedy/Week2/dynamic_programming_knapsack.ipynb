{
  "nbformat": 4,
  "nbformat_minor": 0,
  "metadata": {
    "kernelspec": {
      "display_name": "Python 3",
      "language": "python",
      "name": "python3"
    },
    "language_info": {
      "codemirror_mode": {
        "name": "ipython",
        "version": 3
      },
      "file_extension": ".py",
      "mimetype": "text/x-python",
      "name": "python",
      "nbconvert_exporter": "python",
      "pygments_lexer": "ipython3",
      "version": "3.6.5"
    },
    "colab": {
      "provenance": []
    }
  },
  "cells": [
    {
      "cell_type": "markdown",
      "source": [
        "## Knapsack Problem (Zero-One Version)\n",
        "\n",
        "__Inputs:__ Weight limit $W$, list of item weights $[w_1, \\ldots, w_k]$, and list of item values $[v_1, \\ldots, v_k]$.\n",
        "\n",
        "__Output:__ For each item, we can choose it in our Knapack $n_i = 1$ or leave it out of our knapsack $n_i = 0$ so that  \n",
        "   1. Total weight is under the knapsack weight limit: $n_1 w_1 + \\cdots + n_k w_k \\leq W$. Note here that each $n_i \\in \\{ 0, 1\\} $, depending on whether the item \\# i is chosen or not.\n",
        "   2. The value of stolen goods is maximized: $n_1 v_1 + \\ldots + n_k v_k $ is max."
      ],
      "metadata": {
        "id": "zH-tZtOfk6Gw"
      }
    },
    {
      "cell_type": "code",
      "source": [
        "# Important, Run this cell below\n",
        "W = 200 # weight limit is 200\n",
        "weights = [1, 5, 20, 35, 90] # These are the weights of individual items\n",
        "values = [15, 14.5, 19.2, 19.8, 195.2] # These are the values of individual items"
      ],
      "metadata": {
        "id": "Xmlp5523lXVz"
      },
      "execution_count": null,
      "outputs": []
    },
    {
      "cell_type": "markdown",
      "source": [
        "## 1. Identify the optimal substructure\n",
        "\n",
        "Suppose the current weight limit is $W$ and we have made decisions for all items from $1, \\ldots, j-1$, where $j \\geq 1$.  What decisions can we make for Item \\# $j$? \n",
        "\n",
        "   1. Steal item $j$: remaining weight limit is $W - w_j$ and we have gained a value of $v_j$. The __remaining problem__ is to find the best way to steal for weight limit $W - w_j$ with items from $j+1, \\ldots, n$.\n",
        "   2. Do __not__ steal item $j$: remaining weight limit is still $W $ and we have gained no value since we did not steal item $j$. The __remaining problem__ is to find the best way to steal for weight limit $W$ with items from $j+1, \\ldots, n$.\n",
        "   \n",
        "We can thus see that the problem has optimal substructure:\n",
        " - We can make the decisions in _stages_, in this case one item at a time.\n",
        " - Once we make a decision, the remaining problem is also an instance of the original problem but the data changes.\n",
        "\n",
        "## 2. Recurrence\n",
        "$$\\newcommand\\msz{\\text{maxStealZeroOne}}$$\n",
        "$$\\msz(W, j) = \\max\\ \\left\\{ \\begin{array}{ll}\n",
        "v_j + \\msz(W - w_j, j+1), & \\leftarrow \\ \\text{steal # j} \\\\ \n",
        "\\msz(W, j+1) & \\leftarrow\\ \\text{skip # j} \\\\ \n",
        "\\end{array} \\right.$$\n",
        "\n",
        "Base Cases:\n",
        "\n",
        "  * $\\msz(0, j) = 0$, for all $j \\in \\{1,\\ldots, n\\}$. This handles the case when we have 0 weight capacity left.\n",
        "  * $\\msz(W, j) = -\\infty$ if $W < 0$, for all $j \\in \\{1,\\ldots, n\\}$. This handles the case when we have violated our weight capacity constraints.\n",
        "  * $\\msz(W, n+1) = 0$ for all $W \\geq 0$.  This handles the case when we have run out of items to steal. \n",
        " \n",
        " \n"
      ],
      "metadata": {
        "id": "QPhlmnp1lbhI"
      }
    },
    {
      "cell_type": "code",
      "source": [
        "def maxStealZeroOne(W, j, weights, values):\n",
        "    assert j >= 0 \n",
        "    assert len(weights) == len(values)\n",
        "    # weights -- list of item weights\n",
        "    # values -- list of item values\n",
        "    # W weight limit\n",
        "    # j item number we are considering.\n",
        "\n",
        "    # First the base cases\n",
        "    if W == 0: \n",
        "        return 0\n",
        "    if W < 0: # we have added more items to knapsack than its original capacity\n",
        "        return -float('inf')\n",
        "    if j >= len(weights): \n",
        "        return 0\n",
        "    # Next, handle the recurrence.\n",
        "    return max(\n",
        "        values[j] + maxStealZeroOne(W - weights[j], j+1, weights, values),  # steal item j\n",
        "        maxStealZeroOne(W, j+1, weights, values)# skip item j\n",
        "               )"
      ],
      "metadata": {
        "id": "zENU8wuknNbS"
      },
      "execution_count": null,
      "outputs": []
    },
    {
      "cell_type": "code",
      "source": [
        "maxStealZeroOne(W, 0, weights, values)"
      ],
      "metadata": {
        "colab": {
          "base_uri": "https://localhost:8080/"
        },
        "id": "bWUTuPX5n_LL",
        "outputId": "11b57746-db0f-45d6-ce9f-b1109b21f730"
      },
      "execution_count": null,
      "outputs": [
        {
          "output_type": "execute_result",
          "data": {
            "text/plain": [
              "263.7"
            ]
          },
          "metadata": {},
          "execution_count": 7
        }
      ]
    },
    {
      "cell_type": "code",
      "source": [
        "maxStealZeroOne(20, 0, weights, values)"
      ],
      "metadata": {
        "colab": {
          "base_uri": "https://localhost:8080/"
        },
        "id": "E_ixueW-oOgL",
        "outputId": "a63b3796-ee46-4571-e8cb-e5fe53229891"
      },
      "execution_count": null,
      "outputs": [
        {
          "output_type": "execute_result",
          "data": {
            "text/plain": [
              "29.5"
            ]
          },
          "metadata": {},
          "execution_count": 8
        }
      ]
    },
    {
      "cell_type": "markdown",
      "source": [
        "## 3. Memoize\n",
        "\n",
        "Memoization of the recurrence $\\msz$ will convert it to a table. \n",
        " - Table entry $T[(w, j)]$ will represent the value of $\\msz(w,j)$ for weight limit $0 \\leq w \\leq W$ and $1 \\leq j \\leq n$. \n",
        " - We will assume that $T[(0, *)] = 0$ and $T[(*, n+1)] = 0$, where * just denotes an arbitrary number for that argument. \n",
        " - If we tried to access $T[(w, *)]$ for negative $w < 0$, we will assume it evaluates to $-\\infty$. \n",
        "\n",
        "\n",
        "## 4. Recover Solution\n",
        "\n",
        "We store in a separate table $S[(0,0)], \\ldots, S[(W,n)]$ which option provides us with the best value: \n",
        "  - $S[(w, j)] = +1$ means that for weight limit $w$, we will choose to include item $j$.\n",
        "  - $S[(w,j)] = 0$ means that for weight limit $w$, we will skip item $j$. \n",
        "\n",
        "The goal will be to first fill out the tables $T, S$ for given problem inputs and then recover solution.\n",
        "\n",
        "Recall the recurrence once again: \n",
        "$$\\msz(W, j) = \\max\\ \\left\\{ \\begin{array}{ll}\n",
        "v_j + \\msz(W - w_j, j+1), & \\leftarrow \\ \\text{steal # j} \\\\ \n",
        "\\msz(W, j+1) & \\leftarrow\\ \\text{skip # j} \\\\ \n",
        "\\end{array} \\right.$$\n",
        "\n",
        "We see that $\\msz(w,j)$ requires us to know $\\msz(w', j+1)$ for $w' \\leq w$. \n",
        " - Therefore, the table must be filled from $w = 0, \\ldots, W$ in ascending order and $j = n, \\ldots, 1$ in descending order. \n",
        " \n",
        " This is important to note for our memoization algorithm. \n"
      ],
      "metadata": {
        "id": "6QLtwLmhZ33f"
      }
    },
    {
      "cell_type": "code",
      "source": [
        "def memoizedMaxStealZeroOne(W, weights, values): \n",
        "    n = len(weights)\n",
        "    assert (len(values) == n), 'Weights and Values list must be of same size'\n",
        "    assert (W >= 0)\n",
        "    if W == 0: \n",
        "        return 0, []# nothing to steal and 0 value derived.\n",
        "    \n",
        "    # Initialize the memo table as a list of lists\n",
        "    # fill in all entries with a zero\n",
        "    T = [ [0 for j in range(n)] for w in range(W+1)]\n",
        "    S = [ [0 for j in range(n)] for w in range(W+1)]\n",
        "\n",
        "    # we will use this helper method to access our memo table.\n",
        "    # it will save us a lot of code later.\n",
        "    def getTblEntry(w, j): \n",
        "        if w == 0: \n",
        "            return 0\n",
        "        if w < 0: \n",
        "            return -float('inf')\n",
        "        if j >= n:\n",
        "            return 0\n",
        "        return T[w][j]\n",
        "\n",
        "    for w in range(1, W+1): # w in ascending order from 1 to W.\n",
        "        for j in range(n-1, -1, -1):  # this is a descending order loop from n-1 to 0.\n",
        "            # this allows us to simultaneously fill T, S without using if-then-else loop\n",
        "            (T[w][j], S[w][j]) = max(\n",
        "                (values[j] + getTblEntry(w - weights[j], j+1), 1), \n",
        "                (getTblEntry(w, j+1), 0))\n",
        "    itemsToSteal = [] \n",
        "    # recover solution\n",
        "    weightOfKnapsack = W  \n",
        "    for j in range(n): \n",
        "        if (S[weightOfKnapsack][j] == 1):\n",
        "            itemsToSteal.append(j)\n",
        "            weightOfKnapsack = weightOfKnapsack - weights[j]\n",
        "            print(f'Steal Item {j}: Weight = {weights[j]}, Value = {values[j]}')\n",
        "    print(f'Total weight stolen: {W - weightOfKnapsack}, value = {T[W][0]}')\n",
        "    return (T[W][0], itemsToSteal)\n",
        "            \n",
        "    \n",
        "        "
      ],
      "metadata": {
        "id": "IPBAk53db1Xz"
      },
      "execution_count": null,
      "outputs": []
    },
    {
      "cell_type": "code",
      "source": [
        "memoizedMaxStealZeroOne(W, weights, values)"
      ],
      "metadata": {
        "colab": {
          "base_uri": "https://localhost:8080/"
        },
        "id": "l6dcZiUbd5Aj",
        "outputId": "fc42e241-4e51-4cf4-cb66-b5edcc755f78"
      },
      "execution_count": null,
      "outputs": [
        {
          "output_type": "stream",
          "name": "stdout",
          "text": [
            "Steal Item 0: Weight = 1, Value = 15\n",
            "Steal Item 1: Weight = 5, Value = 14.5\n",
            "Steal Item 2: Weight = 20, Value = 19.2\n",
            "Steal Item 3: Weight = 35, Value = 19.8\n",
            "Steal Item 4: Weight = 90, Value = 195.2\n",
            "Total weight stolen: 151, value = 263.7\n"
          ]
        },
        {
          "output_type": "execute_result",
          "data": {
            "text/plain": [
              "(263.7, [0, 1, 2, 3, 4])"
            ]
          },
          "metadata": {},
          "execution_count": 26
        }
      ]
    },
    {
      "cell_type": "code",
      "source": [
        "memoizedMaxStealZeroOne(20, weights, values)"
      ],
      "metadata": {
        "colab": {
          "base_uri": "https://localhost:8080/"
        },
        "id": "yoxnv-lDe4Ao",
        "outputId": "6506818a-c000-40b0-ebec-aeeb748ce460"
      },
      "execution_count": null,
      "outputs": [
        {
          "output_type": "stream",
          "name": "stdout",
          "text": [
            "Steal Item 0: Weight = 1, Value = 15\n",
            "Steal Item 1: Weight = 5, Value = 14.5\n",
            "Total weight stolen: 6, value = 29.5\n"
          ]
        },
        {
          "output_type": "execute_result",
          "data": {
            "text/plain": [
              "(29.5, [0, 1])"
            ]
          },
          "metadata": {},
          "execution_count": 27
        }
      ]
    },
    {
      "cell_type": "code",
      "source": [
        "memoizedMaxStealZeroOne(150, weights, values)"
      ],
      "metadata": {
        "colab": {
          "base_uri": "https://localhost:8080/"
        },
        "id": "cNLqwjyehIYH",
        "outputId": "e6ea1767-dfe9-49ff-fde4-70c7d59f6644"
      },
      "execution_count": null,
      "outputs": [
        {
          "output_type": "stream",
          "name": "stdout",
          "text": [
            "Steal Item 0: Weight = 1, Value = 15\n",
            "Steal Item 2: Weight = 20, Value = 19.2\n",
            "Steal Item 3: Weight = 35, Value = 19.8\n",
            "Steal Item 4: Weight = 90, Value = 195.2\n",
            "Total weight stolen: 146, value = 249.2\n"
          ]
        },
        {
          "output_type": "execute_result",
          "data": {
            "text/plain": [
              "(249.2, [0, 2, 3, 4])"
            ]
          },
          "metadata": {},
          "execution_count": 30
        }
      ]
    },
    {
      "cell_type": "markdown",
      "metadata": {
        "id": "NF6WneC3yi8X"
      },
      "source": [
        "# Knapsack Problem with Unbounded Number of Items\n",
        "\n",
        "We will study a version of Knapsack where the user can choose each item an unbounded number of times.\n",
        "\n",
        "__Inputs:__ Weight limit $W$, list of item weights $[w_1, \\ldots, w_k]$, and list of item values $[v_1, \\ldots, v_k]$.\n",
        "\n",
        "__Output:__ Choose how many of each item to take $[n_1, \\ldots, n_k]$ so that \n",
        "   1. Total weight is under the knapsack weight limit: $n_1 w_1 + \\cdots + n_k w_k \\leq W$.\n",
        "   2. The value of stolen goods is maximized: $n_1 v_1 + \\ldots + n_k v_k $ is max."
      ]
    },
    {
      "cell_type": "code",
      "metadata": {
        "id": "Ge8galSjyi8e"
      },
      "source": [
        "W = 200\n",
        "weights = [1, 5, 20, 35, 90]\n",
        "values = [15, 14.5, 19.2, 19.8, 195.2]"
      ],
      "execution_count": null,
      "outputs": []
    },
    {
      "cell_type": "markdown",
      "metadata": {
        "id": "Llb1uo1gyi8f"
      },
      "source": [
        "## 1. Identify the optimal substructure\n",
        "\n",
        "Suppose the current weight limit is $W$. Let us commit to stealing one of the available items and look at what is left to do.\n",
        "\n",
        "   1. Suppose we commit to stealing item $j$.\n",
        "   2. We now need to solve the same problem but for weight limit $W - w_j$. If the solution for this subproblem is obtained, then the original problem's solution is to take the solution for $W-w_j$ and append item $j$ to it.\n",
        "   \n",
        "We can thus see that the problem has optimal substructure.\n",
        "\n",
        "## 2. Recurrence\n",
        "\n",
        "$$\\text{maxSteal}(W) = \\max\\ \\left\\{ \\begin{array}{ll}\n",
        "0 & \\leftarrow\\ \\text{Choose to steal nothing and Quit!}\\\\\n",
        "v_1 + \\text{maxSteal}(W - w_1) & \\leftarrow\\ \\text{Choose one unit of item}\\ 1 \\\\\n",
        "v_2 + \\text{maxSteal}(W - w_2) & \\leftarrow\\ \\text{Choose one unit of item}\\ 2 \\\\\n",
        "\\vdots & \\\\\n",
        "v_k + \\text{maxSteal}(W - w_k) & \\leftarrow\\ \\text{Choose one unit of item}\\ k\\\\\n",
        "\\end{array} \\right.$$\n",
        "\n",
        "Base Case:\n",
        "\n",
        "  * $\\text{maxSteal}(0) = 0$ \n",
        "  * $\\text{maxSteal}(W) = -\\infty$ if $W < 0$.\n",
        " \n",
        " \n"
      ]
    },
    {
      "cell_type": "code",
      "metadata": {
        "id": "CfnsWTifyi8f"
      },
      "source": [
        "def maxSteal(W, weights, values):\n",
        "    if W == 0: \n",
        "        return 0\n",
        "    if W < 0:\n",
        "        return -float('inf')\n",
        "    k = len(weights)\n",
        "    assert len(values) == k\n",
        "    opts = [ values[i] + maxSteal(W - weights[i], weights, values) for i in range(k) ]\n",
        "    return max(opts)"
      ],
      "execution_count": null,
      "outputs": []
    },
    {
      "cell_type": "code",
      "metadata": {
        "colab": {
          "base_uri": "https://localhost:8080/"
        },
        "id": "U4N5P9lLyi8g",
        "outputId": "ecc7be1b-dc33-41ac-dcff-be1b72c39d57"
      },
      "source": [
        "print(maxSteal(25, weights, values))\n",
        "#WARNING: This will run for a very very long time.\n",
        "#print(maxSteal(W, weights, values))"
      ],
      "execution_count": null,
      "outputs": [
        {
          "output_type": "stream",
          "name": "stdout",
          "text": [
            "375\n"
          ]
        }
      ]
    },
    {
      "cell_type": "markdown",
      "metadata": {
        "id": "0GmQMsn9yi8g"
      },
      "source": [
        "## 3. Memoize\n",
        "\n",
        "Memoization is very simple. We make a table $T[0], ... , T[W]$ for storing $\\text{maxSteal}(j)$ for j ranging from $0$ to $W$.\n",
        "The rest just follows the structure of the recurrence taking care to handle -ve values for weight separately.\n",
        "\n",
        "## 4. Recover Solution\n",
        "\n",
        "We store in a separate table $S[0], \\ldots, S[W]$ which option provides us with the best value.\n"
      ]
    },
    {
      "cell_type": "code",
      "metadata": {
        "id": "66ilYOwVyi8g"
      },
      "source": [
        "def maxSteal_memo(W, weights, values):\n",
        "    # Initialize the tables\n",
        "    T = [0]* (W+1)\n",
        "    S = [-1]* (W+1)\n",
        "    k = len(weights)\n",
        "    assert len(values) == k\n",
        "    for w in range(1, W+1):\n",
        "        opts =  [  ( (values[i]+ T[ w - weights[i] ]), i )  for i in range(k) if w - weights[i] >= 0 ]\n",
        "        opts.append( (-float('inf'), -1) ) # In case opts was empty from the previous step.\n",
        "        T[w], S[w] = max(opts)\n",
        "    # This finishes the computation\n",
        "    stolen_item_ids = []\n",
        "    weight_remaining = W\n",
        "    while weight_remaining >= 0:\n",
        "        item_id = S[weight_remaining]\n",
        "        if item_id >= 0:\n",
        "            stolen_item_ids.append('Steal Item ID %d: weight = %d, value = %f' % (item_id, weights[item_id], values[item_id]) )\n",
        "            weight_remaining = weight_remaining - weights[item_id]\n",
        "        else:\n",
        "            break\n",
        "    return T[W], stolen_item_ids"
      ],
      "execution_count": null,
      "outputs": []
    },
    {
      "cell_type": "code",
      "metadata": {
        "colab": {
          "base_uri": "https://localhost:8080/"
        },
        "id": "dh5c5ZWyyi8h",
        "outputId": "a153fcf6-bd3a-40ae-c9c6-d322124eae12"
      },
      "source": [
        "print(maxSteal_memo(25, weights, values))\n",
        "print(maxSteal_memo(W, weights, values))"
      ],
      "execution_count": null,
      "outputs": [
        {
          "output_type": "stream",
          "name": "stdout",
          "text": [
            "(375, ['Steal Item ID 0: weight = 1, value = 15.000000', 'Steal Item ID 0: weight = 1, value = 15.000000', 'Steal Item ID 0: weight = 1, value = 15.000000', 'Steal Item ID 0: weight = 1, value = 15.000000', 'Steal Item ID 0: weight = 1, value = 15.000000', 'Steal Item ID 0: weight = 1, value = 15.000000', 'Steal Item ID 0: weight = 1, value = 15.000000', 'Steal Item ID 0: weight = 1, value = 15.000000', 'Steal Item ID 0: weight = 1, value = 15.000000', 'Steal Item ID 0: weight = 1, value = 15.000000', 'Steal Item ID 0: weight = 1, value = 15.000000', 'Steal Item ID 0: weight = 1, value = 15.000000', 'Steal Item ID 0: weight = 1, value = 15.000000', 'Steal Item ID 0: weight = 1, value = 15.000000', 'Steal Item ID 0: weight = 1, value = 15.000000', 'Steal Item ID 0: weight = 1, value = 15.000000', 'Steal Item ID 0: weight = 1, value = 15.000000', 'Steal Item ID 0: weight = 1, value = 15.000000', 'Steal Item ID 0: weight = 1, value = 15.000000', 'Steal Item ID 0: weight = 1, value = 15.000000', 'Steal Item ID 0: weight = 1, value = 15.000000', 'Steal Item ID 0: weight = 1, value = 15.000000', 'Steal Item ID 0: weight = 1, value = 15.000000', 'Steal Item ID 0: weight = 1, value = 15.000000', 'Steal Item ID 0: weight = 1, value = 15.000000'])\n",
            "(3000, ['Steal Item ID 0: weight = 1, value = 15.000000', 'Steal Item ID 0: weight = 1, value = 15.000000', 'Steal Item ID 0: weight = 1, value = 15.000000', 'Steal Item ID 0: weight = 1, value = 15.000000', 'Steal Item ID 0: weight = 1, value = 15.000000', 'Steal Item ID 0: weight = 1, value = 15.000000', 'Steal Item ID 0: weight = 1, value = 15.000000', 'Steal Item ID 0: weight = 1, value = 15.000000', 'Steal Item ID 0: weight = 1, value = 15.000000', 'Steal Item ID 0: weight = 1, value = 15.000000', 'Steal Item ID 0: weight = 1, value = 15.000000', 'Steal Item ID 0: weight = 1, value = 15.000000', 'Steal Item ID 0: weight = 1, value = 15.000000', 'Steal Item ID 0: weight = 1, value = 15.000000', 'Steal Item ID 0: weight = 1, value = 15.000000', 'Steal Item ID 0: weight = 1, value = 15.000000', 'Steal Item ID 0: weight = 1, value = 15.000000', 'Steal Item ID 0: weight = 1, value = 15.000000', 'Steal Item ID 0: weight = 1, value = 15.000000', 'Steal Item ID 0: weight = 1, value = 15.000000', 'Steal Item ID 0: weight = 1, value = 15.000000', 'Steal Item ID 0: weight = 1, value = 15.000000', 'Steal Item ID 0: weight = 1, value = 15.000000', 'Steal Item ID 0: weight = 1, value = 15.000000', 'Steal Item ID 0: weight = 1, value = 15.000000', 'Steal Item ID 0: weight = 1, value = 15.000000', 'Steal Item ID 0: weight = 1, value = 15.000000', 'Steal Item ID 0: weight = 1, value = 15.000000', 'Steal Item ID 0: weight = 1, value = 15.000000', 'Steal Item ID 0: weight = 1, value = 15.000000', 'Steal Item ID 0: weight = 1, value = 15.000000', 'Steal Item ID 0: weight = 1, value = 15.000000', 'Steal Item ID 0: weight = 1, value = 15.000000', 'Steal Item ID 0: weight = 1, value = 15.000000', 'Steal Item ID 0: weight = 1, value = 15.000000', 'Steal Item ID 0: weight = 1, value = 15.000000', 'Steal Item ID 0: weight = 1, value = 15.000000', 'Steal Item ID 0: weight = 1, value = 15.000000', 'Steal Item ID 0: weight = 1, value = 15.000000', 'Steal Item ID 0: weight = 1, value = 15.000000', 'Steal Item ID 0: weight = 1, value = 15.000000', 'Steal Item ID 0: weight = 1, value = 15.000000', 'Steal Item ID 0: weight = 1, value = 15.000000', 'Steal Item ID 0: weight = 1, value = 15.000000', 'Steal Item ID 0: weight = 1, value = 15.000000', 'Steal Item ID 0: weight = 1, value = 15.000000', 'Steal Item ID 0: weight = 1, value = 15.000000', 'Steal Item ID 0: weight = 1, value = 15.000000', 'Steal Item ID 0: weight = 1, value = 15.000000', 'Steal Item ID 0: weight = 1, value = 15.000000', 'Steal Item ID 0: weight = 1, value = 15.000000', 'Steal Item ID 0: weight = 1, value = 15.000000', 'Steal Item ID 0: weight = 1, value = 15.000000', 'Steal Item ID 0: weight = 1, value = 15.000000', 'Steal Item ID 0: weight = 1, value = 15.000000', 'Steal Item ID 0: weight = 1, value = 15.000000', 'Steal Item ID 0: weight = 1, value = 15.000000', 'Steal Item ID 0: weight = 1, value = 15.000000', 'Steal Item ID 0: weight = 1, value = 15.000000', 'Steal Item ID 0: weight = 1, value = 15.000000', 'Steal Item ID 0: weight = 1, value = 15.000000', 'Steal Item ID 0: weight = 1, value = 15.000000', 'Steal Item ID 0: weight = 1, value = 15.000000', 'Steal Item ID 0: weight = 1, value = 15.000000', 'Steal Item ID 0: weight = 1, value = 15.000000', 'Steal Item ID 0: weight = 1, value = 15.000000', 'Steal Item ID 0: weight = 1, value = 15.000000', 'Steal Item ID 0: weight = 1, value = 15.000000', 'Steal Item ID 0: weight = 1, value = 15.000000', 'Steal Item ID 0: weight = 1, value = 15.000000', 'Steal Item ID 0: weight = 1, value = 15.000000', 'Steal Item ID 0: weight = 1, value = 15.000000', 'Steal Item ID 0: weight = 1, value = 15.000000', 'Steal Item ID 0: weight = 1, value = 15.000000', 'Steal Item ID 0: weight = 1, value = 15.000000', 'Steal Item ID 0: weight = 1, value = 15.000000', 'Steal Item ID 0: weight = 1, value = 15.000000', 'Steal Item ID 0: weight = 1, value = 15.000000', 'Steal Item ID 0: weight = 1, value = 15.000000', 'Steal Item ID 0: weight = 1, value = 15.000000', 'Steal Item ID 0: weight = 1, value = 15.000000', 'Steal Item ID 0: weight = 1, value = 15.000000', 'Steal Item ID 0: weight = 1, value = 15.000000', 'Steal Item ID 0: weight = 1, value = 15.000000', 'Steal Item ID 0: weight = 1, value = 15.000000', 'Steal Item ID 0: weight = 1, value = 15.000000', 'Steal Item ID 0: weight = 1, value = 15.000000', 'Steal Item ID 0: weight = 1, value = 15.000000', 'Steal Item ID 0: weight = 1, value = 15.000000', 'Steal Item ID 0: weight = 1, value = 15.000000', 'Steal Item ID 0: weight = 1, value = 15.000000', 'Steal Item ID 0: weight = 1, value = 15.000000', 'Steal Item ID 0: weight = 1, value = 15.000000', 'Steal Item ID 0: weight = 1, value = 15.000000', 'Steal Item ID 0: weight = 1, value = 15.000000', 'Steal Item ID 0: weight = 1, value = 15.000000', 'Steal Item ID 0: weight = 1, value = 15.000000', 'Steal Item ID 0: weight = 1, value = 15.000000', 'Steal Item ID 0: weight = 1, value = 15.000000', 'Steal Item ID 0: weight = 1, value = 15.000000', 'Steal Item ID 0: weight = 1, value = 15.000000', 'Steal Item ID 0: weight = 1, value = 15.000000', 'Steal Item ID 0: weight = 1, value = 15.000000', 'Steal Item ID 0: weight = 1, value = 15.000000', 'Steal Item ID 0: weight = 1, value = 15.000000', 'Steal Item ID 0: weight = 1, value = 15.000000', 'Steal Item ID 0: weight = 1, value = 15.000000', 'Steal Item ID 0: weight = 1, value = 15.000000', 'Steal Item ID 0: weight = 1, value = 15.000000', 'Steal Item ID 0: weight = 1, value = 15.000000', 'Steal Item ID 0: weight = 1, value = 15.000000', 'Steal Item ID 0: weight = 1, value = 15.000000', 'Steal Item ID 0: weight = 1, value = 15.000000', 'Steal Item ID 0: weight = 1, value = 15.000000', 'Steal Item ID 0: weight = 1, value = 15.000000', 'Steal Item ID 0: weight = 1, value = 15.000000', 'Steal Item ID 0: weight = 1, value = 15.000000', 'Steal Item ID 0: weight = 1, value = 15.000000', 'Steal Item ID 0: weight = 1, value = 15.000000', 'Steal Item ID 0: weight = 1, value = 15.000000', 'Steal Item ID 0: weight = 1, value = 15.000000', 'Steal Item ID 0: weight = 1, value = 15.000000', 'Steal Item ID 0: weight = 1, value = 15.000000', 'Steal Item ID 0: weight = 1, value = 15.000000', 'Steal Item ID 0: weight = 1, value = 15.000000', 'Steal Item ID 0: weight = 1, value = 15.000000', 'Steal Item ID 0: weight = 1, value = 15.000000', 'Steal Item ID 0: weight = 1, value = 15.000000', 'Steal Item ID 0: weight = 1, value = 15.000000', 'Steal Item ID 0: weight = 1, value = 15.000000', 'Steal Item ID 0: weight = 1, value = 15.000000', 'Steal Item ID 0: weight = 1, value = 15.000000', 'Steal Item ID 0: weight = 1, value = 15.000000', 'Steal Item ID 0: weight = 1, value = 15.000000', 'Steal Item ID 0: weight = 1, value = 15.000000', 'Steal Item ID 0: weight = 1, value = 15.000000', 'Steal Item ID 0: weight = 1, value = 15.000000', 'Steal Item ID 0: weight = 1, value = 15.000000', 'Steal Item ID 0: weight = 1, value = 15.000000', 'Steal Item ID 0: weight = 1, value = 15.000000', 'Steal Item ID 0: weight = 1, value = 15.000000', 'Steal Item ID 0: weight = 1, value = 15.000000', 'Steal Item ID 0: weight = 1, value = 15.000000', 'Steal Item ID 0: weight = 1, value = 15.000000', 'Steal Item ID 0: weight = 1, value = 15.000000', 'Steal Item ID 0: weight = 1, value = 15.000000', 'Steal Item ID 0: weight = 1, value = 15.000000', 'Steal Item ID 0: weight = 1, value = 15.000000', 'Steal Item ID 0: weight = 1, value = 15.000000', 'Steal Item ID 0: weight = 1, value = 15.000000', 'Steal Item ID 0: weight = 1, value = 15.000000', 'Steal Item ID 0: weight = 1, value = 15.000000', 'Steal Item ID 0: weight = 1, value = 15.000000', 'Steal Item ID 0: weight = 1, value = 15.000000', 'Steal Item ID 0: weight = 1, value = 15.000000', 'Steal Item ID 0: weight = 1, value = 15.000000', 'Steal Item ID 0: weight = 1, value = 15.000000', 'Steal Item ID 0: weight = 1, value = 15.000000', 'Steal Item ID 0: weight = 1, value = 15.000000', 'Steal Item ID 0: weight = 1, value = 15.000000', 'Steal Item ID 0: weight = 1, value = 15.000000', 'Steal Item ID 0: weight = 1, value = 15.000000', 'Steal Item ID 0: weight = 1, value = 15.000000', 'Steal Item ID 0: weight = 1, value = 15.000000', 'Steal Item ID 0: weight = 1, value = 15.000000', 'Steal Item ID 0: weight = 1, value = 15.000000', 'Steal Item ID 0: weight = 1, value = 15.000000', 'Steal Item ID 0: weight = 1, value = 15.000000', 'Steal Item ID 0: weight = 1, value = 15.000000', 'Steal Item ID 0: weight = 1, value = 15.000000', 'Steal Item ID 0: weight = 1, value = 15.000000', 'Steal Item ID 0: weight = 1, value = 15.000000', 'Steal Item ID 0: weight = 1, value = 15.000000', 'Steal Item ID 0: weight = 1, value = 15.000000', 'Steal Item ID 0: weight = 1, value = 15.000000', 'Steal Item ID 0: weight = 1, value = 15.000000', 'Steal Item ID 0: weight = 1, value = 15.000000', 'Steal Item ID 0: weight = 1, value = 15.000000', 'Steal Item ID 0: weight = 1, value = 15.000000', 'Steal Item ID 0: weight = 1, value = 15.000000', 'Steal Item ID 0: weight = 1, value = 15.000000', 'Steal Item ID 0: weight = 1, value = 15.000000', 'Steal Item ID 0: weight = 1, value = 15.000000', 'Steal Item ID 0: weight = 1, value = 15.000000', 'Steal Item ID 0: weight = 1, value = 15.000000', 'Steal Item ID 0: weight = 1, value = 15.000000', 'Steal Item ID 0: weight = 1, value = 15.000000', 'Steal Item ID 0: weight = 1, value = 15.000000', 'Steal Item ID 0: weight = 1, value = 15.000000', 'Steal Item ID 0: weight = 1, value = 15.000000', 'Steal Item ID 0: weight = 1, value = 15.000000', 'Steal Item ID 0: weight = 1, value = 15.000000', 'Steal Item ID 0: weight = 1, value = 15.000000', 'Steal Item ID 0: weight = 1, value = 15.000000', 'Steal Item ID 0: weight = 1, value = 15.000000', 'Steal Item ID 0: weight = 1, value = 15.000000', 'Steal Item ID 0: weight = 1, value = 15.000000', 'Steal Item ID 0: weight = 1, value = 15.000000', 'Steal Item ID 0: weight = 1, value = 15.000000', 'Steal Item ID 0: weight = 1, value = 15.000000'])\n"
          ]
        }
      ]
    }
  ]
}