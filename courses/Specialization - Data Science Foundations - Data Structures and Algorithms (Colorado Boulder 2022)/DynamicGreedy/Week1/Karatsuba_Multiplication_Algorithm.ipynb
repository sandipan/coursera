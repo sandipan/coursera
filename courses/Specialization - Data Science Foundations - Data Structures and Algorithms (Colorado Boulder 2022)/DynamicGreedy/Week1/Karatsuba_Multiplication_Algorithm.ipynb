{
  "nbformat": 4,
  "nbformat_minor": 5,
  "metadata": {
    "kernelspec": {
      "display_name": "Python 3",
      "language": "python",
      "name": "python3"
    },
    "language_info": {
      "codemirror_mode": {
        "name": "ipython",
        "version": 3
      },
      "file_extension": ".py",
      "mimetype": "text/x-python",
      "name": "python",
      "nbconvert_exporter": "python",
      "pygments_lexer": "ipython3",
      "version": "3.9.1"
    },
    "colab": {
      "provenance": []
    }
  },
  "cells": [
    {
      "cell_type": "code",
      "metadata": {
        "colab": {
          "base_uri": "https://localhost:8080/"
        },
        "id": "purple-flooring",
        "outputId": "581c5d98-89b4-41ff-fbda-cdcb893489b5"
      },
      "source": [
        "try:\n",
        "    %load_ext autotime\n",
        "except:\n",
        "    !pip install ipython-autotime\n",
        "    %load_ext autotime"
      ],
      "id": "purple-flooring",
      "execution_count": null,
      "outputs": [
        {
          "output_type": "stream",
          "text": [
            "Collecting ipython-autotime\n",
            "  Downloading https://files.pythonhosted.org/packages/b4/c9/b413a24f759641bc27ef98c144b590023c8038dfb8a3f09e713e9dff12c1/ipython_autotime-0.3.1-py2.py3-none-any.whl\n",
            "Requirement already satisfied: ipython in /usr/local/lib/python3.7/dist-packages (from ipython-autotime) (5.5.0)\n",
            "Requirement already satisfied: prompt-toolkit<2.0.0,>=1.0.4 in /usr/local/lib/python3.7/dist-packages (from ipython->ipython-autotime) (1.0.18)\n",
            "Requirement already satisfied: pygments in /usr/local/lib/python3.7/dist-packages (from ipython->ipython-autotime) (2.6.1)\n",
            "Requirement already satisfied: pickleshare in /usr/local/lib/python3.7/dist-packages (from ipython->ipython-autotime) (0.7.5)\n",
            "Requirement already satisfied: setuptools>=18.5 in /usr/local/lib/python3.7/dist-packages (from ipython->ipython-autotime) (56.1.0)\n",
            "Requirement already satisfied: decorator in /usr/local/lib/python3.7/dist-packages (from ipython->ipython-autotime) (4.4.2)\n",
            "Requirement already satisfied: simplegeneric>0.8 in /usr/local/lib/python3.7/dist-packages (from ipython->ipython-autotime) (0.8.1)\n",
            "Requirement already satisfied: pexpect; sys_platform != \"win32\" in /usr/local/lib/python3.7/dist-packages (from ipython->ipython-autotime) (4.8.0)\n",
            "Requirement already satisfied: traitlets>=4.2 in /usr/local/lib/python3.7/dist-packages (from ipython->ipython-autotime) (5.0.5)\n",
            "Requirement already satisfied: six>=1.9.0 in /usr/local/lib/python3.7/dist-packages (from prompt-toolkit<2.0.0,>=1.0.4->ipython->ipython-autotime) (1.15.0)\n",
            "Requirement already satisfied: wcwidth in /usr/local/lib/python3.7/dist-packages (from prompt-toolkit<2.0.0,>=1.0.4->ipython->ipython-autotime) (0.2.5)\n",
            "Requirement already satisfied: ptyprocess>=0.5 in /usr/local/lib/python3.7/dist-packages (from pexpect; sys_platform != \"win32\"->ipython->ipython-autotime) (0.7.0)\n",
            "Requirement already satisfied: ipython-genutils in /usr/local/lib/python3.7/dist-packages (from traitlets>=4.2->ipython->ipython-autotime) (0.2.0)\n",
            "Installing collected packages: ipython-autotime\n",
            "Successfully installed ipython-autotime-0.3.1\n",
            "time: 302 µs (started: 2021-05-31 17:18:09 +00:00)\n"
          ],
          "name": "stdout"
        }
      ]
    },
    {
      "cell_type": "markdown",
      "metadata": {
        "id": "functional-ethics"
      },
      "source": [
        "## Bitwise representation of numbers \n",
        "\n",
        "We will represent numbers in binary as a sequence of 1s and 0s.\n",
        "Recall  the basics of converting decimal numbers into binary and vice versa. \n",
        "\n",
        "### Example\n",
        "The number 5 in decimal is written as $101$ in binary:\n",
        "$5_{10} = 101_2 $ \n",
        "\n",
        "\n",
        "| Decimal | Binary |\n",
        "|---|---|\n",
        "| 5 | 101 |\n",
        "| 12 | 1100 |\n",
        "| 16 | 10000 |\n",
        "| 23 | 10111 |\n",
        "\n",
        "We will represent binary numbers as a list but the least significant bit is the first element and most significant bit is the last element. \n",
        "Eg., the number $(1011)_2$ is written in a list as `[1, 1, 0, 1]`."
      ],
      "id": "functional-ethics"
    },
    {
      "cell_type": "code",
      "metadata": {
        "colab": {
          "base_uri": "https://localhost:8080/"
        },
        "id": "several-shuttle",
        "outputId": "83c8d7c6-960e-4914-88bd-808131787c0c"
      },
      "source": [
        "def convert_to_binary(n):\n",
        "    assert n >= 0\n",
        "    if n == 0:\n",
        "        return [0]\n",
        "    lst = []\n",
        "    while n > 0:\n",
        "        lst.append( n % 2)\n",
        "        n = n // 2 # Integer division in python uses //\n",
        "    return lst \n",
        "\n",
        "def convert_to_decimal(lst):\n",
        "    sum = 0\n",
        "    f = 1\n",
        "    for elt in lst:\n",
        "        sum = sum + elt * f\n",
        "        f = f * 2\n",
        "    return sum "
      ],
      "id": "several-shuttle",
      "execution_count": null,
      "outputs": [
        {
          "output_type": "stream",
          "text": [
            "time: 5.02 ms (started: 2021-05-31 17:18:13 +00:00)\n"
          ],
          "name": "stdout"
        }
      ]
    },
    {
      "cell_type": "code",
      "metadata": {
        "colab": {
          "base_uri": "https://localhost:8080/"
        },
        "id": "naval-dutch",
        "outputId": "dbfbc2d8-999e-493f-bc68-0c38ab75dcfa"
      },
      "source": [
        "print(f'6 = {convert_to_binary(6)}')\n",
        "print(f'23 = {convert_to_binary(23)}')\n",
        "print(f'46 = {convert_to_binary(46)}')\n",
        "print(f'128 = {convert_to_binary(128)}')\n",
        "print(f'71 = {convert_to_binary(71)}')\n",
        "print(convert_to_decimal([1, 0, 1, 1, 0, 1])) # should be 45\n",
        "print(convert_to_decimal([0, 1, 1, 0, 1])) # should be 22"
      ],
      "id": "naval-dutch",
      "execution_count": null,
      "outputs": [
        {
          "output_type": "stream",
          "text": [
            "6 = [0, 1, 1]\n",
            "23 = [1, 1, 1, 0, 1]\n",
            "46 = [0, 1, 1, 1, 0, 1]\n",
            "128 = [0, 0, 0, 0, 0, 0, 0, 1]\n",
            "71 = [1, 1, 1, 0, 0, 0, 1]\n",
            "45\n",
            "22\n",
            "time: 3.88 ms (started: 2021-05-31 17:18:15 +00:00)\n"
          ],
          "name": "stdout"
        }
      ]
    },
    {
      "cell_type": "markdown",
      "metadata": {
        "id": "copyrighted-variance"
      },
      "source": [
        "## Addition and Subtraction\n",
        "\n",
        "We will implement addition and subtraction for binary numbers.\n",
        "Addition was discussed in the lecture. For subtraction, we use a very nice trick called twos-complement method that turns subtraction into addition after flipping 1s and 0s. \n",
        "See here for a quick explanation: \n",
        "\n",
        "https://www.geeksforgeeks.org/subtraction-of-two-numbers-using-2s-complement/"
      ],
      "id": "copyrighted-variance"
    },
    {
      "cell_type": "code",
      "metadata": {
        "colab": {
          "base_uri": "https://localhost:8080/"
        },
        "id": "curious-shakespeare",
        "outputId": "f64e1b30-0606-49da-a550-1fa286063be5"
      },
      "source": [
        "def bitwise_add(ai, bi, ci):\n",
        "    if ai == 0:\n",
        "        if bi == 0:\n",
        "            return (ci, 0)\n",
        "        else: # ai= 0, bi = 1\n",
        "            return (1-ci, ci)\n",
        "    else:\n",
        "        if bi == 0:\n",
        "            return (1-ci, ci)\n",
        "        else:\n",
        "            return (ci, 1)\n",
        "        \n",
        "def add(a, b):\n",
        "    # add bit strings a, b\n",
        "    (n, m) = len(a), len(b)\n",
        "    carry = 0\n",
        "    c = []\n",
        "    for i in range(max(m,n)):\n",
        "        ai = a[i] if i < n else 0\n",
        "        bi = b[i] if i < m else 0\n",
        "        (ci, carry) = bitwise_add(ai, bi, carry)\n",
        "        c.append(ci)\n",
        "    if carry == 1:\n",
        "        c.append(carry)\n",
        "    return c\n",
        "\n",
        "def subtract(a, b):\n",
        "    # we will use two's complement subtraction\n",
        "    # this is a very nice and common trick where\n",
        "    # we can use addition to perform subraction of\n",
        "    # binary numbers. It is used inside computers.\n",
        "    # assume a >= b -- this will generally hold for all our use cases\n",
        "    n = len(a)\n",
        "    #assert(len(b) <= n)\n",
        "    k = len(a) - len(b)    \n",
        "    bcomp = [1-elt for elt in b] + [1]*k # flip the bits in b and pad with 1s\n",
        "    bcomp2 = add(bcomp, [1]) # add 1\n",
        "    r = add(a, bcomp2)\n",
        "    return r[0:n]\n",
        "\n",
        "def pad(a, k):\n",
        "    return  [0]*k + a "
      ],
      "id": "curious-shakespeare",
      "execution_count": null,
      "outputs": [
        {
          "output_type": "stream",
          "text": [
            "time: 30.1 ms (started: 2021-05-31 17:18:18 +00:00)\n"
          ],
          "name": "stdout"
        }
      ]
    },
    {
      "cell_type": "code",
      "metadata": {
        "colab": {
          "base_uri": "https://localhost:8080/"
        },
        "id": "romantic-corporation",
        "outputId": "80bf6708-74ed-47bd-c3eb-0869ef7e7ec1"
      },
      "source": [
        "print(add([1,0,1,1,0], [1, 0, 0, 0, 1])) # should be 0, 1, 1, 1, 1\n",
        "print(add([0, 1, 1], [1, 1, 1])) # should be 1, 0, 1, 1\n",
        "print(add([0, 1], [1, 1, 1])) # should be 1, 0, 0, 1\n",
        "print(add([0], [1,0,1,0,1,1,0,1])) # should be 1, 0, 1, 0, 1, 1, 0, 1"
      ],
      "id": "romantic-corporation",
      "execution_count": null,
      "outputs": [
        {
          "output_type": "stream",
          "text": [
            "[0, 1, 1, 1, 1]\n",
            "[1, 0, 1, 1]\n",
            "[1, 0, 0, 1]\n",
            "[1, 0, 1, 0, 1, 1, 0, 1]\n",
            "time: 2.23 ms (started: 2021-05-31 17:18:25 +00:00)\n"
          ],
          "name": "stdout"
        }
      ]
    },
    {
      "cell_type": "code",
      "metadata": {
        "id": "becoming-premises",
        "outputId": "2ad75a73-d7a5-44a2-c447-4227e3e83b9d"
      },
      "source": [
        "print(subtract([1,1,1],[1])) # should be [0, 1, 1]\n",
        "print(subtract([1,0,1], [0, 1])) # should be [1, 1, 0]\n",
        "print(subtract([0, 0, 0, 1], [1, 1])) # should be [1, 0, 1, 0]\n",
        "print(subtract([0, 1, 0, 1], [1, 0, 0, 1])) # should be [1, 0, 0, 0]\n",
        "print(subtract([0, 1, 0, 1, 1, 1, 0, 1],[0]))"
      ],
      "id": "becoming-premises",
      "execution_count": null,
      "outputs": [
        {
          "output_type": "stream",
          "text": [
            "[0, 1, 1]\n",
            "[1, 1, 0]\n",
            "[1, 0, 1, 0]\n",
            "[1, 0, 0, 0]\n",
            "[0, 1, 0, 1, 1, 1, 0, 1]\n",
            "time: 1.58 ms (started: 2021-05-13 22:15:46 -06:00)\n"
          ],
          "name": "stdout"
        }
      ]
    },
    {
      "cell_type": "code",
      "metadata": {
        "id": "intended-wrong",
        "outputId": "12dfefcc-4e25-44ca-91cb-7262b8b5f19c"
      },
      "source": [
        "def grade_school_multiply(a, b):\n",
        "    n, m = len(a), len(b)\n",
        "    tmp = a\n",
        "    res = [0]\n",
        "    for bit in b:\n",
        "        if bit == 1:\n",
        "            res = add(res, tmp)\n",
        "        tmp = [0]+tmp # shift tmp\n",
        "    return res "
      ],
      "id": "intended-wrong",
      "execution_count": null,
      "outputs": [
        {
          "output_type": "stream",
          "text": [
            "time: 691 µs (started: 2021-05-13 22:15:47 -06:00)\n"
          ],
          "name": "stdout"
        }
      ]
    },
    {
      "cell_type": "code",
      "metadata": {
        "id": "resistant-romantic",
        "outputId": "ad85eec9-6fdf-4ab6-bd3d-4f5d086c918b"
      },
      "source": [
        "print(grade_school_multiply([1, 0, 1], [0, 1])) #  should be 0, 1, 0, 1\n",
        "print(grade_school_multiply([0, 1, 1], [1, 1])) # should be 0, 1, 0, 0 , 1\n",
        "print(grade_school_multiply([0, 0, 1], [1, 0, 1])) # should be 0, 0, 1, 0 , 1\n",
        "print(grade_school_multiply([0, 0, 0, 1], [1, 0, 1])) # should be 0, 0, 0, 1, 0, 1"
      ],
      "id": "resistant-romantic",
      "execution_count": null,
      "outputs": [
        {
          "output_type": "stream",
          "text": [
            "[0, 1, 0, 1]\n",
            "[0, 1, 0, 0, 1]\n",
            "[0, 0, 1, 0, 1]\n",
            "[0, 0, 0, 1, 0, 1]\n",
            "time: 1.14 ms (started: 2021-05-13 22:15:47 -06:00)\n"
          ],
          "name": "stdout"
        }
      ]
    },
    {
      "cell_type": "code",
      "metadata": {
        "id": "occasional-nothing",
        "outputId": "61916cb6-1c4c-4522-b5ba-441f6a1a3c7f"
      },
      "source": [
        "def karatsuba_multiply(a, b):\n",
        "    (m, n) = len(a), len(b)\n",
        "    if m <= 2 or n <= 2:\n",
        "        # revert to grade school multiplication\n",
        "        return grade_school_multiply(a, b)\n",
        "    else:\n",
        "        mid1 = m//2\n",
        "        a1 = a[0:mid1]\n",
        "        a2 = a[mid1:]\n",
        "        b1 = b[0:mid1]\n",
        "        b2 = b[mid1:]\n",
        "        # [a] = 2^{mid1} * [a2] + [a1]\n",
        "        # [b] = 2^{mid1} * [b2] + [b1]\n",
        "        # [a]* [b] = 2^{2*mid1} ([a2]*[b2]) + 2^mid1 ([a2]*[b1] + [a2]*[b1]) + [a1]*[b1]\n",
        "        \n",
        "        # 3 recursive calls to karatsuba_multiply\n",
        "        r1 = karatsuba_multiply(a1, b1)\n",
        "        r2 = karatsuba_multiply(a2, b2)\n",
        "        r3 = karatsuba_multiply(add(a1, a2), add(b1, b2))\n",
        "        # Do subtraction\n",
        "        r4a = subtract(r3, r1)\n",
        "        r4 = subtract(r4a, r2)\n",
        "        \n",
        "        # Do paddding\n",
        "        s1 = pad(r2, 2*mid1)\n",
        "        s2 = pad(r4, mid1)\n",
        "        s3 = add(s1, s2)\n",
        "        return add(s3, r1)        "
      ],
      "id": "occasional-nothing",
      "execution_count": null,
      "outputs": [
        {
          "output_type": "stream",
          "text": [
            "time: 7.24 ms (started: 2021-05-13 22:15:48 -06:00)\n"
          ],
          "name": "stdout"
        }
      ]
    },
    {
      "cell_type": "code",
      "metadata": {
        "id": "stopped-evolution",
        "outputId": "a5bfaba9-f441-4ae8-eb5d-04168d4cf4f9"
      },
      "source": [
        "print(karatsuba_multiply([0, 0, 0, 1], [1, 0, 1])) # should be 0, 0, 0, 1, 0, 1\n",
        "print(karatsuba_multiply([0, 0, 1], [1, 0, 1])) # should be 0, 0, 1, 0 , 1"
      ],
      "id": "stopped-evolution",
      "execution_count": null,
      "outputs": [
        {
          "output_type": "stream",
          "text": [
            "[0, 0, 0, 1, 0, 1]\n",
            "[0, 0, 1, 0, 1]\n",
            "time: 1 ms (started: 2021-05-13 22:15:49 -06:00)\n"
          ],
          "name": "stdout"
        }
      ]
    },
    {
      "cell_type": "code",
      "metadata": {
        "id": "entertaining-contact",
        "outputId": "316bec49-b985-4e2b-ea94-d2be1d5319ee"
      },
      "source": [
        "print(grade_school_multiply([1, 0, 1, 1, 0, 1, 0, 1, 1, 0, 1, 1, 0, 1, 1, 1, 0, 1, 1, 0, 1, 1, 0], [0, 1, 0, 1, 1, 0, 1, 1, 0, 1, 0, 1, 0, 0, 0, 0, 1, 1, 1, 0, 1, 0,1]))"
      ],
      "id": "entertaining-contact",
      "execution_count": null,
      "outputs": [
        {
          "output_type": "stream",
          "text": [
            "[0, 1, 0, 0, 1, 0, 1, 0, 1, 1, 1, 0, 0, 1, 0, 0, 0, 1, 0, 1, 1, 0, 1, 1, 1, 0, 0, 1, 1, 0, 0, 0, 1, 0, 1, 1, 0, 1, 0, 1, 0, 1, 0, 0, 1]\n",
            "time: 1.18 ms (started: 2021-05-13 22:15:50 -06:00)\n"
          ],
          "name": "stdout"
        }
      ]
    },
    {
      "cell_type": "code",
      "metadata": {
        "id": "automatic-register",
        "outputId": "7ef52fac-d38e-4240-ca56-96f757bdb718"
      },
      "source": [
        "print(karatsuba_multiply([1, 0, 1, 1, 0, 1, 0, 1, 1, 0, 1, 1, 0, 1, 1, 1, 0, 1, 1, 0, 1, 1, 0], [0, 1, 0, 1, 1, 0, 1, 1, 0, 1, 0, 1, 0, 0, 0, 0, 1, 1, 1, 0, 1, 0,1]))"
      ],
      "id": "automatic-register",
      "execution_count": null,
      "outputs": [
        {
          "output_type": "stream",
          "text": [
            "[0, 1, 0, 0, 1, 0, 1, 0, 1, 1, 1, 0, 0, 1, 0, 0, 0, 1, 0, 1, 1, 0, 1, 1, 1, 0, 0, 1, 1, 0, 0, 0, 1, 0, 1, 1, 0, 1, 0, 1, 0, 1, 0, 0, 1]\n",
            "time: 2.52 ms (started: 2021-05-13 22:15:51 -06:00)\n"
          ],
          "name": "stdout"
        }
      ]
    },
    {
      "cell_type": "code",
      "metadata": {
        "id": "several-unemployment",
        "outputId": "8c32d0c4-ece1-4fdd-fe29-438086ec6378"
      },
      "source": [
        "from random import randint\n",
        "a = [randint(0, 1) for j in range(10000)]\n",
        "b = [randint(0, 1) for j in range(10000)]\n"
      ],
      "id": "several-unemployment",
      "execution_count": null,
      "outputs": [
        {
          "output_type": "stream",
          "text": [
            "time: 27.9 ms (started: 2021-05-13 22:15:52 -06:00)\n"
          ],
          "name": "stdout"
        }
      ]
    },
    {
      "cell_type": "code",
      "metadata": {
        "id": "conservative-being",
        "outputId": "663e081a-a2fa-4c50-8508-874863b142ce"
      },
      "source": [
        "c = grade_school_multiply(a,b)"
      ],
      "id": "conservative-being",
      "execution_count": null,
      "outputs": [
        {
          "output_type": "stream",
          "text": [
            "time: 30 s (started: 2021-05-13 22:15:56 -06:00)\n"
          ],
          "name": "stdout"
        }
      ]
    },
    {
      "cell_type": "code",
      "metadata": {
        "id": "macro-alexandria",
        "outputId": "3d554474-d5e9-4855-ed81-7099e50ea050"
      },
      "source": [
        "c = karatsuba_multiply(a, b)"
      ],
      "id": "macro-alexandria",
      "execution_count": null,
      "outputs": [
        {
          "output_type": "stream",
          "text": [
            "time: 23.1 s (started: 2021-05-13 22:16:26 -06:00)\n"
          ],
          "name": "stdout"
        }
      ]
    }
  ]
}