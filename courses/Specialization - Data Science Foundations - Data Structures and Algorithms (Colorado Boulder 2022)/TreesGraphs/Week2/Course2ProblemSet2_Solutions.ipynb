{
 "cells": [
  {
   "cell_type": "markdown",
   "metadata": {
    "deletable": false,
    "editable": false,
    "nbgrader": {
     "cell_type": "markdown",
     "checksum": "90cf65d8cc75173cc25880e77f4050c5",
     "grade": false,
     "grade_id": "cell-dda524b98e61baba",
     "locked": true,
     "schema_version": 3,
     "solution": false,
     "task": false
    }
   },
   "source": [
    "## Problem 1: Program DFS for Undirected Graph Data Structure\n",
    "\n",
    "We will now program an undirected graph using the adjacency list representation in Python along with some utility functions including a depth first search algorithm over undirected graphs. \n",
    "\n",
    "Recall that a graph is undirected if for every edge $(u,v)$ in the graph from $u$ to $v$ there is also the edge in the reverse direction  $(v,u)$ from $v$ to $u$."
   ]
  },
  {
   "attachments": {
    "image.png": {
     "image/png": "[encoded data removed]"
    }
   },
   "cell_type": "markdown",
   "metadata": {
    "deletable": false,
    "editable": false,
    "nbgrader": {
     "cell_type": "markdown",
     "checksum": "9f7080914a8f8173aeb681fb38c89065",
     "grade": false,
     "grade_id": "cell-e97767d1f7b12025",
     "locked": true,
     "schema_version": 3,
     "solution": false,
     "task": false
    }
   },
   "source": [
    "## 1A \n",
    "\n",
    "Run through DFS for the example graph below.\n",
    "\n",
    "![image.png](attachment:image.png)\n",
    "\n",
    "Assume that the DFS visit starts from the node 0. Assume adjacent nodes are visited in \n",
    "ascending order of node IDs.\n",
    "\n",
    "(a) Write down the order in which the nodes are visited.\n",
    "\n",
    "(b) Complete the table of discovery and finish times for each node.\n",
    "\n",
    "(c) For each node write down its parent node in the DFS tree. Recall that if DFS discovers node j from node i, then the parent of j in the DFS tree is i. Draw the DFS tree.\n",
    "\n",
    "(d) What are the back edges discovered by DFS? Disregard all trivial back edges $(i,j)$ where $j$ is a parent of node i in the DFS tree.\n",
    "\n",
    "Please note that this problem will not be graded. You are encouraged to compare your answers with our solutions."
   ]
  },
  {
   "cell_type": "markdown",
   "metadata": {
    "deletable": false,
    "nbgrader": {
     "cell_type": "markdown",
     "checksum": "338af218f3dbd57dd5eced0ad47a6705",
     "grade": true,
     "grade_id": "cell-1a63ca5fa5b25017",
     "locked": false,
     "points": 0,
     "schema_version": 3,
     "solution": true,
     "task": false
    }
   },
   "source": [
    "YOUR ANSWER HERE"
   ]
  },
  {
   "cell_type": "markdown",
   "metadata": {
    "deletable": false,
    "editable": false,
    "nbgrader": {
     "cell_type": "markdown",
     "checksum": "38912f350a0fa846e06c60ec0f82482a",
     "grade": false,
     "grade_id": "cell-14aa29b609bc8e55",
     "locked": true,
     "schema_version": 3,
     "solution": false,
     "task": false
    }
   },
   "source": [
    "### 1 B\n",
    "\n",
    "Complete the code for the `dfs_visit` function below. \n",
    "\n",
    "To do so, please read the rest of the code provided and the surrounding comments very  carefully. \n",
    "\n",
    "Please ensure that the following rules are followed:\n",
    "\n",
    "- When visiting a node i, consider the set of adjacent nodes in increasing order.\n",
    "  - This is automatically done for you when you get `self.adj_list[i]` which is implemented as a python set.\n",
    "- Use the `DFSTimeCounter` class provided to keep track of DFS time.\n",
    "- The timer should be incremented just before we return from `dfs_visit` and record the finish time for a node.\n",
    "- Recall that a back edge in a DFS is encountered whenever we visit a node i and   encounter adjacent node j such that j has been discovered but not finished.\n",
    "  - If this happens, add (i,j) to the set of back edges.\n",
    "  \n",
    "The `dfs_visit` code does not return anything but updates the arguments `discovery_times`, `finish_times`, `dfs_tree_parent` and `dfs_back_edges` in place."
   ]
  },
  {
   "cell_type": "code",
   "execution_count": 13,
   "metadata": {
    "deletable": false,
    "nbgrader": {
     "cell_type": "code",
     "checksum": "4111461129b5ab3d517812a77ba6a8fb",
     "grade": false,
     "grade_id": "cell-8e614d9e157c3379",
     "locked": false,
     "schema_version": 3,
     "solution": true,
     "task": false
    }
   },
   "outputs": [],
   "source": [
    "# This is a useful data structure for implementing \n",
    "# a counter that counts the time.\n",
    "class DFSTimeCounter:\n",
    "    def __init__(self):\n",
    "        self.count = 0\n",
    "    \n",
    "    def reset(self):\n",
    "        self.count = 0\n",
    "    \n",
    "    def increment(self):\n",
    "        self.count = self.count + 1\n",
    "        \n",
    "    def get(self):\n",
    "        return self.count \n",
    "    \n",
    "class UndirectedGraph:\n",
    "    \n",
    "    # n is the number of vertices\n",
    "    # we will label the vertices from 0 to self.n -1 \n",
    "    # Initialize to an empty adjacency list\n",
    "    # We will store the outgoing edges using a set data structure\n",
    "    def __init__(self, n):\n",
    "        self.n = n\n",
    "        self.adj_list = [ set() for i in range(self.n) ]\n",
    "        \n",
    "    def add_edge(self, i, j):\n",
    "        assert 0 <= i < self.n\n",
    "        assert 0 <= j < self.n\n",
    "        assert i != j\n",
    "        # Make sure to add edge from i to j\n",
    "        self.adj_list[i].add(j)\n",
    "        # Also add edge from j to i\n",
    "        self.adj_list[j].add(i)\n",
    "        \n",
    "    # get a set of all vertices that \n",
    "    # are neighbors of the\n",
    "    # vertex i\n",
    "    def get_neighboring_vertices(self, i):\n",
    "        assert 0 <= i < self.n\n",
    "        return self.adj_list[i]\n",
    "    \n",
    "    # Function: dfs_visit\n",
    "    # Program a DFS visit of a graph.\n",
    "    # We maintain a list of discovery times and finish times.\n",
    "    # Initially all discovery times and finish times are set to None.\n",
    "    # When a vertex is first visited, we will set discovery time\n",
    "    # When DFS visit has processed all the neighbors then \n",
    "    # set the finish time.\n",
    "    # DFS visit should update the list of discovery and finish times in-place\n",
    "    # Arguments\n",
    "    #  i --> id of the vertex being visited.\n",
    "    #  dfs_timer --> An instance of DFSTimeCounter structure provided for you.\n",
    "    #  discovery --> discovery time of each vertex -- a list of size self.n\n",
    "    #                None if the vertex is yet to be visited.\n",
    "    #  finish --> finish time of each vertex -- a list of size self.n\n",
    "    #                None if the vertex is yet to be finished.\n",
    "    #  dfs_tree_parent --> the parent for for each node \n",
    "    #                       if we visited node j from node i, then j's parent is i.\n",
    "    #                      Do not forget to set tree_parent when you call dfs_visit \n",
    "    #                                                         on node j from node i.\n",
    "    #  dfs_back_edges --> a list of back edges.\n",
    "    #                     a back edge is an edge from i to j wherein\n",
    "    #                     DFS has already discovered j when i is discovered \n",
    "    #                                     but not finished j\n",
    "    \n",
    "    def dfs_visit(self, i, dfs_timer, discovery_times, finish_times, \n",
    "                        dfs_tree_parent, dfs_back_edges):\n",
    "        assert 0 <= i < self.n\n",
    "        assert discovery_times[i] == None\n",
    "        assert finish_times[i] == None\n",
    "        discovery_times[i] = dfs_timer.get()\n",
    "        dfs_timer.increment()\n",
    "        # your code here\n",
    "        for j in sorted(self.get_neighboring_vertices(i)):\n",
    "            if discovery_times[j] is None:\n",
    "                dfs_tree_parent[j] = i\n",
    "                self.dfs_visit(j, dfs_timer, discovery_times, finish_times, dfs_tree_parent, dfs_back_edges)\n",
    "            elif finish_times[i] is None and finish_times[j] is None:\n",
    "                #if dfs_tree_parent[i] != j:\n",
    "                dfs_back_edges.append((i,j))\n",
    "        finish_times[i] = dfs_timer.get()\n",
    "        dfs_timer.increment()\n",
    "    \n",
    "    # Function: dfs_traverse_graph\n",
    "    # Traverse the entire graph.\n",
    "    def dfs_traverse_graph(self):\n",
    "        dfs_timer = DFSTimeCounter()\n",
    "        discovery_times = [None]*self.n\n",
    "        finish_times = [None]*self.n\n",
    "        dfs_tree_parents = [None]*self.n\n",
    "        dfs_back_edges = []\n",
    "        for i in range(self.n):\n",
    "            if discovery_times[i] == None:\n",
    "                self.dfs_visit(i,dfs_timer, discovery_times, finish_times, \n",
    "                               dfs_tree_parents, dfs_back_edges)\n",
    "        # Clean up the back edges so that if (i,j) is a back edge then j cannot\n",
    "        # be i's parent.\n",
    "        non_trivial_back_edges = [(i,j) for (i,j) in dfs_back_edges if dfs_tree_parents[i] != j]\n",
    "        return (dfs_tree_parents, non_trivial_back_edges, discovery_times, finish_times)\n",
    "\n",
    "    "
   ]
  },
  {
   "cell_type": "code",
   "execution_count": 14,
   "metadata": {
    "deletable": false,
    "editable": false,
    "nbgrader": {
     "cell_type": "code",
     "checksum": "ffdede1347e9e19581b5d07cf9b4839a",
     "grade": true,
     "grade_id": "cell-9ee6a79fc058418c",
     "locked": true,
     "points": 15,
     "schema_version": 3,
     "solution": false,
     "task": false
    }
   },
   "outputs": [
    {
     "name": "stdout",
     "output_type": "stream",
     "text": [
      "DFS visit discovery and finish times given by your code.\n",
      "Node\t Discovery\t Finish\n",
      "0 \t 0\t\t 9\n",
      "1 \t 1\t\t 2\n",
      "2 \t 3\t\t 8\n",
      "3 \t 4\t\t 7\n",
      "4 \t 5\t\t 6\n",
      "Success -- discovery and finish times seem correct.\n",
      "\n",
      "Node\t DFS-Tree-Parent\n",
      "0 \t None\n",
      "1 \t 0\n",
      "2 \t 0\n",
      "3 \t 2\n",
      "4 \t 3\n",
      "Success-- DFS parents are set correctly.\n",
      "\n",
      "Back edges are\n",
      "(4, 0)\n",
      "(4, 2)\n",
      "Success -- 15 points!\n"
     ]
    }
   ],
   "source": [
    "# create the graph from problem 1A.\n",
    "g = UndirectedGraph(5)\n",
    "g.add_edge(0,1)\n",
    "g.add_edge(0,2)\n",
    "g.add_edge(0,4)\n",
    "g.add_edge(2,3)\n",
    "g.add_edge(2,4)\n",
    "g.add_edge(3,4)\n",
    "\n",
    "\n",
    "# Test DFS visit\n",
    "discovery_times = [None]*5\n",
    "finish_times = [None]*5\n",
    "dfs_tree_parents = [None]*5\n",
    "dfs_back_edges = []\n",
    "g.dfs_visit(0, DFSTimeCounter(), discovery_times, finish_times, dfs_tree_parents, dfs_back_edges )\n",
    "\n",
    "print('DFS visit discovery and finish times given by your code.')\n",
    "print('Node\\t Discovery\\t Finish')\n",
    "for i in range(5):\n",
    "    print(f'{i} \\t {discovery_times[i]}\\t\\t {finish_times[i]}')\n",
    "\n",
    "assert(discovery_times[0] == 0), f'Fail: Node 0 expected discovery time must be 0'\n",
    "assert(discovery_times[1] == 1), f'Fail: Node 1 expected discovery is 1'\n",
    "assert(finish_times[1] == 2), f'Fail: Node 1 finish time expected value is 2 (are you incrementing counter before you return from dfs_visit function and before recording finish times)'\n",
    "assert(discovery_times[2] == 3), f'Fail: Node 2 expected discovery is 3'\n",
    "assert(finish_times[2] == 8), f'Fail: Node 2 finish time expected value is 8'\n",
    "assert(discovery_times[3] == 4),f'Fail: Node 3 discovery time expected value is 4'\n",
    "assert(finish_times[3] == 7), f'Fail: Node 3 finish time expected value is 7'\n",
    "assert(discovery_times[4] == 5),f'Fail: Node 4 discovery time expected value is 5'\n",
    "assert(finish_times[4] == 6), f'Fail: Node 4 finish time expected value is 6'\n",
    "\n",
    "print('Success -- discovery and finish times seem correct.')\n",
    "print()\n",
    "    \n",
    "print('Node\\t DFS-Tree-Parent')\n",
    "for i in range(5):\n",
    "    print(f'{i} \\t {dfs_tree_parents[i]}')\n",
    "\n",
    "assert(dfs_tree_parents[0] == None), 'Fail: node 0 cannot have a parent (must be root)'\n",
    "assert(dfs_tree_parents[1] == 0), 'Fail: node 1 parent must be 0'\n",
    "assert(dfs_tree_parents[2] == 0), 'Fail: node 2 parent must be 0'\n",
    "assert(dfs_tree_parents[3] == 2), 'Fail: node 3 parent must be 2'\n",
    "assert(dfs_tree_parents[4] == 3), 'Fail: node 4 parent must be 3'\n",
    "\n",
    "print('Success-- DFS parents are set correctly.')\n",
    "\n",
    "\n",
    "print()\n",
    "# Filter out all trivial back eddges (i,j)  where j is simply the parent of i.\n",
    "# such back edges occur because we are treating an undirected edge as two directed edges\n",
    "# in either direction.\n",
    "non_trivial_back_edges = [(i,j) for (i,j) in dfs_back_edges if dfs_tree_parents[i] != j]\n",
    "print('Back edges are')\n",
    "for (i,j) in non_trivial_back_edges:\n",
    "    print(f'{(i,j)}')\n",
    "    \n",
    "    \n",
    "assert len(non_trivial_back_edges) == 2, f'Fail: There must be 2 non trivial back edges -- your code reports {len(non_trivial_back_edges)}. Note that (4,0) and (4,2) are the only non trivial backedges'\n",
    "assert (4,2) in non_trivial_back_edges, '(4,2) must be a backedge that is non trivial'\n",
    "assert (4,0) in non_trivial_back_edges, '(4,3) must be a non-trivial backedges'\n",
    "\n",
    "print('Success -- 15 points!')"
   ]
  },
  {
   "attachments": {
    "image.png": {
     "image/png": "[encoded data removed]"
    }
   },
   "cell_type": "markdown",
   "metadata": {
    "deletable": false,
    "editable": false,
    "nbgrader": {
     "cell_type": "markdown",
     "checksum": "e48da38e4c28528d64ccda37d1300153",
     "grade": false,
     "grade_id": "cell-aba42393e98c02bf",
     "locked": true,
     "schema_version": 3,
     "solution": false,
     "task": false
    }
   },
   "source": [
    "## 1 C \n",
    "\n",
    "Find the number of (maximal) strongly connected components in an undirected graph from the results of a DFS. Implement the function `num_connected_components` that takes in a graph `g` and returns a number that indicates the number of MSCCs in the directed graph.\n",
    "\n",
    "#### Example\n",
    "\n",
    "Consider the graph below \n",
    "\n",
    "![image.png](attachment:image.png)\n",
    "\n",
    "It has 3 maximal strongly connected components that have vertices $\\{0,1,2,3,4\\}$, \n",
    "$\\{5,6\\}$ and $\\{7\\}$, respectively. Given such a graph, your function must return the number 3.\n",
    "\n",
    "**Hint** Examine  the `dfs_traverse_graph` function carefully. How do you distinguish different connected components in a graph from the DFS tree?"
   ]
  },
  {
   "cell_type": "code",
   "execution_count": 21,
   "metadata": {
    "deletable": false,
    "nbgrader": {
     "cell_type": "code",
     "checksum": "2c2b28211918e4087545915c20efadb1",
     "grade": false,
     "grade_id": "cell-27a98e937e281556",
     "locked": false,
     "schema_version": 3,
     "solution": true,
     "task": false
    }
   },
   "outputs": [],
   "source": [
    "def num_connected_components(g): # g is an UndirectedGraph class\n",
    "    # your code here\n",
    "    dfs_timer = DFSTimeCounter()\n",
    "    discovery_times = [None]*g.n\n",
    "    finish_times = [None]*g.n\n",
    "    dfs_tree_parents = [None]*g.n\n",
    "    dfs_back_edges = []\n",
    "    ncc = 0\n",
    "    for i in range(g.n):\n",
    "        if discovery_times[i] == None:\n",
    "            g.dfs_visit(i,dfs_timer, discovery_times, finish_times, \n",
    "                           dfs_tree_parents, dfs_back_edges)\n",
    "            ncc += 1\n",
    "    return ncc    "
   ]
  },
  {
   "cell_type": "code",
   "execution_count": 22,
   "metadata": {
    "deletable": false,
    "editable": false,
    "nbgrader": {
     "cell_type": "code",
     "checksum": "9b541c0a41ad3fa2a497d2b2eea89d02",
     "grade": true,
     "grade_id": "cell-fc8c170d3498cb61",
     "locked": true,
     "points": 10,
     "schema_version": 3,
     "solution": false,
     "task": false
    }
   },
   "outputs": [],
   "source": [
    "# create the graph from problem 1A.\n",
    "g = UndirectedGraph(5)\n",
    "g.add_edge(0,1)\n",
    "g.add_edge(0,2)\n",
    "g.add_edge(0,4)\n",
    "g.add_edge(2,3)\n",
    "g.add_edge(2,4)\n",
    "g.add_edge(3,4)\n",
    "\n",
    "assert num_connected_components(g) == 1, f' Test A failed: g must have 1 connected component. Your code returns {num_connected_components(g)}'\n",
    "\n",
    "\n",
    "g2 = UndirectedGraph(7)\n",
    "g2.add_edge(0,1)\n",
    "g2.add_edge(0,2)\n",
    "g2.add_edge(0,4)\n",
    "g2.add_edge(2,3)\n",
    "g2.add_edge(2,4)\n",
    "g2.add_edge(3,4)\n",
    "g2.add_edge(5,6)\n",
    "\n",
    "assert num_connected_components(g2) == 2, f' Test B failed: g2 must have 2 connected components. Your code returns {num_connected_components(g2)}'\n",
    "\n",
    "\n",
    "g3 = UndirectedGraph(8)\n",
    "g3.add_edge(0,1)\n",
    "g3.add_edge(0,2)\n",
    "g3.add_edge(0,4)\n",
    "g3.add_edge(2,3)\n",
    "g3.add_edge(2,4)\n",
    "g3.add_edge(3,4)\n",
    "g3.add_edge(5,6)\n",
    "\n",
    "assert num_connected_components(g3) == 3, f' Test C failed: g3 must have 3 connected components. Your code returns {num_connected_components(g3)}'\n",
    "\n",
    "g3.add_edge(7,5)\n",
    "assert num_connected_components(g3) == 2, f' Test D failed: g3 must now have 2 connected components. Your code returns {num_connected_components(g3)}'\n",
    "\n"
   ]
  },
  {
   "attachments": {
    "image-2.png": {
     "image/png": "[encoded data removed]"
    }
   },
   "cell_type": "markdown",
   "metadata": {
    "deletable": false,
    "editable": false,
    "nbgrader": {
     "cell_type": "markdown",
     "checksum": "d846085950dfbcea95c6259b63da3091",
     "grade": false,
     "grade_id": "cell-02a1d406cdbfa506",
     "locked": true,
     "schema_version": 3,
     "solution": false,
     "task": false
    }
   },
   "source": [
    "## 1C \n",
    "\n",
    "We now wish to find the set of all nodes in the graph that belong to some cycle.\n",
    "\n",
    "###  Example\n",
    "\n",
    "Consider the example below:\n",
    "![image-2.png](attachment:image-2.png)\n",
    "\n",
    "Nodes $\\{0, 2, 3, 4\\}$ lie on some cycle: example node 4 lies on many cycles one such cycle being $2-3-4$. whereas the other nodes do not.\n",
    "\n",
    "__Note__ We do _not_ treat undirected edges as cycles although in our data structure, when an undirected edge $(i,j)$ is represented as two \"directed\" edges $(i,j)$ and $(j,i)$, it gives the impression that they are in a cycle of length 2.\n",
    "\n",
    "Complete the function `find_all_nodes_in_cycle` that given a graph returns a python set of nodes in a cycle.\n",
    "\n",
    "**Hint** Perform a DFS traversal and for each _non trivial_ back edge discovered, use the DFS tree to figure out the nodes that must be on the cycle corresponding to that back edge.\n"
   ]
  },
  {
   "cell_type": "code",
   "execution_count": 33,
   "metadata": {
    "deletable": false,
    "nbgrader": {
     "cell_type": "code",
     "checksum": "8a29aeb046ab6f14af974a72808fba48",
     "grade": false,
     "grade_id": "cell-24ff7ca8a5d0b319",
     "locked": false,
     "schema_version": 3,
     "solution": true,
     "task": false
    }
   },
   "outputs": [],
   "source": [
    "def find_all_nodes_in_cycle(g): # g is an UndirectedGraph class\n",
    "    set_of_nodes = set()\n",
    "    # your code here\n",
    "    (dfs_tree_parents, non_trivial_back_edges, discovery_times, finish_times) = g.dfs_traverse_graph()\n",
    "    for back_edge in non_trivial_back_edges:\n",
    "        i, j = back_edge\n",
    "        set_of_nodes.add(j)\n",
    "        k = i\n",
    "        while k != j:\n",
    "            set_of_nodes.add(k)\n",
    "            k = dfs_tree_parents[k]\n",
    "        #print(set_of_nodes)\n",
    "    return set_of_nodes"
   ]
  },
  {
   "cell_type": "code",
   "execution_count": 34,
   "metadata": {
    "deletable": false,
    "editable": false,
    "nbgrader": {
     "cell_type": "code",
     "checksum": "7d8f4bf01ef4a0680e78f7a55cc9208b",
     "grade": true,
     "grade_id": "cell-d396cad1ed6a2c85",
     "locked": true,
     "points": 10,
     "schema_version": 3,
     "solution": false,
     "task": false
    }
   },
   "outputs": [
    {
     "name": "stdout",
     "output_type": "stream",
     "text": [
      "Your code returns set of nodes: {0, 2, 3, 4}\n",
      "Your code returns set of nodes: {0, 2, 3, 4, 5, 6, 7}\n",
      "All tests passedd: 10 points!\n"
     ]
    }
   ],
   "source": [
    "#this is the example that we had for the problem.\n",
    "g3 = UndirectedGraph(8)\n",
    "g3.add_edge(0,1)\n",
    "g3.add_edge(0,2)\n",
    "g3.add_edge(0,4)\n",
    "g3.add_edge(2,3)\n",
    "g3.add_edge(2,4)\n",
    "g3.add_edge(3,4)\n",
    "g3.add_edge(5,6)\n",
    "g3.add_edge(5,7)\n",
    "\n",
    "s = find_all_nodes_in_cycle(g3)\n",
    "print(f'Your code returns set of nodes: {s}')\n",
    "assert s == {0,2,3,4}, 'Fail: Set of nodes must be {0,2,3,4}.'\n",
    "\n",
    "# let's also add the edge 6,7\n",
    "g3.add_edge(6,7)\n",
    "s1 = find_all_nodes_in_cycle(g3)\n",
    "print(f'Your code returns set of nodes: {s1}')\n",
    "assert s1 == {0,2,3,4,5,6,7}, 'Fail: Set of nodes must be {0,2,3,4,5,6,7}.'\n",
    "\n",
    "print('All tests passedd: 10 points!')"
   ]
  },
  {
   "cell_type": "markdown",
   "metadata": {
    "deletable": false,
    "editable": false,
    "nbgrader": {
     "cell_type": "markdown",
     "checksum": "7dee1491854a2c4c3bbdbabb6073e56b",
     "grade": false,
     "grade_id": "cell-3093c051ba65e7a1",
     "locked": true,
     "schema_version": 3,
     "solution": false,
     "task": false
    }
   },
   "source": [
    "## Solution to Problem 1 (A)\n",
    "\n",
    "DFS works as follows\n",
    " - Start at node 0 (time 0)\n",
    " - Discover node 1 (time 1)\n",
    " - Finish node 1 (time 2)\n",
    " - Discover node 2 (time 3)\n",
    " - Discover node 3 (time 4)\n",
    " - Discover node 4 (time 5)\n",
    " - Finish node 4 (time 6)\n",
    " - Finish node 3 (time 7)\n",
    " - Finish node 2 (time 8)\n",
    " - Finish node 0 (time 9)\n",
    " \n",
    "The table of discovery and finish times are \n",
    "\n",
    "- Node 0 - discovery : 0 finish: 9\n",
    "- Node 1 - discovery : 1 finish : 2\n",
    "- Node 2 - discovery: 3 finish: 8\n",
    "- Node 3 - discovery: 4 finish 7\n",
    "- Node 4 - discovery: 5 finish 6\n",
    "\n",
    "The parents are\n",
    "\n",
    "- Node 0 -- None (root node)\n",
    "- Node 1 -- 0\n",
    "- Node 2 -- 0\n",
    "- Node 3 -- 2\n",
    "- Node 4 -- 3\n",
    "\n",
    "The back edges discovered are : (4,2) and (4,0)\n"
   ]
  },
  {
   "cell_type": "markdown",
   "metadata": {
    "deletable": false,
    "editable": false,
    "nbgrader": {
     "cell_type": "markdown",
     "checksum": "1da6eb61e007079fe137d6a4fb15932d",
     "grade": false,
     "grade_id": "cell-c2f1af78147d733d",
     "locked": true,
     "schema_version": 3,
     "solution": false,
     "task": false
    }
   },
   "source": [
    "### That's all folks"
   ]
  }
 ],
 "metadata": {
  "kernelspec": {
   "display_name": "Python 3",
   "language": "python",
   "name": "python3"
  },
  "language_info": {
   "codemirror_mode": {
    "name": "ipython",
    "version": 3
   },
   "file_extension": ".py",
   "mimetype": "text/x-python",
   "name": "python",
   "nbconvert_exporter": "python",
   "pygments_lexer": "ipython3",
   "version": "3.7.6"
  }
 },
 "nbformat": 4,
 "nbformat_minor": 5
}
