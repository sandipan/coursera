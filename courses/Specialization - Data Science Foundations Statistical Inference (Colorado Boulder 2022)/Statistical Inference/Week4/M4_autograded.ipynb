{
 "cells": [
  {
   "cell_type": "markdown",
   "metadata": {
    "deletable": false,
    "editable": false,
    "nbgrader": {
     "cell_type": "markdown",
     "checksum": "6d6b6e8cf564458ce365ee12484169d2",
     "grade": false,
     "grade_id": "cell-4bb1ffa9e17a57a8",
     "locked": true,
     "schema_version": 3,
     "solution": false,
     "task": false
    }
   },
   "source": [
    "# Module 4 Autograded Assignment"
   ]
  },
  {
   "cell_type": "code",
   "execution_count": 1,
   "metadata": {
    "deletable": false,
    "editable": false,
    "nbgrader": {
     "cell_type": "code",
     "checksum": "b5e68d80c9b22f7f5f28d43155ad6af2",
     "grade": false,
     "grade_id": "cell-d930cbd81261f49f",
     "locked": true,
     "schema_version": 3,
     "solution": false,
     "task": false
    }
   },
   "outputs": [],
   "source": [
    "# Load Necesary Libraries\n",
    "library(testthat)\n",
    "library(ggplot2)"
   ]
  },
  {
   "cell_type": "markdown",
   "metadata": {
    "deletable": false,
    "editable": false,
    "nbgrader": {
     "cell_type": "markdown",
     "checksum": "8fe335bb6c433339c6c509edefcdb813",
     "grade": false,
     "grade_id": "cell-d6146ca409b9349c",
     "locked": true,
     "schema_version": 3,
     "solution": false,
     "task": false
    }
   },
   "source": [
    "# Problem 1\n",
    "\n",
    "<img src=\"ralphie-run.jpg\" style=\"width:600px;\"/>\n",
    "\n",
    "Ralphie is fascinated with sports and sports fans, and wants to how many people go to the football games to see her run across the field. However, she can't ask the game organizers to share their numbers with her (because she's a buffalo) so she decides to count how many people are in the stadium herself. But counting while running is difficult, so her counts may be incorrect. To address this problem, Ralphie has hired $399$ other buffalo to hide amongst the stadium and count the number of attendees. Each buffalo counted at a total of $n=10$ games, and their results can be seen below. Note that this problem assumes that all of the games have the same underlying population.\n",
    "\n",
    "We want to help Ralphie determine the average number of attendees. To do that, we can use confidence intervals. Let's begin by loading in each Buffalo's counts."
   ]
  },
  {
   "cell_type": "code",
   "execution_count": 2,
   "metadata": {
    "deletable": false,
    "editable": false,
    "nbgrader": {
     "cell_type": "code",
     "checksum": "a69e3c98797457c476b342df364d5d6b",
     "grade": false,
     "grade_id": "cell-ad38d077713c3aae",
     "locked": true,
     "schema_version": 3,
     "solution": false,
     "task": false
    }
   },
   "outputs": [
    {
     "data": {
      "text/html": [
       "<table>\n",
       "<caption>A data.frame: 6 × 10</caption>\n",
       "<thead>\n",
       "\t<tr><th></th><th scope=col>game1</th><th scope=col>game2</th><th scope=col>game3</th><th scope=col>game4</th><th scope=col>game5</th><th scope=col>game6</th><th scope=col>game7</th><th scope=col>game8</th><th scope=col>game9</th><th scope=col>game10</th></tr>\n",
       "\t<tr><th></th><th scope=col>&lt;int&gt;</th><th scope=col>&lt;int&gt;</th><th scope=col>&lt;int&gt;</th><th scope=col>&lt;int&gt;</th><th scope=col>&lt;int&gt;</th><th scope=col>&lt;int&gt;</th><th scope=col>&lt;int&gt;</th><th scope=col>&lt;int&gt;</th><th scope=col>&lt;int&gt;</th><th scope=col>&lt;int&gt;</th></tr>\n",
       "</thead>\n",
       "<tbody>\n",
       "\t<tr><th scope=row>1</th><td>32577</td><td>23042</td><td>32978</td><td>32634</td><td>27487</td><td>15760</td><td>19428</td><td>23231</td><td>24965</td><td>39427</td></tr>\n",
       "\t<tr><th scope=row>2</th><td>29581</td><td>20205</td><td>18114</td><td>23263</td><td>23204</td><td>22530</td><td>26513</td><td>19648</td><td>27614</td><td>17574</td></tr>\n",
       "\t<tr><th scope=row>3</th><td>23654</td><td>27264</td><td>25800</td><td>29825</td><td>24657</td><td>28021</td><td>31514</td><td>20854</td><td>17292</td><td>25280</td></tr>\n",
       "\t<tr><th scope=row>4</th><td>23585</td><td>21742</td><td>22400</td><td>21103</td><td>29360</td><td>31911</td><td>30952</td><td>22422</td><td>32429</td><td>23323</td></tr>\n",
       "\t<tr><th scope=row>5</th><td>35547</td><td>28364</td><td>22283</td><td>20007</td><td>18000</td><td>18606</td><td>15617</td><td>31939</td><td>29992</td><td>23636</td></tr>\n",
       "\t<tr><th scope=row>6</th><td>26596</td><td>22739</td><td>39648</td><td>20227</td><td>24670</td><td>26500</td><td>28709</td><td>23964</td><td>11656</td><td>17418</td></tr>\n",
       "</tbody>\n",
       "</table>\n"
      ],
      "text/latex": [
       "A data.frame: 6 × 10\n",
       "\\begin{tabular}{r|llllllllll}\n",
       "  & game1 & game2 & game3 & game4 & game5 & game6 & game7 & game8 & game9 & game10\\\\\n",
       "  & <int> & <int> & <int> & <int> & <int> & <int> & <int> & <int> & <int> & <int>\\\\\n",
       "\\hline\n",
       "\t1 & 32577 & 23042 & 32978 & 32634 & 27487 & 15760 & 19428 & 23231 & 24965 & 39427\\\\\n",
       "\t2 & 29581 & 20205 & 18114 & 23263 & 23204 & 22530 & 26513 & 19648 & 27614 & 17574\\\\\n",
       "\t3 & 23654 & 27264 & 25800 & 29825 & 24657 & 28021 & 31514 & 20854 & 17292 & 25280\\\\\n",
       "\t4 & 23585 & 21742 & 22400 & 21103 & 29360 & 31911 & 30952 & 22422 & 32429 & 23323\\\\\n",
       "\t5 & 35547 & 28364 & 22283 & 20007 & 18000 & 18606 & 15617 & 31939 & 29992 & 23636\\\\\n",
       "\t6 & 26596 & 22739 & 39648 & 20227 & 24670 & 26500 & 28709 & 23964 & 11656 & 17418\\\\\n",
       "\\end{tabular}\n"
      ],
      "text/markdown": [
       "\n",
       "A data.frame: 6 × 10\n",
       "\n",
       "| <!--/--> | game1 &lt;int&gt; | game2 &lt;int&gt; | game3 &lt;int&gt; | game4 &lt;int&gt; | game5 &lt;int&gt; | game6 &lt;int&gt; | game7 &lt;int&gt; | game8 &lt;int&gt; | game9 &lt;int&gt; | game10 &lt;int&gt; |\n",
       "|---|---|---|---|---|---|---|---|---|---|---|\n",
       "| 1 | 32577 | 23042 | 32978 | 32634 | 27487 | 15760 | 19428 | 23231 | 24965 | 39427 |\n",
       "| 2 | 29581 | 20205 | 18114 | 23263 | 23204 | 22530 | 26513 | 19648 | 27614 | 17574 |\n",
       "| 3 | 23654 | 27264 | 25800 | 29825 | 24657 | 28021 | 31514 | 20854 | 17292 | 25280 |\n",
       "| 4 | 23585 | 21742 | 22400 | 21103 | 29360 | 31911 | 30952 | 22422 | 32429 | 23323 |\n",
       "| 5 | 35547 | 28364 | 22283 | 20007 | 18000 | 18606 | 15617 | 31939 | 29992 | 23636 |\n",
       "| 6 | 26596 | 22739 | 39648 | 20227 | 24670 | 26500 | 28709 | 23964 | 11656 | 17418 |\n",
       "\n"
      ],
      "text/plain": [
       "  game1 game2 game3 game4 game5 game6 game7 game8 game9 game10\n",
       "1 32577 23042 32978 32634 27487 15760 19428 23231 24965 39427 \n",
       "2 29581 20205 18114 23263 23204 22530 26513 19648 27614 17574 \n",
       "3 23654 27264 25800 29825 24657 28021 31514 20854 17292 25280 \n",
       "4 23585 21742 22400 21103 29360 31911 30952 22422 32429 23323 \n",
       "5 35547 28364 22283 20007 18000 18606 15617 31939 29992 23636 \n",
       "6 26596 22739 39648 20227 24670 26500 28709 23964 11656 17418 "
      ]
     },
     "metadata": {},
     "output_type": "display_data"
    }
   ],
   "source": [
    "data.buffalo = read.csv(\"buffalo.csv\", sep=\",\")\n",
    "data.buffalo = data.buffalo[,-1]\n",
    "head(data.buffalo)"
   ]
  },
  {
   "cell_type": "markdown",
   "metadata": {
    "deletable": false,
    "editable": false,
    "nbgrader": {
     "cell_type": "markdown",
     "checksum": "1dab63a41eb0ddb753f6134b6a03c029",
     "grade": false,
     "grade_id": "cell-98f36a215a447fce",
     "locked": true,
     "schema_version": 3,
     "solution": false,
     "task": false
    }
   },
   "source": [
    "**Part A)** Part A has been temporarily removed from this assignment while the team works out some autograder issues. We apologize for the inconvenience!"
   ]
  },
  {
   "cell_type": "markdown",
   "metadata": {
    "deletable": false,
    "editable": false,
    "nbgrader": {
     "cell_type": "markdown",
     "checksum": "07fc7a62fffcbc0866b6af29774290c5",
     "grade": false,
     "grade_id": "cell-ec20ca51a73a758d",
     "locked": true,
     "schema_version": 3,
     "solution": false,
     "task": false
    }
   },
   "source": [
    "**Part B)** Theoretical Interlude\n",
    "\n",
    "When Ralph (Ralphie's cousin) ran his code from **Part A**, he got the confidence interval $[19,571, 25,249]$ for the mean number of attendees. But he's not sure how to interpret his confidence interval so he's asked you for help. For each of the following statements, answer `TRUE` or `FALSE` into the corresponding answer variable for whether the statement is correct.\n",
    "\n",
    "**1.** If Ralph has no other evidence regarding the true mean number of attendees, he could say there is a $90\\%$ chance that the population's true mean falls between $19,571$ and $25,249$.\n",
    "\n",
    "**2.** If Ralph counts the number of attendees at another game, there is a $90\\%$ chance that the counted number will be between $19,571$ and $25,249$. \n",
    "\n",
    "**3.** If Ralph also calculates a $95\\%$ confidence interval for his data, then the $95\\%$ interval will be wider than the $90\\%$ interval.\n",
    "\n",
    "**4.** If Ralph counts the number of attendees at an $11^{th}$ game, adds that count to his original data and then calculates another $90\\%$ confidence interval, then the new interval will be narrower than the original one (i.e. the difference between the upper and lower values will be smaller)."
   ]
  },
  {
   "cell_type": "code",
   "execution_count": 137,
   "metadata": {
    "deletable": false,
    "nbgrader": {
     "cell_type": "code",
     "checksum": "463125e2022ab04d9aa5161ee5194814",
     "grade": false,
     "grade_id": "cell-b1797b09c77fdec9",
     "locked": false,
     "schema_version": 3,
     "solution": true,
     "task": false
    }
   },
   "outputs": [
    {
     "name": "stdout",
     "output_type": "stream",
     "text": [
      "[1]     2 27809  6742   718 54900 54182\n",
      "[1]     3 29532  5624 21879 37184 15305\n",
      "[1]     4 30307  4847 25429 35185  9756\n",
      "[1]     5 29743  4383 25895 33591  7696\n",
      "[1]     6 27413  6925 21783 33042 11259\n",
      "[1]     7 26272  7005 20851 31692 10841\n",
      "[1]     8 25892  6574 20976 30808  9832\n",
      "[1]     9 25789  6157 21299 30279  8980\n",
      "[1]    10 27152  7231 21979 32326 10347\n"
     ]
    }
   ],
   "source": [
    "# Answer each question with a boolean, either TRUE or FALSE\n",
    "prob.2.b.1 = FALSE\n",
    "\n",
    "prob.2.b.2 = FALSE\n",
    "\n",
    "prob.2.b.3 = TRUE\n",
    "\n",
    "prob.2.b.4 = TRUE #FALSE\n",
    "\n",
    "# your code here\n",
    "#print(dim(data.buffalo))\n",
    "ms = rowMeans(data.buffalo)\n",
    "sds = apply(data.buffalo, 1, sd)\n",
    "n <- 10 \n",
    "t95 <- qt(0.975, n-1)\n",
    "#cbind.data.frame(lb = as.integer(ms - t95*sds/sqrt(n)), ub = as.integer(ms + t95*sds/sqrt(n)))\n",
    "obs <- as.integer(data.buffalo[1,])\n",
    "for (i in 2:ncol(data.buffalo)) {\n",
    "    t95 <- qt(0.975, i-1)\n",
    "    m <- mean(obs[1:i])\n",
    "    s <- sd(obs[1:i])\n",
    "    lb <- as.integer(m - t95*s/sqrt(n))\n",
    "    ub <- as.integer(m + t95*s/sqrt(n))\n",
    "    print(c(i, as.integer(m), as.integer(s), lb, ub, ub-lb))\n",
    "}"
   ]
  },
  {
   "cell_type": "code",
   "execution_count": 89,
   "metadata": {
    "deletable": false,
    "editable": false,
    "nbgrader": {
     "cell_type": "code",
     "checksum": "91f1a0ca25b2ad73b86d6d312b07e16f",
     "grade": true,
     "grade_id": "cell-ac30f4a95c911c14",
     "locked": true,
     "points": 3,
     "schema_version": 3,
     "solution": false,
     "task": false
    }
   },
   "outputs": [],
   "source": [
    "# Hidden Test Cell"
   ]
  },
  {
   "cell_type": "code",
   "execution_count": 90,
   "metadata": {
    "deletable": false,
    "editable": false,
    "nbgrader": {
     "cell_type": "code",
     "checksum": "c66770dac08e676df265f5c039012c33",
     "grade": true,
     "grade_id": "cell-49d3bfc5ab0f8ee3",
     "locked": true,
     "points": 3,
     "schema_version": 3,
     "solution": false,
     "task": false
    }
   },
   "outputs": [],
   "source": [
    "# Hidden Test Cell"
   ]
  },
  {
   "cell_type": "code",
   "execution_count": 91,
   "metadata": {
    "deletable": false,
    "editable": false,
    "nbgrader": {
     "cell_type": "code",
     "checksum": "47cd4e498736ea27bb2937f4bdab01a9",
     "grade": true,
     "grade_id": "cell-23d903b2cc7d06ac",
     "locked": true,
     "points": 3,
     "schema_version": 3,
     "solution": false,
     "task": false
    }
   },
   "outputs": [],
   "source": [
    "# Hidden Test Cell"
   ]
  },
  {
   "cell_type": "code",
   "execution_count": 92,
   "metadata": {
    "deletable": false,
    "editable": false,
    "nbgrader": {
     "cell_type": "code",
     "checksum": "f72cfef390cafe5c26c1733a2b75147c",
     "grade": true,
     "grade_id": "cell-bfefc5707fa7cdde",
     "locked": true,
     "points": 3,
     "schema_version": 3,
     "solution": false,
     "task": false
    }
   },
   "outputs": [],
   "source": [
    "# Hidden Test Cell"
   ]
  },
  {
   "cell_type": "markdown",
   "metadata": {
    "deletable": false,
    "editable": false,
    "nbgrader": {
     "cell_type": "markdown",
     "checksum": "afcf608141f7e144270d1c7f63f0d7c0",
     "grade": false,
     "grade_id": "cell-09a7cc1b476fb366",
     "locked": true,
     "schema_version": 3,
     "solution": false,
     "task": false
    }
   },
   "source": [
    "**Part C)**\n",
    "\n",
    "Now let's look at the data from all the Buffalo. If we calculate the $60\\%$ confidence interval for every buffalo's count (i.e. data sample), how many CIs do we expect to contain the true mean? Store your answer in `theoretical_hits`.\n",
    "\n",
    "Then we need to check our theoretical answer with our actual data. Calculate the $60\\%$ confidence interval for each buffalo's count. Then commpute how many of those CIs contain the true mean. Assume that the true mean is $25,000$. Store this value in `sample_hits`. Does this value match the theoretical value?\n",
    "\n",
    "It may be helpful to visualize the Confidence Intervals, along with the true mean. Create a plot for the Confidence Intervals for the first $40$ rows of the dataframe. Also plot  `true_mean=25000` as a horizontal dotted line. **This plot will not be graded**, but may help you get a better understanding of different confidence intervals for the same underlying population. We recommend looking into the `ggplot` package to help with this task."
   ]
  },
  {
   "cell_type": "code",
   "execution_count": 135,
   "metadata": {
    "deletable": false,
    "nbgrader": {
     "cell_type": "code",
     "checksum": "bd6aa3f2e6cd641a3469403c38d7faff",
     "grade": false,
     "grade_id": "cell-94d1a33e1c15cccb",
     "locked": false,
     "schema_version": 3,
     "solution": true,
     "task": false
    }
   },
   "outputs": [
    {
     "data": {
      "text/html": [
       "249"
      ],
      "text/latex": [
       "249"
      ],
      "text/markdown": [
       "249"
      ],
      "text/plain": [
       "[1] 249"
      ]
     },
     "metadata": {},
     "output_type": "display_data"
    }
   ],
   "source": [
    "theoretical_hits =  as.integer(nrow(data.buffalo)*0.6)\n",
    "sample_hits = 249\n",
    "\n",
    "CI_level = 0.6\n",
    "true_mean = 25000\n",
    "\n",
    "# your code here\n",
    "ms = rowMeans(data.buffalo)\n",
    "sds = apply(data.buffalo, 1, sd)\n",
    "n <- 10\n",
    "#t80 <- qt(1-(1-CI_level)/2, n-1)\n",
    "t80 <- qt(0.8, n-1)\n",
    "df <- cbind.data.frame(m = ms, lb = as.integer(ms - t80*sds/sqrt(n)), ub = as.integer(ms + t80*sds/sqrt(n)))\n",
    "df$hits <- (true_mean >= df$lb) & (true_mean <= df$ub)\n",
    "sum(df$hits)\n",
    "#dim(df)\n",
    "#head(df)"
   ]
  },
  {
   "cell_type": "code",
   "execution_count": 104,
   "metadata": {
    "deletable": false,
    "nbgrader": {
     "cell_type": "code",
     "checksum": "42a598e5a21dd1d00c85b0b3fa3cc384",
     "grade": false,
     "grade_id": "cell-5ee4a460a70bf0a0",
     "locked": false,
     "schema_version": 3,
     "solution": true,
     "task": false
    }
   },
   "outputs": [
    {
     "data": {
      "image/png": "[encoded data removed]",
      "text/plain": [
       "plot without title"
      ]
     },
     "metadata": {
      "image/png": {
       "height": 420,
       "width": 420
      },
      "text/plain": {
       "height": 420,
       "width": 420
      }
     },
     "output_type": "display_data"
    }
   ],
   "source": [
    "CIs_to_plot = 40\n",
    "g = ggplot()\n",
    "\n",
    "# your code here\n",
    "ggplot(data=df[1:CIs_to_plot,], aes(x=1:CIs_to_plot, y=m)) + #geom_linerange(aes(ymax=ub,ymin=lb)) + \n",
    "    geom_errorbar(aes(ymax=ub,ymin=lb),color='green', alpha=0.75, width=5) +\n",
    "    geom_hline(yintercept=true_mean, color='red')"
   ]
  },
  {
   "cell_type": "code",
   "execution_count": 106,
   "metadata": {
    "deletable": false,
    "editable": false,
    "nbgrader": {
     "cell_type": "code",
     "checksum": "c431c8a68c19d055bf10546f3f2ce247",
     "grade": true,
     "grade_id": "cell-58a3966c1df8962e",
     "locked": true,
     "points": 10,
     "schema_version": 3,
     "solution": false,
     "task": false
    }
   },
   "outputs": [],
   "source": [
    "# Hidden Test Cell"
   ]
  },
  {
   "cell_type": "markdown",
   "metadata": {
    "deletable": false,
    "editable": false,
    "nbgrader": {
     "cell_type": "markdown",
     "checksum": "8638368d3e9174b14caa0240b6ee6b4e",
     "grade": false,
     "grade_id": "cell-4a0ade90559ae072",
     "locked": true,
     "schema_version": 3,
     "solution": false,
     "task": false
    }
   },
   "source": [
    "# Problem 2\n",
    "\n",
    "Suppose you run two different email Ad campaigns over many days and record the amount of traffic driven to your website on days that each Ad is sent. In particular, suppose that Ad 1 is sent on 60 different days and generates an average of 2.2 million page views per day with an sd of 1 million views, and Ad 2 is sent on 40 different days and generates an average of 2.5 million page views per day with an sd of 0.75 million views."
   ]
  },
  {
   "cell_type": "markdown",
   "metadata": {
    "deletable": false,
    "editable": false,
    "nbgrader": {
     "cell_type": "markdown",
     "checksum": "e40e72d0a57a7e3bdbdc651266db1139",
     "grade": false,
     "grade_id": "cell-c606c4529a6b8f96",
     "locked": true,
     "schema_version": 3,
     "solution": false,
     "task": false
    }
   },
   "source": [
    "**Part A)** \n",
    "\n",
    "Find a 95% confidence interval for the difference in average page views per day (in units of millions of views). Save the upper bound as `conf.int.upper` and the lower bound as `conf.int.lower`. Round your answers to have three decimal places."
   ]
  },
  {
   "cell_type": "code",
   "execution_count": 129,
   "metadata": {
    "deletable": false,
    "nbgrader": {
     "cell_type": "code",
     "checksum": "6ad65c2fb578ddf6e668d249d5b9723b",
     "grade": false,
     "grade_id": "cell-d6dfdb2c4ec68b34",
     "locked": false,
     "schema_version": 3,
     "solution": true,
     "task": false
    }
   },
   "outputs": [
    {
     "data": {
      "text/html": [
       "<style>\n",
       ".list-inline {list-style: none; margin:0; padding: 0}\n",
       ".list-inline>li {display: inline-block}\n",
       ".list-inline>li:not(:last-child)::after {content: \"\\00b7\"; padding: 0 .5ex}\n",
       "</style>\n",
       "<ol class=list-inline><li>-0.644</li><li>0.044</li></ol>\n"
      ],
      "text/latex": [
       "\\begin{enumerate*}\n",
       "\\item -0.644\n",
       "\\item 0.044\n",
       "\\end{enumerate*}\n"
      ],
      "text/markdown": [
       "1. -0.644\n",
       "2. 0.044\n",
       "\n",
       "\n"
      ],
      "text/plain": [
       "[1] -0.644  0.044"
      ]
     },
     "metadata": {},
     "output_type": "display_data"
    }
   ],
   "source": [
    "conf.int.upper = 0.044\n",
    "conf.int.lower = -0.644\n",
    "\n",
    "# your code here\n",
    "n1 <- 60\n",
    "x1bar <- 2.2 #*1e6\n",
    "s1 <- 1 #1e6\n",
    "n2 <- 40\n",
    "x2bar <- 2.5 #*1e6\n",
    "s2 <- 0.75 #*1e6\n",
    "#df <- (s1^2/n1+s2^2/n2)^2 / ((s1^2/n1)^2/(n1-1) + (s2^2/n2)^2/(n2-1))\n",
    "#t975 <- qt(0.975, df)\n",
    "z975 <- qnorm(0.975)\n",
    "sf <- sqrt(s1^2/n1+s2^2/n2)\n",
    "xbar <- x1bar-x2bar\n",
    "round(c((xbar-z975*sf), (xbar+z975*sf)), 3)\n",
    "#c((xbar-z975*sf)/1e6, (xbar+z975*sf)/1e6)\n",
    "#c(xbar-t975*sf, xbar+t975*sf)"
   ]
  },
  {
   "cell_type": "code",
   "execution_count": 130,
   "metadata": {
    "deletable": false,
    "editable": false,
    "nbgrader": {
     "cell_type": "code",
     "checksum": "c875193bbcd527b0f2d9673c06f11199",
     "grade": true,
     "grade_id": "cell-71bd261dc3a4a1e0",
     "locked": true,
     "points": 11,
     "schema_version": 3,
     "solution": false,
     "task": false
    }
   },
   "outputs": [],
   "source": [
    "# Hidden Test Cell"
   ]
  },
  {
   "cell_type": "markdown",
   "metadata": {
    "deletable": false,
    "editable": false,
    "nbgrader": {
     "cell_type": "markdown",
     "checksum": "b18523a035af9c6398ef43aab8e3cecc",
     "grade": false,
     "grade_id": "cell-abecadee8226c27f",
     "locked": true,
     "schema_version": 3,
     "solution": false,
     "task": false
    }
   },
   "source": [
    "**Part B)**\n",
    "\n",
    "Based on your results to **Part A**, is there a statistically significant difference between Ad 1 and Ad 2? Save the boolean value `TRUE` (if there is a difference) or `FALSE` (if there is not a difference) into variable `prob.2.b`."
   ]
  },
  {
   "cell_type": "code",
   "execution_count": 131,
   "metadata": {
    "deletable": false,
    "nbgrader": {
     "cell_type": "code",
     "checksum": "4a8f06ac3e5aa766a1809c49d95fe902",
     "grade": false,
     "grade_id": "cell-26fb9af49827b1dd",
     "locked": false,
     "schema_version": 3,
     "solution": true,
     "task": false
    }
   },
   "outputs": [
    {
     "data": {
      "text/html": [
       "TRUE"
      ],
      "text/latex": [
       "TRUE"
      ],
      "text/markdown": [
       "TRUE"
      ],
      "text/plain": [
       "[1] TRUE"
      ]
     },
     "metadata": {},
     "output_type": "display_data"
    }
   ],
   "source": [
    "prob.2.b = FALSE\n",
    "\n",
    "# your code here\n",
    "(conf.int.upper >= 0) & (conf.int.lower <= 0)"
   ]
  },
  {
   "cell_type": "code",
   "execution_count": 132,
   "metadata": {
    "deletable": false,
    "editable": false,
    "nbgrader": {
     "cell_type": "code",
     "checksum": "f453d6fff8ded9d5324f91bc9ecce7b0",
     "grade": true,
     "grade_id": "cell-8dbdbabb5254fd0e",
     "locked": true,
     "points": 5,
     "schema_version": 3,
     "solution": false,
     "task": false
    }
   },
   "outputs": [],
   "source": [
    "# Hidden Test Cell"
   ]
  }
 ],
 "metadata": {
  "kernelspec": {
   "display_name": "R",
   "language": "R",
   "name": "ir"
  },
  "language_info": {
   "codemirror_mode": "r",
   "file_extension": ".r",
   "mimetype": "text/x-r-source",
   "name": "R",
   "pygments_lexer": "r",
   "version": "3.6.3"
  }
 },
 "nbformat": 4,
 "nbformat_minor": 4
}
