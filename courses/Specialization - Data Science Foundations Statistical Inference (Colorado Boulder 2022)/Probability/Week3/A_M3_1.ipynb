{
 "cells": [
  {
   "cell_type": "markdown",
   "metadata": {
    "deletable": false,
    "editable": false,
    "nbgrader": {
     "cell_type": "markdown",
     "checksum": "2f3ea78aafd453d5519e0743549bcc58",
     "grade": false,
     "grade_id": "cell-47ef729965ec0e7a",
     "locked": true,
     "schema_version": 3,
     "solution": false,
     "task": false
    }
   },
   "source": [
    "# Module 3 Assessment\n",
    "In this notebook you will use the rules of conditional probability to solve various problems. Please read each statement and answer all questions in the code blocks that contain \"your code here\". Feel free to add as many blocks as you need, only the original code blocks will be graded."
   ]
  },
  {
   "cell_type": "code",
   "execution_count": null,
   "metadata": {
    "deletable": false,
    "editable": false,
    "nbgrader": {
     "cell_type": "code",
     "checksum": "ddca9fb41be28f7d08d8e505f493285f",
     "grade": false,
     "grade_id": "cell-a9a0236081ba6e5c",
     "locked": true,
     "schema_version": 3,
     "solution": false,
     "task": false
    }
   },
   "outputs": [],
   "source": [
    "#Hidden cell that imports the test_that library\n",
    "library(testthat)"
   ]
  },
  {
   "cell_type": "markdown",
   "metadata": {
    "deletable": false,
    "editable": false,
    "nbgrader": {
     "cell_type": "markdown",
     "checksum": "c124731c4dc3d32f5fecae8e86604953",
     "grade": false,
     "grade_id": "cell-c0fdedcf806db6cd",
     "locked": true,
     "schema_version": 3,
     "solution": false,
     "task": false
    }
   },
   "source": [
    "### Problem 1\n",
    "\n",
    "The planning department for the local county requires a contractor to submit one, two,\n",
    "three, four, or five forms (depending on the nature of the project) when applying\n",
    "for a building permit. Let $Y$ be the number of forms required for the next applicant.\n",
    "The probability that $y$ forms are required is known to be proportional to $y$; that\n",
    "is, $P(Y = y) = ky$ for $y = 1, ..., 5$."
   ]
  },
  {
   "cell_type": "markdown",
   "metadata": {
    "deletable": false,
    "editable": false,
    "nbgrader": {
     "cell_type": "markdown",
     "checksum": "45bfbfb7bc3fee9331c1478c8a8948de",
     "grade": false,
     "grade_id": "cell-6e05268d00bcdc6b",
     "locked": true,
     "schema_version": 3,
     "solution": false,
     "task": false
    }
   },
   "source": [
    "#### Part a)\n",
    "What is the value of k? Save your answer as `p1.1`."
   ]
  },
  {
   "cell_type": "code",
   "execution_count": 1,
   "metadata": {
    "deletable": false,
    "nbgrader": {
     "cell_type": "code",
     "checksum": "484323a155980f4d524912094eb73f86",
     "grade": false,
     "grade_id": "cell-c8ec7e2deaf3a11c",
     "locked": false,
     "schema_version": 3,
     "solution": true,
     "task": false
    }
   },
   "outputs": [
    {
     "data": {
      "text/html": [
       "1"
      ],
      "text/latex": [
       "1"
      ],
      "text/markdown": [
       "1"
      ],
      "text/plain": [
       "[1] 1"
      ]
     },
     "metadata": {},
     "output_type": "display_data"
    },
    {
     "data": {
      "text/html": [
       "0.0666666666666667"
      ],
      "text/latex": [
       "0.0666666666666667"
      ],
      "text/markdown": [
       "0.0666666666666667"
      ],
      "text/plain": [
       "[1] 0.06666667"
      ]
     },
     "metadata": {},
     "output_type": "display_data"
    }
   ],
   "source": [
    "p1.1 = 1/15\n",
    "# your code here\n",
    "sum((1:5)/15)\n",
    "p1.1"
   ]
  },
  {
   "cell_type": "code",
   "execution_count": 2,
   "metadata": {
    "deletable": false,
    "editable": false,
    "nbgrader": {
     "cell_type": "code",
     "checksum": "a818cfd5928d93b5da0ceb2685c48138",
     "grade": true,
     "grade_id": "cell-5166aef281374d4f",
     "locked": true,
     "points": 1,
     "schema_version": 3,
     "solution": false,
     "task": false
    }
   },
   "outputs": [],
   "source": [
    "# Hidden test cell"
   ]
  },
  {
   "cell_type": "markdown",
   "metadata": {
    "deletable": false,
    "editable": false,
    "nbgrader": {
     "cell_type": "markdown",
     "checksum": "a888a34cef2158b6ce339c55111cdc42",
     "grade": false,
     "grade_id": "cell-25cef04e0342d8bb",
     "locked": true,
     "schema_version": 3,
     "solution": false,
     "task": false
    }
   },
   "source": [
    "#### Part (b)\n",
    "\n",
    "What is the probability that at most three forms are required? Save your answer as `p1.2`."
   ]
  },
  {
   "cell_type": "code",
   "execution_count": 4,
   "metadata": {
    "deletable": false,
    "nbgrader": {
     "cell_type": "code",
     "checksum": "9049814ebbfc9736206806574af54a14",
     "grade": false,
     "grade_id": "cell-fb543faa53c94c9f",
     "locked": false,
     "schema_version": 3,
     "solution": true,
     "task": false
    }
   },
   "outputs": [
    {
     "data": {
      "text/html": [
       "0.4"
      ],
      "text/latex": [
       "0.4"
      ],
      "text/markdown": [
       "0.4"
      ],
      "text/plain": [
       "[1] 0.4"
      ]
     },
     "metadata": {},
     "output_type": "display_data"
    }
   ],
   "source": [
    "p1.2 = sum(1/15*(1:3))\n",
    "# your code here\n",
    "p1.2"
   ]
  },
  {
   "cell_type": "code",
   "execution_count": 5,
   "metadata": {
    "deletable": false,
    "editable": false,
    "nbgrader": {
     "cell_type": "code",
     "checksum": "799d10540db9a157746c59f5facb5585",
     "grade": true,
     "grade_id": "cell-434bd89136fb7099",
     "locked": true,
     "points": 1,
     "schema_version": 3,
     "solution": false,
     "task": false
    }
   },
   "outputs": [],
   "source": [
    "# Hidden test cell"
   ]
  },
  {
   "cell_type": "markdown",
   "metadata": {
    "deletable": false,
    "editable": false,
    "nbgrader": {
     "cell_type": "markdown",
     "checksum": "8310f3994f416744e86c6b45ff2f5785",
     "grade": false,
     "grade_id": "cell-5267c8c6e6267328",
     "locked": true,
     "schema_version": 3,
     "solution": false,
     "task": false
    }
   },
   "source": [
    "#### Part (c)\n",
    "\n",
    "What is the probability that between two and four forms (inclusive) are\n",
    "required? Save your answer as `p1.3`.\n"
   ]
  },
  {
   "cell_type": "code",
   "execution_count": 6,
   "metadata": {
    "deletable": false,
    "nbgrader": {
     "cell_type": "code",
     "checksum": "27edcebc1f94bba282a7912877a64d29",
     "grade": false,
     "grade_id": "cell-70d6a16252ef0dc6",
     "locked": false,
     "schema_version": 3,
     "solution": true,
     "task": false
    }
   },
   "outputs": [
    {
     "data": {
      "text/html": [
       "0.6"
      ],
      "text/latex": [
       "0.6"
      ],
      "text/markdown": [
       "0.6"
      ],
      "text/plain": [
       "[1] 0.6"
      ]
     },
     "metadata": {},
     "output_type": "display_data"
    }
   ],
   "source": [
    "p1.3 = sum(1/15*(2:4))\n",
    "# your code here\n",
    "p1.3"
   ]
  },
  {
   "cell_type": "code",
   "execution_count": 7,
   "metadata": {
    "deletable": false,
    "editable": false,
    "nbgrader": {
     "cell_type": "code",
     "checksum": "6742bbcbd9335f7cd4b591e85adaec0e",
     "grade": true,
     "grade_id": "cell-aadf870e0019ab9c",
     "locked": true,
     "points": 1,
     "schema_version": 3,
     "solution": false,
     "task": false
    }
   },
   "outputs": [],
   "source": [
    "# Hidden test cell"
   ]
  },
  {
   "cell_type": "markdown",
   "metadata": {
    "deletable": false,
    "editable": false,
    "nbgrader": {
     "cell_type": "markdown",
     "checksum": "dcd08f731d03b4ed760d7713853ef89b",
     "grade": false,
     "grade_id": "cell-d88aa22b4406e001",
     "locked": true,
     "schema_version": 3,
     "solution": false,
     "task": false
    }
   },
   "source": [
    "#### Part (d)\n",
    "\n",
    "Could $P(Y = y) = y^2/50$ for $y = 1, ..., 5$ be the pmf of $Y$ ? Store your answer as TRUE or FALSE. Save your answer as `TF_1.4`."
   ]
  },
  {
   "cell_type": "code",
   "execution_count": 9,
   "metadata": {
    "deletable": false,
    "nbgrader": {
     "cell_type": "code",
     "checksum": "171bda69e7038434b87f1780ef266e59",
     "grade": false,
     "grade_id": "cell-7f280a04c83022d5",
     "locked": false,
     "schema_version": 3,
     "solution": true,
     "task": false
    }
   },
   "outputs": [
    {
     "data": {
      "text/html": [
       "1.1"
      ],
      "text/latex": [
       "1.1"
      ],
      "text/markdown": [
       "1.1"
      ],
      "text/plain": [
       "[1] 1.1"
      ]
     },
     "metadata": {},
     "output_type": "display_data"
    }
   ],
   "source": [
    "TF_1.4 = FALSE\n",
    "# your code here\n",
    "sum((1:5)^2/50)"
   ]
  },
  {
   "cell_type": "code",
   "execution_count": 10,
   "metadata": {
    "deletable": false,
    "editable": false,
    "nbgrader": {
     "cell_type": "code",
     "checksum": "43621d600f341f204b996a4bcdcf8875",
     "grade": true,
     "grade_id": "cell-a780226ffb272fb5",
     "locked": true,
     "points": 1,
     "schema_version": 3,
     "solution": false,
     "task": false
    }
   },
   "outputs": [],
   "source": [
    "# Hidden test cell"
   ]
  },
  {
   "cell_type": "markdown",
   "metadata": {
    "deletable": false,
    "editable": false,
    "nbgrader": {
     "cell_type": "markdown",
     "checksum": "80cfda0f5243761bffbb2ea8235de5a0",
     "grade": false,
     "grade_id": "cell-54c10c90db6b1cc2",
     "locked": true,
     "schema_version": 3,
     "solution": false,
     "task": false
    }
   },
   "source": [
    "### Problem 2"
   ]
  },
  {
   "cell_type": "markdown",
   "metadata": {
    "deletable": false,
    "editable": false,
    "nbgrader": {
     "cell_type": "markdown",
     "checksum": "f45845372b5c1889b02b4d5f070085aa",
     "grade": false,
     "grade_id": "cell-3295d48a993d31da",
     "locked": true,
     "schema_version": 3,
     "solution": false,
     "task": false
    }
   },
   "source": [
    "Individuals A and B play a sequence of chess games until one player wins 9 games. A wins an individual game with probability p, and B wins a game with probability 1 − p (i.e., there are no draws). Let X denote the number of games played."
   ]
  },
  {
   "cell_type": "markdown",
   "metadata": {
    "deletable": false,
    "editable": false,
    "nbgrader": {
     "cell_type": "markdown",
     "checksum": "11e850e22f2cb840dffcbf89392fdc80",
     "grade": false,
     "grade_id": "cell-57275ee2f0c9f829",
     "locked": true,
     "schema_version": 3,
     "solution": false,
     "task": false
    }
   },
   "source": [
    "#### Part (a) \n",
    "\n",
    "What are the possible values of X? Store your answers the vector `Vals_2.1`. Don't worry about the order."
   ]
  },
  {
   "cell_type": "code",
   "execution_count": 11,
   "metadata": {
    "deletable": false,
    "nbgrader": {
     "cell_type": "code",
     "checksum": "39105639f69542f5364156f231a43b66",
     "grade": false,
     "grade_id": "cell-f7bd90c205128373",
     "locked": false,
     "schema_version": 3,
     "solution": true,
     "task": false
    }
   },
   "outputs": [
    {
     "data": {
      "text/html": [
       "<style>\n",
       ".list-inline {list-style: none; margin:0; padding: 0}\n",
       ".list-inline>li {display: inline-block}\n",
       ".list-inline>li:not(:last-child)::after {content: \"\\00b7\"; padding: 0 .5ex}\n",
       "</style>\n",
       "<ol class=list-inline><li>9</li><li>10</li><li>11</li><li>12</li><li>13</li><li>14</li><li>15</li><li>16</li><li>17</li></ol>\n"
      ],
      "text/latex": [
       "\\begin{enumerate*}\n",
       "\\item 9\n",
       "\\item 10\n",
       "\\item 11\n",
       "\\item 12\n",
       "\\item 13\n",
       "\\item 14\n",
       "\\item 15\n",
       "\\item 16\n",
       "\\item 17\n",
       "\\end{enumerate*}\n"
      ],
      "text/markdown": [
       "1. 9\n",
       "2. 10\n",
       "3. 11\n",
       "4. 12\n",
       "5. 13\n",
       "6. 14\n",
       "7. 15\n",
       "8. 16\n",
       "9. 17\n",
       "\n",
       "\n"
      ],
      "text/plain": [
       "[1]  9 10 11 12 13 14 15 16 17"
      ]
     },
     "metadata": {},
     "output_type": "display_data"
    }
   ],
   "source": [
    "Vals_2.1 = c(9:17)\n",
    "# your code here\n",
    "Vals_2.1"
   ]
  },
  {
   "cell_type": "code",
   "execution_count": 12,
   "metadata": {
    "deletable": false,
    "editable": false,
    "nbgrader": {
     "cell_type": "code",
     "checksum": "99a2463bdde2c73a9a11afe998d55207",
     "grade": true,
     "grade_id": "cell-79094d524a73b333",
     "locked": true,
     "points": 1,
     "schema_version": 3,
     "solution": false,
     "task": false
    }
   },
   "outputs": [],
   "source": [
    "# Hidden test cell"
   ]
  },
  {
   "cell_type": "markdown",
   "metadata": {
    "deletable": false,
    "editable": false,
    "nbgrader": {
     "cell_type": "markdown",
     "checksum": "f0d711879a50b04436040bd1e12af0b3",
     "grade": false,
     "grade_id": "cell-b973d113ba5e54ee",
     "locked": true,
     "schema_version": 3,
     "solution": false,
     "task": false
    }
   },
   "source": [
    "#### Part (b)\n",
    "\n",
    "The expression for $P(X = x)$ can be shown to include what known distribution? It will end up being the sum of two of these distributions each multiplied by a different factor. Below are the options listing several distributions. Select the number corresponding to the correct distribution as `Dist_2.2`. (Hint: Think of splitting probability into a probability for player A winning in x games summed with the probability of the disjoint event of player B winning in x games.)\n",
    "\n",
    "1. Geometric Distribution\n",
    "2. Binomial Distribution\n",
    "3. Poisson Distribution\n",
    "4. Exponential Distribution\n",
    "5. Negative Binomial Distribution\n",
    "6. Normal Distribution\n"
   ]
  },
  {
   "cell_type": "code",
   "execution_count": 27,
   "metadata": {
    "deletable": false,
    "nbgrader": {
     "cell_type": "code",
     "checksum": "2b9d7bf4b3caabdff94b933900876f38",
     "grade": false,
     "grade_id": "cell-1ca1fd7309b010eb",
     "locked": false,
     "schema_version": 3,
     "solution": true,
     "task": false
    }
   },
   "outputs": [],
   "source": [
    "Dist_2.2 = 5\n",
    "# your code here\n"
   ]
  },
  {
   "cell_type": "code",
   "execution_count": 28,
   "metadata": {
    "deletable": false,
    "editable": false,
    "nbgrader": {
     "cell_type": "code",
     "checksum": "4f691169748f6cb9446a824758e37a6d",
     "grade": true,
     "grade_id": "cell-39f4d1b58e675c4b",
     "locked": true,
     "points": 1,
     "schema_version": 3,
     "solution": false,
     "task": false
    }
   },
   "outputs": [],
   "source": [
    "# Hidden test cell"
   ]
  },
  {
   "cell_type": "markdown",
   "metadata": {
    "deletable": false,
    "editable": false,
    "nbgrader": {
     "cell_type": "markdown",
     "checksum": "077301099bd4715d7886ec1aaefe0f37",
     "grade": false,
     "grade_id": "cell-0402e9b0b74e7949",
     "locked": true,
     "schema_version": 3,
     "solution": false,
     "task": false
    }
   },
   "source": [
    "#### Part (c) \n",
    "\n",
    "Let $p = 0.5$. Find $P(X = 12)$. Round your answer to four decimal places. Save your answer as `p2.3`."
   ]
  },
  {
   "cell_type": "code",
   "execution_count": 47,
   "metadata": {
    "deletable": false,
    "nbgrader": {
     "cell_type": "code",
     "checksum": "6ca057459174643f1117000d196c3884",
     "grade": false,
     "grade_id": "cell-b4e7fd3c4a54d23f",
     "locked": false,
     "schema_version": 3,
     "solution": true,
     "task": false
    }
   },
   "outputs": [
    {
     "data": {
      "text/html": [
       "0.0806"
      ],
      "text/latex": [
       "0.0806"
      ],
      "text/markdown": [
       "0.0806"
      ],
      "text/plain": [
       "[1] 0.0806"
      ]
     },
     "metadata": {},
     "output_type": "display_data"
    },
    {
     "data": {
      "text/html": [
       "0.0844"
      ],
      "text/latex": [
       "0.0844"
      ],
      "text/markdown": [
       "0.0844"
      ],
      "text/plain": [
       "[1] 0.0844"
      ]
     },
     "metadata": {},
     "output_type": "display_data"
    }
   ],
   "source": [
    "p2.3 = 0.0806\n",
    "# your code here\n",
    "p = 0.5\n",
    "round(choose(3+9-1, 9-1)*p^9*(1-p)^3 + choose(3+9-1, 9-1)*(1-p)^9*p^3, 4)\n",
    "mean(replicate(10000, {\n",
    "    nA <- 0\n",
    "    nB <- 0\n",
    "    X <- 0\n",
    "    while ((nA < 9) && (nB < 9)) {\n",
    "        x <- sample(0:1, 1)\n",
    "        if (X %% 2 == 1) {\n",
    "            if (x == 1) {\n",
    "                nB <- nB + 1\n",
    "            } else {\n",
    "                nA <- nA + 1\n",
    "            }\n",
    "        } else {\n",
    "            if (x == 1) {\n",
    "                nA <- nA + 1\n",
    "            } else {\n",
    "                nB <- nB + 1\n",
    "            }\n",
    "        }\n",
    "        X <- X + 1\n",
    "    }\n",
    "    X == 12     \n",
    "}))"
   ]
  },
  {
   "cell_type": "code",
   "execution_count": 48,
   "metadata": {
    "deletable": false,
    "editable": false,
    "nbgrader": {
     "cell_type": "code",
     "checksum": "23c6f24b2e211012051e9202584a5dc1",
     "grade": true,
     "grade_id": "cell-d998a67735462ca9",
     "locked": true,
     "points": 1,
     "schema_version": 3,
     "solution": false,
     "task": false
    }
   },
   "outputs": [],
   "source": [
    "# Hidden test cell"
   ]
  },
  {
   "cell_type": "markdown",
   "metadata": {
    "deletable": false,
    "editable": false,
    "nbgrader": {
     "cell_type": "markdown",
     "checksum": "b46d879021f3183f4d4839922377bb17",
     "grade": false,
     "grade_id": "cell-ef124729418093fc",
     "locked": true,
     "schema_version": 3,
     "solution": false,
     "task": false
    }
   },
   "source": [
    "### Problem 3"
   ]
  },
  {
   "cell_type": "markdown",
   "metadata": {
    "deletable": false,
    "editable": false,
    "nbgrader": {
     "cell_type": "markdown",
     "checksum": "6a40c19051b03231de9e07549a645140",
     "grade": false,
     "grade_id": "cell-c413dab5f17b1f39",
     "locked": true,
     "schema_version": 3,
     "solution": false,
     "task": false
    }
   },
   "source": [
    "Note the following distribution: X = the leading digit of a randomly selected number from a large accounting ledger. The pmf for this random variable has been found to be defined by:\n",
    "$$ P(X=x) = f(x) = log_{10}\\Big(\\frac{x+1}{x}\\Big), \\ \\ x=1,2,...,9. $$"
   ]
  },
  {
   "cell_type": "markdown",
   "metadata": {
    "deletable": false,
    "editable": false,
    "nbgrader": {
     "cell_type": "markdown",
     "checksum": "4d0293c7218508685cadb6d6fef6328e",
     "grade": false,
     "grade_id": "cell-b26d90e92699fe02",
     "locked": true,
     "schema_version": 3,
     "solution": false,
     "task": false
    }
   },
   "source": [
    "#### Part (a)\n",
    "\n",
    "Find E(X). Round your answer to two decimal places. Save your answer as `e3.1`."
   ]
  },
  {
   "cell_type": "code",
   "execution_count": 15,
   "metadata": {
    "deletable": false,
    "nbgrader": {
     "cell_type": "code",
     "checksum": "db03f0fe4618cba6db65ae024bdb4bfa",
     "grade": false,
     "grade_id": "cell-2e230f950d6c222b",
     "locked": false,
     "schema_version": 3,
     "solution": true,
     "task": false
    }
   },
   "outputs": [
    {
     "data": {
      "text/html": [
       "3.44"
      ],
      "text/latex": [
       "3.44"
      ],
      "text/markdown": [
       "3.44"
      ],
      "text/plain": [
       "[1] 3.44"
      ]
     },
     "metadata": {},
     "output_type": "display_data"
    }
   ],
   "source": [
    "e3.1 = 3.44\n",
    "# your code here\n",
    "x <- 1:9\n",
    "round(sum(x*log10(1+1/x)),2)"
   ]
  },
  {
   "cell_type": "code",
   "execution_count": 16,
   "metadata": {
    "deletable": false,
    "editable": false,
    "nbgrader": {
     "cell_type": "code",
     "checksum": "2e598a59a5975321c4d7e48017aef14d",
     "grade": true,
     "grade_id": "cell-67429a160bba5fd3",
     "locked": true,
     "points": 1,
     "schema_version": 3,
     "solution": false,
     "task": false
    }
   },
   "outputs": [],
   "source": [
    "# Hidden test cell\n"
   ]
  },
  {
   "cell_type": "markdown",
   "metadata": {
    "deletable": false,
    "editable": false,
    "nbgrader": {
     "cell_type": "markdown",
     "checksum": "11fa23592268a10d28f46f474aef3c5d",
     "grade": false,
     "grade_id": "cell-b0bf15f72d1e3fe6",
     "locked": true,
     "schema_version": 3,
     "solution": false,
     "task": false
    }
   },
   "source": [
    "### Problem 4\n",
    "\n",
    "Suppose we have an unfair coin with a probability of $0.6$ of obtaining a heads on any given toss. As is typical for coin toss problems, assume each coin toss is independent."
   ]
  },
  {
   "cell_type": "markdown",
   "metadata": {
    "deletable": false,
    "editable": false,
    "nbgrader": {
     "cell_type": "markdown",
     "checksum": "5bf89b5c3f9d30f1e5016159cb2ae1fb",
     "grade": false,
     "grade_id": "cell-dec05591f7507b3b",
     "locked": true,
     "schema_version": 3,
     "solution": false,
     "task": false
    }
   },
   "source": [
    "#### Part (a) \n",
    "\n",
    "What is the expected number of flips **before** we get a heads? Round your answer to two decimal places. Save your answer as `e4.1`."
   ]
  },
  {
   "cell_type": "code",
   "execution_count": 30,
   "metadata": {
    "deletable": false,
    "nbgrader": {
     "cell_type": "code",
     "checksum": "06df6f9266d239b7bff8f541f5c1bd11",
     "grade": false,
     "grade_id": "cell-2af05b11131084f1",
     "locked": false,
     "schema_version": 3,
     "solution": true,
     "task": false
    }
   },
   "outputs": [
    {
     "data": {
      "text/html": [
       "0.67"
      ],
      "text/latex": [
       "0.67"
      ],
      "text/markdown": [
       "0.67"
      ],
      "text/plain": [
       "[1] 0.67"
      ]
     },
     "metadata": {},
     "output_type": "display_data"
    },
    {
     "data": {
      "text/html": [
       "0.666666666666667"
      ],
      "text/latex": [
       "0.666666666666667"
      ],
      "text/markdown": [
       "0.666666666666667"
      ],
      "text/plain": [
       "[1] 0.6666667"
      ]
     },
     "metadata": {},
     "output_type": "display_data"
    }
   ],
   "source": [
    "e4.1 = round(2/3, 2)\n",
    "# your code here\n",
    "e4.1\n",
    "x <- 1:1000\n",
    "sum((x-1)*(0.4)^(x-1)*(0.6))"
   ]
  },
  {
   "cell_type": "code",
   "execution_count": 19,
   "metadata": {
    "deletable": false,
    "editable": false,
    "nbgrader": {
     "cell_type": "code",
     "checksum": "37cd7de364fc71a7742ef5ca61f56fbc",
     "grade": true,
     "grade_id": "cell-d031339da13b7a89",
     "locked": true,
     "points": 1,
     "schema_version": 3,
     "solution": false,
     "task": false
    }
   },
   "outputs": [],
   "source": [
    "# Hidden test cell"
   ]
  },
  {
   "cell_type": "markdown",
   "metadata": {
    "deletable": false,
    "editable": false,
    "nbgrader": {
     "cell_type": "markdown",
     "checksum": "974409a322bc3f38dabffcc082368469",
     "grade": false,
     "grade_id": "cell-0c419f98672865e0",
     "locked": true,
     "schema_version": 3,
     "solution": false,
     "task": false
    }
   },
   "source": [
    "#### Part (b) \n",
    "How many tails do you expect to see before getting three heads? Save your answer as `e4.2`. \n",
    "\n",
    "For example, imagine you see the third heads on the tenth trial. This would mean you have seen 2 heads in the first 9 trials followed by a heads on the tenth. Then your answer would be observing $7$ tails. Generalize this to the $i^{th}$ trial."
   ]
  },
  {
   "cell_type": "code",
   "execution_count": 26,
   "metadata": {
    "deletable": false,
    "nbgrader": {
     "cell_type": "code",
     "checksum": "1794edf8303e61461e255503cd5a14b5",
     "grade": false,
     "grade_id": "cell-65ac4eb17651c0a1",
     "locked": false,
     "schema_version": 3,
     "solution": true,
     "task": false
    }
   },
   "outputs": [
    {
     "data": {
      "text/html": [
       "2"
      ],
      "text/latex": [
       "2"
      ],
      "text/markdown": [
       "2"
      ],
      "text/plain": [
       "[1] 2"
      ]
     },
     "metadata": {},
     "output_type": "display_data"
    },
    {
     "data": {
      "text/html": [
       "1.9887"
      ],
      "text/latex": [
       "1.9887"
      ],
      "text/markdown": [
       "1.9887"
      ],
      "text/plain": [
       "[1] 1.9887"
      ]
     },
     "metadata": {},
     "output_type": "display_data"
    }
   ],
   "source": [
    "e4.2 = 3*0.4/0.6\n",
    "# your code here\n",
    "e4.2\n",
    "mean(replicate(10000, {\n",
    "    nh <- 0\n",
    "    nt <- 0\n",
    "    while (nh < 3) {\n",
    "        x <- sample(0:1,1, prob=c(0.4,0.6))\n",
    "        if (x == 1) {\n",
    "            nh <- nh + 1\n",
    "        } else {\n",
    "            nt <- nt + 1\n",
    "        }\n",
    "    }\n",
    "    nt        \n",
    "}))"
   ]
  },
  {
   "cell_type": "code",
   "execution_count": null,
   "metadata": {
    "deletable": false,
    "editable": false,
    "nbgrader": {
     "cell_type": "code",
     "checksum": "8f83d250ee941ae75e394aa38a47600f",
     "grade": true,
     "grade_id": "cell-d834b98f73c41463",
     "locked": true,
     "points": 1,
     "schema_version": 3,
     "solution": false,
     "task": false
    }
   },
   "outputs": [],
   "source": [
    "# Hidden test cell"
   ]
  }
 ],
 "metadata": {
  "kernelspec": {
   "display_name": "R",
   "language": "R",
   "name": "ir"
  },
  "language_info": {
   "codemirror_mode": "r",
   "file_extension": ".r",
   "mimetype": "text/x-r-source",
   "name": "R",
   "pygments_lexer": "r",
   "version": "3.6.3"
  }
 },
 "nbformat": 4,
 "nbformat_minor": 4
}
