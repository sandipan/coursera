{
 "cells": [
  {
   "cell_type": "markdown",
   "metadata": {},
   "source": [
    "This assignment will be reviewed by peers based upon a given rubric. Make sure to keep your answers clear and concise while demonstrating an understanding of the material. Be sure to give all requested information in markdown cells. It is recommended to utilize Latex."
   ]
  },
  {
   "cell_type": "markdown",
   "metadata": {},
   "source": [
    "### Problem 1"
   ]
  },
  {
   "cell_type": "markdown",
   "metadata": {},
   "source": [
    "What does it mean for one event $C$ to cause another event $E$ — for example, smoking ($C$) to cause cancer ($E$)? There is a long history in philosophy, statistics, and the sciences of trying to clearly analyze the concept of a cause. One tradition says that causes raise the probability of their effects; we may write this symbolically is \n",
    "$$\n",
    "%\\begin{equation} \n",
    "P(E | C)>P(E). \n",
    "%\\end{equation} \n",
    "\\qquad \\qquad (1)\n",
    "$$ "
   ]
  },
  {
   "cell_type": "markdown",
   "metadata": {},
   "source": [
    "#### Part a)\n",
    "\n",
    "Does equation (1) imply that $P(C | E) > P(C)$? If so, prove it. If not, give a counter example."
   ]
  },
  {
   "cell_type": "markdown",
   "metadata": {},
   "source": [
    "Yes.\n",
    "\n",
    "#### Proof\n",
    "\n",
    "$\\begin{equation}\n",
    "P(E|C) = \\frac{P(E \\cap C)}{P(C)} > P(E) \\quad \\text{by the definition of conditional probablity and by (1)} \\\\\n",
    "\\implies P(E \\cap C) = P(C \\cap E) > P(C)P(E) \\quad \\text{by commutativeity} \\\\\n",
    "\\implies P(C|E) = \\frac{P(C \\cap E)}{P(E)} > P(C) \\quad \\text{by the definition of conditional probablity} \\\\\n",
    "\\end{equation}$"
   ]
  },
  {
   "cell_type": "markdown",
   "metadata": {},
   "source": [
    "#### Part b)\n",
    "\n",
    "Another way to formulate a probabilistic theory of causation is to say that\n",
    "$$P (E | C) > P(E | C^C). \\qquad \\qquad (2)$$ Show that equation (1) implies equation (2)."
   ]
  },
  {
   "cell_type": "markdown",
   "metadata": {},
   "source": [
    "$\\begin{array}\n",
    "&P(E) &= P(E \\cap C) + P(E \\cap C^c) \\quad \\text{sum of two mutually exclusive events} \\\\\n",
    "     &= P(E|C^c)P(C^c) + P(E|C)P(C) \\quad \\text{by definition of conditional probability} \\\\\n",
    "     &= P(E|C^c)P(C^c) > P(E)P(C) \\quad \\text{by (1)} \\\\\n",
    "\\implies P(E)(1-P(C))   &> P(E|C^c)P(C^c) \\\\\n",
    "\\implies P(E)(P(C^c))   &> P(E|C^c)P(C^c) \\quad \\text{ since } P(C^c) = 1 - P(C) \\\\\n",
    "\\implies P(E)   &> P(E|C^c) \\quad \\quad \\quad (3) \\quad \\text{ (since } P(C^c) \\neq 0 \\text{ not a trivial event) }\\\\\n",
    "\\implies P(E|C) > P(E)   > P(E|C^c) & \\quad \\text{ combining (1) and (3)} \\\\\n",
    "\\implies P(E|C) > P(E|C^c) & \\quad \\text{ (proved)} \\\\\n",
    "\\end{array}$"
   ]
  },
  {
   "cell_type": "markdown",
   "metadata": {},
   "source": [
    "#### Part c)\n",
    "\n",
    "Let $C$ be the drop in the level of mercury in a barometer and let $E$ be a storm. Briefly describe why this leads to a problem with using equation (1) (or equation (2)) as a theory of causation."
   ]
  },
  {
   "cell_type": "markdown",
   "metadata": {},
   "source": [
    "All equation (1) says is that the conditional probability of storm given the drop in the level of mercury is higher than (unconditional) probability of storm. But the event drop in the level of mercury may be caused not only due to the fall of atmospheric pressure (which causes storm), there may be several other reasons such as gain in altitude, increased humidty, fault in the barometer etc. Hence, even if the level of mercury in barometer drops, it may not necessarily indicate a storm. Hence, (1) may lead to a wrong conclusion sometimes. There is a hidden variable (confounder) which is atomospheric pressure, that may cause the error in conclusion."
   ]
  },
  {
   "cell_type": "markdown",
   "metadata": {},
   "source": [
    "#### Part d)\n",
    "\n",
    "Let $A$, $C$, and $E$ be events. If $P(E | A \\cap C) = P(E |C )$, then $C$ is said to screen $A$ off from $E$. Suppose that $P (E \\cap C) > 0.$ Show that screening off is equivalent to saying that $P(A \\cap E | C)=P(A|C)P(E | C).$ What does this latter equation say in terms of independence?"
   ]
  },
  {
   "cell_type": "markdown",
   "metadata": {},
   "source": [
    "$\\begin{array}\n",
    "& P(E|A \\cap C) = P(E|C) \\quad & \\text{by (1)} \\\\\n",
    "\\Leftrightarrow \\frac{P(E \\cap A \\cap C)}{P(A \\cap C)} =  \\frac{P(E \\cap C)}{P(C)} \\quad & \\text{by the definition of conditional probablity} \\\\\n",
    "\\Leftrightarrow P(E \\cap A \\cap C) =  P(E \\cap C)\\frac{P(A \\cap C)}{P(C)} \\quad & \\text{} \\\\\n",
    "\\Leftrightarrow \\frac{P(E \\cap A \\cap C)}{P(C)} =  \\frac{P(E \\cap C)}{P(C)}\\frac{P(A \\cap C)}{P(C)} \\quad & \\text{ since } P(C) \\neq 0 \\\\\n",
    "\\Leftrightarrow P(E \\cap A | C) =  P(E | C) P(A | C) \\quad & \\text{by the definition of conditional probablity} \\\\\n",
    "\\Leftrightarrow P(A \\cap E | C) =  P(A | C) P(E | C) \\quad & \\text{by commutativity} \\\\\n",
    "\\end{array}$\n",
    "\n",
    "It says that the events $A$ and $E$ are conditionally independent given the event $C$."
   ]
  },
  {
   "cell_type": "markdown",
   "metadata": {},
   "source": [
    "#### Part e)\n",
    "\n",
    "Now let $A$ be a the drop in the level of mercury in a barometer, $E$ be a storm, and $C$ be a drop in atmospheric pressure. Does the result from part (d) help fix the problem suggested in part (c)?"
   ]
  },
  {
   "cell_type": "markdown",
   "metadata": {},
   "source": [
    "All $𝑃(𝐸|𝐴∩𝐶)=𝑃(𝐸|𝐶)$ says is that the event storm and the event drop in the level of mercury is conditionally independent given the drop in atomospheric pressure. Here, we have identified the confounder (hidden variable) the drop in atmospheric pressure and we can correctly conclude that once we observe (fix) the drop in atmospheric pressure, the event storm and the event drop in level of mercury in barometer can vary independently, accounting for the other scenarios (such as rise in altitude / humidity or fault in the barometer)."
   ]
  },
  {
   "cell_type": "markdown",
   "metadata": {},
   "source": [
    "# Problem 2\n",
    "\n",
    "Suppose you have two bags of marbles that are in a box. Bag 1 contains 7 white marbles, 6 black marbles, and 3 gold marbles. Bag 2 contains 4 white marbles, 5 black marbles, and 15 gold marbles. The probability of grabbing the Bag 1 from the box is twice the probability of grabbing the Bag 2.\n",
    "\n",
    "If you close your eyes, grab a bag from the box, and then grab a marble from that bag, what is the probability that it is gold?"
   ]
  },
  {
   "cell_type": "markdown",
   "metadata": {},
   "source": [
    "**Part a)** \n",
    "\n",
    "Solve this problem by hand. This should give us a theoretical value for pulling a gold marble."
   ]
  },
  {
   "cell_type": "markdown",
   "metadata": {},
   "source": [
    "Given that $P(B_1)=2P(B_2)$ and $P(B_1)+P(B_2)=1$ (since mutually exclusive), we have $P(B_1)=\\frac{2}{3}$ and $P(B_2)=\\frac{1}{3}$\n",
    "\n",
    "$\\begin{array}\n",
    "&P(G)&=P(G|B_1)P(B_1)+P(G|B_2)P(B_2) \\\\\n",
    "&=\\frac{3}{16}.\\frac{2}{3}+\\frac{15}{24}.\\frac{1}{3} \\\\\n",
    "&=\\frac{1}{8} + \\frac{5}{24} \\\\\n",
    "&=\\frac{8}{24} \\\\\n",
    "&=\\frac{1}{3} \\\\\n",
    "&=0.3333\n",
    "\\end{array}$"
   ]
  },
  {
   "cell_type": "markdown",
   "metadata": {},
   "source": [
    "**Part b)**\n",
    "\n",
    "Create a simulation to estimate the probability of pulling a gold marble. Assume you put the marble back in the bag each time you pull one out. Make sure to run the simulation enough times to be confident in your final result.\n",
    "\n",
    "Note: To generate $n$ random values between [0,1], use the `runif(n)` function. This function generates $n$ random variables from the Uniform(0,1) distribution, which we will learn more about later in this course!"
   ]
  },
  {
   "cell_type": "code",
   "execution_count": 24,
   "metadata": {},
   "outputs": [
    {
     "data": {
      "text/html": [
       "0.3335"
      ],
      "text/latex": [
       "0.3335"
      ],
      "text/markdown": [
       "0.3335"
      ],
      "text/plain": [
       "[1] 0.3335"
      ]
     },
     "metadata": {},
     "output_type": "display_data"
    }
   ],
   "source": [
    "set.seed(12)\n",
    "mean(replicate(10000, {\n",
    "  Bags = list()\n",
    "  Bags[[1]] = c(rep('W', 7), rep('B', 6), rep('G', 3))\n",
    "  Bags[[2]] = c(rep('W', 4), rep('B', 5), rep('G', 15))\n",
    "  idx = sample(1:2, 1, prob=c(2/3,1/3), replace=TRUE)\n",
    "  sample(Bags[[idx]], 1) == 'G'  \n",
    "}\n",
    "))"
   ]
  },
  {
   "cell_type": "markdown",
   "metadata": {},
   "source": [
    "# Problem 3\n",
    "\n",
    "Suppose you roll a fair die two times. Let $A$ be the event \"the sum of the throws equals 5\" and $B$ be the event \"at least one of the throws is a $4$\"."
   ]
  },
  {
   "cell_type": "markdown",
   "metadata": {},
   "source": [
    "**Part a)** \n",
    "\n",
    "$P(B)=P(\\text{at least one of the throws is a  4})=1-P(\\text{none of the throws is a  4}) = 1 - \\frac{5}{6}.\\frac{5}{6}=\\frac{11}{36}$ \n",
    "\n",
    "$P(A\\cap B) = P(\\text{the sum of the throws equals 5 and at least one of the throws is a  4}) = P(\\{(1,4),(4,1)\\})=\\frac{2}{36}=\\frac{1}{18}$\n",
    "\n",
    "By hand, solve for the probability that the sum of the throws equals 5, given that at least one of the throws is a 4. That is, solve $P(A|B)$."
   ]
  },
  {
   "cell_type": "markdown",
   "metadata": {},
   "source": [
    "$\\begin{array}\n",
    "& P(A|B) = \\frac{P(A \\cap B)}{P(B)} = \\frac{2/36}{11/36}=\\frac{2}{11} \\approx 0.1818\n",
    "\\end{array}$"
   ]
  },
  {
   "cell_type": "markdown",
   "metadata": {},
   "source": [
    "**Part b)**\n",
    "\n",
    "Write a simple simulation to confirm our result. Make sure you run your simulation enough times to be confident in your result.\n",
    "\n",
    "Hint: Think about the definition of conditional probability."
   ]
  },
  {
   "cell_type": "code",
   "execution_count": 32,
   "metadata": {},
   "outputs": [
    {
     "data": {
      "text/html": [
       "0.1816"
      ],
      "text/latex": [
       "0.1816"
      ],
      "text/markdown": [
       "0.1816"
      ],
      "text/plain": [
       "[1] 0.1816"
      ]
     },
     "metadata": {},
     "output_type": "display_data"
    }
   ],
   "source": [
    "set.seed(11)\n",
    "AB = 0\n",
    "B = 0\n",
    "for (i in 1:10000) {\n",
    "  x <- sample(1:6, 2, replace=TRUE)\n",
    "  if (any(x == 4)) {\n",
    "      if (sum(x) == 5) {\n",
    "          AB = AB + 1\n",
    "      }\n",
    "      B = B + 1\n",
    "  } \n",
    "}\n",
    "round(AB / B, 4)"
   ]
  }
 ],
 "metadata": {
  "kernelspec": {
   "display_name": "R",
   "language": "R",
   "name": "ir"
  }
 },
 "nbformat": 4,
 "nbformat_minor": 4
}
