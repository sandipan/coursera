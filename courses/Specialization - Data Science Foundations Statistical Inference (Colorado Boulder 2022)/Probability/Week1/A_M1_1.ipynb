{
 "cells": [
  {
   "cell_type": "markdown",
   "metadata": {
    "deletable": false,
    "editable": false,
    "nbgrader": {
     "cell_type": "markdown",
     "checksum": "6ce7fb4564d3cebfc745749bf111f1ec",
     "grade": false,
     "grade_id": "cell-aab209adce2a4054",
     "locked": true,
     "schema_version": 3,
     "solution": false,
     "task": false
    }
   },
   "source": [
    "# Module 1 Assessment\n",
    "\n",
    "In this notebook you will apply the axioms of probability and use descriptive statistics to solve various problems. Please read each statement and answer all questions in the code blocks that contain \"your code here\". Feel free to add as many blocks as you need, only the original code blocks will be graded.\n",
    "\n",
    "You will see some cells contain the comment \"Hidden Test Cell.\" These cells contain code to test your solution, which will run after you submit your assignment. You will not know what tests are being run, or if they have been passed until you have submitted your assignment."
   ]
  },
  {
   "cell_type": "code",
   "execution_count": 1,
   "metadata": {
    "deletable": false,
    "editable": false,
    "nbgrader": {
     "cell_type": "code",
     "checksum": "41486b70e542de530a693e0b3fc0e677",
     "grade": false,
     "grade_id": "cell-9d4a97725a08e31b",
     "locked": true,
     "schema_version": 3,
     "solution": false,
     "task": false
    }
   },
   "outputs": [],
   "source": [
    "#Imports test that library\n",
    "library(testthat)"
   ]
  },
  {
   "cell_type": "markdown",
   "metadata": {
    "deletable": false,
    "editable": false,
    "nbgrader": {
     "cell_type": "markdown",
     "checksum": "1288b976dd184b35f148004e9cd230dc",
     "grade": false,
     "grade_id": "cell-a8aec996f4ea9206",
     "locked": true,
     "schema_version": 3,
     "solution": false,
     "task": false
    }
   },
   "source": [
    "### Problem 1:\n",
    "Suppose we are interested in the buying habits of shoppers at a particular grocery store with regards to whether they purchase apples, milk, and/or bread. Now suppose 30\\% of all shoppers at this particular grocery store buy apples, 45\\% buy milk, and 40\\% buy a loaf of bread. Let $A$ be the event that a randomly selected shopper buys apples, $B$ be the event that the same randomly selected shopper buys milk, and $C$ the event that they buy bread.  Suppose we also know (from data collected) the following information:\n",
    "\n",
    "\n",
    "*   The probability that the shopper buys apples and milk is 0.20.\n",
    "*   The probability that the shopper buys milk and bread is 0.25.\n",
    "*   The probability that the shopper buys apples and bread is 0.12.\n",
    "*   The probability that the shopper buys all three items is 0.07.\n",
    "\n",
    "Use this information to answer the following questions."
   ]
  },
  {
   "cell_type": "markdown",
   "metadata": {
    "deletable": false,
    "editable": false,
    "nbgrader": {
     "cell_type": "markdown",
     "checksum": "94e2d36c1ffee95c4898e5f5ecec1261",
     "grade": false,
     "grade_id": "cell-c5d7c6f782185569",
     "locked": true,
     "schema_version": 3,
     "solution": false,
     "task": false
    }
   },
   "source": [
    "**a)** For our purposes, we will use a numeric representation for each event. For example, $(010)$ would be an event in the sample space where a zero in the first place represents no apples were bought while a 1 means they were. Similarly,  the second place is the presence of milk and the third place of bread. The example given $(010)$ represents the purchase of milk but not apples or bread.\n",
    "\n",
    "Insert into vector `S` the events that belong to the sample space. Then insert the events from the sample space that would correspond to $A$ occuring into vector `A`. Repeat this with vector `B` for $B$ and vector `C` for $C$.\n",
    "\n",
    "According to set notation, the sample space should look like this: $S=\\{ \\dots \\}$. However, due to data storage syntax in R, we will be storing these events in vectors. For example, for some arbitrary event $W$ would be stored as follows $W=c(010)$. `c()` is a command we can use to construct a vector where commas separate each entry. Complete the code below. Do not worry about the order in which events are placed in vector."
   ]
  },
  {
   "cell_type": "code",
   "execution_count": 89,
   "metadata": {
    "deletable": false,
    "nbgrader": {
     "cell_type": "code",
     "checksum": "1d2de8f21ab18bb28c5cc8f2183614d9",
     "grade": false,
     "grade_id": "cell-2acd2fe0c83a6e6d",
     "locked": false,
     "schema_version": 3,
     "solution": true,
     "task": false
    }
   },
   "outputs": [
    {
     "data": {
      "text/html": [
       "<style>\n",
       ".list-inline {list-style: none; margin:0; padding: 0}\n",
       ".list-inline>li {display: inline-block}\n",
       ".list-inline>li:not(:last-child)::after {content: \"\\00b7\"; padding: 0 .5ex}\n",
       "</style>\n",
       "<ol class=list-inline><li>0</li><li>1</li><li>10</li><li>11</li><li>100</li><li>101</li><li>110</li><li>111</li></ol>\n"
      ],
      "text/latex": [
       "\\begin{enumerate*}\n",
       "\\item 0\n",
       "\\item 1\n",
       "\\item 10\n",
       "\\item 11\n",
       "\\item 100\n",
       "\\item 101\n",
       "\\item 110\n",
       "\\item 111\n",
       "\\end{enumerate*}\n"
      ],
      "text/markdown": [
       "1. 0\n",
       "2. 1\n",
       "3. 10\n",
       "4. 11\n",
       "5. 100\n",
       "6. 101\n",
       "7. 110\n",
       "8. 111\n",
       "\n",
       "\n"
      ],
      "text/plain": [
       "[1]   0   1  10  11 100 101 110 111"
      ]
     },
     "metadata": {},
     "output_type": "display_data"
    },
    {
     "data": {
      "text/html": [
       "<style>\n",
       ".list-inline {list-style: none; margin:0; padding: 0}\n",
       ".list-inline>li {display: inline-block}\n",
       ".list-inline>li:not(:last-child)::after {content: \"\\00b7\"; padding: 0 .5ex}\n",
       "</style>\n",
       "<ol class=list-inline><li>100</li><li>101</li><li>110</li><li>111</li></ol>\n"
      ],
      "text/latex": [
       "\\begin{enumerate*}\n",
       "\\item 100\n",
       "\\item 101\n",
       "\\item 110\n",
       "\\item 111\n",
       "\\end{enumerate*}\n"
      ],
      "text/markdown": [
       "1. 100\n",
       "2. 101\n",
       "3. 110\n",
       "4. 111\n",
       "\n",
       "\n"
      ],
      "text/plain": [
       "[1] 100 101 110 111"
      ]
     },
     "metadata": {},
     "output_type": "display_data"
    },
    {
     "data": {
      "text/html": [
       "<style>\n",
       ".list-inline {list-style: none; margin:0; padding: 0}\n",
       ".list-inline>li {display: inline-block}\n",
       ".list-inline>li:not(:last-child)::after {content: \"\\00b7\"; padding: 0 .5ex}\n",
       "</style>\n",
       "<ol class=list-inline><li>10</li><li>11</li><li>110</li><li>111</li></ol>\n"
      ],
      "text/latex": [
       "\\begin{enumerate*}\n",
       "\\item 10\n",
       "\\item 11\n",
       "\\item 110\n",
       "\\item 111\n",
       "\\end{enumerate*}\n"
      ],
      "text/markdown": [
       "1. 10\n",
       "2. 11\n",
       "3. 110\n",
       "4. 111\n",
       "\n",
       "\n"
      ],
      "text/plain": [
       "[1]  10  11 110 111"
      ]
     },
     "metadata": {},
     "output_type": "display_data"
    },
    {
     "data": {
      "text/html": [
       "<style>\n",
       ".list-inline {list-style: none; margin:0; padding: 0}\n",
       ".list-inline>li {display: inline-block}\n",
       ".list-inline>li:not(:last-child)::after {content: \"\\00b7\"; padding: 0 .5ex}\n",
       "</style>\n",
       "<ol class=list-inline><li>1</li><li>11</li><li>101</li><li>111</li></ol>\n"
      ],
      "text/latex": [
       "\\begin{enumerate*}\n",
       "\\item 1\n",
       "\\item 11\n",
       "\\item 101\n",
       "\\item 111\n",
       "\\end{enumerate*}\n"
      ],
      "text/markdown": [
       "1. 1\n",
       "2. 11\n",
       "3. 101\n",
       "4. 111\n",
       "\n",
       "\n"
      ],
      "text/plain": [
       "[1]   1  11 101 111"
      ]
     },
     "metadata": {},
     "output_type": "display_data"
    }
   ],
   "source": [
    "S = c()\n",
    "A = c()\n",
    "B = c()\n",
    "C = c()\n",
    "# your code here\n",
    "for (apple in 0:1) {\n",
    "    for (milk in 0:1) {\n",
    "        for (bread in 0:1) {\n",
    "            #W <- as.integer(rev(paste(c(apple, milk, bread), collapse='')))\n",
    "            #W <- as.integer(paste(c(bread, milk, apple), collapse=''))\n",
    "            W <- as.integer(paste(c(apple, milk, bread), collapse=''))\n",
    "            S <- c(S, W)\n",
    "            if (apple) {\n",
    "                A <- c(A, W)\n",
    "            }\n",
    "            if (milk) {\n",
    "                B <- c(B, W)\n",
    "            }\n",
    "            if (bread) {\n",
    "                C <- c(C, W)\n",
    "            }\n",
    "        }\n",
    "    }    \n",
    "}\n",
    "S\n",
    "A\n",
    "B\n",
    "C"
   ]
  },
  {
   "cell_type": "code",
   "execution_count": 84,
   "metadata": {
    "deletable": false,
    "editable": false,
    "nbgrader": {
     "cell_type": "code",
     "checksum": "5205eeb89f1e8375b0bd5f9f4d48710e",
     "grade": true,
     "grade_id": "cell-dde193cdede55424",
     "locked": true,
     "points": 1,
     "schema_version": 3,
     "solution": false,
     "task": false
    }
   },
   "outputs": [],
   "source": [
    "# Test cell"
   ]
  },
  {
   "cell_type": "code",
   "execution_count": 85,
   "metadata": {
    "deletable": false,
    "editable": false,
    "nbgrader": {
     "cell_type": "code",
     "checksum": "1f124ff1c5f1d6cc649c22ae4348011b",
     "grade": true,
     "grade_id": "cell-cb9da631ffcd2be9",
     "locked": true,
     "points": 1,
     "schema_version": 3,
     "solution": false,
     "task": false
    }
   },
   "outputs": [],
   "source": [
    "# Hidden test cell"
   ]
  },
  {
   "cell_type": "code",
   "execution_count": 86,
   "metadata": {
    "deletable": false,
    "editable": false,
    "nbgrader": {
     "cell_type": "code",
     "checksum": "048cc90b7b91a85d5ba5013ef9c60335",
     "grade": true,
     "grade_id": "cell-57d0aa6617948759",
     "locked": true,
     "points": 1,
     "schema_version": 3,
     "solution": false,
     "task": false
    }
   },
   "outputs": [],
   "source": [
    "# Hidden test cell"
   ]
  },
  {
   "cell_type": "code",
   "execution_count": 10,
   "metadata": {
    "deletable": false,
    "editable": false,
    "nbgrader": {
     "cell_type": "code",
     "checksum": "2981de33266822b365377a0e5cf7e562",
     "grade": true,
     "grade_id": "cell-b2f3a3693478a215",
     "locked": true,
     "points": 1,
     "schema_version": 3,
     "solution": false,
     "task": false
    }
   },
   "outputs": [],
   "source": [
    "# Hidden test cell"
   ]
  },
  {
   "cell_type": "markdown",
   "metadata": {
    "deletable": false,
    "editable": false,
    "nbgrader": {
     "cell_type": "markdown",
     "checksum": "d67533156deccb16812c83575b6048e4",
     "grade": false,
     "grade_id": "cell-c96ae1a3b67b8405",
     "locked": true,
     "schema_version": 3,
     "solution": false,
     "task": false
    }
   },
   "source": [
    "**b)** Find the probability that the shopper purchases at least one of the three items.\n",
    "\n",
    "Store your answer in a variable `p1.1`."
   ]
  },
  {
   "cell_type": "code",
   "execution_count": 13,
   "metadata": {
    "deletable": false,
    "nbgrader": {
     "cell_type": "code",
     "checksum": "964729b9747c60670c41abc7cd6daed5",
     "grade": false,
     "grade_id": "cell-7ed7300f9544a646",
     "locked": false,
     "schema_version": 3,
     "solution": true,
     "task": false
    }
   },
   "outputs": [
    {
     "data": {
      "text/html": [
       "0.57"
      ],
      "text/latex": [
       "0.57"
      ],
      "text/markdown": [
       "0.57"
      ],
      "text/plain": [
       "[1] 0.57"
      ]
     },
     "metadata": {},
     "output_type": "display_data"
    }
   ],
   "source": [
    "p1.1 = 0.57\n",
    "# your code here\n",
    "p1 = 0.3\n",
    "p2 = 0.45\n",
    "p3 = 0.4\n",
    "p12 = 0.2\n",
    "p23 = 0.25\n",
    "p13 = 0.12\n",
    "p123 = 0.07\n",
    "p1 + p2 + p3 - p12 - p23 - p12 + p123"
   ]
  },
  {
   "cell_type": "code",
   "execution_count": 14,
   "metadata": {
    "deletable": false,
    "editable": false,
    "nbgrader": {
     "cell_type": "code",
     "checksum": "19c406190a4b2792e5fed53b4faa46ae",
     "grade": true,
     "grade_id": "cell-ea45ce544e5a99e3",
     "locked": true,
     "points": 1,
     "schema_version": 3,
     "solution": false,
     "task": false
    }
   },
   "outputs": [],
   "source": [
    "# Hidden test cell"
   ]
  },
  {
   "cell_type": "markdown",
   "metadata": {
    "deletable": false,
    "editable": false,
    "nbgrader": {
     "cell_type": "markdown",
     "checksum": "161a6c4cf3baa84643ed57ba3fe2ba9f",
     "grade": false,
     "grade_id": "cell-79bb7e1bf9598039",
     "locked": true,
     "schema_version": 3,
     "solution": false,
     "task": false
    }
   },
   "source": [
    "**c)** Find the probability that the shopper purchases none of the three items.\n",
    "\n",
    "Store your answer in a variable `p1.2`."
   ]
  },
  {
   "cell_type": "code",
   "execution_count": 16,
   "metadata": {
    "deletable": false,
    "nbgrader": {
     "cell_type": "code",
     "checksum": "fe333592807add19c394361c10ffd7a6",
     "grade": false,
     "grade_id": "cell-bfb5dcbd2331ae5a",
     "locked": false,
     "schema_version": 3,
     "solution": true,
     "task": false
    }
   },
   "outputs": [
    {
     "data": {
      "text/html": [
       "0.43"
      ],
      "text/latex": [
       "0.43"
      ],
      "text/markdown": [
       "0.43"
      ],
      "text/plain": [
       "[1] 0.43"
      ]
     },
     "metadata": {},
     "output_type": "display_data"
    }
   ],
   "source": [
    "p1.2 = 0.43\n",
    "# your code here\n",
    "1 - (p1 + p2 + p3 - p12 - p23 - p12 + p123)"
   ]
  },
  {
   "cell_type": "code",
   "execution_count": 17,
   "metadata": {
    "deletable": false,
    "editable": false,
    "nbgrader": {
     "cell_type": "code",
     "checksum": "15e8630c9415909e166f47c7400e6143",
     "grade": true,
     "grade_id": "cell-805afe733b35f14f",
     "locked": true,
     "points": 1,
     "schema_version": 3,
     "solution": false,
     "task": false
    }
   },
   "outputs": [],
   "source": [
    "# Hidden test cell"
   ]
  },
  {
   "cell_type": "markdown",
   "metadata": {
    "deletable": false,
    "editable": false,
    "nbgrader": {
     "cell_type": "markdown",
     "checksum": "735d74d4a5281147d7bbb593dd5c67bd",
     "grade": false,
     "grade_id": "cell-03a7659502870724",
     "locked": true,
     "schema_version": 3,
     "solution": false,
     "task": false
    }
   },
   "source": [
    "**d)** Find the probability that the shopper buys milk and bread but not apples.\n",
    "\n",
    "Store your answer in a variable `p1.3`."
   ]
  },
  {
   "cell_type": "code",
   "execution_count": 19,
   "metadata": {
    "deletable": false,
    "nbgrader": {
     "cell_type": "code",
     "checksum": "acfe203d673a5e745927658aa1f8bf27",
     "grade": false,
     "grade_id": "cell-18b944e97304fdaf",
     "locked": false,
     "schema_version": 3,
     "solution": true,
     "task": false
    }
   },
   "outputs": [
    {
     "data": {
      "text/html": [
       "0.18"
      ],
      "text/latex": [
       "0.18"
      ],
      "text/markdown": [
       "0.18"
      ],
      "text/plain": [
       "[1] 0.18"
      ]
     },
     "metadata": {},
     "output_type": "display_data"
    }
   ],
   "source": [
    "p1.3 = 0.18\n",
    "# your code here\n",
    "p23 - p123"
   ]
  },
  {
   "cell_type": "code",
   "execution_count": 20,
   "metadata": {
    "deletable": false,
    "editable": false,
    "nbgrader": {
     "cell_type": "code",
     "checksum": "ae3a2761371965c36ab6cd2e9e7a483d",
     "grade": true,
     "grade_id": "cell-0c6b3cd60ecff226",
     "locked": true,
     "points": 1,
     "schema_version": 3,
     "solution": false,
     "task": false
    }
   },
   "outputs": [],
   "source": [
    "# Hidden test cell"
   ]
  },
  {
   "cell_type": "markdown",
   "metadata": {
    "deletable": false,
    "editable": false,
    "nbgrader": {
     "cell_type": "markdown",
     "checksum": "cd5e845db0d5827352ecbd6ee73252c8",
     "grade": false,
     "grade_id": "cell-97a13dfd58cc0dd6",
     "locked": true,
     "schema_version": 3,
     "solution": false,
     "task": false
    }
   },
   "source": [
    "### Problem 2:\n",
    "\n",
    "A student takes a multiple choice test with $20$ questions. Each question has 5 possible answers, only one of which is correct."
   ]
  },
  {
   "cell_type": "markdown",
   "metadata": {
    "deletable": false,
    "editable": false,
    "nbgrader": {
     "cell_type": "markdown",
     "checksum": "c24ee1371dd0f2ecb86f0740d0a6cbf8",
     "grade": false,
     "grade_id": "cell-629823af389c0624",
     "locked": true,
     "schema_version": 3,
     "solution": false,
     "task": false
    }
   },
   "source": [
    "**a)** How many ways can the test be completed?  (Find the cardinality of the sample space.) Store your answer in `cardinality`."
   ]
  },
  {
   "cell_type": "code",
   "execution_count": 21,
   "metadata": {
    "deletable": false,
    "nbgrader": {
     "cell_type": "code",
     "checksum": "c4263dc5874eade41b32ffcb744e741b",
     "grade": false,
     "grade_id": "cell-b5057e9e4474f59b",
     "locked": false,
     "schema_version": 3,
     "solution": true,
     "task": false
    }
   },
   "outputs": [],
   "source": [
    "cardinality = 5^20\n",
    "# your code here\n"
   ]
  },
  {
   "cell_type": "code",
   "execution_count": 22,
   "metadata": {
    "deletable": false,
    "editable": false,
    "nbgrader": {
     "cell_type": "code",
     "checksum": "55e39ad38e6d5e97a0c362d2250af21d",
     "grade": true,
     "grade_id": "cell-5612ebda0d43085b",
     "locked": true,
     "points": 1,
     "schema_version": 3,
     "solution": false,
     "task": false
    }
   },
   "outputs": [],
   "source": [
    "# Hidden test cell"
   ]
  },
  {
   "cell_type": "markdown",
   "metadata": {
    "deletable": false,
    "editable": false,
    "nbgrader": {
     "cell_type": "markdown",
     "checksum": "5b07c53ccf1bdd0e473e48f4b9a1adb6",
     "grade": false,
     "grade_id": "cell-7bf6fa585d703028",
     "locked": true,
     "schema_version": 3,
     "solution": false,
     "task": false
    }
   },
   "source": [
    "**b)** If a student answers each question at random, what is the probability that they will answer at least $14$ questions correctly? Round your answer to seven decimal places. Store your answer in `p2.b`."
   ]
  },
  {
   "cell_type": "code",
   "execution_count": 95,
   "metadata": {
    "deletable": false,
    "nbgrader": {
     "cell_type": "code",
     "checksum": "f401d63cd163760869a16f2121f0457a",
     "grade": false,
     "grade_id": "cell-2553efd9f219711b",
     "locked": false,
     "schema_version": 3,
     "solution": true,
     "task": false
    }
   },
   "outputs": [
    {
     "data": {
      "text/html": [
       "1.8e-06"
      ],
      "text/latex": [
       "1.8e-06"
      ],
      "text/markdown": [
       "1.8e-06"
      ],
      "text/plain": [
       "[1] 1.8e-06"
      ]
     },
     "metadata": {},
     "output_type": "display_data"
    },
    {
     "data": {
      "text/html": [
       "1.8e-06"
      ],
      "text/latex": [
       "1.8e-06"
      ],
      "text/markdown": [
       "1.8e-06"
      ],
      "text/plain": [
       "[1] 1.8e-06"
      ]
     },
     "metadata": {},
     "output_type": "display_data"
    },
    {
     "data": {
      "text/html": [
       "'0.0000018'"
      ],
      "text/latex": [
       "'0.0000018'"
      ],
      "text/markdown": [
       "'0.0000018'"
      ],
      "text/plain": [
       "[1] \"0.0000018\""
      ]
     },
     "metadata": {},
     "output_type": "display_data"
    }
   ],
   "source": [
    "p2.b = 0.0000018\n",
    "round(pbinom(13, 20, 1/5, lower.tail=FALSE), 7)\n",
    "# your code here\n",
    "p2.b\n",
    "round(1-pbinom(13, 20, 1/5), 7)\n",
    "format(round(sum(dbinom(14:20, 20, 1/5)), 7), scientific = FALSE)"
   ]
  },
  {
   "cell_type": "code",
   "execution_count": 53,
   "metadata": {
    "deletable": false,
    "editable": false,
    "nbgrader": {
     "cell_type": "code",
     "checksum": "b7a78d2a126236e520b10188037ae9ea",
     "grade": true,
     "grade_id": "cell-22137f53ef67a957",
     "locked": true,
     "points": 1,
     "schema_version": 3,
     "solution": false,
     "task": false
    }
   },
   "outputs": [],
   "source": [
    "# Hidden test cell"
   ]
  },
  {
   "cell_type": "markdown",
   "metadata": {
    "deletable": false,
    "editable": false,
    "nbgrader": {
     "cell_type": "markdown",
     "checksum": "0795abccb4be4cb12b9592698a851fcf",
     "grade": false,
     "grade_id": "cell-a993cfa5ea1f2845",
     "locked": true,
     "schema_version": 3,
     "solution": false,
     "task": false
    }
   },
   "source": [
    "**c)** If a student knows the answer to each question with probability $0.9$, what is the chance they will answer at least $14$ correctly? Round your answer to four decimal places. Save your answer as `p2.c`."
   ]
  },
  {
   "cell_type": "code",
   "execution_count": 98,
   "metadata": {
    "deletable": false,
    "nbgrader": {
     "cell_type": "code",
     "checksum": "7e17f93bd95120e5bee6494aae5ed9fa",
     "grade": false,
     "grade_id": "cell-e3fa35c2a6129dea",
     "locked": false,
     "schema_version": 3,
     "solution": true,
     "task": false
    }
   },
   "outputs": [
    {
     "data": {
      "text/html": [
       "0.9976"
      ],
      "text/latex": [
       "0.9976"
      ],
      "text/markdown": [
       "0.9976"
      ],
      "text/plain": [
       "[1] 0.9976"
      ]
     },
     "metadata": {},
     "output_type": "display_data"
    },
    {
     "data": {
      "text/html": [
       "0.997613910591034"
      ],
      "text/latex": [
       "0.997613910591034"
      ],
      "text/markdown": [
       "0.997613910591034"
      ],
      "text/plain": [
       "[1] 0.9976139"
      ]
     },
     "metadata": {},
     "output_type": "display_data"
    },
    {
     "data": {
      "text/html": [
       "'0.9976'"
      ],
      "text/latex": [
       "'0.9976'"
      ],
      "text/markdown": [
       "'0.9976'"
      ],
      "text/plain": [
       "[1] \"0.9976\""
      ]
     },
     "metadata": {},
     "output_type": "display_data"
    }
   ],
   "source": [
    "p2.c = round(pbinom(13, 20, 0.9, lower.tail=FALSE), 4)\n",
    "# your code here\n",
    "p2.c\n",
    "sum(dbinom(14:20, 20, 0.9))\n",
    "format(round(sum(choose(20,14:20)*(0.9)^(14:20)*(0.1)^(20-(14:20))), 4), scientific = FALSE)"
   ]
  },
  {
   "cell_type": "code",
   "execution_count": 29,
   "metadata": {
    "deletable": false,
    "editable": false,
    "nbgrader": {
     "cell_type": "code",
     "checksum": "7cef77fd87f00d657b6b6cc4b19d61e2",
     "grade": true,
     "grade_id": "cell-f09a5e603ed5309f",
     "locked": true,
     "points": 1,
     "schema_version": 3,
     "solution": false,
     "task": false
    }
   },
   "outputs": [],
   "source": [
    "# Hidden test cell"
   ]
  },
  {
   "cell_type": "markdown",
   "metadata": {
    "deletable": false,
    "editable": false,
    "nbgrader": {
     "cell_type": "markdown",
     "checksum": "f08e457fdaebf95941354cc7eba6e987",
     "grade": false,
     "grade_id": "cell-4c3639aa0c152eff",
     "locked": true,
     "schema_version": 3,
     "solution": false,
     "task": false
    }
   },
   "source": [
    "Thought question (Ungraded): If a student understands 90\\% of the material, is a multiple choice test of 20 questions an appropriate means of testing?"
   ]
  },
  {
   "cell_type": "markdown",
   "metadata": {
    "deletable": false,
    "editable": false,
    "nbgrader": {
     "cell_type": "markdown",
     "checksum": "78c654cf4fc675f933c210f2c43c5d7b",
     "grade": false,
     "grade_id": "cell-6aa7bf7a6624a712",
     "locked": true,
     "schema_version": 3,
     "solution": false,
     "task": false
    }
   },
   "source": [
    "### Problem 3:\n",
    "\n",
    "Suppose there are 20 employees on the day shift, 15 on swing, and 10 on nights. You would like to choose 6 at random for an in-depth interview. Let $A_{1}$ be the event that all 6 are chosen from the day shift, $A_{2}$ be the event that all $6$ are chosen from the swing shift, and $A_{3}$ the event that all 6 are chosen from the night shift."
   ]
  },
  {
   "cell_type": "markdown",
   "metadata": {
    "deletable": false,
    "editable": false,
    "nbgrader": {
     "cell_type": "markdown",
     "checksum": "4b963772190b2205fb802551163af5fe",
     "grade": false,
     "grade_id": "cell-328847778e38b527",
     "locked": true,
     "schema_version": 3,
     "solution": false,
     "task": false
    }
   },
   "source": [
    "**a)** What is the cardinality of the sample space (the drawing of 6 employees from all shifts)? Assume each employee is unique. Think about what each element, or possible outcome, in the sample space represents."
   ]
  },
  {
   "cell_type": "code",
   "execution_count": 77,
   "metadata": {
    "deletable": false,
    "nbgrader": {
     "cell_type": "code",
     "checksum": "954e27ea5bf073179b924fca97b1db1c",
     "grade": false,
     "grade_id": "cell-32c6807d7b102d7e",
     "locked": false,
     "schema_version": 3,
     "solution": true,
     "task": false
    }
   },
   "outputs": [
    {
     "data": {
      "text/html": [
       "5864443200"
      ],
      "text/latex": [
       "5864443200"
      ],
      "text/markdown": [
       "5864443200"
      ],
      "text/plain": [
       "[1] 5864443200"
      ]
     },
     "metadata": {},
     "output_type": "display_data"
    }
   ],
   "source": [
    "Size = choose(45, 6) #prod(40:45)\n",
    "# your code here\n",
    "Size"
   ]
  },
  {
   "cell_type": "code",
   "execution_count": 36,
   "metadata": {
    "deletable": false,
    "editable": false,
    "nbgrader": {
     "cell_type": "code",
     "checksum": "deaeb3c1c175ad4da498ee3a467b50e0",
     "grade": true,
     "grade_id": "cell-489e5e9748f19e63",
     "locked": true,
     "points": 1,
     "schema_version": 3,
     "solution": false,
     "task": false
    }
   },
   "outputs": [],
   "source": [
    "# Hidden test cell"
   ]
  },
  {
   "cell_type": "markdown",
   "metadata": {
    "deletable": false,
    "editable": false,
    "nbgrader": {
     "cell_type": "markdown",
     "checksum": "c2e8217e72d70d699f733cde1c1b5a68",
     "grade": false,
     "grade_id": "cell-ce5bb9f3d112ca8f",
     "locked": true,
     "schema_version": 3,
     "solution": false,
     "task": false
    }
   },
   "source": [
    "**b)** Assuming that each employee is chosen with equal probaiblity, what is the probability that all 6 chosen employees work the day shift? Note that the employees are chosen sequentially, not all at once. Round your answer to 5 decimal places. Save your answer as `P_AllDay`. \n",
    "\n",
    "Thought question (ungraded): If you hired a consultant to do this interview and all 6 employees were chosen from the day shift, what would you be likely to conclude?"
   ]
  },
  {
   "cell_type": "code",
   "execution_count": 73,
   "metadata": {
    "deletable": false,
    "nbgrader": {
     "cell_type": "code",
     "checksum": "24a3cb6458e91ef62118f0071a3e120e",
     "grade": false,
     "grade_id": "cell-ea990eb90a17265f",
     "locked": false,
     "schema_version": 3,
     "solution": true,
     "task": false
    }
   },
   "outputs": [
    {
     "data": {
      "text/html": [
       "0.00476"
      ],
      "text/latex": [
       "0.00476"
      ],
      "text/markdown": [
       "0.00476"
      ],
      "text/plain": [
       "[1] 0.00476"
      ]
     },
     "metadata": {},
     "output_type": "display_data"
    }
   ],
   "source": [
    "#P_AllDay = round(choose(20, 6) / choose(45, 6), 5)\n",
    "P_AllDay = round(prod(15:20) / prod(40:45), 5)\n",
    "# your code here\n",
    "P_AllDay"
   ]
  },
  {
   "cell_type": "code",
   "execution_count": 40,
   "metadata": {
    "deletable": false,
    "editable": false,
    "nbgrader": {
     "cell_type": "code",
     "checksum": "0aa3c78799a3c413b7706429b0fc9990",
     "grade": true,
     "grade_id": "cell-36ff1658fcaba23d",
     "locked": true,
     "points": 1,
     "schema_version": 3,
     "solution": false,
     "task": false
    }
   },
   "outputs": [],
   "source": [
    "# Hidden test cell"
   ]
  },
  {
   "cell_type": "markdown",
   "metadata": {
    "deletable": false,
    "editable": false,
    "nbgrader": {
     "cell_type": "markdown",
     "checksum": "479c9371b9a2a60f9eae5fd75ba74006",
     "grade": false,
     "grade_id": "cell-6a3517d965bd59a4",
     "locked": true,
     "schema_version": 3,
     "solution": false,
     "task": false
    }
   },
   "source": [
    "**c)** What is the probability that all 6 workers are selected from the same shift? Again, assume the employees are selected sequentially and not all at once. Round your answer to four decimal places. Save your answer as `P_AllSame`."
   ]
  },
  {
   "cell_type": "code",
   "execution_count": 75,
   "metadata": {
    "deletable": false,
    "nbgrader": {
     "cell_type": "code",
     "checksum": "a7cd3466f4966277ca7f0a8b6e3a749c",
     "grade": false,
     "grade_id": "cell-2ce9cf019a87848d",
     "locked": false,
     "schema_version": 3,
     "solution": true,
     "task": false
    }
   },
   "outputs": [
    {
     "data": {
      "text/html": [
       "0.0054"
      ],
      "text/latex": [
       "0.0054"
      ],
      "text/markdown": [
       "0.0054"
      ],
      "text/plain": [
       "[1] 0.0054"
      ]
     },
     "metadata": {},
     "output_type": "display_data"
    }
   ],
   "source": [
    "#P_AllSame = round((choose(20, 6) + choose(15, 6) + choose(10, 6)) / choose(45, 6), 4)\n",
    "P_AllSame = round(prod(15:20) / prod(40:45) + prod(10:15) / prod(40:45) + prod(5:10) / prod(40:45), 4)\n",
    "# your code here\n",
    "P_AllSame"
   ]
  },
  {
   "cell_type": "code",
   "execution_count": 44,
   "metadata": {
    "deletable": false,
    "editable": false,
    "nbgrader": {
     "cell_type": "code",
     "checksum": "19025901b16fa4972cdbbed32ebf124c",
     "grade": true,
     "grade_id": "cell-5ce90acadf6e0a50",
     "locked": true,
     "points": 1,
     "schema_version": 3,
     "solution": false,
     "task": false
    }
   },
   "outputs": [],
   "source": [
    "# Hidden test cell"
   ]
  },
  {
   "cell_type": "markdown",
   "metadata": {
    "deletable": false,
    "editable": false,
    "nbgrader": {
     "cell_type": "markdown",
     "checksum": "4b6943bfe0acb82770adf7cd3496403c",
     "grade": false,
     "grade_id": "cell-590a6e4a52010b66",
     "locked": true,
     "schema_version": 3,
     "solution": false,
     "task": false
    }
   },
   "source": [
    "Thought question (Ungraded): Let $B_{1}$ be the event that no one from the day shift is selected, $B_{2}$ the event that no one from the swing shift is selected, and $B_{3}$ the event that no one from the night shift is selected. \n",
    "\n",
    "How is $A_{1}^{c}$ defined? Is it related to $B_{1}$ or $B_{1}^{c}$? It's very important to carefully define the events of interest so that you know you are calculating the correct probability."
   ]
  },
  {
   "cell_type": "markdown",
   "metadata": {
    "deletable": false,
    "editable": false,
    "nbgrader": {
     "cell_type": "markdown",
     "checksum": "d33858437f3089957894417ce7020d8b",
     "grade": false,
     "grade_id": "cell-ba52b2c8195e6de2",
     "locked": true,
     "schema_version": 3,
     "solution": false,
     "task": false
    }
   },
   "source": [
    "**d)** Find the probability that at least one of the shifts will be unrepresented in the sample of $6$ workers. Round your answer to four decimal places. Save your answer as `P_NoneOfOneShift`.\n",
    "\n",
    "**Hint:** We want to solve $P(B_1 \\cup B_2 \\cup B_3)$. To solve this, it may help to make a venn diagram for these events. Make sure you don't overcount the overlapping areas of this venn diagram!"
   ]
  },
  {
   "cell_type": "code",
   "execution_count": 92,
   "metadata": {
    "deletable": false,
    "nbgrader": {
     "cell_type": "code",
     "checksum": "6b41803f9ec5fdfd7649feaff45ce07b",
     "grade": false,
     "grade_id": "cell-2ddb772904ee1606",
     "locked": false,
     "schema_version": 3,
     "solution": true,
     "task": false
    }
   },
   "outputs": [
    {
     "data": {
      "text/html": [
       "0.2885"
      ],
      "text/latex": [
       "0.2885"
      ],
      "text/markdown": [
       "0.2885"
      ],
      "text/plain": [
       "[1] 0.2885"
      ]
     },
     "metadata": {},
     "output_type": "display_data"
    }
   ],
   "source": [
    "P_NoneOfOneShift = 0.2885\n",
    "# your code here\n",
    "pb1 = choose(25,6)/choose(45,6)\n",
    "pb2 = choose(30,6)/choose(45,6)\n",
    "pb3 = choose(35,6)/choose(45,6)\n",
    "pb12 = choose(10,6)/choose(45,6) # pa3\n",
    "pb23 = choose(20,6)/choose(45,6) # pa1\n",
    "pb13 = choose(15,6)/choose(45,6) # pa2\n",
    "pb123 = 0\n",
    "round(pb1 + pb2 + pb3 - pb12 - pb23 - pb13 + pb123, 4)"
   ]
  },
  {
   "cell_type": "code",
   "execution_count": 93,
   "metadata": {
    "deletable": false,
    "editable": false,
    "nbgrader": {
     "cell_type": "code",
     "checksum": "79688757d62e63b7c19a9a4337ffa511",
     "grade": true,
     "grade_id": "cell-9d3ba7646d2fe8e4",
     "locked": true,
     "points": 1,
     "schema_version": 3,
     "solution": false,
     "task": false
    }
   },
   "outputs": [],
   "source": [
    "# Hidden test cell"
   ]
  },
  {
   "cell_type": "code",
   "execution_count": null,
   "metadata": {},
   "outputs": [],
   "source": []
  }
 ],
 "metadata": {
  "kernelspec": {
   "display_name": "R",
   "language": "R",
   "name": "ir"
  },
  "language_info": {
   "codemirror_mode": "r",
   "file_extension": ".r",
   "mimetype": "text/x-r-source",
   "name": "R",
   "pygments_lexer": "r",
   "version": "3.6.3"
  }
 },
 "nbformat": 4,
 "nbformat_minor": 4
}
