{
 "cells": [
  {
   "cell_type": "markdown",
   "metadata": {
    "deletable": false,
    "editable": false,
    "nbgrader": {
     "cell_type": "markdown",
     "checksum": "3462dfcfe117194747781af3d1a6b97b",
     "grade": false,
     "grade_id": "cell-f0ab9cd622875579",
     "locked": true,
     "schema_version": 3,
     "solution": false,
     "task": false
    }
   },
   "source": [
    "## Module 5 Assessment"
   ]
  },
  {
   "cell_type": "code",
   "execution_count": 1,
   "metadata": {
    "deletable": false,
    "editable": false,
    "nbgrader": {
     "cell_type": "code",
     "checksum": "bc4ec69ebd2eb9a303ae4d1dc79c1608",
     "grade": false,
     "grade_id": "cell-eca9fa391ffa1807",
     "locked": true,
     "schema_version": 3,
     "solution": false,
     "task": false
    }
   },
   "outputs": [],
   "source": [
    "library(testthat)"
   ]
  },
  {
   "cell_type": "markdown",
   "metadata": {
    "deletable": false,
    "editable": false,
    "nbgrader": {
     "cell_type": "markdown",
     "checksum": "9873d16121ff53fe9b1baf6d0fb35afe",
     "grade": false,
     "grade_id": "cell-1d128a6d034a528e",
     "locked": true,
     "schema_version": 3,
     "solution": false,
     "task": false
    }
   },
   "source": [
    "### Problem 1\n",
    "Let $X$ be a random variable such that $E(X) = 3$, $sd(X) = 4$, and let $Y$ be a\n",
    "r.v. such that $E(Y ) = 1$, $sd(Y ) = 2$. $X$ and $Y$ are not linearly independent, and\n",
    "$corr(X, Y ) = 0.5$."
   ]
  },
  {
   "cell_type": "markdown",
   "metadata": {
    "deletable": false,
    "editable": false,
    "nbgrader": {
     "cell_type": "markdown",
     "checksum": "3a5c42f442b641225f16d4e3015e7539",
     "grade": false,
     "grade_id": "cell-417dbf7237ee4ea8",
     "locked": true,
     "schema_version": 3,
     "solution": false,
     "task": false
    }
   },
   "source": [
    "**a)** What is $E(X + 3Y + 1)$?"
   ]
  },
  {
   "cell_type": "code",
   "execution_count": 2,
   "metadata": {
    "deletable": false,
    "nbgrader": {
     "cell_type": "code",
     "checksum": "614f75464120de08da6c4edf6b19d88b",
     "grade": false,
     "grade_id": "cell-9fed1d17ff762b2a",
     "locked": false,
     "schema_version": 3,
     "solution": true,
     "task": false
    }
   },
   "outputs": [
    {
     "data": {
      "text/html": [
       "7"
      ],
      "text/latex": [
       "7"
      ],
      "text/markdown": [
       "7"
      ],
      "text/plain": [
       "[1] 7"
      ]
     },
     "metadata": {},
     "output_type": "display_data"
    }
   ],
   "source": [
    "e1.1 = 3 + 3*1 + 1\n",
    "# your code here\n",
    "e1.1"
   ]
  },
  {
   "cell_type": "code",
   "execution_count": null,
   "metadata": {
    "deletable": false,
    "editable": false,
    "nbgrader": {
     "cell_type": "code",
     "checksum": "b51d05dd121d3dca0b031a73c9d26e3f",
     "grade": true,
     "grade_id": "cell-3b1500464f3ce901",
     "locked": true,
     "points": 1,
     "schema_version": 3,
     "solution": false,
     "task": false
    }
   },
   "outputs": [],
   "source": [
    "# Hidden test cell"
   ]
  },
  {
   "cell_type": "markdown",
   "metadata": {
    "deletable": false,
    "editable": false,
    "nbgrader": {
     "cell_type": "markdown",
     "checksum": "8ba70e5ba414a3a4b8caf70cadc455f4",
     "grade": false,
     "grade_id": "cell-7ae57d3e6199b834",
     "locked": true,
     "schema_version": 3,
     "solution": false,
     "task": false
    }
   },
   "source": [
    "**b)** What is $sd(4X + 2Y + 2)$? Round your answer to two decimal places."
   ]
  },
  {
   "cell_type": "code",
   "execution_count": 3,
   "metadata": {
    "deletable": false,
    "nbgrader": {
     "cell_type": "code",
     "checksum": "b77c05d17f60ba39922b2a0826ff5184",
     "grade": false,
     "grade_id": "cell-c6da0d35d116dd9d",
     "locked": false,
     "schema_version": 3,
     "solution": true,
     "task": false
    }
   },
   "outputs": [
    {
     "data": {
      "text/html": [
       "18.33"
      ],
      "text/latex": [
       "18.33"
      ],
      "text/markdown": [
       "18.33"
      ],
      "text/plain": [
       "[1] 18.33"
      ]
     },
     "metadata": {},
     "output_type": "display_data"
    }
   ],
   "source": [
    "sd1.2 = round(sqrt(16*16+4*4+2*4*2*0.5*4*2), 2)\n",
    "# your code here\n",
    "sd1.2"
   ]
  },
  {
   "cell_type": "code",
   "execution_count": null,
   "metadata": {
    "deletable": false,
    "editable": false,
    "nbgrader": {
     "cell_type": "code",
     "checksum": "b2443b08ade91acf3dbf4993d1b138b7",
     "grade": true,
     "grade_id": "cell-d70fb029aacec3ea",
     "locked": true,
     "points": 1,
     "schema_version": 3,
     "solution": false,
     "task": false
    }
   },
   "outputs": [],
   "source": [
    "# Hidden test cell"
   ]
  },
  {
   "cell_type": "markdown",
   "metadata": {
    "deletable": false,
    "editable": false,
    "nbgrader": {
     "cell_type": "markdown",
     "checksum": "a1bd02d0838f0e05cdd16944828700ee",
     "grade": false,
     "grade_id": "cell-c2f86590e24db895",
     "locked": true,
     "schema_version": 3,
     "solution": false,
     "task": false
    }
   },
   "source": [
    "**c)** What is $E(3X - 2Y - 10)$?"
   ]
  },
  {
   "cell_type": "code",
   "execution_count": 4,
   "metadata": {
    "deletable": false,
    "nbgrader": {
     "cell_type": "code",
     "checksum": "d349774d4bea732848f040d37b671d6b",
     "grade": false,
     "grade_id": "cell-5bf7d109d3494bac",
     "locked": false,
     "schema_version": 3,
     "solution": true,
     "task": false
    }
   },
   "outputs": [
    {
     "data": {
      "text/html": [
       "-3"
      ],
      "text/latex": [
       "-3"
      ],
      "text/markdown": [
       "-3"
      ],
      "text/plain": [
       "[1] -3"
      ]
     },
     "metadata": {},
     "output_type": "display_data"
    }
   ],
   "source": [
    "e1.3 = 3*3-2*1-10\n",
    "# your code here\n",
    "e1.3 "
   ]
  },
  {
   "cell_type": "code",
   "execution_count": null,
   "metadata": {
    "deletable": false,
    "editable": false,
    "nbgrader": {
     "cell_type": "code",
     "checksum": "d4f1dbaf2c31bdfbd9010ce4bd9c0a84",
     "grade": true,
     "grade_id": "cell-927875b98043c91f",
     "locked": true,
     "points": 1,
     "schema_version": 3,
     "solution": false,
     "task": false
    }
   },
   "outputs": [],
   "source": [
    "# Hidden test cell"
   ]
  },
  {
   "cell_type": "markdown",
   "metadata": {
    "deletable": false,
    "editable": false,
    "nbgrader": {
     "cell_type": "markdown",
     "checksum": "99124461621c6de35ea87d6e9adbdc20",
     "grade": false,
     "grade_id": "cell-50889c1e3d32dbf7",
     "locked": true,
     "schema_version": 3,
     "solution": false,
     "task": false
    }
   },
   "source": [
    "**d)** What is $sd(3X - 3Y - 5)$? Round your answer to two decimal places."
   ]
  },
  {
   "cell_type": "code",
   "execution_count": 6,
   "metadata": {
    "deletable": false,
    "nbgrader": {
     "cell_type": "code",
     "checksum": "0e5c481e495a06c32fb12fd9eeee474a",
     "grade": false,
     "grade_id": "cell-9d5aa30a9efbee2f",
     "locked": false,
     "schema_version": 3,
     "solution": true,
     "task": false
    }
   },
   "outputs": [
    {
     "data": {
      "text/html": [
       "10.39"
      ],
      "text/latex": [
       "10.39"
      ],
      "text/markdown": [
       "10.39"
      ],
      "text/plain": [
       "[1] 10.39"
      ]
     },
     "metadata": {},
     "output_type": "display_data"
    }
   ],
   "source": [
    "sd1.4 = round(sqrt(9*16+9*4-2*3*3*0.5*4*2),2)\n",
    "# your code here\n",
    "sd1.4"
   ]
  },
  {
   "cell_type": "code",
   "execution_count": 7,
   "metadata": {
    "deletable": false,
    "editable": false,
    "nbgrader": {
     "cell_type": "code",
     "checksum": "dac21bce4ecf009b3ea472be5cc93e46",
     "grade": true,
     "grade_id": "cell-4aaa44f8d4ebf4a4",
     "locked": true,
     "points": 1,
     "schema_version": 3,
     "solution": false,
     "task": false
    }
   },
   "outputs": [],
   "source": [
    "# Hidden test cell"
   ]
  },
  {
   "cell_type": "markdown",
   "metadata": {
    "deletable": false,
    "editable": false,
    "nbgrader": {
     "cell_type": "markdown",
     "checksum": "c225da44e1a7ae313cfdce125a07886a",
     "grade": false,
     "grade_id": "cell-3a1f27cba739fb63",
     "locked": true,
     "schema_version": 3,
     "solution": false,
     "task": false
    }
   },
   "source": [
    "### Problem 2\n",
    "\n",
    "Two components needed in automotive manufacturing each can be represented in 1 of 3 grades. Let $X$ be the cost of the first component (in hundreds of dollars) and let $Y$ be the cost of the second component (also in hundreds of dollars). The following table represents the weekly fraction of cars that utilize each combination of these components.\n",
    "\n",
    "|      | y=7 | y=9 | y=10 |\n",
    "| ----- | ----- | ----- | ----- |\n",
    "| x=7 | 0.05 | 0.05 | 0.10 |\n",
    "| x=9 | 0.05 | 0.10 | 0.35 |\n",
    "| x=10 | 0 | 0.20 | 0.10 |"
   ]
  },
  {
   "cell_type": "markdown",
   "metadata": {
    "deletable": false,
    "editable": false,
    "nbgrader": {
     "cell_type": "markdown",
     "checksum": "e4df4d411c1a9fb7e04dc3340ae40d7c",
     "grade": false,
     "grade_id": "cell-480390578aaafb46",
     "locked": true,
     "schema_version": 3,
     "solution": false,
     "task": false
    }
   },
   "source": [
    "**a)** What is $Cov(X, Y)$? Round your answer to three decimal places."
   ]
  },
  {
   "cell_type": "code",
   "execution_count": 31,
   "metadata": {
    "deletable": false,
    "nbgrader": {
     "cell_type": "code",
     "checksum": "7e653c0386136cf8317d3bdc595244bb",
     "grade": false,
     "grade_id": "cell-702af8af57ff974e",
     "locked": false,
     "schema_version": 3,
     "solution": true,
     "task": false
    }
   },
   "outputs": [
    {
     "data": {
      "text/html": [
       "0.135"
      ],
      "text/latex": [
       "0.135"
      ],
      "text/markdown": [
       "0.135"
      ],
      "text/plain": [
       "[1] 0.135"
      ]
     },
     "metadata": {},
     "output_type": "display_data"
    }
   ],
   "source": [
    "cov.xy = 0.135\n",
    "# your code here\n",
    "x = c(7,9,10)\n",
    "px = c(0.2,0.5,0.3)\n",
    "y = c(7,9,10)\n",
    "py = c(0.1,0.35,0.55)\n",
    "mx = sum(x*px)\n",
    "my = sum(y*py)\n",
    "sx = sqrt(sum((x-mx)^2*px))\n",
    "sy = sqrt(sum((y-my)^2*py))\n",
    "p = list()\n",
    "p[['7,7']] = p[['7,9']] = p[['9,7']] = 0.05\n",
    "p[['9,9']] = p[['7,10']] = p[['10,10']] = 0.1\n",
    "p[['10,7']] = 0\n",
    "p[['10,9']] = 0.2\n",
    "p[['9,10']] = 0.35\n",
    "cov <- 0\n",
    "for (i in x) {\n",
    "    for (j in y) {\n",
    "        ij <- paste(i,j, sep=',')\n",
    "        #print(paste(i,j,p[[ij]]))\n",
    "        cov <- cov + (i-mx)*(j-my)*p[[ij]]\n",
    "    }\n",
    "}\n",
    "cov    "
   ]
  },
  {
   "cell_type": "code",
   "execution_count": 26,
   "metadata": {
    "deletable": false,
    "editable": false,
    "nbgrader": {
     "cell_type": "code",
     "checksum": "ae6fc25db84e47dec4c601d0ef94fdf5",
     "grade": true,
     "grade_id": "cell-aab6384b34d387ea",
     "locked": true,
     "points": 1,
     "schema_version": 3,
     "solution": false,
     "task": false
    }
   },
   "outputs": [],
   "source": [
    "# Hidden Test Cell"
   ]
  },
  {
   "cell_type": "markdown",
   "metadata": {
    "deletable": false,
    "editable": false,
    "nbgrader": {
     "cell_type": "markdown",
     "checksum": "69b0be5be477d704b575a60fb98696bf",
     "grade": false,
     "grade_id": "cell-d35e5674a9720375",
     "locked": true,
     "schema_version": 3,
     "solution": false,
     "task": false
    }
   },
   "source": [
    "**b)** Suppose the random variables measure the cost of each part in dollars, rather than hundreds of dollars. In this case, the random variables would be $U = 100X$ and $V = 100Y$. What is $Cov(U, V)$? (This question shows us how changing the units of the random variable can change the value of the covariance) "
   ]
  },
  {
   "cell_type": "code",
   "execution_count": 27,
   "metadata": {
    "deletable": false,
    "nbgrader": {
     "cell_type": "code",
     "checksum": "0afe953968db046f6b37488323b84ce6",
     "grade": false,
     "grade_id": "cell-e0af6f546abea7ff",
     "locked": false,
     "schema_version": 3,
     "solution": true,
     "task": false
    }
   },
   "outputs": [
    {
     "data": {
      "text/html": [
       "1350"
      ],
      "text/latex": [
       "1350"
      ],
      "text/markdown": [
       "1350"
      ],
      "text/plain": [
       "[1] 1350"
      ]
     },
     "metadata": {},
     "output_type": "display_data"
    }
   ],
   "source": [
    "cov.uv = 100*100*0.135\n",
    "# your code here\n",
    "cov.uv"
   ]
  },
  {
   "cell_type": "code",
   "execution_count": 28,
   "metadata": {
    "deletable": false,
    "editable": false,
    "nbgrader": {
     "cell_type": "code",
     "checksum": "b2d86b969e93acfb67368c3138d66d59",
     "grade": true,
     "grade_id": "cell-ce2d5b2dd8d8ef25",
     "locked": true,
     "points": 1,
     "schema_version": 3,
     "solution": false,
     "task": false
    }
   },
   "outputs": [],
   "source": [
    "# Hidden Test Cell"
   ]
  },
  {
   "cell_type": "markdown",
   "metadata": {
    "deletable": false,
    "editable": false,
    "nbgrader": {
     "cell_type": "markdown",
     "checksum": "92f5b85deab2c86b8a4deb8f2eda06aa",
     "grade": false,
     "grade_id": "cell-101e78cfad1832ae",
     "locked": true,
     "schema_version": 3,
     "solution": false,
     "task": false
    }
   },
   "source": [
    "**c)** What is the correlation coefficient $\\rho_{X,Y}$? Save this value as `rho.xy`. What is the correlation coefficient $\\rho_{U,V}$? Save this value as `rho.uv`? Round your answers to three decimal places."
   ]
  },
  {
   "cell_type": "code",
   "execution_count": 34,
   "metadata": {
    "deletable": false,
    "nbgrader": {
     "cell_type": "code",
     "checksum": "9b5ff66cb1e844e96c7e948efd74de2f",
     "grade": false,
     "grade_id": "cell-60e581d2fd5217fc",
     "locked": false,
     "schema_version": 3,
     "solution": true,
     "task": false
    }
   },
   "outputs": [
    {
     "data": {
      "text/html": [
       "0.142146613755309"
      ],
      "text/latex": [
       "0.142146613755309"
      ],
      "text/markdown": [
       "0.142146613755309"
      ],
      "text/plain": [
       "[1] 0.1421466"
      ]
     },
     "metadata": {},
     "output_type": "display_data"
    },
    {
     "data": {
      "text/html": [
       "0.142146613755309"
      ],
      "text/latex": [
       "0.142146613755309"
      ],
      "text/markdown": [
       "0.142146613755309"
      ],
      "text/plain": [
       "[1] 0.1421466"
      ]
     },
     "metadata": {},
     "output_type": "display_data"
    }
   ],
   "source": [
    "rho.xy = 0.142\n",
    "rho.uv = 0.142\n",
    "# your code here\n",
    "cov / (sx*sy)\n",
    "cov.uv / (100*sx*100*sy)"
   ]
  },
  {
   "cell_type": "code",
   "execution_count": 35,
   "metadata": {
    "deletable": false,
    "editable": false,
    "nbgrader": {
     "cell_type": "code",
     "checksum": "ce9db467e207ef8b5dfffe8300714924",
     "grade": true,
     "grade_id": "cell-34d3ce72b1670047",
     "locked": true,
     "points": 1,
     "schema_version": 3,
     "solution": false,
     "task": false
    }
   },
   "outputs": [],
   "source": [
    "# Hidden Test Cell"
   ]
  }
 ],
 "metadata": {
  "kernelspec": {
   "display_name": "R",
   "language": "R",
   "name": "ir"
  },
  "language_info": {
   "codemirror_mode": "r",
   "file_extension": ".r",
   "mimetype": "text/x-r-source",
   "name": "R",
   "pygments_lexer": "r",
   "version": "3.6.3"
  }
 },
 "nbformat": 4,
 "nbformat_minor": 4
}
