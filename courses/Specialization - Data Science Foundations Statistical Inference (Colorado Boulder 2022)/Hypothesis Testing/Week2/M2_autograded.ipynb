{
 "cells": [
  {
   "cell_type": "markdown",
   "metadata": {
    "deletable": false,
    "editable": false,
    "nbgrader": {
     "cell_type": "markdown",
     "checksum": "0a38ac6e04c172065edfc7ef41a00085",
     "grade": false,
     "grade_id": "cell-df3dda958a9bf104",
     "locked": true,
     "schema_version": 3,
     "solution": false,
     "task": false
    }
   },
   "source": [
    "# Module 2 Programming Assignment"
   ]
  },
  {
   "cell_type": "code",
   "execution_count": 1,
   "metadata": {
    "deletable": false,
    "editable": false,
    "nbgrader": {
     "cell_type": "code",
     "checksum": "79328a3df9f5ed87019fc687f906237d",
     "grade": false,
     "grade_id": "cell-f96e0264d922200c",
     "locked": true,
     "schema_version": 3,
     "solution": false,
     "task": false
    }
   },
   "outputs": [],
   "source": [
    "# Load Required Packages\n",
    "library(testthat)"
   ]
  },
  {
   "cell_type": "markdown",
   "metadata": {
    "deletable": false,
    "editable": false,
    "nbgrader": {
     "cell_type": "markdown",
     "checksum": "360c92719a4ddf737179f07e61f03398",
     "grade": false,
     "grade_id": "cell-e910b7c06b099a83",
     "locked": true,
     "schema_version": 3,
     "solution": false,
     "task": false
    }
   },
   "source": [
    "# Problem 1\n",
    "\n",
    "Your friend Chip claims to have \"superhuman predictive skills.\" To test his claims, you decide to set up an experiment with coins, where Chip will guess the result of the flip, then you will flip the coin and record whether Chip guessed correctly. Assume all coins are fair.\n",
    "\n",
    "Let $p$ be the proportion of flips that are guessed correctly. In the assignment for module 1, we discerned the null and alternative hypotheses to be:\n",
    "\n",
    "\\begin{align*}\n",
    "    H_0:&\\qquad p = 1/2 \\\\\n",
    "    H_1:&\\qquad p > 1/2\n",
    "\\end{align*}"
   ]
  },
  {
   "cell_type": "markdown",
   "metadata": {
    "deletable": false,
    "editable": false,
    "nbgrader": {
     "cell_type": "markdown",
     "checksum": "226b15da438e24f01d978041f93e294c",
     "grade": false,
     "grade_id": "cell-dd7ec5ff24855781",
     "locked": true,
     "schema_version": 3,
     "solution": false,
     "task": false
    }
   },
   "source": [
    "**Part A)** Suppose we want to perform our hypothesis test at a significance level $\\alpha=0.05$. Which type of test will we perform and which critical region should we use? Save the integer of the correct answer into `p1.a`.\n",
    "\n",
    "1. Upper Tailed Test with critical region above $z_{0.05}$.\n",
    "2. Upper Tailed Test with critical region above $z_{0.95}$.\n",
    "3. Lower Tailed Test with critical region below $z_{0.05}$.\n",
    "4. Lower Tailed Test with critical region below $z_{0.95}$.\n",
    "5. None of the above."
   ]
  },
  {
   "cell_type": "code",
   "execution_count": 2,
   "metadata": {
    "deletable": false,
    "nbgrader": {
     "cell_type": "code",
     "checksum": "d707a38f53e6754796a17311b4a1e019",
     "grade": false,
     "grade_id": "cell-73d63231e948a603",
     "locked": false,
     "schema_version": 3,
     "solution": true,
     "task": false
    }
   },
   "outputs": [
    {
     "data": {
      "text/html": [
       "1"
      ],
      "text/latex": [
       "1"
      ],
      "text/markdown": [
       "1"
      ],
      "text/plain": [
       "[1] 1"
      ]
     },
     "metadata": {},
     "output_type": "display_data"
    }
   ],
   "source": [
    "p1.a = 1\n",
    "\n",
    "# your code here\n",
    "p1.a"
   ]
  },
  {
   "cell_type": "code",
   "execution_count": 3,
   "metadata": {
    "deletable": false,
    "editable": false,
    "nbgrader": {
     "cell_type": "code",
     "checksum": "35b0c0df2476e337c036110eb70c3aa1",
     "grade": true,
     "grade_id": "cell-309e0d10c042f4fe",
     "locked": true,
     "points": 1,
     "schema_version": 3,
     "solution": false,
     "task": false
    }
   },
   "outputs": [],
   "source": [
    "# Hidden Test Cell"
   ]
  },
  {
   "cell_type": "markdown",
   "metadata": {
    "deletable": false,
    "editable": false,
    "nbgrader": {
     "cell_type": "markdown",
     "checksum": "99a3fce03badb2973f0bc8c70bd54615",
     "grade": false,
     "grade_id": "cell-e48138c288a78afd",
     "locked": true,
     "schema_version": 3,
     "solution": false,
     "task": false
    }
   },
   "source": [
    "**Part B)** You and Chip sit down, perform the experiment, and find that Chip correctly predicted the results of 60 out of 100 flips. At the $\\alpha=0.05$ significance level, would the test indicate that Chip is or is not psychic? Into variable `p1.b`, save `TRUE` if the test says Chip is psychic and `FALSE` if the test says he is not psychic.\n",
    "\n",
    "Hint: The sample proportion $\\widehat{p}=60/100$ is a sample mean for a sample of size $100$ from the Bernoulli distribution. Use the Central Limit Theorem for a test on a mean."
   ]
  },
  {
   "cell_type": "code",
   "execution_count": 13,
   "metadata": {
    "deletable": false,
    "nbgrader": {
     "cell_type": "code",
     "checksum": "4622f939948c19ce9083ffa85fd741ac",
     "grade": false,
     "grade_id": "cell-4c994a67721d2094",
     "locked": false,
     "schema_version": 3,
     "solution": true,
     "task": false
    }
   },
   "outputs": [
    {
     "data": {
      "text/html": [
       "0.0206134166685819"
      ],
      "text/latex": [
       "0.0206134166685819"
      ],
      "text/markdown": [
       "0.0206134166685819"
      ],
      "text/plain": [
       "[1] 0.02061342"
      ]
     },
     "metadata": {},
     "output_type": "display_data"
    }
   ],
   "source": [
    "p1.b = TRUE\n",
    "alpha = 0.05\n",
    "\n",
    "# your code here\n",
    "pnorm((0.6 - 0.5)/sqrt(0.6*(1-0.6)/100), lower.tail=FALSE)"
   ]
  },
  {
   "cell_type": "code",
   "execution_count": 6,
   "metadata": {
    "deletable": false,
    "editable": false,
    "nbgrader": {
     "cell_type": "code",
     "checksum": "a0ea75473c1ef1b18a6ae755d9fa7da7",
     "grade": true,
     "grade_id": "cell-8108bb610e2a0619",
     "locked": true,
     "points": 1,
     "schema_version": 3,
     "solution": false,
     "task": false
    }
   },
   "outputs": [],
   "source": [
    "# Hidden Test Cell"
   ]
  },
  {
   "cell_type": "markdown",
   "metadata": {
    "deletable": false,
    "editable": false,
    "nbgrader": {
     "cell_type": "markdown",
     "checksum": "8264e5f6f1b81d496cc906f21f38875f",
     "grade": false,
     "grade_id": "cell-375e66886e79cc57",
     "locked": true,
     "schema_version": 3,
     "solution": false,
     "task": false
    }
   },
   "source": [
    "**Part C)** Suppose that the null hypothesis is actually false. If we where to decrease the significance level to $\\alpha=0.01$, what would happen to the power and to the probability of a Type II error? \n",
    "\n",
    "1. Both the power and the probability of Type II error would increase.\n",
    "2. Both the power and the probability of Type II error would decrease.\n",
    "3. The power would increase and the probability of Type II error would decrease.\n",
    "4. The power would decrease and the probability of Type II error would increase.\n",
    "\n",
    "Save the integer of the correct answer into variable `p1.c`."
   ]
  },
  {
   "cell_type": "code",
   "execution_count": 22,
   "metadata": {
    "deletable": false,
    "nbgrader": {
     "cell_type": "code",
     "checksum": "8a03ed425d330d09cbefd5d6b432a44e",
     "grade": false,
     "grade_id": "cell-6b9e073ee7d3cf08",
     "locked": false,
     "schema_version": 3,
     "solution": true,
     "task": false
    }
   },
   "outputs": [
    {
     "data": {
      "text/html": [
       "0.549092686126006"
      ],
      "text/latex": [
       "0.549092686126006"
      ],
      "text/markdown": [
       "0.549092686126006"
      ],
      "text/plain": [
       "[1] 0.5490927"
      ]
     },
     "metadata": {},
     "output_type": "display_data"
    },
    {
     "data": {
      "text/html": [
       "0.311184385004747"
      ],
      "text/latex": [
       "0.311184385004747"
      ],
      "text/markdown": [
       "0.311184385004747"
      ],
      "text/plain": [
       "[1] 0.3111844"
      ]
     },
     "metadata": {},
     "output_type": "display_data"
    }
   ],
   "source": [
    "p1.c = 4\n",
    "\n",
    "# your code here\n",
    "# power\n",
    "mu0 <- 0.5\n",
    "mu <- 0.55\n",
    "sigma <- 0.6*(1-0.6)\n",
    "n <- 100\n",
    "#qnorm(c(0.05, 0.01), lower.tail = FALSE)\n",
    "pnorm((mu0+qnorm(0.05/2, lower.tail = FALSE)*sigma/sqrt(n)-mu)/(sigma/sqrt(n)), lower.tail=FALSE) # prob to reject H0 \n",
    "pnorm((mu0+qnorm(0.01/2, lower.tail = FALSE)*sigma/sqrt(n)-mu)/(sigma/sqrt(n)), lower.tail=FALSE) "
   ]
  },
  {
   "cell_type": "code",
   "execution_count": 23,
   "metadata": {
    "deletable": false,
    "editable": false,
    "nbgrader": {
     "cell_type": "code",
     "checksum": "2fe7b4fdce1fb38ca67f791a0fd46edd",
     "grade": true,
     "grade_id": "cell-0489c8781458508b",
     "locked": true,
     "points": 1,
     "schema_version": 3,
     "solution": false,
     "task": false
    }
   },
   "outputs": [],
   "source": [
    "# Hidden Test Cell"
   ]
  },
  {
   "cell_type": "markdown",
   "metadata": {
    "deletable": false,
    "editable": false,
    "nbgrader": {
     "cell_type": "markdown",
     "checksum": "62dd473404d00a77c05a0c019079e44e",
     "grade": false,
     "grade_id": "cell-6be5a0e1025da50f",
     "locked": true,
     "schema_version": 3,
     "solution": false,
     "task": false
    }
   },
   "source": [
    "**Part D)** Out of the 100 flips, what is the minimum number of flips that Chip would need to guess correctly in order to reject the null hypothesis at the $\\alpha=0.01$ significance level? Save your answer as `p1.d`. Round your answer to the nearest whole number."
   ]
  },
  {
   "cell_type": "code",
   "execution_count": 27,
   "metadata": {
    "deletable": false,
    "nbgrader": {
     "cell_type": "code",
     "checksum": "0090b7491442355837508451a3f587ca",
     "grade": false,
     "grade_id": "cell-d611fb1cca6a536f",
     "locked": false,
     "schema_version": 3,
     "solution": true,
     "task": false
    }
   },
   "outputs": [
    {
     "name": "stdout",
     "output_type": "stream",
     "text": [
      "[1] 100.000000        Inf   1.644854\n",
      "[1] 99.000000 49.246853  1.644854\n",
      "[1] 98.000000 34.285714  1.644854\n",
      "[1] 97.000000 27.551888  1.644854\n",
      "[1] 96.000000 23.474277  1.644854\n",
      "[1] 95.000000 20.647416  1.644854\n",
      "[1] 94.000000 18.527342  1.644854\n",
      "[1] 93.000000 16.853029  1.644854\n",
      "[1] 92.000000 15.481405  1.644854\n",
      "[1] 91.000000 14.326559  1.644854\n",
      "[1] 90.000000 13.333333  1.644854\n",
      "[1] 89.000000 12.464454  1.644854\n",
      "[1] 88.000000 11.693692  1.644854\n",
      "[1] 87.000000 11.001969  1.644854\n",
      "[1] 86.000000 10.375028  1.644854\n",
      "[1] 85.000000  9.801961  1.644854\n",
      "[1] 84.000000  9.274260  1.644854\n",
      "[1] 83.000000  8.785175  1.644854\n",
      "[1] 82.000000  8.329267  1.644854\n",
      "[1] 81.000000  7.902097  1.644854\n",
      "[1] 80.000000  7.500000  1.644854\n",
      "[1] 79.000000  7.119915  1.644854\n",
      "[1] 78.000000  6.759264  1.644854\n",
      "[1] 77.000000  6.415854  1.644854\n",
      "[1] 76.000000  6.087808  1.644854\n",
      "[1] 75.000000  5.773503  1.644854\n",
      "[1] 74.000000  5.471529  1.644854\n",
      "[1] 73.000000  5.180653  1.644854\n",
      "[1] 72.000000  4.899789  1.644854\n",
      "[1] 71.000000  4.627976  1.644854\n",
      "[1] 70.000000  4.364358  1.644854\n",
      "[1] 69.000000  4.108168  1.644854\n",
      "[1] 68.000000  3.858718  1.644854\n",
      "[1] 67.000000  3.615385  1.644854\n",
      "[1] 66.000000  3.377603  1.644854\n",
      "[1] 65.000000  3.144855  1.644854\n",
      "[1] 64.000000  2.916667  1.644854\n",
      "[1] 63.000000  2.692602  1.644854\n",
      "[1] 62.000000  2.472257  1.644854\n",
      "[1] 61.000000  2.255254  1.644854\n",
      "[1] 60.000000  2.041241  1.644854\n",
      "[1] 59.000000  1.829888  1.644854\n",
      "[1] 58.000000  1.620882  1.644854\n",
      "[1] 57.000000  1.413925  1.644854\n",
      "[1] 56.000000  1.208734  1.644854\n",
      "[1] 55.000000  1.005038  1.644854\n",
      "[1] 54.0000000  0.8025724  1.6448536\n",
      "[1] 53.0000000  0.6010829  1.6448536\n",
      "[1] 52.0000000  0.4003204  1.6448536\n",
      "[1] 51.000000  0.200040  1.644854\n",
      "[1] 50.000000  0.000000  1.644854\n"
     ]
    }
   ],
   "source": [
    "p1.d = 59\n",
    "\n",
    "# your code here\n",
    "q <- qnorm(0.05, lower.tail=FALSE)    \n",
    "for (n in 100:50) {\n",
    "    p <- n / 100\n",
    "    z <- (p - 0.5) / sqrt(p*(1-p)/100) \n",
    "    print(c(n, z, q))    \n",
    "    #if (z >= q) {\n",
    "    #    print(c(n, z, q))\n",
    "    #}\n",
    "}"
   ]
  },
  {
   "cell_type": "code",
   "execution_count": null,
   "metadata": {
    "deletable": false,
    "editable": false,
    "nbgrader": {
     "cell_type": "code",
     "checksum": "f9dc54b83cb698c68d683e236fe52c31",
     "grade": true,
     "grade_id": "cell-224a7ad1e8ad32c3",
     "locked": true,
     "points": 1,
     "schema_version": 3,
     "solution": false,
     "task": false
    }
   },
   "outputs": [],
   "source": [
    "# Hidden Test Cell"
   ]
  },
  {
   "cell_type": "markdown",
   "metadata": {
    "deletable": false,
    "editable": false,
    "nbgrader": {
     "cell_type": "markdown",
     "checksum": "74c9468789b7928658c768ea32c09999",
     "grade": false,
     "grade_id": "cell-014cd184b8aaf67f",
     "locked": true,
     "schema_version": 3,
     "solution": false,
     "task": false
    }
   },
   "source": [
    "# Problem 2\n",
    "\n",
    "The same model of car is constructed at two different assembly plants, Plant A and Plant B. After extensive research, the life expentancy of cars from Plant A was found to follow a normal distribution, with an average of 250 thousand miles and a standard deviation of 100 thousand miles. Cars from plant B were harder to locate, and you where only able to amass a sample of 100 cars, the sample mean of which was 220 thousand miles. "
   ]
  },
  {
   "cell_type": "markdown",
   "metadata": {
    "deletable": false,
    "editable": false,
    "nbgrader": {
     "cell_type": "markdown",
     "checksum": "30b6b62ae918e931695aa7d11916af28",
     "grade": false,
     "grade_id": "cell-58e8ba4ee20a2ffa",
     "locked": true,
     "schema_version": 3,
     "solution": false,
     "task": false
    }
   },
   "source": [
    "**Part A)** You want to determine if cars from Plant B actually have a shorter life expectancy than those from Plant A. Let $\\mu$ be the true mean life expectancy of cars from Plant B. From the list below, which is the correct hypothesis test for this situation?\n",
    "\n",
    "1. $H_0: \\mu = 220 \\qquad H_1: \\mu < 220$\n",
    "2. $H_0: \\mu = 220 \\qquad H_1: \\mu \\ne 220$\n",
    "3. $H_0: \\mu = 250 \\qquad H_1: \\mu < 250$\n",
    "4. $H_0: \\mu = 250 \\qquad H_1: \\mu \\ne 250$\n",
    "5. None of the above.\n",
    "\n",
    "Save the interger of your selected choice into variable `p2.a`."
   ]
  },
  {
   "cell_type": "code",
   "execution_count": 28,
   "metadata": {
    "deletable": false,
    "nbgrader": {
     "cell_type": "code",
     "checksum": "d9dfd47005899cf8cf9023a0a287fd6c",
     "grade": false,
     "grade_id": "cell-f9ffac33be76a26d",
     "locked": false,
     "schema_version": 3,
     "solution": true,
     "task": false
    }
   },
   "outputs": [],
   "source": [
    "p2.a = 3\n",
    "\n",
    "# your code here\n"
   ]
  },
  {
   "cell_type": "code",
   "execution_count": 29,
   "metadata": {
    "deletable": false,
    "editable": false,
    "nbgrader": {
     "cell_type": "code",
     "checksum": "9b01e899ab62f31816f5b114303528d2",
     "grade": true,
     "grade_id": "cell-34c57ebd62c82eaf",
     "locked": true,
     "points": 1,
     "schema_version": 3,
     "solution": false,
     "task": false
    }
   },
   "outputs": [],
   "source": [
    "# Hidden Test Cell"
   ]
  },
  {
   "cell_type": "markdown",
   "metadata": {
    "deletable": false,
    "editable": false,
    "nbgrader": {
     "cell_type": "markdown",
     "checksum": "8cdbfcaf17a2e937f46afd99b7b14fdf",
     "grade": false,
     "grade_id": "cell-194cd4bc60c98eee",
     "locked": true,
     "schema_version": 3,
     "solution": false,
     "task": false
    }
   },
   "source": [
    "**Part B)** Determine the p-value of the test you chose in **Part A**. Save your answer as `p2.b`. Round your answer to four decimal places."
   ]
  },
  {
   "cell_type": "code",
   "execution_count": 31,
   "metadata": {
    "deletable": false,
    "nbgrader": {
     "cell_type": "code",
     "checksum": "3bf8c7e1a6ad342b8f8f192fe49d4472",
     "grade": false,
     "grade_id": "cell-556220696d782be1",
     "locked": false,
     "schema_version": 3,
     "solution": true,
     "task": false
    }
   },
   "outputs": [
    {
     "data": {
      "text/html": [
       "0.00134989803163009"
      ],
      "text/latex": [
       "0.00134989803163009"
      ],
      "text/markdown": [
       "0.00134989803163009"
      ],
      "text/plain": [
       "[1] 0.001349898"
      ]
     },
     "metadata": {},
     "output_type": "display_data"
    }
   ],
   "source": [
    "p2.b = pnorm(220, 250, 100/sqrt(100))\n",
    "\n",
    "# your code here\n",
    "p2.b"
   ]
  },
  {
   "cell_type": "code",
   "execution_count": null,
   "metadata": {
    "deletable": false,
    "editable": false,
    "nbgrader": {
     "cell_type": "code",
     "checksum": "5f53b51d490642c5d0613c47ef86852f",
     "grade": true,
     "grade_id": "cell-3a5f4ba8ce994fb2",
     "locked": true,
     "points": 1,
     "schema_version": 3,
     "solution": false,
     "task": false
    }
   },
   "outputs": [],
   "source": [
    "# Hidden Test Cell"
   ]
  },
  {
   "cell_type": "markdown",
   "metadata": {
    "deletable": false,
    "editable": false,
    "nbgrader": {
     "cell_type": "markdown",
     "checksum": "25654f4e58780073e72703d5e91ae2e8",
     "grade": false,
     "grade_id": "cell-96b954d43017582c",
     "locked": true,
     "schema_version": 3,
     "solution": false,
     "task": false
    }
   },
   "source": [
    "**Part C)** Based on your p-value, do cars produced at Plant B have a shorter expected lifespan than cars produced at plant A? Use a significance level of $\\alpha = 0.01$. Into variable `p2.c`, enter `TRUE` if there is a statistically significant difference or enter `FALSE` if there is not a statistically significant difference."
   ]
  },
  {
   "cell_type": "code",
   "execution_count": 32,
   "metadata": {
    "deletable": false,
    "nbgrader": {
     "cell_type": "code",
     "checksum": "d3ac7147941f21961a74ad076f97b087",
     "grade": false,
     "grade_id": "cell-a4bf4781b9c5ee17",
     "locked": false,
     "schema_version": 3,
     "solution": true,
     "task": false
    }
   },
   "outputs": [],
   "source": [
    "p2.c = TRUE\n",
    "\n",
    "# your code here\n"
   ]
  },
  {
   "cell_type": "code",
   "execution_count": 33,
   "metadata": {
    "deletable": false,
    "editable": false,
    "nbgrader": {
     "cell_type": "code",
     "checksum": "e8be9bfb2374ee98c08bd1f57ab33ee4",
     "grade": true,
     "grade_id": "cell-b1bfd8e73c36cb51",
     "locked": true,
     "points": 1,
     "schema_version": 3,
     "solution": false,
     "task": false
    }
   },
   "outputs": [],
   "source": [
    "# Hidden Test Cell"
   ]
  },
  {
   "cell_type": "markdown",
   "metadata": {
    "deletable": false,
    "editable": false,
    "nbgrader": {
     "cell_type": "markdown",
     "checksum": "cbe88d316ffcc4176db5911e125caf3c",
     "grade": false,
     "grade_id": "cell-2548458ab84e26cb",
     "locked": true,
     "schema_version": 3,
     "solution": false,
     "task": false
    }
   },
   "source": [
    "**Part D)** Suppose that we have not yet collected information on cars from plant B, but still know the values for cars from Plant A. Which of the situations below would result in the test with the highest power?\n",
    "\n",
    "1. You use a sample size of $n=100$, and the true mean lifespand of cars from plant B is $220$ thousand miles.\n",
    "2. You use a sample size of $n=100$, and the true mean lifespand of cars from plant B is $175$ thousand miles.\n",
    "3. You use a sample size of $n=300$, and the true mean lifespand of cars from plant B is $220$ thousand miles.\n",
    "4. You use a sample size of $n=300$, and the true mean lifespand of cars from plant B is $175$ thousand miles.\n",
    "5. All the above would have the same power.\n",
    "\n",
    "Save the integer associated with your answer into variable `p2.d`."
   ]
  },
  {
   "cell_type": "code",
   "execution_count": 37,
   "metadata": {
    "deletable": false,
    "nbgrader": {
     "cell_type": "code",
     "checksum": "17d66eab43eca2c6dfed78166f9ae94e",
     "grade": false,
     "grade_id": "cell-d696776c777a8dde",
     "locked": false,
     "schema_version": 3,
     "solution": true,
     "task": false
    }
   },
   "outputs": [
    {
     "name": "stdout",
     "output_type": "stream",
     "text": [
      "[1] 100.0000000 220.0000000   0.9123145\n",
      "[1] 100 175   1\n",
      "[1] 300.0000000 220.0000000   0.9998083\n",
      "[1] 300 175   1\n"
     ]
    }
   ],
   "source": [
    "p2.d = 4\n",
    "\n",
    "# your code here\n",
    "mu0 <- 250\n",
    "sigma <- 100\n",
    "for (n in c(100, 300)) {\n",
    "    for (mu in c(220, 175)) {\n",
    "        # power\n",
    "        print(c(n, mu, pnorm((mu0+qnorm(0.05)*sigma/sqrt(n)-mu)/(sigma/sqrt(n))))) # prob to reject H0 \n",
    "    }\n",
    "}"
   ]
  },
  {
   "cell_type": "code",
   "execution_count": null,
   "metadata": {
    "deletable": false,
    "editable": false,
    "nbgrader": {
     "cell_type": "code",
     "checksum": "c92d81807660cd28dc975680ea753789",
     "grade": true,
     "grade_id": "cell-d4c62d21d2464e29",
     "locked": true,
     "points": 1,
     "schema_version": 3,
     "solution": false,
     "task": false
    }
   },
   "outputs": [],
   "source": [
    "# Hidden Test Cell"
   ]
  }
 ],
 "metadata": {
  "kernelspec": {
   "display_name": "R",
   "language": "R",
   "name": "ir"
  },
  "language_info": {
   "codemirror_mode": "r",
   "file_extension": ".r",
   "mimetype": "text/x-r-source",
   "name": "R",
   "pygments_lexer": "r",
   "version": "3.6.3"
  }
 },
 "nbformat": 4,
 "nbformat_minor": 4
}
