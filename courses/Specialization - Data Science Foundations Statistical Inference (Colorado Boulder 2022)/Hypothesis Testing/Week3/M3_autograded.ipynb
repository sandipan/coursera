{
 "cells": [
  {
   "cell_type": "markdown",
   "metadata": {
    "deletable": false,
    "editable": false,
    "nbgrader": {
     "cell_type": "markdown",
     "checksum": "404c1455d58a0b99d07f4114659db838",
     "grade": false,
     "grade_id": "cell-9f4269db0d596d05",
     "locked": true,
     "schema_version": 3,
     "solution": false,
     "task": false
    }
   },
   "source": [
    "# Module 3 Autograded Assignment"
   ]
  },
  {
   "cell_type": "code",
   "execution_count": 107,
   "metadata": {
    "deletable": false,
    "editable": false,
    "nbgrader": {
     "cell_type": "code",
     "checksum": "8ad87880b1f8ee1bbecfc0572cab1ac1",
     "grade": false,
     "grade_id": "cell-413544c26eafb8d7",
     "locked": true,
     "schema_version": 3,
     "solution": false,
     "task": false
    }
   },
   "outputs": [],
   "source": [
    "# Load required libraries\n",
    "library(testthat)"
   ]
  },
  {
   "cell_type": "markdown",
   "metadata": {
    "deletable": false,
    "editable": false,
    "nbgrader": {
     "cell_type": "markdown",
     "checksum": "77e3b2cfdd7a77d5755c1a649e16bce6",
     "grade": false,
     "grade_id": "cell-3aaef261cc35e90e",
     "locked": true,
     "schema_version": 3,
     "solution": false,
     "task": false
    }
   },
   "source": [
    "# Problem 1\n",
    "\n",
    "For each of the following questions, decide which of the following tests would be most appropriate.\n",
    "\n",
    "1. z-test\n",
    "2. t-test\n",
    "3. The test is not possible.\n",
    "\n",
    "For each answer, save the **integer** corresponding to the correct answer."
   ]
  },
  {
   "cell_type": "markdown",
   "metadata": {
    "deletable": false,
    "editable": false,
    "nbgrader": {
     "cell_type": "markdown",
     "checksum": "2a7bd25e2d8d838ae9a186538298bd73",
     "grade": false,
     "grade_id": "cell-afbb2e202d1fddf9",
     "locked": true,
     "schema_version": 3,
     "solution": false,
     "task": false
    }
   },
   "source": [
    "**Part A)** You are measuring the average calorie intake across teenage boys and teenage girls. You get two samples, one of boys and one of girls. The sample of boys has 12 participants, and leads to a sample mean of 2637 calories with a sample standard deviation of 1138. The sample of girls has 11 participants, has a sample mean of 2258 calories and a sample standard deviation of 1519. At an $\\alpha = 0.05$ significance level, do boys consume more than girls by at least 200 calories per day? Assume that the sampling distribution is normal.\n",
    "\n",
    "Select the **integer** of the test should be used for this situation. Save your answer as `p1.a`."
   ]
  },
  {
   "cell_type": "code",
   "execution_count": 5,
   "metadata": {
    "deletable": false,
    "nbgrader": {
     "cell_type": "code",
     "checksum": "ecda5225f000a77f6cfabc0246e4e707",
     "grade": false,
     "grade_id": "cell-e330c87ceae41b6e",
     "locked": false,
     "schema_version": 3,
     "solution": true,
     "task": false
    }
   },
   "outputs": [
    {
     "data": {
      "text/html": [
       "0.31758340736683"
      ],
      "text/latex": [
       "0.31758340736683"
      ],
      "text/markdown": [
       "0.31758340736683"
      ],
      "text/plain": [
       "[1] 0.3175834"
      ]
     },
     "metadata": {},
     "output_type": "display_data"
    }
   ],
   "source": [
    "p1.a = 2\n",
    "\n",
    "# your code here\n",
    "x1bar <- 2637\n",
    "x2bar <- 2258\n",
    "S1 <- 1138\n",
    "S2 <- 1519\n",
    "n1 <- 12\n",
    "n2 <- 11\n",
    "(x1bar - x2bar - 200) / sqrt(S1^2/n1+S2^2/n2)"
   ]
  },
  {
   "cell_type": "code",
   "execution_count": 2,
   "metadata": {
    "deletable": false,
    "editable": false,
    "nbgrader": {
     "cell_type": "code",
     "checksum": "8b90a673d684a8a95615c5725cb6e13d",
     "grade": true,
     "grade_id": "cell-29d04e0deba119d6",
     "locked": true,
     "points": 1,
     "schema_version": 3,
     "solution": false,
     "task": false
    }
   },
   "outputs": [],
   "source": [
    "# Hidden Test Cell"
   ]
  },
  {
   "cell_type": "markdown",
   "metadata": {
    "deletable": false,
    "editable": false,
    "nbgrader": {
     "cell_type": "markdown",
     "checksum": "6763edfcff733ce945ae29b204dae34d",
     "grade": false,
     "grade_id": "cell-1fc13ea18e063f9e",
     "locked": true,
     "schema_version": 3,
     "solution": false,
     "task": false
    }
   },
   "source": [
    "**Part B)** You repeat the same experiment as **Part A)**, but have more time to collect larger sample sizes. The sample of boys has a sample size of 63, with a sample mean of 2663 calories and a sample standard deviation of 895. The sample of girls has a sample size of 71, with a sample mean of 2190 with a sample standard deviation of 1448. At an $\\alpha=0.05$ significance level, do boys consume more than girls by at least 200 calories per day? Assume that the sampling distribution is normal.\n",
    "\n",
    "Select the **integer** of the test should be used for this situation. Save your answer as `p1.b`."
   ]
  },
  {
   "cell_type": "code",
   "execution_count": 4,
   "metadata": {
    "deletable": false,
    "nbgrader": {
     "cell_type": "code",
     "checksum": "8e66cde96f26ee602932d85d005717dd",
     "grade": false,
     "grade_id": "cell-0175c858f25222cd",
     "locked": false,
     "schema_version": 3,
     "solution": true,
     "task": false
    }
   },
   "outputs": [
    {
     "data": {
      "text/html": [
       "1.72231220530263"
      ],
      "text/latex": [
       "1.72231220530263"
      ],
      "text/markdown": [
       "1.72231220530263"
      ],
      "text/plain": [
       "[1] 1.722312"
      ]
     },
     "metadata": {},
     "output_type": "display_data"
    }
   ],
   "source": [
    "p1.b = 1\n",
    "\n",
    "# your code here\n",
    "x1bar <- 2663\n",
    "x2bar <- 2109\n",
    "S1 <- 895\n",
    "S2 <- 1448\n",
    "n1 <- 63\n",
    "n2 <- 71\n",
    "(x1bar - x2bar - 200) / sqrt(S1^2/n1+S2^2/n2)"
   ]
  },
  {
   "cell_type": "code",
   "execution_count": null,
   "metadata": {
    "deletable": false,
    "editable": false,
    "nbgrader": {
     "cell_type": "code",
     "checksum": "3ea825e257e65896e8e7905d97df700a",
     "grade": true,
     "grade_id": "cell-62022b79c25f0c45",
     "locked": true,
     "points": 1,
     "schema_version": 3,
     "solution": false,
     "task": false
    }
   },
   "outputs": [],
   "source": [
    "# Hidden Test Cell"
   ]
  },
  {
   "cell_type": "markdown",
   "metadata": {
    "deletable": false,
    "editable": false,
    "nbgrader": {
     "cell_type": "markdown",
     "checksum": "e332261d4c860b2f9521cb2c8f180e27",
     "grade": false,
     "grade_id": "cell-b3453097f07ad22c",
     "locked": true,
     "schema_version": 3,
     "solution": false,
     "task": false
    }
   },
   "source": [
    "**Part C)** You spend some more time analyzing the data from **Part B**, and eventually come to the conclusion that the sampling distribution is not normal, it actually follows a Gamma distribution.\n",
    "\n",
    "Select the **integer** corresponding to the test should be used for this situation. Save your answer as `p1.c`."
   ]
  },
  {
   "cell_type": "code",
   "execution_count": 8,
   "metadata": {
    "deletable": false,
    "nbgrader": {
     "cell_type": "code",
     "checksum": "1af7e63b6f18b4a9b03a39bf56567cf2",
     "grade": false,
     "grade_id": "cell-a131970d8b019c11",
     "locked": false,
     "schema_version": 3,
     "solution": true,
     "task": false
    }
   },
   "outputs": [],
   "source": [
    "p1.c = 1 # by CLT\n",
    "\n",
    "# your code here\n"
   ]
  },
  {
   "cell_type": "code",
   "execution_count": 9,
   "metadata": {
    "deletable": false,
    "editable": false,
    "nbgrader": {
     "cell_type": "code",
     "checksum": "e9f5621736adedb918857c918e0e9f51",
     "grade": true,
     "grade_id": "cell-b50894c5287d6873",
     "locked": true,
     "points": 1,
     "schema_version": 3,
     "solution": false,
     "task": false
    }
   },
   "outputs": [],
   "source": [
    "# Hidden Test Cell"
   ]
  },
  {
   "cell_type": "markdown",
   "metadata": {
    "nbgrader": {
     "grade": false,
     "grade_id": "cell-aec291ad54398494",
     "locked": false,
     "schema_version": 3,
     "solution": false,
     "task": false
    }
   },
   "source": [
    "**Part D)** Suppose that in an alternate universe, instead of spending time gathering a larger sample, you spent that time researching the \"true\" distributions of teenagers' calorie consumption. In that research, you found that boys have a true standard deviation of 932 calories and girls have a true standard deviation of 1071 calories. You have the same sample values as in **Part A)**.\n",
    "\n",
    "Select the **integer** of the test should be used for this situation. Save your answer as `p1.d`."
   ]
  },
  {
   "cell_type": "code",
   "execution_count": 7,
   "metadata": {
    "deletable": false,
    "nbgrader": {
     "cell_type": "code",
     "checksum": "201765e92c987cd20862ec6126a6fda3",
     "grade": false,
     "grade_id": "cell-08758811f5ea39bd",
     "locked": false,
     "schema_version": 3,
     "solution": true,
     "task": false
    }
   },
   "outputs": [],
   "source": [
    "p1.d = 1\n",
    "\n",
    "# your code here\n"
   ]
  },
  {
   "cell_type": "code",
   "execution_count": null,
   "metadata": {
    "deletable": false,
    "editable": false,
    "nbgrader": {
     "cell_type": "code",
     "checksum": "a0d38f018f91fff0b33de63b29577ed0",
     "grade": true,
     "grade_id": "cell-8f5a5e5aea8eb9ac",
     "locked": true,
     "points": 1,
     "schema_version": 3,
     "solution": false,
     "task": false
    }
   },
   "outputs": [],
   "source": [
    "# Hidden Test Cell"
   ]
  },
  {
   "cell_type": "markdown",
   "metadata": {
    "deletable": false,
    "editable": false,
    "nbgrader": {
     "cell_type": "markdown",
     "checksum": "0965b94c176bdc630aa48844533b1eff",
     "grade": false,
     "grade_id": "cell-d1f96a186d3cf66d",
     "locked": true,
     "schema_version": 3,
     "solution": false,
     "task": false
    }
   },
   "source": [
    "# Problem 2\n",
    "\n",
    "Recently, Ralphie has been feeling sluggish during her regular \"Running With Ralphie\" event. She knows there are things that she could potentially improve her responsiveness, such as drinking coffee or taking a nap, but she wants to be sure. Being the Data Scientist that she is, she decides to create a experiment to test whether the different situations actually improve her reaction time. For each method, she does as the method requires, and a few hours later she has her handlers record her reaction time. These values are recorded in the `nap` and `coffee` variables. She tested the coffee method 10 times and the nap method 12 times. \n",
    "\n",
    "Ralphie also knows, from her supreme buffalo intuition, that her average reaction time is 490 units and that her reaction time measurements are normally distributed."
   ]
  },
  {
   "cell_type": "code",
   "execution_count": 10,
   "metadata": {
    "deletable": false,
    "editable": false,
    "nbgrader": {
     "cell_type": "code",
     "checksum": "62e008535d4483e57dc360a60cd92152",
     "grade": false,
     "grade_id": "cell-d6d4978e219bd91b",
     "locked": true,
     "schema_version": 3,
     "solution": false,
     "task": false
    }
   },
   "outputs": [],
   "source": [
    "# Sample size of each test\n",
    "n.coffee = 10\n",
    "n.nap = 12\n",
    "# The reaction time data for each method\n",
    "coffee = c(485.77, 490.86, 460.79, 528.74, 483.47, 526.24, 504.78, 460.7, 587.08, 484.13)\n",
    "nap = c(598.15, 518.69, 601.49, 598.62, 555.73, 458, 488.57, 520.26, 534.71, 655.23, 573.18, 495.05)"
   ]
  },
  {
   "cell_type": "markdown",
   "metadata": {
    "deletable": false,
    "editable": false,
    "nbgrader": {
     "cell_type": "markdown",
     "checksum": "a8ac8fc68787e29acc821409f9a51cb3",
     "grade": false,
     "grade_id": "cell-36947eaa18b513bb",
     "locked": true,
     "schema_version": 3,
     "solution": false,
     "task": false
    }
   },
   "source": [
    "**Part A)** Determine, at the $\\alpha=0.05$ significance level, if drinking coffee improved Ralphie's reaction time. For this, you will need to calculate an appropriate test statistic. Store this value as `p2.a.stat` and round the value to two decimal places. Then calculate the p-value for this test statistic. Store this value in `p2.a.p` and round it to two decimal places."
   ]
  },
  {
   "cell_type": "code",
   "execution_count": 98,
   "metadata": {
    "deletable": false,
    "nbgrader": {
     "cell_type": "code",
     "checksum": "5fd37f7aecb39dc39cbe1208faebede1",
     "grade": false,
     "grade_id": "cell-6b2d5d055be66e34",
     "locked": false,
     "schema_version": 3,
     "solution": true,
     "task": false
    }
   },
   "outputs": [
    {
     "data": {
      "text/html": [
       "0.94"
      ],
      "text/latex": [
       "0.94"
      ],
      "text/markdown": [
       "0.94"
      ],
      "text/plain": [
       "[1] 0.94"
      ]
     },
     "metadata": {},
     "output_type": "display_data"
    },
    {
     "data": {
      "text/html": [
       "0.19"
      ],
      "text/latex": [
       "0.19"
      ],
      "text/markdown": [
       "0.19"
      ],
      "text/plain": [
       "[1] 0.19"
      ]
     },
     "metadata": {},
     "output_type": "display_data"
    }
   ],
   "source": [
    "p2.a.stat = 0.94\n",
    "p2.a.p = 0.19\n",
    "#?pt\n",
    "\n",
    "# your code here\n",
    "#mean(coffee) \n",
    "xbar <- mean(coffee)\n",
    "#xbar\n",
    "mu <- 490\n",
    "S <- sd(coffee)\n",
    "n <- length(coffee)\n",
    "p2.a.stat = round((xbar - mu) / (S / sqrt(n)), 2)\n",
    "#p2.a.stat = round((mu - xbar) / (S / sqrt(n)), 2)\n",
    "#p2.a.stat = round((mean(coffee) - 490) / sqrt(var(coffee) / n.coffee), 2)\n",
    "#p2.a.stat = round((mean(coffee) - 490) / (sd(coffee) / sqrt(n.coffee)), 2)\n",
    "df = n.coffee - 1\n",
    "p2.a.p = round(pt(p2.a.stat, df=df, lower.tail=FALSE), 2)\n",
    "p2.a.stat\n",
    "p2.a.p\n",
    "#df\n",
    "#?t.test"
   ]
  },
  {
   "cell_type": "code",
   "execution_count": null,
   "metadata": {
    "deletable": false,
    "editable": false,
    "nbgrader": {
     "cell_type": "code",
     "checksum": "0b8f8d21aebc37efbf7592b7478d8ae7",
     "grade": true,
     "grade_id": "cell-da4da8a0ae351115",
     "locked": true,
     "points": 1,
     "schema_version": 3,
     "solution": false,
     "task": false
    }
   },
   "outputs": [],
   "source": [
    "# Hidden Test Cell"
   ]
  },
  {
   "cell_type": "markdown",
   "metadata": {
    "deletable": false,
    "editable": false,
    "nbgrader": {
     "cell_type": "markdown",
     "checksum": "4e96742b44b8f2c352e2c2191832a07c",
     "grade": false,
     "grade_id": "cell-1af4e006a6db0e17",
     "locked": true,
     "schema_version": 3,
     "solution": false,
     "task": false
    }
   },
   "source": [
    "**Part B)** Based on your answers to **Part A**, does drinking coffee improve Ralphie's reaction time at the $\\alpha=0.05$ significance level? Your answer should be the boolean `TRUE` if coffee improves her reaction time, and `FALSE` if it does not. Save your answer into variable `p2.b`. "
   ]
  },
  {
   "cell_type": "code",
   "execution_count": 92,
   "metadata": {
    "deletable": false,
    "nbgrader": {
     "cell_type": "code",
     "checksum": "62d7c3b8e1a7cc15b45de00557060d39",
     "grade": false,
     "grade_id": "cell-eda781839d124033",
     "locked": false,
     "schema_version": 3,
     "solution": true,
     "task": false
    }
   },
   "outputs": [],
   "source": [
    "p2.b = FALSE\n",
    "\n",
    "# your code here\n"
   ]
  },
  {
   "cell_type": "code",
   "execution_count": 35,
   "metadata": {
    "deletable": false,
    "editable": false,
    "nbgrader": {
     "cell_type": "code",
     "checksum": "4b1823ca13b4715b4233617e5ad226b5",
     "grade": true,
     "grade_id": "cell-9e803171c3bd89b2",
     "locked": true,
     "points": 1,
     "schema_version": 3,
     "solution": false,
     "task": false
    }
   },
   "outputs": [],
   "source": [
    "# Hidden Test Cell"
   ]
  },
  {
   "cell_type": "markdown",
   "metadata": {
    "deletable": false,
    "editable": false,
    "nbgrader": {
     "cell_type": "markdown",
     "checksum": "4cdfda3d9d9af357498d2b4c8513c4d8",
     "grade": false,
     "grade_id": "cell-c60380cdb9470735",
     "locked": true,
     "schema_version": 3,
     "solution": false,
     "task": false
    }
   },
   "source": [
    "**Part C)** Determine if there sufficient evidence, at the $\\alpha = 0.05$ significance level, to conclude that taking a nap promotes faster reaction time than drinking coffee. Again, calculate an appropriate test statistic and save it into variable `p2.c.stat`. Round this value to two decimal places. Then calculate the p-value for this test statistic and save it into variable `p2.c.p`. Round this value to three decimal places."
   ]
  },
  {
   "cell_type": "code",
   "execution_count": 105,
   "metadata": {
    "deletable": false,
    "nbgrader": {
     "cell_type": "code",
     "checksum": "46edcd41afb68430a565473ef02b8cef",
     "grade": false,
     "grade_id": "cell-2be7993e9ecdfcd1",
     "locked": false,
     "schema_version": 3,
     "solution": true,
     "task": false
    }
   },
   "outputs": [
    {
     "data": {
      "text/html": [
       "2.37"
      ],
      "text/latex": [
       "2.37"
      ],
      "text/markdown": [
       "2.37"
      ],
      "text/plain": [
       "[1] 2.37"
      ]
     },
     "metadata": {},
     "output_type": "display_data"
    },
    {
     "data": {
      "text/html": [
       "0.014"
      ],
      "text/latex": [
       "0.014"
      ],
      "text/markdown": [
       "0.014"
      ],
      "text/plain": [
       "[1] 0.014"
      ]
     },
     "metadata": {},
     "output_type": "display_data"
    },
    {
     "data": {
      "text/plain": [
       "\n",
       "\tWelch Two Sample t-test\n",
       "\n",
       "data:  nap and coffee\n",
       "t = 2.37, df = 19.133, p-value = 0.01422\n",
       "alternative hypothesis: true difference in means is greater than 0\n",
       "95 percent confidence interval:\n",
       " 13.14089      Inf\n",
       "sample estimates:\n",
       "mean of x mean of y \n",
       " 549.8067  501.2560 \n"
      ]
     },
     "metadata": {},
     "output_type": "display_data"
    }
   ],
   "source": [
    "p2.c.stat = 2.37\n",
    "p2.c.p = 0.014\n",
    "\n",
    "# your code here\n",
    "#mean(coffee)\n",
    "#mean(nap)\n",
    "\n",
    "p2.c.stat = round((mean(nap)-mean(coffee)) / sqrt(var(coffee) / n.coffee + var(nap) / n.nap), 2)\n",
    "df = round((var(coffee)/n.coffee + var(nap)/n.nap)^2 / ((var(coffee)/n.coffee)^2/(n.coffee-1) + (var(nap)/n.nap)^2/(n.nap-1)), 2)\n",
    "p2.c.p = round(pt(p2.c.stat, df=df, lower.tail=FALSE), 3)\n",
    "p2.c.stat\n",
    "p2.c.p\n",
    "#df\n",
    "#?t.test\n",
    "#t.test(nap, coffee, alternative='greater')"
   ]
  },
  {
   "cell_type": "code",
   "execution_count": null,
   "metadata": {
    "deletable": false,
    "editable": false,
    "nbgrader": {
     "cell_type": "code",
     "checksum": "a0bc341269ee3b1ded8f649acf8d37b3",
     "grade": true,
     "grade_id": "cell-ff56fae2074348bb",
     "locked": true,
     "points": 1,
     "schema_version": 3,
     "solution": false,
     "task": false
    }
   },
   "outputs": [],
   "source": [
    "# Hidden Test Cell"
   ]
  },
  {
   "cell_type": "markdown",
   "metadata": {
    "deletable": false,
    "editable": false,
    "nbgrader": {
     "cell_type": "markdown",
     "checksum": "74711f58a55e71d673ca2e88189b3ed0",
     "grade": false,
     "grade_id": "cell-79be6ff01c7116c2",
     "locked": true,
     "schema_version": 3,
     "solution": false,
     "task": false
    }
   },
   "source": [
    "**Part D)** Based on your answers to **Part C)**, is there sufficient evidence at the $\\alpha = 0.05$ significance level to conclude that taking a nap promotes faster reaction time in Ralphie than drinking coffee? Save your answer into variable `p2.d`. Save the boolean value `TRUE` if naps do result in Ralphie having a statistically significant faster reaction time than coffee, and `FALSE` otherwise."
   ]
  },
  {
   "cell_type": "code",
   "execution_count": 106,
   "metadata": {
    "deletable": false,
    "nbgrader": {
     "cell_type": "code",
     "checksum": "036c12b354db25004654c1c8988968a2",
     "grade": false,
     "grade_id": "cell-28f7898baba1b97b",
     "locked": false,
     "schema_version": 3,
     "solution": true,
     "task": false
    }
   },
   "outputs": [],
   "source": [
    "p2.d = TRUE  # must be FALSE\n",
    "\n",
    "# your code here\n"
   ]
  },
  {
   "cell_type": "code",
   "execution_count": 41,
   "metadata": {
    "deletable": false,
    "editable": false,
    "nbgrader": {
     "cell_type": "code",
     "checksum": "9f6b98377600a8bd8a452836b4e05d89",
     "grade": true,
     "grade_id": "cell-4cf3bece49077b96",
     "locked": true,
     "points": 1,
     "schema_version": 3,
     "solution": false,
     "task": false
    }
   },
   "outputs": [],
   "source": [
    "# Hidden Test Cell"
   ]
  },
  {
   "cell_type": "markdown",
   "metadata": {
    "deletable": false,
    "editable": false,
    "nbgrader": {
     "cell_type": "markdown",
     "checksum": "c35335fe9073a67bd09170f096ffb426",
     "grade": false,
     "grade_id": "cell-575150710226cf57",
     "locked": true,
     "schema_version": 3,
     "solution": false,
     "task": false
    }
   },
   "source": [
    "# Question 3\n",
    "\n",
    "Now that you've learned about hypothesis testing and p-values, you should also be aware that these methods can be used incorrectly. Or, even worse, maliciously. Usually it involves manipulating the data or the test in such a way to produce a desired result. There's many methods for this, and they've got some cool names like [p-hacking and data dredging](https://www.explainxkcd.com/wiki/index.php/882:_Significant). In this problem, we will focus on the idea of using subsets of data to find a desired result.\n",
    "\n",
    "Nefarian just landed his first data science position as an intern at a new e-commerce company. His project was the design and test a new website layout that would lead to more purchases. To test his new layout, the company gathered four different groups of 50 customers and recorded how many of those ended up purchasing an item. This test was then repeated on multiple days. The effectiveness of Nefarian's layout is measured by the number of customers that made a purchase. This data is stored in the data frame `purchases`.\n",
    "\n",
    "Nefarian wants to land a permanent position at the company after his internship is over, so he really wants to impress his supervisors with his new layout. He knows that the site has an average purchase rate of $0.8$ and wants to see if his layout is an improvement."
   ]
  },
  {
   "cell_type": "code",
   "execution_count": 108,
   "metadata": {
    "deletable": false,
    "editable": false,
    "nbgrader": {
     "cell_type": "code",
     "checksum": "df7798343253da145ffb0a6591fc5049",
     "grade": false,
     "grade_id": "cell-5b1e9d904bdb9230",
     "locked": true,
     "schema_version": 3,
     "solution": false,
     "task": false
    }
   },
   "outputs": [
    {
     "data": {
      "text/html": [
       "<table>\n",
       "<caption>A data.frame: 6 × 2</caption>\n",
       "<thead>\n",
       "\t<tr><th></th><th scope=col>group</th><th scope=col>num_purchases</th></tr>\n",
       "\t<tr><th></th><th scope=col>&lt;fct&gt;</th><th scope=col>&lt;int&gt;</th></tr>\n",
       "</thead>\n",
       "<tbody>\n",
       "\t<tr><th scope=row>1</th><td>a</td><td>36</td></tr>\n",
       "\t<tr><th scope=row>2</th><td>a</td><td>42</td></tr>\n",
       "\t<tr><th scope=row>3</th><td>a</td><td>41</td></tr>\n",
       "\t<tr><th scope=row>4</th><td>a</td><td>40</td></tr>\n",
       "\t<tr><th scope=row>5</th><td>a</td><td>36</td></tr>\n",
       "\t<tr><th scope=row>6</th><td>a</td><td>42</td></tr>\n",
       "</tbody>\n",
       "</table>\n"
      ],
      "text/latex": [
       "A data.frame: 6 × 2\n",
       "\\begin{tabular}{r|ll}\n",
       "  & group & num\\_purchases\\\\\n",
       "  & <fct> & <int>\\\\\n",
       "\\hline\n",
       "\t1 & a & 36\\\\\n",
       "\t2 & a & 42\\\\\n",
       "\t3 & a & 41\\\\\n",
       "\t4 & a & 40\\\\\n",
       "\t5 & a & 36\\\\\n",
       "\t6 & a & 42\\\\\n",
       "\\end{tabular}\n"
      ],
      "text/markdown": [
       "\n",
       "A data.frame: 6 × 2\n",
       "\n",
       "| <!--/--> | group &lt;fct&gt; | num_purchases &lt;int&gt; |\n",
       "|---|---|---|\n",
       "| 1 | a | 36 |\n",
       "| 2 | a | 42 |\n",
       "| 3 | a | 41 |\n",
       "| 4 | a | 40 |\n",
       "| 5 | a | 36 |\n",
       "| 6 | a | 42 |\n",
       "\n"
      ],
      "text/plain": [
       "  group num_purchases\n",
       "1 a     36           \n",
       "2 a     42           \n",
       "3 a     41           \n",
       "4 a     40           \n",
       "5 a     36           \n",
       "6 a     42           "
      ]
     },
     "metadata": {},
     "output_type": "display_data"
    }
   ],
   "source": [
    "purchases = read.csv(\"purchases.csv\")\n",
    "purchases = purchases[,-1]\n",
    "names(purchases) = c(\"group\", \"num_purchases\")\n",
    "head(purchases)"
   ]
  },
  {
   "cell_type": "markdown",
   "metadata": {
    "deletable": false,
    "editable": false,
    "nbgrader": {
     "cell_type": "markdown",
     "checksum": "d35b4aca96a7a446f712666ce64168f8",
     "grade": false,
     "grade_id": "cell-7793a8ee6f2b0efa",
     "locked": true,
     "schema_version": 3,
     "solution": false,
     "task": false
    }
   },
   "source": [
    "**Part A)** Use the entire dataset to determine whether Nefarian's layout is an improvement over the original layout. Use an appropriate hypothesis test and a significance level of $\\alpha=0.05$. Store the p-value for this test in the variable `p3.a` and round your answer to two decimal places.\n",
    "\n",
    "**Note**: In case you haven't see a data frame before, think of it like a spreadsheet where each row is an instance each data and each column is a vector of specific values. To access the values in the \"num_purchases\" column, use `purchases$num_purchases`."
   ]
  },
  {
   "cell_type": "code",
   "execution_count": 101,
   "metadata": {
    "deletable": false,
    "nbgrader": {
     "cell_type": "code",
     "checksum": "4b392fd9cfd69d7b5f6c19e8c9789b9c",
     "grade": false,
     "grade_id": "cell-92878fb2cf78039d",
     "locked": false,
     "schema_version": 3,
     "solution": true,
     "task": false
    }
   },
   "outputs": [
    {
     "data": {
      "text/html": [
       "160"
      ],
      "text/latex": [
       "160"
      ],
      "text/markdown": [
       "160"
      ],
      "text/plain": [
       "[1] 160"
      ]
     },
     "metadata": {},
     "output_type": "display_data"
    },
    {
     "data": {
      "text/html": [
       "0.835875"
      ],
      "text/latex": [
       "0.835875"
      ],
      "text/markdown": [
       "0.835875"
      ],
      "text/plain": [
       "[1] 0.835875"
      ]
     },
     "metadata": {},
     "output_type": "display_data"
    },
    {
     "data": {
      "text/html": [
       "0.11"
      ],
      "text/latex": [
       "0.11"
      ],
      "text/markdown": [
       "0.11"
      ],
      "text/plain": [
       "[1] 0.11"
      ]
     },
     "metadata": {},
     "output_type": "display_data"
    }
   ],
   "source": [
    "p3.a = 0.11\n",
    "\n",
    "# your code here\n",
    "purchases$rate <- purchases$num_purchases / 50\n",
    "nrow(purchases)\n",
    "phat <- mean(purchases$rate) #sum(purchases$num_purchases) / (50*nrow(purchases))\n",
    "phat\n",
    "round(pnorm((phat - 0.8)/sqrt(phat*(1-phat)/nrow(purchases)), lower.tail=FALSE),2)"
   ]
  },
  {
   "cell_type": "code",
   "execution_count": null,
   "metadata": {
    "deletable": false,
    "editable": false,
    "nbgrader": {
     "cell_type": "code",
     "checksum": "36e75c5aec382989c57df1843c5f37a8",
     "grade": true,
     "grade_id": "cell-2edde207b7fca8a5",
     "locked": true,
     "points": 1,
     "schema_version": 3,
     "solution": false,
     "task": false
    }
   },
   "outputs": [],
   "source": [
    "# Hidden Test Cell"
   ]
  },
  {
   "cell_type": "markdown",
   "metadata": {
    "deletable": false,
    "editable": false,
    "nbgrader": {
     "cell_type": "markdown",
     "checksum": "4abf4a08b4be71162b97b2ea003855c2",
     "grade": false,
     "grade_id": "cell-4bc39dce910176b9",
     "locked": true,
     "schema_version": 3,
     "solution": false,
     "task": false
    }
   },
   "source": [
    "**Part B)** Based on your results from **Part A**, is Nefarian's layout an improvement over the original layout? Save your answer as `p3.b`. Save the boolean `TRUE` if it is a statistically significant improvement or `FALSE` if it is not."
   ]
  },
  {
   "cell_type": "code",
   "execution_count": null,
   "metadata": {
    "deletable": false,
    "nbgrader": {
     "cell_type": "code",
     "checksum": "041523d21e80a85f8e974e938b8dff16",
     "grade": false,
     "grade_id": "cell-b09bcd4f64b15499",
     "locked": false,
     "schema_version": 3,
     "solution": true,
     "task": false
    }
   },
   "outputs": [],
   "source": [
    "p3.b = FALSE\n",
    "\n",
    "# your code here\n"
   ]
  },
  {
   "cell_type": "code",
   "execution_count": null,
   "metadata": {
    "deletable": false,
    "editable": false,
    "nbgrader": {
     "cell_type": "code",
     "checksum": "923245cb1e2e9b887f906ff8fb5a2ef3",
     "grade": true,
     "grade_id": "cell-8a94b03e7ade2da7",
     "locked": true,
     "points": 1,
     "schema_version": 3,
     "solution": false,
     "task": false
    }
   },
   "outputs": [],
   "source": [
    "# Hidden Test Cell"
   ]
  },
  {
   "cell_type": "markdown",
   "metadata": {
    "deletable": false,
    "editable": false,
    "nbgrader": {
     "cell_type": "markdown",
     "checksum": "900c12b8eaac4d06b6a85e99f78bae7d",
     "grade": false,
     "grade_id": "cell-4caa0da2c0f2563a",
     "locked": true,
     "schema_version": 3,
     "solution": false,
     "task": false
    }
   },
   "source": [
    "**Part C)** Bummer. But Nefarian *really* wants his design to be an improvement, so what's a little bad science? What if he can find a subset of data that supports his claim? Thinking back, Nefarian remembers that Group C supposedly contained some very impulsive customers. Using the same hypothesis from **Part A**, determine if Nafarian's layout was a statistically significant improvement at the $\\alpha=0.05$ significance level, if he only looks at sampels from Group C. Save the p-value of this test as `p3.c`, rounded to three decimal places.\n",
    "\n",
    "**Note:** To filter the dataframe to only contain data for Group C, use `purchases[purchases$group==\"c\",]`."
   ]
  },
  {
   "cell_type": "code",
   "execution_count": 102,
   "metadata": {
    "deletable": false,
    "nbgrader": {
     "cell_type": "code",
     "checksum": "853f69cf7701b87488dbc40ed6d54c99",
     "grade": false,
     "grade_id": "cell-e1b740fdddf38fca",
     "locked": false,
     "schema_version": 3,
     "solution": true,
     "task": false
    }
   },
   "outputs": [
    {
     "data": {
      "text/html": [
       "'0.00001'"
      ],
      "text/latex": [
       "'0.00001'"
      ],
      "text/markdown": [
       "'0.00001'"
      ],
      "text/plain": [
       "[1] \"0.00001\""
      ]
     },
     "metadata": {},
     "output_type": "display_data"
    },
    {
     "data": {
      "text/html": [
       "40"
      ],
      "text/latex": [
       "40"
      ],
      "text/markdown": [
       "40"
      ],
      "text/plain": [
       "[1] 40"
      ]
     },
     "metadata": {},
     "output_type": "display_data"
    },
    {
     "data": {
      "text/html": [
       "0.9505"
      ],
      "text/latex": [
       "0.9505"
      ],
      "text/markdown": [
       "0.9505"
      ],
      "text/plain": [
       "[1] 0.9505"
      ]
     },
     "metadata": {},
     "output_type": "display_data"
    },
    {
     "data": {
      "text/html": [
       "5.71425495871074e-06"
      ],
      "text/latex": [
       "5.71425495871074e-06"
      ],
      "text/markdown": [
       "5.71425495871074e-06"
      ],
      "text/plain": [
       "[1] 5.714255e-06"
      ]
     },
     "metadata": {},
     "output_type": "display_data"
    },
    {
     "data": {
      "image/png": "[encoded data removed]",
      "text/plain": [
       "Plot with title “Histogram of purchases_c$num_purchases”"
      ]
     },
     "metadata": {
      "image/png": {
       "height": 420,
       "width": 420
      },
      "text/plain": {
       "height": 420,
       "width": 420
      }
     },
     "output_type": "display_data"
    }
   ],
   "source": [
    "p3.c = 0.00001\n",
    "\n",
    "# your code here\n",
    "sprintf('%.5f', 5.71425495871074e-06)\n",
    "purchases_c <- purchases[purchases$group == 'c',]\n",
    "#purchases_c$rate <- purchases_c$num_purchases / 50\n",
    "hist(purchases_c$num_purchases)\n",
    "nrow(purchases_c)\n",
    "phat <- mean(purchases_c$rate) #sum(purchases_c$num_purchases) / (50*nrow(purchases_c))\n",
    "phat\n",
    "pnorm((phat - 0.8)/sqrt(phat*(1-phat)/nrow(purchases_c)), lower.tail=FALSE)"
   ]
  },
  {
   "cell_type": "code",
   "execution_count": null,
   "metadata": {
    "deletable": false,
    "editable": false,
    "nbgrader": {
     "cell_type": "code",
     "checksum": "5e1c4e4c9a37214328a12f93c61220a6",
     "grade": true,
     "grade_id": "cell-c406b09a528713d2",
     "locked": true,
     "points": 1,
     "schema_version": 3,
     "solution": false,
     "task": false
    }
   },
   "outputs": [],
   "source": [
    "# Hidden Test Cell"
   ]
  },
  {
   "cell_type": "markdown",
   "metadata": {
    "deletable": false,
    "editable": false,
    "nbgrader": {
     "cell_type": "markdown",
     "checksum": "4e7f6f5d8526455bae97576307d0d9df",
     "grade": false,
     "grade_id": "cell-52f981bebd1e4417",
     "locked": true,
     "schema_version": 3,
     "solution": false,
     "task": false
    }
   },
   "source": [
    "**Part D)** Based on your results from Group C, is Nefarian's layout a statistically significant improvement over the original layout? Save your answer as `p3.d`. Save the boolean `TRUE` if it is a statistically significant improvement and `FALSE` otherwise."
   ]
  },
  {
   "cell_type": "code",
   "execution_count": null,
   "metadata": {
    "deletable": false,
    "nbgrader": {
     "cell_type": "code",
     "checksum": "0953a503ee7b841a30dae2f6d8949fa1",
     "grade": false,
     "grade_id": "cell-192b4ab6c05eb1fa",
     "locked": false,
     "schema_version": 3,
     "solution": true,
     "task": false
    }
   },
   "outputs": [],
   "source": [
    "p3.d = TRUE\n",
    "\n",
    "# your code here\n"
   ]
  },
  {
   "cell_type": "code",
   "execution_count": null,
   "metadata": {
    "deletable": false,
    "editable": false,
    "nbgrader": {
     "cell_type": "code",
     "checksum": "529d7874b16e1bfc8030c5a2f8be7a16",
     "grade": true,
     "grade_id": "cell-aca09dcf9b8ea764",
     "locked": true,
     "points": 1,
     "schema_version": 3,
     "solution": false,
     "task": false
    }
   },
   "outputs": [],
   "source": [
    "# Hidden Test Cell"
   ]
  }
 ],
 "metadata": {
  "kernelspec": {
   "display_name": "R",
   "language": "R",
   "name": "ir"
  },
  "language_info": {
   "codemirror_mode": "r",
   "file_extension": ".r",
   "mimetype": "text/x-r-source",
   "name": "R",
   "pygments_lexer": "r",
   "version": "3.6.3"
  }
 },
 "nbformat": 4,
 "nbformat_minor": 4
}
