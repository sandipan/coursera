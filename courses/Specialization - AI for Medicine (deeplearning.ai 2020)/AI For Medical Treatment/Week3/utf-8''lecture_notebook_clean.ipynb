{
 "cells": [
  {
   "cell_type": "markdown",
   "metadata": {},
   "source": [
    "## AI for Medicine Course 3 Week 2 lecture exercises - Cleaning Text"
   ]
  },
  {
   "cell_type": "markdown",
   "metadata": {},
   "source": [
    "For this notebook we'll be using the re module which is part of Python's Standard Library and provides support for regular expressions (aka regexp). If you aren't familiar with regexp we strongly recommend to check the [official docs](https://docs.python.org/3/library/re.html).\n",
    "\n",
    "Regular expressions allow you to perform searches and replacements in strings based on patterns.\n",
    "As a quick intro let's check some examples:\n",
    "\n",
    "We'll be using the search method which has the form \n",
    "\n",
    "```python\n",
    "search(pattern, text)\n",
    "```\n",
    "It will output a match if one is found or None if no match is found.\n",
    "\n",
    "Let's begin with a simple example. Notice the next three examples, we try to match the pattern to the \"Pleural Effusion\" string. In particular notice the special characters:\n",
    "- ^ denotes \"starts with\" followed by the pattern\n",
    "- $ denotes \"ends with\" preceded by the pattern\n",
    "- | denotes \"or\" followed by another pattern\n",
    "\n",
    "Can you see why the first two examples output a match unlike the third one?"
   ]
  },
  {
   "cell_type": "code",
   "execution_count": 1,
   "metadata": {},
   "outputs": [],
   "source": [
    "import re"
   ]
  },
  {
   "cell_type": "code",
   "execution_count": 2,
   "metadata": {},
   "outputs": [
    {
     "name": "stdout",
     "output_type": "stream",
     "text": [
      "match found\n"
     ]
    }
   ],
   "source": [
    "print(\"match found\") if re.search(\"^Pl|ion$\", \"Pleural Effusion\") else \"no match found\""
   ]
  },
  {
   "cell_type": "code",
   "execution_count": 3,
   "metadata": {},
   "outputs": [
    {
     "name": "stdout",
     "output_type": "stream",
     "text": [
      "match found\n"
     ]
    }
   ],
   "source": [
    "print(\"match found\") if re.search(\"^Sa|ion$\", \"Pleural Effusion\") else \"no match found\""
   ]
  },
  {
   "cell_type": "code",
   "execution_count": 4,
   "metadata": {},
   "outputs": [
    {
     "data": {
      "text/plain": [
       "'no match found'"
      ]
     },
     "execution_count": 4,
     "metadata": {},
     "output_type": "execute_result"
    }
   ],
   "source": [
    "print(\"match found\") if re.search(\"^Ut|xs$\", \"Pleural Effusion\") else \"no match found\""
   ]
  },
  {
   "cell_type": "markdown",
   "metadata": {},
   "source": [
    "Next is a more advanced example. We want to match the pattern \"any number of letters\" followed by a slash, followed by \"any number of letters\":"
   ]
  },
  {
   "cell_type": "code",
   "execution_count": 5,
   "metadata": {},
   "outputs": [
    {
     "data": {
      "text/plain": [
       "'no match found'"
      ]
     },
     "execution_count": 5,
     "metadata": {},
     "output_type": "execute_result"
    }
   ],
   "source": [
    "print(\"match found\") if re.search('(?<=[a-zA-Z])/(?=[a-zA-Z])', \"O8OOO/9YYYkkk\") else \"no match found\""
   ]
  },
  {
   "cell_type": "code",
   "execution_count": 6,
   "metadata": {},
   "outputs": [
    {
     "name": "stdout",
     "output_type": "stream",
     "text": [
      "match found\n"
     ]
    }
   ],
   "source": [
    "print(\"match found\") if re.search('(?<=[a-zA-Z])/(?=[a-zA-Z])', \"XXXX/YYYY\") else \"no match found\""
   ]
  },
  {
   "cell_type": "markdown",
   "metadata": {},
   "source": [
    "Let's implement a clean() function. It should receive a sentence as input, clean it up and then return the clean version of it. By \"cleaning\" we refer to:\n",
    "   1. Convert to lowercase only\n",
    "   2. Change \"and/or\" to \"or\"\n",
    "   3. Change \"/\" to \"or\" when used to indicate equality between two words such as tomatos/tomatoes\n",
    "   4. Replace double periods \"..\" with single period \".\"\n",
    "   5. Insert the appropiate space after periods or commas\n",
    "   6. Convert multi whitespaces to a single whitespace\n",
    "\n",
    "Let's take on step at a time: First let's convert the sentence to lowercase. Will be using a sample sentence and see how it changes along the way:"
   ]
  },
  {
   "cell_type": "code",
   "execution_count": 7,
   "metadata": {},
   "outputs": [],
   "source": [
    "sentence = \"     BIBASILAR OPACITIES,likely representing bilateral pleural effusions with ATELECTASIS   and/or PNEUMONIA..\""
   ]
  },
  {
   "cell_type": "markdown",
   "metadata": {},
   "source": [
    "Use the built-in lower() method to change all characters of a string to their lowercase counterparts. Very easy to implement the first step:"
   ]
  },
  {
   "cell_type": "code",
   "execution_count": 8,
   "metadata": {},
   "outputs": [
    {
     "data": {
      "text/plain": [
       "'     bibasilar opacities,likely representing bilateral pleural effusions with atelectasis   and/or pneumonia..'"
      ]
     },
     "execution_count": 8,
     "metadata": {},
     "output_type": "execute_result"
    }
   ],
   "source": [
    "sentence = sentence.lower()\n",
    "sentence"
   ]
  },
  {
   "cell_type": "markdown",
   "metadata": {},
   "source": [
    "Let's do steps 2 and 3 in a single cell. re module provides the sub() method to substitute patterns in a string with other string:"
   ]
  },
  {
   "cell_type": "code",
   "execution_count": 9,
   "metadata": {},
   "outputs": [
    {
     "data": {
      "text/plain": [
       "'     bibasilar opacities,likely representing bilateral pleural effusions with atelectasis   or pneumonia..'"
      ]
     },
     "execution_count": 9,
     "metadata": {},
     "output_type": "execute_result"
    }
   ],
   "source": [
    "sentence = re.sub('and/or', 'or', sentence)\n",
    "sentence = re.sub('(?<=[a-zA-Z])/(?=[a-zA-Z])', ' or ', sentence)\n",
    "sentence"
   ]
  },
  {
   "cell_type": "markdown",
   "metadata": {},
   "source": [
    "Sometimes using regexp might be an overkill as you're trying to match a simple pattern. In those cases it is better to use Python's built-in replace() method, let's do that for step 4:"
   ]
  },
  {
   "cell_type": "code",
   "execution_count": 10,
   "metadata": {},
   "outputs": [
    {
     "data": {
      "text/plain": [
       "'     bibasilar opacities,likely representing bilateral pleural effusions with atelectasis   or pneumonia.'"
      ]
     },
     "execution_count": 10,
     "metadata": {},
     "output_type": "execute_result"
    }
   ],
   "source": [
    "sentence = sentence.replace(\"..\", \".\")\n",
    "sentence"
   ]
  },
  {
   "cell_type": "markdown",
   "metadata": {},
   "source": [
    "For step 5 let's use an obscure Python built-in method, translate(). You can read everything about it [here](https://docs.python.org/3/library/stdtypes.html#str.translate). Notice it usually is used alongside the maketrans() method:"
   ]
  },
  {
   "cell_type": "code",
   "execution_count": 11,
   "metadata": {},
   "outputs": [
    {
     "data": {
      "text/plain": [
       "'     bibasilar opacities, likely representing bilateral pleural effusions with atelectasis   or pneumonia. '"
      ]
     },
     "execution_count": 11,
     "metadata": {},
     "output_type": "execute_result"
    }
   ],
   "source": [
    "punctuation_spacer = str.maketrans({key: f\"{key} \" for key in \".,\"})\n",
    "sentence = sentence.translate(punctuation_spacer)\n",
    "sentence"
   ]
  },
  {
   "cell_type": "markdown",
   "metadata": {},
   "source": [
    "For step 6 we can trim multiple whitespaces leveraging Python's join method. This can be also done using regexp:"
   ]
  },
  {
   "cell_type": "code",
   "execution_count": 12,
   "metadata": {},
   "outputs": [
    {
     "data": {
      "text/plain": [
       "'bibasilar opacities, likely representing bilateral pleural effusions with atelectasis or pneumonia.'"
      ]
     },
     "execution_count": 12,
     "metadata": {},
     "output_type": "execute_result"
    }
   ],
   "source": [
    "sentence = ' '.join(sentence.split())\n",
    "sentence"
   ]
  },
  {
   "cell_type": "markdown",
   "metadata": {},
   "source": [
    "Now we have a much cleaner sentence, won't you agree?\n",
    "\n",
    "Putting it all together into a function we can test this implementation for various sentences:"
   ]
  },
  {
   "cell_type": "code",
   "execution_count": 17,
   "metadata": {},
   "outputs": [
    {
     "name": "stdout",
     "output_type": "stream",
     "text": [
      "\n",
      "##########################\n",
      "\n",
      "Sentence number: 1\n",
      "Raw sentence: \n",
      "     BIBASILAR OPACITIES,likely representing bilateral pleural effusions with ATELECTASIS   and/or PNEUMONIA..\n",
      "Cleaned sentence: \n",
      "bibasilar opacities, likely representing bilateral pleural effusions with atelectasis or pneumonia.\n",
      "\n",
      "##########################\n",
      "\n",
      "Sentence number: 2\n",
      "Raw sentence: \n",
      "Small left pleural effusion/decreased lung volumes bilaterally.left RetroCardiac Atelectasis.\n",
      "Cleaned sentence: \n",
      "small left pleural effusion or decreased lung volumes bilaterally. left retrocardiac atelectasis.\n",
      "\n",
      "##########################\n",
      "\n",
      "Sentence number: 3\n",
      "Raw sentence: \n",
      "PA  and lateral views of the chest demonstrate   clear lungs,with NO focal air space opacity and/or pleural effusion.\n",
      "Cleaned sentence: \n",
      "pa and lateral views of the chest demonstrate clear lungs, with no focal air space opacity or pleural effusion.\n",
      "\n",
      "##########################\n",
      "\n",
      "Sentence number: 4\n",
      "Raw sentence: \n",
      "worrisome nodule in the Right Upper  lobe.CANNOT exclude neoplasm..\n",
      "Cleaned sentence: \n",
      "worrisome nodule in the right upper lobe. cannot exclude neoplasm.\n"
     ]
    }
   ],
   "source": [
    "def clean(sentence):\n",
    "    lower_sentence = sentence.lower()\n",
    "    corrected_sentence = re.sub('and/or', 'or', lower_sentence)\n",
    "    corrected_sentence = re.sub('(?<=[a-zA-Z])/(?=[a-zA-Z])', ' or ', corrected_sentence)\n",
    "    clean_sentence = corrected_sentence.replace(\"..\", \".\")\n",
    "    punctuation_spacer = str.maketrans({key: f\"{key} \" for key in \".,\"})\n",
    "    clean_sentence = clean_sentence.translate(punctuation_spacer)\n",
    "    clean_sentence = ' '.join(clean_sentence.split())\n",
    "    return clean_sentence\n",
    "\n",
    "sentences = [\"     BIBASILAR OPACITIES,likely representing bilateral pleural effusions with ATELECTASIS   and/or PNEUMONIA..\",\n",
    "             \"Small left pleural effusion/decreased lung volumes bilaterally.left RetroCardiac Atelectasis.\",\n",
    "             \"PA  and lateral views of the chest demonstrate   clear lungs,with NO focal air space opacity and/or pleural effusion.\",\n",
    "             \"worrisome nodule in the Right Upper  lobe.CANNOT exclude neoplasm..\"]\n",
    "\n",
    "for n, sentence in enumerate(sentences):\n",
    "    print(\"\\n##########################\\n\")\n",
    "    print(f\"Sentence number: {n+1}\")\n",
    "    print(f\"Raw sentence: \\n{sentence}\")\n",
    "    print(f\"Cleaned sentence: \\n{clean(sentence)}\")"
   ]
  },
  {
   "cell_type": "markdown",
   "metadata": {},
   "source": [
    "**Congratulations on finishing this lecture notebook!** Hopefully you know better understand regexp and some built-in methods which can be leveraged to clean up text. The clean() function will be used in your graded assignment so better to understand how it works."
   ]
  }
 ],
 "metadata": {
  "kernelspec": {
   "display_name": "Python 3",
   "language": "python",
   "name": "python3"
  },
  "language_info": {
   "codemirror_mode": {
    "name": "ipython",
    "version": 3
   },
   "file_extension": ".py",
   "mimetype": "text/x-python",
   "name": "python",
   "nbconvert_exporter": "python",
   "pygments_lexer": "ipython3",
   "version": "3.6.5"
  }
 },
 "nbformat": 4,
 "nbformat_minor": 4
}
