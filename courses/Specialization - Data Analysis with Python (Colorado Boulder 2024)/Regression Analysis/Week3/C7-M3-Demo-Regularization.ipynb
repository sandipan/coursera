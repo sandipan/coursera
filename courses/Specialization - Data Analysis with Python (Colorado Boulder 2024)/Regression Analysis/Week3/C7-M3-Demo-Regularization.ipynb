{
  "nbformat": 4,
  "nbformat_minor": 0,
  "metadata": {
    "colab": {
      "provenance": []
    },
    "kernelspec": {
      "name": "python3",
      "display_name": "Python 3"
    },
    "language_info": {
      "name": "python"
    }
  },
  "cells": [
    {
      "cell_type": "markdown",
      "source": [
        "# Regularization\n",
        "Below is a step-by-step Python tutorial for regression analysis using a dataset, demonstrating linear regression, polynomial regression, and regularization techniques (Ridge, Lasso, Elastic Net) to handle overfitting."
      ],
      "metadata": {
        "id": "8Bo9cbI3lSWA"
      }
    },
    {
      "cell_type": "markdown",
      "source": [
        "## Setup\n",
        "You can either use a real dataset or generate a dummy dataset for this tutorial. For simplicity, let's create a dummy dataset using NumPy."
      ],
      "metadata": {
        "id": "gxBM2wlWlOox"
      }
    },
    {
      "cell_type": "code",
      "execution_count": 1,
      "metadata": {
        "id": "kLFOcdSkiuQN"
      },
      "outputs": [],
      "source": [
        "import numpy as np\n",
        "import pandas as pd\n",
        "import matplotlib.pyplot as plt\n",
        "from sklearn.model_selection import train_test_split\n",
        "from sklearn.linear_model import LinearRegression, Ridge, Lasso, ElasticNet\n",
        "from sklearn.preprocessing import PolynomialFeatures\n",
        "from sklearn.metrics import r2_score, mean_squared_error\n"
      ]
    },
    {
      "cell_type": "code",
      "source": [
        "# Generating a dummy dataset\n",
        "X = np.linspace(0, 5, 100).reshape(-1, 1)\n",
        "y = -5*X + X**2 + np.random.normal(0, 0.5, X.shape[0]).reshape(-1, 1)"
      ],
      "metadata": {
        "id": "8ChWRxqKiy13"
      },
      "execution_count": 64,
      "outputs": []
    },
    {
      "cell_type": "code",
      "source": [
        "plt.scatter(X, y)"
      ],
      "metadata": {
        "colab": {
          "base_uri": "https://localhost:8080/",
          "height": 448
        },
        "id": "eBpzuio6i1d1",
        "outputId": "d91a0cb5-a99e-471b-e0dc-2442be4a7a4d"
      },
      "execution_count": 65,
      "outputs": [
        {
          "output_type": "execute_result",
          "data": {
            "text/plain": [
              "<matplotlib.collections.PathCollection at 0x79a048d0e680>"
            ]
          },
          "metadata": {},
          "execution_count": 65
        },
        {
          "output_type": "display_data",
          "data": {
            "text/plain": [
              "<Figure size 640x480 with 1 Axes>"
            ],
            "image/png": "[encoded data removed]"
          },
          "metadata": {}
        }
      ]
    },
    {
      "cell_type": "markdown",
      "source": [
        "## Linear Regression\n",
        "Let's start with linear regression to see how well it fits the data."
      ],
      "metadata": {
        "id": "9W9w4dsWlcZj"
      }
    },
    {
      "cell_type": "code",
      "source": [
        "# Split the data into training and testing sets\n",
        "X_train, X_test, y_train, y_test = train_test_split(X, y, test_size=0.2, random_state=0)\n",
        "\n",
        "# Create and fit the linear regression model\n",
        "linear_model = LinearRegression()\n",
        "linear_model.fit(X_train, y_train)\n",
        "\n",
        "# Make predictions on training and testing data\n",
        "y_train_pred = linear_model.predict(X_train)\n",
        "y_test_pred = linear_model.predict(X_test)\n",
        "\n",
        "# Calculate R-squared and mean squared error for evaluation\n",
        "linear_r2_train = r2_score(y_train, y_train_pred)\n",
        "linear_r2_test = r2_score(y_test, y_test_pred)\n",
        "linear_mse_train = mean_squared_error(y_train, y_train_pred)\n",
        "linear_mse_test = mean_squared_error(y_test, y_test_pred)\n",
        "\n",
        "print(f\"Linear Regression:\")\n",
        "print(f\"Training R-squared: {linear_r2_train:.4f}, Training MSE: {linear_mse_train:.4f}\")\n",
        "print(f\"Testing R-squared: {linear_r2_test:.4f}, Testing MSE: {linear_mse_test:.4f}\")\n"
      ],
      "metadata": {
        "colab": {
          "base_uri": "https://localhost:8080/"
        },
        "id": "q2YI0x6ki3b1",
        "outputId": "deb69b89-3b20-4912-a4ce-2bab5646aff6"
      },
      "execution_count": 66,
      "outputs": [
        {
          "output_type": "stream",
          "name": "stdout",
          "text": [
            "Linear Regression:\n",
            "Training R-squared: 0.0008, Training MSE: 3.9027\n",
            "Testing R-squared: -0.0453, Testing MSE: 3.5428\n"
          ]
        }
      ]
    },
    {
      "cell_type": "markdown",
      "source": [
        "## Polynomial Regression with Degree of 2\n",
        "Now, let's perform polynomial regression with a degree of 2 to capture more complex relationships in the data."
      ],
      "metadata": {
        "id": "PsOHhUSHlg8-"
      }
    },
    {
      "cell_type": "code",
      "source": [
        "# Transform the features to include polynomial features of degree 2\n",
        "poly = PolynomialFeatures(degree=2)\n",
        "X_poly = poly.fit_transform(X)\n",
        "\n",
        "# Split the polynomial features into training and testing sets\n",
        "X_poly_train, X_poly_test, y_train, y_test = train_test_split(X_poly, y, test_size=0.2, random_state=0)\n",
        "\n",
        "# Create and fit the polynomial regression model\n",
        "poly_model = LinearRegression()\n",
        "poly_model.fit(X_poly_train, y_train)\n",
        "\n",
        "# Make predictions on training and testing data\n",
        "y_train_pred_poly = poly_model.predict(X_poly_train)\n",
        "y_test_pred_poly = poly_model.predict(X_poly_test)\n",
        "\n",
        "# Calculate R-squared and mean squared error for evaluation\n",
        "poly_r2_train = r2_score(y_train, y_train_pred_poly)\n",
        "poly_r2_test = r2_score(y_test, y_test_pred_poly)\n",
        "poly_mse_train = mean_squared_error(y_train, y_train_pred_poly)\n",
        "poly_mse_test = mean_squared_error(y_test, y_test_pred_poly)\n",
        "\n",
        "print(f\"\\nPolynomial Regression (Degree 2):\")\n",
        "print(f\"Training R-squared: {poly_r2_train:.4f}, Training MSE: {poly_mse_train:.4f}\")\n",
        "print(f\"Testing R-squared: {poly_r2_test:.4f}, Testing MSE: {poly_mse_test:.4f}\")"
      ],
      "metadata": {
        "colab": {
          "base_uri": "https://localhost:8080/"
        },
        "id": "99FAg3N3jIJn",
        "outputId": "f9ccbc51-7a55-4043-eea0-130d6838ca74"
      },
      "execution_count": 67,
      "outputs": [
        {
          "output_type": "stream",
          "name": "stdout",
          "text": [
            "\n",
            "Polynomial Regression (Degree 2):\n",
            "Training R-squared: 0.9529, Training MSE: 0.1841\n",
            "Testing R-squared: 0.9229, Testing MSE: 0.2612\n"
          ]
        }
      ]
    },
    {
      "cell_type": "markdown",
      "source": [
        "## Polynomial Regression with higher Degree\n",
        "Next, let's perform polynomial regression with a higher degree to observe overfitting. The training result is better than the testing result."
      ],
      "metadata": {
        "id": "_FA7IxkIllj_"
      }
    },
    {
      "cell_type": "code",
      "source": [
        "# Transform the features to include polynomial features of higher\n",
        "degree = 21\n",
        "poly_high_degree = PolynomialFeatures(degree=degree)\n",
        "X_poly_high_degree = poly_high_degree.fit_transform(X)\n",
        "\n",
        "# Split the high-degree polynomial features into training and testing sets\n",
        "X_poly_high_degree_train, X_poly_high_degree_test, y_train, y_test = train_test_split(\n",
        "    X_poly_high_degree, y, test_size=0.2, random_state=0)\n",
        "\n",
        "# Create and fit the high-degree polynomial regression model\n",
        "poly_model_high_degree = LinearRegression()\n",
        "poly_model_high_degree.fit(X_poly_high_degree_train, y_train)\n",
        "\n",
        "# Make predictions on training and testing data\n",
        "y_train_pred_high_degree = poly_model_high_degree.predict(X_poly_high_degree_train)\n",
        "y_test_pred_high_degree = poly_model_high_degree.predict(X_poly_high_degree_test)\n",
        "\n",
        "# Calculate R-squared and mean squared error for evaluation\n",
        "poly_r2_train_high_degree = r2_score(y_train, y_train_pred_high_degree)\n",
        "poly_r2_test_high_degree = r2_score(y_test, y_test_pred_high_degree)\n",
        "poly_mse_train_high_degree = mean_squared_error(y_train, y_train_pred_high_degree)\n",
        "poly_mse_test_high_degree = mean_squared_error(y_test, y_test_pred_high_degree)\n",
        "\n",
        "print(f\"\\nPolynomial Regression (Degree {degree}):\")\n",
        "print(f\"Training R-squared: {poly_r2_train_high_degree:.4f}, Training MSE: {poly_mse_train_high_degree:.4f}\")\n",
        "print(f\"Testing R-squared: {poly_r2_test_high_degree:.4f}, Testing MSE: {poly_mse_test_high_degree:.4f}\")\n"
      ],
      "metadata": {
        "colab": {
          "base_uri": "https://localhost:8080/"
        },
        "id": "TQgcezMHjOjH",
        "outputId": "92b12c69-38ee-49a9-ab08-dfd0513f112e"
      },
      "execution_count": 77,
      "outputs": [
        {
          "output_type": "stream",
          "name": "stdout",
          "text": [
            "\n",
            "Polynomial Regression (Degree 21):\n",
            "Training R-squared: 0.9616, Training MSE: 0.1501\n",
            "Testing R-squared: 0.9100, Testing MSE: 0.3049\n"
          ]
        }
      ]
    },
    {
      "cell_type": "markdown",
      "source": [
        "## Regularization (Ridge, Lasso, Elastic Net)\n",
        "Finally, let's introduce regularization techniques to mitigate overfitting in the high-degree polynomial regression."
      ],
      "metadata": {
        "id": "Jiih5UnHl3Mj"
      }
    },
    {
      "cell_type": "code",
      "source": [
        "# Regularization strengths\n",
        "alpha_ridge = 0.001\n",
        "alpha_lasso = 0.001\n",
        "alpha_elasticnet = 0.001\n",
        "l1_ratio_elasticnet = 0.5\n",
        "\n",
        "# Create and fit the Ridge, Lasso, and ElasticNet regression models\n",
        "ridge_model = Ridge(alpha=alpha_ridge)\n",
        "ridge_model.fit(X_poly_high_degree_train, y_train)\n",
        "\n",
        "lasso_model = Lasso(alpha=alpha_lasso)\n",
        "lasso_model.fit(X_poly_high_degree_train, y_train)\n",
        "\n",
        "elasticnet_model = ElasticNet(alpha=alpha_elasticnet, l1_ratio=l1_ratio_elasticnet)\n",
        "elasticnet_model.fit(X_poly_high_degree_train, y_train)\n",
        "\n",
        "# Make predictions on training and testing data for all regularized models\n",
        "y_train_pred_ridge = ridge_model.predict(X_poly_high_degree_train)\n",
        "y_test_pred_ridge = ridge_model.predict(X_poly_high_degree_test)\n",
        "\n",
        "y_train_pred_lasso = lasso_model.predict(X_poly_high_degree_train)\n",
        "y_test_pred_lasso = lasso_model.predict(X_poly_high_degree_test)\n",
        "\n",
        "y_train_pred_elasticnet = elasticnet_model.predict(X_poly_high_degree_train)\n",
        "y_test_pred_elasticnet = elasticnet_model.predict(X_poly_high_degree_test)\n",
        "\n",
        "# Calculate R-squared and mean squared error for evaluation\n",
        "ridge_r2_train = r2_score(y_train, y_train_pred_ridge)\n",
        "ridge_r2_test = r2_score(y_test, y_test_pred_ridge)\n",
        "ridge_mse_train = mean_squared_error(y_train, y_train_pred_ridge)\n",
        "ridge_mse_test = mean_squared_error(y_test, y_test_pred_ridge)\n",
        "\n",
        "lasso_r2_train = r2_score(y_train, y_train_pred_lasso)\n",
        "lasso_r2_test = r2_score(y_test, y_test_pred_lasso)\n",
        "lasso_mse_train = mean_squared_error(y_train, y_train_pred_lasso)\n",
        "lasso_mse_test = mean_squared_error(y_test, y_test_pred_lasso)\n",
        "\n",
        "elasticnet_r2_train = r2_score(y_train, y_train_pred_elasticnet)\n",
        "elasticnet_r2_test = r2_score(y_test, y_test_pred_elasticnet)\n",
        "elasticnet_mse_train = mean_squared_error(y_train, y_train_pred_elasticnet)\n",
        "elasticnet_mse_test = mean_squared_error(y_test, y_test_pred_elasticnet)\n",
        "\n",
        "print(\"\\nRegularization:\")\n",
        "print(f\"Ridge Regression - Training R-squared: {ridge_r2_train:.4f}, Testing R-squared: {ridge_r2_test:.4f}\")\n",
        "print(f\"Lasso Regression - Training R-squared: {lasso_r2_train:.4f}, Testing R-squared: {lasso_r2_test:.4f}\")\n",
        "print(f\"ElasticNet Regression - Training R-squared: {elasticnet_r2_train:.4f}, Testing R-squared: {elasticnet_r2_test:.4f}\")\n"
      ],
      "metadata": {
        "colab": {
          "base_uri": "https://localhost:8080/"
        },
        "id": "tsGB9D4EjVmv",
        "outputId": "302adc8a-1ef3-4e5e-aab7-4d59ca3a6d10"
      },
      "execution_count": 95,
      "outputs": [
        {
          "output_type": "stream",
          "name": "stdout",
          "text": [
            "\n",
            "Regularization:\n",
            "Ridge Regression - Training R-squared: 0.9627, Testing R-squared: 0.9151\n",
            "Lasso Regression - Training R-squared: 0.9554, Testing R-squared: 0.9225\n",
            "ElasticNet Regression - Training R-squared: 0.9552, Testing R-squared: 0.9228\n"
          ]
        },
        {
          "output_type": "stream",
          "name": "stderr",
          "text": [
            "/usr/local/lib/python3.10/dist-packages/sklearn/linear_model/_coordinate_descent.py:631: ConvergenceWarning: Objective did not converge. You might want to increase the number of iterations, check the scale of the features or consider increasing regularisation. Duality gap: 7.488e+00, tolerance: 3.125e-02\n",
            "  model = cd_fast.enet_coordinate_descent(\n",
            "/usr/local/lib/python3.10/dist-packages/sklearn/linear_model/_coordinate_descent.py:631: ConvergenceWarning: Objective did not converge. You might want to increase the number of iterations, check the scale of the features or consider increasing regularisation. Duality gap: 7.826e+00, tolerance: 3.125e-02\n",
            "  model = cd_fast.enet_coordinate_descent(\n"
          ]
        }
      ]
    }
  ]
}