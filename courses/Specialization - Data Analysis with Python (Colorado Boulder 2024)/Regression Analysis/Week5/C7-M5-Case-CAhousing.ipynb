{
  "nbformat": 4,
  "nbformat_minor": 0,
  "metadata": {
    "colab": {
      "provenance": []
    },
    "kernelspec": {
      "name": "python3",
      "display_name": "Python 3"
    },
    "language_info": {
      "name": "python"
    }
  },
  "cells": [
    {
      "cell_type": "markdown",
      "source": [
        "# Case Study - CA Housing Price\n",
        "Let's create a comprehensive tutorial that includes Linear Regression, Polynomial Regression, Polynomial Regression with Regularization,Multivariable Regression (using multiple features), and Ensemble Methods using the California Housing Prices dataset. We will explore three popular ensemble techniques: Bagging, Boosting, and Stacking. For this tutorial, we'll use the Gradient Boosting Regressor, Random Forest Regressor, and a simple Linear Regression as base models.\n",
        "\n",
        "This comprehensive tutorial covers various regression techniques, including Linear Regression, Polynomial Regression, Polynomial Regression with Regularization (Ridge, Lasso, ElasticNet), Multivariable Regression, and Random Forest Regression using Ensemble Methods. Users will be able to understand the strengths and weaknesses of each method and how to select appropriate models for different regression tasks. They can further explore other real-world datasets and apply these regression models to make accurate predictions."
      ],
      "metadata": {
        "id": "S044wGKCRXwC"
      }
    },
    {
      "cell_type": "markdown",
      "source": [
        "## Import Libraries\n",
        "We'll start by importing the necessary libraries for data manipulation, visualization, and regression analysis."
      ],
      "metadata": {
        "id": "xvhWCRcgRhh6"
      }
    },
    {
      "cell_type": "code",
      "execution_count": 4,
      "metadata": {
        "id": "jkJLMoVBRUy0"
      },
      "outputs": [],
      "source": [
        "import numpy as np\n",
        "import pandas as pd\n",
        "import matplotlib.pyplot as plt\n",
        "from sklearn.datasets import fetch_california_housing\n",
        "from sklearn.model_selection import train_test_split\n",
        "from sklearn.linear_model import LinearRegression, Ridge, Lasso, ElasticNet\n",
        "from sklearn.preprocessing import PolynomialFeatures, StandardScaler\n",
        "from sklearn.metrics import r2_score, mean_squared_error\n",
        "from sklearn.ensemble import RandomForestRegressor"
      ]
    },
    {
      "cell_type": "markdown",
      "source": [
        "## Load and Prepare the Dataset\n",
        "Next, we'll load the California Housing Prices dataset and prepare it for regression analysis."
      ],
      "metadata": {
        "id": "EmQl5YJNRmDB"
      }
    },
    {
      "cell_type": "code",
      "source": [
        "# Load the California Housing Prices dataset\n",
        "data = fetch_california_housing()\n",
        "X = data.data\n",
        "y = data.target\n",
        "\n",
        "# Split the data into training and testing sets\n",
        "X_train, X_test, y_train, y_test = train_test_split(X, y, test_size=0.2, random_state=42)\n",
        "\n",
        "# Standardize the features\n",
        "scaler = StandardScaler()\n",
        "X_train_scaled = scaler.fit_transform(X_train)\n",
        "X_test_scaled = scaler.transform(X_test)"
      ],
      "metadata": {
        "id": "O9K5UoqORnSJ"
      },
      "execution_count": 5,
      "outputs": []
    },
    {
      "cell_type": "markdown",
      "source": [
        "## Linear Regression (Baseline)\n",
        "Let's start with a simple linear regression model as a baseline."
      ],
      "metadata": {
        "id": "PIAL2tqLTAAW"
      }
    },
    {
      "cell_type": "code",
      "source": [
        "# Create and fit the linear regression model\n",
        "linear_model = LinearRegression()\n",
        "linear_model.fit(X_train_scaled, y_train)\n",
        "\n",
        "# Make predictions on training and testing data\n",
        "y_train_pred_linear = linear_model.predict(X_train_scaled)\n",
        "y_test_pred_linear = linear_model.predict(X_test_scaled)\n",
        "\n",
        "# Calculate R-squared and mean squared error for evaluation\n",
        "linear_r2_train = r2_score(y_train, y_train_pred_linear)\n",
        "linear_r2_test = r2_score(y_test, y_test_pred_linear)\n",
        "linear_mse_train = mean_squared_error(y_train, y_train_pred_linear)\n",
        "linear_mse_test = mean_squared_error(y_test, y_test_pred_linear)\n",
        "\n",
        "print(f\"Linear Regression (Baseline):\")\n",
        "print(f\"Training R-squared: {linear_r2_train:.4f}, Training MSE: {linear_mse_train:.4f}\")\n",
        "print(f\"Testing R-squared: {linear_r2_test:.4f}, Testing MSE: {linear_mse_test:.4f}\")"
      ],
      "metadata": {
        "colab": {
          "base_uri": "https://localhost:8080/"
        },
        "id": "_jVzVclYTA_l",
        "outputId": "db708f86-a387-41fe-838b-65786950dc1d"
      },
      "execution_count": 6,
      "outputs": [
        {
          "output_type": "stream",
          "name": "stdout",
          "text": [
            "Linear Regression (Baseline):\n",
            "Training R-squared: 0.6126, Training MSE: 0.5179\n",
            "Testing R-squared: 0.5758, Testing MSE: 0.5559\n"
          ]
        }
      ]
    },
    {
      "cell_type": "markdown",
      "source": [
        "## Polynomial Regression\n",
        "Next, let's perform Polynomial Regression with different degrees."
      ],
      "metadata": {
        "id": "eLGAwBNTTEo1"
      }
    },
    {
      "cell_type": "code",
      "source": [
        "# Polynomial degrees\n",
        "degrees = [2, 3, 4]\n",
        "\n",
        "# Create and fit the polynomial regression models with different degrees\n",
        "polynomial_models = []\n",
        "polynomial_r2_train_scores = []\n",
        "polynomial_r2_test_scores = []\n",
        "\n",
        "for degree in degrees:\n",
        "    poly_features = PolynomialFeatures(degree=degree)\n",
        "    X_train_poly = poly_features.fit_transform(X_train_scaled)\n",
        "    X_test_poly = poly_features.transform(X_test_scaled)\n",
        "\n",
        "    model = LinearRegression()\n",
        "    model.fit(X_train_poly, y_train)\n",
        "    polynomial_models.append(model)\n",
        "\n",
        "    # Make predictions on training and testing data\n",
        "    y_train_pred = model.predict(X_train_poly)\n",
        "    y_test_pred = model.predict(X_test_poly)\n",
        "\n",
        "    # Calculate R-squared for evaluation\n",
        "    polynomial_r2_train = r2_score(y_train, y_train_pred)\n",
        "    polynomial_r2_test = r2_score(y_test, y_test_pred)\n",
        "\n",
        "    polynomial_r2_train_scores.append(polynomial_r2_train)\n",
        "    polynomial_r2_test_scores.append(polynomial_r2_test)\n",
        "\n",
        "# Find the best degree based on the testing R-squared score\n",
        "best_degree = degrees[np.argmax(polynomial_r2_test_scores)]\n",
        "\n",
        "print(f\"\\nPolynomial Regression:\")\n",
        "print(f\"Best Degree: {best_degree}\")\n",
        "print(f\"Training R-squared Scores: {polynomial_r2_train_scores}\")\n",
        "print(f\"Testing R-squared Scores: {polynomial_r2_test_scores}\")"
      ],
      "metadata": {
        "colab": {
          "base_uri": "https://localhost:8080/"
        },
        "id": "IOCTLx55TFjO",
        "outputId": "b55eedb2-0fb2-46df-bb06-fc8accab2879"
      },
      "execution_count": 7,
      "outputs": [
        {
          "output_type": "stream",
          "name": "stdout",
          "text": [
            "\n",
            "Polynomial Regression:\n",
            "Best Degree: 2\n",
            "Training R-squared Scores: [0.6852681982344955, 0.7441415681335484, 0.7893228446487628]\n",
            "Testing R-squared Scores: [0.6456819729261878, -18.38870805843526, -11476.104183339065]\n"
          ]
        }
      ]
    },
    {
      "cell_type": "markdown",
      "source": [
        "## Polynomial Regression with Regularization\n",
        "Now, let's perform Polynomial Regression with Regularization using Ridge, Lasso, and ElasticNet."
      ],
      "metadata": {
        "id": "1yxCDXoOTK1n"
      }
    },
    {
      "cell_type": "code",
      "source": [
        "# Continue with degree of 2\n",
        "poly_features = PolynomialFeatures(degree=2)\n",
        "X_train_poly = poly_features.fit_transform(X_train_scaled)\n",
        "X_test_poly = poly_features.transform(X_test_scaled)\n",
        "\n",
        "# Regularization strengths (alpha values)\n",
        "alphas = [0.001, 0.01, 0.1, 1, 10, 50]\n",
        "\n",
        "# Create and fit the Ridge, Lasso, and ElasticNet regression models with different alpha values\n",
        "ridge_models = []\n",
        "ridge_r2_train_scores = []\n",
        "ridge_r2_test_scores = []\n",
        "\n",
        "lasso_models = []\n",
        "lasso_r2_train_scores = []\n",
        "lasso_r2_test_scores = []\n",
        "\n",
        "elasticnet_models = []\n",
        "elasticnet_r2_train_scores = []\n",
        "elasticnet_r2_test_scores = []\n",
        "\n",
        "for alpha in alphas:\n",
        "    ridge_model = Ridge(alpha=alpha)\n",
        "    ridge_model.fit(X_train_poly, y_train)\n",
        "    ridge_models.append(ridge_model)\n",
        "\n",
        "    # Make predictions on training and testing data\n",
        "    y_train_pred = ridge_model.predict(X_train_poly)\n",
        "    y_test_pred = ridge_model.predict(X_test_poly)\n",
        "\n",
        "    # Calculate R-squared for evaluation\n",
        "    ridge_r2_train = r2_score(y_train, y_train_pred)\n",
        "    ridge_r2_test = r2_score(y_test, y_test_pred)\n",
        "\n",
        "    ridge_r2_train_scores.append(ridge_r2_train)\n",
        "    ridge_r2_test_scores.append(ridge_r2_test)\n",
        "\n",
        "    lasso_model = Lasso(alpha=alpha)\n",
        "    lasso_model.fit(X_train_poly, y_train)\n",
        "    lasso_models.append(lasso_model)\n",
        "\n",
        "    # Make predictions on training and testing data\n",
        "    y_train_pred = lasso_model.predict(X_train_poly)\n",
        "    y_test_pred = lasso_model.predict(X_test_poly)\n",
        "\n",
        "    # Calculate R-squared for evaluation\n",
        "    lasso_r2_train = r2_score(y_train, y_train_pred)\n",
        "    lasso_r2_test = r2_score(y_test, y_test_pred)\n",
        "\n",
        "    lasso_r2_train_scores.append(lasso_r2_train)\n",
        "    lasso_r2_test_scores.append(lasso_r2_test)\n",
        "\n",
        "    for l1_ratio in [0.2, 0.5, 0.7, 0.9]:\n",
        "        elasticnet_model = ElasticNet(alpha=alpha, l1_ratio=l1_ratio)\n",
        "        elasticnet_model.fit(X_train_poly, y_train)\n",
        "        elasticnet_models.append(elasticnet_model)\n",
        "\n",
        "        # Make predictions on training and testing data\n",
        "        y_train_pred = elasticnet_model.predict(X_train_poly)\n",
        "        y_test_pred = elasticnet_model.predict(X_test_poly)\n",
        "\n",
        "        # Calculate R-squared for evaluation\n",
        "        elasticnet_r2_train = r2_score(y_train, y_train_pred)\n",
        "        elasticnet_r2_test = r2_score(y_test, y_test_pred)\n",
        "\n",
        "        elasticnet_r2_train_scores.append(elasticnet_r2_train)\n",
        "        elasticnet_r2_test_scores.append(elasticnet_r2_test)\n",
        "\n",
        "# Find the best alpha and l1_ratio based on the testing R-squared score\n",
        "best_alpha_ridge = alphas[np.argmax(ridge_r2_test_scores)]\n",
        "best_alpha_lasso = alphas[np.argmax(lasso_r2_test_scores)]\n",
        "best_alpha_elasticnet = alphas[np.argmax(elasticnet_r2_test_scores)]\n",
        "best_l1_ratio_elasticnet = [0.2, 0.5, 0.7, 0.9][np.argmax(elasticnet_r2_test_scores) % 4]\n",
        "\n",
        "print(f\"\\nPolynomial Regression with Regularization:\")\n",
        "print(f\"Best Alpha (Ridge): {best_alpha_ridge:.4f}\")\n",
        "print(f\"Best Alpha (Lasso): {best_alpha_lasso:.4f}\")\n",
        "print(f\"Best Alpha (ElasticNet): {best_alpha_elasticnet:.4f}\")\n",
        "print(f\"Best l1_ratio (ElasticNet): {best_l1_ratio_elasticnet:.1f}\")\n",
        "print(f\"Ridge Training R-squared Scores: {ridge_r2_train_scores}\")\n",
        "print(f\"Ridge Testing R-squared Scores: {ridge_r2_test_scores}\")\n",
        "print(f\"Lasso Training R-squared Scores: {lasso_r2_train_scores}\")\n",
        "print(f\"Lasso Testing R-squared Scores: {lasso_r2_test_scores}\")\n",
        "print(f\"ElasticNet Training R-squared Scores: {elasticnet_r2_train_scores}\")\n",
        "print(f\"ElasticNet Testing R-squared Scores: {elasticnet_r2_test_scores}\")"
      ],
      "metadata": {
        "colab": {
          "base_uri": "https://localhost:8080/"
        },
        "id": "oXtADZJmTMQe",
        "outputId": "f97cb4cf-30aa-4e28-d514-cc27b4f9b30b"
      },
      "execution_count": 8,
      "outputs": [
        {
          "output_type": "stream",
          "name": "stderr",
          "text": [
            "/usr/local/lib/python3.10/dist-packages/sklearn/linear_model/_coordinate_descent.py:631: ConvergenceWarning: Objective did not converge. You might want to increase the number of iterations, check the scale of the features or consider increasing regularisation. Duality gap: 3.393e+03, tolerance: 2.207e+00\n",
            "  model = cd_fast.enet_coordinate_descent(\n",
            "/usr/local/lib/python3.10/dist-packages/sklearn/linear_model/_coordinate_descent.py:631: ConvergenceWarning: Objective did not converge. You might want to increase the number of iterations, check the scale of the features or consider increasing regularisation. Duality gap: 3.441e+03, tolerance: 2.207e+00\n",
            "  model = cd_fast.enet_coordinate_descent(\n",
            "/usr/local/lib/python3.10/dist-packages/sklearn/linear_model/_coordinate_descent.py:631: ConvergenceWarning: Objective did not converge. You might want to increase the number of iterations, check the scale of the features or consider increasing regularisation. Duality gap: 3.302e+03, tolerance: 2.207e+00\n",
            "  model = cd_fast.enet_coordinate_descent(\n",
            "/usr/local/lib/python3.10/dist-packages/sklearn/linear_model/_coordinate_descent.py:631: ConvergenceWarning: Objective did not converge. You might want to increase the number of iterations, check the scale of the features or consider increasing regularisation. Duality gap: 3.276e+03, tolerance: 2.207e+00\n",
            "  model = cd_fast.enet_coordinate_descent(\n",
            "/usr/local/lib/python3.10/dist-packages/sklearn/linear_model/_coordinate_descent.py:631: ConvergenceWarning: Objective did not converge. You might want to increase the number of iterations, check the scale of the features or consider increasing regularisation. Duality gap: 3.398e+03, tolerance: 2.207e+00\n",
            "  model = cd_fast.enet_coordinate_descent(\n",
            "/usr/local/lib/python3.10/dist-packages/sklearn/linear_model/_coordinate_descent.py:631: ConvergenceWarning: Objective did not converge. You might want to increase the number of iterations, check the scale of the features or consider increasing regularisation. Duality gap: 2.173e+02, tolerance: 2.207e+00\n",
            "  model = cd_fast.enet_coordinate_descent(\n",
            "/usr/local/lib/python3.10/dist-packages/sklearn/linear_model/_coordinate_descent.py:631: ConvergenceWarning: Objective did not converge. You might want to increase the number of iterations, check the scale of the features or consider increasing regularisation. Duality gap: 1.856e+03, tolerance: 2.207e+00\n",
            "  model = cd_fast.enet_coordinate_descent(\n",
            "/usr/local/lib/python3.10/dist-packages/sklearn/linear_model/_coordinate_descent.py:631: ConvergenceWarning: Objective did not converge. You might want to increase the number of iterations, check the scale of the features or consider increasing regularisation. Duality gap: 5.788e+02, tolerance: 2.207e+00\n",
            "  model = cd_fast.enet_coordinate_descent(\n",
            "/usr/local/lib/python3.10/dist-packages/sklearn/linear_model/_coordinate_descent.py:631: ConvergenceWarning: Objective did not converge. You might want to increase the number of iterations, check the scale of the features or consider increasing regularisation. Duality gap: 3.140e+02, tolerance: 2.207e+00\n",
            "  model = cd_fast.enet_coordinate_descent(\n",
            "/usr/local/lib/python3.10/dist-packages/sklearn/linear_model/_coordinate_descent.py:631: ConvergenceWarning: Objective did not converge. You might want to increase the number of iterations, check the scale of the features or consider increasing regularisation. Duality gap: 2.271e+02, tolerance: 2.207e+00\n",
            "  model = cd_fast.enet_coordinate_descent(\n",
            "/usr/local/lib/python3.10/dist-packages/sklearn/linear_model/_coordinate_descent.py:631: ConvergenceWarning: Objective did not converge. You might want to increase the number of iterations, check the scale of the features or consider increasing regularisation. Duality gap: 2.403e+00, tolerance: 2.207e+00\n",
            "  model = cd_fast.enet_coordinate_descent(\n"
          ]
        },
        {
          "output_type": "stream",
          "name": "stdout",
          "text": [
            "\n",
            "Polynomial Regression with Regularization:\n",
            "Best Alpha (Ridge): 50.0000\n",
            "Best Alpha (Lasso): 0.0010\n",
            "Best Alpha (ElasticNet): 1.0000\n",
            "Best l1_ratio (ElasticNet): 0.9\n",
            "Ridge Training R-squared Scores: [0.6852681982309979, 0.6852681978848241, 0.6852681633541837, 0.685264794671512, 0.6849940748677977, 0.6816443257072609]\n",
            "Ridge Testing R-squared Scores: [0.645683225805578, 0.6456944994375847, 0.6458070098962285, 0.6469096540341595, 0.6558501677208112, 0.6672535561034868]\n",
            "Lasso Training R-squared Scores: [0.6830030979089348, 0.6305732853769765, 0.500981674817156, 0.033220008724097694, 0.0, 0.0]\n",
            "Lasso Testing R-squared Scores: [0.6686741743527673, 0.533056472931786, 0.4823562161721351, 0.032132551538488596, -0.00021908714592466794, -0.00021908714592466794]\n",
            "ElasticNet Training R-squared Scores: [0.6840310978294589, 0.6837217689230024, 0.6834122448233106, 0.6831585830280078, 0.6641895730066483, 0.654089814353995, 0.6463124687609253, 0.6364839821265846, 0.5619051580675156, 0.5325527976563843, 0.5104019630875991, 0.5043656964193155, 0.3174625276332542, 0.21148526134241852, 0.08567216955936541, 0.05311242187826348, 0.0, 0.0, 0.0, 0.0, 0.0, 0.0, 0.0, 0.0]\n",
            "ElasticNet Testing R-squared Scores: [0.665131384671392, 0.6672768269417034, 0.6679746333269325, 0.6687496873021064, 0.5953794418651244, 0.534895420337363, 0.5324894830873397, 0.53544136023843, 0.5437773103890866, 0.5153003945070083, 0.49307869728746057, 0.4864961977437864, 0.30776990091131096, 0.2058625168336501, 0.0831325334530788, 0.051496641763479345, -0.00021908714592466794, -0.00021908714592466794, -0.00021908714592466794, -0.00021908714592466794, -0.00021908714592466794, -0.00021908714592466794, -0.00021908714592466794, -0.00021908714592466794]\n"
          ]
        }
      ]
    },
    {
      "cell_type": "markdown",
      "source": [
        "## Multivariable Regression\n",
        "Now, let's perform Multivariable Regression using all available features."
      ],
      "metadata": {
        "id": "DUJ2HqXjTwCd"
      }
    },
    {
      "cell_type": "code",
      "source": [
        "# Create and fit the multivariable regression model\n",
        "multi_model = LinearRegression()\n",
        "multi_model.fit(X_train_scaled, y_train)\n",
        "\n",
        "# Make predictions on training and testing data\n",
        "y_train_pred_multi = multi_model.predict(X_train_scaled)\n",
        "y_test_pred_multi = multi_model.predict(X_test_scaled)\n",
        "\n",
        "# Calculate R-squared and mean squared error for evaluation\n",
        "multi_r2_train = r2_score(y_train, y_train_pred_multi)\n",
        "multi_r2_test = r2_score(y_test, y_test_pred_multi)\n",
        "multi_mse_train = mean_squared_error(y_train, y_train_pred_multi)\n",
        "multi_mse_test = mean_squared_error(y_test, y_test_pred_multi)\n",
        "\n",
        "print(f\"\\nMultivariable Regression:\")\n",
        "print(f\"Training R-squared: {multi_r2_train:.4f}, Training MSE: {multi_mse_train:.4f}\")\n",
        "print(f\"Testing R-squared: {multi_r2_test:.4f}, Testing MSE: {multi_mse_test:.4f}\")"
      ],
      "metadata": {
        "colab": {
          "base_uri": "https://localhost:8080/"
        },
        "id": "fBcMztqETxQo",
        "outputId": "c8be26dc-8714-4012-ce2d-76a6b8c553f1"
      },
      "execution_count": 9,
      "outputs": [
        {
          "output_type": "stream",
          "name": "stdout",
          "text": [
            "\n",
            "Multivariable Regression:\n",
            "Training R-squared: 0.6126, Training MSE: 0.5179\n",
            "Testing R-squared: 0.5758, Testing MSE: 0.5559\n"
          ]
        }
      ]
    },
    {
      "cell_type": "markdown",
      "source": [
        "## Ensemble Methods - Random Forest Regression\n",
        "Finally, let's apply Ensemble Methods, specifically Random Forest Regression, to the dataset."
      ],
      "metadata": {
        "id": "9Z0p3H8ZRscJ"
      }
    },
    {
      "cell_type": "code",
      "source": [
        "# Create and fit the Random Forest regression model\n",
        "rf_model = RandomForestRegressor(n_estimators=100, random_state=42)\n",
        "rf_model.fit(X_train_scaled, y_train)\n",
        "\n",
        "# Make predictions on training and testing data\n",
        "y_train_pred_rf = rf_model.predict(X_train_scaled)\n",
        "y_test_pred_rf = rf_model.predict(X_test_scaled)\n",
        "\n",
        "# Calculate R-squared and mean squared error for evaluation\n",
        "rf_r2_train = r2_score(y_train, y_train_pred_rf)\n",
        "rf_r2_test = r2_score(y_test, y_test_pred_rf)\n",
        "rf_mse_train = mean_squared_error(y_train, y_train_pred_rf)\n",
        "rf_mse_test = mean_squared_error(y_test, y_test_pred_rf)\n",
        "\n",
        "print(f\"\\nRandom Forest Regression:\")\n",
        "print(f\"Training R-squared: {rf_r2_train:.4f}, Training MSE: {rf_mse_train:.4f}\")\n",
        "print(f\"Testing R-squared: {rf_r2_test:.4f}, Testing MSE: {rf_mse_test:.4f}\")"
      ],
      "metadata": {
        "colab": {
          "base_uri": "https://localhost:8080/"
        },
        "id": "S72M51KHRtnK",
        "outputId": "e2e794d5-488e-4466-c12f-3b908c2423cd"
      },
      "execution_count": 10,
      "outputs": [
        {
          "output_type": "stream",
          "name": "stdout",
          "text": [
            "\n",
            "Random Forest Regression:\n",
            "Training R-squared: 0.9736, Training MSE: 0.0353\n",
            "Testing R-squared: 0.8053, Testing MSE: 0.2552\n"
          ]
        }
      ]
    },
    {
      "cell_type": "markdown",
      "source": [
        "## Visualization\n",
        "You can visualize the R-squared scores for different models."
      ],
      "metadata": {
        "id": "klC5BnJ0UQQy"
      }
    },
    {
      "cell_type": "code",
      "source": [
        "# Plotting R-squared scores for different models\n",
        "plt.figure(figsize=(12, 6))\n",
        "\n",
        "models = ['Linear Regression', f'Polynomial (Degree {best_degree})', 'Polynomial (Regularized)',\n",
        "          'Multivariable Regression', 'Random Forest']\n",
        "\n",
        "train_scores = [linear_r2_train, polynomial_r2_train_scores[np.argmax(polynomial_r2_test_scores)],\n",
        "                max(ridge_r2_train_scores), multi_r2_train, rf_r2_train]\n",
        "\n",
        "test_scores = [linear_r2_test, polynomial_r2_test_scores[np.argmax(polynomial_r2_test_scores)],\n",
        "               max(ridge_r2_test_scores), multi_r2_test, rf_r2_test]\n",
        "\n",
        "x = np.arange(len(models))\n",
        "width = 0.35\n",
        "\n",
        "plt.bar(x - width/2, train_scores, width, label='Training R-squared')\n",
        "plt.bar(x + width/2, test_scores, width, label='Testing R-squared')\n",
        "\n",
        "plt.xticks(x, models, rotation=45)\n",
        "plt.ylabel('R-squared')\n",
        "plt.title('R-squared Scores for Different Models')\n",
        "plt.legend()\n",
        "plt.tight_layout()\n",
        "plt.show()"
      ],
      "metadata": {
        "colab": {
          "base_uri": "https://localhost:8080/",
          "height": 607
        },
        "id": "Z3rBv512UR7M",
        "outputId": "c9ec67f9-01b1-4c34-8573-6a4c70a10342"
      },
      "execution_count": 11,
      "outputs": [
        {
          "output_type": "display_data",
          "data": {
            "text/plain": [
              "<Figure size 1200x600 with 1 Axes>"
            ],
            "image/png": "[encoded data removed]"
          },
          "metadata": {}
        }
      ]
    }
  ]
}