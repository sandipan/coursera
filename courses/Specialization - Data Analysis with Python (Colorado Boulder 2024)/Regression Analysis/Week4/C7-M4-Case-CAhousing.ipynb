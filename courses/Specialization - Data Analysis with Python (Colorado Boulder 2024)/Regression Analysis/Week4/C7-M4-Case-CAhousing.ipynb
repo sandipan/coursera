{
  "nbformat": 4,
  "nbformat_minor": 0,
  "metadata": {
    "colab": {
      "provenance": []
    },
    "kernelspec": {
      "name": "python3",
      "display_name": "Python 3"
    },
    "language_info": {
      "name": "python"
    }
  },
  "cells": [
    {
      "cell_type": "markdown",
      "source": [
        "# Cross Validation Case Study\n",
        "Let's use the California Housing Prices dataset, which is available in scikit-learn, for this tutorial. We'll perform cross-validation using 5-fold and leave-one-out techniques and compare the results."
      ],
      "metadata": {
        "id": "T0fz7cgjuLFq"
      }
    },
    {
      "cell_type": "markdown",
      "source": [
        "## Setup\n",
        "We'll start by importing the necessary libraries for data manipulation, cross-validation, regression, and dataset loading.\n",
        "\n"
      ],
      "metadata": {
        "id": "JSOYdW5iuR2g"
      }
    },
    {
      "cell_type": "code",
      "execution_count": 5,
      "metadata": {
        "id": "QYawimK_uFKc"
      },
      "outputs": [],
      "source": [
        "import numpy as np\n",
        "import pandas as pd\n",
        "import matplotlib.pyplot as plt\n",
        "from sklearn.datasets import fetch_california_housing\n",
        "from sklearn.model_selection import KFold, LeaveOneOut\n",
        "from sklearn.linear_model import LinearRegression\n",
        "from sklearn.metrics import mean_squared_error"
      ]
    },
    {
      "cell_type": "markdown",
      "source": [
        "## Load and Explore the Dataset\n",
        "Next, we'll load the California Housing Prices dataset and explore its features and target variable."
      ],
      "metadata": {
        "id": "EelJ6s1ZuVaY"
      }
    },
    {
      "cell_type": "code",
      "source": [
        "# Load the California Housing Prices dataset\n",
        "data = fetch_california_housing()\n",
        "X = data.data\n",
        "y = data.target\n",
        "\n",
        "# Convert the dataset to a DataFrame for easier exploration\n",
        "df = pd.DataFrame(data=np.c_[X, y], columns=data.feature_names + ['target'])\n",
        "\n",
        "# Print the first few rows of the dataset\n",
        "print(df.head())"
      ],
      "metadata": {
        "colab": {
          "base_uri": "https://localhost:8080/"
        },
        "id": "NFwfvWQ7uY0l",
        "outputId": "97a26256-3757-4302-ea6d-08082e649bd9"
      },
      "execution_count": 6,
      "outputs": [
        {
          "output_type": "stream",
          "name": "stdout",
          "text": [
            "   MedInc  HouseAge  AveRooms  AveBedrms  Population  AveOccup  Latitude  \\\n",
            "0  8.3252      41.0  6.984127   1.023810       322.0  2.555556     37.88   \n",
            "1  8.3014      21.0  6.238137   0.971880      2401.0  2.109842     37.86   \n",
            "2  7.2574      52.0  8.288136   1.073446       496.0  2.802260     37.85   \n",
            "3  5.6431      52.0  5.817352   1.073059       558.0  2.547945     37.85   \n",
            "4  3.8462      52.0  6.281853   1.081081       565.0  2.181467     37.85   \n",
            "\n",
            "   Longitude  target  \n",
            "0    -122.23   4.526  \n",
            "1    -122.22   3.585  \n",
            "2    -122.24   3.521  \n",
            "3    -122.25   3.413  \n",
            "4    -122.25   3.422  \n"
          ]
        }
      ]
    },
    {
      "cell_type": "markdown",
      "source": [
        "## Cross Validation\n",
        "Now, we'll perform cross-validation using different techniques and compare the results."
      ],
      "metadata": {
        "id": "_sMzORSYvg9k"
      }
    },
    {
      "cell_type": "code",
      "source": [
        "# Create a list to store the mean squared errors for different cross-validation techniques\n",
        "mse_scores = []\n",
        "\n",
        "# List of cross-validation techniques to be used\n",
        "cv_methods = ['3-fold', '5-fold', '10-fold', 'Leave-One-Out']\n",
        "\n",
        "for cv_method in cv_methods:\n",
        "    if cv_method == '3-fold':\n",
        "        cv = KFold(n_splits=3, shuffle=True, random_state=0)\n",
        "    elif cv_method == '5-fold':\n",
        "        cv = KFold(n_splits=5, shuffle=True, random_state=0)\n",
        "    elif cv_method == '10-fold':\n",
        "        cv = KFold(n_splits=10, shuffle=True, random_state=0)\n",
        "    else:\n",
        "        cv = LeaveOneOut()\n",
        "\n",
        "    # Create and fit the linear regression model using cross-validation\n",
        "    model = LinearRegression()\n",
        "    mse_scores_cv = []\n",
        "\n",
        "    for train_idx, test_idx in cv.split(X):\n",
        "        X_train, X_test = X[train_idx], X[test_idx]\n",
        "        y_train, y_test = y[train_idx], y[test_idx]\n",
        "\n",
        "        model.fit(X_train, y_train)\n",
        "        y_pred = model.predict(X_test)\n",
        "\n",
        "        mse = mean_squared_error(y_test, y_pred)\n",
        "        mse_scores_cv.append(mse)\n",
        "\n",
        "    mse_scores.append(np.mean(mse_scores_cv))\n",
        "\n",
        "# Display the mean squared errors for different cross-validation techniques\n",
        "for i, cv_method in enumerate(cv_methods):\n",
        "    print(f\"{cv_method} Cross-Validation - Mean Squared Error: {mse_scores[i]:.4f}\")"
      ],
      "metadata": {
        "colab": {
          "base_uri": "https://localhost:8080/"
        },
        "id": "MHvIeDPsviXy",
        "outputId": "7969398a-38d1-4e27-a6c1-4d00fbd7b41c"
      },
      "execution_count": 7,
      "outputs": [
        {
          "output_type": "stream",
          "name": "stdout",
          "text": [
            "3-fold Cross-Validation - Mean Squared Error: 0.5264\n",
            "5-fold Cross-Validation - Mean Squared Error: 0.5277\n",
            "10-fold Cross-Validation - Mean Squared Error: 0.5279\n",
            "Leave-One-Out Cross-Validation - Mean Squared Error: 0.5282\n"
          ]
        }
      ]
    },
    {
      "cell_type": "markdown",
      "source": [
        "## Visualization\n",
        "We can visualize the mean squared errors for different cross-validation techniques using a bar plot."
      ],
      "metadata": {
        "id": "yYKSnGI9v3t0"
      }
    },
    {
      "cell_type": "code",
      "source": [
        "# Plotting mean squared errors for different cross-validation techniques\n",
        "plt.figure(figsize=(8, 6))\n",
        "plt.bar(cv_methods, mse_scores)\n",
        "plt.xlabel(\"Cross-Validation Method\")\n",
        "plt.ylabel(\"Mean Squared Error\")\n",
        "plt.title(\"Mean Squared Error for Different Cross-Validation Techniques\")\n",
        "plt.show()"
      ],
      "metadata": {
        "colab": {
          "base_uri": "https://localhost:8080/",
          "height": 564
        },
        "id": "jmjOBOxRv9lw",
        "outputId": "2824a705-1684-4b0e-bde7-214d89a19aa8"
      },
      "execution_count": 8,
      "outputs": [
        {
          "output_type": "display_data",
          "data": {
            "text/plain": [
              "<Figure size 800x600 with 1 Axes>"
            ],
            "image/png": "[encoded data removed]"
          },
          "metadata": {}
        }
      ]
    }
  ]
}