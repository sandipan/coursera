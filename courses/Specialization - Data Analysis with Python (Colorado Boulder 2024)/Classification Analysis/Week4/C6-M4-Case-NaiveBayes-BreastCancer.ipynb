{
  "nbformat": 4,
  "nbformat_minor": 0,
  "metadata": {
    "colab": {
      "provenance": []
    },
    "kernelspec": {
      "name": "python3",
      "display_name": "Python 3"
    },
    "language_info": {
      "name": "python"
    }
  },
  "cells": [
    {
      "cell_type": "markdown",
      "source": [
        "# Case Study - Breast Cancer\n",
        "Let's prepare a step-by-step tutorial for the Naive Bayes algorithm using the Breast Cancer dataset. We'll demonstrate how the Naive Bayes algorithm works for classification."
      ],
      "metadata": {
        "id": "r_rueagwtaB0"
      }
    },
    {
      "cell_type": "markdown",
      "source": [
        "## Setup"
      ],
      "metadata": {
        "id": "RQibNnqutiRf"
      }
    },
    {
      "cell_type": "code",
      "execution_count": 1,
      "metadata": {
        "id": "zI48RCkYtV56"
      },
      "outputs": [],
      "source": [
        "import numpy as np\n",
        "import pandas as pd\n",
        "import matplotlib.pyplot as plt\n",
        "from sklearn.datasets import load_breast_cancer\n",
        "from sklearn.model_selection import train_test_split\n",
        "from sklearn.naive_bayes import GaussianNB\n",
        "from sklearn.metrics import accuracy_score\n",
        "\n",
        "# Load the Breast Cancer dataset\n",
        "data = load_breast_cancer()\n",
        "X = pd.DataFrame(data.data, columns=data.feature_names)\n",
        "y = pd.Series(data.target)\n",
        "\n",
        "# Split the dataset into training and testing sets (80% train, 20% test)\n",
        "X_train, X_test, y_train, y_test = train_test_split(X, y, test_size=0.2, random_state=42)"
      ]
    },
    {
      "cell_type": "markdown",
      "source": [
        "## Create and train the Naive Bayes model"
      ],
      "metadata": {
        "id": "rrseIDBatnAo"
      }
    },
    {
      "cell_type": "code",
      "source": [
        "# Create the Naive Bayes model\n",
        "nb_model = GaussianNB()\n",
        "\n",
        "# Train the model\n",
        "nb_model.fit(X_train, y_train)\n",
        "\n",
        "# Make predictions on the test set\n",
        "y_pred = nb_model.predict(X_test)\n",
        "\n",
        "# Calculate the accuracy of the model\n",
        "accuracy = accuracy_score(y_test, y_pred)"
      ],
      "metadata": {
        "id": "CHj8bTnxtq4g"
      },
      "execution_count": 2,
      "outputs": []
    },
    {
      "cell_type": "markdown",
      "source": [
        "## Print the results of the classification."
      ],
      "metadata": {
        "id": "4_UJsQE3ttZb"
      }
    },
    {
      "cell_type": "code",
      "source": [
        "# Print the accuracy of the Naive Bayes model\n",
        "print(\"Accuracy of Naive Bayes model:\", accuracy)"
      ],
      "metadata": {
        "colab": {
          "base_uri": "https://localhost:8080/"
        },
        "id": "6k5SxwJKtui4",
        "outputId": "e2705bed-a707-403b-857e-8f232f9a70e3"
      },
      "execution_count": 3,
      "outputs": [
        {
          "output_type": "stream",
          "name": "stdout",
          "text": [
            "Accuracy of Naive Bayes model: 0.9736842105263158\n"
          ]
        }
      ]
    },
    {
      "cell_type": "markdown",
      "source": [
        "## Conclusion\n",
        "This tutorial covers the Naive Bayes algorithm using the Breast Cancer dataset. It demonstrates how to create and train the Naive Bayes model for classification and prints the accuracy of the model on the test set.\n",
        "\n",
        "Naive Bayes is a simple yet powerful algorithm for classification tasks, especially when dealing with text or categorical data."
      ],
      "metadata": {
        "id": "1N2jGemBt1Pu"
      }
    }
  ]
}