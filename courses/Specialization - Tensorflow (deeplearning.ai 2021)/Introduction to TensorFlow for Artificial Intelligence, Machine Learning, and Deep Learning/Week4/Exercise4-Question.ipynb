{
 "cells": [
  {
   "cell_type": "markdown",
   "metadata": {
    "colab_type": "text",
    "id": "UncprnB0ymAE"
   },
   "source": [
    "Below is code with a link to a happy or sad dataset which contains 80 images, 40 happy and 40 sad. \n",
    "Create a convolutional neural network that trains to 100% accuracy on these images,  which cancels training upon hitting training accuracy of >.999\n",
    "\n",
    "Hint -- it will work best with 3 convolutional layers."
   ]
  },
  {
   "cell_type": "code",
   "execution_count": 4,
   "metadata": {},
   "outputs": [],
   "source": [
    "import tensorflow as tf\n",
    "import os\n",
    "import zipfile\n",
    "from os import path, getcwd, chdir\n",
    "\n",
    "# DO NOT CHANGE THE LINE BELOW. If you are developing in a local\n",
    "# environment, then grab happy-or-sad.zip from the Coursera Jupyter Notebook\n",
    "# and place it inside a local folder and edit the path to that location\n",
    "path = f\"{getcwd()}/../tmp2/happy-or-sad.zip\"\n",
    "\n",
    "zip_ref = zipfile.ZipFile(path, 'r')\n",
    "zip_ref.extractall(\"/tmp/h-or-s\")\n",
    "zip_ref.close()"
   ]
  },
  {
   "cell_type": "code",
   "execution_count": 11,
   "metadata": {},
   "outputs": [],
   "source": [
    "# GRADED FUNCTION: train_happy_sad_model\n",
    "def train_happy_sad_model():\n",
    "    # Please write your code only where you are indicated.\n",
    "    # please do not remove # model fitting inline comments.\n",
    "\n",
    "    DESIRED_ACCURACY = 0.999\n",
    "\n",
    "    class myCallback(tf.keras.callbacks.Callback):\n",
    "        # Your Code\n",
    "        def on_epoch_end(self, epoch, logs={}):\n",
    "            if logs.get('loss') < 0.4:\n",
    "                print('Loss is low, cancelling training!')\n",
    "                self.model.stop_training = True\n",
    "\n",
    "    callbacks = myCallback()\n",
    "    \n",
    "    # This Code Block should Define and Compile the Model. Please assume the images are 150 X 150 in your implementation.\n",
    "    model = tf.keras.models.Sequential([\n",
    "        # Your Code Here\n",
    "        tf.keras.layers.Conv2D(16, (3,3), activation='relu', input_shape=(150, 150, 3)),\n",
    "        tf.keras.layers.MaxPooling2D(2, 2),\n",
    "        # The second convolution\n",
    "        tf.keras.layers.Conv2D(32, (3,3), activation='relu'),\n",
    "        tf.keras.layers.MaxPooling2D(2,2),\n",
    "        # The third convolution\n",
    "        tf.keras.layers.Conv2D(64, (3,3), activation='relu'),\n",
    "        tf.keras.layers.MaxPooling2D(2,2),\n",
    "        # Flatten the results to feed into a DNN\n",
    "        tf.keras.layers.Flatten(),\n",
    "        # 512 neuron hidden layer\n",
    "        tf.keras.layers.Dense(512, activation='relu'),\n",
    "        # Only 1 output neuron. It will contain a value from 0-1 where 0 for 1 class ('horses') and 1 for the other ('humans')\n",
    "        tf.keras.layers.Dense(1, activation='sigmoid')\n",
    "    ])\n",
    "\n",
    "    from tensorflow.keras.optimizers import RMSprop\n",
    "\n",
    "    model.compile(loss='binary_crossentropy',\n",
    "              optimizer=RMSprop(lr=0.001),\n",
    "              metrics=['accuracy']) # Your Code Here #)\n",
    "        \n",
    "\n",
    "    # This code block should create an instance of an ImageDataGenerator called train_datagen \n",
    "    # And a train_generator by calling train_datagen.flow_from_directory\n",
    "\n",
    "    from tensorflow.keras.preprocessing.image import ImageDataGenerator\n",
    "\n",
    "    train_datagen = ImageDataGenerator(rescale=1/255) # Your Code Here\n",
    "\n",
    "    # Please use a target_size of 150 X 150.\n",
    "    train_generator = train_datagen.flow_from_directory(\n",
    "        '/tmp/h-or-s/',  # This is the source directory for training images\n",
    "        target_size=(150, 150),  # All images will be resized to 150x150\n",
    "        batch_size=32,\n",
    "        # Since we use binary_crossentropy loss, we need binary labels\n",
    "        class_mode='binary'\n",
    "        # Your Code Here\n",
    "    )\n",
    "    # Expected output: 'Found 80 images belonging to 2 classes'\n",
    "\n",
    "    # This code block should call model.fit_generator and train for\n",
    "    # a number of epochs.\n",
    "    # model fitting\n",
    "    history = model.fit_generator(\n",
    "          train_generator, epochs=20\n",
    "          # Your Code Here\n",
    "    )\n",
    "    # model fitting\n",
    "    return history.history['acc'][-1]"
   ]
  },
  {
   "cell_type": "code",
   "execution_count": 12,
   "metadata": {},
   "outputs": [
    {
     "name": "stdout",
     "output_type": "stream",
     "text": [
      "Found 80 images belonging to 2 classes.\n",
      "Epoch 1/20\n",
      "3/3 [==============================] - 2s 597ms/step - loss: 4.0031 - acc: 0.4750\n",
      "Epoch 2/20\n",
      "3/3 [==============================] - 0s 74ms/step - loss: 0.6991 - acc: 0.5000\n",
      "Epoch 3/20\n",
      "3/3 [==============================] - 0s 103ms/step - loss: 0.7076 - acc: 0.4250\n",
      "Epoch 4/20\n",
      "3/3 [==============================] - 0s 95ms/step - loss: 0.5237 - acc: 0.8875\n",
      "Epoch 5/20\n",
      "3/3 [==============================] - 0s 104ms/step - loss: 0.3365 - acc: 0.9750\n",
      "Epoch 6/20\n",
      "3/3 [==============================] - 0s 100ms/step - loss: 0.4137 - acc: 0.8375\n",
      "Epoch 7/20\n",
      "3/3 [==============================] - 0s 95ms/step - loss: 0.1934 - acc: 0.9500\n",
      "Epoch 8/20\n",
      "3/3 [==============================] - 0s 99ms/step - loss: 0.1217 - acc: 0.9625\n",
      "Epoch 9/20\n",
      "3/3 [==============================] - 0s 104ms/step - loss: 0.1406 - acc: 0.8875\n",
      "Epoch 10/20\n",
      "3/3 [==============================] - 0s 94ms/step - loss: 0.1576 - acc: 0.9500\n",
      "Epoch 11/20\n",
      "3/3 [==============================] - 0s 100ms/step - loss: 0.0484 - acc: 0.9875\n",
      "Epoch 12/20\n",
      "3/3 [==============================] - 0s 101ms/step - loss: 0.0896 - acc: 0.9750\n",
      "Epoch 13/20\n",
      "3/3 [==============================] - 0s 100ms/step - loss: 0.0217 - acc: 1.0000\n",
      "Epoch 14/20\n",
      "3/3 [==============================] - 0s 99ms/step - loss: 0.0151 - acc: 1.0000\n",
      "Epoch 15/20\n",
      "3/3 [==============================] - 0s 96ms/step - loss: 0.0171 - acc: 1.0000\n",
      "Epoch 16/20\n",
      "3/3 [==============================] - 0s 102ms/step - loss: 0.0085 - acc: 1.0000\n",
      "Epoch 17/20\n",
      "3/3 [==============================] - 0s 102ms/step - loss: 0.0064 - acc: 1.0000\n",
      "Epoch 18/20\n",
      "3/3 [==============================] - 0s 97ms/step - loss: 0.0057 - acc: 1.0000\n",
      "Epoch 19/20\n",
      "3/3 [==============================] - 0s 98ms/step - loss: 0.0064 - acc: 1.0000\n",
      "Epoch 20/20\n",
      "3/3 [==============================] - 0s 105ms/step - loss: 0.0043 - acc: 1.0000\n"
     ]
    },
    {
     "data": {
      "text/plain": [
       "1.0"
      ]
     },
     "execution_count": 12,
     "metadata": {},
     "output_type": "execute_result"
    }
   ],
   "source": [
    "# The Expected output: \"Reached 99.9% accuracy so cancelling training!\"\"\n",
    "train_happy_sad_model()"
   ]
  },
  {
   "cell_type": "code",
   "execution_count": 4,
   "metadata": {},
   "outputs": [],
   "source": [
    "# Now click the 'Submit Assignment' button above.\n",
    "# Once that is complete, please run the following two cells to save your work and close the notebook"
   ]
  },
  {
   "cell_type": "code",
   "execution_count": null,
   "metadata": {},
   "outputs": [],
   "source": [
    "%%javascript\n",
    "<!-- Save the notebook -->\n",
    "IPython.notebook.save_checkpoint();"
   ]
  },
  {
   "cell_type": "code",
   "execution_count": null,
   "metadata": {},
   "outputs": [],
   "source": [
    "%%javascript\n",
    "IPython.notebook.session.delete();\n",
    "window.onbeforeunload = null\n",
    "setTimeout(function() { window.close(); }, 1000);"
   ]
  }
 ],
 "metadata": {
  "coursera": {
   "course_slug": "introduction-tensorflow",
   "graded_item_id": "1kAlw",
   "launcher_item_id": "PNLYD"
  },
  "kernelspec": {
   "display_name": "Python 3",
   "language": "python",
   "name": "python3"
  },
  "language_info": {
   "codemirror_mode": {
    "name": "ipython",
    "version": 3
   },
   "file_extension": ".py",
   "mimetype": "text/x-python",
   "name": "python",
   "nbconvert_exporter": "python",
   "pygments_lexer": "ipython3",
   "version": "3.6.8"
  }
 },
 "nbformat": 4,
 "nbformat_minor": 1
}
