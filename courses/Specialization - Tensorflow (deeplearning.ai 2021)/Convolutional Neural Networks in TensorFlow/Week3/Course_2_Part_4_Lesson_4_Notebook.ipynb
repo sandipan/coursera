{
  "nbformat": 4,
  "nbformat_minor": 0,
  "metadata": {
    "accelerator": "GPU",
    "colab": {
      "name": "Course 2 - Part 4 - Lesson 4 - Notebook.ipynb",
      "provenance": [],
      "collapsed_sections": [],
      "toc_visible": true
    },
    "kernelspec": {
      "display_name": "Python 3",
      "name": "python3"
    }
  },
  "cells": [
    {
      "cell_type": "markdown",
      "metadata": {
        "id": "rX8mhOLljYeM"
      },
      "source": [
        "##### Copyright 2019 The TensorFlow Authors."
      ]
    },
    {
      "cell_type": "code",
      "metadata": {
        "cellView": "form",
        "id": "BZSlp3DAjdYf"
      },
      "source": [
        "#@title Licensed under the Apache License, Version 2.0 (the \"License\");\n",
        "# you may not use this file except in compliance with the License.\n",
        "# You may obtain a copy of the License at\n",
        "#\n",
        "# https://www.apache.org/licenses/LICENSE-2.0\n",
        "#\n",
        "# Unless required by applicable law or agreed to in writing, software\n",
        "# distributed under the License is distributed on an \"AS IS\" BASIS,\n",
        "# WITHOUT WARRANTIES OR CONDITIONS OF ANY KIND, either express or implied.\n",
        "# See the License for the specific language governing permissions and\n",
        "# limitations under the License."
      ],
      "execution_count": null,
      "outputs": []
    },
    {
      "cell_type": "code",
      "metadata": {
        "colab": {
          "base_uri": "https://localhost:8080/"
        },
        "id": "RXZT2UsyIVe_",
        "outputId": "8dbf286e-c652-4477-dca3-d78d3501f42c"
      },
      "source": [
        "!wget --no-check-certificate \\\n",
        "    https://storage.googleapis.com/laurencemoroney-blog.appspot.com/horse-or-human.zip \\\n",
        "    -O /tmp/horse-or-human.zip\n",
        "\n",
        "!wget --no-check-certificate \\\n",
        "    https://storage.googleapis.com/laurencemoroney-blog.appspot.com/validation-horse-or-human.zip \\\n",
        "    -O /tmp/validation-horse-or-human.zip\n",
        "  \n",
        "import os\n",
        "import zipfile\n",
        "\n",
        "local_zip = '/tmp/horse-or-human.zip'\n",
        "zip_ref = zipfile.ZipFile(local_zip, 'r')\n",
        "zip_ref.extractall('/tmp/horse-or-human')\n",
        "local_zip = '/tmp/validation-horse-or-human.zip'\n",
        "zip_ref = zipfile.ZipFile(local_zip, 'r')\n",
        "zip_ref.extractall('/tmp/validation-horse-or-human')\n",
        "zip_ref.close()\n",
        "# Directory with our training horse pictures\n",
        "train_horse_dir = os.path.join('/tmp/horse-or-human/horses')\n",
        "\n",
        "# Directory with our training human pictures\n",
        "train_human_dir = os.path.join('/tmp/horse-or-human/humans')\n",
        "\n",
        "# Directory with our training horse pictures\n",
        "validation_horse_dir = os.path.join('/tmp/validation-horse-or-human/horses')\n",
        "\n",
        "# Directory with our training human pictures\n",
        "validation_human_dir = os.path.join('/tmp/validation-horse-or-human/humans')"
      ],
      "execution_count": 1,
      "outputs": [
        {
          "output_type": "stream",
          "text": [
            "--2021-05-19 17:17:10--  https://storage.googleapis.com/laurencemoroney-blog.appspot.com/horse-or-human.zip\n",
            "Resolving storage.googleapis.com (storage.googleapis.com)... 74.125.133.128, 74.125.140.128, 108.177.15.128, ...\n",
            "Connecting to storage.googleapis.com (storage.googleapis.com)|74.125.133.128|:443... connected.\n",
            "HTTP request sent, awaiting response... 200 OK\n",
            "Length: 149574867 (143M) [application/zip]\n",
            "Saving to: ‘/tmp/horse-or-human.zip’\n",
            "\n",
            "/tmp/horse-or-human 100%[===================>] 142.65M  21.3MB/s    in 6.7s    \n",
            "\n",
            "2021-05-19 17:17:17 (21.3 MB/s) - ‘/tmp/horse-or-human.zip’ saved [149574867/149574867]\n",
            "\n",
            "--2021-05-19 17:17:17--  https://storage.googleapis.com/laurencemoroney-blog.appspot.com/validation-horse-or-human.zip\n",
            "Resolving storage.googleapis.com (storage.googleapis.com)... 74.125.71.128, 74.125.133.128, 74.125.140.128, ...\n",
            "Connecting to storage.googleapis.com (storage.googleapis.com)|74.125.71.128|:443... connected.\n",
            "HTTP request sent, awaiting response... 200 OK\n",
            "Length: 11480187 (11M) [application/zip]\n",
            "Saving to: ‘/tmp/validation-horse-or-human.zip’\n",
            "\n",
            "/tmp/validation-hor 100%[===================>]  10.95M  21.2MB/s    in 0.5s    \n",
            "\n",
            "2021-05-19 17:17:18 (21.2 MB/s) - ‘/tmp/validation-horse-or-human.zip’ saved [11480187/11480187]\n",
            "\n"
          ],
          "name": "stdout"
        }
      ]
    },
    {
      "cell_type": "markdown",
      "metadata": {
        "id": "5oqBkNBJmtUv"
      },
      "source": [
        "## Building a Small Model from Scratch\n",
        "\n",
        "But before we continue, let's start defining the model:\n",
        "\n",
        "Step 1 will be to import tensorflow."
      ]
    },
    {
      "cell_type": "code",
      "metadata": {
        "id": "qvfZg3LQbD-5"
      },
      "source": [
        "import tensorflow as tf"
      ],
      "execution_count": 2,
      "outputs": []
    },
    {
      "cell_type": "markdown",
      "metadata": {
        "id": "BnhYCP4tdqjC"
      },
      "source": [
        "We then add convolutional layers as in the previous example, and flatten the final result to feed into the densely connected layers."
      ]
    },
    {
      "cell_type": "markdown",
      "metadata": {
        "id": "gokG5HKpdtzm"
      },
      "source": [
        "Finally we add the densely connected layers. \n",
        "\n",
        "Note that because we are facing a two-class classification problem, i.e. a *binary classification problem*, we will end our network with a [*sigmoid* activation](https://wikipedia.org/wiki/Sigmoid_function), so that the output of our network will be a single scalar between 0 and 1, encoding the probability that the current image is class 1 (as opposed to class 0)."
      ]
    },
    {
      "cell_type": "code",
      "metadata": {
        "id": "PixZ2s5QbYQ3"
      },
      "source": [
        "model = tf.keras.models.Sequential([\n",
        "    # Note the input shape is the desired size of the image 300x300 with 3 bytes color\n",
        "    # This is the first convolution\n",
        "    tf.keras.layers.Conv2D(16, (3,3), activation='relu', input_shape=(300, 300, 3)),\n",
        "    tf.keras.layers.MaxPooling2D(2, 2),\n",
        "    # The second convolution\n",
        "    tf.keras.layers.Conv2D(32, (3,3), activation='relu'),\n",
        "    tf.keras.layers.MaxPooling2D(2,2),\n",
        "    # The third convolution\n",
        "    tf.keras.layers.Conv2D(64, (3,3), activation='relu'),\n",
        "    tf.keras.layers.MaxPooling2D(2,2),\n",
        "    # The fourth convolution\n",
        "    tf.keras.layers.Conv2D(64, (3,3), activation='relu'),\n",
        "    tf.keras.layers.MaxPooling2D(2,2),\n",
        "    # The fifth convolution\n",
        "    tf.keras.layers.Conv2D(64, (3,3), activation='relu'),\n",
        "    tf.keras.layers.MaxPooling2D(2,2),\n",
        "    # Flatten the results to feed into a DNN\n",
        "    tf.keras.layers.Flatten(),\n",
        "    # 512 neuron hidden layer\n",
        "    tf.keras.layers.Dense(512, activation='relu'),\n",
        "    # Only 1 output neuron. It will contain a value from 0-1 where 0 for 1 class ('horses') and 1 for the other ('humans')\n",
        "    tf.keras.layers.Dense(1, activation='sigmoid')\n",
        "])"
      ],
      "execution_count": 3,
      "outputs": []
    },
    {
      "cell_type": "code",
      "metadata": {
        "id": "8DHWhFP_uhq3"
      },
      "source": [
        "from tensorflow.keras.optimizers import RMSprop\n",
        "\n",
        "model.compile(loss='binary_crossentropy',\n",
        "              optimizer=RMSprop(lr=1e-4),\n",
        "              metrics=['accuracy'])"
      ],
      "execution_count": 4,
      "outputs": []
    },
    {
      "cell_type": "code",
      "metadata": {
        "colab": {
          "base_uri": "https://localhost:8080/"
        },
        "id": "ClebU9NJg99G",
        "outputId": "06326079-062b-4b77-934e-ba1d99542fe7"
      },
      "source": [
        "from tensorflow.keras.preprocessing.image import ImageDataGenerator\n",
        "\n",
        "# All images will be rescaled by 1./255\n",
        "train_datagen = ImageDataGenerator(\n",
        "      rescale=1./255,\n",
        "      rotation_range=40,\n",
        "      width_shift_range=0.2,\n",
        "      height_shift_range=0.2,\n",
        "      shear_range=0.2,\n",
        "      zoom_range=0.2,\n",
        "      horizontal_flip=True,\n",
        "      fill_mode='nearest')\n",
        "\n",
        "validation_datagen = ImageDataGenerator(rescale=1/255)\n",
        "\n",
        "# Flow training images in batches of 128 using train_datagen generator\n",
        "train_generator = train_datagen.flow_from_directory(\n",
        "        '/tmp/horse-or-human/',  # This is the source directory for training images\n",
        "        target_size=(300, 300),  # All images will be resized to 150x150\n",
        "        batch_size=128,\n",
        "        # Since we use binary_crossentropy loss, we need binary labels\n",
        "        class_mode='binary')\n",
        "\n",
        "# Flow training images in batches of 128 using train_datagen generator\n",
        "validation_generator = validation_datagen.flow_from_directory(\n",
        "        '/tmp/validation-horse-or-human/',  # This is the source directory for training images\n",
        "        target_size=(300, 300),  # All images will be resized to 150x150\n",
        "        batch_size=32,\n",
        "        # Since we use binary_crossentropy loss, we need binary labels\n",
        "        class_mode='binary')"
      ],
      "execution_count": 5,
      "outputs": [
        {
          "output_type": "stream",
          "text": [
            "Found 1027 images belonging to 2 classes.\n",
            "Found 256 images belonging to 2 classes.\n"
          ],
          "name": "stdout"
        }
      ]
    },
    {
      "cell_type": "code",
      "metadata": {
        "colab": {
          "base_uri": "https://localhost:8080/"
        },
        "id": "Fb1_lgobv81m",
        "outputId": "07dc1b61-c24a-433e-fe58-dbd3a3349dec"
      },
      "source": [
        "history = model.fit(\n",
        "      train_generator,\n",
        "      steps_per_epoch=8,  \n",
        "      epochs=100,\n",
        "      verbose=1,\n",
        "      validation_data = validation_generator,\n",
        "      validation_steps=8)"
      ],
      "execution_count": 6,
      "outputs": [
        {
          "output_type": "stream",
          "text": [
            "Epoch 1/100\n",
            "8/8 [==============================] - 55s 3s/step - loss: 0.6958 - accuracy: 0.5013 - val_loss: 0.6770 - val_accuracy: 0.5000\n",
            "Epoch 2/100\n",
            "8/8 [==============================] - 24s 3s/step - loss: 0.6780 - accuracy: 0.6004 - val_loss: 0.6941 - val_accuracy: 0.5000\n",
            "Epoch 3/100\n",
            "8/8 [==============================] - 24s 3s/step - loss: 0.6624 - accuracy: 0.6256 - val_loss: 0.6582 - val_accuracy: 0.5039\n",
            "Epoch 4/100\n",
            "8/8 [==============================] - 24s 3s/step - loss: 0.6295 - accuracy: 0.6425 - val_loss: 0.5853 - val_accuracy: 0.8398\n",
            "Epoch 5/100\n",
            "8/8 [==============================] - 24s 3s/step - loss: 0.6258 - accuracy: 0.6639 - val_loss: 0.7777 - val_accuracy: 0.5000\n",
            "Epoch 6/100\n",
            "8/8 [==============================] - 24s 3s/step - loss: 0.6090 - accuracy: 0.6752 - val_loss: 0.6024 - val_accuracy: 0.6094\n",
            "Epoch 7/100\n",
            "8/8 [==============================] - 24s 3s/step - loss: 0.5749 - accuracy: 0.7148 - val_loss: 0.6722 - val_accuracy: 0.5391\n",
            "Epoch 8/100\n",
            "8/8 [==============================] - 24s 3s/step - loss: 0.5499 - accuracy: 0.7294 - val_loss: 0.6877 - val_accuracy: 0.5312\n",
            "Epoch 9/100\n",
            "8/8 [==============================] - 24s 3s/step - loss: 0.5684 - accuracy: 0.7094 - val_loss: 0.6383 - val_accuracy: 0.5664\n",
            "Epoch 10/100\n",
            "8/8 [==============================] - 25s 3s/step - loss: 0.5427 - accuracy: 0.7426 - val_loss: 0.5555 - val_accuracy: 0.6680\n",
            "Epoch 11/100\n",
            "8/8 [==============================] - 24s 3s/step - loss: 0.5519 - accuracy: 0.7241 - val_loss: 0.6625 - val_accuracy: 0.5625\n",
            "Epoch 12/100\n",
            "8/8 [==============================] - 25s 3s/step - loss: 0.4931 - accuracy: 0.7736 - val_loss: 0.7202 - val_accuracy: 0.5547\n",
            "Epoch 13/100\n",
            "8/8 [==============================] - 25s 3s/step - loss: 0.4909 - accuracy: 0.7833 - val_loss: 0.5428 - val_accuracy: 0.6836\n",
            "Epoch 14/100\n",
            "8/8 [==============================] - 25s 3s/step - loss: 0.5046 - accuracy: 0.7738 - val_loss: 0.8261 - val_accuracy: 0.5391\n",
            "Epoch 15/100\n",
            "8/8 [==============================] - 25s 3s/step - loss: 0.4658 - accuracy: 0.7760 - val_loss: 0.7651 - val_accuracy: 0.5664\n",
            "Epoch 16/100\n",
            "8/8 [==============================] - 25s 3s/step - loss: 0.4732 - accuracy: 0.7635 - val_loss: 1.1996 - val_accuracy: 0.5078\n",
            "Epoch 17/100\n",
            "8/8 [==============================] - 27s 3s/step - loss: 0.4740 - accuracy: 0.7681 - val_loss: 0.6037 - val_accuracy: 0.6523\n",
            "Epoch 18/100\n",
            "8/8 [==============================] - 25s 3s/step - loss: 0.4729 - accuracy: 0.7754 - val_loss: 1.1729 - val_accuracy: 0.5156\n",
            "Epoch 19/100\n",
            "8/8 [==============================] - 25s 3s/step - loss: 0.4678 - accuracy: 0.7987 - val_loss: 0.9776 - val_accuracy: 0.5391\n",
            "Epoch 20/100\n",
            "8/8 [==============================] - 25s 4s/step - loss: 0.4843 - accuracy: 0.7540 - val_loss: 1.1766 - val_accuracy: 0.5156\n",
            "Epoch 21/100\n",
            "8/8 [==============================] - 24s 3s/step - loss: 0.4777 - accuracy: 0.7584 - val_loss: 1.2771 - val_accuracy: 0.5195\n",
            "Epoch 22/100\n",
            "8/8 [==============================] - 25s 4s/step - loss: 0.4671 - accuracy: 0.7732 - val_loss: 1.1173 - val_accuracy: 0.5469\n",
            "Epoch 23/100\n",
            "8/8 [==============================] - 25s 3s/step - loss: 0.4130 - accuracy: 0.8072 - val_loss: 1.0846 - val_accuracy: 0.5664\n",
            "Epoch 24/100\n",
            "8/8 [==============================] - 25s 3s/step - loss: 0.5209 - accuracy: 0.7542 - val_loss: 1.5355 - val_accuracy: 0.5156\n",
            "Epoch 25/100\n",
            "8/8 [==============================] - 25s 3s/step - loss: 0.3988 - accuracy: 0.8424 - val_loss: 1.0401 - val_accuracy: 0.5781\n",
            "Epoch 26/100\n",
            "8/8 [==============================] - 25s 3s/step - loss: 0.4590 - accuracy: 0.7965 - val_loss: 1.4266 - val_accuracy: 0.5195\n",
            "Epoch 27/100\n",
            "8/8 [==============================] - 25s 3s/step - loss: 0.3615 - accuracy: 0.8465 - val_loss: 1.4190 - val_accuracy: 0.5469\n",
            "Epoch 28/100\n",
            "8/8 [==============================] - 25s 3s/step - loss: 0.4012 - accuracy: 0.8097 - val_loss: 1.3585 - val_accuracy: 0.5508\n",
            "Epoch 29/100\n",
            "8/8 [==============================] - 25s 3s/step - loss: 0.3392 - accuracy: 0.8537 - val_loss: 1.2645 - val_accuracy: 0.5703\n",
            "Epoch 30/100\n",
            "8/8 [==============================] - 25s 3s/step - loss: 0.4258 - accuracy: 0.7950 - val_loss: 1.6216 - val_accuracy: 0.5195\n",
            "Epoch 31/100\n",
            "8/8 [==============================] - 24s 3s/step - loss: 0.3415 - accuracy: 0.8440 - val_loss: 2.5374 - val_accuracy: 0.5000\n",
            "Epoch 32/100\n",
            "8/8 [==============================] - 25s 3s/step - loss: 0.4365 - accuracy: 0.7969 - val_loss: 1.0336 - val_accuracy: 0.6055\n",
            "Epoch 33/100\n",
            "8/8 [==============================] - 25s 3s/step - loss: 0.3870 - accuracy: 0.8302 - val_loss: 1.9703 - val_accuracy: 0.5156\n",
            "Epoch 34/100\n",
            "8/8 [==============================] - 25s 4s/step - loss: 0.3714 - accuracy: 0.8289 - val_loss: 1.4699 - val_accuracy: 0.5703\n",
            "Epoch 35/100\n",
            "8/8 [==============================] - 25s 3s/step - loss: 0.3852 - accuracy: 0.8099 - val_loss: 2.0695 - val_accuracy: 0.5156\n",
            "Epoch 36/100\n",
            "8/8 [==============================] - 25s 3s/step - loss: 0.3239 - accuracy: 0.8632 - val_loss: 1.9873 - val_accuracy: 0.5195\n",
            "Epoch 37/100\n",
            "8/8 [==============================] - 25s 3s/step - loss: 0.3232 - accuracy: 0.8632 - val_loss: 1.1910 - val_accuracy: 0.5898\n",
            "Epoch 38/100\n",
            "8/8 [==============================] - 25s 3s/step - loss: 0.3055 - accuracy: 0.8524 - val_loss: 3.0516 - val_accuracy: 0.5000\n",
            "Epoch 39/100\n",
            "8/8 [==============================] - 25s 3s/step - loss: 0.4633 - accuracy: 0.7857 - val_loss: 1.8782 - val_accuracy: 0.5430\n",
            "Epoch 40/100\n",
            "8/8 [==============================] - 25s 3s/step - loss: 0.2677 - accuracy: 0.8850 - val_loss: 2.0453 - val_accuracy: 0.5430\n",
            "Epoch 41/100\n",
            "8/8 [==============================] - 25s 3s/step - loss: 0.3766 - accuracy: 0.8365 - val_loss: 2.0700 - val_accuracy: 0.5352\n",
            "Epoch 42/100\n",
            "8/8 [==============================] - 24s 3s/step - loss: 0.2638 - accuracy: 0.8895 - val_loss: 2.7181 - val_accuracy: 0.5195\n",
            "Epoch 43/100\n",
            "8/8 [==============================] - 25s 3s/step - loss: 0.4618 - accuracy: 0.8051 - val_loss: 2.3903 - val_accuracy: 0.5273\n",
            "Epoch 44/100\n",
            "8/8 [==============================] - 25s 3s/step - loss: 0.2822 - accuracy: 0.8623 - val_loss: 2.6711 - val_accuracy: 0.5117\n",
            "Epoch 45/100\n",
            "8/8 [==============================] - 25s 3s/step - loss: 0.3189 - accuracy: 0.8604 - val_loss: 2.3997 - val_accuracy: 0.5234\n",
            "Epoch 46/100\n",
            "8/8 [==============================] - 27s 3s/step - loss: 0.2616 - accuracy: 0.8962 - val_loss: 2.8509 - val_accuracy: 0.5156\n",
            "Epoch 47/100\n",
            "8/8 [==============================] - 24s 3s/step - loss: 0.3420 - accuracy: 0.8527 - val_loss: 2.1530 - val_accuracy: 0.5430\n",
            "Epoch 48/100\n",
            "8/8 [==============================] - 24s 3s/step - loss: 0.2659 - accuracy: 0.8805 - val_loss: 2.7697 - val_accuracy: 0.5156\n",
            "Epoch 49/100\n",
            "8/8 [==============================] - 27s 3s/step - loss: 0.3004 - accuracy: 0.8674 - val_loss: 2.4250 - val_accuracy: 0.5312\n",
            "Epoch 50/100\n",
            "8/8 [==============================] - 24s 3s/step - loss: 0.2812 - accuracy: 0.8791 - val_loss: 2.3950 - val_accuracy: 0.5469\n",
            "Epoch 51/100\n",
            "8/8 [==============================] - 25s 3s/step - loss: 0.3108 - accuracy: 0.8587 - val_loss: 2.8975 - val_accuracy: 0.5195\n",
            "Epoch 52/100\n",
            "8/8 [==============================] - 27s 3s/step - loss: 0.2679 - accuracy: 0.8831 - val_loss: 3.3116 - val_accuracy: 0.5117\n",
            "Epoch 53/100\n",
            "8/8 [==============================] - 24s 3s/step - loss: 0.3154 - accuracy: 0.8807 - val_loss: 2.4003 - val_accuracy: 0.5469\n",
            "Epoch 54/100\n",
            "8/8 [==============================] - 24s 3s/step - loss: 0.2560 - accuracy: 0.8921 - val_loss: 2.9432 - val_accuracy: 0.5273\n",
            "Epoch 55/100\n",
            "8/8 [==============================] - 24s 3s/step - loss: 0.2677 - accuracy: 0.8891 - val_loss: 2.3737 - val_accuracy: 0.5586\n",
            "Epoch 56/100\n",
            "8/8 [==============================] - 25s 3s/step - loss: 0.3029 - accuracy: 0.8685 - val_loss: 2.7731 - val_accuracy: 0.5312\n",
            "Epoch 57/100\n",
            "8/8 [==============================] - 25s 3s/step - loss: 0.2229 - accuracy: 0.8999 - val_loss: 2.7667 - val_accuracy: 0.5430\n",
            "Epoch 58/100\n",
            "8/8 [==============================] - 25s 3s/step - loss: 0.2583 - accuracy: 0.8886 - val_loss: 2.1902 - val_accuracy: 0.5703\n",
            "Epoch 59/100\n",
            "8/8 [==============================] - 25s 3s/step - loss: 0.2714 - accuracy: 0.8775 - val_loss: 2.3733 - val_accuracy: 0.5547\n",
            "Epoch 60/100\n",
            "8/8 [==============================] - 25s 3s/step - loss: 0.2156 - accuracy: 0.9038 - val_loss: 3.0147 - val_accuracy: 0.5273\n",
            "Epoch 61/100\n",
            "8/8 [==============================] - 24s 3s/step - loss: 0.2118 - accuracy: 0.9034 - val_loss: 2.4034 - val_accuracy: 0.5664\n",
            "Epoch 62/100\n",
            "8/8 [==============================] - 25s 3s/step - loss: 0.2565 - accuracy: 0.8830 - val_loss: 2.3253 - val_accuracy: 0.5820\n",
            "Epoch 63/100\n",
            "8/8 [==============================] - 25s 3s/step - loss: 0.2252 - accuracy: 0.9006 - val_loss: 2.2078 - val_accuracy: 0.5859\n",
            "Epoch 64/100\n",
            "8/8 [==============================] - 25s 3s/step - loss: 0.2559 - accuracy: 0.8865 - val_loss: 2.7740 - val_accuracy: 0.5508\n",
            "Epoch 65/100\n",
            "8/8 [==============================] - 25s 3s/step - loss: 0.1748 - accuracy: 0.9413 - val_loss: 4.2683 - val_accuracy: 0.5039\n",
            "Epoch 66/100\n",
            "8/8 [==============================] - 24s 3s/step - loss: 0.1925 - accuracy: 0.9186 - val_loss: 4.9920 - val_accuracy: 0.5000\n",
            "Epoch 67/100\n",
            "8/8 [==============================] - 27s 3s/step - loss: 0.3174 - accuracy: 0.8657 - val_loss: 3.1915 - val_accuracy: 0.5352\n",
            "Epoch 68/100\n",
            "8/8 [==============================] - 24s 3s/step - loss: 0.1572 - accuracy: 0.9367 - val_loss: 3.5754 - val_accuracy: 0.5195\n",
            "Epoch 69/100\n",
            "8/8 [==============================] - 25s 3s/step - loss: 0.2685 - accuracy: 0.8758 - val_loss: 3.0173 - val_accuracy: 0.5352\n",
            "Epoch 70/100\n",
            "8/8 [==============================] - 24s 3s/step - loss: 0.1918 - accuracy: 0.9245 - val_loss: 4.6194 - val_accuracy: 0.5000\n",
            "Epoch 71/100\n",
            "8/8 [==============================] - 25s 3s/step - loss: 0.2817 - accuracy: 0.8873 - val_loss: 3.7562 - val_accuracy: 0.5156\n",
            "Epoch 72/100\n",
            "8/8 [==============================] - 25s 3s/step - loss: 0.2086 - accuracy: 0.9152 - val_loss: 3.9659 - val_accuracy: 0.5078\n",
            "Epoch 73/100\n",
            "8/8 [==============================] - 27s 3s/step - loss: 0.1812 - accuracy: 0.9338 - val_loss: 3.2838 - val_accuracy: 0.5391\n",
            "Epoch 74/100\n",
            "8/8 [==============================] - 25s 3s/step - loss: 0.2237 - accuracy: 0.8930 - val_loss: 2.8770 - val_accuracy: 0.5625\n",
            "Epoch 75/100\n",
            "8/8 [==============================] - 25s 3s/step - loss: 0.2226 - accuracy: 0.9106 - val_loss: 1.3426 - val_accuracy: 0.6758\n",
            "Epoch 76/100\n",
            "8/8 [==============================] - 25s 3s/step - loss: 0.2799 - accuracy: 0.8731 - val_loss: 3.0506 - val_accuracy: 0.5469\n",
            "Epoch 77/100\n",
            "8/8 [==============================] - 25s 4s/step - loss: 0.1908 - accuracy: 0.9224 - val_loss: 2.2852 - val_accuracy: 0.5820\n",
            "Epoch 78/100\n",
            "8/8 [==============================] - 25s 3s/step - loss: 0.2051 - accuracy: 0.9106 - val_loss: 3.2193 - val_accuracy: 0.5508\n",
            "Epoch 79/100\n",
            "8/8 [==============================] - 25s 3s/step - loss: 0.2814 - accuracy: 0.8911 - val_loss: 2.8132 - val_accuracy: 0.5273\n",
            "Epoch 80/100\n",
            "8/8 [==============================] - 25s 3s/step - loss: 0.1832 - accuracy: 0.9270 - val_loss: 3.2412 - val_accuracy: 0.5312\n",
            "Epoch 81/100\n",
            "8/8 [==============================] - 25s 3s/step - loss: 0.1778 - accuracy: 0.9286 - val_loss: 3.5026 - val_accuracy: 0.5430\n",
            "Epoch 82/100\n",
            "8/8 [==============================] - 25s 3s/step - loss: 0.1729 - accuracy: 0.9253 - val_loss: 3.3032 - val_accuracy: 0.5352\n",
            "Epoch 83/100\n",
            "8/8 [==============================] - 25s 3s/step - loss: 0.1449 - accuracy: 0.9482 - val_loss: 3.6582 - val_accuracy: 0.5430\n",
            "Epoch 84/100\n",
            "8/8 [==============================] - 25s 3s/step - loss: 0.1598 - accuracy: 0.9294 - val_loss: 0.1178 - val_accuracy: 0.9531\n",
            "Epoch 85/100\n",
            "8/8 [==============================] - 25s 3s/step - loss: 1.0784 - accuracy: 0.7614 - val_loss: 3.1380 - val_accuracy: 0.5391\n",
            "Epoch 86/100\n",
            "8/8 [==============================] - 27s 3s/step - loss: 0.1726 - accuracy: 0.9375 - val_loss: 3.4508 - val_accuracy: 0.5352\n",
            "Epoch 87/100\n",
            "8/8 [==============================] - 25s 3s/step - loss: 0.1476 - accuracy: 0.9449 - val_loss: 3.9398 - val_accuracy: 0.5234\n",
            "Epoch 88/100\n",
            "8/8 [==============================] - 28s 4s/step - loss: 0.1513 - accuracy: 0.9501 - val_loss: 3.5051 - val_accuracy: 0.5469\n",
            "Epoch 89/100\n",
            "8/8 [==============================] - 25s 3s/step - loss: 0.1804 - accuracy: 0.9281 - val_loss: 3.1186 - val_accuracy: 0.5312\n",
            "Epoch 90/100\n",
            "8/8 [==============================] - 25s 3s/step - loss: 0.1896 - accuracy: 0.9206 - val_loss: 3.7511 - val_accuracy: 0.5312\n",
            "Epoch 91/100\n",
            "8/8 [==============================] - 25s 4s/step - loss: 0.2195 - accuracy: 0.9313 - val_loss: 3.7276 - val_accuracy: 0.5508\n",
            "Epoch 92/100\n",
            "8/8 [==============================] - 25s 3s/step - loss: 0.2019 - accuracy: 0.9135 - val_loss: 3.3280 - val_accuracy: 0.5508\n",
            "Epoch 93/100\n",
            "8/8 [==============================] - 25s 3s/step - loss: 0.1218 - accuracy: 0.9616 - val_loss: 2.9411 - val_accuracy: 0.5703\n",
            "Epoch 94/100\n",
            "8/8 [==============================] - 27s 3s/step - loss: 0.1619 - accuracy: 0.9359 - val_loss: 2.3579 - val_accuracy: 0.6367\n",
            "Epoch 95/100\n",
            "8/8 [==============================] - 25s 3s/step - loss: 0.1475 - accuracy: 0.9348 - val_loss: 4.5819 - val_accuracy: 0.5195\n",
            "Epoch 96/100\n",
            "8/8 [==============================] - 25s 3s/step - loss: 0.1722 - accuracy: 0.9277 - val_loss: 4.0463 - val_accuracy: 0.5312\n",
            "Epoch 97/100\n",
            "8/8 [==============================] - 25s 3s/step - loss: 0.1223 - accuracy: 0.9665 - val_loss: 3.5087 - val_accuracy: 0.5586\n",
            "Epoch 98/100\n",
            "8/8 [==============================] - 25s 3s/step - loss: 0.2622 - accuracy: 0.9054 - val_loss: 4.3088 - val_accuracy: 0.5430\n",
            "Epoch 99/100\n",
            "8/8 [==============================] - 25s 3s/step - loss: 0.1285 - accuracy: 0.9642 - val_loss: 5.1716 - val_accuracy: 0.5078\n",
            "Epoch 100/100\n",
            "8/8 [==============================] - 24s 3s/step - loss: 0.1433 - accuracy: 0.9469 - val_loss: 3.5295 - val_accuracy: 0.5664\n"
          ],
          "name": "stdout"
        }
      ]
    },
    {
      "cell_type": "code",
      "metadata": {
        "colab": {
          "base_uri": "https://localhost:8080/",
          "height": 545
        },
        "id": "7zNPRWOVJdOH",
        "outputId": "d98bebe6-e64f-4165-ef3d-605b5f6dd480"
      },
      "source": [
        "import matplotlib.pyplot as plt\n",
        "acc = history.history['accuracy']\n",
        "val_acc = history.history['val_accuracy']\n",
        "loss = history.history['loss']\n",
        "val_loss = history.history['val_loss']\n",
        "\n",
        "epochs = range(len(acc))\n",
        "\n",
        "plt.plot(epochs, acc, 'r', label='Training accuracy')\n",
        "plt.plot(epochs, val_acc, 'b', label='Validation accuracy')\n",
        "plt.title('Training and validation accuracy')\n",
        "\n",
        "plt.figure()\n",
        "\n",
        "plt.plot(epochs, loss, 'r', label='Training Loss')\n",
        "plt.plot(epochs, val_loss, 'b', label='Validation Loss')\n",
        "plt.title('Training and validation loss')\n",
        "plt.legend()\n",
        "\n",
        "plt.show()"
      ],
      "execution_count": 7,
      "outputs": [
        {
          "output_type": "display_data",
          "data": {
            "image/png": "[encoded data removed]",
            "text/plain": [
              "<Figure size 432x288 with 1 Axes>"
            ]
          },
          "metadata": {
            "tags": [],
            "needs_background": "light"
          }
        },
        {
          "output_type": "display_data",
          "data": {
            "image/png": "[encoded data removed]",
            "text/plain": [
              "<Figure size 432x288 with 1 Axes>"
            ]
          },
          "metadata": {
            "tags": [],
            "needs_background": "light"
          }
        }
      ]
    },
    {
      "cell_type": "code",
      "metadata": {
        "id": "UTlMWVsLohbP"
      },
      "source": [
        ""
      ],
      "execution_count": null,
      "outputs": []
    }
  ]
}