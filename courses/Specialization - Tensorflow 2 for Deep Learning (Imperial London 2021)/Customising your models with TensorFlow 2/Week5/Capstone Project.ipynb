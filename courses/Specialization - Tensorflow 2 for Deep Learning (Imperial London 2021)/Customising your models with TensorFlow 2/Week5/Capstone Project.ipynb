{
 "cells": [
  {
   "cell_type": "markdown",
   "metadata": {},
   "source": [
    "# Capstone Project\n",
    "## Neural translation model\n",
    "### Instructions\n",
    "\n",
    "In this notebook, you will create a neural network that translates from English to German. You will use concepts from throughout this course, including building more flexible model architectures, freezing layers, data processing pipeline and sequence modelling.\n",
    "\n",
    "This project is peer-assessed. Within this notebook you will find instructions in each section for how to complete the project. Pay close attention to the instructions as the peer review will be carried out according to a grading rubric that checks key parts of the project instructions. Feel free to add extra cells into the notebook as required.\n",
    "\n",
    "### How to submit\n",
    "\n",
    "When you have completed the Capstone project notebook, you will submit a pdf of the notebook for peer review. First ensure that the notebook has been fully executed from beginning to end, and all of the cell outputs are visible. This is important, as the grading rubric depends on the reviewer being able to view the outputs of your notebook. Save the notebook as a pdf (File -> Download as -> PDF via LaTeX). You should then submit this pdf for review.\n",
    "\n",
    "### Let's get started!\n",
    "\n",
    "We'll start by running some imports, and loading the dataset. For this project you are free to make further imports throughout the notebook as you wish. "
   ]
  },
  {
   "cell_type": "code",
   "execution_count": 7,
   "metadata": {},
   "outputs": [],
   "source": [
    "import tensorflow as tf\n",
    "import tensorflow_hub as hub\n",
    "import unicodedata\n",
    "import re"
   ]
  },
  {
   "cell_type": "markdown",
   "metadata": {},
   "source": [
    "![Flags overview image](data/germany_uk_flags.png)\n",
    "\n",
    "For the capstone project, you will use a language dataset from http://www.manythings.org/anki/ to build a neural translation model. This dataset consists of over 200,000 pairs of sentences in English and German. In order to make the training quicker, we will restrict to our dataset to 20,000 pairs. Feel free to change this if you wish - the size of the dataset used is not part of the grading rubric.\n",
    "\n",
    "Your goal is to develop a neural translation model from English to German, making use of a pre-trained English word embedding module."
   ]
  },
  {
   "cell_type": "code",
   "execution_count": 8,
   "metadata": {},
   "outputs": [],
   "source": [
    "# Run this cell to load the dataset\n",
    "\n",
    "NUM_EXAMPLES = 20000\n",
    "data_examples = []\n",
    "with open('data/deu.txt', 'r', encoding='utf8') as f:\n",
    "    for line in f.readlines():\n",
    "        if len(data_examples) < NUM_EXAMPLES:\n",
    "            data_examples.append(line)\n",
    "        else:\n",
    "            break"
   ]
  },
  {
   "cell_type": "code",
   "execution_count": 9,
   "metadata": {},
   "outputs": [],
   "source": [
    "# These functions preprocess English and German sentences\n",
    "\n",
    "def unicode_to_ascii(s):\n",
    "    return ''.join(c for c in unicodedata.normalize('NFD', s) if unicodedata.category(c) != 'Mn')\n",
    "\n",
    "def preprocess_sentence(sentence):\n",
    "    sentence = sentence.lower().strip()\n",
    "    sentence = re.sub(r\"ü\", 'ue', sentence)\n",
    "    sentence = re.sub(r\"ä\", 'ae', sentence)\n",
    "    sentence = re.sub(r\"ö\", 'oe', sentence)\n",
    "    sentence = re.sub(r'ß', 'ss', sentence)\n",
    "    \n",
    "    sentence = unicode_to_ascii(sentence)\n",
    "    sentence = re.sub(r\"([?.!,])\", r\" \\1 \", sentence)\n",
    "    sentence = re.sub(r\"[^a-z?.!,']+\", \" \", sentence)\n",
    "    sentence = re.sub(r'[\" \"]+', \" \", sentence)\n",
    "    \n",
    "    return sentence.strip()"
   ]
  },
  {
   "cell_type": "markdown",
   "metadata": {},
   "source": [
    "#### The custom translation model\n",
    "The following is a schematic of the custom translation model architecture you will develop in this project.\n",
    "\n",
    "![Model Schematic](data/neural_translation_model.png)\n",
    "\n",
    "Key:\n",
    "![Model key](data/neural_translation_model_key.png)\n",
    "\n",
    "The custom model consists of an encoder RNN and a decoder RNN. The encoder takes words of an English sentence as input, and uses a pre-trained word embedding to embed the words into a 128-dimensional space. To indicate the end of the input sentence, a special end token (in the same 128-dimensional space) is passed in as an input. This token is a TensorFlow Variable that is learned in the training phase (unlike the pre-trained word embedding, which is frozen).\n",
    "\n",
    "The decoder RNN takes the internal state of the encoder network as its initial state. A start token is passed in as the first input, which is embedded using a learned German word embedding. The decoder RNN then makes a prediction for the next German word, which during inference is then passed in as the following input, and this process is repeated until the special `<end>` token is emitted from the decoder."
   ]
  },
  {
   "cell_type": "markdown",
   "metadata": {},
   "source": [
    "## 1. Text preprocessing\n",
    "* Create separate lists of English and German sentences, and preprocess them using the `preprocess_sentence` function provided for you above.\n",
    "* Add a special `\"<start>\"` and `\"<end>\"` token to the beginning and end of every German sentence.\n",
    "* Use the Tokenizer class from the `tf.keras.preprocessing.text` module to tokenize the German sentences, ensuring that no character filters are applied. _Hint: use the Tokenizer's \"filter\" keyword argument._\n",
    "* Print out at least 5 randomly chosen examples of (preprocessed) English and German sentence pairs. For the German sentence, print out the text (with start and end tokens) as well as the tokenized sequence.\n",
    "* Pad the end of the tokenized German sequences with zeros, and batch the complete set of sequences into one numpy array."
   ]
  },
  {
   "cell_type": "code",
   "execution_count": 10,
   "metadata": {
    "scrolled": true
   },
   "outputs": [],
   "source": [
    "english_sentences = []\n",
    "german_sentences = []\n",
    "\n",
    "for example in data_examples:\n",
    "    e, g = example.split('\\t')[:2]\n",
    "    english_sentences.append(e)\n",
    "    german_sentences.append(g)\n",
    "\n",
    "english_sentences = list(map(preprocess_sentence, english_sentences))\n",
    "german_sentences = list(map(preprocess_sentence, german_sentences))\n",
    "german_sentences = list(map(lambda x: '<start> ' + x + ' <end>', german_sentences))"
   ]
  },
  {
   "cell_type": "code",
   "execution_count": 11,
   "metadata": {},
   "outputs": [],
   "source": [
    "from tensorflow.keras.preprocessing.text import Tokenizer\n",
    "tokenizer = Tokenizer(filters='')\n",
    "tokenizer.fit_on_texts(german_sentences) \n",
    "tokenized_german_sentences = tokenizer.texts_to_sequences(german_sentences) "
   ]
  },
  {
   "cell_type": "code",
   "execution_count": 12,
   "metadata": {},
   "outputs": [
    {
     "name": "stdout",
     "output_type": "stream",
     "text": [
      "English: he loves soccer .\n",
      "Gegman: <start> er ist ein grosser fussballfreund . <end>\n",
      "Tokenized german: [1, 14, 6, 19, 571, 4200, 3, 2]\n",
      "\n",
      "English: school's out .\n",
      "Gegman: <start> die schule ist vorbei . <end>\n",
      "Tokenized german: [1, 26, 304, 6, 300, 3, 2]\n",
      "\n",
      "English: i like cookies .\n",
      "Gegman: <start> ich esse gerne kekse . <end>\n",
      "Tokenized german: [1, 4, 261, 149, 1656, 3, 2]\n",
      "\n",
      "English: tom is early .\n",
      "Gegman: <start> tom ist frueh dran . <end>\n",
      "Tokenized german: [1, 5, 6, 391, 338, 3, 2]\n",
      "\n",
      "English: where's tom from ?\n",
      "Gegman: <start> woher kommt tom ? <end>\n",
      "Tokenized german: [1, 971, 120, 5, 7, 2]\n",
      "\n"
     ]
    }
   ],
   "source": [
    "import numpy as np\n",
    "np.random.seed(11)\n",
    "n = 5\n",
    "for i in np.random.choice(len(data_examples), n):\n",
    "    print(f'English: {english_sentences[i]}')\n",
    "    print(f'Gegman: {german_sentences[i]}')\n",
    "    print(f'Tokenized german: {tokenized_german_sentences[i]}')\n",
    "    print()"
   ]
  },
  {
   "cell_type": "code",
   "execution_count": 13,
   "metadata": {},
   "outputs": [
    {
     "data": {
      "text/plain": [
       "14"
      ]
     },
     "execution_count": 13,
     "metadata": {},
     "output_type": "execute_result"
    }
   ],
   "source": [
    "max([len(tokenized_german_sentences[i]) for i in range(20000)])"
   ]
  },
  {
   "cell_type": "code",
   "execution_count": 14,
   "metadata": {},
   "outputs": [
    {
     "data": {
      "text/plain": [
       "5743"
      ]
     },
     "execution_count": 14,
     "metadata": {},
     "output_type": "execute_result"
    }
   ],
   "source": [
    "len(tokenizer.index_word)"
   ]
  },
  {
   "cell_type": "code",
   "execution_count": null,
   "metadata": {},
   "outputs": [],
   "source": [
    "tokenizer.word_index['<start>']"
   ]
  },
  {
   "cell_type": "code",
   "execution_count": 15,
   "metadata": {},
   "outputs": [],
   "source": [
    "padded_tokenized_german_sentences = tf.keras.preprocessing.sequence.pad_sequences(tokenized_german_sentences, \n",
    "                                                                                  maxlen=14, padding='post', \n",
    "                                                                                  value=0) "
   ]
  },
  {
   "cell_type": "code",
   "execution_count": 16,
   "metadata": {},
   "outputs": [
    {
     "data": {
      "text/plain": [
       "(20000, 14)"
      ]
     },
     "execution_count": 16,
     "metadata": {},
     "output_type": "execute_result"
    }
   ],
   "source": [
    "padded_tokenized_german_sentences.shape"
   ]
  },
  {
   "cell_type": "markdown",
   "metadata": {},
   "source": [
    "## 2. Prepare the data with tf.data.Dataset objects"
   ]
  },
  {
   "cell_type": "markdown",
   "metadata": {},
   "source": [
    "#### Load the embedding layer\n",
    "As part of the dataset preproceessing for this project, you will use a pre-trained English word embedding module from TensorFlow Hub. The URL for the module is https://tfhub.dev/google/tf2-preview/nnlm-en-dim128-with-normalization/1. This module has also been made available as a complete saved model in the folder `'./models/tf2-preview_nnlm-en-dim128_1'`. \n",
    "\n",
    "This embedding takes a batch of text tokens in a 1-D tensor of strings as input. It then embeds the separate tokens into a 128-dimensional space. \n",
    "\n",
    "The code to load and test the embedding layer is provided for you below.\n",
    "\n",
    "**NB:** this model can also be used as a sentence embedding module. The module will process each token by removing punctuation and splitting on spaces. It then averages the word embeddings over a sentence to give a single embedding vector. However, we will use it only as a word embedding module, and will pass each word in the input sentence as a separate token."
   ]
  },
  {
   "cell_type": "code",
   "execution_count": 17,
   "metadata": {},
   "outputs": [],
   "source": [
    "# Load embedding module from Tensorflow Hub\n",
    "\n",
    "#embedding_layer = hub.KerasLayer(\"https://tfhub.dev/google/tf2-preview/nnlm-en-dim128/1\", \n",
    "#                                 output_shape=[128], input_shape=[], dtype=tf.string)\n",
    "embedding_layer = tf.keras.models.load_model('./models/tf2-preview_nnlm-en-dim128_1')"
   ]
  },
  {
   "cell_type": "code",
   "execution_count": 18,
   "metadata": {},
   "outputs": [
    {
     "data": {
      "text/plain": [
       "TensorShape([7, 128])"
      ]
     },
     "execution_count": 18,
     "metadata": {},
     "output_type": "execute_result"
    }
   ],
   "source": [
    "# Test the layer\n",
    "\n",
    "embedding_layer(tf.constant([\"these\", \"aren't\", \"the\", \"droids\", \"you're\", \"looking\", \"for\"])).shape"
   ]
  },
  {
   "cell_type": "markdown",
   "metadata": {},
   "source": [
    "You should now prepare the training and validation Datasets.\n",
    "\n",
    "* Create a random training and validation set split of the data, reserving e.g. 20% of the data for validation (NB: each English dataset example is a single sentence string, and each German dataset example is a sequence of padded integer tokens).\n",
    "* Load the training and validation sets into a tf.data.Dataset object, passing in a tuple of English and German data for both training and validation sets.\n",
    "* Create a function to map over the datasets that splits each English sentence at spaces. Apply this function to both Dataset objects using the map method. _Hint: look at the tf.strings.split function._\n",
    "* Create a function to map over the datasets that embeds each sequence of English words using the loaded embedding layer/model. Apply this function to both Dataset objects using the map method.\n",
    "* Create a function to filter out dataset examples where the English sentence is more than 13 (embedded) tokens in length. Apply this function to both Dataset objects using the filter method.\n",
    "* Create a function to map over the datasets that pads each English sequence of embeddings with some distinct padding value before the sequence, so that each sequence is length 13. Apply this function to both Dataset objects using the map method. _Hint: look at the tf.pad function. You can extract a Tensor shape using tf.shape; you might also find the tf.math.maximum function useful._\n",
    "* Batch both training and validation Datasets with a batch size of 16.\n",
    "* Print the `element_spec` property for the training and validation Datasets. \n",
    "* Using the Dataset `.take(1)` method, print the shape of the English data example from the training Dataset.\n",
    "* Using the Dataset `.take(1)` method, print the German data example Tensor from the validation Dataset."
   ]
  },
  {
   "cell_type": "code",
   "execution_count": 19,
   "metadata": {},
   "outputs": [],
   "source": [
    "english_sentences = np.array(english_sentences)\n",
    "valid_indices = np.random.choice(len(data_examples), int(0.2 * len(data_examples)))\n",
    "train_indices = np.array(list(set(range(len(data_examples))) - set(valid_indices)))\n",
    "\n",
    "input_train = english_sentences[train_indices]\n",
    "target_train = padded_tokenized_german_sentences[train_indices]\n",
    "\n",
    "input_valid = english_sentences[valid_indices]\n",
    "target_valid = padded_tokenized_german_sentences[valid_indices]"
   ]
  },
  {
   "cell_type": "code",
   "execution_count": 30,
   "metadata": {},
   "outputs": [],
   "source": [
    "def make_Dataset(input_array, target_array):\n",
    "    return tf.data.Dataset.from_tensor_slices((input_array, target_array)) \n",
    "\n",
    "train_data = make_Dataset(input_train, target_train)\n",
    "valid_data = make_Dataset(input_valid, target_valid)"
   ]
  },
  {
   "cell_type": "code",
   "execution_count": 31,
   "metadata": {},
   "outputs": [],
   "source": [
    "def str_split(e, g):\n",
    "    e = tf.strings.split(e)\n",
    "    return e, g\n",
    "\n",
    "train_data = train_data.map(str_split)\n",
    "valid_data = valid_data.map(str_split)\n",
    "#train_data.map(lambda x, y: (tf.strings.split(x), y))"
   ]
  },
  {
   "cell_type": "code",
   "execution_count": 32,
   "metadata": {},
   "outputs": [],
   "source": [
    "def embed_english(x, y):\n",
    "    return embedding_layer(x), y\n",
    "\n",
    "train_data = train_data.map(embed_english)\n",
    "valid_data = valid_data.map(embed_english)"
   ]
  },
  {
   "cell_type": "code",
   "execution_count": 33,
   "metadata": {},
   "outputs": [],
   "source": [
    "def remove_long_sentence(e, g):\n",
    "    return tf.shape(e)[0] <= 13\n",
    "\n",
    "train_data = train_data.filter(remove_long_sentence)\n",
    "valid_data = valid_data.filter(remove_long_sentence)"
   ]
  },
  {
   "cell_type": "code",
   "execution_count": 34,
   "metadata": {},
   "outputs": [],
   "source": [
    "def pad_english(e, g):\n",
    "    return tf.pad(e, paddings = [[13-tf.shape(e)[0],0], [0,0]], mode='CONSTANT', constant_values=0), g\n",
    "\n",
    "train_data = train_data.map(pad_english)\n",
    "valid_data = valid_data.map(pad_english)"
   ]
  },
  {
   "cell_type": "code",
   "execution_count": 35,
   "metadata": {},
   "outputs": [],
   "source": [
    "train_data = train_data.batch(16)\n",
    "valid_data = valid_data.batch(16)"
   ]
  },
  {
   "cell_type": "code",
   "execution_count": 36,
   "metadata": {},
   "outputs": [
    {
     "data": {
      "text/plain": [
       "(TensorSpec(shape=(None, None, 128), dtype=tf.float32, name=None),\n",
       " TensorSpec(shape=(None, 14), dtype=tf.int32, name=None))"
      ]
     },
     "execution_count": 36,
     "metadata": {},
     "output_type": "execute_result"
    }
   ],
   "source": [
    "train_data.element_spec"
   ]
  },
  {
   "cell_type": "code",
   "execution_count": 37,
   "metadata": {},
   "outputs": [
    {
     "data": {
      "text/plain": [
       "(TensorSpec(shape=(None, None, 128), dtype=tf.float32, name=None),\n",
       " TensorSpec(shape=(None, 14), dtype=tf.int32, name=None))"
      ]
     },
     "execution_count": 37,
     "metadata": {},
     "output_type": "execute_result"
    }
   ],
   "source": [
    "valid_data.element_spec"
   ]
  },
  {
   "cell_type": "code",
   "execution_count": 41,
   "metadata": {},
   "outputs": [
    {
     "name": "stdout",
     "output_type": "stream",
     "text": [
      "(16, 13, 128)\n"
     ]
    }
   ],
   "source": [
    "for e, g in train_data.take(1):\n",
    "    print(e.shape)"
   ]
  },
  {
   "cell_type": "code",
   "execution_count": 42,
   "metadata": {},
   "outputs": [
    {
     "name": "stdout",
     "output_type": "stream",
     "text": [
      "tf.Tensor(\n",
      "[[   1    5 1904 5289    3    2    0    0    0    0    0    0    0    0]\n",
      " [   1 3787    8    7    2    0    0    0    0    0    0    0    0    0]\n",
      " [   1 2607   28   29    3    2    0    0    0    0    0    0    0    0]\n",
      " [   1   64   31 1384    9    2    0    0    0    0    0    0    0    0]\n",
      " [   1    8   16   44 5052    3    2    0    0    0    0    0    0    0]\n",
      " [   1    8   35 1155    3    2    0    0    0    0    0    0    0    0]\n",
      " [   1   81   17   31   11 1213    7    2    0    0    0    0    0    0]\n",
      " [   1   86    8   53 1188   41    3    2    0    0    0    0    0    0]\n",
      " [   1   26   35   28  555    3    2    0    0    0    0    0    0    0]\n",
      " [   1   10    6 4993  279    3    2    0    0    0    0    0    0    0]\n",
      " [   1   38 2222   10   52    7    2    0    0    0    0    0    0    0]\n",
      " [   1    4   18  897  112   19  693    9    2    0    0    0    0    0]\n",
      " [   1    4   94 5658    3    2    0    0    0    0    0    0    0    0]\n",
      " [   1   38   16    5    7    2    0    0    0    0    0    0    0    0]\n",
      " [   1    5    6 1671    3    2    0    0    0    0    0    0    0    0]\n",
      " [   1   14    6   12  171    3    2    0    0    0    0    0    0    0]], shape=(16, 14), dtype=int32)\n"
     ]
    }
   ],
   "source": [
    "for e, g in valid_data.take(1):\n",
    "    print(g)"
   ]
  },
  {
   "cell_type": "markdown",
   "metadata": {},
   "source": [
    "## 3. Create the custom layer\n",
    "You will now create a custom layer to add the learned end token embedding to the encoder model:\n",
    "\n",
    "![Encoder schematic](data/neural_translation_model_encoder.png)"
   ]
  },
  {
   "cell_type": "markdown",
   "metadata": {},
   "source": [
    "You should now build the custom layer.\n",
    "* Using layer subclassing, create a custom layer that takes a batch of English data examples from one of the Datasets, and adds a learned embedded ‘end’ token to the end of each sequence. \n",
    "* This layer should create a TensorFlow Variable (that will be learned during training) that is 128-dimensional (the size of the embedding space). _Hint: you may find it helpful in the call method to use the tf.tile function to replicate the end token embedding across every element in the batch._\n",
    "* Using the Dataset `.take(1)` method, extract a batch of English data examples from the training Dataset and print the shape. Test the custom layer by calling the layer on the English data batch Tensor and print the resulting Tensor shape (the layer should increase the sequence length by one)."
   ]
  },
  {
   "cell_type": "code",
   "execution_count": 46,
   "metadata": {},
   "outputs": [],
   "source": [
    "from tensorflow.keras.models import  Sequential, Model\n",
    "from tensorflow.keras.layers import Layer, Concatenate, Input, Masking, LSTM, Embedding, Dense\n",
    "from tensorflow.keras.optimizers import Adam\n",
    "from tensorflow.keras.losses import SparseCategoricalCrossentropy\n",
    "\n",
    "class CustomLayer(Layer):\n",
    "\n",
    "    def __init__(self, **kwargs):\n",
    "        super(CustomLayer, self).__init__(**kwargs)\n",
    "        self.embed = tf.Variable(initial_value=tf.zeros(shape=(1,128), dtype='float32'))\n",
    "        \n",
    "    def call(self, inputs):\n",
    "        x = tf.tile(self.embed, [tf.shape(inputs)[0], 1])\n",
    "        x = tf.expand_dims(x, axis=1)\n",
    "        return Concatenate(axis=1)([inputs, x])"
   ]
  },
  {
   "cell_type": "code",
   "execution_count": 47,
   "metadata": {},
   "outputs": [],
   "source": [
    "custom_layer = CustomLayer()"
   ]
  },
  {
   "cell_type": "code",
   "execution_count": 50,
   "metadata": {},
   "outputs": [
    {
     "data": {
      "text/plain": [
       "TensorShape([16, 14, 128])"
      ]
     },
     "execution_count": 50,
     "metadata": {},
     "output_type": "execute_result"
    }
   ],
   "source": [
    "e, g = next(iter(train_data.take(1)))\n",
    "print(e.shape)\n",
    "o = custom_layer(e)\n",
    "o.shape"
   ]
  },
  {
   "cell_type": "markdown",
   "metadata": {},
   "source": [
    "## 4. Build the encoder network\n",
    "The encoder network follows the schematic diagram above. You should now build the RNN encoder model.\n",
    "* Using the functional API, build the encoder network according to the following spec:\n",
    "    * The model will take a batch of sequences of embedded English words as input, as given by the Dataset objects.\n",
    "    * The next layer in the encoder will be the custom layer you created previously, to add a learned end token embedding to the end of the English sequence.\n",
    "    * This is followed by a Masking layer, with the `mask_value` set to the distinct padding value you used when you padded the English sequences with the Dataset preprocessing above.\n",
    "    * The final layer is an LSTM layer with 512 units, which also returns the hidden and cell states.\n",
    "    * The encoder is a multi-output model. There should be two output Tensors of this model: the hidden state and cell states of the LSTM layer. The output of the LSTM layer is unused.\n",
    "* Using the Dataset `.take(1)` method, extract a batch of English data examples from the training Dataset and test the encoder model by calling it on the English data Tensor, and print the shape of the resulting Tensor outputs.\n",
    "* Print the model summary for the encoder network."
   ]
  },
  {
   "cell_type": "code",
   "execution_count": 64,
   "metadata": {},
   "outputs": [],
   "source": [
    "inputs = Input(batch_shape = (None, 13, 128), name='input')\n",
    "x = CustomLayer(name='custom_layer')(inputs)\n",
    "x = Masking(mask_value=0, name='masking_layer')(x)\n",
    "x, h, c = LSTM(units=512, return_state=True, name='lstm')(x)\n",
    "encoder_model = Model(inputs = inputs, outputs = [h, c], name='encoder')"
   ]
  },
  {
   "cell_type": "code",
   "execution_count": 58,
   "metadata": {},
   "outputs": [
    {
     "name": "stdout",
     "output_type": "stream",
     "text": [
      "(16, 512) (16, 512)\n"
     ]
    },
    {
     "data": {
      "text/plain": [
       "[<tf.Tensor: id=8120, shape=(16, 512), dtype=float32, numpy=\n",
       " array([[ 0.0034057 ,  0.01008304,  0.00151506, ..., -0.0133437 ,\n",
       "          0.00653079, -0.01176458],\n",
       "        [ 0.0034057 ,  0.01008304,  0.00151506, ..., -0.0133437 ,\n",
       "          0.00653079, -0.01176458],\n",
       "        [ 0.00011291,  0.02568938,  0.00166299, ..., -0.00372866,\n",
       "          0.01224773, -0.00191311],\n",
       "        ...,\n",
       "        [ 0.00319855,  0.01427315, -0.00189705, ..., -0.002008  ,\n",
       "          0.02839963, -0.00543766],\n",
       "        [-0.00552609,  0.01956979,  0.00704735, ...,  0.00197189,\n",
       "          0.00803735, -0.00699146],\n",
       "        [-0.00552609,  0.01956979,  0.00704735, ...,  0.00197189,\n",
       "          0.00803735, -0.00699146]], dtype=float32)>,\n",
       " <tf.Tensor: id=8121, shape=(16, 512), dtype=float32, numpy=\n",
       " array([[ 0.00695205,  0.02061531,  0.00301814, ..., -0.02664329,\n",
       "          0.01281457, -0.02357776],\n",
       "        [ 0.00695205,  0.02061531,  0.00301814, ..., -0.02664329,\n",
       "          0.01281457, -0.02357776],\n",
       "        [ 0.00023065,  0.05253974,  0.00328435, ..., -0.00736303,\n",
       "          0.02437202, -0.00385754],\n",
       "        ...,\n",
       "        [ 0.00653341,  0.02926056, -0.00373664, ..., -0.00395325,\n",
       "          0.05652478, -0.01094503],\n",
       "        [-0.01129305,  0.04023947,  0.01388729, ...,  0.00388584,\n",
       "          0.01600732, -0.01413378],\n",
       "        [-0.01129305,  0.04023947,  0.01388729, ...,  0.00388584,\n",
       "          0.01600732, -0.01413378]], dtype=float32)>]"
      ]
     },
     "execution_count": 58,
     "metadata": {},
     "output_type": "execute_result"
    }
   ],
   "source": [
    "out = encoder_model(next(iter(train_data.take(1))))\n",
    "print(out[0].shape, out[1].shape)\n",
    "out"
   ]
  },
  {
   "cell_type": "code",
   "execution_count": 65,
   "metadata": {},
   "outputs": [
    {
     "name": "stdout",
     "output_type": "stream",
     "text": [
      "Model: \"encoder\"\n",
      "_________________________________________________________________\n",
      "Layer (type)                 Output Shape              Param #   \n",
      "=================================================================\n",
      "input (InputLayer)           [(None, 13, 128)]         0         \n",
      "_________________________________________________________________\n",
      "custom_layer (CustomLayer)   (None, 14, 128)           128       \n",
      "_________________________________________________________________\n",
      "masking_layer (Masking)      (None, 14, 128)           0         \n",
      "_________________________________________________________________\n",
      "lstm (LSTM)                  [(None, 512), (None, 512) 1312768   \n",
      "=================================================================\n",
      "Total params: 1,312,896\n",
      "Trainable params: 1,312,896\n",
      "Non-trainable params: 0\n",
      "_________________________________________________________________\n"
     ]
    }
   ],
   "source": [
    "encoder_model.summary()"
   ]
  },
  {
   "cell_type": "markdown",
   "metadata": {},
   "source": [
    "## 5. Build the decoder network\n",
    "The decoder network follows the schematic diagram below. \n",
    "\n",
    "![Decoder schematic](data/neural_translation_model_decoder.png)"
   ]
  },
  {
   "cell_type": "markdown",
   "metadata": {},
   "source": [
    "You should now build the RNN decoder model.\n",
    "* Using Model subclassing, build the decoder network according to the following spec:\n",
    "    * The initializer should create the following layers:\n",
    "        * An Embedding layer with vocabulary size set to the number of unique German tokens, embedding dimension 128, and set to mask zero values in the input.\n",
    "        * An LSTM layer with 512 units, that returns its hidden and cell states, and also returns sequences.\n",
    "        * A Dense layer with number of units equal to the number of unique German tokens, and no activation function.\n",
    "    * The call method should include the usual `inputs` argument, as well as the additional keyword arguments `hidden_state` and `cell_state`. The default value for these keyword arguments should be `None`.\n",
    "    * The call method should pass the inputs through the Embedding layer, and then through the LSTM layer. If the `hidden_state` and `cell_state` arguments are provided, these should be used for the initial state of the LSTM layer. _Hint: use the_ `initial_state` _keyword argument when calling the LSTM layer on its input._\n",
    "    * The call method should pass the LSTM output sequence through the Dense layer, and return the resulting Tensor, along with the hidden and cell states of the LSTM layer.\n",
    "* Using the Dataset `.take(1)` method, extract a batch of English and German data examples from the training Dataset. Test the decoder model by first calling the encoder model on the English data Tensor to get the hidden and cell states, and then call the decoder model on the German data Tensor and hidden and cell states, and print the shape of the resulting decoder Tensor outputs.\n",
    "* Print the model summary for the decoder network."
   ]
  },
  {
   "cell_type": "code",
   "execution_count": 89,
   "metadata": {},
   "outputs": [],
   "source": [
    "class Decoder(Model):\n",
    "    \n",
    "    def __init__(self, **kwargs):\n",
    "        super(Decoder, self).__init__(**kwargs)\n",
    "        self.embed = Embedding(input_dim=len(tokenizer.index_word)+1, output_dim=128, mask_zero=True, name='embedding_layer')\n",
    "        self.lstm = LSTM(units = 512, return_state = True, return_sequences = True, name='lstm_layer')\n",
    "        self.dense = Dense(len(tokenizer.index_word), name='dense_layer')\n",
    "        \n",
    "    def call(self, inputs, hidden_state = None, cell_state = None):\n",
    "        x = self.embed(inputs)\n",
    "        if hidden_state is not None and cell_state is not None:\n",
    "            x, hidden_state, cell_state = self.lstm(x, initial_state = [hidden_state, cell_state])\n",
    "        else:    \n",
    "            x = self.lstm(x)\n",
    "        x = self.dense(x)\n",
    "        return x, hidden_state, cell_state"
   ]
  },
  {
   "cell_type": "code",
   "execution_count": 90,
   "metadata": {},
   "outputs": [
    {
     "name": "stdout",
     "output_type": "stream",
     "text": [
      "(16, 14, 5743) (16, 512) (16, 512)\n"
     ]
    },
    {
     "data": {
      "text/plain": [
       "<tf.Tensor: id=22185, shape=(16, 14, 5743), dtype=float32, numpy=\n",
       "array([[[ 3.1904574e-04, -2.1032616e-03, -2.7888743e-03, ...,\n",
       "          2.0270820e-03, -7.2138384e-04,  1.2344717e-03],\n",
       "        [-2.3266161e-04, -1.0980426e-03, -1.5519867e-03, ...,\n",
       "          3.0956718e-03,  1.8840400e-04, -4.2528764e-04],\n",
       "        [ 7.3767413e-04, -1.1167943e-04, -1.5705292e-03, ...,\n",
       "          2.2907499e-03, -8.4343739e-04, -4.9658644e-04],\n",
       "        ...,\n",
       "        [ 4.3238490e-04,  5.6293682e-04,  4.5666401e-04, ...,\n",
       "          9.3041896e-04, -1.8773051e-03, -1.8907028e-03],\n",
       "        [ 4.3238490e-04,  5.6293682e-04,  4.5666401e-04, ...,\n",
       "          9.3041896e-04, -1.8773051e-03, -1.8907028e-03],\n",
       "        [ 4.3238490e-04,  5.6293682e-04,  4.5666401e-04, ...,\n",
       "          9.3041896e-04, -1.8773051e-03, -1.8907028e-03]],\n",
       "\n",
       "       [[ 3.1904574e-04, -2.1032616e-03, -2.7888743e-03, ...,\n",
       "          2.0270820e-03, -7.2138384e-04,  1.2344717e-03],\n",
       "        [ 1.3789127e-03, -2.5380531e-04, -2.7858184e-03, ...,\n",
       "          9.7449747e-04,  2.4076825e-04, -1.8390967e-04],\n",
       "        [ 1.1670343e-03, -2.6397903e-03, -1.5763995e-03, ...,\n",
       "          2.1046153e-03, -7.4089412e-04,  7.4055279e-06],\n",
       "        ...,\n",
       "        [ 1.3054586e-03, -6.8064407e-04, -4.6632951e-05, ...,\n",
       "          1.9305322e-04, -2.4543903e-03, -1.4937567e-03],\n",
       "        [ 1.3054586e-03, -6.8064407e-04, -4.6632951e-05, ...,\n",
       "          1.9305322e-04, -2.4543903e-03, -1.4937567e-03],\n",
       "        [ 1.3054586e-03, -6.8064407e-04, -4.6632951e-05, ...,\n",
       "          1.9305322e-04, -2.4543903e-03, -1.4937567e-03]],\n",
       "\n",
       "       [[-1.1869133e-03, -1.0596076e-04, -3.9552483e-03, ...,\n",
       "          2.2663758e-04, -1.3871724e-03,  1.8298835e-03],\n",
       "        [-3.2025480e-03,  6.4308714e-04, -2.0350658e-03, ...,\n",
       "          2.9122366e-03,  8.8469234e-05,  8.7886088e-04],\n",
       "        [-1.2943442e-03,  1.5731025e-03, -2.1642984e-03, ...,\n",
       "          2.3951554e-03, -1.0464793e-03,  2.0698039e-04],\n",
       "        ...,\n",
       "        [-9.3719445e-04,  2.0852713e-03, -9.6240314e-05, ...,\n",
       "          1.2141516e-03, -2.0657440e-03, -1.6079490e-03],\n",
       "        [-9.3719445e-04,  2.0852713e-03, -9.6240314e-05, ...,\n",
       "          1.2141516e-03, -2.0657440e-03, -1.6079490e-03],\n",
       "        [-9.3719445e-04,  2.0852713e-03, -9.6240314e-05, ...,\n",
       "          1.2141516e-03, -2.0657440e-03, -1.6079490e-03]],\n",
       "\n",
       "       ...,\n",
       "\n",
       "       [[-1.3022749e-03, -3.2272823e-03,  4.3427572e-05, ...,\n",
       "          1.1982054e-03, -2.4373571e-03, -4.3044286e-03],\n",
       "        [ 6.3129491e-04, -2.4542785e-03, -5.6447578e-05, ...,\n",
       "          1.9689261e-03, -3.0824488e-03, -3.6946074e-03],\n",
       "        [ 9.5993001e-04, -8.5523393e-04,  5.4619100e-05, ...,\n",
       "          1.1349421e-03, -1.7004034e-03, -1.9811592e-03],\n",
       "        ...,\n",
       "        [ 9.1281842e-04,  1.9469720e-03,  2.3759587e-04, ...,\n",
       "          4.7217472e-04, -3.2608132e-03, -1.8208852e-03],\n",
       "        [ 9.1281842e-04,  1.9469720e-03,  2.3759587e-04, ...,\n",
       "          4.7217472e-04, -3.2608132e-03, -1.8208852e-03],\n",
       "        [ 9.1281842e-04,  1.9469720e-03,  2.3759587e-04, ...,\n",
       "          4.7217472e-04, -3.2608132e-03, -1.8208852e-03]],\n",
       "\n",
       "       [[-1.6898847e-03,  1.2791137e-03, -2.8559268e-03, ...,\n",
       "         -1.2950180e-04, -3.6931587e-03,  1.5916233e-03],\n",
       "        [-3.8001098e-04,  1.9870005e-03, -1.9725931e-03, ...,\n",
       "          2.5974936e-04, -2.8458517e-03, -3.4039631e-04],\n",
       "        [ 5.6422612e-04,  1.2933931e-03,  1.1234692e-03, ...,\n",
       "         -4.0991334e-04, -2.1283329e-03, -1.9887409e-03],\n",
       "        ...,\n",
       "        [ 8.1298547e-04,  2.1997541e-03,  1.7914426e-03, ...,\n",
       "         -9.5669786e-04, -3.0906564e-03, -2.8615773e-03],\n",
       "        [ 8.1298547e-04,  2.1997541e-03,  1.7914426e-03, ...,\n",
       "         -9.5669786e-04, -3.0906564e-03, -2.8615773e-03],\n",
       "        [ 8.1298547e-04,  2.1997541e-03,  1.7914426e-03, ...,\n",
       "         -9.5669786e-04, -3.0906564e-03, -2.8615773e-03]],\n",
       "\n",
       "       [[-1.6898847e-03,  1.2791137e-03, -2.8559268e-03, ...,\n",
       "         -1.2950180e-04, -3.6931587e-03,  1.5916233e-03],\n",
       "        [-8.9993444e-04,  2.2023714e-03, -2.9284551e-03, ...,\n",
       "         -1.9461998e-03, -1.5784067e-03,  4.5626261e-04],\n",
       "        [-9.3866896e-05,  2.8624465e-03, -2.5774254e-03, ...,\n",
       "         -1.3162709e-03, -2.3287449e-03, -1.9493839e-04],\n",
       "        ...,\n",
       "        [-3.9075411e-04,  3.1510922e-03, -2.3106951e-04, ...,\n",
       "         -1.6000386e-03, -3.0983086e-03, -1.9337968e-03],\n",
       "        [-3.9075411e-04,  3.1510922e-03, -2.3106951e-04, ...,\n",
       "         -1.6000386e-03, -3.0983086e-03, -1.9337968e-03],\n",
       "        [-3.9075411e-04,  3.1510922e-03, -2.3106951e-04, ...,\n",
       "         -1.6000386e-03, -3.0983086e-03, -1.9337968e-03]]], dtype=float32)>"
      ]
     },
     "execution_count": 90,
     "metadata": {},
     "output_type": "execute_result"
    }
   ],
   "source": [
    "decoder_model = Decoder(name='decoder')\n",
    "e, g_in = next(iter(train_data.take(1)))\n",
    "h, c = encoder_model(e)\n",
    "g_out, h, c = decoder_model(g_in, h, c)\n",
    "print(g_out.shape, h.shape, c.shape)\n",
    "g_out"
   ]
  },
  {
   "cell_type": "code",
   "execution_count": 91,
   "metadata": {},
   "outputs": [
    {
     "name": "stdout",
     "output_type": "stream",
     "text": [
      "Model: \"decoder\"\n",
      "_________________________________________________________________\n",
      "Layer (type)                 Output Shape              Param #   \n",
      "=================================================================\n",
      "embedding_layer (Embedding)  multiple                  735232    \n",
      "_________________________________________________________________\n",
      "lstm_layer (LSTM)            multiple                  1312768   \n",
      "_________________________________________________________________\n",
      "dense_layer (Dense)          multiple                  2946159   \n",
      "=================================================================\n",
      "Total params: 4,994,159\n",
      "Trainable params: 4,994,159\n",
      "Non-trainable params: 0\n",
      "_________________________________________________________________\n"
     ]
    }
   ],
   "source": [
    "decoder_model.summary()"
   ]
  },
  {
   "cell_type": "markdown",
   "metadata": {},
   "source": [
    "## 6. Make a custom training loop\n",
    "You should now write a custom training loop to train your custom neural translation model.\n",
    "* Define a function that takes a Tensor batch of German data (as extracted from the training Dataset), and returns a tuple containing German inputs and outputs for the decoder model (refer to schematic diagram above).\n",
    "* Define a function that computes the forward and backward pass for your translation model. This function should take an English input, German input and German output as arguments, and should do the following:\n",
    "    * Pass the English input into the encoder, to get the hidden and cell states of the encoder LSTM.\n",
    "    * These hidden and cell states are then passed into the decoder, along with the German inputs, which returns a sequence of outputs (the hidden and cell state outputs of the decoder LSTM are unused in this function).\n",
    "    * The loss should then be computed between the decoder outputs and the German output function argument.\n",
    "    * The function returns the loss and gradients with respect to the encoder and decoder’s trainable variables.\n",
    "    * Decorate the function with @tf.function\n",
    "* Define and run a custom training loop for a number of epochs (for you to choose) that does the following:\n",
    "    * Iterates through the training dataset, and creates decoder inputs and outputs from the German sequences.\n",
    "    * Updates the parameters of the translation model using the gradients of the function above and an optimizer object.\n",
    "    * Every epoch, compute the validation loss on a number of batches from the validation and save the epoch training and validation losses.\n",
    "* Plot the learning curves for loss vs epoch for both training and validation sets.\n",
    "\n",
    "_Hint: This model is computationally demanding to train. The quality of the model or length of training is not a factor in the grading rubric. However, to obtain a better model we recommend using the GPU accelerator hardware on Colab._"
   ]
  },
  {
   "cell_type": "code",
   "execution_count": 77,
   "metadata": {},
   "outputs": [],
   "source": [
    "def get_german_decoder_data(german):\n",
    "    return german[:, :-1], german[:,1:]    "
   ]
  },
  {
   "cell_type": "code",
   "execution_count": 78,
   "metadata": {},
   "outputs": [
    {
     "name": "stdout",
     "output_type": "stream",
     "text": [
      "(16, 13, 128) (16, 14)\n",
      "(16, 13) (16, 13)\n"
     ]
    }
   ],
   "source": [
    "e, g = next(iter(train_data.take(1)))\n",
    "print(e.shape, g.shape)\n",
    "g_in, g_out = get_german_decoder_data(g)\n",
    "print(g_in.shape, g_out.shape)"
   ]
  },
  {
   "cell_type": "code",
   "execution_count": 106,
   "metadata": {},
   "outputs": [],
   "source": [
    "@tf.function\n",
    "def forward_backward(encoder_model, decoder_model, e, g_in, g_out, loss):\n",
    "    with tf.GradientTape() as tape:\n",
    "        h, c = encoder_model(e)\n",
    "        d_g_out, h, c = decoder_model(g_in, h, c)\n",
    "        cur_loss = loss(g_out, d_g_out)\n",
    "        grads = tape.gradient(cur_loss, encoder_model.trainable_variables + decoder_model.trainable_variables)\n",
    "    return cur_loss, grads"
   ]
  },
  {
   "cell_type": "code",
   "execution_count": 107,
   "metadata": {},
   "outputs": [],
   "source": [
    "def train_encoder_decoder(encoder_model, decoder_model, num_epochs, train_data, valid_data, valid_steps, \n",
    "                          optimizer, loss, grad_fn):\n",
    "    train_losses = []\n",
    "    val_loasses = []\n",
    "    for epoch in range(num_epochs):\n",
    "        train_epoch_loss_avg = tf.keras.metrics.Mean()\n",
    "        val_epoch_loss_avg = tf.keras.metrics.Mean()\n",
    "        for e, g in train_data:\n",
    "            g_in, g_out = get_german_decoder_data(g)\n",
    "            train_loss, grads = grad_fn(encoder_model, decoder_model, e, g_in, g_out, loss)\n",
    "            optimizer.apply_gradients(zip(grads, encoder_model.trainable_variables + decoder_model.trainable_variables))\n",
    "            train_epoch_loss_avg.update_state(train_loss)    \n",
    "        for e_v, g_v in valid_data.take(valid_steps):\n",
    "            g_v_in, g_v_out = get_german_decoder_data(g_v)\n",
    "            d_g_v_out, _, _ = decoder_model(g_v_in)\n",
    "            val_loss = loss(g_v_out, d_g_v_out)\n",
    "            val_epoch_loss_avg.update_state(val_loss)            \n",
    "        train_losses.append(train_epoch_loss_avg.result())\n",
    "        val_loasses.append(val_epoch_loss_avg.result())\n",
    "    return train_losses, val_loasses"
   ]
  },
  {
   "cell_type": "code",
   "execution_count": 108,
   "metadata": {},
   "outputs": [],
   "source": [
    "optimizer_obj = Adam(learning_rate = 0.001)\n",
    "loss_obj = SparseCategoricalCrossentropy()"
   ]
  },
  {
   "cell_type": "code",
   "execution_count": null,
   "metadata": {},
   "outputs": [],
   "source": [
    "train_loss_results, valid_loss_results = train_encoder_decoder(encoder_model, decoder_model, 5, train_data, valid_data, 10,\n",
    "                                                          optimizer_obj, loss_obj, forward_backward)"
   ]
  },
  {
   "cell_type": "code",
   "execution_count": null,
   "metadata": {},
   "outputs": [],
   "source": [
    "fig, axes = plt.subplots(1, 2, sharex=True, figsize=(12, 5))\n",
    "\n",
    "axes[0].set_xlabel(\"Epochs\", fontsize=14)\n",
    "axes[0].set_ylabel(\"Loss\", fontsize=14)\n",
    "axes[0].set_title('Train Loss vs epochs')\n",
    "axes[0].plot(train_loss_results)\n",
    "\n",
    "axes[1].set_title('Validation Loss vs epochs')\n",
    "axes[1].set_ylabel(\"Loss\", fontsize=14)\n",
    "axes[1].set_xlabel(\"Epochs\", fontsize=14)\n",
    "axes[1].plot(valid_loss_results)\n",
    "plt.show()"
   ]
  },
  {
   "cell_type": "markdown",
   "metadata": {},
   "source": [
    "## 7. Use the model to translate\n",
    "Now it's time to put your model into practice! You should run your translation for five randomly sampled English sentences from the dataset. For each sentence, the process is as follows:\n",
    "* Preprocess and embed the English sentence according to the model requirements.\n",
    "* Pass the embedded sentence through the encoder to get the encoder hidden and cell states.\n",
    "* Starting with the special  `\"<start>\"` token, use this token and the final encoder hidden and cell states to get the one-step prediction from the decoder, as well as the decoder’s updated hidden and cell states.\n",
    "* Create a loop to get the next step prediction and updated hidden and cell states from the decoder, using the most recent hidden and cell states. Terminate the loop when the `\"<end>\"` token is emitted, or when the sentence has reached a maximum length.\n",
    "* Decode the output token sequence into German text and print the English text and the model's German translation."
   ]
  },
  {
   "cell_type": "code",
   "execution_count": null,
   "metadata": {},
   "outputs": [],
   "source": [
    "n = 5\n",
    "indices = np.random.choice(len(english_sentences), 5)\n",
    "for i in indices:\n",
    "    e = embedding_layer(english_sentences[i])\n",
    "    if e.shape[0] > 13:\n",
    "        print('long sentence, skipping')\n",
    "    else:\n",
    "        e = tf.pad(e, paddings = [[13-tf.shape(e)[0],0], [0,0]], mode='CONSTANT', constant_values=0)\n",
    "        h, c = encoder_model(e)\n",
    "        g_t = []\n",
    "        g_out, h, c = decoder_model(tokenize.word_index['<start>'], h, c)\n",
    "        g_t.append('<start>)')\n",
    "        while tokenizer.index_word(g_out) != '<end>': \n",
    "            g_out, h, c = decoder_model(g_in, h, c)\n",
    "            g_in = g_out\n",
    "            g_t.append(tokenizer.index_word.get(g_out, 'UNK'))\n",
    "        print(f'English Text: {english_sentences[i]}')\n",
    "        print(f'German Translation: {\" \".join(g_t)}')\n",
    "              print()"
   ]
  }
 ],
 "metadata": {
  "kernelspec": {
   "display_name": "Python 3",
   "language": "python",
   "name": "python3"
  },
  "language_info": {
   "codemirror_mode": {
    "name": "ipython",
    "version": 3
   },
   "file_extension": ".py",
   "mimetype": "text/x-python",
   "name": "python",
   "nbconvert_exporter": "python",
   "pygments_lexer": "ipython3",
   "version": "3.7.1"
  }
 },
 "nbformat": 4,
 "nbformat_minor": 2
}
