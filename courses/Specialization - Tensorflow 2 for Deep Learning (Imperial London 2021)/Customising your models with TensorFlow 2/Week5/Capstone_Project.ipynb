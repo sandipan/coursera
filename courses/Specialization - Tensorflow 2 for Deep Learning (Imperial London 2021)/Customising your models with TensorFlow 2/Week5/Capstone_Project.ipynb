{
 "cells": [
  {
   "cell_type": "markdown",
   "metadata": {
    "id": "F_5TlNWI1iH2"
   },
   "source": [
    "# Capstone Project\n",
    "## Neural translation model\n",
    "### Instructions\n",
    "\n",
    "In this notebook, you will create a neural network that translates from English to German. You will use concepts from throughout this course, including building more flexible model architectures, freezing layers, data processing pipeline and sequence modelling.\n",
    "\n",
    "This project is peer-assessed. Within this notebook you will find instructions in each section for how to complete the project. Pay close attention to the instructions as the peer review will be carried out according to a grading rubric that checks key parts of the project instructions. Feel free to add extra cells into the notebook as required.\n",
    "\n",
    "### How to submit\n",
    "\n",
    "When you have completed the Capstone project notebook, you will submit a pdf of the notebook for peer review. First ensure that the notebook has been fully executed from beginning to end, and all of the cell outputs are visible. This is important, as the grading rubric depends on the reviewer being able to view the outputs of your notebook. Save the notebook as a pdf (File -> Download as -> PDF via LaTeX). You should then submit this pdf for review.\n",
    "\n",
    "### Let's get started!\n",
    "\n",
    "We'll start by running some imports, and loading the dataset. For this project you are free to make further imports throughout the notebook as you wish. "
   ]
  },
  {
   "cell_type": "code",
   "execution_count": 1,
   "metadata": {
    "colab": {
     "base_uri": "https://localhost:8080/"
    },
    "id": "l6_Medpy2QL9",
    "outputId": "b2ee6618-8368-443c-80f0-eb296711fa3d"
   },
   "outputs": [
    {
     "name": "stdout",
     "output_type": "stream",
     "text": [
      "Mounted at /content/gdrive\n"
     ]
    }
   ],
   "source": [
    "from google.colab import drive\n",
    "drive.mount('/content/gdrive')"
   ]
  },
  {
   "cell_type": "code",
   "execution_count": 16,
   "metadata": {
    "colab": {
     "base_uri": "https://localhost:8080/"
    },
    "id": "dyBTNQc52hXq",
    "outputId": "2b64154c-1543-4447-9a19-0487a5af13d3"
   },
   "outputs": [
    {
     "name": "stdout",
     "output_type": "stream",
     "text": [
      "/content/gdrive/MyDrive/deu.txt\n"
     ]
    }
   ],
   "source": [
    "!ls '/content/gdrive/MyDrive/deu.txt'"
   ]
  },
  {
   "cell_type": "code",
   "execution_count": 3,
   "metadata": {
    "id": "VkSvQHLE1iH6"
   },
   "outputs": [],
   "source": [
    "import tensorflow as tf\n",
    "import tensorflow_hub as hub\n",
    "import unicodedata\n",
    "import re"
   ]
  },
  {
   "cell_type": "markdown",
   "metadata": {
    "id": "KrIyLXGJ1iH-"
   },
   "source": [
    "\n",
    "![Flags overview image](germany_uk_flags.png)\n",
    "\n",
    "For the capstone project, you will use a language dataset from http://www.manythings.org/anki/ to build a neural translation model. This dataset consists of over 200,000 pairs of sentences in English and German. In order to make the training quicker, we will restrict to our dataset to 20,000 pairs. Feel free to change this if you wish - the size of the dataset used is not part of the grading rubric.\n",
    "\n",
    "Your goal is to develop a neural translation model from English to German, making use of a pre-trained English word embedding module."
   ]
  },
  {
   "cell_type": "code",
   "execution_count": 17,
   "metadata": {
    "id": "-Kk1NXMl1iH_"
   },
   "outputs": [],
   "source": [
    "# Run this cell to load the dataset\n",
    "\n",
    "NUM_EXAMPLES = 20000\n",
    "data_examples = []\n",
    "with open('/content/gdrive/MyDrive/deu.txt', 'r', encoding='utf8') as f:\n",
    "    for line in f.readlines():\n",
    "        if len(data_examples) < NUM_EXAMPLES:\n",
    "            data_examples.append(line)\n",
    "        else:\n",
    "            break"
   ]
  },
  {
   "cell_type": "code",
   "execution_count": 18,
   "metadata": {
    "id": "-2N3wFZN1iIA"
   },
   "outputs": [],
   "source": [
    "# These functions preprocess English and German sentences\n",
    "\n",
    "def unicode_to_ascii(s):\n",
    "    return ''.join(c for c in unicodedata.normalize('NFD', s) if unicodedata.category(c) != 'Mn')\n",
    "\n",
    "def preprocess_sentence(sentence):\n",
    "    sentence = sentence.lower().strip()\n",
    "    sentence = re.sub(r\"ü\", 'ue', sentence)\n",
    "    sentence = re.sub(r\"ä\", 'ae', sentence)\n",
    "    sentence = re.sub(r\"ö\", 'oe', sentence)\n",
    "    sentence = re.sub(r'ß', 'ss', sentence)\n",
    "    \n",
    "    sentence = unicode_to_ascii(sentence)\n",
    "    sentence = re.sub(r\"([?.!,])\", r\" \\1 \", sentence)\n",
    "    sentence = re.sub(r\"[^a-z?.!,']+\", \" \", sentence)\n",
    "    sentence = re.sub(r'[\" \"]+', \" \", sentence)\n",
    "    \n",
    "    return sentence.strip()"
   ]
  },
  {
   "cell_type": "markdown",
   "metadata": {
    "id": "cmpldx-c1iIB"
   },
   "source": [
    "#### The custom translation model\n",
    "The following is a schematic of the custom translation model architecture you will develop in this project.\n",
    "\n",
    "![Model Schematic](neural_translation_model.png)\n",
    "\n",
    "Key:\n",
    "![Model key](neural_translation_model_key.png)\n",
    "\n",
    "The custom model consists of an encoder RNN and a decoder RNN. The encoder takes words of an English sentence as input, and uses a pre-trained word embedding to embed the words into a 128-dimensional space. To indicate the end of the input sentence, a special end token (in the same 128-dimensional space) is passed in as an input. This token is a TensorFlow Variable that is learned in the training phase (unlike the pre-trained word embedding, which is frozen).\n",
    "\n",
    "The decoder RNN takes the internal state of the encoder network as its initial state. A start token is passed in as the first input, which is embedded using a learned German word embedding. The decoder RNN then makes a prediction for the next German word, which during inference is then passed in as the following input, and this process is repeated until the special `<end>` token is emitted from the decoder."
   ]
  },
  {
   "cell_type": "markdown",
   "metadata": {
    "id": "rVz0cVbE1iIC"
   },
   "source": [
    "## 1. Text preprocessing\n",
    "* Create separate lists of English and German sentences, and preprocess them using the `preprocess_sentence` function provided for you above.\n",
    "* Add a special `\"<start>\"` and `\"<end>\"` token to the beginning and end of every German sentence.\n",
    "* Use the Tokenizer class from the `tf.keras.preprocessing.text` module to tokenize the German sentences, ensuring that no character filters are applied. _Hint: use the Tokenizer's \"filter\" keyword argument._\n",
    "* Print out at least 5 randomly chosen examples of (preprocessed) English and German sentence pairs. For the German sentence, print out the text (with start and end tokens) as well as the tokenized sequence.\n",
    "* Pad the end of the tokenized German sequences with zeros, and batch the complete set of sequences into one numpy array."
   ]
  },
  {
   "cell_type": "code",
   "execution_count": 19,
   "metadata": {
    "id": "Qu6uEHpL1iIE",
    "scrolled": true
   },
   "outputs": [],
   "source": [
    "english_sentences = []\n",
    "german_sentences = []\n",
    "\n",
    "for example in data_examples:\n",
    "    e, g = example.split('\\t')[:2]\n",
    "    english_sentences.append(e)\n",
    "    german_sentences.append(g)\n",
    "\n",
    "english_sentences = list(map(preprocess_sentence, english_sentences))\n",
    "german_sentences = list(map(preprocess_sentence, german_sentences))\n",
    "german_sentences = list(map(lambda x: '<start> ' + x + ' <end>', german_sentences))"
   ]
  },
  {
   "cell_type": "code",
   "execution_count": 20,
   "metadata": {
    "id": "kvGii0na1iIF"
   },
   "outputs": [],
   "source": [
    "from tensorflow.keras.preprocessing.text import Tokenizer\n",
    "tokenizer = Tokenizer(filters='')\n",
    "tokenizer.fit_on_texts(german_sentences) \n",
    "tokenized_german_sentences = tokenizer.texts_to_sequences(german_sentences) "
   ]
  },
  {
   "cell_type": "code",
   "execution_count": 21,
   "metadata": {
    "colab": {
     "base_uri": "https://localhost:8080/"
    },
    "id": "db_P194i1iIF",
    "outputId": "fadf79a8-1d28-4348-a912-e260faf7f1e2"
   },
   "outputs": [
    {
     "name": "stdout",
     "output_type": "stream",
     "text": [
      "English: he loves soccer .\n",
      "Gegman: <start> er ist ein grosser fussballfreund . <end>\n",
      "Tokenized german: [1, 14, 6, 19, 571, 4200, 3, 2]\n",
      "\n",
      "English: school's out .\n",
      "Gegman: <start> die schule ist vorbei . <end>\n",
      "Tokenized german: [1, 26, 304, 6, 300, 3, 2]\n",
      "\n",
      "English: i like cookies .\n",
      "Gegman: <start> ich esse gerne kekse . <end>\n",
      "Tokenized german: [1, 4, 261, 149, 1656, 3, 2]\n",
      "\n",
      "English: tom is early .\n",
      "Gegman: <start> tom ist frueh dran . <end>\n",
      "Tokenized german: [1, 5, 6, 391, 338, 3, 2]\n",
      "\n",
      "English: where's tom from ?\n",
      "Gegman: <start> woher kommt tom ? <end>\n",
      "Tokenized german: [1, 971, 120, 5, 7, 2]\n",
      "\n"
     ]
    }
   ],
   "source": [
    "import numpy as np\n",
    "np.random.seed(11)\n",
    "n = 5\n",
    "for i in np.random.choice(len(data_examples), n):\n",
    "    print(f'English: {english_sentences[i]}')\n",
    "    print(f'Gegman: {german_sentences[i]}')\n",
    "    print(f'Tokenized german: {tokenized_german_sentences[i]}')\n",
    "    print()"
   ]
  },
  {
   "cell_type": "code",
   "execution_count": 22,
   "metadata": {
    "colab": {
     "base_uri": "https://localhost:8080/"
    },
    "id": "CYVk63NX1iIG",
    "outputId": "99e0a968-22a8-4492-e301-90027742b089"
   },
   "outputs": [
    {
     "data": {
      "text/plain": [
       "14"
      ]
     },
     "execution_count": 22,
     "metadata": {
      "tags": []
     },
     "output_type": "execute_result"
    }
   ],
   "source": [
    "max([len(tokenized_german_sentences[i]) for i in range(20000)])"
   ]
  },
  {
   "cell_type": "code",
   "execution_count": 23,
   "metadata": {
    "colab": {
     "base_uri": "https://localhost:8080/"
    },
    "id": "BdYowJz91iIG",
    "outputId": "4834f2f5-5e4f-4fab-d526-19e586dad403"
   },
   "outputs": [
    {
     "data": {
      "text/plain": [
       "5743"
      ]
     },
     "execution_count": 23,
     "metadata": {
      "tags": []
     },
     "output_type": "execute_result"
    }
   ],
   "source": [
    "len(tokenizer.index_word)"
   ]
  },
  {
   "cell_type": "code",
   "execution_count": 24,
   "metadata": {
    "colab": {
     "base_uri": "https://localhost:8080/"
    },
    "id": "NQvjcWYO1iIH",
    "outputId": "0cc57aaa-1408-4f5c-af80-5a0d40817dce"
   },
   "outputs": [
    {
     "data": {
      "text/plain": [
       "1"
      ]
     },
     "execution_count": 24,
     "metadata": {
      "tags": []
     },
     "output_type": "execute_result"
    }
   ],
   "source": [
    "tokenizer.word_index['<start>']"
   ]
  },
  {
   "cell_type": "code",
   "execution_count": 25,
   "metadata": {
    "id": "8y66buUT1iIH"
   },
   "outputs": [],
   "source": [
    "padded_tokenized_german_sentences = tf.keras.preprocessing.sequence.pad_sequences(tokenized_german_sentences, \n",
    "                                                                                  maxlen=14, padding='post', \n",
    "                                                                                  value=0) "
   ]
  },
  {
   "cell_type": "code",
   "execution_count": 26,
   "metadata": {
    "colab": {
     "base_uri": "https://localhost:8080/"
    },
    "id": "5jHSz79h1iIH",
    "outputId": "d24ab921-2329-46e0-8c13-a89c913a8d3c"
   },
   "outputs": [
    {
     "data": {
      "text/plain": [
       "(20000, 14)"
      ]
     },
     "execution_count": 26,
     "metadata": {
      "tags": []
     },
     "output_type": "execute_result"
    }
   ],
   "source": [
    "padded_tokenized_german_sentences.shape"
   ]
  },
  {
   "cell_type": "markdown",
   "metadata": {
    "id": "F2Zua97G1iII"
   },
   "source": [
    "## 2. Prepare the data with tf.data.Dataset objects"
   ]
  },
  {
   "cell_type": "markdown",
   "metadata": {
    "id": "t99Jodxz1iII"
   },
   "source": [
    "#### Load the embedding layer\n",
    "As part of the dataset preproceessing for this project, you will use a pre-trained English word embedding module from TensorFlow Hub. The URL for the module is https://tfhub.dev/google/tf2-preview/nnlm-en-dim128-with-normalization/1. This module has also been made available as a complete saved model in the folder `'./models/tf2-preview_nnlm-en-dim128_1'`. \n",
    "\n",
    "This embedding takes a batch of text tokens in a 1-D tensor of strings as input. It then embeds the separate tokens into a 128-dimensional space. \n",
    "\n",
    "The code to load and test the embedding layer is provided for you below.\n",
    "\n",
    "**NB:** this model can also be used as a sentence embedding module. The module will process each token by removing punctuation and splitting on spaces. It then averages the word embeddings over a sentence to give a single embedding vector. However, we will use it only as a word embedding module, and will pass each word in the input sentence as a separate token."
   ]
  },
  {
   "cell_type": "code",
   "execution_count": 27,
   "metadata": {
    "id": "ZFG6_-sZ1iII"
   },
   "outputs": [],
   "source": [
    "# Load embedding module from Tensorflow Hub\n",
    "\n",
    "embedding_layer = hub.KerasLayer(\"https://tfhub.dev/google/tf2-preview/nnlm-en-dim128/1\", \n",
    "                                 output_shape=[128], input_shape=[], dtype=tf.string)\n",
    "#embedding_layer = tf.keras.models.load_model('./models/tf2-preview_nnlm-en-dim128_1')"
   ]
  },
  {
   "cell_type": "code",
   "execution_count": 28,
   "metadata": {
    "colab": {
     "base_uri": "https://localhost:8080/"
    },
    "id": "aTqyTayM1iIJ",
    "outputId": "678be448-f98b-4ed6-9dfb-d5e409de31ec"
   },
   "outputs": [
    {
     "data": {
      "text/plain": [
       "TensorShape([7, 128])"
      ]
     },
     "execution_count": 28,
     "metadata": {
      "tags": []
     },
     "output_type": "execute_result"
    }
   ],
   "source": [
    "# Test the layer\n",
    "\n",
    "embedding_layer(tf.constant([\"these\", \"aren't\", \"the\", \"droids\", \"you're\", \"looking\", \"for\"])).shape"
   ]
  },
  {
   "cell_type": "markdown",
   "metadata": {
    "id": "SVAm6J8L1iIJ"
   },
   "source": [
    "You should now prepare the training and validation Datasets.\n",
    "\n",
    "* Create a random training and validation set split of the data, reserving e.g. 20% of the data for validation (NB: each English dataset example is a single sentence string, and each German dataset example is a sequence of padded integer tokens).\n",
    "* Load the training and validation sets into a tf.data.Dataset object, passing in a tuple of English and German data for both training and validation sets.\n",
    "* Create a function to map over the datasets that splits each English sentence at spaces. Apply this function to both Dataset objects using the map method. _Hint: look at the tf.strings.split function._\n",
    "* Create a function to map over the datasets that embeds each sequence of English words using the loaded embedding layer/model. Apply this function to both Dataset objects using the map method.\n",
    "* Create a function to filter out dataset examples where the English sentence is more than 13 (embedded) tokens in length. Apply this function to both Dataset objects using the filter method.\n",
    "* Create a function to map over the datasets that pads each English sequence of embeddings with some distinct padding value before the sequence, so that each sequence is length 13. Apply this function to both Dataset objects using the map method. _Hint: look at the tf.pad function. You can extract a Tensor shape using tf.shape; you might also find the tf.math.maximum function useful._\n",
    "* Batch both training and validation Datasets with a batch size of 16.\n",
    "* Print the `element_spec` property for the training and validation Datasets. \n",
    "* Using the Dataset `.take(1)` method, print the shape of the English data example from the training Dataset.\n",
    "* Using the Dataset `.take(1)` method, print the German data example Tensor from the validation Dataset."
   ]
  },
  {
   "cell_type": "code",
   "execution_count": 40,
   "metadata": {
    "id": "EfTQXk3u1iIJ"
   },
   "outputs": [],
   "source": [
    "english_sentences = np.array(english_sentences)\n",
    "valid_indices = np.random.choice(len(data_examples), int(0.2 * len(data_examples)))\n",
    "train_indices = np.array(list(set(range(len(data_examples))) - set(valid_indices)))\n",
    "\n",
    "input_train = english_sentences[train_indices]\n",
    "target_train = padded_tokenized_german_sentences[train_indices]\n",
    "\n",
    "input_valid = english_sentences[valid_indices]\n",
    "target_valid = padded_tokenized_german_sentences[valid_indices]"
   ]
  },
  {
   "cell_type": "code",
   "execution_count": 41,
   "metadata": {
    "id": "0FvQ72Dg1iIK"
   },
   "outputs": [],
   "source": [
    "def make_Dataset(input_array, target_array):\n",
    "    return tf.data.Dataset.from_tensor_slices((input_array, target_array)) \n",
    "\n",
    "train_data = make_Dataset(input_train, target_train)\n",
    "valid_data = make_Dataset(input_valid, target_valid)"
   ]
  },
  {
   "cell_type": "code",
   "execution_count": 42,
   "metadata": {
    "id": "4nIfr3gl1iIK"
   },
   "outputs": [],
   "source": [
    "def str_split(e, g):\n",
    "    e = tf.strings.split(e)\n",
    "    return e, g\n",
    "\n",
    "train_data = train_data.map(str_split)\n",
    "valid_data = valid_data.map(str_split)\n",
    "#train_data.map(lambda x, y: (tf.strings.split(x), y))"
   ]
  },
  {
   "cell_type": "code",
   "execution_count": 43,
   "metadata": {
    "id": "wLJtehOy1iIK"
   },
   "outputs": [],
   "source": [
    "def embed_english(x, y):\n",
    "    return embedding_layer(x), y\n",
    "\n",
    "train_data = train_data.map(embed_english)\n",
    "valid_data = valid_data.map(embed_english)"
   ]
  },
  {
   "cell_type": "code",
   "execution_count": 44,
   "metadata": {
    "id": "gEs8zgqs1iIL"
   },
   "outputs": [],
   "source": [
    "def remove_long_sentence(e, g):\n",
    "    return tf.shape(e)[0] <= 13\n",
    "\n",
    "train_data = train_data.filter(remove_long_sentence)\n",
    "valid_data = valid_data.filter(remove_long_sentence)"
   ]
  },
  {
   "cell_type": "code",
   "execution_count": 45,
   "metadata": {
    "id": "3joCzFUt1iIL"
   },
   "outputs": [],
   "source": [
    "def pad_english(e, g):\n",
    "    return tf.pad(e, paddings = [[13-tf.shape(e)[0],0], [0,0]], mode='CONSTANT', constant_values=0), g\n",
    "\n",
    "train_data = train_data.map(pad_english)\n",
    "valid_data = valid_data.map(pad_english)"
   ]
  },
  {
   "cell_type": "code",
   "execution_count": 46,
   "metadata": {
    "id": "lW4lz6cq1iIL"
   },
   "outputs": [],
   "source": [
    "train_data = train_data.batch(16)\n",
    "valid_data = valid_data.batch(16)"
   ]
  },
  {
   "cell_type": "code",
   "execution_count": 47,
   "metadata": {
    "colab": {
     "base_uri": "https://localhost:8080/"
    },
    "id": "M84TJ36L1iIM",
    "outputId": "23ddfa2e-ac55-4e09-bca8-2b14d48a79ed"
   },
   "outputs": [
    {
     "data": {
      "text/plain": [
       "(TensorSpec(shape=(None, None, 128), dtype=tf.float32, name=None),\n",
       " TensorSpec(shape=(None, 14), dtype=tf.int32, name=None))"
      ]
     },
     "execution_count": 47,
     "metadata": {
      "tags": []
     },
     "output_type": "execute_result"
    }
   ],
   "source": [
    "train_data.element_spec"
   ]
  },
  {
   "cell_type": "code",
   "execution_count": 48,
   "metadata": {
    "colab": {
     "base_uri": "https://localhost:8080/"
    },
    "id": "qsqxOHqt1iIM",
    "outputId": "2613f2c6-bd7f-4f91-b72d-c6b7a8e7d55d"
   },
   "outputs": [
    {
     "data": {
      "text/plain": [
       "(TensorSpec(shape=(None, None, 128), dtype=tf.float32, name=None),\n",
       " TensorSpec(shape=(None, 14), dtype=tf.int32, name=None))"
      ]
     },
     "execution_count": 48,
     "metadata": {
      "tags": []
     },
     "output_type": "execute_result"
    }
   ],
   "source": [
    "valid_data.element_spec"
   ]
  },
  {
   "cell_type": "code",
   "execution_count": 49,
   "metadata": {
    "colab": {
     "base_uri": "https://localhost:8080/"
    },
    "id": "_Ni3x7hj1iIM",
    "outputId": "ccf53415-72dd-4eb9-9ed6-4586c6d6ebb3"
   },
   "outputs": [
    {
     "name": "stdout",
     "output_type": "stream",
     "text": [
      "(16, 13, 128)\n"
     ]
    }
   ],
   "source": [
    "for e, g in train_data.take(1):\n",
    "    print(e.shape)"
   ]
  },
  {
   "cell_type": "code",
   "execution_count": 50,
   "metadata": {
    "colab": {
     "base_uri": "https://localhost:8080/"
    },
    "id": "_qT8WTMb1iIN",
    "outputId": "0b6ec1a0-6c58-4394-984f-9c59b54b9bf6"
   },
   "outputs": [
    {
     "name": "stdout",
     "output_type": "stream",
     "text": [
      "tf.Tensor(\n",
      "[[   1   11  152    6  458    3    2    0    0    0    0    0    0    0]\n",
      " [   1   11  333  429    3    2    0    0    0    0    0    0    0    0]\n",
      " [   1   11   59   12    3    2    0    0    0    0    0    0    0    0]\n",
      " [   1  990   25   42  444    7    2    0    0    0    0    0    0    0]\n",
      " [   1    4   85 1365    3    2    0    0    0    0    0    0    0    0]\n",
      " [   1  131    8   22    5  583    3    2    0    0    0    0    0    0]\n",
      " [   1    4   85 1401    3    2    0    0    0    0    0    0    0    0]\n",
      " [   1   17  381   80    3    2    0    0    0    0    0    0    0    0]\n",
      " [   1 2998   13   33    7    2    0    0    0    0    0    0    0    0]\n",
      " [   1  242    6  479    3    2    0    0    0    0    0    0    0    0]\n",
      " [   1   35   17   40    7    2    0    0    0    0    0    0    0    0]\n",
      " [   1   11   30  305   46   47 1913  471    3    2    0    0    0    0]\n",
      " [   1    5   48 1184    3    2    0    0    0    0    0    0    0    0]\n",
      " [   1    5  287   12  834 5268    3    2    0    0    0    0    0    0]\n",
      " [   1    5    6  523    3    2    0    0    0    0    0    0    0    0]\n",
      " [   1   13  109   28   29   44  491    3    2    0    0    0    0    0]], shape=(16, 14), dtype=int32)\n"
     ]
    }
   ],
   "source": [
    "for e, g in valid_data.take(1):\n",
    "    print(g)"
   ]
  },
  {
   "cell_type": "markdown",
   "metadata": {
    "id": "K06DTGoN1iIO"
   },
   "source": [
    "## 3. Create the custom layer\n",
    "You will now create a custom layer to add the learned end token embedding to the encoder model:\n",
    "\n",
    "![Encoder schematic](neural_translation_model_encoder.png)"
   ]
  },
  {
   "cell_type": "markdown",
   "metadata": {
    "id": "ra9Aqwvz1iIO"
   },
   "source": [
    "You should now build the custom layer.\n",
    "* Using layer subclassing, create a custom layer that takes a batch of English data examples from one of the Datasets, and adds a learned embedded ‘end’ token to the end of each sequence. \n",
    "* This layer should create a TensorFlow Variable (that will be learned during training) that is 128-dimensional (the size of the embedding space). _Hint: you may find it helpful in the call method to use the tf.tile function to replicate the end token embedding across every element in the batch._\n",
    "* Using the Dataset `.take(1)` method, extract a batch of English data examples from the training Dataset and print the shape. Test the custom layer by calling the layer on the English data batch Tensor and print the resulting Tensor shape (the layer should increase the sequence length by one)."
   ]
  },
  {
   "cell_type": "code",
   "execution_count": 51,
   "metadata": {
    "id": "S8sMaxh91iIO"
   },
   "outputs": [],
   "source": [
    "from tensorflow.keras.models import  Sequential, Model\n",
    "from tensorflow.keras.layers import Layer, Concatenate, Input, Masking, LSTM, Embedding, Dense\n",
    "from tensorflow.keras.optimizers import Adam\n",
    "from tensorflow.keras.losses import SparseCategoricalCrossentropy\n",
    "\n",
    "class CustomLayer(Layer):\n",
    "\n",
    "    def __init__(self, **kwargs):\n",
    "        super(CustomLayer, self).__init__(**kwargs)\n",
    "        self.embed = tf.Variable(initial_value=tf.zeros(shape=(1,128)), trainable=True, dtype='float32')\n",
    "        \n",
    "    def call(self, inputs):\n",
    "        x = tf.tile(self.embed, [tf.shape(inputs)[0], 1])\n",
    "        x = tf.expand_dims(x, axis=1)\n",
    "        return tf.concat([inputs, x], axis=1)\n",
    "        #return Concatenate(axis=1)([inputs, x])"
   ]
  },
  {
   "cell_type": "code",
   "execution_count": 52,
   "metadata": {
    "id": "VUc3BV6f1iIP"
   },
   "outputs": [],
   "source": [
    "custom_layer = CustomLayer()"
   ]
  },
  {
   "cell_type": "code",
   "execution_count": 53,
   "metadata": {
    "colab": {
     "base_uri": "https://localhost:8080/"
    },
    "id": "KmZs0Wzp1iIP",
    "outputId": "d0c31fbf-1f81-460c-ec31-548acd8c9b99"
   },
   "outputs": [
    {
     "name": "stdout",
     "output_type": "stream",
     "text": [
      "(16, 13, 128)\n"
     ]
    },
    {
     "data": {
      "text/plain": [
       "TensorShape([16, 14, 128])"
      ]
     },
     "execution_count": 53,
     "metadata": {
      "tags": []
     },
     "output_type": "execute_result"
    }
   ],
   "source": [
    "e, g = next(iter(train_data.take(1)))\n",
    "print(e.shape)\n",
    "o = custom_layer(e)\n",
    "o.shape"
   ]
  },
  {
   "cell_type": "markdown",
   "metadata": {
    "id": "M8gagxCh1iIP"
   },
   "source": [
    "## 4. Build the encoder network\n",
    "The encoder network follows the schematic diagram above. You should now build the RNN encoder model.\n",
    "* Using the functional API, build the encoder network according to the following spec:\n",
    "    * The model will take a batch of sequences of embedded English words as input, as given by the Dataset objects.\n",
    "    * The next layer in the encoder will be the custom layer you created previously, to add a learned end token embedding to the end of the English sequence.\n",
    "    * This is followed by a Masking layer, with the `mask_value` set to the distinct padding value you used when you padded the English sequences with the Dataset preprocessing above.\n",
    "    * The final layer is an LSTM layer with 512 units, which also returns the hidden and cell states.\n",
    "    * The encoder is a multi-output model. There should be two output Tensors of this model: the hidden state and cell states of the LSTM layer. The output of the LSTM layer is unused.\n",
    "* Using the Dataset `.take(1)` method, extract a batch of English data examples from the training Dataset and test the encoder model by calling it on the English data Tensor, and print the shape of the resulting Tensor outputs.\n",
    "* Print the model summary for the encoder network."
   ]
  },
  {
   "cell_type": "code",
   "execution_count": 63,
   "metadata": {
    "id": "VD_Otyz91iIQ"
   },
   "outputs": [],
   "source": [
    "inputs = Input(batch_shape = (None, 13, 128), name='input')\n",
    "x = CustomLayer(name='custom_layer')(inputs)\n",
    "x = Masking(mask_value=0, name='masking_layer')(x)\n",
    "x, h, c = LSTM(units=512, return_state=True, name='lstm')(x)\n",
    "encoder_model = Model(inputs = inputs, outputs = [h, c], name='encoder')"
   ]
  },
  {
   "cell_type": "code",
   "execution_count": 66,
   "metadata": {
    "colab": {
     "base_uri": "https://localhost:8080/"
    },
    "id": "oBM5uIxo1iIQ",
    "outputId": "8f862670-586f-456c-bf6e-c6623916929e"
   },
   "outputs": [
    {
     "name": "stdout",
     "output_type": "stream",
     "text": [
      "(16, 512) (16, 512)\n"
     ]
    },
    {
     "data": {
      "text/plain": [
       "[<tf.Tensor: shape=(16, 512), dtype=float32, numpy=\n",
       " array([[ 0.01854514, -0.0040413 ,  0.00907487, ...,  0.01150382,\n",
       "         -0.00310475, -0.00031143],\n",
       "        [ 0.01854514, -0.0040413 ,  0.00907487, ...,  0.01150382,\n",
       "         -0.00310475, -0.00031143],\n",
       "        [ 0.01038496, -0.01065684, -0.00331556, ...,  0.00829646,\n",
       "          0.00458274, -0.00381776],\n",
       "        ...,\n",
       "        [ 0.01029645, -0.00145298,  0.00722232, ...,  0.01423825,\n",
       "          0.00730137, -0.00583213],\n",
       "        [ 0.01232876,  0.00586112,  0.00496624, ..., -0.00324156,\n",
       "          0.00195378, -0.00781488],\n",
       "        [ 0.01340363,  0.00846284,  0.01617318, ...,  0.00433808,\n",
       "          0.00130709, -0.00415776]], dtype=float32)>,\n",
       " <tf.Tensor: shape=(16, 512), dtype=float32, numpy=\n",
       " array([[ 0.03636052, -0.0080185 ,  0.0177757 , ...,  0.02366579,\n",
       "         -0.00621893, -0.00062978],\n",
       "        [ 0.03636052, -0.0080185 ,  0.0177757 , ...,  0.02366579,\n",
       "         -0.00621893, -0.00062978],\n",
       "        [ 0.02047693, -0.02108288, -0.00648323, ...,  0.01717929,\n",
       "          0.00913523, -0.00772435],\n",
       "        ...,\n",
       "        [ 0.02021091, -0.00287379,  0.0141379 , ...,  0.02947984,\n",
       "          0.01459109, -0.01174915],\n",
       "        [ 0.0241458 ,  0.01166206,  0.00969179, ..., -0.0066879 ,\n",
       "          0.00391054, -0.01576719],\n",
       "        [ 0.02635757,  0.01674061,  0.03158036, ...,  0.00900845,\n",
       "          0.00260166, -0.00838096]], dtype=float32)>]"
      ]
     },
     "execution_count": 66,
     "metadata": {
      "tags": []
     },
     "output_type": "execute_result"
    }
   ],
   "source": [
    "out = encoder_model(next(iter(train_data.take(1)))[0])\n",
    "print(out[0].shape, out[1].shape)\n",
    "out"
   ]
  },
  {
   "cell_type": "code",
   "execution_count": 67,
   "metadata": {
    "colab": {
     "base_uri": "https://localhost:8080/"
    },
    "id": "HvTIwvDJ1iIQ",
    "outputId": "ce6b0b84-1c1e-4c19-88c3-83265c34b9d9"
   },
   "outputs": [
    {
     "name": "stdout",
     "output_type": "stream",
     "text": [
      "Model: \"encoder\"\n",
      "_________________________________________________________________\n",
      "Layer (type)                 Output Shape              Param #   \n",
      "=================================================================\n",
      "input (InputLayer)           [(None, 13, 128)]         0         \n",
      "_________________________________________________________________\n",
      "custom_layer (CustomLayer)   (None, 14, 128)           128       \n",
      "_________________________________________________________________\n",
      "masking_layer (Masking)      (None, 14, 128)           0         \n",
      "_________________________________________________________________\n",
      "lstm (LSTM)                  [(None, 512), (None, 512) 1312768   \n",
      "=================================================================\n",
      "Total params: 1,312,896\n",
      "Trainable params: 1,312,896\n",
      "Non-trainable params: 0\n",
      "_________________________________________________________________\n"
     ]
    }
   ],
   "source": [
    "encoder_model.summary()"
   ]
  },
  {
   "cell_type": "markdown",
   "metadata": {
    "id": "Dl3kKh011iIQ"
   },
   "source": [
    "## 5. Build the decoder network\n",
    "The decoder network follows the schematic diagram below. \n",
    "\n",
    "![Decoder schematic](neural_translation_model_decoder.png)"
   ]
  },
  {
   "cell_type": "markdown",
   "metadata": {
    "id": "QhcCYCCd1iIR"
   },
   "source": [
    "You should now build the RNN decoder model.\n",
    "* Using Model subclassing, build the decoder network according to the following spec:\n",
    "    * The initializer should create the following layers:\n",
    "        * An Embedding layer with vocabulary size set to the number of unique German tokens, embedding dimension 128, and set to mask zero values in the input.\n",
    "        * An LSTM layer with 512 units, that returns its hidden and cell states, and also returns sequences.\n",
    "        * A Dense layer with number of units equal to the number of unique German tokens, and no activation function.\n",
    "    * The call method should include the usual `inputs` argument, as well as the additional keyword arguments `hidden_state` and `cell_state`. The default value for these keyword arguments should be `None`.\n",
    "    * The call method should pass the inputs through the Embedding layer, and then through the LSTM layer. If the `hidden_state` and `cell_state` arguments are provided, these should be used for the initial state of the LSTM layer. _Hint: use the_ `initial_state` _keyword argument when calling the LSTM layer on its input._\n",
    "    * The call method should pass the LSTM output sequence through the Dense layer, and return the resulting Tensor, along with the hidden and cell states of the LSTM layer.\n",
    "* Using the Dataset `.take(1)` method, extract a batch of English and German data examples from the training Dataset. Test the decoder model by first calling the encoder model on the English data Tensor to get the hidden and cell states, and then call the decoder model on the German data Tensor and hidden and cell states, and print the shape of the resulting decoder Tensor outputs.\n",
    "* Print the model summary for the decoder network."
   ]
  },
  {
   "cell_type": "code",
   "execution_count": 68,
   "metadata": {
    "id": "zVnEtFQ51iIR"
   },
   "outputs": [],
   "source": [
    "class Decoder(Model):\n",
    "    \n",
    "    def __init__(self, **kwargs):\n",
    "        super(Decoder, self).__init__(**kwargs)\n",
    "        self.embed = Embedding(input_dim=len(tokenizer.index_word)+1, output_dim=128, mask_zero=True, name='embedding_layer')\n",
    "        self.lstm = LSTM(units = 512, return_state = True, return_sequences = True, name='lstm_layer')\n",
    "        self.dense = Dense(len(tokenizer.index_word)+1, name='dense_layer')\n",
    "        \n",
    "    def call(self, inputs, hidden_state = None, cell_state = None):\n",
    "        x = self.embed(inputs)\n",
    "        x, hidden_state, cell_state = self.lstm(x, initial_state = [hidden_state, cell_state]) if hidden_state is not None and cell_state is not None else self.lstm(x)\n",
    "        x = self.dense(x)\n",
    "        return x, hidden_state, cell_state"
   ]
  },
  {
   "cell_type": "code",
   "execution_count": 69,
   "metadata": {
    "colab": {
     "base_uri": "https://localhost:8080/"
    },
    "id": "HgLmPdbt1iIR",
    "outputId": "9a0ea534-0da6-41fd-cf02-37404bcfc68d"
   },
   "outputs": [
    {
     "name": "stdout",
     "output_type": "stream",
     "text": [
      "(16, 14, 5744) (16, 512) (16, 512)\n"
     ]
    },
    {
     "data": {
      "text/plain": [
       "<tf.Tensor: shape=(16, 14, 5744), dtype=float32, numpy=\n",
       "array([[[-7.2209421e-04,  1.4262756e-03,  2.1544707e-03, ...,\n",
       "         -1.6511183e-03,  1.9722376e-03, -4.0340987e-03],\n",
       "        [-4.4304781e-04,  7.5579708e-04,  7.6592830e-04, ...,\n",
       "         -1.2624494e-03,  1.2608992e-03, -3.9325645e-03],\n",
       "        [-1.2813559e-03,  8.8697701e-04,  3.4074578e-03, ...,\n",
       "         -1.2020493e-03,  1.4875846e-03, -1.3632110e-03],\n",
       "        ...,\n",
       "        [ 0.0000000e+00,  0.0000000e+00,  0.0000000e+00, ...,\n",
       "          0.0000000e+00,  0.0000000e+00,  0.0000000e+00],\n",
       "        [ 0.0000000e+00,  0.0000000e+00,  0.0000000e+00, ...,\n",
       "          0.0000000e+00,  0.0000000e+00,  0.0000000e+00],\n",
       "        [ 0.0000000e+00,  0.0000000e+00,  0.0000000e+00, ...,\n",
       "          0.0000000e+00,  0.0000000e+00,  0.0000000e+00]],\n",
       "\n",
       "       [[-7.2209421e-04,  1.4262756e-03,  2.1544707e-03, ...,\n",
       "         -1.6511183e-03,  1.9722376e-03, -4.0340987e-03],\n",
       "        [-5.8690028e-04, -7.6987804e-04,  1.5037408e-03, ...,\n",
       "         -1.7460228e-03,  3.5990370e-04, -3.4611530e-03],\n",
       "        [ 5.4730708e-04, -9.1761537e-04,  1.1514825e-03, ...,\n",
       "         -1.7134704e-03, -1.0440263e-05, -2.6939255e-03],\n",
       "        ...,\n",
       "        [ 0.0000000e+00,  0.0000000e+00,  0.0000000e+00, ...,\n",
       "          0.0000000e+00,  0.0000000e+00,  0.0000000e+00],\n",
       "        [ 0.0000000e+00,  0.0000000e+00,  0.0000000e+00, ...,\n",
       "          0.0000000e+00,  0.0000000e+00,  0.0000000e+00],\n",
       "        [ 0.0000000e+00,  0.0000000e+00,  0.0000000e+00, ...,\n",
       "          0.0000000e+00,  0.0000000e+00,  0.0000000e+00]],\n",
       "\n",
       "       [[-8.3261373e-04,  1.8620689e-03, -1.6877106e-04, ...,\n",
       "         -7.1471406e-04,  4.2420430e-03, -1.1191546e-03],\n",
       "        [ 5.8526144e-05,  8.0550648e-04,  3.4663262e-04, ...,\n",
       "         -6.4350164e-04,  3.4839439e-03, -1.6705504e-03],\n",
       "        [-1.0737278e-03,  1.0813389e-03,  2.7706665e-03, ...,\n",
       "         -6.4474280e-04,  2.4965052e-03,  5.8847934e-04],\n",
       "        ...,\n",
       "        [ 0.0000000e+00,  0.0000000e+00,  0.0000000e+00, ...,\n",
       "          0.0000000e+00,  0.0000000e+00,  0.0000000e+00],\n",
       "        [ 0.0000000e+00,  0.0000000e+00,  0.0000000e+00, ...,\n",
       "          0.0000000e+00,  0.0000000e+00,  0.0000000e+00],\n",
       "        [ 0.0000000e+00,  0.0000000e+00,  0.0000000e+00, ...,\n",
       "          0.0000000e+00,  0.0000000e+00,  0.0000000e+00]],\n",
       "\n",
       "       ...,\n",
       "\n",
       "       [[-5.2478826e-03,  3.3370561e-03, -4.3865573e-04, ...,\n",
       "         -1.0370280e-03,  1.4989641e-03, -6.3131619e-03],\n",
       "        [-3.9042872e-03,  6.8142341e-04, -1.7990291e-03, ...,\n",
       "         -1.9414944e-03,  1.4006945e-03, -3.3238125e-03],\n",
       "        [-2.4130885e-03,  4.7178933e-04, -2.6409565e-03, ...,\n",
       "         -2.3890240e-03,  2.8848036e-03, -1.6300200e-03],\n",
       "        ...,\n",
       "        [ 0.0000000e+00,  0.0000000e+00,  0.0000000e+00, ...,\n",
       "          0.0000000e+00,  0.0000000e+00,  0.0000000e+00],\n",
       "        [ 0.0000000e+00,  0.0000000e+00,  0.0000000e+00, ...,\n",
       "          0.0000000e+00,  0.0000000e+00,  0.0000000e+00],\n",
       "        [ 0.0000000e+00,  0.0000000e+00,  0.0000000e+00, ...,\n",
       "          0.0000000e+00,  0.0000000e+00,  0.0000000e+00]],\n",
       "\n",
       "       [[-1.7110802e-03, -5.8369199e-04, -1.9236252e-03, ...,\n",
       "         -3.7078809e-03,  3.5846441e-03, -3.4310168e-03],\n",
       "        [-1.0812096e-03, -1.3505766e-03,  6.8561570e-04, ...,\n",
       "         -2.5104089e-03,  1.6271460e-03, -2.3585707e-03],\n",
       "        [-1.8134865e-03, -7.1348099e-04,  3.5435720e-03, ...,\n",
       "         -1.9031160e-03,  1.9087922e-03, -4.9800543e-05],\n",
       "        ...,\n",
       "        [ 0.0000000e+00,  0.0000000e+00,  0.0000000e+00, ...,\n",
       "          0.0000000e+00,  0.0000000e+00,  0.0000000e+00],\n",
       "        [ 0.0000000e+00,  0.0000000e+00,  0.0000000e+00, ...,\n",
       "          0.0000000e+00,  0.0000000e+00,  0.0000000e+00],\n",
       "        [ 0.0000000e+00,  0.0000000e+00,  0.0000000e+00, ...,\n",
       "          0.0000000e+00,  0.0000000e+00,  0.0000000e+00]],\n",
       "\n",
       "       [[-2.9524693e-03,  9.5360127e-04, -6.4063939e-04, ...,\n",
       "         -3.2246409e-03,  3.7835855e-03, -2.2302796e-03],\n",
       "        [-2.2197803e-03,  4.5517393e-04, -8.9542271e-05, ...,\n",
       "         -2.1309964e-03,  2.4439683e-03, -1.2721578e-03],\n",
       "        [-3.6610523e-03, -1.5616114e-03, -6.4014539e-04, ...,\n",
       "         -3.3955271e-03,  2.3454854e-03, -1.0978670e-03],\n",
       "        ...,\n",
       "        [ 0.0000000e+00,  0.0000000e+00,  0.0000000e+00, ...,\n",
       "          0.0000000e+00,  0.0000000e+00,  0.0000000e+00],\n",
       "        [ 0.0000000e+00,  0.0000000e+00,  0.0000000e+00, ...,\n",
       "          0.0000000e+00,  0.0000000e+00,  0.0000000e+00],\n",
       "        [ 0.0000000e+00,  0.0000000e+00,  0.0000000e+00, ...,\n",
       "          0.0000000e+00,  0.0000000e+00,  0.0000000e+00]]], dtype=float32)>"
      ]
     },
     "execution_count": 69,
     "metadata": {
      "tags": []
     },
     "output_type": "execute_result"
    }
   ],
   "source": [
    "decoder_model = Decoder(name='decoder')\n",
    "e, g_in = next(iter(train_data.take(1)))\n",
    "h, c = encoder_model(e)\n",
    "g_out, h, c = decoder_model(g_in, h, c)\n",
    "print(g_out.shape, h.shape, c.shape)\n",
    "g_out"
   ]
  },
  {
   "cell_type": "code",
   "execution_count": 70,
   "metadata": {
    "colab": {
     "base_uri": "https://localhost:8080/"
    },
    "id": "YzKn3zy81iIR",
    "outputId": "809cb883-0751-4618-d8c7-49410e658138"
   },
   "outputs": [
    {
     "name": "stdout",
     "output_type": "stream",
     "text": [
      "Model: \"decoder\"\n",
      "_________________________________________________________________\n",
      "Layer (type)                 Output Shape              Param #   \n",
      "=================================================================\n",
      "embedding_layer (Embedding)  multiple                  735232    \n",
      "_________________________________________________________________\n",
      "lstm_layer (LSTM)            multiple                  1312768   \n",
      "_________________________________________________________________\n",
      "dense_layer (Dense)          multiple                  2946672   \n",
      "=================================================================\n",
      "Total params: 4,994,672\n",
      "Trainable params: 4,994,672\n",
      "Non-trainable params: 0\n",
      "_________________________________________________________________\n"
     ]
    }
   ],
   "source": [
    "decoder_model.summary()"
   ]
  },
  {
   "cell_type": "markdown",
   "metadata": {
    "id": "xnBIRDsl1iIS"
   },
   "source": [
    "## 6. Make a custom training loop\n",
    "You should now write a custom training loop to train your custom neural translation model.\n",
    "* Define a function that takes a Tensor batch of German data (as extracted from the training Dataset), and returns a tuple containing German inputs and outputs for the decoder model (refer to schematic diagram above).\n",
    "* Define a function that computes the forward and backward pass for your translation model. This function should take an English input, German input and German output as arguments, and should do the following:\n",
    "    * Pass the English input into the encoder, to get the hidden and cell states of the encoder LSTM.\n",
    "    * These hidden and cell states are then passed into the decoder, along with the German inputs, which returns a sequence of outputs (the hidden and cell state outputs of the decoder LSTM are unused in this function).\n",
    "    * The loss should then be computed between the decoder outputs and the German output function argument.\n",
    "    * The function returns the loss and gradients with respect to the encoder and decoder’s trainable variables.\n",
    "    * Decorate the function with @tf.function\n",
    "* Define and run a custom training loop for a number of epochs (for you to choose) that does the following:\n",
    "    * Iterates through the training dataset, and creates decoder inputs and outputs from the German sequences.\n",
    "    * Updates the parameters of the translation model using the gradients of the function above and an optimizer object.\n",
    "    * Every epoch, compute the validation loss on a number of batches from the validation and save the epoch training and validation losses.\n",
    "* Plot the learning curves for loss vs epoch for both training and validation sets.\n",
    "\n",
    "_Hint: This model is computationally demanding to train. The quality of the model or length of training is not a factor in the grading rubric. However, to obtain a better model we recommend using the GPU accelerator hardware on Colab._"
   ]
  },
  {
   "cell_type": "code",
   "execution_count": 71,
   "metadata": {
    "id": "9Kky-USN1iIS"
   },
   "outputs": [],
   "source": [
    "def get_german_decoder_data(german):\n",
    "    return german[:, :-1], german[:,1:]    "
   ]
  },
  {
   "cell_type": "code",
   "execution_count": 72,
   "metadata": {
    "colab": {
     "base_uri": "https://localhost:8080/"
    },
    "id": "U466zJf81iIS",
    "outputId": "c678a9a7-d04b-45db-bf36-cabf034ccac5"
   },
   "outputs": [
    {
     "name": "stdout",
     "output_type": "stream",
     "text": [
      "(16, 13, 128) (16, 14)\n",
      "(16, 13) (16, 13)\n"
     ]
    }
   ],
   "source": [
    "e, g = next(iter(train_data.take(1)))\n",
    "print(e.shape, g.shape)\n",
    "g_in, g_out = get_german_decoder_data(g)\n",
    "print(g_in.shape, g_out.shape)"
   ]
  },
  {
   "cell_type": "code",
   "execution_count": 73,
   "metadata": {
    "id": "yHzSvMyX1iIS"
   },
   "outputs": [],
   "source": [
    "@tf.function\n",
    "def forward_backward(encoder_model, decoder_model, e, g_in, g_out, loss):\n",
    "    with tf.GradientTape() as tape:\n",
    "        h, c = encoder_model(e)\n",
    "        d_g_out, _, _ = decoder_model(g_in, h, c)\n",
    "        cur_loss = loss(g_out, d_g_out)\n",
    "        grads = tape.gradient(cur_loss, encoder_model.trainable_variables + decoder_model.trainable_variables)\n",
    "    return cur_loss, grads"
   ]
  },
  {
   "cell_type": "code",
   "execution_count": 132,
   "metadata": {
    "id": "YQdqWU9-1iIT"
   },
   "outputs": [],
   "source": [
    "def train_encoder_decoder(encoder_model, decoder_model, num_epochs, train_data, valid_data, valid_steps, \n",
    "                          optimizer, loss, grad_fn):\n",
    "    train_losses = []\n",
    "    val_loasses = []\n",
    "    for epoch in range(num_epochs):\n",
    "        train_epoch_loss_avg = tf.keras.metrics.Mean()\n",
    "        val_epoch_loss_avg = tf.keras.metrics.Mean()\n",
    "        for e, g in train_data:\n",
    "            g_in, g_out = get_german_decoder_data(g)\n",
    "            train_loss, grads = grad_fn(encoder_model, decoder_model, e, g_in, g_out, loss)\n",
    "            optimizer.apply_gradients(zip(grads, encoder_model.trainable_variables + decoder_model.trainable_variables))\n",
    "            train_epoch_loss_avg.update_state(train_loss)    \n",
    "        for e_v, g_v in valid_data.take(valid_steps):\n",
    "            g_v_in, g_v_out = get_german_decoder_data(g_v)\n",
    "            val_loss, _ = grad_fn(encoder_model, decoder_model, e_v, g_v_in, g_v_out, loss)\n",
    "            val_epoch_loss_avg.update_state(val_loss)        \n",
    "        print(f'epoch: {epoch}, train loss: {train_epoch_loss_avg.result()}, validation loss: {val_epoch_loss_avg.result()}')    \n",
    "        train_losses.append(train_epoch_loss_avg.result())\n",
    "        val_loasses.append(val_epoch_loss_avg.result())\n",
    "    return train_losses, val_loasses"
   ]
  },
  {
   "cell_type": "code",
   "execution_count": 140,
   "metadata": {
    "id": "DLZ-yKcG1iIT"
   },
   "outputs": [],
   "source": [
    "optimizer_obj = Adam(learning_rate = 1e-3)\n",
    "loss_obj = SparseCategoricalCrossentropy(from_logits=True)"
   ]
  },
  {
   "cell_type": "code",
   "execution_count": 141,
   "metadata": {
    "colab": {
     "base_uri": "https://localhost:8080/"
    },
    "id": "Al2C4SVI1iIT",
    "outputId": "e00d9ce0-5754-4f5c-ff9a-0420bd390c70"
   },
   "outputs": [
    {
     "name": "stdout",
     "output_type": "stream",
     "text": [
      "epoch: 0, train loss: 4.4570465087890625, validation loss: 4.1102800369262695\n",
      "epoch: 1, train loss: 3.540217399597168, validation loss: 3.36271333694458\n",
      "epoch: 2, train loss: 2.756622076034546, validation loss: 2.7144060134887695\n",
      "epoch: 3, train loss: 2.049957275390625, validation loss: 2.1480133533477783\n",
      "epoch: 4, train loss: 1.4586931467056274, validation loss: 1.7304519414901733\n",
      "epoch: 5, train loss: 1.0423369407653809, validation loss: 1.4607685804367065\n",
      "epoch: 6, train loss: 0.7781839370727539, validation loss: 1.314332127571106\n",
      "epoch: 7, train loss: 0.6160411238670349, validation loss: 1.2391613721847534\n",
      "epoch: 8, train loss: 0.5013922452926636, validation loss: 1.1840368509292603\n",
      "epoch: 9, train loss: 0.424654096364975, validation loss: 1.1716119050979614\n",
      "epoch: 10, train loss: 0.37027251720428467, validation loss: 1.1612160205841064\n",
      "epoch: 11, train loss: 0.3173922598361969, validation loss: 1.1330692768096924\n",
      "epoch: 12, train loss: 0.2803193926811218, validation loss: 1.1394184827804565\n",
      "epoch: 13, train loss: 0.24854864180088043, validation loss: 1.1354353427886963\n",
      "epoch: 14, train loss: 0.22135266661643982, validation loss: 1.1059410572052002\n",
      "epoch: 15, train loss: 0.2019050121307373, validation loss: 1.1111358404159546\n",
      "epoch: 16, train loss: 0.1840481162071228, validation loss: 1.1081823110580444\n",
      "epoch: 17, train loss: 0.17126116156578064, validation loss: 1.125329852104187\n",
      "epoch: 18, train loss: 0.15828527510166168, validation loss: 1.0979799032211304\n",
      "epoch: 19, train loss: 0.14451280236244202, validation loss: 1.0899451971054077\n"
     ]
    }
   ],
   "source": [
    "train_loss_results, valid_loss_results = train_encoder_decoder(encoder_model, decoder_model, 20, train_data, valid_data, 20,\n",
    "                                                          optimizer_obj, loss_obj, forward_backward)"
   ]
  },
  {
   "cell_type": "code",
   "execution_count": 144,
   "metadata": {
    "colab": {
     "base_uri": "https://localhost:8080/",
     "height": 408
    },
    "id": "FexKX8m81iIT",
    "outputId": "c0aeb461-9cb3-4898-aacf-cd5aa7727d37"
   },
   "outputs": [
    {
     "data": {
      "image/png": "[encoded data removed]",
      "text/plain": [
       "<Figure size 720x432 with 1 Axes>"
      ]
     },
     "metadata": {
      "needs_background": "light",
      "tags": []
     },
     "output_type": "display_data"
    }
   ],
   "source": [
    "import matplotlib.pyplot as plt\n",
    "plt.figure(figsize=(10,6))\n",
    "plt.xlabel(\"Epochs\", fontsize=14)\n",
    "plt.ylabel(\"Loss\", fontsize=14)\n",
    "plt.title('Loss vs epochs')\n",
    "plt.plot(train_loss_results, label='train')\n",
    "plt.plot(valid_loss_results, label='valid')\n",
    "plt.legend()\n",
    "plt.show()"
   ]
  },
  {
   "cell_type": "markdown",
   "metadata": {
    "id": "n52y-NSr1iIT"
   },
   "source": [
    "## 7. Use the model to translate\n",
    "Now it's time to put your model into practice! You should run your translation for five randomly sampled English sentences from the dataset. For each sentence, the process is as follows:\n",
    "* Preprocess and embed the English sentence according to the model requirements.\n",
    "* Pass the embedded sentence through the encoder to get the encoder hidden and cell states.\n",
    "* Starting with the special  `\"<start>\"` token, use this token and the final encoder hidden and cell states to get the one-step prediction from the decoder, as well as the decoder’s updated hidden and cell states.\n",
    "* Create a loop to get the next step prediction and updated hidden and cell states from the decoder, using the most recent hidden and cell states. Terminate the loop when the `\"<end>\"` token is emitted, or when the sentence has reached a maximum length.\n",
    "* Decode the output token sequence into German text and print the English text and the model's German translation."
   ]
  },
  {
   "cell_type": "code",
   "execution_count": 145,
   "metadata": {
    "colab": {
     "base_uri": "https://localhost:8080/"
    },
    "id": "7_97z9TywH4M",
    "outputId": "f45dbe64-05ba-4b69-9230-8d9d39f36f69"
   },
   "outputs": [
    {
     "name": "stdout",
     "output_type": "stream",
     "text": [
      "TensorSpec(shape=(None, 128), dtype=tf.float32, name=None)\n"
     ]
    }
   ],
   "source": [
    "n = 5\n",
    "indices = np.random.choice(len(english_sentences), 5)\n",
    "test_data = tf.data.Dataset.from_tensor_slices(np.array([english_sentences[i] for i in indices]))\n",
    "test_data = test_data.map(tf.strings.split)\n",
    "test_data = test_data.map(embedding_layer)\n",
    "test_data = test_data.filter(lambda x: tf.shape(x)[0] <= 13)\n",
    "test_data = test_data.map(lambda x: tf.pad(x, paddings = [[13-tf.shape(x)[0],0], [0,0]], mode='CONSTANT', constant_values=0))\n",
    "print(test_data.element_spec)"
   ]
  },
  {
   "cell_type": "code",
   "execution_count": 146,
   "metadata": {
    "colab": {
     "base_uri": "https://localhost:8080/"
    },
    "id": "zdlknsbe1iIU",
    "outputId": "560d420f-e558-4f3c-de40-8563198e8ca3"
   },
   "outputs": [
    {
     "name": "stdout",
     "output_type": "stream",
     "text": [
      "English Text: i'll see tom .\n",
      "German Translation: <start> ich werde tom folgen . <end>\n",
      "\n",
      "English Text: you're not alone .\n",
      "German Translation: <start> keine nicht allein . <end>\n",
      "\n",
      "English Text: what a hypocrite !\n",
      "German Translation: <start> fuer ein idiot ! <end>\n",
      "\n",
      "English Text: he kept talking .\n",
      "German Translation: <start> sie hat ihn erwuergt . <end>\n",
      "\n",
      "English Text: tom's in charge .\n",
      "German Translation: <start> tom ist im bett . <end>\n",
      "\n"
     ]
    }
   ],
   "source": [
    "i = 0\n",
    "start_token = np.array(tokenizer.texts_to_sequences(['<start>']))\n",
    "end_token = np.array(tokenizer.texts_to_sequences(['<end>']))\n",
    "for e, i in zip(test_data.take(n), indices):\n",
    "    h, c = encoder_model(tf.expand_dims(e, axis=0))\n",
    "    g_t = []\n",
    "    g_in = start_token\n",
    "    g_out, h, c = decoder_model(g_in, h, c)\n",
    "    g_t.append('<start>')\n",
    "    g_out = tf.argmax(g_out, axis=2)\n",
    "    while g_out != end_token: \n",
    "        g_out, h, c = decoder_model(g_in, h, c)\n",
    "        g_out = tf.argmax(g_out, axis=2)\n",
    "        g_in = g_out\n",
    "        g_t.append(tokenizer.index_word.get(tf.squeeze(g_out).numpy(), 'UNK'))\n",
    "    print(f'English Text: {english_sentences[i]}')\n",
    "    print(f'German Translation: {\" \".join(g_t)}')\n",
    "    print()"
   ]
  },
  {
   "cell_type": "code",
   "execution_count": 97,
   "metadata": {},
   "outputs": [
    {
     "name": "stdout",
     "output_type": "stream",
     "text": [
      "[\"i'll\", 'see', 'tom', '.']\n",
      "['<start>', 'ich', 'werde', 'tom', 'folgen', '.', '<end>']\n"
     ]
    }
   ],
   "source": [
    "import numpy as np\n",
    "import matplotlib.pylab as plt\n",
    "from skimage.io import imread\n",
    "\n",
    "def save_image(e, g, gp, epochs, losses, vlosses):\n",
    "\n",
    "    ex = [195, 275, 355, 435]\n",
    "    ey = 570\n",
    "\n",
    "    dx = 605\n",
    "    dy = 165\n",
    "    \n",
    "    ox = 1200\n",
    "    oy = 500\n",
    "    ty = 600\n",
    "\n",
    "    e = e.split()\n",
    "    g = g.split()\n",
    "    gp = gp.split()\n",
    "    print(e)\n",
    "    print(g)\n",
    "\n",
    "    for j in range(len(g)):\n",
    "        dx = 605\n",
    "        im = imread('f.png')\n",
    "        plt.figure(figsize=(10.50, 10.00), dpi=100)\n",
    "        plt.imshow(im)\n",
    "        plt.axis('off')\n",
    "        for i in range(len(e)):\n",
    "            plt.text(ex[i], ey, e[i], rotation=90)\n",
    "        for i in range(j):\n",
    "            plt.text(dx, dy, g[i+1], rotation=90)\n",
    "            plt.text(dx, ey, g[i], rotation=90)\n",
    "            dx += 80\n",
    "        \n",
    "        #plt.text(ox, 20, 'Loss vs. Epochs (Epoch={})'.format(j), fontsize=20)\n",
    "        #plt.text(ox-50, 100, 'Loss', fontsize=15, rotation=90)\n",
    "        #plt.text(ox+500, oy+5, 'Epoch', fontsize=15)\n",
    "        #plt.plot(ox + epochs[:j+1]*60, oy-losses[:j+1]*60)\n",
    "        #plt.plot(ox + epochs[:j+1]*60, oy-vlosses[:j+1]*60)\n",
    "        #plt.hlines(oy, ox - 20, ox + 500, 'k')\n",
    "        #plt.vlines(ox - 20, 50, oy, 'k')\n",
    "        #plt.hlines(50, ox+400, ox+420, 'b')\n",
    "        #plt.hlines(70, ox+400, ox+420, 'orange')\n",
    "        #plt.text(ox-40, oy+5, 'O', fontsize=10)\n",
    "        #plt.text(ox+425, 55, 'training', fontsize=10)\n",
    "        #plt.text(ox+425, 75, 'validation', fontsize=10)\n",
    "        plt.text(100, 800, 'English: {}'.format(' '.join(e)), fontsize=15)\n",
    "        plt.text(100, 840, 'German: {}'.format(' '.join(g)), fontsize=15)\n",
    "        plt.text(100, 880, 'Pred: {}'.format(' '.join(g[:j+1])), fontsize=15)\n",
    "        plt.title('Training Epoch={}'.format(len(epochs)), size=25)\n",
    "        plt.subplots_adjust(0,0,1,1,0,0)            \n",
    "        plt.savefig('out/epoch{:02d}_{:03d}.png'.format(len(epochs), j))\n",
    "        plt.close()\n",
    "\n",
    "e = 'i\\'ll see tom .'\n",
    "g = '<start> ich werde tom folgen . <end>'\n",
    "gp = '<start> ich werde tom folgen . <end>'\n",
    "n = 10\n",
    "epochs = np.arange(n)\n",
    "losses = np.linspace(6,0,n)\n",
    "vlosses = np.linspace(6,0,n) + np.random.rand(n)\n",
    "save_image(e, g, gp, epochs, losses, vlosses)    "
   ]
  },
  {
   "cell_type": "code",
   "execution_count": null,
   "metadata": {},
   "outputs": [],
   "source": []
  }
 ],
 "metadata": {
  "accelerator": "GPU",
  "colab": {
   "collapsed_sections": [],
   "name": "Capstone Project.ipynb",
   "provenance": []
  },
  "kernelspec": {
   "display_name": "Python 3",
   "language": "python",
   "name": "python3"
  },
  "language_info": {
   "codemirror_mode": {
    "name": "ipython",
    "version": 3
   },
   "file_extension": ".py",
   "mimetype": "text/x-python",
   "name": "python",
   "nbconvert_exporter": "python",
   "pygments_lexer": "ipython3",
   "version": "3.7.6"
  }
 },
 "nbformat": 4,
 "nbformat_minor": 1
}
