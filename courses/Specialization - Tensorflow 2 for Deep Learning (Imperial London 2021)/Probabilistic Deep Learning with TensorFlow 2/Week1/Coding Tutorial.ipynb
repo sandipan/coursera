{
 "cells": [
  {
   "cell_type": "code",
   "execution_count": 1,
   "metadata": {},
   "outputs": [
    {
     "name": "stdout",
     "output_type": "stream",
     "text": [
      "TF version: 2.1.0\n",
      "TFP version: 0.9.0\n"
     ]
    }
   ],
   "source": [
    "import tensorflow as tf\n",
    "import tensorflow_probability as tfp\n",
    "tfd = tfp.distributions\n",
    "\n",
    "print(\"TF version:\", tf.__version__)\n",
    "print(\"TFP version:\", tfp.__version__)"
   ]
  },
  {
   "cell_type": "code",
   "execution_count": 2,
   "metadata": {},
   "outputs": [],
   "source": [
    "# Additional imports and setting fixed random seed to have reproducibility\n",
    "\n",
    "import matplotlib.pyplot as plt\n",
    "import numpy as np\n",
    "tf.random.set_seed(123)"
   ]
  },
  {
   "cell_type": "markdown",
   "metadata": {},
   "source": [
    "# Tensorflow Distributions"
   ]
  },
  {
   "cell_type": "markdown",
   "metadata": {},
   "source": [
    "## Coding Tutorials\n",
    "#### 1. [Univariate Distributions](#univariate_distributions)\n",
    "#### 2. [Multivariate Distributions](#multivariate_distributions)\n",
    "#### 3. [The Independent Distribution](#the_independent_distribution)\n",
    "#### 4. [Sampling and log probs](#sampling_and_log_probs)\n",
    "#### 5. [Trainable Distributions](#trainable_distributions)"
   ]
  },
  {
   "cell_type": "markdown",
   "metadata": {},
   "source": [
    "***\n",
    "## Univariate distributions\n",
    "<a id='univariate_distributions'></a>"
   ]
  },
  {
   "cell_type": "code",
   "execution_count": 3,
   "metadata": {},
   "outputs": [
    {
     "data": {
      "text/plain": [
       "<tfp.distributions.Normal 'Normal' batch_shape=[] event_shape=[] dtype=float32>"
      ]
     },
     "execution_count": 3,
     "metadata": {},
     "output_type": "execute_result"
    }
   ],
   "source": [
    "# Create a normal distribution from Tensorflow Distributions\n",
    "normal = tfd.Normal(loc=0, scale=1)\n",
    "normal"
   ]
  },
  {
   "cell_type": "code",
   "execution_count": 4,
   "metadata": {},
   "outputs": [
    {
     "data": {
      "text/plain": [
       "<tf.Tensor: shape=(), dtype=float32, numpy=-0.8980837>"
      ]
     },
     "execution_count": 4,
     "metadata": {},
     "output_type": "execute_result"
    }
   ],
   "source": [
    "# Sample from the chosen distribution...\n",
    "normal.sample()"
   ]
  },
  {
   "cell_type": "code",
   "execution_count": 14,
   "metadata": {},
   "outputs": [
    {
     "data": {
      "text/plain": [
       "<tf.Tensor: shape=(10,), dtype=float32, numpy=\n",
       "array([ 0.33875433,  0.3449861 , -0.6605785 , -0.2854994 ,  0.43852386,\n",
       "        0.8288566 , -0.53591555, -0.5353483 , -1.0324248 , -2.942705  ],\n",
       "      dtype=float32)>"
      ]
     },
     "execution_count": 14,
     "metadata": {},
     "output_type": "execute_result"
    }
   ],
   "source": [
    "normal.sample(10)"
   ]
  },
  {
   "cell_type": "code",
   "execution_count": 8,
   "metadata": {},
   "outputs": [
    {
     "data": {
      "text/plain": [
       "<tfp.distributions.Normal 'Normal' batch_shape=[2] event_shape=[] dtype=float32>"
      ]
     },
     "execution_count": 8,
     "metadata": {},
     "output_type": "execute_result"
    }
   ],
   "source": [
    "# ... or sample multiple times\n",
    "batch_of_normals"
   ]
  },
  {
   "cell_type": "code",
   "execution_count": 15,
   "metadata": {},
   "outputs": [
    {
     "data": {
      "text/plain": [
       "<tf.Tensor: shape=(), dtype=float32, numpy=0.3989423>"
      ]
     },
     "execution_count": 15,
     "metadata": {},
     "output_type": "execute_result"
    }
   ],
   "source": [
    "# Obtain value of probability's density\n",
    "normal.prob(0)"
   ]
  },
  {
   "cell_type": "code",
   "execution_count": 18,
   "metadata": {},
   "outputs": [
    {
     "data": {
      "text/plain": [
       "0.3989422804014327"
      ]
     },
     "execution_count": 18,
     "metadata": {},
     "output_type": "execute_result"
    }
   ],
   "source": [
    "1/np.sqrt(2*np.pi)"
   ]
  },
  {
   "cell_type": "code",
   "execution_count": 16,
   "metadata": {},
   "outputs": [
    {
     "data": {
      "text/plain": [
       "<tf.Tensor: shape=(), dtype=float32, numpy=-0.9189385>"
      ]
     },
     "execution_count": 16,
     "metadata": {},
     "output_type": "execute_result"
    }
   ],
   "source": [
    "# Obtain value of logprobability\n",
    "normal.log_prob(0)"
   ]
  },
  {
   "cell_type": "code",
   "execution_count": 17,
   "metadata": {},
   "outputs": [
    {
     "data": {
      "text/plain": [
       "-0.9189385"
      ]
     },
     "execution_count": 17,
     "metadata": {},
     "output_type": "execute_result"
    }
   ],
   "source": [
    "# Verify that this really is the log of the probability\n",
    "np.log(normal.prob(0))"
   ]
  },
  {
   "cell_type": "code",
   "execution_count": 19,
   "metadata": {},
   "outputs": [
    {
     "data": {
      "image/png": "[encoded data removed]",
      "text/plain": [
       "<Figure size 432x288 with 1 Axes>"
      ]
     },
     "metadata": {
      "needs_background": "light"
     },
     "output_type": "display_data"
    }
   ],
   "source": [
    "# Plot a histogram, approximating the density\n",
    "\n",
    "plt.hist(normal.sample(10000), bins=50, density=True)\n",
    "plt.show()"
   ]
  },
  {
   "cell_type": "code",
   "execution_count": 20,
   "metadata": {},
   "outputs": [
    {
     "data": {
      "image/png": "[encoded data removed]",
      "text/plain": [
       "<Figure size 432x288 with 1 Axes>"
      ]
     },
     "metadata": {
      "needs_background": "light"
     },
     "output_type": "display_data"
    }
   ],
   "source": [
    "# Do the same for the exponential distribution\n",
    "exponential = tfd.Exponential(rate=1)\n",
    "plt.hist(exponential.sample(10000), bins=50, density=True)\n",
    "plt.show()"
   ]
  },
  {
   "cell_type": "code",
   "execution_count": 22,
   "metadata": {},
   "outputs": [
    {
     "data": {
      "text/plain": [
       "<tf.Tensor: shape=(), dtype=float32, numpy=0.03463974>"
      ]
     },
     "execution_count": 22,
     "metadata": {},
     "output_type": "execute_result"
    }
   ],
   "source": [
    "# Sample as before\n",
    "exponential.sample()"
   ]
  },
  {
   "cell_type": "code",
   "execution_count": 23,
   "metadata": {},
   "outputs": [
    {
     "data": {
      "text/plain": [
       "<tf.Tensor: shape=(20,), dtype=int32, numpy=\n",
       "array([1, 0, 1, 1, 1, 1, 0, 1, 1, 0, 1, 1, 1, 1, 1, 1, 1, 1, 0, 0],\n",
       "      dtype=int32)>"
      ]
     },
     "execution_count": 23,
     "metadata": {},
     "output_type": "execute_result"
    }
   ],
   "source": [
    "# Create a Bernoulli distribution (discrete)\n",
    "bernoulli = tfd.Bernoulli(probs=0.8)\n",
    "bernoulli.sample(20)"
   ]
  },
  {
   "cell_type": "markdown",
   "metadata": {},
   "source": [
    "#### A word of caution on discrete distributions"
   ]
  },
  {
   "cell_type": "code",
   "execution_count": 25,
   "metadata": {},
   "outputs": [
    {
     "name": "stdout",
     "output_type": "stream",
     "text": [
      "prob result 0.19999998807907104 for k = 0 \n",
      "prob result 0.3999999761581421 for k = 0.5 \n",
      "prob result 0.800000011920929 for k = 1 \n",
      "prob result 0.04999999701976776 for k = -1 \n"
     ]
    }
   ],
   "source": [
    "# Calculate Bernoulli prob and see that 0.5 and -1 do not give the correct probability!\n",
    "\n",
    "for k in [0,0.5,1,-1]:\n",
    "    print('prob result {} for k = {} '.format(bernoulli.prob(k), k))"
   ]
  },
  {
   "cell_type": "code",
   "execution_count": 26,
   "metadata": {},
   "outputs": [],
   "source": [
    "# Replicate the scores to see what is occurring under the hood\n",
    "\n",
    "def my_bernoulli(p_success, k):\n",
    "    return np.power(p_success,k)*np.power((1-p_success),(1-k))"
   ]
  },
  {
   "cell_type": "code",
   "execution_count": 28,
   "metadata": {},
   "outputs": [
    {
     "name": "stdout",
     "output_type": "stream",
     "text": [
      "prob result 0.19999999999999996 for k = 0 \n",
      "prob result 0.3999999999999999 for k = 0.5 \n",
      "prob result 0.8 for k = 1 \n",
      "prob result 0.049999999999999975 for k = -1 \n"
     ]
    }
   ],
   "source": [
    "# Evaluate it as before\n",
    "\n",
    "for k in [0,0.5,1,-1]:\n",
    "    print('prob result {} for k = {} '.format(my_bernoulli(0.8, k), k))"
   ]
  },
  {
   "cell_type": "markdown",
   "metadata": {},
   "source": [
    "#### Work with batch distributions"
   ]
  },
  {
   "cell_type": "code",
   "execution_count": 29,
   "metadata": {},
   "outputs": [
    {
     "data": {
      "text/plain": [
       "<tfp.distributions.Bernoulli 'Bernoulli' batch_shape=[5] event_shape=[] dtype=int32>"
      ]
     },
     "execution_count": 29,
     "metadata": {},
     "output_type": "execute_result"
    }
   ],
   "source": [
    "# Create a batched Bernoulli distribution\n",
    "\n",
    "bernoulli_batch = tfd.Bernoulli(probs=[0.1, 0.25, 0.5, 0.75, 0.9])\n",
    "bernoulli_batch"
   ]
  },
  {
   "cell_type": "code",
   "execution_count": 30,
   "metadata": {},
   "outputs": [
    {
     "data": {
      "text/plain": [
       "<tf.Tensor: shape=(10, 5), dtype=int32, numpy=\n",
       "array([[0, 0, 1, 0, 1],\n",
       "       [0, 0, 1, 0, 1],\n",
       "       [0, 0, 1, 1, 1],\n",
       "       [0, 0, 1, 1, 1],\n",
       "       [0, 0, 1, 1, 0],\n",
       "       [0, 1, 0, 1, 1],\n",
       "       [0, 0, 1, 0, 0],\n",
       "       [0, 1, 1, 0, 1],\n",
       "       [0, 0, 0, 1, 1],\n",
       "       [0, 0, 0, 1, 1]], dtype=int32)>"
      ]
     },
     "execution_count": 30,
     "metadata": {},
     "output_type": "execute_result"
    }
   ],
   "source": [
    "# Sample from it, noting the shape\n",
    "bernoulli_batch.sample(10)"
   ]
  },
  {
   "cell_type": "code",
   "execution_count": 31,
   "metadata": {},
   "outputs": [
    {
     "data": {
      "text/plain": [
       "<tfp.distributions.Bernoulli 'Bernoulli' batch_shape=[1, 3, 2] event_shape=[] dtype=int32>"
      ]
     },
     "execution_count": 31,
     "metadata": {},
     "output_type": "execute_result"
    }
   ],
   "source": [
    "# Use a batch shape with higher rank\n",
    "\n",
    "probs = [[[0.5, 0.5], \n",
    "          [0.8, 0.3], \n",
    "          [0.25, 0.75]]]\n",
    "bernoulli_batch_2D = tfd.Bernoulli(probs=probs)\n",
    "bernoulli_batch_2D"
   ]
  },
  {
   "cell_type": "code",
   "execution_count": 32,
   "metadata": {},
   "outputs": [
    {
     "data": {
      "text/plain": [
       "<tf.Tensor: shape=(5, 1, 3, 2), dtype=int32, numpy=\n",
       "array([[[[0, 1],\n",
       "         [1, 1],\n",
       "         [1, 1]]],\n",
       "\n",
       "\n",
       "       [[[1, 0],\n",
       "         [1, 0],\n",
       "         [0, 1]]],\n",
       "\n",
       "\n",
       "       [[[1, 0],\n",
       "         [1, 1],\n",
       "         [0, 1]]],\n",
       "\n",
       "\n",
       "       [[[1, 1],\n",
       "         [1, 0],\n",
       "         [0, 1]]],\n",
       "\n",
       "\n",
       "       [[[1, 0],\n",
       "         [1, 0],\n",
       "         [0, 1]]]], dtype=int32)>"
      ]
     },
     "execution_count": 32,
     "metadata": {},
     "output_type": "execute_result"
    }
   ],
   "source": [
    "# Sample from this batch of distributions\n",
    "bernoulli_batch_2D.sample(5)"
   ]
  },
  {
   "cell_type": "code",
   "execution_count": 33,
   "metadata": {},
   "outputs": [
    {
     "data": {
      "text/plain": [
       "<tf.Tensor: shape=(1, 3, 2), dtype=float32, numpy=\n",
       "array([[[0.5       , 0.5       ],\n",
       "        [0.19999999, 0.7       ],\n",
       "        [0.25      , 0.75      ]]], dtype=float32)>"
      ]
     },
     "execution_count": 33,
     "metadata": {},
     "output_type": "execute_result"
    }
   ],
   "source": [
    "# Determine probabilities from this batch distribution\n",
    "\n",
    "bernoulli_batch_2D.prob([[[1, 0], \n",
    "                         [0, 0], \n",
    "                         [1, 1]]])"
   ]
  },
  {
   "cell_type": "markdown",
   "metadata": {},
   "source": [
    "***\n",
    "<a id='multivariate_distributions'></a>\n",
    "## Multivariate Distributions\n"
   ]
  },
  {
   "cell_type": "markdown",
   "metadata": {},
   "source": [
    "#### Basic multivariate distributions"
   ]
  },
  {
   "cell_type": "code",
   "execution_count": 41,
   "metadata": {},
   "outputs": [
    {
     "data": {
      "text/plain": [
       "<tfp.distributions.MultivariateNormalDiag 'MultivariateNormalDiag' batch_shape=[] event_shape=[2] dtype=float32>"
      ]
     },
     "execution_count": 41,
     "metadata": {},
     "output_type": "execute_result"
    }
   ],
   "source": [
    "# Define 2D multivariate Gaussian with diagonal covariance matrix\n",
    "normal_diag = tfd.MultivariateNormalDiag(loc = [-1,1], scale_diag = [1,0.5])\n",
    "normal_diag"
   ]
  },
  {
   "cell_type": "code",
   "execution_count": 43,
   "metadata": {},
   "outputs": [
    {
     "data": {
      "text/plain": [
       "<tf.Tensor: shape=(5, 2), dtype=float32, numpy=\n",
       "array([[-1.4895833 ,  1.4723915 ],\n",
       "       [-1.5054669 ,  0.9982698 ],\n",
       "       [ 0.30087698,  1.1925977 ],\n",
       "       [-3.9889584 ,  1.3131568 ],\n",
       "       [-1.8891398 ,  1.2367319 ]], dtype=float32)>"
      ]
     },
     "execution_count": 43,
     "metadata": {},
     "output_type": "execute_result"
    }
   ],
   "source": [
    "normal_diag.sample(5)"
   ]
  },
  {
   "cell_type": "code",
   "execution_count": 45,
   "metadata": {},
   "outputs": [
    {
     "data": {
      "image/png": "[encoded data removed]",
      "text/plain": [
       "<Figure size 432x288 with 1 Axes>"
      ]
     },
     "metadata": {
      "needs_background": "light"
     },
     "output_type": "display_data"
    }
   ],
   "source": [
    "# Make a plot\n",
    "\n",
    "plt_sample = normal_diag.sample(10000)\n",
    "plt.scatter(plt_sample[:, 0], plt_sample[:, 1], marker='.', alpha=0.05)\n",
    "plt.axis('equal')\n",
    "plt.show()"
   ]
  },
  {
   "cell_type": "markdown",
   "metadata": {},
   "source": [
    "#### Batches of multivariate distributions"
   ]
  },
  {
   "cell_type": "code",
   "execution_count": 46,
   "metadata": {},
   "outputs": [
    {
     "data": {
      "text/plain": [
       "<tfp.distributions.MultivariateNormalDiag 'MultivariateNormalDiag' batch_shape=[3] event_shape=[2] dtype=float32>"
      ]
     },
     "execution_count": 46,
     "metadata": {},
     "output_type": "execute_result"
    }
   ],
   "source": [
    "# Create three \"batches\" of multivariate normals\n",
    "normal_diag_batch = tfd.MultivariateNormalDiag(loc = [[0,0],[0,0],[0,0]], scale_diag = [[1,2],[2,1],[2,2]])\n",
    "normal_diag_batch"
   ]
  },
  {
   "cell_type": "code",
   "execution_count": 47,
   "metadata": {},
   "outputs": [
    {
     "data": {
      "text/plain": [
       "<tf.Tensor: shape=(5, 3, 2), dtype=float32, numpy=\n",
       "array([[[-1.1651201 , -0.64370716],\n",
       "        [ 0.84133923, -1.8989996 ],\n",
       "        [ 0.7882074 , -0.04263435]],\n",
       "\n",
       "       [[-0.23954919,  0.04739967],\n",
       "        [ 5.0235534 , -0.523273  ],\n",
       "        [ 0.1941957 ,  1.6896133 ]],\n",
       "\n",
       "       [[ 0.26128542,  0.76616985],\n",
       "        [ 1.2752818 ,  0.5395389 ],\n",
       "        [-0.69422597, -0.5495769 ]],\n",
       "\n",
       "       [[ 1.809224  , -2.3915994 ],\n",
       "        [-2.06593   , -0.9546215 ],\n",
       "        [ 2.7072544 , -0.01366107]],\n",
       "\n",
       "       [[ 1.1137108 , -1.4365606 ],\n",
       "        [ 0.5901614 , -1.0590994 ],\n",
       "        [-1.0582151 , -1.8864738 ]]], dtype=float32)>"
      ]
     },
     "execution_count": 47,
     "metadata": {},
     "output_type": "execute_result"
    }
   ],
   "source": [
    "# Sample from it\n",
    "samples = normal_diag_batch.sample(5)\n",
    "samples"
   ]
  },
  {
   "cell_type": "code",
   "execution_count": 48,
   "metadata": {},
   "outputs": [
    {
     "data": {
      "text/plain": [
       "<tf.Tensor: shape=(5, 3), dtype=float32, numpy=\n",
       "array([[-3.2615716, -4.4226055, -3.3020575],\n",
       "       [-2.559997 , -5.8224425, -3.5857346],\n",
       "       [-2.6385362, -2.8798683, -3.3221695],\n",
       "       [-4.8826385, -3.5201836, -4.140348 ],\n",
       "       [-3.4091635, -3.1354063, -3.8089967]], dtype=float32)>"
      ]
     },
     "execution_count": 48,
     "metadata": {},
     "output_type": "execute_result"
    }
   ],
   "source": [
    "# Compute log probs\n",
    "normal_diag_batch.log_prob(samples)"
   ]
  },
  {
   "cell_type": "code",
   "execution_count": 49,
   "metadata": {},
   "outputs": [
    {
     "data": {
      "text/plain": [
       "TensorShape([10000, 3, 2])"
      ]
     },
     "execution_count": 49,
     "metadata": {},
     "output_type": "execute_result"
    }
   ],
   "source": [
    "# Create a sample for a plot -- notice the shape\n",
    "plt_sample_batch = normal_diag_batch.sample(10000)\n",
    "plt_sample_batch.shape"
   ]
  },
  {
   "cell_type": "code",
   "execution_count": 50,
   "metadata": {},
   "outputs": [
    {
     "data": {
      "image/png": "[encoded data removed]",
      "text/plain": [
       "<Figure size 720x216 with 3 Axes>"
      ]
     },
     "metadata": {
      "needs_background": "light"
     },
     "output_type": "display_data"
    }
   ],
   "source": [
    "# Plot samples from the batched multivariate Gaussian\n",
    "\n",
    "fig, axs = (plt.subplots(1, 3, sharex=True, sharey=True, figsize=(10, 3)))\n",
    "titles = ['cov_diag=[1, 2]','cov_diag=[2, 1]', 'cov_diag=[2, 2]']\n",
    "\n",
    "for i, (ax, title) in enumerate(zip(axs,titles)):\n",
    "    samples = plt_sample_batch[:,i,:] #take the ith batch [samples x event_shape]\n",
    "    ax.scatter(samples[:, 0], samples[:, 1], marker='.', alpha=0.05)\n",
    "    ax.set_title(title)\n",
    "plt.show()"
   ]
  },
  {
   "cell_type": "markdown",
   "metadata": {},
   "source": [
    "\n",
    "\n",
    "***\n",
    "<a id='the_independent_distribution'></a>\n",
    "## The Independent Distribution"
   ]
  },
  {
   "cell_type": "code",
   "execution_count": 54,
   "metadata": {},
   "outputs": [
    {
     "data": {
      "text/plain": [
       "<tfp.distributions.Normal 'Normal' batch_shape=[2] event_shape=[] dtype=float32>"
      ]
     },
     "execution_count": 54,
     "metadata": {},
     "output_type": "execute_result"
    }
   ],
   "source": [
    "# Start by defining a batch of two univariate Gaussians, then\n",
    "# combine them into a bivariate Gaussian with independent components\n",
    "batch_of_normals = tfd.Normal(loc=[-1,1], scale=[.5,1])\n",
    "batch_of_normals"
   ]
  },
  {
   "cell_type": "code",
   "execution_count": 55,
   "metadata": {},
   "outputs": [
    {
     "data": {
      "image/png": "[encoded data removed]",
      "text/plain": [
       "<Figure size 432x288 with 1 Axes>"
      ]
     },
     "metadata": {
      "needs_background": "light"
     },
     "output_type": "display_data"
    }
   ],
   "source": [
    "# Univariate density functions\n",
    "\n",
    "import seaborn as sns\n",
    "\n",
    "t = np.linspace(-4, 4, 10000)\n",
    "densities = batch_of_normals.prob(np.repeat(t[:, np.newaxis], 2, axis=1)) # each column is a vector of densities for one distn\n",
    "\n",
    "sns.lineplot(t, densities[:, 0], label='loc={}, scale={}'.format(locs[0], scales[0]))\n",
    "sns.lineplot(t, densities[:, 1], label='loc={}, scale={}'.format(locs[1], scales[1]))\n",
    "plt.ylabel('Probability density')\n",
    "plt.xlabel('Value')\n",
    "plt.legend()\n",
    "plt.show()"
   ]
  },
  {
   "cell_type": "code",
   "execution_count": 53,
   "metadata": {},
   "outputs": [
    {
     "data": {
      "text/plain": [
       "((10000, 2), TensorShape([10000, 2]))"
      ]
     },
     "execution_count": 53,
     "metadata": {},
     "output_type": "execute_result"
    }
   ],
   "source": [
    "np.repeat(t[:,np.newaxis], 2, axis=1).shape, densities.shape"
   ]
  },
  {
   "cell_type": "code",
   "execution_count": 56,
   "metadata": {},
   "outputs": [
    {
     "data": {
      "text/plain": [
       "<tfp.distributions.Normal 'Normal' batch_shape=[2] event_shape=[] dtype=float32>"
      ]
     },
     "execution_count": 56,
     "metadata": {},
     "output_type": "execute_result"
    }
   ],
   "source": [
    "# Check their batch_shape and event_shape\n",
    "\n",
    "batch_of_normals"
   ]
  },
  {
   "cell_type": "code",
   "execution_count": 62,
   "metadata": {},
   "outputs": [],
   "source": [
    "# Use Independent to convert the batch shape to the event shape\n",
    "bivariate_normal_from_Independent = tfd.Independent(batch_of_normals, reinterpreted_batch_ndims=1)"
   ]
  },
  {
   "cell_type": "code",
   "execution_count": 63,
   "metadata": {},
   "outputs": [
    {
     "data": {
      "text/plain": [
       "<tfp.distributions.Independent 'IndependentNormal' batch_shape=[] event_shape=[2] dtype=float32>"
      ]
     },
     "execution_count": 63,
     "metadata": {},
     "output_type": "execute_result"
    }
   ],
   "source": [
    "# Note that dimension from batch_shape has shifted to event_shape\n",
    "bivariate_normal_from_Independent"
   ]
  },
  {
   "cell_type": "code",
   "execution_count": 64,
   "metadata": {},
   "outputs": [
    {
     "data": {
      "text/plain": [
       "<seaborn.axisgrid.JointGrid at 0x7f5f78067128>"
      ]
     },
     "execution_count": 64,
     "metadata": {},
     "output_type": "execute_result"
    },
    {
     "data": {
      "image/png": "[encoded data removed]",
      "text/plain": [
       "<Figure size 432x432 with 3 Axes>"
      ]
     },
     "metadata": {
      "needs_background": "light"
     },
     "output_type": "display_data"
    }
   ],
   "source": [
    "# Create a plot showing joint density contours and marginal density functions\n",
    "\n",
    "samples = bivariate_normal_from_Independent.sample(10000)\n",
    "x1 = samples[:, 0]\n",
    "x2 = samples[:, 1]\n",
    "sns.jointplot(x1, x2, kind=\"kde\", space=0, color='b', xlim=[-4, 4], ylim=[-4, 4])"
   ]
  },
  {
   "cell_type": "code",
   "execution_count": 65,
   "metadata": {},
   "outputs": [
    {
     "data": {
      "text/plain": [
       "<tfp.distributions.MultivariateNormalDiag 'MultivariateNormalDiag' batch_shape=[] event_shape=[2] dtype=float32>"
      ]
     },
     "execution_count": 65,
     "metadata": {},
     "output_type": "execute_result"
    }
   ],
   "source": [
    "# Use MultivariateNormalDiag to create the equivalent distribution\n",
    "# Note that diagonal covariance matrix => no correlation => independence (for the multivariate normal distribution)\n",
    "bivariate_normal_from_Multivariate = tfd.MultivariateNormalDiag(loc=[-1,1], scale_diag=[.5,1])\n",
    "bivariate_normal_from_Multivariate"
   ]
  },
  {
   "cell_type": "code",
   "execution_count": 66,
   "metadata": {},
   "outputs": [
    {
     "data": {
      "text/plain": [
       "<seaborn.axisgrid.JointGrid at 0x7f5f34075a90>"
      ]
     },
     "execution_count": 66,
     "metadata": {},
     "output_type": "execute_result"
    },
    {
     "data": {
      "image/png": "[encoded data removed]",
      "text/plain": [
       "<Figure size 432x432 with 3 Axes>"
      ]
     },
     "metadata": {
      "needs_background": "light"
     },
     "output_type": "display_data"
    }
   ],
   "source": [
    "# Plot the joint density function of bivariate_normal_from_Independent\n",
    "# Refer back to bivariate_normal_from_Independent to show that the plot is the same\n",
    "# Summarise how Independent has been used\n",
    "\n",
    "samples = bivariate_normal_from_Multivariate.sample(10000)\n",
    "x1 = samples[:, 0]\n",
    "x2 = samples[:, 1]\n",
    "sns.jointplot(x1, x2, kind=\"kde\", space=0, color='b', xlim=[-4, 4], ylim=[-4, 4])"
   ]
  },
  {
   "cell_type": "markdown",
   "metadata": {},
   "source": [
    "#### Shifting batch dimensions to event dimensions using \n",
    "`reinterpreted_batch_ndims`"
   ]
  },
  {
   "cell_type": "code",
   "execution_count": 4,
   "metadata": {},
   "outputs": [],
   "source": [
    "# Demonstrate use of reinterpreted_batch_ndims\n",
    "# By default all batch dims except the first are transferred to event dims\n",
    "\n",
    "loc_grid = [[-100., -100.],\n",
    "            [100., 100.],\n",
    "            [0., 0.]]\n",
    "scale_grid = [[1., 10.],\n",
    "              [1., 10.],\n",
    "              [1., 1.]]\n",
    "\n",
    "normals_batch_3by2_event_1 = tfd.Normal(loc=loc_grid, scale=scale_grid)"
   ]
  },
  {
   "cell_type": "code",
   "execution_count": 5,
   "metadata": {},
   "outputs": [
    {
     "data": {
      "text/plain": [
       "<tfp.distributions.Normal 'Normal' batch_shape=[3, 2] event_shape=[] dtype=float32>"
      ]
     },
     "execution_count": 5,
     "metadata": {},
     "output_type": "execute_result"
    }
   ],
   "source": [
    "# Highlight batch_shape\n",
    "normals_batch_3by2_event_1"
   ]
  },
  {
   "cell_type": "code",
   "execution_count": 69,
   "metadata": {},
   "outputs": [
    {
     "data": {
      "text/plain": [
       "<tfp.distributions.Independent 'IndependentNormal' batch_shape=[3] event_shape=[2] dtype=float32>"
      ]
     },
     "execution_count": 69,
     "metadata": {},
     "output_type": "execute_result"
    }
   ],
   "source": [
    "# We now have a batch of 3 bivariate normal distributions,\n",
    "# each parametrised by a column of our original parameter grid\n",
    "normals_batch_3_event_2 = tfd.Independent(normals_batch_3by2_event_1, reinterpreted_batch_ndims=1)\n",
    "normals_batch_3_event_2"
   ]
  },
  {
   "cell_type": "code",
   "execution_count": 70,
   "metadata": {},
   "outputs": [
    {
     "data": {
      "text/plain": [
       "<tf.Tensor: shape=(3,), dtype=float32, numpy=array([-4.1146406e+03, -4.1404624e+00, -2.8378770e+00], dtype=float32)>"
      ]
     },
     "execution_count": 70,
     "metadata": {},
     "output_type": "execute_result"
    }
   ],
   "source": [
    "# Evaluate log_prob\n",
    "normals_batch_3_event_2.log_prob([[-10,10],\n",
    "                                 [100,100],\n",
    "                                 [1,1]])"
   ]
  },
  {
   "cell_type": "code",
   "execution_count": 73,
   "metadata": {},
   "outputs": [
    {
     "data": {
      "text/plain": [
       "<tfp.distributions.Independent 'IndependentNormal' batch_shape=[] event_shape=[3, 2] dtype=float32>"
      ]
     },
     "execution_count": 73,
     "metadata": {},
     "output_type": "execute_result"
    }
   ],
   "source": [
    "# Can reinterpret _all_ batch dimensions as event dimensions\n",
    "normals_batch_1_event_3by2 = tfd.Independent(normals_batch_3by2_event_1, reinterpreted_batch_ndims=2)\n",
    "normals_batch_1_event_3by2"
   ]
  },
  {
   "cell_type": "code",
   "execution_count": 75,
   "metadata": {},
   "outputs": [
    {
     "data": {
      "text/plain": [
       "<tf.Tensor: shape=(), dtype=float32, numpy=-4121.619>"
      ]
     },
     "execution_count": 75,
     "metadata": {},
     "output_type": "execute_result"
    }
   ],
   "source": [
    "# Take log_probs \n",
    "normals_batch_1_event_3by2.log_prob([[-10,10],\n",
    "                                 [100,100],\n",
    "                                 [1,1]])"
   ]
  },
  {
   "cell_type": "markdown",
   "metadata": {},
   "source": [
    "#### Using `Independent` to build a Naive Bayes classifier"
   ]
  },
  {
   "cell_type": "markdown",
   "metadata": {},
   "source": [
    "#### Introduction to `newsgroups` data set"
   ]
  },
  {
   "cell_type": "markdown",
   "metadata": {},
   "source": [
    "In this tutorial, just load the dataset, fetch train/test splits, probably choose a subset of the data.\n",
    "\n",
    "Construct the class conditional feature distribution (with Independent, using the Naive Bayes assumption) and sample from it.\n",
    "\n",
    "We can just use the ML estimates for parameters, in later tutorials we will learn them."
   ]
  },
  {
   "cell_type": "code",
   "execution_count": 76,
   "metadata": {},
   "outputs": [],
   "source": [
    "# Convenience function for retrieving the 20 newsgroups data set\n",
    "\n",
    "# Usenet was a forerunner to modern internet forums\n",
    "# Users could post and read articles\n",
    "# Newsgroup corresponded to a topic\n",
    "# Example topics in this data set: IBM computer hardware, baseball\n",
    "# Our objective is to use an article's contents to predict its newsgroup,\n",
    "# a 20-class classification problem.\n",
    "\n",
    "# 18000 newsgroups, posts on 20 topics\n",
    "from sklearn.datasets import fetch_20newsgroups\n",
    "from sklearn.feature_extraction.text import CountVectorizer"
   ]
  },
  {
   "cell_type": "code",
   "execution_count": 83,
   "metadata": {},
   "outputs": [],
   "source": [
    "# Get the train data\n",
    "newsgroups_data = fetch_20newsgroups(data_home='20_Newsgroup_Data/', subset='train')"
   ]
  },
  {
   "cell_type": "code",
   "execution_count": 84,
   "metadata": {},
   "outputs": [
    {
     "name": "stdout",
     "output_type": "stream",
     "text": [
      ".. _20newsgroups_dataset:\n",
      "\n",
      "The 20 newsgroups text dataset\n",
      "------------------------------\n",
      "\n",
      "The 20 newsgroups dataset comprises around 18000 newsgroups posts on\n",
      "20 topics split in two subsets: one for training (or development)\n",
      "and the other one for testing (or for performance evaluation). The split\n",
      "between the train and test set is based upon a messages posted before\n",
      "and after a specific date.\n",
      "\n",
      "This module contains two loaders. The first one,\n",
      ":func:`sklearn.datasets.fetch_20newsgroups`,\n",
      "returns a list of the raw texts that can be fed to text feature\n",
      "extractors such as :class:`sklearn.feature_extraction.text.CountVectorizer`\n",
      "with custom parameters so as to extract feature vectors.\n",
      "The second one, :func:`sklearn.datasets.fetch_20newsgroups_vectorized`,\n",
      "returns ready-to-use features, i.e., it is not necessary to use a feature\n",
      "extractor.\n",
      "\n",
      "**Data Set Characteristics:**\n",
      "\n",
      "    =================   ==========\n",
      "    Classes                     20\n",
      "    Samples total            18846\n",
      "    Dimensionality               1\n",
      "    Features                  text\n",
      "    =================   ==========\n",
      "\n",
      "Usage\n",
      "~~~~~\n",
      "\n",
      "The :func:`sklearn.datasets.fetch_20newsgroups` function is a data\n",
      "fetching / caching functions that downloads the data archive from\n",
      "the original `20 newsgroups website`_, extracts the archive contents\n",
      "in the ``~/scikit_learn_data/20news_home`` folder and calls the\n",
      ":func:`sklearn.datasets.load_files` on either the training or\n",
      "testing set folder, or both of them::\n",
      "\n",
      "  >>> from sklearn.datasets import fetch_20newsgroups\n",
      "  >>> newsgroups_train = fetch_20newsgroups(subset='train')\n",
      "\n",
      "  >>> from pprint import pprint\n",
      "  >>> pprint(list(newsgroups_train.target_names))\n",
      "  ['alt.atheism',\n",
      "   'comp.graphics',\n",
      "   'comp.os.ms-windows.misc',\n",
      "   'comp.sys.ibm.pc.hardware',\n",
      "   'comp.sys.mac.hardware',\n",
      "   'comp.windows.x',\n",
      "   'misc.forsale',\n",
      "   'rec.autos',\n",
      "   'rec.motorcycles',\n",
      "   'rec.sport.baseball',\n",
      "   'rec.sport.hockey',\n",
      "   'sci.crypt',\n",
      "   'sci.electronics',\n",
      "   'sci.med',\n",
      "   'sci.space',\n",
      "   'soc.religion.christian',\n",
      "   'talk.politics.guns',\n",
      "   'talk.politics.mideast',\n",
      "   'talk.politics.misc',\n",
      "   'talk.religion.misc']\n",
      "\n",
      "The real data lies in the ``filenames`` and ``target`` attributes. The target\n",
      "attribute is the integer index of the category::\n",
      "\n",
      "  >>> newsgroups_train.filenames.shape\n",
      "  (11314,)\n",
      "  >>> newsgroups_train.target.shape\n",
      "  (11314,)\n",
      "  >>> newsgroups_train.target[:10]\n",
      "  array([ 7,  4,  4,  1, 14, 16, 13,  3,  2,  4])\n",
      "\n",
      "It is possible to load only a sub-selection of the categories by passing the\n",
      "list of the categories to load to the\n",
      ":func:`sklearn.datasets.fetch_20newsgroups` function::\n",
      "\n",
      "  >>> cats = ['alt.atheism', 'sci.space']\n",
      "  >>> newsgroups_train = fetch_20newsgroups(subset='train', categories=cats)\n",
      "\n",
      "  >>> list(newsgroups_train.target_names)\n",
      "  ['alt.atheism', 'sci.space']\n",
      "  >>> newsgroups_train.filenames.shape\n",
      "  (1073,)\n",
      "  >>> newsgroups_train.target.shape\n",
      "  (1073,)\n",
      "  >>> newsgroups_train.target[:10]\n",
      "  array([0, 1, 1, 1, 0, 1, 1, 0, 0, 0])\n",
      "\n",
      "Converting text to vectors\n",
      "~~~~~~~~~~~~~~~~~~~~~~~~~~\n",
      "\n",
      "In order to feed predictive or clustering models with the text data,\n",
      "one first need to turn the text into vectors of numerical values suitable\n",
      "for statistical analysis. This can be achieved with the utilities of the\n",
      "``sklearn.feature_extraction.text`` as demonstrated in the following\n",
      "example that extract `TF-IDF`_ vectors of unigram tokens\n",
      "from a subset of 20news::\n",
      "\n",
      "  >>> from sklearn.feature_extraction.text import TfidfVectorizer\n",
      "  >>> categories = ['alt.atheism', 'talk.religion.misc',\n",
      "  ...               'comp.graphics', 'sci.space']\n",
      "  >>> newsgroups_train = fetch_20newsgroups(subset='train',\n",
      "  ...                                       categories=categories)\n",
      "  >>> vectorizer = TfidfVectorizer()\n",
      "  >>> vectors = vectorizer.fit_transform(newsgroups_train.data)\n",
      "  >>> vectors.shape\n",
      "  (2034, 34118)\n",
      "\n",
      "The extracted TF-IDF vectors are very sparse, with an average of 159 non-zero\n",
      "components by sample in a more than 30000-dimensional space\n",
      "(less than .5% non-zero features)::\n",
      "\n",
      "  >>> vectors.nnz / float(vectors.shape[0])       # doctest: +ELLIPSIS\n",
      "  159.01327...\n",
      "\n",
      ":func:`sklearn.datasets.fetch_20newsgroups_vectorized` is a function which \n",
      "returns ready-to-use token counts features instead of file names.\n",
      "\n",
      ".. _`20 newsgroups website`: http://people.csail.mit.edu/jrennie/20Newsgroups/\n",
      ".. _`TF-IDF`: https://en.wikipedia.org/wiki/Tf-idf\n",
      "\n",
      "\n",
      "Filtering text for more realistic training\n",
      "~~~~~~~~~~~~~~~~~~~~~~~~~~~~~~~~~~~~~~~~~~\n",
      "\n",
      "It is easy for a classifier to overfit on particular things that appear in the\n",
      "20 Newsgroups data, such as newsgroup headers. Many classifiers achieve very\n",
      "high F-scores, but their results would not generalize to other documents that\n",
      "aren't from this window of time.\n",
      "\n",
      "For example, let's look at the results of a multinomial Naive Bayes classifier,\n",
      "which is fast to train and achieves a decent F-score::\n",
      "\n",
      "  >>> from sklearn.naive_bayes import MultinomialNB\n",
      "  >>> from sklearn import metrics\n",
      "  >>> newsgroups_test = fetch_20newsgroups(subset='test',\n",
      "  ...                                      categories=categories)\n",
      "  >>> vectors_test = vectorizer.transform(newsgroups_test.data)\n",
      "  >>> clf = MultinomialNB(alpha=.01)\n",
      "  >>> clf.fit(vectors, newsgroups_train.target)\n",
      "  MultinomialNB(alpha=0.01, class_prior=None, fit_prior=True)\n",
      "\n",
      "  >>> pred = clf.predict(vectors_test)\n",
      "  >>> metrics.f1_score(newsgroups_test.target, pred, average='macro')  # doctest: +ELLIPSIS\n",
      "  0.88213...\n",
      "\n",
      "(The example :ref:`sphx_glr_auto_examples_text_plot_document_classification_20newsgroups.py` shuffles\n",
      "the training and test data, instead of segmenting by time, and in that case\n",
      "multinomial Naive Bayes gets a much higher F-score of 0.88. Are you suspicious\n",
      "yet of what's going on inside this classifier?)\n",
      "\n",
      "Let's take a look at what the most informative features are:\n",
      "\n",
      "  >>> import numpy as np\n",
      "  >>> def show_top10(classifier, vectorizer, categories):\n",
      "  ...     feature_names = np.asarray(vectorizer.get_feature_names())\n",
      "  ...     for i, category in enumerate(categories):\n",
      "  ...         top10 = np.argsort(classifier.coef_[i])[-10:]\n",
      "  ...         print(\"%s: %s\" % (category, \" \".join(feature_names[top10])))\n",
      "  ...\n",
      "  >>> show_top10(clf, vectorizer, newsgroups_train.target_names)\n",
      "  alt.atheism: edu it and in you that is of to the\n",
      "  comp.graphics: edu in graphics it is for and of to the\n",
      "  sci.space: edu it that is in and space to of the\n",
      "  talk.religion.misc: not it you in is that and to of the\n",
      "\n",
      "\n",
      "You can now see many things that these features have overfit to:\n",
      "\n",
      "- Almost every group is distinguished by whether headers such as\n",
      "  ``NNTP-Posting-Host:`` and ``Distribution:`` appear more or less often.\n",
      "- Another significant feature involves whether the sender is affiliated with\n",
      "  a university, as indicated either by their headers or their signature.\n",
      "- The word \"article\" is a significant feature, based on how often people quote\n",
      "  previous posts like this: \"In article [article ID], [name] <[e-mail address]>\n",
      "  wrote:\"\n",
      "- Other features match the names and e-mail addresses of particular people who\n",
      "  were posting at the time.\n",
      "\n",
      "With such an abundance of clues that distinguish newsgroups, the classifiers\n",
      "barely have to identify topics from text at all, and they all perform at the\n",
      "same high level.\n",
      "\n",
      "For this reason, the functions that load 20 Newsgroups data provide a\n",
      "parameter called **remove**, telling it what kinds of information to strip out\n",
      "of each file. **remove** should be a tuple containing any subset of\n",
      "``('headers', 'footers', 'quotes')``, telling it to remove headers, signature\n",
      "blocks, and quotation blocks respectively.\n",
      "\n",
      "  >>> newsgroups_test = fetch_20newsgroups(subset='test',\n",
      "  ...                                      remove=('headers', 'footers', 'quotes'),\n",
      "  ...                                      categories=categories)\n",
      "  >>> vectors_test = vectorizer.transform(newsgroups_test.data)\n",
      "  >>> pred = clf.predict(vectors_test)\n",
      "  >>> metrics.f1_score(pred, newsgroups_test.target, average='macro')  # doctest: +ELLIPSIS\n",
      "  0.77310...\n",
      "\n",
      "This classifier lost over a lot of its F-score, just because we removed\n",
      "metadata that has little to do with topic classification.\n",
      "It loses even more if we also strip this metadata from the training data:\n",
      "\n",
      "  >>> newsgroups_train = fetch_20newsgroups(subset='train',\n",
      "  ...                                       remove=('headers', 'footers', 'quotes'),\n",
      "  ...                                       categories=categories)\n",
      "  >>> vectors = vectorizer.fit_transform(newsgroups_train.data)\n",
      "  >>> clf = MultinomialNB(alpha=.01)\n",
      "  >>> clf.fit(vectors, newsgroups_train.target)\n",
      "  MultinomialNB(alpha=0.01, class_prior=None, fit_prior=True)\n",
      "\n",
      "  >>> vectors_test = vectorizer.transform(newsgroups_test.data)\n",
      "  >>> pred = clf.predict(vectors_test)\n",
      "  >>> metrics.f1_score(newsgroups_test.target, pred, average='macro')  # doctest: +ELLIPSIS\n",
      "  0.76995...\n",
      "\n",
      "Some other classifiers cope better with this harder version of the task. Try\n",
      "running :ref:`sphx_glr_auto_examples_model_selection_grid_search_text_feature_extraction.py` with and without\n",
      "the ``--filter`` option to compare the results.\n",
      "\n",
      ".. topic:: Recommendation\n",
      "\n",
      "  When evaluating text classifiers on the 20 Newsgroups data, you\n",
      "  should strip newsgroup-related metadata. In scikit-learn, you can do this by\n",
      "  setting ``remove=('headers', 'footers', 'quotes')``. The F-score will be\n",
      "  lower because it is more realistic.\n",
      "\n",
      ".. topic:: Examples\n",
      "\n",
      "   * :ref:`sphx_glr_auto_examples_model_selection_grid_search_text_feature_extraction.py`\n",
      "\n",
      "   * :ref:`sphx_glr_auto_examples_text_plot_document_classification_20newsgroups.py`\n",
      "\n"
     ]
    }
   ],
   "source": [
    "# More information about the data set\n",
    "print(newsgroups_data['DESCR'])"
   ]
  },
  {
   "cell_type": "code",
   "execution_count": 85,
   "metadata": {},
   "outputs": [
    {
     "name": "stdout",
     "output_type": "stream",
     "text": [
      "From: lerxst@wam.umd.edu (where's my thing)\n",
      "Subject: WHAT car is this!?\n",
      "Nntp-Posting-Host: rac3.wam.umd.edu\n",
      "Organization: University of Maryland, College Park\n",
      "Lines: 15\n",
      "\n",
      " I was wondering if anyone out there could enlighten me on this car I saw\n",
      "the other day. It was a 2-door sports car, looked to be from the late 60s/\n",
      "early 70s. It was called a Bricklin. The doors were really small. In addition,\n",
      "the front bumper was separate from the rest of the body. This is \n",
      "all I know. If anyone can tellme a model name, engine specs, years\n",
      "of production, where this car is made, history, or whatever info you\n",
      "have on this funky looking car, please e-mail.\n",
      "\n",
      "Thanks,\n",
      "- IL\n",
      "   ---- brought to you by your neighborhood Lerxst ----\n",
      "\n",
      "\n",
      "\n",
      "\n",
      "\n"
     ]
    }
   ],
   "source": [
    "# Example article\n",
    "print(newsgroups_data['data'][0])"
   ]
  },
  {
   "cell_type": "code",
   "execution_count": 86,
   "metadata": {},
   "outputs": [
    {
     "data": {
      "text/plain": [
       "7"
      ]
     },
     "execution_count": 86,
     "metadata": {},
     "output_type": "execute_result"
    }
   ],
   "source": [
    "# Associated label\n",
    "newsgroups_data['target'][0]"
   ]
  },
  {
   "cell_type": "code",
   "execution_count": 87,
   "metadata": {},
   "outputs": [
    {
     "data": {
      "text/plain": [
       "'rec.autos'"
      ]
     },
     "execution_count": 87,
     "metadata": {},
     "output_type": "execute_result"
    }
   ],
   "source": [
    "# Name of label\n",
    "newsgroups_data['target_names'][7]"
   ]
  },
  {
   "cell_type": "code",
   "execution_count": 88,
   "metadata": {},
   "outputs": [],
   "source": [
    "# Preprocessing boilerplate\n",
    "\n",
    "n_documents = len(newsgroups_data['data'])\n",
    "\n",
    "count_vectorizer = CountVectorizer(input='content', binary=True,\n",
    "                                   max_df=0.25, min_df=1.01/n_documents) # ignore common words, words that appear once\n",
    "binary_bag_of_words = count_vectorizer.fit_transform(newsgroups_data['data']) # input is a list of strings\n"
   ]
  },
  {
   "cell_type": "code",
   "execution_count": 89,
   "metadata": {},
   "outputs": [
    {
     "data": {
      "text/plain": [
       "(11314, 56365)"
      ]
     },
     "execution_count": 89,
     "metadata": {},
     "output_type": "execute_result"
    }
   ],
   "source": [
    "# Check shape\n",
    "binary_bag_of_words.shape"
   ]
  },
  {
   "cell_type": "code",
   "execution_count": 90,
   "metadata": {},
   "outputs": [
    {
     "data": {
      "text/plain": [
       "[array(['lerxst', 'wam', 'umd', 'where', 'thing', 'car', 'rac3',\n",
       "        'maryland', 'college', 'park', '15', 'wondering', 'anyone',\n",
       "        'could', 'enlighten', 'saw', 'day', 'door', 'sports', 'looked',\n",
       "        'late', '60s', 'early', '70s', 'called', 'bricklin', 'doors',\n",
       "        'were', 'really', 'small', 'addition', 'front', 'bumper',\n",
       "        'separate', 'rest', 'body', 'tellme', 'model', 'name', 'engine',\n",
       "        'specs', 'years', 'production', 'made', 'history', 'whatever',\n",
       "        'info', 'funky', 'looking', 'please', 'mail', 'thanks', 'il',\n",
       "        'brought', 'neighborhood'], dtype='<U80')]"
      ]
     },
     "execution_count": 90,
     "metadata": {},
     "output_type": "execute_result"
    }
   ],
   "source": [
    "# Check that the fit has been successful\n",
    "count_vectorizer.inverse_transform(binary_bag_of_words[0,:])"
   ]
  },
  {
   "cell_type": "code",
   "execution_count": 91,
   "metadata": {},
   "outputs": [],
   "source": [
    "# Dict that will be useful later \n",
    "\n",
    "inv_vocabulary = {value:key for key, value in count_vectorizer.vocabulary_.items()}"
   ]
  },
  {
   "cell_type": "markdown",
   "metadata": {},
   "source": [
    "#### A Naive Bayes classifier for `newsgroup`"
   ]
  },
  {
   "cell_type": "markdown",
   "metadata": {},
   "source": [
    "Each feature vector $x$ is a list of indicators for whether a word appears in the article. $x_i$ is 1 if the $i$th word appears, and 0 otherwise. `inv_vocabulary` matches word indices $i$ to words.\n",
    "\n",
    "Each label $y$ is a value in $0, 1, \\ldots, 19$.\n",
    "\n",
    "The parts of a naive Bayes classifier for this problem can be summarised as:  \n",
    "\n",
    "\n",
    "- A probability distribution for the feature vector by class, $p(x|y = j)$ for each $j = 0, 1, \\ldots, 19$. These probability distributions are assumed to have independent components: we can factorize the joint probability as a product of marginal probabilities\n",
    "\\begin{equation}\n",
    "    p(x|y = j) = \\prod_{i=1}^d p(x_i|y = j)\n",
    "\\end{equation}\n",
    "These marginal probability distributions are Bernoulli distributions, each of which has a single parameter $\\theta_{ji} := p(x_i = 1|y = j)$. This parameter is the probability of observing word $i$ in an article of class $j$. \n",
    "\n",
    "- We will use the Laplace smoothed maximum likelihood estimate to compute these parameters. Laplace smoothing involves adding small counts to every feature for each class. Else, if a feature did not appear in the training set of a class, but then we observed it in our test data the log probability would be undefined.\n",
    "\n",
    "- A collection of class prior probabilities $p(y = j)$. These will be set by computing the class base rates in the training set.  \n",
    "\n",
    "\n",
    "- A function for computing the probability of class membership via Bayes' theorem:  \n",
    "\n",
    "\\begin{equation}\n",
    "    p(y = j|x) = \\frac{p(x|y = j)p(y = j)}{p(x)}\n",
    "\\end{equation}"
   ]
  },
  {
   "cell_type": "code",
   "execution_count": 92,
   "metadata": {},
   "outputs": [],
   "source": [
    "# Compute the parameter estimates (adjusted fraction of documents in class that contain word)\n",
    "\n",
    "n_classes = newsgroups_data['target'].max() + 1\n",
    "y = newsgroups_data['target']\n",
    "n_words = binary_bag_of_words.shape[1]\n",
    "\n",
    "alpha = 1e-6 # parameters for Laplace smoothing\n",
    "\n",
    "theta = np.zeros([n_classes, n_words]) # stores parameter values - prob. word given class\n",
    "for c_k in range(n_classes): # 0, 1, ..., 19\n",
    "    class_mask = (y == c_k)\n",
    "    N = class_mask.sum() # number of articles in class\n",
    "    theta[c_k, :] = (binary_bag_of_words[class_mask, :].sum(axis=0) + alpha)/(N + alpha*2)"
   ]
  },
  {
   "cell_type": "code",
   "execution_count": 93,
   "metadata": {},
   "outputs": [
    {
     "name": "stdout",
     "output_type": "stream",
     "text": [
      "Most probable word in class alt.atheism is \"people\".\n",
      "Most probable word in class comp.graphics is \"graphics\".\n",
      "Most probable word in class comp.os.ms-windows.misc is \"windows\".\n",
      "Most probable word in class comp.sys.ibm.pc.hardware is \"thanks\".\n",
      "Most probable word in class comp.sys.mac.hardware is \"mac\".\n",
      "Most probable word in class comp.windows.x is \"window\".\n",
      "Most probable word in class misc.forsale is \"sale\".\n",
      "Most probable word in class rec.autos is \"car\".\n",
      "Most probable word in class rec.motorcycles is \"dod\".\n",
      "Most probable word in class rec.sport.baseball is \"he\".\n",
      "Most probable word in class rec.sport.hockey is \"ca\".\n",
      "Most probable word in class sci.crypt is \"clipper\".\n",
      "Most probable word in class sci.electronics is \"use\".\n",
      "Most probable word in class sci.med is \"reply\".\n",
      "Most probable word in class sci.space is \"space\".\n",
      "Most probable word in class soc.religion.christian is \"god\".\n",
      "Most probable word in class talk.politics.guns is \"people\".\n",
      "Most probable word in class talk.politics.mideast is \"people\".\n",
      "Most probable word in class talk.politics.misc is \"people\".\n",
      "Most probable word in class talk.religion.misc is \"he\".\n"
     ]
    }
   ],
   "source": [
    "# Check whether the most probable word in each class is reasonable\n",
    "\n",
    "most_probable_word_ix = theta.argmax(axis=1) # most probable word for each class\n",
    "\n",
    "for j, ix in enumerate(most_probable_word_ix):\n",
    "    print('Most probable word in class {} is \"{}\".'.format(newsgroups_data['target_names'][j],\n",
    "                                                           inv_vocabulary[ix]))"
   ]
  },
  {
   "cell_type": "code",
   "execution_count": 95,
   "metadata": {},
   "outputs": [
    {
     "data": {
      "text/plain": [
       "(20, 56365)"
      ]
     },
     "execution_count": 95,
     "metadata": {},
     "output_type": "execute_result"
    }
   ],
   "source": [
    "theta.shape"
   ]
  },
  {
   "cell_type": "code",
   "execution_count": 96,
   "metadata": {},
   "outputs": [
    {
     "data": {
      "text/plain": [
       "<tfp.distributions.Independent 'IndependentBernoulli' batch_shape=[20] event_shape=[56365] dtype=int32>"
      ]
     },
     "execution_count": 96,
     "metadata": {},
     "output_type": "execute_result"
    }
   ],
   "source": [
    "# Define a distribution for each class\n",
    "batch_of_bernoullis = tfd.Bernoulli(probs=theta)\n",
    "p_x_given_y = tfd.Independent(batch_of_bernoullis, reinterpreted_batch_ndims=1)\n",
    "p_x_given_y"
   ]
  },
  {
   "cell_type": "code",
   "execution_count": 97,
   "metadata": {},
   "outputs": [
    {
     "data": {
      "text/plain": [
       "TensorShape([10, 20, 56365])"
      ]
     },
     "execution_count": 97,
     "metadata": {},
     "output_type": "execute_result"
    }
   ],
   "source": [
    "# Take a sample of words from each class\n",
    "\n",
    "n_samples = 10\n",
    "sample = p_x_given_y.sample(n_samples)\n",
    "sample.shape"
   ]
  },
  {
   "cell_type": "code",
   "execution_count": 98,
   "metadata": {},
   "outputs": [
    {
     "data": {
      "text/plain": [
       "'soc.religion.christian'"
      ]
     },
     "execution_count": 98,
     "metadata": {},
     "output_type": "execute_result"
    }
   ],
   "source": [
    "# Choose a class\n",
    "\n",
    "chosen_class = 15\n",
    "newsgroups_data['target_names'][chosen_class]"
   ]
  },
  {
   "cell_type": "code",
   "execution_count": 99,
   "metadata": {},
   "outputs": [
    {
     "data": {
      "text/plain": [
       "<tf.Tensor: shape=(10, 56365), dtype=int32, numpy=\n",
       "array([[0, 0, 0, ..., 0, 0, 0],\n",
       "       [0, 0, 0, ..., 0, 0, 0],\n",
       "       [0, 0, 0, ..., 0, 0, 0],\n",
       "       ...,\n",
       "       [0, 0, 0, ..., 0, 0, 0],\n",
       "       [0, 0, 0, ..., 0, 0, 0],\n",
       "       [0, 0, 0, ..., 0, 0, 0]], dtype=int32)>"
      ]
     },
     "execution_count": 99,
     "metadata": {},
     "output_type": "execute_result"
    }
   ],
   "source": [
    "# Indicators for words that appear in the sample\n",
    "\n",
    "class_sample = sample[:, chosen_class, :]\n",
    "class_sample"
   ]
  },
  {
   "cell_type": "code",
   "execution_count": 100,
   "metadata": {},
   "outputs": [
    {
     "data": {
      "text/plain": [
       "[array(['13', '1807', '45', 'able', 'actually', 'adam', 'add', 'ago',\n",
       "        'already', 'antiochus', 'anyone', 'apr', 'athos', 'bc', 'because',\n",
       "        'bee', 'beginning', 'being', 'case', 'catholic', 'cheap',\n",
       "        'christian', 'christianity', 'christians', 'church', 'companies',\n",
       "        'confidence', 'consensus', 'considered', 'course', 'curt', 'curve',\n",
       "        'devote', 'different', 'direct', 'dissent', 'doctrine', 'dogma',\n",
       "        'done', 'education', 'end', 'enough', 'etc', 'exhort', 'exist',\n",
       "        'form', 'formal', 'gal', 'gatherings', 'general', 'genesis',\n",
       "        'geneva', 'goes', 'great', 'greatest', 'group', 'growing',\n",
       "        'having', 'he', 'heart', 'help', 'heritage', 'himself', 'his',\n",
       "        'however', 'idiots', 'illustrate', 'intent', 'interesting',\n",
       "        'island', 'issue', 'its', 'jew', 'jewish', 'jprzybyl', 'learn',\n",
       "        'live', 'luckily', 'masses', 'masters', 'may', 'mb', 'michael',\n",
       "        'mmh', 'much', 'name', 'natural', 'neither', 'noye', 'original',\n",
       "        'palms', 'part', 'peace', 'persecuted', 'person', 'perspective',\n",
       "        'phs431d', 'point', 'pre', 'preaching', 'presenting', 'prime',\n",
       "        'probable', 'problem', 'problems', 'proponents', 'provided',\n",
       "        'rather', 'reject', 'religion', 'requirements', 'right', 'roman',\n",
       "        'scientific', 'shaped', 'simple', 'something', 'spain', 'speaks',\n",
       "        'specifying', 'subjective', 'such', 'support', 'talking',\n",
       "        'terrific', 'textbooks', 'those', 'thus', 'time', 'times',\n",
       "        'training', 'transfer', 'tredysvr', 'tries', 'true',\n",
       "        'unswervingly', 'uses', 'wants', 'wayne', 'without', 'works',\n",
       "        'wrong', 'years'], dtype='<U80'),\n",
       " array(['07', '18', '21', '542', '58', 'acad1', 'agree', 'albnyvms',\n",
       "        'also', 'am', 'ancestors', 'appointee', 'apr', 'assumptions',\n",
       "        'aware', 'basis', 'behavior', 'bit', 'boring', 'both', 'briefer',\n",
       "        'brothers', 'called', 'carpenter', 'cases', 'cease', 'certainly',\n",
       "        'christian', 'church', 'civil', 'claim', 'claire', 'claremont',\n",
       "        'concern', 'contaminated', 'could', 'cs', 'damned', 'deacons',\n",
       "        'death', 'defined', 'demands', 'didn', 'difficult', 'established',\n",
       "        'esteem', 'evil', 'faith', 'far', 'father', 'fill', 'followed',\n",
       "        'foot', 'former', 'gatech', 'give', 'god', 'going', 'good',\n",
       "        'gospel', 'groningen', 'hair', 'halsall', 'happiness', 'haya',\n",
       "        'he', 'heaven', 'his', 'hold', 'holds', 'imho', 'impressed',\n",
       "        'indicate', 'into', 'invited', 'islam', 'issue', 'jesus', 'khan',\n",
       "        'known', 'kulikauskas', 'later', 'law', 'lay', 'little', 'long',\n",
       "        'lord', 'love', 'made', 'mean', 'met', 'michael', 'nc', 'now',\n",
       "        'opinion', 'ordinance', 'others', 'outside', 'people', 'point',\n",
       "        'points', 'praxeas', 'pulmonary', 'question', 'read', 'receive',\n",
       "        'relating', 'religion', 'reply', 'reprinting', 'research',\n",
       "        'return', 'rom', 'rutgers', 'same', 'schnitzi', 'science',\n",
       "        'scientific', 'share', 'side', 'sins', 'something', 'sovereignty',\n",
       "        'space', 'spirit', 'spread', 'stand', 'start', 'state', 'studies',\n",
       "        'supports', 'take', 'than', 'their', 'them', 'therefore', 'think',\n",
       "        'thinking', 'tx', 'used', 'vary', 'view', 'whatever', 'whether',\n",
       "        'whole', 'wisc', 'wisdom', 'word', 'works', 'yourselves'],\n",
       "       dtype='<U80'),\n",
       " array(['2575', '50', '7415', 'advance', 'age', 'ago', 'agrees',\n",
       "        'americans', 'anyone', 'anything', 'apparently', 'apr',\n",
       "        'aristotle', 'athena', 'available', 'aversion', 'because', 'been',\n",
       "        'bertrand', 'best', 'bomb', 'bosporus', 'both', 'case', 'cc',\n",
       "        'cgsvax', 'christians', 'comes', 'communion', 'confused',\n",
       "        'conscience', 'continual', 'controversy', 'course', 'created',\n",
       "        'day', 'defined', 'department', 'disciples', 'disclaimer', 'drugs',\n",
       "        'emphasize', 'evangelistic', 'existed', 'expecting', 'false',\n",
       "        'first', 'glory', 'god', 'gone', 'grad', 'great', 'greatest',\n",
       "        'hall', 'haven', 'having', 'he', 'heard', 'here', 'high',\n",
       "        'however', 'illusion', 'increased', 'insert', 'into', 'invitation',\n",
       "        'israel', 'itself', 'jesus', 'jewish', 'jodfishe', 'judgement',\n",
       "        'keep', 'ken', 'larry', 'less', 'librarian', 'live', 'many', 'may',\n",
       "        'maybe', 'minor', 'missiology', 'moment', 'myself', 'never', 'now',\n",
       "        'occur', 'offer', 'ohio', 'operating', 'opinion', 'our', 'part',\n",
       "        'pauline', 'physical', 'plans', 'poitiers', 'portrayals', 'prince',\n",
       "        'proverbial', 'questions', 'real', 'receiving', 'recovery',\n",
       "        'relativistic', 'religion', 'reported', 'represents', 'research',\n",
       "        'rest', 'rev', 'revelation', 'risk', 'romans', 'rutgers', 'say',\n",
       "        'second', 'see', 'seem', 'shoulders', 'slaughter', 'someone',\n",
       "        'specific', 'still', 'structure', 'student', 'such', 'sulfur',\n",
       "        'targets', 'thank', 'then', 'these', 'time', 'titles',\n",
       "        'traditions', 'two', 'use', 'very', 'volume', 'want', 'way',\n",
       "        'wonder', 'yours'], dtype='<U80'),\n",
       " array(['10', '119', '14', '18', '19', 'acts', 'ad', 'again', 'ala',\n",
       "        'also', 'always', 'angel', 'appealing', 'athos', 'based',\n",
       "        'battling', 'before', 'believe', 'believed', 'bell', 'better',\n",
       "        'boeing', 'book', 'bring', 'brothers', 'bush', 'case', 'catholic',\n",
       "        'chemical', 'children', 'chorus', 'christ', 'christian',\n",
       "        'christianity', 'church', 'claim', 'clearly', 'color', 'come',\n",
       "        'compsci', 'conveys', 'cosmic', 'couple', 'davidians',\n",
       "        'definitely', 'encouraging', 'equally', 'err', 'eugene', 'ever',\n",
       "        'excommunicated', 'explicitly', 'fact', 'faith', 'fear', 'filled',\n",
       "        'forgive', 'forth', 'frightening', 'ft', 'geneva', 'give', 'god',\n",
       "        'great', 'greatest', 'group', 'happened', 'having', 'he', 'heads',\n",
       "        'here', 'hesitate', 'home', 'hp', 'imho', 'include', 'intention',\n",
       "        'interest', 'interpretation', 'jesus', 'johnson', 'justice',\n",
       "        'last', 'leave', 'lives', 'mail', 'make', 'many', 'mark', 'may',\n",
       "        'mcovingt', 'missed', 'myself', 'need', 'never', 'northern',\n",
       "        'odder', 'others', 'our', 'palastine', 'per', 'person', 'please',\n",
       "        'point', 'politicians', 'possible', 'prostitute', 'question',\n",
       "        'questioning', 'randy', 'rarely', 'red', 'redwoods', 'religion',\n",
       "        'remiss', 'resist', 'reverence', 'rsteele', 'rug', 'said',\n",
       "        'satisfy', 'silicon', 'sola', 'somewhere', 'spectacular', 'still',\n",
       "        'subjective', 'taking', 'tell', 'testament', 'texts', 'their',\n",
       "        'themselves', 'these', 'think', 'thus', 'time', 'today', 'topcat',\n",
       "        'true', 'turning', 'uga', 'uk', 'ultimately', 'unswervingly',\n",
       "        'use', 'verdict', 'victoria', 'vision', 'want', 'were', 'whole',\n",
       "        'william', 'yer'], dtype='<U80'),\n",
       " array(['14385', '149', '1993', '51', '53', '800', 'addresses', 'advanced',\n",
       "        'again', 'answer', 'anything', 'approaches', 'argue', 'around',\n",
       "        'arrogance', 'aside', 'because', 'been', 'beg', 'began', 'biggest',\n",
       "        'both', 'broader', 'catholic', 'cbnewsk', 'christ', 'cited',\n",
       "        'claimed', 'clear', 'con', 'convinced', 'court', 'covington',\n",
       "        'days', 'dictionary', 'difficult', 'disguise', 'doing', 'eat',\n",
       "        'eleven', 'end', 'error', 'especially', 'faq', 'flame', 'front',\n",
       "        'god', 'graphics', 'green', 'he', 'headbanger', 'here', 'his',\n",
       "        'holiday', 'homosexual', 'ideally', 'ideas', 'itself', 'kempmp',\n",
       "        'large', 'listen', 'little', 'live', 'll', 'longer', 'lost',\n",
       "        'mandatory', 'march', 'matter', 'meaningless', 'modern', 'much',\n",
       "        'naked', 'ncsu', 'nih', 'non', 'now', 'ones', 'others', 'our',\n",
       "        'own', 'parts', 'personnel', 'power', 'presbyterian', 'promise',\n",
       "        'prove', 'psalm', 'reading', 'really', 'relates', 'requested',\n",
       "        'ride', 'sending', 'sent', 'show', 'simply', 'slc', 'statement',\n",
       "        'strategic', 'sucessful', 'texas', 'their', 'these', 'those',\n",
       "        'umn', 'unambiguous', 'understand', 'universe', 'us', 'use', 'way',\n",
       "        'went', 'were', 'whether', 'while', 'whoever', 'why', 'word',\n",
       "        'works', 'world', 'worshipping', 'wrought', 'young'], dtype='<U80'),\n",
       " array(['30', 'able', 'admit', 'agree', 'also', 'anglican', 'answer',\n",
       "        'apr', 'assent', 'att', 'attitudes', 'because', 'been', 'before',\n",
       "        'belief', 'believe', 'believer', 'belong', 'bible', 'biblical',\n",
       "        'bishop', 'blood', 'books', 'branches', 'brief', 'carnegie',\n",
       "        'century', 'children', 'christians', 'clive', 'concerned',\n",
       "        'continue', 'conversions', 'course', 'crucification', 'daniel',\n",
       "        'differences', 'disciples', 'doesn', 'each', 'edged', 'else',\n",
       "        'end', 'especially', 'establishing', 'everyone', 'example',\n",
       "        'exemplery', 'far', 'fellowship', 'fenholt', 'find', 'focus',\n",
       "        'follow', 'forget', 'free', 'god', 'good', 'grace', 'hell_2',\n",
       "        'her', 'heroic', 'incredibly', 'independent', 'indicated',\n",
       "        'indicates', 'institute', 'interferes', 'issue', 'its', 'jenk',\n",
       "        'jump', 'keep', 'kellett', 'kevin', 'kid', 'latter', 'lauderdale',\n",
       "        'lawful', 'listed', 'lives', 'lord', 'lost', 'mammal', 'marks',\n",
       "        'mean', 'means', 'mostly', 'mussack', 'necessary', 'newsgroup',\n",
       "        'nine', 'occasion', 'our', 'participating', 'people', 'person',\n",
       "        'phase', 'physical', 'positive', 'probability', 'protestant',\n",
       "        'provided', 'question', 'questions', 'really', 'receive',\n",
       "        'referring', 'reports', 'resist', 'risc1', 'rutgers', 'said',\n",
       "        'sample', 'see', 'seem', 'seems', 'should', 'sin', 'sole',\n",
       "        'something', 'speak', 'speaks', 'st', 'standard', 'stands',\n",
       "        'surprised', 'talk', 'tell', 'than', 'their', 'therefore', 'think',\n",
       "        'through', 'total', 'travel', 'truth', 'trying', 'typically',\n",
       "        'unemployment', 'us', 'usa', 'use', 'want', 'wanton', 'ways',\n",
       "        'well', 'whole', 'wishy', 'wonder', 'wrecked', 'z5'], dtype='<U80'),\n",
       " array(['03', '10', '17', '3123', '65', '78713',\n",
       "        '______________________________________________', 'against',\n",
       "        'alexandria', 'also', 'although', 'amount', 'articles', 'assume',\n",
       "        'athanasian', 'atheist', 'athena', 'athos', 'bassili', 'because',\n",
       "        'been', 'before', 'beginning', 'being', 'believe', 'bible', 'body',\n",
       "        'burning', 'c4z5u3', 'ca', 'cardenas', 'cause', 'certain',\n",
       "        'christ', 'christians', 'collateral', 'commandments',\n",
       "        'comparative', 'conduct', 'context', 'crying', 'cs', 'decisions',\n",
       "        'definition', 'did', 'disagree', 'dishonest', 'divine', 'doctor',\n",
       "        'does', 'dragged', 'eric', 'especially', 'et', 'evangelism',\n",
       "        'even', 'evil', 'exclusion', 'explained', 'exposed', 'eyes',\n",
       "        'foregoing', 'foreskin', 'forget', 'fsu', 'future', 'general',\n",
       "        'given', 'glad', 'guerra', 'hype', 'idea', 'ignoring', 'immature',\n",
       "        'injure', 'jehovah', 'jesus', 'knowing', 'language', 'last', 'law',\n",
       "        'least', 'letters', 'literal', 'los', 'loss', 'made', 'many',\n",
       "        'matter', 'mcintyre', 'melinda', 'might', 'motive', 'nancy', 'new',\n",
       "        'nonsense', 'note', 'noye', 'odd', 'others', 'our', 'pages',\n",
       "        'pantheism', 'parkin', 'parties', 'permitted', 'person',\n",
       "        'persuade', 'please', 'posted', 'primarily', 'problems', 'prove',\n",
       "        'punative', 'question', 'rather', 'rational', 'real', 'refering',\n",
       "        'regeneration', 'satisfaction', 'say', 'scientists', 'semantic',\n",
       "        'send', 'serbian', 'similarly', 'sin', 'something', 'sps',\n",
       "        'steven', 'strenth', 'suggest', 'terror', 'testimony', 'than',\n",
       "        'then', 'thing', 'thirst', 'though', 'thrown', 'together',\n",
       "        'traditional', 'tree', 'true', 'trying', 'tuff', 'turning', 'uk',\n",
       "        'us', 'use', 'usually', 'uu', 'vbv', 'very', 'walked', 'want',\n",
       "        'weakness', 'west', 'whether', 'words', 'yet'], dtype='<U80'),\n",
       " array(['05', '08', '14', '1993', '20', '36', '3755', 'ac', 'acknowledged',\n",
       "        'adjust', 'also', 'andrew', 'approach', 'being', 'beliefs',\n",
       "        'believers', 'better', 'biographical', 'book', 'ca', 'christian',\n",
       "        'church', 'come', 'concept', 'confusion', 'consciousness',\n",
       "        'continued', 'crystal', 'csd', 'days', 'decide', 'developed',\n",
       "        'didn', 'different', 'distorted', 'doesnt', 'elijah', 'employ',\n",
       "        'end', 'energy', 'even', 'exactly', 'experience', 'expert', 'feel',\n",
       "        'few', 'figure', 'find', 'forgiveness', 'forsaking', 'free',\n",
       "        'gnash', 'god', 'graham', 'grand', 'great', 'grow', 'guerra',\n",
       "        'guild', 'had', 'he', 'heard', 'hello', 'help', 'heretical',\n",
       "        'highlander', 'his', 'humanity', 'ill', 'illustration',\n",
       "        'incarnate', 'increase', 'inherit', 'ink', 'interpreted',\n",
       "        'introductory', 'jesus', 'jprzybyl', 'judge', 'law', 'link',\n",
       "        'look', 'lord', 'many', 'mcovingt', 'might', 'mind', 'misleading',\n",
       "        'nebraska', 'necessary', 'need', 'neighbor', 'nero', 'non',\n",
       "        'nothing', 'org', 'paragraph', 'participates', 'particular',\n",
       "        'passing', 'people', 'peter', 'pilate', 'position', 'problem',\n",
       "        'provide', 'pushes', 'question', 'questions', 'quite', 'raise',\n",
       "        'raw', 'recommend', 'rom', 'rutgers', 'say', 'see', 'segard',\n",
       "        'several', 'shouldn', 'somewhat', 'son', 'suggested', 'take',\n",
       "        'talks', 'theosis', 'think', 'thought', 'uncomfortable', 'unless',\n",
       "        'unlike', 'unto', 'us', 'viscious', 'vs', 'weak', 'weddings',\n",
       "        'weekly', 'woman', 'working'], dtype='<U80'),\n",
       " array(['08', '18', '22', '29', 'anyone', 'appear', 'around', 'ask',\n",
       "        'basis', 'behaviour', 'call', 'cannot', 'careful', 'christianity',\n",
       "        'christians', 'claim', 'cobol', 'commands', 'comment',\n",
       "        'competence', 'complete', 'criminal', 'critical', 'deceitful',\n",
       "        'denomination', 'desert', 'determine', 'die', 'displeasing',\n",
       "        'divorce', 'does', 'enough', 'europe', 'eventually', 'everything',\n",
       "        'existence', 'fact', 'few', 'fig', 'fnal', 'form', 'futon', 'gmt',\n",
       "        'happened', 'he', 'hearing', 'heart', 'his', 'history', 'humanism',\n",
       "        'impossible', 'interpretation', 'jek', 'jesus', 'jews', 'john',\n",
       "        'judgment', 'later', 'legal', 'life', 'man', 'many', 'mar', 'mark',\n",
       "        'message', 'most', 'murray', 'name', 'nobody', 'note', 'noyes',\n",
       "        'numerous', 'opposed', 'orders', 'people', 'percieved', 'perhaps',\n",
       "        'present', 'principle', 'principles', 'productions', 'public',\n",
       "        'question', 'quiz', 'raise', 'rarely', 'razi', 'referring',\n",
       "        'research', 'road', 'rochester', 'rutgers', 'same', 'says',\n",
       "        'school', 'sinfulness', 'single', 'slept', 'sort', 'sovereign',\n",
       "        'spain', 'statement', 'sure', 'talking', 'texts', 'than', 'then',\n",
       "        'topcat', 'tuff', 'understood', 'unlike', 'usenet', 'were',\n",
       "        'without', 'word', 'words', 'work', 'writers'], dtype='<U80'),\n",
       " array(['03', '11', '13', 'aa888', 'above', 'accepting', 'accuse',\n",
       "        'additional', 'already', 'alter', 'apostle', 'apr', 'argument',\n",
       "        'asleep', 'beginning', 'being', 'believe', 'big', 'blindly',\n",
       "        'boredom', 'bride', 'canon', 'certainly', 'cf', 'changed',\n",
       "        'chosen', 'christ', 'claimed', 'clh', 'closer', 'come',\n",
       "        'considered', 'cor', 'could', 'countries', 'course', 'create',\n",
       "        'cs', 'decided', 'demonstrate', 'denominations', 'descriptions',\n",
       "        'disorganized', 'does', 'entering', 'entirely', 'esau', 'even',\n",
       "        'every', 'everything', 'example', 'exist', 'fears', 'five', 'free',\n",
       "        'geneva', 'god', 'goes', 'grass', 'had', 'hand', 'happened', 'him',\n",
       "        'includes', 'into', 'introspection', 'judaism', 'judgement',\n",
       "        'large', 'latter', 'law', 'listmember', 'logic', 'manner',\n",
       "        'marriage', 'married', 'mat', 'may', 'mmh', 'moderator', 'never',\n",
       "        'obviously', 'omniscience', 'ot', 'part', 'people', 'perhaps',\n",
       "        'philosophy', 'phrasing', 'posted', 'pretty', 'priest', 'problem',\n",
       "        'questions', 'real', 'recent', 'remember', 'reply', 'required',\n",
       "        'richness', 'rooting', 'said', 'salvation', 'say', 'saying',\n",
       "        'scripture', 'seated', 'serbs', 'should', 'shredder', 'similar',\n",
       "        'sin', 'something', 'studying', 'taste', 'telepathy', 'tell',\n",
       "        'testifying', 'them', 'then', 'theological', 'these', 'think',\n",
       "        'though', 'thoughts', 'ting', 'traditional', 'try', 'twelve',\n",
       "        'two', 'unquestionable', 'uth', 'weaver', 'were', 'western',\n",
       "        'while', 'winnipeg', 'wjhovi01', 'work', 'worse'], dtype='<U80')]"
      ]
     },
     "execution_count": 100,
     "metadata": {},
     "output_type": "execute_result"
    }
   ],
   "source": [
    "# Perform inverse transform to test quality of fit\n",
    "count_vectorizer.inverse_transform(class_sample)"
   ]
  },
  {
   "cell_type": "markdown",
   "metadata": {},
   "source": [
    "***\n",
    "<a id='sampling_and_log_probs'></a>\n",
    "## Sampling and log probs"
   ]
  },
  {
   "cell_type": "code",
   "execution_count": 6,
   "metadata": {},
   "outputs": [
    {
     "data": {
      "text/plain": [
       "<tfp.distributions.MultivariateNormalDiag 'MultivariateNormalDiag' batch_shape=[3] event_shape=[2] dtype=float32>"
      ]
     },
     "execution_count": 6,
     "metadata": {},
     "output_type": "execute_result"
    }
   ],
   "source": [
    "# Make Multivariate Distribution\n",
    "\n",
    "normal_distributions = tfd.MultivariateNormalDiag(loc=[[0.5, 1], [0.1, 0], [0, 0.2]],\n",
    "                                 scale_diag=[[2, 3], [1, 3], [4, 4]])\n",
    "normal_distributions"
   ]
  },
  {
   "cell_type": "code",
   "execution_count": 7,
   "metadata": {},
   "outputs": [
    {
     "data": {
      "text/plain": [
       "<tf.Tensor: shape=(5, 3, 2), dtype=float32, numpy=\n",
       "array([[[-1.2961674 , -4.477743  ],\n",
       "        [-0.34441808, -4.4648843 ],\n",
       "        [-3.1421852 ,  0.9847862 ]],\n",
       "\n",
       "       [[ 0.8520931 , -3.5757518 ],\n",
       "        [ 0.73529404,  2.0043614 ],\n",
       "        [ 5.6922107 ,  0.38246575]],\n",
       "\n",
       "       [[ 0.0661459 , -4.1254716 ],\n",
       "        [ 0.61741614, -0.35916954],\n",
       "        [-4.245635  , -1.9636502 ]],\n",
       "\n",
       "       [[ 0.6721385 , -2.83458   ],\n",
       "        [-0.29498634,  1.5767398 ],\n",
       "        [-0.02867545, -3.6013174 ]],\n",
       "\n",
       "       [[-1.9095645 ,  1.0512418 ],\n",
       "        [ 0.13989209, -1.9639037 ],\n",
       "        [-2.5538137 ,  4.828182  ]]], dtype=float32)>"
      ]
     },
     "execution_count": 7,
     "metadata": {},
     "output_type": "execute_result"
    }
   ],
   "source": [
    "# Sample\n",
    "normal_distributions.sample(5)"
   ]
  },
  {
   "cell_type": "code",
   "execution_count": 8,
   "metadata": {},
   "outputs": [
    {
     "data": {
      "text/plain": [
       "<tfp.distributions.MultivariateNormalDiag 'MultivariateNormalDiag' batch_shape=[2, 2] event_shape=[3] dtype=float32>"
      ]
     },
     "execution_count": 8,
     "metadata": {},
     "output_type": "execute_result"
    }
   ],
   "source": [
    "# Multivariate Normal batched Distribution\n",
    "# We are broadcasting batch shapes of `loc` and `scal_diag` \n",
    "# against each other\n",
    "\n",
    "loc = [[[0.3, 1.5, 1.], [0.2, 0.4, 2.8]],\n",
    "        [[2., 2.3, 8], [1.4, 1, 1.3]]]\n",
    "scale_diag = [0.4, 1., 0.7]\n",
    "normal_distributions = tfd.MultivariateNormalDiag(loc=loc, scale_diag=scale_diag)\n",
    "normal_distributions"
   ]
  },
  {
   "cell_type": "code",
   "execution_count": 9,
   "metadata": {},
   "outputs": [
    {
     "data": {
      "text/plain": [
       "<tfp.distributions.Independent 'IndependentMultivariateNormalDiag' batch_shape=[2] event_shape=[2, 3] dtype=float32>"
      ]
     },
     "execution_count": 9,
     "metadata": {},
     "output_type": "execute_result"
    }
   ],
   "source": [
    "# Use independent to move part of the batch shape\n",
    "ind_normal_distributions = tfd.Independent(normal_distributions, reinterpreted_batch_ndims=1)\n",
    "ind_normal_distributions"
   ]
  },
  {
   "cell_type": "code",
   "execution_count": 13,
   "metadata": {},
   "outputs": [
    {
     "data": {
      "text/plain": [
       "TensorShape([5, 2, 2, 3])"
      ]
     },
     "execution_count": 13,
     "metadata": {},
     "output_type": "execute_result"
    }
   ],
   "source": [
    "# Draw some samples\n",
    "samples = ind_normal_distributions.sample(5)\n",
    "samples.shape"
   ]
  },
  {
   "cell_type": "code",
   "execution_count": 14,
   "metadata": {},
   "outputs": [
    {
     "data": {
      "text/plain": [
       "<tf.Tensor: shape=(2,), dtype=float32, numpy=array([-12.346934, -75.82132 ], dtype=float32)>"
      ]
     },
     "execution_count": 14,
     "metadata": {},
     "output_type": "execute_result"
    }
   ],
   "source": [
    "# `[B, E]` shaped input\n",
    "inp = tf.random.uniform((2,2,3))\n",
    "ind_normal_distributions.log_prob(inp)"
   ]
  },
  {
   "cell_type": "code",
   "execution_count": 15,
   "metadata": {},
   "outputs": [
    {
     "data": {
      "text/plain": [
       "<tf.Tensor: shape=(2,), dtype=float32, numpy=array([-12.441522, -73.21494 ], dtype=float32)>"
      ]
     },
     "execution_count": 15,
     "metadata": {},
     "output_type": "execute_result"
    }
   ],
   "source": [
    "# `[E]` shaped input (broadcasting over batch size)\n",
    "inp = tf.random.uniform((2,3))\n",
    "ind_normal_distributions.log_prob(inp)"
   ]
  },
  {
   "cell_type": "code",
   "execution_count": 16,
   "metadata": {},
   "outputs": [
    {
     "data": {
      "text/plain": [
       "<tf.Tensor: shape=(9, 2), dtype=float32, numpy=\n",
       "array([[-10.139837, -71.34117 ],\n",
       "       [ -9.772417, -72.8571  ],\n",
       "       [-12.456754, -68.5202  ],\n",
       "       [ -9.006897, -71.11014 ],\n",
       "       [ -9.342809, -81.18157 ],\n",
       "       [ -9.947431, -68.748116],\n",
       "       [ -7.176448, -66.988945],\n",
       "       [-11.469181, -80.726776],\n",
       "       [-10.869421, -64.40857 ]], dtype=float32)>"
      ]
     },
     "execution_count": 16,
     "metadata": {},
     "output_type": "execute_result"
    }
   ],
   "source": [
    "#`[S, B, E]` shaped input (broadcasting over samples)\n",
    "inp = tf.random.uniform((9,2,2,3))\n",
    "ind_normal_distributions.log_prob(inp)"
   ]
  },
  {
   "cell_type": "code",
   "execution_count": 17,
   "metadata": {},
   "outputs": [
    {
     "data": {
      "text/plain": [
       "<tf.Tensor: shape=(5, 2), dtype=float32, numpy=\n",
       "array([[ -9.286251, -63.888245],\n",
       "       [-10.366593, -83.21844 ],\n",
       "       [-10.17972 , -78.43152 ],\n",
       "       [ -9.265926, -67.43485 ],\n",
       "       [ -9.444034, -73.98662 ]], dtype=float32)>"
      ]
     },
     "execution_count": 17,
     "metadata": {},
     "output_type": "execute_result"
    }
   ],
   "source": [
    "# `[S, b, e]` shaped input, where [b, e] is broadcastable over [B, E]\n",
    "inp = tf.random.uniform((5,1,2,1))\n",
    "ind_normal_distributions.log_prob(inp)"
   ]
  },
  {
   "cell_type": "markdown",
   "metadata": {},
   "source": [
    "#### Naive Bayes example\n",
    "\n",
    "Lets now use what we have learned and continue the Naive Bayes classifier we were building last tutorial."
   ]
  },
  {
   "cell_type": "code",
   "execution_count": 18,
   "metadata": {},
   "outputs": [],
   "source": [
    "from sklearn.datasets import fetch_20newsgroups\n",
    "from sklearn.feature_extraction.text import CountVectorizer\n",
    "from sklearn.naive_bayes import BernoulliNB\n",
    "from sklearn.metrics import f1_score"
   ]
  },
  {
   "cell_type": "code",
   "execution_count": 19,
   "metadata": {},
   "outputs": [],
   "source": [
    "# Making a function get_data which:\n",
    "#   1) Fetches the 20 newsgroup dataset\n",
    "#   2) Performs a word count on the articles and binarizes the result\n",
    "#   3) Returns the data as a numpy matrix with the labels\n",
    "\n",
    "def get_data(categories):\n",
    "    \n",
    "    newsgroups_train_data = fetch_20newsgroups(data_home='20_Newsgroup_Data/',\n",
    "                                               subset='train', categories=categories)\n",
    "    newsgroups_test_data = fetch_20newsgroups(data_home='20_Newsgroup_Data/',\n",
    "                                              subset='test', categories=categories)\n",
    "\n",
    "    n_documents = len(newsgroups_train_data['data'])\n",
    "    count_vectorizer = CountVectorizer(input='content', binary=True,max_df=0.25, min_df=1.01/n_documents)\n",
    "    \n",
    "    train_binary_bag_of_words = count_vectorizer.fit_transform(newsgroups_train_data['data'])\n",
    "    test_binary_bag_of_words = count_vectorizer.transform(newsgroups_test_data['data']) \n",
    "\n",
    "    return (train_binary_bag_of_words.todense(), newsgroups_train_data['target']),  (test_binary_bag_of_words.todense(), newsgroups_test_data['target'])"
   ]
  },
  {
   "cell_type": "code",
   "execution_count": 20,
   "metadata": {},
   "outputs": [],
   "source": [
    "# Defining a function to conduct Laplace smoothing. This adds a base level of probability for a given feature\n",
    "# to occur in every class.\n",
    "\n",
    "def laplace_smoothing(labels, binary_data, n_classes):\n",
    "    # Compute the parameter estimates (adjusted fraction of documents in class that contain word)\n",
    "    n_words = binary_data.shape[1]\n",
    "    alpha = 1 # parameters for Laplace smoothing\n",
    "    theta = np.zeros([n_classes, n_words]) # stores parameter values - prob. word given class\n",
    "    for c_k in range(n_classes): # 0, 1, ..., 19\n",
    "        class_mask = (labels == c_k)\n",
    "        N = class_mask.sum() # number of articles in class\n",
    "        theta[c_k, :] = (binary_data[class_mask, :].sum(axis=0) + alpha)/(N + alpha*2)\n",
    "\n",
    "    return theta"
   ]
  },
  {
   "cell_type": "code",
   "execution_count": 21,
   "metadata": {},
   "outputs": [],
   "source": [
    "# Getting a subset of the 20 newsgroup dataset\n",
    "\n",
    "categories = ['alt.atheism', 'talk.religion.misc', 'comp.graphics', 'sci.space']\n",
    "\n",
    "(train_data, train_labels), (test_data, test_labels) = get_data(categories=categories)\n",
    "smoothed_counts = laplace_smoothing(labels=train_labels, binary_data=train_data, n_classes=len(categories))"
   ]
  },
  {
   "cell_type": "markdown",
   "metadata": {},
   "source": [
    "To now make our NB classifier we need to build three functions:\n",
    "* Compute the class priors\n",
    "* Build our class conditional distributions\n",
    "* Put it all together and classify our data"
   ]
  },
  {
   "cell_type": "code",
   "execution_count": 22,
   "metadata": {},
   "outputs": [],
   "source": [
    "# Function which computes the prior probability of every class based on frequency of occurence in \n",
    "# the dataset\n",
    "\n",
    "def class_priors(n_classes, labels):\n",
    "    counts = np.zeros(n_classes)\n",
    "    for c_k in range(n_classes):\n",
    "        counts[c_k] = np.sum(np.where(labels==c_k, 1, 0))\n",
    "    priors = counts / np.sum(counts)\n",
    "    print('The class priors are {}'.format(priors))\n",
    "    return priors"
   ]
  },
  {
   "cell_type": "code",
   "execution_count": 23,
   "metadata": {},
   "outputs": [
    {
     "name": "stdout",
     "output_type": "stream",
     "text": [
      "The class priors are [0.2359882  0.28711898 0.29154376 0.18534907]\n"
     ]
    },
    {
     "data": {
      "text/plain": [
       "array([0.2359882 , 0.28711898, 0.29154376, 0.18534907])"
      ]
     },
     "execution_count": 23,
     "metadata": {},
     "output_type": "execute_result"
    }
   ],
   "source": [
    "# Run the function \n",
    "priors = class_priors(n_classes=len(categories), labels=train_labels)\n",
    "priors"
   ]
  },
  {
   "cell_type": "code",
   "execution_count": 25,
   "metadata": {},
   "outputs": [
    {
     "data": {
      "text/plain": [
       "<tfp.distributions.Independent 'IndependentBernoulli' batch_shape=[4] event_shape=[17495] dtype=int32>"
      ]
     },
     "execution_count": 25,
     "metadata": {},
     "output_type": "execute_result"
    }
   ],
   "source": [
    "# Now we will do a function that given the feature occurence counts returns a Bernoulli distribution of \n",
    "# batch_shape=number of classes and event_shape=number of features.\n",
    "def make_distribution(probs):\n",
    "    batch_of_bernoullis = tfd.Bernoulli(probs = probs)\n",
    "    dist = tfd.Independent(batch_of_bernoullis, reinterpreted_batch_ndims=1)\n",
    "    return dist\n",
    "\n",
    "tf_dist = make_distribution(smoothed_counts)\n",
    "tf_dist"
   ]
  },
  {
   "cell_type": "code",
   "execution_count": 38,
   "metadata": {},
   "outputs": [],
   "source": [
    "# The final function predict_sample which given the distribution, a test sample, and the class priors:\n",
    "#   1) Computes the class conditional probabilities given the sample\n",
    "#   2) Forms the joint likelihood\n",
    "#   3) Normalises the joint likelihood and returns the log prob\n",
    "def predict_sample(dist, sample, priors):\n",
    "    cond_probs = dist.log_prob(sample)\n",
    "    joint_likelihood = tf.add(np.log(priors), cond_probs)\n",
    "    norm_factor = tf.math.reduce_logsumexp(joint_likelihood, axis=-1, keepdims=True)\n",
    "    log_prob = joint_likelihood - norm_factor\n",
    "    return log_prob"
   ]
  },
  {
   "cell_type": "markdown",
   "metadata": {},
   "source": [
    "#### Computing log_probs"
   ]
  },
  {
   "cell_type": "code",
   "execution_count": 39,
   "metadata": {},
   "outputs": [
    {
     "data": {
      "text/plain": [
       "<tf.Tensor: shape=(4,), dtype=float32, numpy=\n",
       "array([-6.1736160e+01, -1.5258789e-05, -1.1619934e+01, -6.3327240e+01],\n",
       "      dtype=float32)>"
      ]
     },
     "execution_count": 39,
     "metadata": {},
     "output_type": "execute_result"
    }
   ],
   "source": [
    "# Predicting one example from our test data\n",
    "log_probs = predict_sample(tf_dist, test_data[0], priors)\n",
    "log_probs"
   ]
  },
  {
   "cell_type": "code",
   "execution_count": 40,
   "metadata": {},
   "outputs": [
    {
     "name": "stdout",
     "output_type": "stream",
     "text": [
      "f1  0.7848499112849504\n"
     ]
    }
   ],
   "source": [
    "# Loop over our test data and classify.\n",
    "\n",
    "probabilities = []\n",
    "for sample, label in zip(test_data, test_labels):\n",
    "    probabilities.append(tf.exp(predict_sample(tf_dist, sample, priors)))\n",
    "\n",
    "probabilities = np.asarray(probabilities)\n",
    "predicted_classes = np.argmax(probabilities, axis =-1)\n",
    "print('f1 ', f1_score(test_labels, predicted_classes, average='macro'))"
   ]
  },
  {
   "cell_type": "code",
   "execution_count": 41,
   "metadata": {},
   "outputs": [
    {
     "name": "stdout",
     "output_type": "stream",
     "text": [
      "f1 from sklean  0.7848499112849504\n"
     ]
    }
   ],
   "source": [
    "# Make a Bernoulli Naive Bayes classifier using sklearn with the same level of alpha smoothing. \n",
    "\n",
    "clf = BernoulliNB(alpha=1)\n",
    "clf.fit(train_data, train_labels)\n",
    "pred = clf.predict(test_data)\n",
    "print('f1 from sklean ', f1_score(test_labels, pred, average='macro'))"
   ]
  },
  {
   "cell_type": "markdown",
   "metadata": {},
   "source": [
    "***\n",
    "<a id='trainable_distributions'></a>\n",
    "## Trainable Distributions"
   ]
  },
  {
   "cell_type": "code",
   "execution_count": 5,
   "metadata": {},
   "outputs": [],
   "source": [
    "from sklearn.datasets import fetch_20newsgroups\n",
    "from sklearn.feature_extraction.text import CountVectorizer\n",
    "from sklearn.naive_bayes import BernoulliNB\n",
    "from sklearn.metrics import f1_score"
   ]
  },
  {
   "cell_type": "code",
   "execution_count": 6,
   "metadata": {},
   "outputs": [
    {
     "data": {
      "text/plain": [
       "<tfp.distributions.Exponential 'exp' batch_shape=[] event_shape=[] dtype=float32>"
      ]
     },
     "execution_count": 6,
     "metadata": {},
     "output_type": "execute_result"
    }
   ],
   "source": [
    "# Define an exponential distribution\n",
    "exponential = tfd.Exponential(rate=0.3, name='exp')\n",
    "exponential"
   ]
  },
  {
   "cell_type": "code",
   "execution_count": 7,
   "metadata": {},
   "outputs": [
    {
     "data": {
      "image/png": "[encoded data removed]",
      "text/plain": [
       "<Figure size 432x288 with 1 Axes>"
      ]
     },
     "metadata": {
      "needs_background": "light"
     },
     "output_type": "display_data"
    }
   ],
   "source": [
    "# Plot\n",
    "\n",
    "plt.hist(exponential.sample(5000), bins=100, density=True)\n",
    "plt.show()"
   ]
  },
  {
   "cell_type": "code",
   "execution_count": 10,
   "metadata": {},
   "outputs": [
    {
     "data": {
      "text/plain": [
       "(<tf.Variable 'rate:0' shape=() dtype=float32, numpy=1.0>,)"
      ]
     },
     "execution_count": 10,
     "metadata": {},
     "output_type": "execute_result"
    }
   ],
   "source": [
    "# Define an exponential distribution with a trainable rate parameter\n",
    "exp_train = tfd.Exponential(rate=tf.Variable(1., name='rate'), name='exp_train')\n",
    "exp_train.trainable_variables"
   ]
  },
  {
   "cell_type": "code",
   "execution_count": 16,
   "metadata": {},
   "outputs": [],
   "source": [
    "# Define the negative log likelihood\n",
    "def nll(x_train, distribution):\n",
    "    return -tf.reduce_mean(distribution.log_prob(x_train))"
   ]
  },
  {
   "cell_type": "code",
   "execution_count": 17,
   "metadata": {},
   "outputs": [],
   "source": [
    "# Define a function to compute the loss and gradients\n",
    "@tf.function\n",
    "def get_loss_and_grads(x_train, distribution):\n",
    "    with tf.GradientTape() as tape:\n",
    "        tape.watch(distribution.trainable_variables)\n",
    "        loss = nll(x_train, distribution)\n",
    "        grads = tape.gradient(loss, distribution.trainable_variables)\n",
    "    return loss, grads"
   ]
  },
  {
   "cell_type": "code",
   "execution_count": 18,
   "metadata": {},
   "outputs": [],
   "source": [
    "# Optimize\n",
    "\n",
    "def exponential_dist_optimisation(data, distribution):\n",
    "\n",
    "    # Keep results for plotting\n",
    "    train_loss_results = []\n",
    "    train_rate_results = []\n",
    "    \n",
    "    optimizer = tf.keras.optimizers.SGD(learning_rate=0.05)\n",
    "\n",
    "    num_steps = 10\n",
    "\n",
    "    for i in range(num_steps):\n",
    "        loss, grads = get_loss_and_grads(data, distribution)\n",
    "        optimizer.apply_gradients(zip(grads, distribution.trainable_variables))\n",
    "        rate_value = distribution.rate.value()\n",
    "        train_loss_results.append(loss)\n",
    "        train_rate_results.append(rate_value)\n",
    "        print(\"Step {:03d}: Loss: {:.3f}: Rate: {:.3f}\".format(i, loss, rate_value))\n",
    "        \n",
    "    return train_loss_results, train_rate_results"
   ]
  },
  {
   "cell_type": "code",
   "execution_count": 19,
   "metadata": {},
   "outputs": [
    {
     "name": "stdout",
     "output_type": "stream",
     "text": [
      "Step 000: Loss: 3.315: Rate: 0.884\n",
      "Step 001: Loss: 3.054: Rate: 0.775\n",
      "Step 002: Loss: 2.824: Rate: 0.674\n",
      "Step 003: Loss: 2.628: Rate: 0.582\n",
      "Step 004: Loss: 2.471: Rate: 0.502\n",
      "Step 005: Loss: 2.354: Rate: 0.436\n",
      "Step 006: Loss: 2.276: Rate: 0.385\n",
      "Step 007: Loss: 2.231: Rate: 0.349\n",
      "Step 008: Loss: 2.210: Rate: 0.327\n",
      "Step 009: Loss: 2.202: Rate: 0.314\n"
     ]
    }
   ],
   "source": [
    "# Get some data and train\n",
    "sampled_data = exponential.sample(5000)\n",
    "train_loss_results, train_rate_results = exponential_dist_optimisation(sampled_data, exp_train)"
   ]
  },
  {
   "cell_type": "code",
   "execution_count": 20,
   "metadata": {},
   "outputs": [
    {
     "name": "stdout",
     "output_type": "stream",
     "text": [
      "Exact rate:  0.3\n",
      "Pred rate:   0.31394926\n"
     ]
    }
   ],
   "source": [
    "# Predicted value for the rate parameter\n",
    "\n",
    "pred_value = exp_train.rate.numpy()\n",
    "exact_value = exponential.rate.numpy()\n",
    "\n",
    "print(\"Exact rate: \", exact_value)\n",
    "print(\"Pred rate:  \", pred_value)"
   ]
  },
  {
   "cell_type": "code",
   "execution_count": 21,
   "metadata": {},
   "outputs": [
    {
     "data": {
      "image/png": "[encoded data removed]",
      "text/plain": [
       "<Figure size 864x576 with 2 Axes>"
      ]
     },
     "metadata": {
      "needs_background": "light"
     },
     "output_type": "display_data"
    }
   ],
   "source": [
    "# Plot to see the convergence of the estimated and true parameters\n",
    "\n",
    "tensor_exact_value = tf.constant(exact_value, shape=[len(train_rate_results)])\n",
    "\n",
    "fig, axes = plt.subplots(2, sharex=True, figsize=(12, 8))\n",
    "fig.suptitle('Convergence')\n",
    "\n",
    "axes[0].set_ylabel(\"Loss\", fontsize=14)\n",
    "axes[0].plot(train_loss_results)\n",
    "\n",
    "axes[1].set_ylabel(\"Rate\", fontsize=14)\n",
    "axes[1].set_xlabel(\"Epoch\", fontsize=14)\n",
    "axes[1].plot(train_rate_results, label='trainable rate variable')\n",
    "axes[1].plot(tensor_exact_value, label='exact rate')\n",
    "axes[1].legend()\n",
    "plt.show()"
   ]
  },
  {
   "cell_type": "code",
   "execution_count": 22,
   "metadata": {},
   "outputs": [],
   "source": [
    "# Making a function get_data which:\n",
    "#   1) Fetches the 20 newsgroup dataset\n",
    "#   2) Performs a word count on the articles and binarizes the result\n",
    "#   3) Returns the data as a numpy matrix with the labels\n",
    "\n",
    "def get_data(categories):\n",
    "\n",
    "    newsgroups_train_data = fetch_20newsgroups(data_home='20_Newsgroup_Data/',\n",
    "                                               subset='train', categories=categories)\n",
    "    newsgroups_test_data = fetch_20newsgroups(data_home='20_Newsgroup_Data/',\n",
    "                                              subset='test', categories=categories)\n",
    "\n",
    "    n_documents = len(newsgroups_train_data['data'])\n",
    "    count_vectorizer = CountVectorizer(input='content', binary=True,max_df=0.25, min_df=1.01/n_documents) \n",
    "    train_binary_bag_of_words = count_vectorizer.fit_transform(newsgroups_train_data['data']) \n",
    "    test_binary_bag_of_words = count_vectorizer.transform(newsgroups_test_data['data']) \n",
    "\n",
    "    return (train_binary_bag_of_words.todense(), newsgroups_train_data['target']),  (test_binary_bag_of_words.todense(), newsgroups_test_data['target'])\n"
   ]
  },
  {
   "cell_type": "code",
   "execution_count": 23,
   "metadata": {},
   "outputs": [],
   "source": [
    "# Defining a function to conduct laplace smoothing. This adds a base level of probability for a given feature\n",
    "# to occur in every class.\n",
    "\n",
    "def laplace_smoothing(labels, binary_data, n_classes):\n",
    "    # Compute the parameter estimates (adjusted fraction of documents in class that contain word)\n",
    "    n_words = binary_data.shape[1]\n",
    "    alpha = 1 # parameters for Laplace smoothing\n",
    "    theta = np.zeros([n_classes, n_words]) # stores parameter values - prob. word given class\n",
    "    for c_k in range(n_classes): # 0, 1, ..., 19\n",
    "        class_mask = (labels == c_k)\n",
    "        N = class_mask.sum() # number of articles in class\n",
    "        theta[c_k, :] = (binary_data[class_mask, :].sum(axis=0) + alpha)/(N + alpha*2)\n",
    "\n",
    "    return theta"
   ]
  },
  {
   "cell_type": "code",
   "execution_count": 24,
   "metadata": {},
   "outputs": [],
   "source": [
    "# Now we will do a function that given the feature occurence counts returns a Bernoulli distribution of \n",
    "# batch_shape=number of classes and event_shape=number of features.\n",
    "\n",
    "def make_distributions(probs):\n",
    "    batch_of_bernoullis = tfd.Bernoulli(probs=probs) # shape (n_classes, n_words)\n",
    "    dist = tfd.Independent(batch_of_bernoullis, reinterpreted_batch_ndims=1)\n",
    "    return dist"
   ]
  },
  {
   "cell_type": "code",
   "execution_count": 25,
   "metadata": {},
   "outputs": [],
   "source": [
    "# Function which computes the prior probability of every class based on frequency of occurence in \n",
    "# the dataset\n",
    "\n",
    "def class_priors(n_classes, labels):\n",
    "    counts = np.zeros(n_classes)\n",
    "    for c_k in range(n_classes):\n",
    "        counts[c_k] = np.sum(np.where(labels==c_k, 1, 0))\n",
    "    priors = counts / np.sum(counts)\n",
    "    print('The class priors are {}'.format(priors))\n",
    "    return priors"
   ]
  },
  {
   "cell_type": "code",
   "execution_count": 26,
   "metadata": {},
   "outputs": [],
   "source": [
    "# The final function predict_sample which given the distribution, a test sample, and the class priors:\n",
    "#   1) Computes the class conditional probabilities given the sample\n",
    "#   2) Forms the joint likelihood\n",
    "#   3) Normalises the joint likelihood and returns the log prob\n",
    "\n",
    "def predict_sample(dist, sample, priors):\n",
    "    cond_probs = dist.log_prob(sample)\n",
    "    joint_likelihood = tf.add(np.log(priors), cond_probs)\n",
    "    norm_factor = tf.math.reduce_logsumexp(joint_likelihood, axis=-1, keepdims=True)\n",
    "    log_prob = joint_likelihood - norm_factor\n",
    "\n",
    "    return log_prob"
   ]
  },
  {
   "cell_type": "code",
   "execution_count": 36,
   "metadata": {},
   "outputs": [],
   "source": [
    "# Now we learn the distribution using gradient tape\n",
    "\n",
    "def make_distribution_withGT(data, labels, nb_classes):\n",
    "\n",
    "    class_data = []\n",
    "    train_vars = []\n",
    "    distributions = []\n",
    "    for c in range(nb_classes):\n",
    "        train_vars.append(tf.Variable(initial_value=np.random.uniform(low=0.01, high =0.1, size=data.shape[-1])))\n",
    "        distributions.append(tfd.Bernoulli(probs=train_vars[c]))\n",
    "        class_mask = (labels == c)\n",
    "        class_data.append(data[class_mask, :])\n",
    "\n",
    "    for c_num in range(0,nb_classes):\n",
    "        optimizer = tf.keras.optimizers.Adam()\n",
    "        print('\\n%-------------------%')\n",
    "        print('Class ', c_num)\n",
    "        print('%-------------------%')\n",
    "\n",
    "        for i in range(0,100):\n",
    "            loss, grads = get_loss_and_grads(class_data[c_num], distributions[c_num])\n",
    "            #print('here', distributions[c_num].probs.value())\n",
    "            print(\"Iter {:03d}: Class: {:d} Loss: {:.3f}: Success on first datapoint: {:.3f}\".format(i, c_num,  loss, distributions[c_num].probs.value()[0]))\n",
    "            optimizer.apply_gradients(zip(grads, distributions[c_num].trainable_variables))\n",
    "            eta = 1e-3\n",
    "            clipped_probs = tf.clip_by_value(distributions[c_num].trainable_variables, \n",
    "                                             clip_value_min=eta, clip_value_max=1)\n",
    "            train_vars[c_num] = tf.squeeze(clipped_probs)\n",
    "\n",
    "    dist = tfd.Bernoulli(probs=train_vars)\n",
    "    dist = tfd.Independent(dist,reinterpreted_batch_ndims=1)\n",
    "\n",
    "    print(dist)\n",
    "\n",
    "    return dist\n"
   ]
  },
  {
   "cell_type": "code",
   "execution_count": 37,
   "metadata": {},
   "outputs": [
    {
     "name": "stdout",
     "output_type": "stream",
     "text": [
      "The class priors are [0.2359882  0.28711898 0.29154376 0.18534907]\n"
     ]
    }
   ],
   "source": [
    "# Make the same Naive Bayes classifier we did last tutorial\n",
    "\n",
    "categories = ['alt.atheism', 'talk.religion.misc', 'comp.graphics', 'sci.space']\n",
    "\n",
    "(train_data, train_labels), (test_data, test_labels) = get_data(categories)\n",
    "\n",
    "smoothed_counts = laplace_smoothing(labels=train_labels, binary_data=train_data, n_classes=len(categories))\n",
    "\n",
    "priors = class_priors(n_classes=len(categories), labels=train_labels)\n",
    "tf_dist = make_distributions(smoothed_counts)"
   ]
  },
  {
   "cell_type": "code",
   "execution_count": 38,
   "metadata": {},
   "outputs": [
    {
     "name": "stdout",
     "output_type": "stream",
     "text": [
      "\n",
      "%-------------------%\n",
      "Class  0\n",
      "%-------------------%\n",
      "WARNING:tensorflow:5 out of the last 17 calls to <function get_loss_and_grads at 0x7f8041b2f0d0> triggered tf.function retracing. Tracing is expensive and the excessive number of tracings is likely due to passing python objects instead of tensors. Also, tf.function has experimental_relax_shapes=True option that relaxes argument shapes that can avoid unnecessary retracing. Please refer to https://www.tensorflow.org/tutorials/customization/performance#python_or_tensor_args and https://www.tensorflow.org/api_docs/python/tf/function for more details.\n",
      "Iter 000: Loss: 0.078: Success on first datapoint: 0.019\n",
      "Iter 001: Loss: 0.077: Success on first datapoint: 0.018\n",
      "Iter 002: Loss: 0.076: Success on first datapoint: 0.017\n",
      "Iter 003: Loss: 0.075: Success on first datapoint: 0.016\n",
      "Iter 004: Loss: 0.074: Success on first datapoint: 0.015\n",
      "Iter 005: Loss: 0.074: Success on first datapoint: 0.014\n",
      "Iter 006: Loss: 0.073: Success on first datapoint: 0.013\n",
      "Iter 007: Loss: 0.072: Success on first datapoint: 0.012\n",
      "Iter 008: Loss: 0.071: Success on first datapoint: 0.011\n",
      "Iter 009: Loss: 0.070: Success on first datapoint: 0.010\n",
      "Iter 010: Loss: 0.069: Success on first datapoint: 0.010\n",
      "Iter 011: Loss: 0.068: Success on first datapoint: 0.009\n",
      "Iter 012: Loss: 0.067: Success on first datapoint: 0.008\n",
      "Iter 013: Loss: 0.066: Success on first datapoint: 0.007\n",
      "Iter 014: Loss: 0.065: Success on first datapoint: 0.006\n",
      "Iter 015: Loss: 0.064: Success on first datapoint: 0.005\n",
      "Iter 016: Loss: 0.064: Success on first datapoint: 0.005\n",
      "Iter 017: Loss: 0.063: Success on first datapoint: 0.004\n",
      "Iter 018: Loss: 0.062: Success on first datapoint: 0.004\n",
      "Iter 019: Loss: 0.061: Success on first datapoint: 0.004\n",
      "Iter 020: Loss: 0.060: Success on first datapoint: 0.004\n",
      "Iter 021: Loss: 0.059: Success on first datapoint: 0.004\n",
      "Iter 022: Loss: 0.059: Success on first datapoint: 0.004\n",
      "Iter 023: Loss: 0.058: Success on first datapoint: 0.005\n",
      "Iter 024: Loss: 0.057: Success on first datapoint: 0.005\n",
      "Iter 025: Loss: 0.056: Success on first datapoint: 0.005\n",
      "Iter 026: Loss: 0.055: Success on first datapoint: 0.006\n",
      "Iter 027: Loss: 0.054: Success on first datapoint: 0.006\n",
      "Iter 028: Loss: 0.054: Success on first datapoint: 0.006\n",
      "Iter 029: Loss: 0.053: Success on first datapoint: 0.007\n",
      "Iter 030: Loss: 0.052: Success on first datapoint: 0.007\n",
      "Iter 031: Loss: 0.051: Success on first datapoint: 0.007\n",
      "Iter 032: Loss: 0.051: Success on first datapoint: 0.007\n",
      "Iter 033: Loss: 0.050: Success on first datapoint: 0.007\n",
      "Iter 034: Loss: 0.049: Success on first datapoint: 0.008\n",
      "Iter 035: Loss: 0.048: Success on first datapoint: 0.008\n",
      "Iter 036: Loss: 0.048: Success on first datapoint: 0.007\n",
      "Iter 037: Loss: 0.047: Success on first datapoint: 0.007\n",
      "Iter 038: Loss: 0.046: Success on first datapoint: 0.007\n",
      "Iter 039: Loss: 0.045: Success on first datapoint: 0.007\n",
      "Iter 040: Loss: 0.045: Success on first datapoint: 0.007\n",
      "Iter 041: Loss: 0.044: Success on first datapoint: 0.007\n",
      "Iter 042: Loss: 0.043: Success on first datapoint: 0.007\n",
      "Iter 043: Loss: 0.043: Success on first datapoint: 0.006\n",
      "Iter 044: Loss: 0.042: Success on first datapoint: 0.006\n",
      "Iter 045: Loss: 0.041: Success on first datapoint: 0.006\n",
      "Iter 046: Loss: 0.040: Success on first datapoint: 0.006\n",
      "Iter 047: Loss: 0.040: Success on first datapoint: 0.006\n",
      "Iter 048: Loss: 0.039: Success on first datapoint: 0.006\n",
      "Iter 049: Loss: 0.038: Success on first datapoint: 0.006\n",
      "Iter 050: Loss: 0.038: Success on first datapoint: 0.006\n",
      "Iter 051: Loss: 0.037: Success on first datapoint: 0.006\n",
      "Iter 052: Loss: 0.036: Success on first datapoint: 0.006\n",
      "Iter 053: Loss: 0.036: Success on first datapoint: 0.006\n",
      "Iter 054: Loss: 0.035: Success on first datapoint: 0.006\n",
      "Iter 055: Loss: 0.034: Success on first datapoint: 0.006\n",
      "Iter 056: Loss: 0.034: Success on first datapoint: 0.006\n",
      "Iter 057: Loss: 0.033: Success on first datapoint: 0.006\n",
      "Iter 058: Loss: 0.033: Success on first datapoint: 0.006\n",
      "Iter 059: Loss: 0.032: Success on first datapoint: 0.006\n",
      "Iter 060: Loss: 0.031: Success on first datapoint: 0.006\n",
      "Iter 061: Loss: 0.031: Success on first datapoint: 0.006\n",
      "Iter 062: Loss: 0.030: Success on first datapoint: 0.007\n",
      "Iter 063: Loss: 0.030: Success on first datapoint: 0.007\n",
      "Iter 064: Loss: 0.029: Success on first datapoint: 0.007\n",
      "Iter 065: Loss: 0.028: Success on first datapoint: 0.007\n",
      "Iter 066: Loss: 0.028: Success on first datapoint: 0.006\n",
      "Iter 067: Loss: 0.027: Success on first datapoint: 0.006\n",
      "Iter 068: Loss: 0.027: Success on first datapoint: 0.006\n",
      "Iter 069: Loss: 0.026: Success on first datapoint: 0.006\n",
      "Iter 070: Loss: 0.025: Success on first datapoint: 0.006\n",
      "Iter 071: Loss: 0.025: Success on first datapoint: 0.006\n",
      "Iter 072: Loss: 0.024: Success on first datapoint: 0.006\n",
      "Iter 073: Loss: 0.024: Success on first datapoint: 0.006\n",
      "Iter 074: Loss: 0.023: Success on first datapoint: 0.006\n",
      "Iter 075: Loss: 0.023: Success on first datapoint: 0.006\n",
      "Iter 076: Loss: 0.022: Success on first datapoint: 0.006\n",
      "Iter 077: Loss: 0.022: Success on first datapoint: 0.006\n",
      "Iter 078: Loss: 0.021: Success on first datapoint: 0.006\n",
      "Iter 079: Loss: 0.021: Success on first datapoint: 0.006\n",
      "Iter 080: Loss: 0.020: Success on first datapoint: 0.006\n",
      "Iter 081: Loss: 0.019: Success on first datapoint: 0.006\n",
      "Iter 082: Loss: 0.019: Success on first datapoint: 0.006\n",
      "Iter 083: Loss: 0.018: Success on first datapoint: 0.006\n",
      "Iter 084: Loss: 0.018: Success on first datapoint: 0.006\n",
      "Iter 085: Loss: 0.017: Success on first datapoint: 0.006\n",
      "Iter 086: Loss: 0.017: Success on first datapoint: 0.006\n",
      "Iter 087: Loss: 0.016: Success on first datapoint: 0.006\n",
      "Iter 088: Loss: 0.016: Success on first datapoint: 0.006\n",
      "Iter 089: Loss: 0.015: Success on first datapoint: 0.006\n",
      "Iter 090: Loss: 0.015: Success on first datapoint: 0.006\n",
      "Iter 091: Loss: 0.014: Success on first datapoint: 0.006\n",
      "Iter 092: Loss: 0.014: Success on first datapoint: 0.006\n",
      "Iter 093: Loss: 0.013: Success on first datapoint: 0.006\n",
      "Iter 094: Loss: 0.013: Success on first datapoint: 0.006\n",
      "Iter 095: Loss: 0.013: Success on first datapoint: 0.006\n",
      "Iter 096: Loss: 0.012: Success on first datapoint: 0.006\n",
      "Iter 097: Loss: 0.012: Success on first datapoint: 0.006\n",
      "Iter 098: Loss: 0.011: Success on first datapoint: 0.006\n",
      "Iter 099: Loss: 0.011: Success on first datapoint: 0.006\n",
      "\n",
      "%-------------------%\n",
      "Class  1\n",
      "%-------------------%\n",
      "Iter 000: Loss: 0.072: Success on first datapoint: 0.098\n",
      "Iter 001: Loss: 0.071: Success on first datapoint: 0.097\n",
      "Iter 002: Loss: 0.070: Success on first datapoint: 0.096\n",
      "Iter 003: Loss: 0.069: Success on first datapoint: 0.095\n",
      "Iter 004: Loss: 0.068: Success on first datapoint: 0.094\n",
      "Iter 005: Loss: 0.067: Success on first datapoint: 0.093\n",
      "Iter 006: Loss: 0.066: Success on first datapoint: 0.092\n",
      "Iter 007: Loss: 0.065: Success on first datapoint: 0.091\n",
      "Iter 008: Loss: 0.064: Success on first datapoint: 0.090\n",
      "Iter 009: Loss: 0.063: Success on first datapoint: 0.089\n",
      "Iter 010: Loss: 0.062: Success on first datapoint: 0.088\n",
      "Iter 011: Loss: 0.061: Success on first datapoint: 0.087\n",
      "Iter 012: Loss: 0.060: Success on first datapoint: 0.086\n",
      "Iter 013: Loss: 0.060: Success on first datapoint: 0.085\n",
      "Iter 014: Loss: 0.059: Success on first datapoint: 0.084\n",
      "Iter 015: Loss: 0.058: Success on first datapoint: 0.083\n",
      "Iter 016: Loss: 0.057: Success on first datapoint: 0.082\n",
      "Iter 017: Loss: 0.056: Success on first datapoint: 0.081\n",
      "Iter 018: Loss: 0.055: Success on first datapoint: 0.080\n",
      "Iter 019: Loss: 0.054: Success on first datapoint: 0.079\n",
      "Iter 020: Loss: 0.053: Success on first datapoint: 0.078\n",
      "Iter 021: Loss: 0.053: Success on first datapoint: 0.077\n",
      "Iter 022: Loss: 0.052: Success on first datapoint: 0.077\n",
      "Iter 023: Loss: 0.051: Success on first datapoint: 0.076\n",
      "Iter 024: Loss: 0.050: Success on first datapoint: 0.075\n",
      "Iter 025: Loss: 0.049: Success on first datapoint: 0.074\n",
      "Iter 026: Loss: 0.048: Success on first datapoint: 0.073\n",
      "Iter 027: Loss: 0.048: Success on first datapoint: 0.072\n",
      "Iter 028: Loss: 0.047: Success on first datapoint: 0.071\n",
      "Iter 029: Loss: 0.046: Success on first datapoint: 0.070\n",
      "Iter 030: Loss: 0.045: Success on first datapoint: 0.069\n",
      "Iter 031: Loss: 0.045: Success on first datapoint: 0.068\n",
      "Iter 032: Loss: 0.044: Success on first datapoint: 0.067\n",
      "Iter 033: Loss: 0.043: Success on first datapoint: 0.066\n",
      "Iter 034: Loss: 0.042: Success on first datapoint: 0.065\n",
      "Iter 035: Loss: 0.041: Success on first datapoint: 0.065\n",
      "Iter 036: Loss: 0.041: Success on first datapoint: 0.064\n",
      "Iter 037: Loss: 0.040: Success on first datapoint: 0.063\n",
      "Iter 038: Loss: 0.039: Success on first datapoint: 0.062\n",
      "Iter 039: Loss: 0.038: Success on first datapoint: 0.061\n",
      "Iter 040: Loss: 0.038: Success on first datapoint: 0.060\n",
      "Iter 041: Loss: 0.037: Success on first datapoint: 0.059\n",
      "Iter 042: Loss: 0.036: Success on first datapoint: 0.058\n",
      "Iter 043: Loss: 0.036: Success on first datapoint: 0.058\n",
      "Iter 044: Loss: 0.035: Success on first datapoint: 0.057\n",
      "Iter 045: Loss: 0.034: Success on first datapoint: 0.056\n",
      "Iter 046: Loss: 0.033: Success on first datapoint: 0.055\n",
      "Iter 047: Loss: 0.033: Success on first datapoint: 0.054\n",
      "Iter 048: Loss: 0.032: Success on first datapoint: 0.054\n",
      "Iter 049: Loss: 0.031: Success on first datapoint: 0.053\n",
      "Iter 050: Loss: 0.031: Success on first datapoint: 0.052\n",
      "Iter 051: Loss: 0.030: Success on first datapoint: 0.051\n",
      "Iter 052: Loss: 0.029: Success on first datapoint: 0.051\n",
      "Iter 053: Loss: 0.029: Success on first datapoint: 0.050\n",
      "Iter 054: Loss: 0.028: Success on first datapoint: 0.049\n",
      "Iter 055: Loss: 0.027: Success on first datapoint: 0.048\n",
      "Iter 056: Loss: 0.027: Success on first datapoint: 0.048\n",
      "Iter 057: Loss: 0.026: Success on first datapoint: 0.047\n",
      "Iter 058: Loss: 0.025: Success on first datapoint: 0.046\n",
      "Iter 059: Loss: 0.025: Success on first datapoint: 0.046\n",
      "Iter 060: Loss: 0.024: Success on first datapoint: 0.045\n",
      "Iter 061: Loss: 0.024: Success on first datapoint: 0.044\n",
      "Iter 062: Loss: 0.023: Success on first datapoint: 0.044\n",
      "Iter 063: Loss: 0.022: Success on first datapoint: 0.043\n",
      "Iter 064: Loss: 0.022: Success on first datapoint: 0.043\n",
      "Iter 065: Loss: 0.021: Success on first datapoint: 0.042\n",
      "Iter 066: Loss: 0.021: Success on first datapoint: 0.041\n",
      "Iter 067: Loss: 0.020: Success on first datapoint: 0.041\n",
      "Iter 068: Loss: 0.019: Success on first datapoint: 0.040\n",
      "Iter 069: Loss: 0.019: Success on first datapoint: 0.040\n",
      "Iter 070: Loss: 0.018: Success on first datapoint: 0.039\n",
      "Iter 071: Loss: 0.018: Success on first datapoint: 0.039\n",
      "Iter 072: Loss: 0.017: Success on first datapoint: 0.039\n",
      "Iter 073: Loss: 0.017: Success on first datapoint: 0.038\n",
      "Iter 074: Loss: 0.016: Success on first datapoint: 0.038\n",
      "Iter 075: Loss: 0.015: Success on first datapoint: 0.037\n",
      "Iter 076: Loss: 0.015: Success on first datapoint: 0.037\n",
      "Iter 077: Loss: 0.014: Success on first datapoint: 0.037\n",
      "Iter 078: Loss: 0.014: Success on first datapoint: 0.036\n",
      "Iter 079: Loss: 0.013: Success on first datapoint: 0.036\n",
      "Iter 080: Loss: 0.013: Success on first datapoint: 0.036\n",
      "Iter 081: Loss: 0.012: Success on first datapoint: 0.035\n",
      "Iter 082: Loss: 0.012: Success on first datapoint: 0.035\n",
      "Iter 083: Loss: 0.011: Success on first datapoint: 0.035\n",
      "Iter 084: Loss: 0.011: Success on first datapoint: 0.035\n",
      "Iter 085: Loss: 0.010: Success on first datapoint: 0.034\n",
      "Iter 086: Loss: 0.010: Success on first datapoint: 0.034\n",
      "Iter 087: Loss: 0.009: Success on first datapoint: 0.034\n",
      "Iter 088: Loss: 0.009: Success on first datapoint: 0.034\n",
      "Iter 089: Loss: 0.008: Success on first datapoint: 0.034\n",
      "Iter 090: Loss: 0.008: Success on first datapoint: 0.034\n",
      "Iter 091: Loss: 0.007: Success on first datapoint: 0.034\n",
      "Iter 092: Loss: 0.007: Success on first datapoint: 0.034\n",
      "Iter 093: Loss: 0.006: Success on first datapoint: 0.033\n",
      "Iter 094: Loss: 0.006: Success on first datapoint: 0.033\n",
      "Iter 095: Loss: 0.005: Success on first datapoint: 0.033\n",
      "Iter 096: Loss: 0.005: Success on first datapoint: 0.033\n",
      "Iter 097: Loss: 0.004: Success on first datapoint: 0.033\n",
      "Iter 098: Loss: 0.004: Success on first datapoint: 0.033\n",
      "Iter 099: Loss: 0.003: Success on first datapoint: 0.033\n",
      "\n",
      "%-------------------%\n",
      "Class  2\n",
      "%-------------------%\n",
      "Iter 000: Loss: 0.079: Success on first datapoint: 0.039\n",
      "Iter 001: Loss: 0.078: Success on first datapoint: 0.038\n",
      "Iter 002: Loss: 0.077: Success on first datapoint: 0.037\n",
      "Iter 003: Loss: 0.076: Success on first datapoint: 0.037\n",
      "Iter 004: Loss: 0.075: Success on first datapoint: 0.036\n",
      "Iter 005: Loss: 0.074: Success on first datapoint: 0.036\n",
      "Iter 006: Loss: 0.073: Success on first datapoint: 0.035\n",
      "Iter 007: Loss: 0.072: Success on first datapoint: 0.035\n",
      "Iter 008: Loss: 0.071: Success on first datapoint: 0.034\n",
      "Iter 009: Loss: 0.070: Success on first datapoint: 0.034\n",
      "Iter 010: Loss: 0.070: Success on first datapoint: 0.034\n",
      "Iter 011: Loss: 0.069: Success on first datapoint: 0.034\n",
      "Iter 012: Loss: 0.068: Success on first datapoint: 0.034\n",
      "Iter 013: Loss: 0.067: Success on first datapoint: 0.034\n",
      "Iter 014: Loss: 0.066: Success on first datapoint: 0.035\n",
      "Iter 015: Loss: 0.065: Success on first datapoint: 0.035\n",
      "Iter 016: Loss: 0.064: Success on first datapoint: 0.035\n",
      "Iter 017: Loss: 0.064: Success on first datapoint: 0.035\n",
      "Iter 018: Loss: 0.063: Success on first datapoint: 0.036\n",
      "Iter 019: Loss: 0.062: Success on first datapoint: 0.036\n",
      "Iter 020: Loss: 0.061: Success on first datapoint: 0.036\n",
      "Iter 021: Loss: 0.060: Success on first datapoint: 0.036\n",
      "Iter 022: Loss: 0.060: Success on first datapoint: 0.036\n",
      "Iter 023: Loss: 0.059: Success on first datapoint: 0.036\n",
      "Iter 024: Loss: 0.058: Success on first datapoint: 0.036\n",
      "Iter 025: Loss: 0.057: Success on first datapoint: 0.036\n",
      "Iter 026: Loss: 0.057: Success on first datapoint: 0.036\n",
      "Iter 027: Loss: 0.056: Success on first datapoint: 0.036\n",
      "Iter 028: Loss: 0.055: Success on first datapoint: 0.036\n",
      "Iter 029: Loss: 0.054: Success on first datapoint: 0.035\n",
      "Iter 030: Loss: 0.054: Success on first datapoint: 0.035\n",
      "Iter 031: Loss: 0.053: Success on first datapoint: 0.035\n",
      "Iter 032: Loss: 0.052: Success on first datapoint: 0.035\n",
      "Iter 033: Loss: 0.051: Success on first datapoint: 0.035\n",
      "Iter 034: Loss: 0.051: Success on first datapoint: 0.035\n",
      "Iter 035: Loss: 0.050: Success on first datapoint: 0.035\n",
      "Iter 036: Loss: 0.049: Success on first datapoint: 0.035\n",
      "Iter 037: Loss: 0.049: Success on first datapoint: 0.035\n",
      "Iter 038: Loss: 0.048: Success on first datapoint: 0.035\n",
      "Iter 039: Loss: 0.047: Success on first datapoint: 0.035\n",
      "Iter 040: Loss: 0.047: Success on first datapoint: 0.035\n",
      "Iter 041: Loss: 0.046: Success on first datapoint: 0.035\n",
      "Iter 042: Loss: 0.045: Success on first datapoint: 0.036\n",
      "Iter 043: Loss: 0.045: Success on first datapoint: 0.036\n",
      "Iter 044: Loss: 0.044: Success on first datapoint: 0.036\n",
      "Iter 045: Loss: 0.043: Success on first datapoint: 0.036\n",
      "Iter 046: Loss: 0.043: Success on first datapoint: 0.036\n",
      "Iter 047: Loss: 0.042: Success on first datapoint: 0.036\n",
      "Iter 048: Loss: 0.042: Success on first datapoint: 0.036\n",
      "Iter 049: Loss: 0.041: Success on first datapoint: 0.036\n",
      "Iter 050: Loss: 0.040: Success on first datapoint: 0.035\n",
      "Iter 051: Loss: 0.040: Success on first datapoint: 0.035\n",
      "Iter 052: Loss: 0.039: Success on first datapoint: 0.035\n",
      "Iter 053: Loss: 0.039: Success on first datapoint: 0.035\n",
      "Iter 054: Loss: 0.038: Success on first datapoint: 0.035\n",
      "Iter 055: Loss: 0.037: Success on first datapoint: 0.035\n",
      "Iter 056: Loss: 0.037: Success on first datapoint: 0.035\n",
      "Iter 057: Loss: 0.036: Success on first datapoint: 0.035\n",
      "Iter 058: Loss: 0.036: Success on first datapoint: 0.035\n",
      "Iter 059: Loss: 0.035: Success on first datapoint: 0.035\n",
      "Iter 060: Loss: 0.035: Success on first datapoint: 0.035\n",
      "Iter 061: Loss: 0.034: Success on first datapoint: 0.035\n",
      "Iter 062: Loss: 0.034: Success on first datapoint: 0.035\n",
      "Iter 063: Loss: 0.033: Success on first datapoint: 0.035\n",
      "Iter 064: Loss: 0.032: Success on first datapoint: 0.035\n",
      "Iter 065: Loss: 0.032: Success on first datapoint: 0.036\n",
      "Iter 066: Loss: 0.031: Success on first datapoint: 0.035\n",
      "Iter 067: Loss: 0.031: Success on first datapoint: 0.035\n",
      "Iter 068: Loss: 0.030: Success on first datapoint: 0.035\n",
      "Iter 069: Loss: 0.030: Success on first datapoint: 0.035\n",
      "Iter 070: Loss: 0.029: Success on first datapoint: 0.035\n",
      "Iter 071: Loss: 0.029: Success on first datapoint: 0.035\n",
      "Iter 072: Loss: 0.029: Success on first datapoint: 0.035\n",
      "Iter 073: Loss: 0.028: Success on first datapoint: 0.035\n",
      "Iter 074: Loss: 0.028: Success on first datapoint: 0.035\n",
      "Iter 075: Loss: 0.027: Success on first datapoint: 0.035\n",
      "Iter 076: Loss: 0.027: Success on first datapoint: 0.035\n",
      "Iter 077: Loss: 0.026: Success on first datapoint: 0.035\n",
      "Iter 078: Loss: 0.026: Success on first datapoint: 0.035\n",
      "Iter 079: Loss: 0.025: Success on first datapoint: 0.035\n",
      "Iter 080: Loss: 0.025: Success on first datapoint: 0.035\n",
      "Iter 081: Loss: 0.024: Success on first datapoint: 0.035\n",
      "Iter 082: Loss: 0.024: Success on first datapoint: 0.035\n",
      "Iter 083: Loss: 0.024: Success on first datapoint: 0.035\n",
      "Iter 084: Loss: 0.023: Success on first datapoint: 0.035\n",
      "Iter 085: Loss: 0.023: Success on first datapoint: 0.035\n",
      "Iter 086: Loss: 0.022: Success on first datapoint: 0.035\n",
      "Iter 087: Loss: 0.022: Success on first datapoint: 0.035\n",
      "Iter 088: Loss: 0.022: Success on first datapoint: 0.035\n",
      "Iter 089: Loss: 0.021: Success on first datapoint: 0.035\n",
      "Iter 090: Loss: 0.021: Success on first datapoint: 0.035\n",
      "Iter 091: Loss: 0.020: Success on first datapoint: 0.035\n",
      "Iter 092: Loss: 0.020: Success on first datapoint: 0.035\n",
      "Iter 093: Loss: 0.020: Success on first datapoint: 0.035\n",
      "Iter 094: Loss: 0.019: Success on first datapoint: 0.035\n",
      "Iter 095: Loss: 0.019: Success on first datapoint: 0.035\n",
      "Iter 096: Loss: 0.018: Success on first datapoint: 0.035\n",
      "Iter 097: Loss: 0.018: Success on first datapoint: 0.035\n",
      "Iter 098: Loss: 0.018: Success on first datapoint: 0.035\n",
      "Iter 099: Loss: 0.017: Success on first datapoint: 0.035\n",
      "\n",
      "%-------------------%\n",
      "Class  3\n",
      "%-------------------%\n",
      "Iter 000: Loss: 0.080: Success on first datapoint: 0.033\n",
      "Iter 001: Loss: 0.079: Success on first datapoint: 0.032\n",
      "Iter 002: Loss: 0.078: Success on first datapoint: 0.031\n",
      "Iter 003: Loss: 0.077: Success on first datapoint: 0.030\n",
      "Iter 004: Loss: 0.076: Success on first datapoint: 0.029\n",
      "Iter 005: Loss: 0.075: Success on first datapoint: 0.028\n",
      "Iter 006: Loss: 0.074: Success on first datapoint: 0.027\n",
      "Iter 007: Loss: 0.074: Success on first datapoint: 0.026\n",
      "Iter 008: Loss: 0.073: Success on first datapoint: 0.025\n",
      "Iter 009: Loss: 0.072: Success on first datapoint: 0.024\n",
      "Iter 010: Loss: 0.071: Success on first datapoint: 0.023\n",
      "Iter 011: Loss: 0.070: Success on first datapoint: 0.022\n",
      "Iter 012: Loss: 0.069: Success on first datapoint: 0.021\n",
      "Iter 013: Loss: 0.068: Success on first datapoint: 0.021\n",
      "Iter 014: Loss: 0.067: Success on first datapoint: 0.020\n",
      "Iter 015: Loss: 0.066: Success on first datapoint: 0.019\n",
      "Iter 016: Loss: 0.066: Success on first datapoint: 0.018\n",
      "Iter 017: Loss: 0.065: Success on first datapoint: 0.017\n",
      "Iter 018: Loss: 0.064: Success on first datapoint: 0.016\n",
      "Iter 019: Loss: 0.063: Success on first datapoint: 0.015\n",
      "Iter 020: Loss: 0.062: Success on first datapoint: 0.014\n",
      "Iter 021: Loss: 0.061: Success on first datapoint: 0.014\n",
      "Iter 022: Loss: 0.060: Success on first datapoint: 0.013\n",
      "Iter 023: Loss: 0.060: Success on first datapoint: 0.012\n",
      "Iter 024: Loss: 0.059: Success on first datapoint: 0.011\n",
      "Iter 025: Loss: 0.058: Success on first datapoint: 0.011\n",
      "Iter 026: Loss: 0.057: Success on first datapoint: 0.010\n",
      "Iter 027: Loss: 0.056: Success on first datapoint: 0.010\n",
      "Iter 028: Loss: 0.056: Success on first datapoint: 0.009\n",
      "Iter 029: Loss: 0.055: Success on first datapoint: 0.009\n",
      "Iter 030: Loss: 0.054: Success on first datapoint: 0.008\n",
      "Iter 031: Loss: 0.053: Success on first datapoint: 0.008\n",
      "Iter 032: Loss: 0.053: Success on first datapoint: 0.008\n",
      "Iter 033: Loss: 0.052: Success on first datapoint: 0.008\n",
      "Iter 034: Loss: 0.051: Success on first datapoint: 0.008\n",
      "Iter 035: Loss: 0.050: Success on first datapoint: 0.008\n",
      "Iter 036: Loss: 0.050: Success on first datapoint: 0.008\n",
      "Iter 037: Loss: 0.049: Success on first datapoint: 0.009\n",
      "Iter 038: Loss: 0.048: Success on first datapoint: 0.009\n",
      "Iter 039: Loss: 0.047: Success on first datapoint: 0.009\n",
      "Iter 040: Loss: 0.047: Success on first datapoint: 0.009\n",
      "Iter 041: Loss: 0.046: Success on first datapoint: 0.010\n",
      "Iter 042: Loss: 0.045: Success on first datapoint: 0.010\n",
      "Iter 043: Loss: 0.045: Success on first datapoint: 0.010\n",
      "Iter 044: Loss: 0.044: Success on first datapoint: 0.010\n",
      "Iter 045: Loss: 0.043: Success on first datapoint: 0.011\n",
      "Iter 046: Loss: 0.043: Success on first datapoint: 0.011\n",
      "Iter 047: Loss: 0.042: Success on first datapoint: 0.011\n",
      "Iter 048: Loss: 0.041: Success on first datapoint: 0.011\n",
      "Iter 049: Loss: 0.041: Success on first datapoint: 0.011\n",
      "Iter 050: Loss: 0.040: Success on first datapoint: 0.012\n",
      "Iter 051: Loss: 0.039: Success on first datapoint: 0.012\n",
      "Iter 052: Loss: 0.039: Success on first datapoint: 0.012\n",
      "Iter 053: Loss: 0.038: Success on first datapoint: 0.012\n",
      "Iter 054: Loss: 0.037: Success on first datapoint: 0.012\n",
      "Iter 055: Loss: 0.037: Success on first datapoint: 0.012\n",
      "Iter 056: Loss: 0.036: Success on first datapoint: 0.012\n",
      "Iter 057: Loss: 0.035: Success on first datapoint: 0.011\n",
      "Iter 058: Loss: 0.035: Success on first datapoint: 0.011\n",
      "Iter 059: Loss: 0.034: Success on first datapoint: 0.011\n",
      "Iter 060: Loss: 0.033: Success on first datapoint: 0.011\n",
      "Iter 061: Loss: 0.033: Success on first datapoint: 0.011\n",
      "Iter 062: Loss: 0.032: Success on first datapoint: 0.011\n",
      "Iter 063: Loss: 0.032: Success on first datapoint: 0.011\n",
      "Iter 064: Loss: 0.031: Success on first datapoint: 0.011\n",
      "Iter 065: Loss: 0.030: Success on first datapoint: 0.011\n",
      "Iter 066: Loss: 0.030: Success on first datapoint: 0.011\n",
      "Iter 067: Loss: 0.029: Success on first datapoint: 0.010\n",
      "Iter 068: Loss: 0.029: Success on first datapoint: 0.010\n",
      "Iter 069: Loss: 0.028: Success on first datapoint: 0.010\n",
      "Iter 070: Loss: 0.028: Success on first datapoint: 0.010\n",
      "Iter 071: Loss: 0.027: Success on first datapoint: 0.010\n",
      "Iter 072: Loss: 0.026: Success on first datapoint: 0.010\n",
      "Iter 073: Loss: 0.026: Success on first datapoint: 0.010\n",
      "Iter 074: Loss: 0.025: Success on first datapoint: 0.010\n",
      "Iter 075: Loss: 0.025: Success on first datapoint: 0.010\n",
      "Iter 076: Loss: 0.024: Success on first datapoint: 0.010\n",
      "Iter 077: Loss: 0.024: Success on first datapoint: 0.010\n",
      "Iter 078: Loss: 0.023: Success on first datapoint: 0.010\n",
      "Iter 079: Loss: 0.023: Success on first datapoint: 0.010\n",
      "Iter 080: Loss: 0.022: Success on first datapoint: 0.010\n",
      "Iter 081: Loss: 0.022: Success on first datapoint: 0.011\n",
      "Iter 082: Loss: 0.021: Success on first datapoint: 0.011\n",
      "Iter 083: Loss: 0.020: Success on first datapoint: 0.011\n",
      "Iter 084: Loss: 0.020: Success on first datapoint: 0.011\n",
      "Iter 085: Loss: 0.019: Success on first datapoint: 0.011\n",
      "Iter 086: Loss: 0.019: Success on first datapoint: 0.011\n",
      "Iter 087: Loss: 0.018: Success on first datapoint: 0.011\n",
      "Iter 088: Loss: 0.018: Success on first datapoint: 0.011\n",
      "Iter 089: Loss: 0.017: Success on first datapoint: 0.011\n",
      "Iter 090: Loss: 0.017: Success on first datapoint: 0.011\n",
      "Iter 091: Loss: 0.016: Success on first datapoint: 0.011\n",
      "Iter 092: Loss: 0.016: Success on first datapoint: 0.011\n",
      "Iter 093: Loss: 0.015: Success on first datapoint: 0.011\n",
      "Iter 094: Loss: 0.015: Success on first datapoint: 0.011\n",
      "Iter 095: Loss: 0.014: Success on first datapoint: 0.011\n",
      "Iter 096: Loss: 0.014: Success on first datapoint: 0.011\n",
      "Iter 097: Loss: 0.014: Success on first datapoint: 0.011\n",
      "Iter 098: Loss: 0.013: Success on first datapoint: 0.011\n",
      "Iter 099: Loss: 0.013: Success on first datapoint: 0.011\n",
      "tfp.distributions.Independent(\"IndependentBernoulli\", batch_shape=[4], event_shape=[17495], dtype=int32)\n"
     ]
    }
   ],
   "source": [
    "# Now train the distributions with gradient tape\n",
    "\n",
    "GT_dist = make_distribution_withGT(data=train_data, labels=train_labels, nb_classes=4)"
   ]
  },
  {
   "cell_type": "code",
   "execution_count": 39,
   "metadata": {},
   "outputs": [
    {
     "name": "stdout",
     "output_type": "stream",
     "text": [
      "f1  0.8362067795309539\n",
      "f1  0.7848499112849504\n"
     ]
    }
   ],
   "source": [
    "# Compare the two results\n",
    "\n",
    "for dist in [GT_dist,tf_dist]:\n",
    "    probabilities = []\n",
    "    for sample, label in zip(test_data, test_labels):\n",
    "        probabilities.append(predict_sample(dist, sample, priors))\n",
    "\n",
    "    probabilities = np.asarray(probabilities)\n",
    "    predicted_classes = np.argmax(probabilities, axis =-1)\n",
    "    print('f1 ', f1_score(test_labels, predicted_classes, average='macro'))"
   ]
  },
  {
   "cell_type": "code",
   "execution_count": null,
   "metadata": {},
   "outputs": [],
   "source": []
  }
 ],
 "metadata": {
  "kernelspec": {
   "display_name": "Python 3",
   "language": "python",
   "name": "python3"
  },
  "language_info": {
   "codemirror_mode": {
    "name": "ipython",
    "version": 3
   },
   "file_extension": ".py",
   "mimetype": "text/x-python",
   "name": "python",
   "nbconvert_exporter": "python",
   "pygments_lexer": "ipython3",
   "version": "3.7.1"
  }
 },
 "nbformat": 4,
 "nbformat_minor": 4
}
