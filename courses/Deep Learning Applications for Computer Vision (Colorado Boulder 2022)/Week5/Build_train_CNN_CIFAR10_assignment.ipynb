{
  "cells": [
    {
      "cell_type": "code",
      "execution_count": 1,
      "metadata": {
        "id": "C0CCAa0cypu1"
      },
      "outputs": [],
      "source": [
        "# Step 1. Import Tensorflow and other helper libraries\n",
        "\n",
        "# make sure tensorflow is installed; uncomment the line before if you need to\n",
        "# pip install tensorflow\n",
        "\n",
        "# TensorFlow and tf.keras\n",
        "import tensorflow as tf\n",
        "\n",
        "# Helper libraries\n",
        "import numpy as np\n",
        "import matplotlib.pyplot as plt\n",
        "from tensorflow.keras import datasets, layers, models  #this is a new dependency!"
      ]
    },
    {
      "cell_type": "markdown",
      "metadata": {
        "id": "BPH6hMnLypu-"
      },
      "source": [
        "From https://www.cs.toronto.edu/~kriz/cifar.html:\n",
        "\"The CIFAR-10 dataset consists of 60000 color images in 10 classes, with 6000 images per class.\n",
        "\n",
        "The classes are completely mutually exclusive. There is no overlap between automobiles and trucks. \"Automobile\" includes sedans, SUVs, things of that sort. \"Truck\" includes only big trucks. Neither includes pickup trucks.\""
      ]
    },
    {
      "cell_type": "code",
      "execution_count": 2,
      "metadata": {
        "id": "6IVbmHryypvE"
      },
      "outputs": [],
      "source": [
        "# Step 2. Load the CIFAR-10 data\n",
        "cifar10 = tf.keras.datasets.cifar10\n",
        "(x_train, y_train), (x_test, y_test) = cifar10.load_data()"
      ]
    },
    {
      "cell_type": "code",
      "execution_count": 3,
      "metadata": {
        "colab": {
          "base_uri": "https://localhost:8080/"
        },
        "id": "jh7-chEnypvL",
        "outputId": "f0bb5f94-61fc-4d0c-bd36-6d8345e8671b"
      },
      "outputs": [
        {
          "output_type": "stream",
          "name": "stdout",
          "text": [
            "(50000, 32, 32, 3) (50000, 1)\n"
          ]
        },
        {
          "output_type": "execute_result",
          "data": {
            "text/plain": [
              "((10000, 32, 32, 3), (10000, 1))"
            ]
          },
          "metadata": {},
          "execution_count": 3
        }
      ],
      "source": [
        "# Step 3. Pre-process and Explore the data\n",
        "\n",
        "# Pre-process the data: convert pixel intensities to double values between 0 and 1\n",
        "x_train, x_test = x_train / 255.0, x_test / 255.0\n",
        "\n",
        "# Write code to check the data has the correct shape/dimension\n",
        "# Insert your code below\n",
        "\n",
        "print(x_train.shape, y_train.shape)\n",
        "x_test.shape, y_test.shape"
      ]
    },
    {
      "cell_type": "code",
      "execution_count": 4,
      "metadata": {
        "id": "BKPCJwLJypvN"
      },
      "outputs": [],
      "source": [
        "# Step 4. Build the tf.keras.Sequential model by stacking layers.\n",
        "\n",
        "# A. Create an \"empty\" sequential model and then add layers, one by one\n",
        "# B. Add a Conv2D layer with the following characteristics:\n",
        "#      - 32 output filters\n",
        "#      - each of size 5 by 5\n",
        "#      - use the Rectified Linear Unit as a non-linear activation function\n",
        "#      - no padding\n",
        "#      - the input shape is the same as the size of each of the images in the data set\n",
        "# C. Add a maxpooling layer with the following characteristics:\n",
        "#      - pool size is 2 by 2\n",
        "#      - stride is 1\n",
        "#      - no padding\n",
        "\n",
        "# Don't add any flatten or fulley connected layers at the end!\n",
        "\n",
        "# Insert your code below:\n",
        "\n",
        "model = models.Sequential([])\n",
        "model.add(layers.Conv2D(32, (5,5), activation='relu', input_shape=(32,32,3))) # num parameters = 5*5*3*32+32\n",
        "model.add(layers.MaxPooling2D((2,2), strides=1))"
      ]
    },
    {
      "cell_type": "code",
      "execution_count": 5,
      "metadata": {
        "colab": {
          "base_uri": "https://localhost:8080/"
        },
        "id": "NYaTXiNhypvP",
        "outputId": "7a4d4bfe-9a8f-41a8-e39a-9f6ebecdc3d0"
      },
      "outputs": [
        {
          "output_type": "stream",
          "name": "stdout",
          "text": [
            "Model: \"sequential\"\n",
            "_________________________________________________________________\n",
            " Layer (type)                Output Shape              Param #   \n",
            "=================================================================\n",
            " conv2d (Conv2D)             (None, 28, 28, 32)        2432      \n",
            "                                                                 \n",
            " max_pooling2d (MaxPooling2D  (None, 27, 27, 32)       0         \n",
            " )                                                               \n",
            "                                                                 \n",
            "=================================================================\n",
            "Total params: 2,432\n",
            "Trainable params: 2,432\n",
            "Non-trainable params: 0\n",
            "_________________________________________________________________\n"
          ]
        }
      ],
      "source": [
        "# Once a model is \"built\", you can call its summary() method to display its contents:\n",
        "model.summary()"
      ]
    },
    {
      "cell_type": "code",
      "execution_count": 6,
      "metadata": {
        "id": "9LRZaIwQypvQ"
      },
      "outputs": [],
      "source": [
        "# Step 5. Add more layers.\n",
        "\n",
        "# A. Add a Conv2D layer with the following characteristics:\n",
        "#      - 32 output filters\n",
        "#      - each of size 3 by 3\n",
        "#      - use the Rectified Linear Unit as a non-linear activation function\n",
        "#      - no padding\n",
        "#      - the input shape is the size of the output shape from the last maxpooling layer\n",
        "# B. Add a maxpooling layer with the following characteristics:\n",
        "#      - pool size is 2 by 2\n",
        "#      - stride is 2\n",
        "#      - no padding\n",
        "\n",
        "# Don't add any flatten or fulley connected layers at the end!\n",
        "\n",
        "# Insert your code below:\n",
        "\n",
        "model.add(layers.Conv2D(32, (3,3), activation='relu')) # num parameters = 3*3*32*32+32\n",
        "model.add(layers.MaxPooling2D((2,2), strides=2))"
      ]
    },
    {
      "cell_type": "code",
      "execution_count": 7,
      "metadata": {
        "id": "ucQPPR8-ypvS"
      },
      "outputs": [],
      "source": [
        "#?layers.MaxPooling2D"
      ]
    },
    {
      "cell_type": "code",
      "execution_count": 8,
      "metadata": {
        "colab": {
          "base_uri": "https://localhost:8080/"
        },
        "id": "q6ODnpqvypvT",
        "outputId": "d71d67a7-1ae0-424d-90f7-a81d502acb39"
      },
      "outputs": [
        {
          "output_type": "stream",
          "name": "stdout",
          "text": [
            "Model: \"sequential\"\n",
            "_________________________________________________________________\n",
            " Layer (type)                Output Shape              Param #   \n",
            "=================================================================\n",
            " conv2d (Conv2D)             (None, 28, 28, 32)        2432      \n",
            "                                                                 \n",
            " max_pooling2d (MaxPooling2D  (None, 27, 27, 32)       0         \n",
            " )                                                               \n",
            "                                                                 \n",
            " conv2d_1 (Conv2D)           (None, 25, 25, 32)        9248      \n",
            "                                                                 \n",
            " max_pooling2d_1 (MaxPooling  (None, 12, 12, 32)       0         \n",
            " 2D)                                                             \n",
            "                                                                 \n",
            "=================================================================\n",
            "Total params: 11,680\n",
            "Trainable params: 11,680\n",
            "Non-trainable params: 0\n",
            "_________________________________________________________________\n"
          ]
        }
      ],
      "source": [
        "# Once a model is \"built\", you can call its summary() method to display its contents:\n",
        "model.summary()"
      ]
    },
    {
      "cell_type": "code",
      "execution_count": 9,
      "metadata": {
        "colab": {
          "base_uri": "https://localhost:8080/"
        },
        "id": "ozNtB_7vypvU",
        "outputId": "f4d11ffb-15d9-4a17-8864-eab3f8c93f01"
      },
      "outputs": [
        {
          "output_type": "stream",
          "name": "stdout",
          "text": [
            "Model: \"sequential\"\n",
            "_________________________________________________________________\n",
            " Layer (type)                Output Shape              Param #   \n",
            "=================================================================\n",
            " conv2d (Conv2D)             (None, 28, 28, 32)        2432      \n",
            "                                                                 \n",
            " max_pooling2d (MaxPooling2D  (None, 27, 27, 32)       0         \n",
            " )                                                               \n",
            "                                                                 \n",
            " conv2d_1 (Conv2D)           (None, 25, 25, 32)        9248      \n",
            "                                                                 \n",
            " max_pooling2d_1 (MaxPooling  (None, 12, 12, 32)       0         \n",
            " 2D)                                                             \n",
            "                                                                 \n",
            " conv2d_2 (Conv2D)           (None, 10, 10, 64)        18496     \n",
            "                                                                 \n",
            " flatten (Flatten)           (None, 6400)              0         \n",
            "                                                                 \n",
            " dense (Dense)               (None, 1024)              6554624   \n",
            "                                                                 \n",
            " dense_1 (Dense)             (None, 10)                10250     \n",
            "                                                                 \n",
            "=================================================================\n",
            "Total params: 6,595,050\n",
            "Trainable params: 6,595,050\n",
            "Non-trainable params: 0\n",
            "_________________________________________________________________\n"
          ]
        }
      ],
      "source": [
        "# Adding one more convolutional layer, one flatten layer and two dense layers\n",
        "\n",
        "model.add(layers.Conv2D(64, (3,3), activation='relu'))\n",
        "model.add(layers.Flatten())\n",
        "model.add(layers.Dense(1024))\n",
        "model.add(layers.Dense(10))# last layer should be the size of the output\n",
        "model.summary()"
      ]
    },
    {
      "cell_type": "code",
      "execution_count": 10,
      "metadata": {
        "colab": {
          "base_uri": "https://localhost:8080/"
        },
        "id": "AuqPGy9fypvW",
        "outputId": "0f3351da-f16f-4c22-b293-74f92d96b94c"
      },
      "outputs": [
        {
          "output_type": "execute_result",
          "data": {
            "text/plain": [
              "array([[ 0.05040951,  0.1931329 ,  0.08588631, -0.11306959, -0.14829777,\n",
              "        -0.3237799 , -0.01577819, -0.21254715,  0.02919005, -0.04679445]],\n",
              "      dtype=float32)"
            ]
          },
          "metadata": {},
          "execution_count": 10
        }
      ],
      "source": [
        "# For each example the model returns a vector of \"logits\" or \"log-odds\" scores, one for each class.\n",
        "# pass 1 training data image to the model and convert the predictions into a numpy array\n",
        "predictions = model(x_train[:1]).numpy()\n",
        "predictions"
      ]
    },
    {
      "cell_type": "code",
      "execution_count": 11,
      "metadata": {
        "colab": {
          "base_uri": "https://localhost:8080/"
        },
        "id": "7qHcB-SVypvY",
        "outputId": "20ef69e2-c24b-4371-8d17-19f9adfebdf0"
      },
      "outputs": [
        {
          "output_type": "execute_result",
          "data": {
            "text/plain": [
              "array([[0.10943971, 0.12622893, 0.11339198, 0.09293448, 0.08971757,\n",
              "        0.07527773, 0.10243066, 0.08413454, 0.10714193, 0.09930241]],\n",
              "      dtype=float32)"
            ]
          },
          "metadata": {},
          "execution_count": 11
        }
      ],
      "source": [
        "# Use the tf.nn.softmax function to convert these logits into \"probabilities\" for each class:\n",
        "tf.nn.softmax(predictions).numpy()\n"
      ]
    },
    {
      "cell_type": "code",
      "execution_count": 12,
      "metadata": {
        "colab": {
          "base_uri": "https://localhost:8080/"
        },
        "id": "ZkjW5sJJypvZ",
        "outputId": "c17150c3-64ed-49cc-8746-1297bdf2cd3f"
      },
      "outputs": [
        {
          "output_type": "execute_result",
          "data": {
            "text/plain": [
              "2.2785692"
            ]
          },
          "metadata": {},
          "execution_count": 12
        }
      ],
      "source": [
        "# Choose an optimizer and loss function for training\n",
        "\n",
        "# Deep learning neural networks are trained using the stochastic gradient descent optimization \n",
        "# algorithm. As part of the optimization algorithm, the error for the current state of the \n",
        "# model must be estimated repeatedly. This requires the choice of an error function, \n",
        "# conventionally called a loss function, that can be used to estimate the loss of the model so \n",
        "# that the weights can be updated to reduce the loss on the next evaluation.\n",
        "\n",
        "# The losses.SparseCategoricalCrossentropy loss takes a vector of logits and a True index and \n",
        "# returns a scalar loss for each example.\n",
        "\n",
        "loss_fn = tf.keras.losses.SparseCategoricalCrossentropy(from_logits=True)\n",
        "\n",
        "# This loss is equal to the negative log probability of the true class: It is zero if the model \n",
        "# is sure of the correct class. This untrained model gives probabilities close to random\n",
        "# (1/10 for each class), so the initial loss should be close to -tf.math.log(1/10) ~= 2.3.\n",
        "\n",
        "loss_fn(y_train[:1], predictions).numpy()"
      ]
    },
    {
      "cell_type": "code",
      "execution_count": 13,
      "metadata": {
        "colab": {
          "base_uri": "https://localhost:8080/"
        },
        "id": "cVW6x3Nzypvc",
        "outputId": "45a6c03f-719a-43de-af88-911eacca5413"
      },
      "outputs": [
        {
          "output_type": "stream",
          "name": "stdout",
          "text": [
            "Epoch 1/10\n",
            "1563/1563 [==============================] - 13s 8ms/step - loss: 1.5475 - accuracy: 0.4402\n",
            "Epoch 2/10\n",
            "1563/1563 [==============================] - 8s 5ms/step - loss: 1.2671 - accuracy: 0.5514\n",
            "Epoch 3/10\n",
            "1563/1563 [==============================] - 8s 5ms/step - loss: 1.1311 - accuracy: 0.5992\n",
            "Epoch 4/10\n",
            "1563/1563 [==============================] - 8s 5ms/step - loss: 1.0269 - accuracy: 0.6397\n",
            "Epoch 5/10\n",
            "1563/1563 [==============================] - 8s 5ms/step - loss: 0.9519 - accuracy: 0.6661\n",
            "Epoch 6/10\n",
            "1563/1563 [==============================] - 8s 5ms/step - loss: 0.8922 - accuracy: 0.6858\n",
            "Epoch 7/10\n",
            "1563/1563 [==============================] - 8s 5ms/step - loss: 0.8420 - accuracy: 0.7030\n",
            "Epoch 8/10\n",
            "1563/1563 [==============================] - 8s 5ms/step - loss: 0.7985 - accuracy: 0.7192\n",
            "Epoch 9/10\n",
            "1563/1563 [==============================] - 9s 6ms/step - loss: 0.7633 - accuracy: 0.7307\n",
            "Epoch 10/10\n",
            "1563/1563 [==============================] - 9s 6ms/step - loss: 0.7251 - accuracy: 0.7450\n"
          ]
        }
      ],
      "source": [
        "# Step 6: Ready to compile! \n",
        "# optimizer parameter = 'adam'. Other optimizer options here: \n",
        "# https://www.tensorflow.org/api_docs/python/tf/keras/optimizers\n",
        "# loss = the name of the loss function\n",
        "# Typically you will use metrics=['accuracy']\n",
        "model.compile(optimizer='adam', loss=loss_fn, metrics=['accuracy'])\n",
        "\n",
        "# Task: call the model.fit method to train the model for 10 iterations\n",
        "\n",
        "# Insert your code below:\n",
        "history = model.fit(x_train, y_train, epochs=10)"
      ]
    },
    {
      "cell_type": "code",
      "execution_count": 14,
      "metadata": {
        "colab": {
          "base_uri": "https://localhost:8080/"
        },
        "id": "aCX0vWOtypvf",
        "outputId": "9698c97b-5dbd-42c9-c75e-2f9b091180fe"
      },
      "outputs": [
        {
          "output_type": "stream",
          "name": "stdout",
          "text": [
            "313/313 - 1s - loss: 1.2110 - accuracy: 0.6096 - 816ms/epoch - 3ms/step\n",
            "\n",
            "Test accuracy: 0.6096000075340271\n"
          ]
        }
      ],
      "source": [
        "# Step 7a. Evaluate the model: compare how the model performs on the test dataset\n",
        "\n",
        "# The Model.evaluate method checks the models performance, usually on a \"Validation-set\" \n",
        "# or \"Test-set\".\n",
        "\n",
        "test_loss, test_acc = model.evaluate(x_test,  y_test, verbose=2)\n",
        "\n",
        "print('\\nTest accuracy:', test_acc)"
      ]
    },
    {
      "cell_type": "code",
      "execution_count": 18,
      "metadata": {
        "colab": {
          "base_uri": "https://localhost:8080/",
          "height": 300
        },
        "id": "ll1zQrHIypvh",
        "outputId": "a2a87a64-7a0c-40f0-b1c3-cadbecbd4d7f"
      },
      "outputs": [
        {
          "output_type": "stream",
          "name": "stdout",
          "text": [
            "313/313 - 1s - loss: 1.2110 - accuracy: 0.6096 - 807ms/epoch - 3ms/step\n"
          ]
        },
        {
          "output_type": "display_data",
          "data": {
            "text/plain": [
              "<Figure size 432x288 with 1 Axes>"
            ],
            "image/png": "[encoded data removed]"
          },
          "metadata": {
            "needs_background": "light"
          }
        }
      ],
      "source": [
        "# 7b. Plot training vs testing accuracy\n",
        "\n",
        "#history = model.fit(x_train, y_train, epochs=10, validation_data=(x_test, y_test))\n",
        "plt.plot(history.history['accuracy'], label='accuracy')\n",
        "#plt.plot(history.history['val_accuracy'], label = 'val_accuracy')\n",
        "plt.xlabel('Epoch')\n",
        "plt.ylabel('Accuracy')\n",
        "plt.ylim([0.5, 1])\n",
        "plt.legend(loc='lower right')\n",
        "\n",
        "test_loss, test_acc = model.evaluate(x_test,  y_test, verbose=2)"
      ]
    },
    {
      "cell_type": "code",
      "execution_count": 19,
      "metadata": {
        "colab": {
          "base_uri": "https://localhost:8080/"
        },
        "id": "6ih04kZEypvi",
        "outputId": "97fd9659-919b-43a2-c804-218bf7411eb4"
      },
      "outputs": [
        {
          "output_type": "execute_result",
          "data": {
            "text/plain": [
              "array([3.3658978e-02, 7.6984684e-04, 2.1430358e-02, 2.3735161e-01,\n",
              "       1.1035348e-03, 2.9782274e-01, 2.6225952e-02, 1.9606939e-04,\n",
              "       3.7510362e-01, 6.3372999e-03], dtype=float32)"
            ]
          },
          "metadata": {},
          "execution_count": 19
        }
      ],
      "source": [
        "# 8. Make predictions\n",
        "\n",
        "# If you want your model to return a probability, you can wrap the trained model, and attach \n",
        "# the softmax classifier to it:\n",
        "\n",
        "probability_model = tf.keras.Sequential([model,tf.keras.layers.Softmax()])\n",
        "predictions = probability_model.predict(x_test[:10])# test the first 10 images\n",
        "#print(predictions.shape)\n",
        "predictions[0]\n"
      ]
    },
    {
      "cell_type": "code",
      "execution_count": 20,
      "metadata": {
        "colab": {
          "base_uri": "https://localhost:8080/"
        },
        "id": "oyntJ9YIypvk",
        "outputId": "5f02340b-2ba1-4a12-dde7-c2e8eecdd9e6"
      },
      "outputs": [
        {
          "output_type": "stream",
          "name": "stdout",
          "text": [
            "[8 8 8 0 6 6 3 4 5 9]\n",
            "[[3]\n",
            " [8]\n",
            " [8]\n",
            " [0]\n",
            " [6]\n",
            " [6]\n",
            " [1]\n",
            " [6]\n",
            " [3]\n",
            " [1]]\n"
          ]
        }
      ],
      "source": [
        "# Apply a label and compare with the test label\n",
        "\n",
        "print(np.argmax(predictions, axis = 1))\n",
        "print(y_test[:10])\n"
      ]
    },
    {
      "cell_type": "code",
      "execution_count": 23,
      "metadata": {
        "colab": {
          "base_uri": "https://localhost:8080/",
          "height": 103
        },
        "id": "JQZNVs1Cypvl",
        "outputId": "48af3e43-f6a7-4433-8d19-0474b0117efd"
      },
      "outputs": [
        {
          "output_type": "display_data",
          "data": {
            "text/plain": [
              "<Figure size 432x288 with 5 Axes>"
            ],
            "image/png": "[encoded data removed]"
          },
          "metadata": {}
        }
      ],
      "source": [
        "class_names = ['airplane', 'automobile', 'bird', 'cat', 'deer', 'dog', 'frog', 'horse', 'ship', 'truck']\n",
        "# View the first five images, to check the validity of the labels\n",
        "for i in range(5):\n",
        "    plt.subplot(1,5,i+1)\n",
        "    plt.xticks([])\n",
        "    plt.yticks([])\n",
        "    plt.grid(False)\n",
        "    plt.imshow(x_test[i])\n",
        "    plt.xlabel(class_names[y_test[i][0]])\n",
        "plt.show() "
      ]
    },
    {
      "cell_type": "code",
      "source": [
        "history.history"
      ],
      "metadata": {
        "colab": {
          "base_uri": "https://localhost:8080/"
        },
        "id": "JKWGEvNN3YhJ",
        "outputId": "79da9a9c-a3ae-4c72-8bed-65d15dc65cf6"
      },
      "execution_count": 17,
      "outputs": [
        {
          "output_type": "execute_result",
          "data": {
            "text/plain": [
              "{'loss': [1.5474951267242432,\n",
              "  1.2671302556991577,\n",
              "  1.13108491897583,\n",
              "  1.0269365310668945,\n",
              "  0.9518603682518005,\n",
              "  0.8921878337860107,\n",
              "  0.8420451283454895,\n",
              "  0.7985242009162903,\n",
              "  0.7633422613143921,\n",
              "  0.7251287698745728],\n",
              " 'accuracy': [0.4401800036430359,\n",
              "  0.5514400005340576,\n",
              "  0.5992000102996826,\n",
              "  0.6396600008010864,\n",
              "  0.6661199927330017,\n",
              "  0.6857799887657166,\n",
              "  0.7030199766159058,\n",
              "  0.7192000150680542,\n",
              "  0.7307400107383728,\n",
              "  0.7450000047683716]}"
            ]
          },
          "metadata": {},
          "execution_count": 17
        }
      ]
    },
    {
      "cell_type": "code",
      "source": [],
      "metadata": {
        "id": "zX6BrIaV3y1J"
      },
      "execution_count": null,
      "outputs": []
    }
  ],
  "metadata": {
    "kernelspec": {
      "display_name": "Python 3",
      "language": "python",
      "name": "python3"
    },
    "language_info": {
      "codemirror_mode": {
        "name": "ipython",
        "version": 3
      },
      "file_extension": ".py",
      "mimetype": "text/x-python",
      "name": "python",
      "nbconvert_exporter": "python",
      "pygments_lexer": "ipython3",
      "version": "3.7.6"
    },
    "colab": {
      "provenance": [],
      "collapsed_sections": []
    },
    "accelerator": "GPU",
    "gpuClass": "standard"
  },
  "nbformat": 4,
  "nbformat_minor": 0
}