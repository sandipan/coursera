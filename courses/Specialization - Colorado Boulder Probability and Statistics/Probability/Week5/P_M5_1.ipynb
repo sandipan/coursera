{
 "cells": [
  {
   "cell_type": "markdown",
   "metadata": {},
   "source": [
    "# Module 5 Peer Review Assignment"
   ]
  },
  {
   "cell_type": "markdown",
   "metadata": {},
   "source": [
    "# Problem 1\n",
    "\n",
    "Roll two six-sided fair dice. Let $X$ denote the larger of the two values. Let $Y$ denote the smaller of the two values."
   ]
  },
  {
   "cell_type": "markdown",
   "metadata": {},
   "source": [
    "**a)** Construct a table that gives the joint probability mass function for $X$ and $Y$. (Note: \"X is the larger value and Y is the smaller value in a two dice roll\" means that for any two dice roll, X will be greater than or equal to Y)."
   ]
  },
  {
   "cell_type": "markdown",
   "metadata": {},
   "source": [
    "\\begin{array}\n",
    "& x/y & 1 & 2 & 3 & 4 & 5 & 6\\\\\n",
    "1     & 1/36 & 0 & 0 & 0 & 0 & 0\\\\    \n",
    "2     & 2/36 & 1/36 & 0 & 0 & 0 & 0\\\\\n",
    "3     & 2/36 & 2/36 & 1/36 & 0 & 0 & 0\\\\\n",
    "4     & 2/36 & 2/36 & 2/36 & 1/36 & 0 & 0\\\\\n",
    "5     & 2/36 & 2/36 & 2/36 & 2/36 & 1/36 & 0\\\\\n",
    "6     & 2/36 & 2/36 & 2/36 & 2/36 & 2/36 & 1/36\\\\\n",
    "\\end{array}\n",
    "\n",
    "Since in all but the diagonal elements in the above array, we have couple of choices, corresponding to the permutation of the values in two dice."
   ]
  },
  {
   "cell_type": "markdown",
   "metadata": {},
   "source": [
    "**b)** What is $P(X \\ge 3, Y = 1)$?"
   ]
  },
  {
   "cell_type": "markdown",
   "metadata": {},
   "source": [
    "$P(X \\ge 3, Y = 1) = \\sum\\limits_{x=3}^{6}P(X=x, Y=1)=\\frac{8}{36} = \\frac{2}{9}$"
   ]
  },
  {
   "cell_type": "markdown",
   "metadata": {},
   "source": [
    "**c)** What is $P(X \\ge Y + 2)$?"
   ]
  },
  {
   "cell_type": "markdown",
   "metadata": {},
   "source": [
    "$\\begin{array}\n",
    "&P(X \\ge Y + 2) =& P(X=3, Y=1) + P(X=4, Y=1) + P(X=4, Y=2) + P(X=5, Y=1) + P(X=5, Y=2) +\\\\\n",
    "                 & P(X=5, Y=3) + P(X=6, Y=1) + P(X=6, Y=2) + P(X=6, Y=3) + P(X=6, Y=4) \\\\\n",
    "                &= \\frac{20}{36} = \\frac{5}{9}\n",
    "\\end{array}$"
   ]
  },
  {
   "cell_type": "markdown",
   "metadata": {},
   "source": [
    "**d)** Are $X$ and $Y$ independent? Explain."
   ]
  },
  {
   "cell_type": "markdown",
   "metadata": {},
   "source": [
    "No, they are dependent. For example, $P(X=1)=\\frac{1}{36}$ and $P(Y=1)=\\frac{11}{36}$ and $P(X=1, Y=1)=\\frac{1}{36}$, Clearly, $P(X=1,Y=1) \\neq P(X=1)P(Y=1)$."
   ]
  },
  {
   "cell_type": "markdown",
   "metadata": {},
   "source": [
    "# Problem 2\n",
    "\n",
    "Let $(X, Y)$ be continuous random variables with joint PDF:\n",
    "\n",
    "$$\n",
    "  f(x,y) =\n",
    "  \\begin{cases}\n",
    "                                   cxy^2 & \\text{if $0 \\le x \\le 1 \\text{ and } 0 \\le y \\le 1$} \\\\\n",
    "                                   0 & \\text{else}\n",
    "  \\end{cases}\n",
    "$$\n"
   ]
  },
  {
   "cell_type": "markdown",
   "metadata": {},
   "source": [
    "**Part a)**\n",
    "\n",
    "Solve for $c$. Show your work."
   ]
  },
  {
   "cell_type": "markdown",
   "metadata": {},
   "source": [
    "Since $f$ is a pdf, we have $\\int\\limits_{0}^{1}\\int\\limits_{0}^{1}cxy^2dxdy=c\\int\\limits_{0}^{1}xdx\\int\\limits_{0}^{1}y^2dy=c\\left[\\frac{x^2}{2}\\right]_0^1\\left[\\frac{y^3}{3}\\right]_0^1=\\frac{c}{6}=1 \\implies c=6$ "
   ]
  },
  {
   "cell_type": "markdown",
   "metadata": {},
   "source": [
    "**Part b)** \n",
    "\n",
    "Find the marginal distributions $f_X(x)$ and $f_Y(y)$. Show your work."
   ]
  },
  {
   "cell_type": "markdown",
   "metadata": {},
   "source": [
    "$f_X(x) = 6\\int\\limits_{0}^1 xy^2dy=6x\\left[\\frac{y^3}{3}\\right]_0^1=2x,\\quad 0\\leq x \\leq 1$\n",
    "\n",
    "$f_Y(y) = 6\\int\\limits_{0}^1 xy^2dx=6y^2\\left[\\frac{x^2}{2}\\right]_0^1=3y^2,\\quad 0\\leq y \\leq 1$"
   ]
  },
  {
   "cell_type": "markdown",
   "metadata": {},
   "source": [
    "**Part c)**\n",
    "\n",
    "Solve for $E[X]$ and $E[Y]$. Show your work."
   ]
  },
  {
   "cell_type": "markdown",
   "metadata": {},
   "source": [
    "$E[X] = \\int\\limits_{0}^1 xf_X(x)dx = \\int\\limits_{0}^1 2x^2dx=2\\left[\\frac{x^3}{3}\\right]_0^1=\\frac{2}{3}$\n",
    "\n",
    "$E[Y] = \\int\\limits_{0}^1 yf_Y(y)dy = \\int\\limits_{0}^1 3y^3dy=3\\left[\\frac{y^4}{4}\\right]_0^1=\\frac{3}{4}$"
   ]
  },
  {
   "cell_type": "markdown",
   "metadata": {},
   "source": [
    "**Part d)** \n",
    "\n",
    "Using the joint PDF, solve for $E[XY]$. Show your work."
   ]
  },
  {
   "cell_type": "markdown",
   "metadata": {},
   "source": [
    "$E[XY]=\\int\\limits_{0}^1\\int\\limits_{0}^1 xyf(x,y)dxdy =\\int\\limits_{0}^1\\int\\limits_{0}^1 xy.6xy^2dxdy=6\\int\\limits_{0}^1x^2dx\\int\\limits_{0}^1y^3dy=6\\left[\\frac{x^3}{3}\\right]_0^1\\left[\\frac{y^4}{4}\\right]_0^1=\\frac{1}{2}$"
   ]
  },
  {
   "cell_type": "markdown",
   "metadata": {},
   "source": [
    "**Part e)**\n",
    "\n",
    "Are $X$ and $Y$ independent?"
   ]
  },
  {
   "cell_type": "markdown",
   "metadata": {},
   "source": [
    "Yes, they are.\n",
    "\n",
    "We have $E[XY]=\\frac{1}{2} = \\frac{2}{4}=\\frac{2}{3}.\\frac{3}{4} = E[X]E[Y]$, i.e., $cov(X,Y) = E[XY] - E[X]E[Y] = 0$, i.e., $X$ and $Y$ are uncorrelated.\n",
    "\n",
    "Also, $f(x,y)=6xy^2=2x.3y^2=f_X(x)f_Y(y)$, for all $0 \\leq x, y \\leq 1$ which implies that they are independent."
   ]
  }
 ],
 "metadata": {
  "kernelspec": {
   "display_name": "R",
   "language": "R",
   "name": "ir"
  },
  "language_info": {
   "codemirror_mode": "r",
   "file_extension": ".r",
   "mimetype": "text/x-r-source",
   "name": "R",
   "pygments_lexer": "r",
   "version": "3.6.3"
  }
 },
 "nbformat": 4,
 "nbformat_minor": 4
}
