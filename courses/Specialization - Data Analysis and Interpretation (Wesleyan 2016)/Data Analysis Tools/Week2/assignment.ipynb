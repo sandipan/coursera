{
 "cells": [
  {
   "cell_type": "markdown",
   "metadata": {},
   "source": [
    "##Model Interpretation for Chi-Square Tests:\n",
    "\n",
    "We are interested to test the assoication between the variables *life expectancy* and *alcohol consumption* in the Gapminder dataset. Both these variables are numeric, so we first converted both of them to 2-level categorical variables (by splitting around the median value). When examining the association between life expectancy (categorical response) and alcohol consumption (categorical explanatory), a chi-square test of independence revealed that the countries with low alcohol consumption rates ((0-6] litres) were more likely to have higher life expectancies (71% of them with (0-70] years) compared to those with high alcohol consumption rates (63% of them with (70-100] years), $\\chi^2=18.61177373551309$, 1 df, p-value=1.6022793011516588e-05.\n",
    "\n",
    "The df or degree of freedom we record is the number of levels of the explanatory variable -1. Here the df is 1 since the alcohol consumption has 2 levels (df 2-1=1)."
   ]
  },
  {
   "cell_type": "code",
   "execution_count": 59,
   "metadata": {
    "collapsed": false
   },
   "outputs": [
    {
     "data": {
      "text/html": [
       "<script>\n",
       "code_show=true; \n",
       "function code_toggle() {\n",
       " if (code_show){\n",
       " $('div.input').hide();\n",
       " } else {\n",
       " $('div.input').show();\n",
       " }\n",
       " code_show = !code_show\n",
       "} \n",
       "$( document ).ready(code_toggle);\n",
       "</script>\n",
       "The raw code for this IPython notebook is by default hidden for easier reading.\n",
       "To toggle on/off the raw code, click <a href=\"javascript:code_toggle()\">here</a>."
      ],
      "text/plain": [
       "<IPython.core.display.HTML object>"
      ]
     },
     "execution_count": 59,
     "metadata": {},
     "output_type": "execute_result"
    }
   ],
   "source": [
    "from IPython.display import HTML\n",
    "HTML('''<script>\n",
    "code_show=true; \n",
    "function code_toggle() {\n",
    " if (code_show){\n",
    " $('div.input').hide();\n",
    " } else {\n",
    " $('div.input').show();\n",
    " }\n",
    " code_show = !code_show\n",
    "} \n",
    "$( document ).ready(code_toggle);\n",
    "</script>\n",
    "The raw code for this IPython notebook is by default hidden for easier reading.\n",
    "To toggle on/off the raw code, click <a href=\"javascript:code_toggle()\">here</a>.''')"
   ]
  },
  {
   "cell_type": "code",
   "execution_count": 60,
   "metadata": {
    "collapsed": false
   },
   "outputs": [
    {
     "data": {
      "text/html": [
       "<div style=\"max-height:1000px;max-width:1500px;overflow:auto;\">\n",
       "<table border=\"1\" class=\"dataframe\">\n",
       "  <thead>\n",
       "    <tr style=\"text-align: right;\">\n",
       "      <th></th>\n",
       "      <th>lifeexpectancy</th>\n",
       "      <th>alcconsumption</th>\n",
       "    </tr>\n",
       "  </thead>\n",
       "  <tbody>\n",
       "    <tr>\n",
       "      <th>count</th>\n",
       "      <td> 176.000000</td>\n",
       "      <td> 176.000000</td>\n",
       "    </tr>\n",
       "    <tr>\n",
       "      <th>mean</th>\n",
       "      <td>  69.143682</td>\n",
       "      <td>   6.646250</td>\n",
       "    </tr>\n",
       "    <tr>\n",
       "      <th>std</th>\n",
       "      <td>   9.828267</td>\n",
       "      <td>   4.977415</td>\n",
       "    </tr>\n",
       "    <tr>\n",
       "      <th>min</th>\n",
       "      <td>  47.794000</td>\n",
       "      <td>   0.030000</td>\n",
       "    </tr>\n",
       "    <tr>\n",
       "      <th>25%</th>\n",
       "      <td>  62.646000</td>\n",
       "      <td>   2.495000</td>\n",
       "    </tr>\n",
       "    <tr>\n",
       "      <th>50%</th>\n",
       "      <td>  72.558500</td>\n",
       "      <td>   5.865000</td>\n",
       "    </tr>\n",
       "    <tr>\n",
       "      <th>75%</th>\n",
       "      <td>  75.985000</td>\n",
       "      <td>   9.810000</td>\n",
       "    </tr>\n",
       "    <tr>\n",
       "      <th>max</th>\n",
       "      <td>  83.394000</td>\n",
       "      <td>  23.010000</td>\n",
       "    </tr>\n",
       "  </tbody>\n",
       "</table>\n",
       "</div>"
      ],
      "text/plain": [
       "       lifeexpectancy  alcconsumption\n",
       "count      176.000000      176.000000\n",
       "mean        69.143682        6.646250\n",
       "std          9.828267        4.977415\n",
       "min         47.794000        0.030000\n",
       "25%         62.646000        2.495000\n",
       "50%         72.558500        5.865000\n",
       "75%         75.985000        9.810000\n",
       "max         83.394000       23.010000"
      ]
     },
     "execution_count": 60,
     "metadata": {},
     "output_type": "execute_result"
    }
   ],
   "source": [
    "import pandas\n",
    "import scipy.stats\n",
    "import seaborn\n",
    "import matplotlib.pyplot as plt\n",
    "%matplotlib inline\n",
    "\n",
    "data = pandas.read_csv('C:\\\\courses\\\\Coursera\\\\Current\\\\Data Analysis Tools\\\\Week2\\\\gapminder.csv')\n",
    "data.drop('country', 1)\n",
    "\n",
    "df1 = pandas.DataFrame(data, columns=['lifeexpectancy', 'alcconsumption'])\n",
    "#df1 = data.copy()\n",
    "#df1['alcconsumption'] = pandas.to_numeric(df1['alcconsumption'], errors='coerce')\n",
    "df1['alcconsumption'] = data['alcconsumption'].convert_objects(convert_numeric=True)\n",
    "#df1['urbanrate'] = pandas.to_numeric(df1['urbanrate'], errors='coerce')\n",
    "#df1['urbanrate'] = data['urbanrate'].convert_objects(convert_numeric=True)\n",
    "#df1['lifeexpectancy'] = pandas.to_numeric(df1['lifeexpectancy'], errors='coerce')\n",
    "df1['lifeexpectancy'] = data['lifeexpectancy'].convert_objects(convert_numeric=True)\n",
    "df1 = df1.dropna()\n",
    "df1.describe()"
   ]
  },
  {
   "cell_type": "code",
   "execution_count": 61,
   "metadata": {
    "collapsed": false
   },
   "outputs": [
    {
     "data": {
      "text/plain": [
       "<matplotlib.figure.Figure at 0x6d0d0d0>"
      ]
     },
     "metadata": {},
     "output_type": "display_data"
    },
    {
     "data": {
      "image/png": "[encoded data removed]",
      "text/plain": [
       "<matplotlib.figure.Figure at 0x6d0d1b0>"
      ]
     },
     "metadata": {},
     "output_type": "display_data"
    }
   ],
   "source": [
    "plt.figure()\n",
    "df1.hist(alpha=0.5, bins=10, xrot=90)\n",
    "plt.show()"
   ]
  },
  {
   "cell_type": "code",
   "execution_count": 62,
   "metadata": {
    "collapsed": false
   },
   "outputs": [
    {
     "data": {
      "image/png": "[encoded data removed]",
      "text/plain": [
       "<matplotlib.figure.Figure at 0x8200470>"
      ]
     },
     "metadata": {},
     "output_type": "display_data"
    }
   ],
   "source": [
    "df2 = df1.copy()\n",
    "df2['alcconsumption'] = pandas.cut(df2.alcconsumption, bins=[0,6,25])\n",
    "seaborn.factorplot(x=\"alcconsumption\", y=\"lifeexpectancy\", data=df2, kind=\"bar\", ci=None)\n",
    "plt.xlabel('Alcohol Consumption (litres)')\n",
    "plt.ylabel('Life Expectancy (years)')\n",
    "plt.show()"
   ]
  },
  {
   "cell_type": "code",
   "execution_count": 63,
   "metadata": {
    "collapsed": false
   },
   "outputs": [],
   "source": [
    "df2['lifeexpectancy'] = pandas.cut(df2.lifeexpectancy, bins=[0,70,100])"
   ]
  },
  {
   "cell_type": "code",
   "execution_count": 64,
   "metadata": {
    "collapsed": false
   },
   "outputs": [
    {
     "name": "stdout",
     "output_type": "stream",
     "text": [
      "lifeexpectancy  (0, 70]  (70, 100]\n",
      "alcconsumption                    \n",
      "(0, 6]               53         37\n",
      "(6, 25]              22         64\n"
     ]
    }
   ],
   "source": [
    "# contingency table of observed counts\n",
    "ct1=pandas.crosstab(df2['alcconsumption'], df2['lifeexpectancy'])\n",
    "print (ct1)"
   ]
  },
  {
   "cell_type": "code",
   "execution_count": 65,
   "metadata": {
    "collapsed": false
   },
   "outputs": [
    {
     "name": "stdout",
     "output_type": "stream",
     "text": [
      "lifeexpectancy   (0, 70]  (70, 100]\n",
      "alcconsumption                     \n",
      "(0, 6]          0.706667   0.366337\n",
      "(6, 25]         0.293333   0.633663\n"
     ]
    }
   ],
   "source": [
    "# column percentages\n",
    "colsum=ct1.sum(axis=0)\n",
    "colpct=ct1/colsum\n",
    "print(colpct)"
   ]
  },
  {
   "cell_type": "code",
   "execution_count": 66,
   "metadata": {
    "collapsed": false
   },
   "outputs": [
    {
     "name": "stdout",
     "output_type": "stream",
     "text": [
      "chi-square value, p value, expected counts\n",
      "(18.61177373551309, 1.6022793011516588e-05, 1, array([[ 38.35227273,  51.64772727],\n",
      "       [ 36.64772727,  49.35227273]]))\n"
     ]
    }
   ],
   "source": [
    "# chi-square\n",
    "print ('chi-square value, p value, expected counts')\n",
    "cs1= scipy.stats.chi2_contingency(ct1)\n",
    "print (cs1)"
   ]
  },
  {
   "cell_type": "markdown",
   "metadata": {
    "collapsed": false
   },
   "source": [
    "###Model Interpretation for post hoc Chi-Square Test results:\n",
    "\n",
    "Now in order to understand the association better, let's split the numeric explanatory variable alcohol consumption into 4 categories (around the quartiles) and redo the chi-square test. The Chi Square test of independence again revealed that the alcohol consumption (collapsed into 4 ordered categories) and the life expectancy (binary categorical variable) were significantly associated, $\\chi-square=21.534561903395307$, 3 df, p-value=8.1518704166760222e-05."
   ]
  },
  {
   "cell_type": "code",
   "execution_count": 67,
   "metadata": {
    "collapsed": false
   },
   "outputs": [],
   "source": [
    "df1['alcconsumption'] = pandas.cut(df1.alcconsumption, bins=[0,2.5,6,10,25])"
   ]
  },
  {
   "cell_type": "code",
   "execution_count": 68,
   "metadata": {
    "collapsed": false
   },
   "outputs": [
    {
     "data": {
      "image/png": "[encoded data removed]",
      "text/plain": [
       "<matplotlib.figure.Figure at 0x82d3e10>"
      ]
     },
     "metadata": {},
     "output_type": "display_data"
    }
   ],
   "source": [
    "seaborn.factorplot(x=\"alcconsumption\", y=\"lifeexpectancy\", data=df1, kind=\"bar\", ci=None)\n",
    "plt.xlabel('Alcohol Consumption (litres)')\n",
    "plt.ylabel('Life Expectancy (years)')\n",
    "plt.show()"
   ]
  },
  {
   "cell_type": "code",
   "execution_count": 69,
   "metadata": {
    "collapsed": false
   },
   "outputs": [],
   "source": [
    "df1['lifeexpectancy'] = pandas.cut(df1.lifeexpectancy, bins=[0,70,100])\n",
    "#df1.head()"
   ]
  },
  {
   "cell_type": "code",
   "execution_count": 70,
   "metadata": {
    "collapsed": false
   },
   "outputs": [
    {
     "name": "stdout",
     "output_type": "stream",
     "text": [
      "lifeexpectancy  (0, 70]  (70, 100]\n",
      "alcconsumption                    \n",
      "(0, 2.5]             25         19\n",
      "(10, 25]              8         34\n",
      "(2.5, 6]             28         18\n",
      "(6, 10]              14         30\n"
     ]
    }
   ],
   "source": [
    "# contingency table of observed counts\n",
    "ct1=pandas.crosstab(df1['alcconsumption'], df1['lifeexpectancy'])\n",
    "print (ct1)"
   ]
  },
  {
   "cell_type": "code",
   "execution_count": 71,
   "metadata": {
    "collapsed": false
   },
   "outputs": [
    {
     "name": "stdout",
     "output_type": "stream",
     "text": [
      "lifeexpectancy   (0, 70]  (70, 100]\n",
      "alcconsumption                     \n",
      "(0, 2.5]        0.333333   0.188119\n",
      "(10, 25]        0.106667   0.336634\n",
      "(2.5, 6]        0.373333   0.178218\n",
      "(6, 10]         0.186667   0.297030\n"
     ]
    }
   ],
   "source": [
    "# column percentages\n",
    "colsum=ct1.sum(axis=0)\n",
    "colpct=ct1/colsum\n",
    "print(colpct)"
   ]
  },
  {
   "cell_type": "code",
   "execution_count": 72,
   "metadata": {
    "collapsed": false
   },
   "outputs": [
    {
     "name": "stdout",
     "output_type": "stream",
     "text": [
      "chi-square value, p value, expected counts\n",
      "(21.534561903395307, 8.1518704166760222e-05, 3, array([[ 18.75      ,  25.25      ],\n",
      "       [ 17.89772727,  24.10227273],\n",
      "       [ 19.60227273,  26.39772727],\n",
      "       [ 18.75      ,  25.25      ]]))\n"
     ]
    }
   ],
   "source": [
    "# chi-square\n",
    "print ('chi-square value, p value, expected counts')\n",
    "cs1= scipy.stats.chi2_contingency(ct1)\n",
    "print (cs1)"
   ]
  },
  {
   "cell_type": "markdown",
   "metadata": {
    "collapsed": false
   },
   "source": [
    "As we can see from the above result, the p-value < 0.05 and we can (reject the *null hypothesis* of independence and) conclude that the categorical variables *life expectancy* and *alcohol consumption* are not independent. \n",
    "\n",
    "Now, we need to do *post hoc comparisons* to test the association between different levels of alcohol consumption. There are 4 different levels, so we need to do $4 \\choose 2$ = 6 paired chi-square tests for each pair of levels of alcohol consumption with life expectancy, with *Bonferroni's correction* on p-value (with p-value = 0.05/6=0.08333 at 5% level of significance). \n",
    "\n",
    "Post hoc comparisons of life expectancy by pairs of alcohol consumption categories revealed that higher life expectancy was seen among the countries with higher rates of alcohol consumption, e.g., the countries with (high) alcohol consumption in between (10,25] litres have (statistically) significantly higher life expectancy (with p-value$\\approx 0.00073 < 0.08333$) than the countries with (low) alcohol consumption rate in between (0,2.5]!"
   ]
  },
  {
   "cell_type": "code",
   "execution_count": 73,
   "metadata": {
    "collapsed": false
   },
   "outputs": [
    {
     "name": "stdout",
     "output_type": "stream",
     "text": [
      "lifeexpectancy        (0, 70]  (70, 100]\n",
      "alcconsumption2.5v25                    \n",
      "(0, 2.5]                   25         19\n",
      "(10, 25]                    8         34\n"
     ]
    }
   ],
   "source": [
    "recode2 = {'(0, 2.5]': '(0, 2.5]', '(10, 25]': '(10, 25]'}\n",
    "df1['alcconsumption2.5v25']= df1['alcconsumption'].map(recode2)\n",
    "# contingency table of observed counts\n",
    "ct2=pandas.crosstab(df1['alcconsumption2.5v25'], df1['lifeexpectancy'])\n",
    "print (ct2)"
   ]
  },
  {
   "cell_type": "code",
   "execution_count": 74,
   "metadata": {
    "collapsed": false
   },
   "outputs": [
    {
     "name": "stdout",
     "output_type": "stream",
     "text": [
      "lifeexpectancy         (0, 70]  (70, 100]\n",
      "alcconsumption2.5v25                     \n",
      "(0, 2.5]              0.757576   0.358491\n",
      "(10, 25]              0.242424   0.641509\n"
     ]
    }
   ],
   "source": [
    "# column percentages\n",
    "colsum=ct2.sum(axis=0)\n",
    "colpct=ct2/colsum\n",
    "print(colpct)"
   ]
  },
  {
   "cell_type": "code",
   "execution_count": 75,
   "metadata": {
    "collapsed": false
   },
   "outputs": [
    {
     "name": "stdout",
     "output_type": "stream",
     "text": [
      "chi-square value, p value, expected counts\n",
      "(11.415351134476344, 0.0007283972892965175, 1, array([[ 16.88372093,  27.11627907],\n",
      "       [ 16.11627907,  25.88372093]]))\n"
     ]
    }
   ],
   "source": [
    "print ('chi-square value, p value, expected counts')\n",
    "cs2= scipy.stats.chi2_contingency(ct2)\n",
    "print (cs2)"
   ]
  },
  {
   "cell_type": "markdown",
   "metadata": {
    "collapsed": false
   },
   "source": [
    "In comparison, post hoc comparisons of life expectancy shows that the life expectancy is statistically similar among those countries with alcohol consumptions (0,2.5] and (2.5,10] (with p-value greater than 0.08333, as shown in the following results)."
   ]
  },
  {
   "cell_type": "code",
   "execution_count": 76,
   "metadata": {
    "collapsed": false
   },
   "outputs": [
    {
     "name": "stdout",
     "output_type": "stream",
     "text": [
      "lifeexpectancy       (0, 70]  (70, 100]\n",
      "alcconsumption2.5v6                    \n",
      "(0, 2.5]                  25         19\n",
      "(2.5, 6]                  28         18\n"
     ]
    }
   ],
   "source": [
    "recode2 = {'(0, 2.5]': '(0, 2.5]', '(2.5, 6]': '(2.5, 6]'}\n",
    "df1['alcconsumption2.5v6']= df1['alcconsumption'].map(recode2)\n",
    "# contingency table of observed counts\n",
    "ct2=pandas.crosstab(df1['alcconsumption2.5v6'], df1['lifeexpectancy'])\n",
    "print (ct2)"
   ]
  },
  {
   "cell_type": "code",
   "execution_count": 77,
   "metadata": {
    "collapsed": false
   },
   "outputs": [
    {
     "name": "stdout",
     "output_type": "stream",
     "text": [
      "lifeexpectancy        (0, 70]  (70, 100]\n",
      "alcconsumption2.5v6                     \n",
      "(0, 2.5]             0.471698   0.513514\n",
      "(2.5, 6]             0.528302   0.486486\n"
     ]
    }
   ],
   "source": [
    "# column percentages\n",
    "colsum=ct2.sum(axis=0)\n",
    "colpct=ct2/colsum\n",
    "print(colpct)"
   ]
  },
  {
   "cell_type": "code",
   "execution_count": 78,
   "metadata": {
    "collapsed": false
   },
   "outputs": [
    {
     "name": "stdout",
     "output_type": "stream",
     "text": [
      "chi-square value, p value, expected counts\n",
      "(0.031042583339548117, 0.86014541859668669, 1, array([[ 25.91111111,  18.08888889],\n",
      "       [ 27.08888889,  18.91111111]]))\n"
     ]
    }
   ],
   "source": [
    "print ('chi-square value, p value, expected counts')\n",
    "cs2= scipy.stats.chi2_contingency(ct2)\n",
    "print (cs2)"
   ]
  }
 ],
 "metadata": {
  "kernelspec": {
   "display_name": "Python 2",
   "language": "python",
   "name": "python2"
  },
  "language_info": {
   "codemirror_mode": {
    "name": "ipython",
    "version": 2
   },
   "file_extension": ".py",
   "mimetype": "text/x-python",
   "name": "python",
   "nbconvert_exporter": "python",
   "pygments_lexer": "ipython2",
   "version": "2.7.7"
  }
 },
 "nbformat": 4,
 "nbformat_minor": 0
}
