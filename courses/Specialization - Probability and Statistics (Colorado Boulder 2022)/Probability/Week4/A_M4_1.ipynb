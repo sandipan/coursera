{
 "cells": [
  {
   "cell_type": "markdown",
   "metadata": {
    "deletable": false,
    "editable": false,
    "nbgrader": {
     "cell_type": "markdown",
     "checksum": "db428c5162c1be906cf5c50f50f9bfad",
     "grade": false,
     "grade_id": "cell-925f09be8ed9336a",
     "locked": true,
     "schema_version": 3,
     "solution": false,
     "task": false
    }
   },
   "source": [
    "## Module 4 Assessment"
   ]
  },
  {
   "cell_type": "code",
   "execution_count": null,
   "metadata": {
    "deletable": false,
    "editable": false,
    "nbgrader": {
     "cell_type": "code",
     "checksum": "4e0ceb390bfef33faad1f99ed1451d67",
     "grade": false,
     "grade_id": "cell-2f2515950d62c2f9",
     "locked": true,
     "schema_version": 3,
     "solution": false,
     "task": false
    }
   },
   "outputs": [],
   "source": [
    "# Load Necesary Libraries\n",
    "library(testthat)"
   ]
  },
  {
   "cell_type": "markdown",
   "metadata": {
    "deletable": false,
    "editable": false,
    "nbgrader": {
     "cell_type": "markdown",
     "checksum": "08f46e269b0426939bdf1f918bd5ebbd",
     "grade": false,
     "grade_id": "cell-e3a9f62614b9ff85",
     "locked": true,
     "schema_version": 3,
     "solution": false,
     "task": false
    }
   },
   "source": [
    "### Problem 1\n",
    "Suppose that car accidents in a given town have a Poisson distribution, with an\n",
    "average of 5 per week (i.e. λ = 5). Also, note that, given a Poisson process with\n",
    "mean λ, the waiting time until the first outcome has an exponential distribution\n",
    "with mean $1/λ$."
   ]
  },
  {
   "cell_type": "markdown",
   "metadata": {
    "deletable": false,
    "editable": false,
    "nbgrader": {
     "cell_type": "markdown",
     "checksum": "f4b59fc5e159363645f9312fbc5be7b5",
     "grade": false,
     "grade_id": "cell-4ee6430f415e331f",
     "locked": true,
     "schema_version": 3,
     "solution": false,
     "task": false
    }
   },
   "source": [
    "**a)** What is the probability that more than 6 accidents occur in a given week? Round your answer to four decimal places."
   ]
  },
  {
   "cell_type": "code",
   "execution_count": 4,
   "metadata": {
    "deletable": false,
    "nbgrader": {
     "cell_type": "code",
     "checksum": "a5a92d87302f5e94c329a6d1794d7959",
     "grade": false,
     "grade_id": "cell-20c8ac654b930853",
     "locked": false,
     "schema_version": 3,
     "solution": true,
     "task": false
    }
   },
   "outputs": [
    {
     "data": {
      "text/html": [
       "0.2378"
      ],
      "text/latex": [
       "0.2378"
      ],
      "text/markdown": [
       "0.2378"
      ],
      "text/plain": [
       "[1] 0.2378"
      ]
     },
     "metadata": {},
     "output_type": "display_data"
    },
    {
     "data": {
      "text/html": [
       "0.237816537027061"
      ],
      "text/latex": [
       "0.237816537027061"
      ],
      "text/markdown": [
       "0.237816537027061"
      ],
      "text/plain": [
       "[1] 0.2378165"
      ]
     },
     "metadata": {},
     "output_type": "display_data"
    },
    {
     "data": {
      "text/html": [
       "0.237816537027061"
      ],
      "text/latex": [
       "0.237816537027061"
      ],
      "text/markdown": [
       "0.237816537027061"
      ],
      "text/plain": [
       "[1] 0.2378165"
      ]
     },
     "metadata": {},
     "output_type": "display_data"
    }
   ],
   "source": [
    "p1.1 = 0.2378\n",
    "# your code here\n",
    "p1.1\n",
    "x <- 0:6\n",
    "1-sum(5^x*exp(-5)/factorial(x))\n",
    "ppois(6, 5, lower.tail=FALSE)"
   ]
  },
  {
   "cell_type": "code",
   "execution_count": 5,
   "metadata": {
    "deletable": false,
    "editable": false,
    "nbgrader": {
     "cell_type": "code",
     "checksum": "150065ab7eb2f49b518dad394a6a916e",
     "grade": true,
     "grade_id": "cell-0b8b09551a6b5f60",
     "locked": true,
     "points": 1,
     "schema_version": 3,
     "solution": false,
     "task": false
    }
   },
   "outputs": [],
   "source": [
    "# Hidden test cell"
   ]
  },
  {
   "cell_type": "markdown",
   "metadata": {
    "deletable": false,
    "editable": false,
    "nbgrader": {
     "cell_type": "markdown",
     "checksum": "4e5f6abf994aa87f39d294853f52e1e3",
     "grade": false,
     "grade_id": "cell-218630d8c1d2d1c1",
     "locked": true,
     "schema_version": 3,
     "solution": false,
     "task": false
    }
   },
   "source": [
    "**b)** What is the probability that the time until an accident will be at least one\n",
    "week? Give the exact answer or round your answer to four decimal places."
   ]
  },
  {
   "cell_type": "code",
   "execution_count": 8,
   "metadata": {
    "deletable": false,
    "nbgrader": {
     "cell_type": "code",
     "checksum": "b01c2e3376d064fe242dfe4afa51cea2",
     "grade": false,
     "grade_id": "cell-acdb575769b5f58e",
     "locked": false,
     "schema_version": 3,
     "solution": true,
     "task": false
    }
   },
   "outputs": [
    {
     "data": {
      "text/html": [
       "0.0067"
      ],
      "text/latex": [
       "0.0067"
      ],
      "text/markdown": [
       "0.0067"
      ],
      "text/plain": [
       "[1] 0.0067"
      ]
     },
     "metadata": {},
     "output_type": "display_data"
    },
    {
     "data": {
      "text/plain": [
       "0.006737947 with absolute error < 6.9e-06"
      ]
     },
     "metadata": {},
     "output_type": "display_data"
    },
    {
     "data": {
      "text/html": [
       "0.00673794699908547"
      ],
      "text/latex": [
       "0.00673794699908547"
      ],
      "text/markdown": [
       "0.00673794699908547"
      ],
      "text/plain": [
       "[1] 0.006737947"
      ]
     },
     "metadata": {},
     "output_type": "display_data"
    }
   ],
   "source": [
    "p1.2 = 0.0067\n",
    "# your code here\n",
    "p1.2\n",
    "integrate(function(x) 5*exp(-5*x), 1, Inf)\n",
    "pexp(1, 5, lower.tail=FALSE)"
   ]
  },
  {
   "cell_type": "code",
   "execution_count": 9,
   "metadata": {
    "deletable": false,
    "editable": false,
    "nbgrader": {
     "cell_type": "code",
     "checksum": "8728d96991bc39081e75bb999eb45283",
     "grade": true,
     "grade_id": "cell-6699d15fcc27580b",
     "locked": true,
     "points": 1,
     "schema_version": 3,
     "solution": false,
     "task": false
    }
   },
   "outputs": [],
   "source": [
    "# Hidden test cell"
   ]
  },
  {
   "cell_type": "markdown",
   "metadata": {
    "deletable": false,
    "editable": false,
    "nbgrader": {
     "cell_type": "markdown",
     "checksum": "108e2308a1949a7cfa6a30dc06357c9c",
     "grade": false,
     "grade_id": "cell-661e5e8e9655b841",
     "locked": true,
     "schema_version": 3,
     "solution": false,
     "task": false
    }
   },
   "source": [
    "**c)** Suppose that no accidents have occurred for two weeks. What is the probability that no accidents will occur for another two weeks? Give the exact value or round your answer to six decimal places."
   ]
  },
  {
   "cell_type": "code",
   "execution_count": 32,
   "metadata": {
    "deletable": false,
    "nbgrader": {
     "cell_type": "code",
     "checksum": "6dd9e78683cb334a5cf425bafe4cdfd0",
     "grade": false,
     "grade_id": "cell-181f28010876a16c",
     "locked": false,
     "schema_version": 3,
     "solution": true,
     "task": false
    }
   },
   "outputs": [
    {
     "data": {
      "text/html": [
       "4.5e-05"
      ],
      "text/latex": [
       "4.5e-05"
      ],
      "text/markdown": [
       "4.5e-05"
      ],
      "text/plain": [
       "[1] 4.5e-05"
      ]
     },
     "metadata": {},
     "output_type": "display_data"
    },
    {
     "data": {
      "text/plain": [
       "4.539993e-05 with absolute error < 4.7e-08"
      ]
     },
     "metadata": {},
     "output_type": "display_data"
    },
    {
     "data": {
      "text/html": [
       "4.53999297624849e-05"
      ],
      "text/latex": [
       "4.53999297624849e-05"
      ],
      "text/markdown": [
       "4.53999297624849e-05"
      ],
      "text/plain": [
       "[1] 4.539993e-05"
      ]
     },
     "metadata": {},
     "output_type": "display_data"
    },
    {
     "data": {
      "text/html": [
       "4.53999297624849e-05"
      ],
      "text/latex": [
       "4.53999297624849e-05"
      ],
      "text/markdown": [
       "4.53999297624849e-05"
      ],
      "text/plain": [
       "[1] 4.539993e-05"
      ]
     },
     "metadata": {},
     "output_type": "display_data"
    }
   ],
   "source": [
    "p1.3 = 0.000045\n",
    "# your code here\n",
    "p1.3\n",
    "#all.equal(p1.3, exp(-10))\n",
    "integrate(function(x) 5*exp(-5*x), 2, Inf)\n",
    "pexp(2, 5, lower.tail=FALSE)\n",
    "exp(-10)"
   ]
  },
  {
   "cell_type": "code",
   "execution_count": 20,
   "metadata": {
    "deletable": false,
    "editable": false,
    "nbgrader": {
     "cell_type": "code",
     "checksum": "4a4f11286cb3a6f98a0ab4392c5a6dc8",
     "grade": true,
     "grade_id": "cell-76ff90cb14508213",
     "locked": true,
     "points": 1,
     "schema_version": 3,
     "solution": false,
     "task": false
    }
   },
   "outputs": [],
   "source": [
    "# Hidden test cell"
   ]
  },
  {
   "cell_type": "markdown",
   "metadata": {
    "deletable": false,
    "editable": false,
    "nbgrader": {
     "cell_type": "markdown",
     "checksum": "fe7e16da72f3da4f25407de399d05da6",
     "grade": false,
     "grade_id": "cell-078275614f845755",
     "locked": true,
     "schema_version": 3,
     "solution": false,
     "task": false
    }
   },
   "source": [
    "### Problem 2\n",
    "Let X = the outcome when a fair die is rolled once. Suppose that, before the die\n",
    "is rolled, you are offered a choice: Option #1: a guarantee of $1/4$ dollars (whatever\n",
    "the outcome of the roll); Option #2: $h(X) = 1/X$ dollars. Which option would\n",
    "you prefer? Store your answer in the given variable as a numeric 1 or 2."
   ]
  },
  {
   "cell_type": "code",
   "execution_count": 22,
   "metadata": {
    "deletable": false,
    "nbgrader": {
     "cell_type": "code",
     "checksum": "7052794ce371ff3431d0d69bb01a6b4a",
     "grade": false,
     "grade_id": "cell-71c4b821830d9ab4",
     "locked": false,
     "schema_version": 3,
     "solution": true,
     "task": false
    }
   },
   "outputs": [
    {
     "data": {
      "text/html": [
       "0.25"
      ],
      "text/latex": [
       "0.25"
      ],
      "text/markdown": [
       "0.25"
      ],
      "text/plain": [
       "[1] 0.25"
      ]
     },
     "metadata": {},
     "output_type": "display_data"
    },
    {
     "data": {
      "text/html": [
       "0.408333333333333"
      ],
      "text/latex": [
       "0.408333333333333"
      ],
      "text/markdown": [
       "0.408333333333333"
      ],
      "text/plain": [
       "[1] 0.4083333"
      ]
     },
     "metadata": {},
     "output_type": "display_data"
    }
   ],
   "source": [
    "option_2.1 = 2\n",
    "# your code here\n",
    "1/4\n",
    "x <- 1:6\n",
    "sum(1/x*1/6)"
   ]
  },
  {
   "cell_type": "code",
   "execution_count": 23,
   "metadata": {
    "deletable": false,
    "editable": false,
    "nbgrader": {
     "cell_type": "code",
     "checksum": "1afbe489d6d26d2ccece6469f3d9996a",
     "grade": true,
     "grade_id": "cell-f61dd42e2f7bbffd",
     "locked": true,
     "points": 1,
     "schema_version": 3,
     "solution": false,
     "task": false
    }
   },
   "outputs": [],
   "source": [
    "# Hidden test cell"
   ]
  },
  {
   "cell_type": "markdown",
   "metadata": {
    "deletable": false,
    "editable": false,
    "nbgrader": {
     "cell_type": "markdown",
     "checksum": "cb85e3c01ce31b5a960667aa07e0e78a",
     "grade": false,
     "grade_id": "cell-014c2e2a4c3250a9",
     "locked": true,
     "schema_version": 3,
     "solution": false,
     "task": false
    }
   },
   "source": [
    "### Problem 3\n",
    "\n",
    "Suppose $X$ is a random variable for the length of time (in hours) it takes for a piece of machinery to fail. Let $X$ have PDF $f(x) = ce^{-x/50}$ for $x>0$ and $f(x) = 0$ for $x \\le 0$."
   ]
  },
  {
   "cell_type": "markdown",
   "metadata": {
    "deletable": false,
    "editable": false,
    "nbgrader": {
     "cell_type": "markdown",
     "checksum": "ca8e1353f5e294262cb6756d3d529a62",
     "grade": false,
     "grade_id": "cell-88f31dd9161876ff",
     "locked": true,
     "schema_version": 3,
     "solution": false,
     "task": false
    }
   },
   "source": [
    "**a)** What is the value of c?"
   ]
  },
  {
   "cell_type": "code",
   "execution_count": 25,
   "metadata": {
    "deletable": false,
    "nbgrader": {
     "cell_type": "code",
     "checksum": "8aae75a1c947d0bc193d9f45f6f299cf",
     "grade": false,
     "grade_id": "cell-078c19e033d3118f",
     "locked": false,
     "schema_version": 3,
     "solution": true,
     "task": false
    }
   },
   "outputs": [
    {
     "data": {
      "text/plain": [
       "1 with absolute error < 6.4e-06"
      ]
     },
     "metadata": {},
     "output_type": "display_data"
    }
   ],
   "source": [
    "c = 1/50\n",
    "# your code here\n",
    "integrate(function(x) exp(-x/50)/50, 0, Inf)"
   ]
  },
  {
   "cell_type": "code",
   "execution_count": 26,
   "metadata": {
    "deletable": false,
    "editable": false,
    "nbgrader": {
     "cell_type": "code",
     "checksum": "1342b04e64c51656d9ebda0680f21bdb",
     "grade": true,
     "grade_id": "cell-5edbed550027641f",
     "locked": true,
     "points": 1,
     "schema_version": 3,
     "solution": false,
     "task": false
    }
   },
   "outputs": [],
   "source": [
    "# Hidden Test Cell"
   ]
  },
  {
   "cell_type": "markdown",
   "metadata": {
    "deletable": false,
    "editable": false,
    "nbgrader": {
     "cell_type": "markdown",
     "checksum": "b5f1d3d5650213b701a062d9c17e76a2",
     "grade": false,
     "grade_id": "cell-0878880f6636eda4",
     "locked": true,
     "schema_version": 3,
     "solution": false,
     "task": false
    }
   },
   "source": [
    "**b)** What is the probability that the machine will function for at least 100 hours? Give the exact value or round your answer to three decimal places."
   ]
  },
  {
   "cell_type": "code",
   "execution_count": 31,
   "metadata": {
    "deletable": false,
    "nbgrader": {
     "cell_type": "code",
     "checksum": "75246748af1f516623324b76d33957ab",
     "grade": false,
     "grade_id": "cell-20f44b1e4c776695",
     "locked": false,
     "schema_version": 3,
     "solution": true,
     "task": false
    }
   },
   "outputs": [
    {
     "data": {
      "text/html": [
       "0.865"
      ],
      "text/latex": [
       "0.865"
      ],
      "text/markdown": [
       "0.865"
      ],
      "text/plain": [
       "[1] 0.865"
      ]
     },
     "metadata": {},
     "output_type": "display_data"
    },
    {
     "data": {
      "text/plain": [
       "0.8646647 with absolute error < 9.6e-15"
      ]
     },
     "metadata": {},
     "output_type": "display_data"
    },
    {
     "data": {
      "text/html": [
       "0.864664716763387"
      ],
      "text/latex": [
       "0.864664716763387"
      ],
      "text/markdown": [
       "0.864664716763387"
      ],
      "text/plain": [
       "[1] 0.8646647"
      ]
     },
     "metadata": {},
     "output_type": "display_data"
    }
   ],
   "source": [
    "p3.b = 0.865\n",
    "# your code here\n",
    "p3.b\n",
    "integrate(function(x) exp(-x/50)/50, 0, 100)\n",
    "pexp(100, 1/50)"
   ]
  },
  {
   "cell_type": "code",
   "execution_count": null,
   "metadata": {
    "deletable": false,
    "editable": false,
    "nbgrader": {
     "cell_type": "code",
     "checksum": "cfb6129db234bf410c8dd82ba01fdadb",
     "grade": true,
     "grade_id": "cell-466948d6bb7669d6",
     "locked": true,
     "points": 1,
     "schema_version": 3,
     "solution": false,
     "task": false
    }
   },
   "outputs": [],
   "source": [
    "# Hidden Test Cell"
   ]
  },
  {
   "cell_type": "markdown",
   "metadata": {
    "deletable": false,
    "editable": false,
    "nbgrader": {
     "cell_type": "markdown",
     "checksum": "e1d508768d3b007b1694418c1735cd39",
     "grade": false,
     "grade_id": "cell-19f8d16616db8c20",
     "locked": true,
     "schema_version": 3,
     "solution": false,
     "task": false
    }
   },
   "source": [
    "**c)** What is the expected amount of time for the machine to break?"
   ]
  },
  {
   "cell_type": "code",
   "execution_count": 30,
   "metadata": {
    "deletable": false,
    "nbgrader": {
     "cell_type": "code",
     "checksum": "04bf0b3a33787594ed569655e14338ee",
     "grade": false,
     "grade_id": "cell-6dbc3629736fd165",
     "locked": false,
     "schema_version": 3,
     "solution": true,
     "task": false
    }
   },
   "outputs": [
    {
     "data": {
      "text/html": [
       "50"
      ],
      "text/latex": [
       "50"
      ],
      "text/markdown": [
       "50"
      ],
      "text/plain": [
       "[1] 50"
      ]
     },
     "metadata": {},
     "output_type": "display_data"
    },
    {
     "data": {
      "text/plain": [
       "50 with absolute error < 0.0022"
      ]
     },
     "metadata": {},
     "output_type": "display_data"
    }
   ],
   "source": [
    "p3.c = 50\n",
    "# your code here\n",
    "p3.c\n",
    "integrate(function(x) x*exp(-x/50)/50, 0, Inf)"
   ]
  },
  {
   "cell_type": "code",
   "execution_count": null,
   "metadata": {
    "deletable": false,
    "editable": false,
    "nbgrader": {
     "cell_type": "code",
     "checksum": "6db911ce87886a4172eab0025abc7e7f",
     "grade": true,
     "grade_id": "cell-790a199784d97a41",
     "locked": true,
     "points": 1,
     "schema_version": 3,
     "solution": false,
     "task": false
    }
   },
   "outputs": [],
   "source": [
    "# Hidden Test Cell"
   ]
  }
 ],
 "metadata": {
  "kernelspec": {
   "display_name": "R",
   "language": "R",
   "name": "ir"
  },
  "language_info": {
   "codemirror_mode": "r",
   "file_extension": ".r",
   "mimetype": "text/x-r-source",
   "name": "R",
   "pygments_lexer": "r",
   "version": "3.6.3"
  }
 },
 "nbformat": 4,
 "nbformat_minor": 4
}
