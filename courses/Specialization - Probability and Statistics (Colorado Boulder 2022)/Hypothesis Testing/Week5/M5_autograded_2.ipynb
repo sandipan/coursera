{
 "cells": [
  {
   "cell_type": "markdown",
   "metadata": {
    "deletable": false,
    "editable": false,
    "nbgrader": {
     "cell_type": "markdown",
     "checksum": "53099d9af20b5a7fa513053d0798e48f",
     "grade": false,
     "grade_id": "cell-a355388d11b2c1d0",
     "locked": true,
     "schema_version": 3,
     "solution": false,
     "task": false
    }
   },
   "source": [
    "# Module 5 Autograded Assignment"
   ]
  },
  {
   "cell_type": "code",
   "execution_count": 1,
   "metadata": {
    "deletable": false,
    "editable": false,
    "nbgrader": {
     "cell_type": "code",
     "checksum": "88f05b8d032f5bd14d43ea4c52b51a46",
     "grade": false,
     "grade_id": "cell-663da8664742c4be",
     "locked": true,
     "schema_version": 3,
     "solution": false,
     "task": false
    }
   },
   "outputs": [],
   "source": [
    "# Load Necessary Libraries\n",
    "library(testthat)"
   ]
  },
  {
   "cell_type": "markdown",
   "metadata": {
    "deletable": false,
    "editable": false,
    "nbgrader": {
     "cell_type": "markdown",
     "checksum": "c7c50c4449e9340878b60d692e470210",
     "grade": false,
     "grade_id": "cell-21c6e2bcba59e21a",
     "locked": true,
     "schema_version": 3,
     "solution": false,
     "task": false
    }
   },
   "source": [
    "# Problem 1\n",
    "\n",
    "You are a proctor for a Data Science exam, and just gave a test to 15 students. You want to get an idea for the true standard deviation of the scores, using the scores you just recieved. Assume that the underlying score population is normally distributed."
   ]
  },
  {
   "cell_type": "code",
   "execution_count": 2,
   "metadata": {
    "deletable": false,
    "editable": false,
    "nbgrader": {
     "cell_type": "code",
     "checksum": "149feb714a93262b9862679832368056",
     "grade": false,
     "grade_id": "cell-3b840ffbed41e4ec",
     "locked": true,
     "schema_version": 3,
     "solution": false,
     "task": false
    }
   },
   "outputs": [],
   "source": [
    "scores = c(53.02, 69.2, 81.96, 40.62, 76.24, 99.78, 94.49, 71.6, 76.95, 37.68, 37.59, 59.22, 92.44, 81.22, 63.74)"
   ]
  },
  {
   "cell_type": "markdown",
   "metadata": {
    "deletable": false,
    "editable": false,
    "nbgrader": {
     "cell_type": "markdown",
     "checksum": "f6a4dda3ca7a9bbd958b599ac3c5d203",
     "grade": false,
     "grade_id": "cell-d4eecac4e179394c",
     "locked": true,
     "schema_version": 3,
     "solution": false,
     "task": false
    }
   },
   "source": [
    "**Part A)** Using the data stored in the variable `scores`, calculate a 95% confidence interval for the standard deviation of the data. Your confidence interval should be two tailed, and cut off an equal proportion of area on each side. Save the lower value as `p1.lower` and the upper value as `p1.upper`. Round your answers to two decimal places."
   ]
  },
  {
   "cell_type": "code",
   "execution_count": 40,
   "metadata": {
    "deletable": false,
    "nbgrader": {
     "cell_type": "code",
     "checksum": "7612f3e8319f0d39d8a4b109d877c2f4",
     "grade": false,
     "grade_id": "cell-594c91ad9ed3f5a2",
     "locked": false,
     "schema_version": 3,
     "solution": true,
     "task": false
    }
   },
   "outputs": [
    {
     "data": {
      "text/html": [
       "20.2447277087147"
      ],
      "text/latex": [
       "20.2447277087147"
      ],
      "text/markdown": [
       "20.2447277087147"
      ],
      "text/plain": [
       "[1] 20.24473"
      ]
     },
     "metadata": {},
     "output_type": "display_data"
    },
    {
     "data": {
      "text/html": [
       "31.9279400743121"
      ],
      "text/latex": [
       "31.9279400743121"
      ],
      "text/markdown": [
       "31.9279400743121"
      ],
      "text/plain": [
       "[1] 31.92794"
      ]
     },
     "metadata": {},
     "output_type": "display_data"
    },
    {
     "data": {
      "text/html": [
       "14.8217033559446"
      ],
      "text/latex": [
       "14.8217033559446"
      ],
      "text/markdown": [
       "14.8217033559446"
      ],
      "text/plain": [
       "[1] 14.8217"
      ]
     },
     "metadata": {},
     "output_type": "display_data"
    }
   ],
   "source": [
    "p1.upper = 31.93\n",
    "p1.lower = 14.82\n",
    "alpha = 0.05\n",
    "\n",
    "# your code here\n",
    "#mean(scores)\n",
    "n <- length(scores)\n",
    "s <- sd(scores)\n",
    "s\n",
    "sqrt((n-1) / qchisq(alpha/2, df=n-1))*s\n",
    "sqrt((n-1) / qchisq(1-alpha/2, df=n-1))*s"
   ]
  },
  {
   "cell_type": "code",
   "execution_count": 14,
   "metadata": {
    "deletable": false,
    "editable": false,
    "nbgrader": {
     "cell_type": "code",
     "checksum": "0b04d414a351f3e33cbe00b128bb4f18",
     "grade": true,
     "grade_id": "cell-a610e410ab7791bc",
     "locked": true,
     "points": 1,
     "schema_version": 3,
     "solution": false,
     "task": false
    }
   },
   "outputs": [],
   "source": [
    "# Hidden Test Cell"
   ]
  },
  {
   "cell_type": "markdown",
   "metadata": {
    "deletable": false,
    "editable": false,
    "nbgrader": {
     "cell_type": "markdown",
     "checksum": "bec62141d746cca8ac02b6ff92cbd9d6",
     "grade": false,
     "grade_id": "cell-29045d261089953f",
     "locked": true,
     "schema_version": 3,
     "solution": false,
     "task": false
    }
   },
   "source": [
    "**Part B)** You consult with your coworkers, and determine that the historical standard deviation of scores for the test is 15. Based on your results from **Part A**, does your data agree with the historical value at an $\\alpha=0.05$ significance level? Save your answer into variable `p1.b`. Answer the boolean `TRUE` if the observed data does agree, and `FALSE` if it does not."
   ]
  },
  {
   "cell_type": "code",
   "execution_count": 15,
   "metadata": {
    "deletable": false,
    "nbgrader": {
     "cell_type": "code",
     "checksum": "9d615d45b6d600113248622944dd7db8",
     "grade": false,
     "grade_id": "cell-028b2c008655dc50",
     "locked": false,
     "schema_version": 3,
     "solution": true,
     "task": false
    }
   },
   "outputs": [],
   "source": [
    "p1.b = TRUE\n",
    "\n",
    "# your code here\n"
   ]
  },
  {
   "cell_type": "code",
   "execution_count": null,
   "metadata": {
    "deletable": false,
    "editable": false,
    "nbgrader": {
     "cell_type": "code",
     "checksum": "c056b57598ebdabd58d21c4540f3bff1",
     "grade": true,
     "grade_id": "cell-295c4ca2086137fc",
     "locked": true,
     "points": 1,
     "schema_version": 3,
     "solution": false,
     "task": false
    }
   },
   "outputs": [],
   "source": [
    "# Hidden Test Cell"
   ]
  },
  {
   "cell_type": "markdown",
   "metadata": {
    "deletable": false,
    "editable": false,
    "nbgrader": {
     "cell_type": "markdown",
     "checksum": "ade41684e88b04df8b34360090dd2ffa",
     "grade": false,
     "grade_id": "cell-744f807dd02e1d71",
     "locked": true,
     "schema_version": 3,
     "solution": false,
     "task": false
    }
   },
   "source": [
    "# Problem 2\n",
    "\n",
    "It's Halloween, and Ralphie has 6 large bags, each filled with a combination of 4 different kinds of candy. Each bag should have an approximately equal amounts of each flavor. But, being a buffalo, Ralphie is not sure that she spread the candy out evenly. She has asked your help to determine whether the proportions of flavors within each bag is the same. \n",
    "\n",
    "Each bag contains hundreds of pieces of candy, so we can't count them all by hand. Instead, you take a sample of 50 pieces from each bag. The table below displays the counts of each type of candy within each sample of 50 pieces:\n",
    "\n",
    "|        | Candy A | Candy B | Candy C | Candy D |\n",
    "| :---   | :----:  |  :---:  |  :---:  |    ---: |\n",
    "| Bag 1  |   14    |    18   |   11    |    6    |\n",
    "| Bag 2  |   10    |    20   |   12    |    9    |\n",
    "| Bag 3  |   13    |    14   |   15    |    8    |\n",
    "| Bag 4  |   15    |    15   |   10    |   10    |\n",
    "| Bag 5  |   11    |    17   |   13    |    9    |\n",
    "| Bag 6  |   11    |    14   |   14    |   11    |"
   ]
  },
  {
   "cell_type": "markdown",
   "metadata": {
    "deletable": false,
    "editable": false,
    "nbgrader": {
     "cell_type": "markdown",
     "checksum": "751f5bd417082a3dfc20e99e9ea5122e",
     "grade": false,
     "grade_id": "cell-437cae286f2269fc",
     "locked": true,
     "schema_version": 3,
     "solution": false,
     "task": false
    }
   },
   "source": [
    "**Part A)** Before you start testing anything about the candy counts, think about what kind of test you will need. You are comparing the underlying distribution of different categorical variables, to determine if they are the same. Which test will be most useful?\n",
    "\n",
    "1. Z-test\n",
    "2. t-test\n",
    "3. Chi-Square Goodness of Fit test\n",
    "4. Chi-Square Test of Independence\n",
    "5. Some other test\n",
    "\n",
    "Select the *integer* corresping to your answer, and save it into variable `p2.a`."
   ]
  },
  {
   "cell_type": "code",
   "execution_count": 41,
   "metadata": {
    "deletable": false,
    "nbgrader": {
     "cell_type": "code",
     "checksum": "2116c88db1459fb386f8546bf2546edc",
     "grade": false,
     "grade_id": "cell-ffd6d3e24a3530ba",
     "locked": false,
     "schema_version": 3,
     "solution": true,
     "task": false
    }
   },
   "outputs": [],
   "source": [
    "p2.a = 3\n",
    "\n",
    "# your code here\n"
   ]
  },
  {
   "cell_type": "code",
   "execution_count": null,
   "metadata": {
    "deletable": false,
    "editable": false,
    "nbgrader": {
     "cell_type": "code",
     "checksum": "cf7fb23f6312cd1d0c23f12b08deec92",
     "grade": true,
     "grade_id": "cell-ad1346d708ce2814",
     "locked": true,
     "points": 1,
     "schema_version": 3,
     "solution": false,
     "task": false
    }
   },
   "outputs": [],
   "source": [
    "# Hidden Test Cell"
   ]
  },
  {
   "cell_type": "markdown",
   "metadata": {
    "deletable": false,
    "editable": false,
    "nbgrader": {
     "cell_type": "markdown",
     "checksum": "a5c6308ac0958a4a98b60301090abd5f",
     "grade": false,
     "grade_id": "cell-a872e36896e52feb",
     "locked": true,
     "schema_version": 3,
     "solution": false,
     "task": false
    }
   },
   "source": [
    "**Part B)** Determine whether the proportions of candy are equal by solving for the p-value of the appropriate test. Save your answer as `p2.b`. Round your answer to three decimal places."
   ]
  },
  {
   "cell_type": "code",
   "execution_count": 48,
   "metadata": {
    "deletable": false,
    "nbgrader": {
     "cell_type": "code",
     "checksum": "92b391d5d08d250f6be9a554f4466ea3",
     "grade": false,
     "grade_id": "cell-8a3d31e2434837fd",
     "locked": false,
     "schema_version": 3,
     "solution": true,
     "task": false
    }
   },
   "outputs": [
    {
     "data": {
      "text/html": [
       "<style>\n",
       ".list-inline {list-style: none; margin:0; padding: 0}\n",
       ".list-inline>li {display: inline-block}\n",
       ".list-inline>li:not(:last-child)::after {content: \"\\00b7\"; padding: 0 .5ex}\n",
       "</style>\n",
       "<ol class=list-inline><li>74</li><li>98</li><li>75</li><li>53</li></ol>\n"
      ],
      "text/latex": [
       "\\begin{enumerate*}\n",
       "\\item 74\n",
       "\\item 98\n",
       "\\item 75\n",
       "\\item 53\n",
       "\\end{enumerate*}\n"
      ],
      "text/markdown": [
       "1. 74\n",
       "2. 98\n",
       "3. 75\n",
       "4. 53\n",
       "\n",
       "\n"
      ],
      "text/plain": [
       "[1] 74 98 75 53"
      ]
     },
     "metadata": {},
     "output_type": "display_data"
    },
    {
     "data": {
      "text/html": [
       "<style>\n",
       ".list-inline {list-style: none; margin:0; padding: 0}\n",
       ".list-inline>li {display: inline-block}\n",
       ".list-inline>li:not(:last-child)::after {content: \"\\00b7\"; padding: 0 .5ex}\n",
       "</style>\n",
       "<ol class=list-inline><li>75</li><li>75</li><li>75</li><li>75</li></ol>\n"
      ],
      "text/latex": [
       "\\begin{enumerate*}\n",
       "\\item 75\n",
       "\\item 75\n",
       "\\item 75\n",
       "\\item 75\n",
       "\\end{enumerate*}\n"
      ],
      "text/markdown": [
       "1. 75\n",
       "2. 75\n",
       "3. 75\n",
       "4. 75\n",
       "\n",
       "\n"
      ],
      "text/plain": [
       "[1] 75 75 75 75"
      ]
     },
     "metadata": {},
     "output_type": "display_data"
    },
    {
     "data": {
      "text/html": [
       "13.52"
      ],
      "text/latex": [
       "13.52"
      ],
      "text/markdown": [
       "13.52"
      ],
      "text/plain": [
       "[1] 13.52"
      ]
     },
     "metadata": {},
     "output_type": "display_data"
    },
    {
     "data": {
      "text/html": [
       "0.00363696454580988"
      ],
      "text/latex": [
       "0.00363696454580988"
      ],
      "text/markdown": [
       "0.00363696454580988"
      ],
      "text/plain": [
       "[1] 0.003636965"
      ]
     },
     "metadata": {},
     "output_type": "display_data"
    },
    {
     "data": {
      "text/html": [
       "7.81472790325118"
      ],
      "text/latex": [
       "7.81472790325118"
      ],
      "text/markdown": [
       "7.81472790325118"
      ],
      "text/plain": [
       "[1] 7.814728"
      ]
     },
     "metadata": {},
     "output_type": "display_data"
    },
    {
     "data": {
      "text/plain": [
       "\n",
       "\tChi-squared test for given probabilities\n",
       "\n",
       "data:  O\n",
       "X-squared = 13.52, df = 3, p-value = 0.003637\n"
      ]
     },
     "metadata": {},
     "output_type": "display_data"
    }
   ],
   "source": [
    "p2.b = 0.003637 #0.972\n",
    "\n",
    "# your code here\n",
    "\n",
    "M <- as.table(rbind(c(14,18,11,6), c(10,20,12,9), c(13,14,15,8), c(15,15,10,10), c(11,17,13,9), c(11,14,14,11)))\n",
    "dimnames(M) <- list(Bags = c(1:6),\n",
    "                    CandyType = c(\"A\", \"B\", \"C\", \"D\"))\n",
    "#M\n",
    "\n",
    "# chi sequare goodness of fit\n",
    "O <- colSums(M)\n",
    "probs <- rep(1, length(O)) / length(O)\n",
    "E <- total * probs\n",
    "O <- as.vector(O)\n",
    "O\n",
    "E\n",
    "sum((O - E)^2/E)\n",
    "pchisq(sum((O - E)^2/E), df = length(O)-1, lower.tail=FALSE)\n",
    "qchisq(0.05, df = length(O)-1, lower.tail=FALSE)\n",
    "chisq.test(O, p=probs)\n",
    "\n",
    "# chi suqare independence\n",
    "#rs <- rowSums(M)\n",
    "#cs <- colSums(M)\n",
    "#total <- sum(M)\n",
    "#O <- M\n",
    "#E <- outer(rs, cs) / total\n",
    "#sum((O - E)^2/E)\n",
    "#pchisq(sum((O - E)^2/E), df = (nrow(M)-1)*(ncol(M)-1), lower.tail=FALSE)\n",
    "\n",
    "#(Xsq <- chisq.test(M))  # Prints test summary\n",
    "#Xsq$observed   # observed counts (same as M)\n",
    "#Xsq$expected   # expected counts under the null\n",
    "#Xsq$residuals  # Pearson residuals\n",
    "#Xsq$stdres     # standardized residuals"
   ]
  },
  {
   "cell_type": "code",
   "execution_count": 49,
   "metadata": {
    "deletable": false,
    "editable": false,
    "nbgrader": {
     "cell_type": "code",
     "checksum": "aafb5489a8e6c5a1acde60ff605179fb",
     "grade": true,
     "grade_id": "cell-3c53b82b0c0f6156",
     "locked": true,
     "points": 1,
     "schema_version": 3,
     "solution": false,
     "task": false
    }
   },
   "outputs": [],
   "source": [
    "# Hidden Test Cell"
   ]
  },
  {
   "cell_type": "markdown",
   "metadata": {
    "deletable": false,
    "editable": false,
    "nbgrader": {
     "cell_type": "markdown",
     "checksum": "6590bda4d160a3bdde75d73e1b7ede60",
     "grade": false,
     "grade_id": "cell-3c8c1a17733c5e6d",
     "locked": true,
     "schema_version": 3,
     "solution": false,
     "task": false
    }
   },
   "source": [
    "**Part C)** Based on the results from **Part B**, is there an equal proportion of candy in each bag? Assume a significance level of $\\alpha=0.05$. Save your answer into `p2.c`. Save the boolean value `TRUE` if there is an equal proportion within each bag, and `FALSE` if there is not an equal proportion."
   ]
  },
  {
   "cell_type": "code",
   "execution_count": 51,
   "metadata": {
    "deletable": false,
    "nbgrader": {
     "cell_type": "code",
     "checksum": "3bf9b649fc7c9393ff600b5af8c8a906",
     "grade": false,
     "grade_id": "cell-33d1164435309a6c",
     "locked": false,
     "schema_version": 3,
     "solution": true,
     "task": false
    }
   },
   "outputs": [
    {
     "data": {
      "text/html": [
       "7.81472790325118"
      ],
      "text/latex": [
       "7.81472790325118"
      ],
      "text/markdown": [
       "7.81472790325118"
      ],
      "text/plain": [
       "[1] 7.814728"
      ]
     },
     "metadata": {},
     "output_type": "display_data"
    }
   ],
   "source": [
    "p2.c = FALSE\n",
    "\n",
    "# your code here\n",
    "qchisq(0.05, df = length(O)-1, lower.tail=FALSE)"
   ]
  },
  {
   "cell_type": "code",
   "execution_count": null,
   "metadata": {
    "deletable": false,
    "editable": false,
    "nbgrader": {
     "cell_type": "code",
     "checksum": "3f2bf2736324b0609b488776b61846cc",
     "grade": true,
     "grade_id": "cell-5c4ec027ed179a1e",
     "locked": true,
     "points": 1,
     "schema_version": 3,
     "solution": false,
     "task": false
    }
   },
   "outputs": [],
   "source": [
    "# Hidden Test Cell"
   ]
  },
  {
   "cell_type": "markdown",
   "metadata": {
    "deletable": false,
    "editable": false,
    "nbgrader": {
     "cell_type": "markdown",
     "checksum": "10bb51d56731ba42ab903a003cc7d87a",
     "grade": false,
     "grade_id": "cell-c0d76e27f83a6cfd",
     "locked": true,
     "schema_version": 3,
     "solution": false,
     "task": false
    }
   },
   "source": [
    "**Part D)** Suppose that the results of your test from **Part B** indicate that the candies do have different proportions. From the test alone, are you able to determine which of the candies within the group have different proportions? Save your answer as `p2.d`. Save the boolean `TRUE` if you can determine which have different proportions, and save `FALSE` if you can not."
   ]
  },
  {
   "cell_type": "code",
   "execution_count": 26,
   "metadata": {
    "deletable": false,
    "nbgrader": {
     "cell_type": "code",
     "checksum": "f4d25156d0fb2c0003c680e5c9fe6ba5",
     "grade": false,
     "grade_id": "cell-dadd33ed9462d0e5",
     "locked": false,
     "schema_version": 3,
     "solution": true,
     "task": false
    }
   },
   "outputs": [],
   "source": [
    "p2.d = FALSE\n",
    "\n",
    "# your code here"
   ]
  },
  {
   "cell_type": "code",
   "execution_count": null,
   "metadata": {
    "deletable": false,
    "editable": false,
    "nbgrader": {
     "cell_type": "code",
     "checksum": "b6a1b5838727b5f2557d120542b4308b",
     "grade": true,
     "grade_id": "cell-65392165354a59da",
     "locked": true,
     "points": 1,
     "schema_version": 3,
     "solution": false,
     "task": false
    }
   },
   "outputs": [],
   "source": [
    "# Hidden Test Cell"
   ]
  },
  {
   "cell_type": "markdown",
   "metadata": {
    "deletable": false,
    "editable": false,
    "nbgrader": {
     "cell_type": "markdown",
     "checksum": "f8a0f8af2b982ec965691444f4daf27a",
     "grade": false,
     "grade_id": "cell-7fb454589a968dc7",
     "locked": true,
     "schema_version": 3,
     "solution": false,
     "task": false
    }
   },
   "source": [
    "**Part E)** After some thinking, Ralphie has changed her mind and believes that the candies actually follow the below proportions:\n",
    "\n",
    "\\begin{align*}\n",
    "    p_A &= 0.25 \\\\\n",
    "    p_B &= 0.35 \\\\\n",
    "    p_C &= 0.25 \\\\\n",
    "    p_D &= 0.15\n",
    "\\end{align*}\n",
    "\n",
    "At a significance level of $\\alpha=0.05$, determine if your observed samples agree with Ralphie's newly proposed proportions. Save the p-value of your calculations as `p2.e.pval`. Round this answer to three decimal places. Into variable `p2.e`, save `TRUE` if your data does agree with the new proportions, or `FALSE` if it does not."
   ]
  },
  {
   "cell_type": "code",
   "execution_count": 33,
   "metadata": {
    "deletable": false,
    "nbgrader": {
     "cell_type": "code",
     "checksum": "7146165b0418ed4b54658b2b7e04f5c6",
     "grade": false,
     "grade_id": "cell-2402a31c88541342",
     "locked": false,
     "schema_version": 3,
     "solution": true,
     "task": false
    }
   },
   "outputs": [
    {
     "data": {
      "text/html": [
       "<style>\n",
       ".list-inline {list-style: none; margin:0; padding: 0}\n",
       ".list-inline>li {display: inline-block}\n",
       ".list-inline>li:not(:last-child)::after {content: \"\\00b7\"; padding: 0 .5ex}\n",
       "</style>\n",
       "<ol class=list-inline><li>74</li><li>98</li><li>75</li><li>53</li></ol>\n"
      ],
      "text/latex": [
       "\\begin{enumerate*}\n",
       "\\item 74\n",
       "\\item 98\n",
       "\\item 75\n",
       "\\item 53\n",
       "\\end{enumerate*}\n"
      ],
      "text/markdown": [
       "1. 74\n",
       "2. 98\n",
       "3. 75\n",
       "4. 53\n",
       "\n",
       "\n"
      ],
      "text/plain": [
       "[1] 74 98 75 53"
      ]
     },
     "metadata": {},
     "output_type": "display_data"
    },
    {
     "data": {
      "text/html": [
       "<style>\n",
       ".list-inline {list-style: none; margin:0; padding: 0}\n",
       ".list-inline>li {display: inline-block}\n",
       ".list-inline>li:not(:last-child)::after {content: \"\\00b7\"; padding: 0 .5ex}\n",
       "</style>\n",
       "<ol class=list-inline><li>75</li><li>105</li><li>75</li><li>45</li></ol>\n"
      ],
      "text/latex": [
       "\\begin{enumerate*}\n",
       "\\item 75\n",
       "\\item 105\n",
       "\\item 75\n",
       "\\item 45\n",
       "\\end{enumerate*}\n"
      ],
      "text/markdown": [
       "1. 75\n",
       "2. 105\n",
       "3. 75\n",
       "4. 45\n",
       "\n",
       "\n"
      ],
      "text/plain": [
       "[1]  75 105  75  45"
      ]
     },
     "metadata": {},
     "output_type": "display_data"
    },
    {
     "data": {
      "text/html": [
       "1.90222222222222"
      ],
      "text/latex": [
       "1.90222222222222"
      ],
      "text/markdown": [
       "1.90222222222222"
      ],
      "text/plain": [
       "[1] 1.902222"
      ]
     },
     "metadata": {},
     "output_type": "display_data"
    },
    {
     "data": {
      "text/html": [
       "0.592946701808285"
      ],
      "text/latex": [
       "0.592946701808285"
      ],
      "text/markdown": [
       "0.592946701808285"
      ],
      "text/plain": [
       "[1] 0.5929467"
      ]
     },
     "metadata": {},
     "output_type": "display_data"
    },
    {
     "data": {
      "text/html": [
       "7.81472790325118"
      ],
      "text/latex": [
       "7.81472790325118"
      ],
      "text/markdown": [
       "7.81472790325118"
      ],
      "text/plain": [
       "[1] 7.814728"
      ]
     },
     "metadata": {},
     "output_type": "display_data"
    },
    {
     "data": {
      "text/plain": [
       "\n",
       "\tChi-squared test for given probabilities\n",
       "\n",
       "data:  O\n",
       "X-squared = 1.9022, df = 3, p-value = 0.5929\n"
      ]
     },
     "metadata": {},
     "output_type": "display_data"
    }
   ],
   "source": [
    "p2.e = TRUE\n",
    "p2.e.pval = 0.593\n",
    "\n",
    "# your code here\n",
    "O <- colSums(M)\n",
    "probs <- c(0.25,0.35,0.25,0.15)\n",
    "E <- total * probs\n",
    "O <- as.vector(O)\n",
    "O\n",
    "E\n",
    "sum((O - E)^2/E)\n",
    "pchisq(sum((O - E)^2/E), df = length(O)-1, lower.tail=FALSE)\n",
    "qchisq(0.05, df = length(O)-1, lower.tail=FALSE)\n",
    "chisq.test(O, p=probs)"
   ]
  },
  {
   "cell_type": "code",
   "execution_count": null,
   "metadata": {
    "deletable": false,
    "editable": false,
    "nbgrader": {
     "cell_type": "code",
     "checksum": "10a6205f4c62e1f6c15eb2cf0857936c",
     "grade": true,
     "grade_id": "cell-199367f08e1276fc",
     "locked": true,
     "points": 1,
     "schema_version": 3,
     "solution": false,
     "task": false
    }
   },
   "outputs": [],
   "source": [
    "# Hidden Test Cell"
   ]
  },
  {
   "cell_type": "markdown",
   "metadata": {
    "deletable": false,
    "editable": false,
    "nbgrader": {
     "cell_type": "markdown",
     "checksum": "b460fba42fc70e8eff137d967bd9b7e6",
     "grade": false,
     "grade_id": "cell-a876776a8e15671e",
     "locked": true,
     "schema_version": 3,
     "solution": false,
     "task": false
    }
   },
   "source": [
    "# Problem 3\n",
    "\n",
    "A recent public opinion poll surveyed a simple random sample of 400 individuals. Respondents where classified by their age group (0-20, 20-40, 40-60, 60+) and by their preference of pet (Dog or Cat). Results are shown in the table below.\n",
    "\n",
    "|        | Dog     | Cat     |\n",
    "| :---   | :----:  |   ---:  |\n",
    "| 0-20   |   41    |    28   |\n",
    "| 20-40  |   76    |    54   |\n",
    "| 40-60  |   80    |    56   |\n",
    "| 60+    |   38    |    27   |\n",
    "\n",
    "Does people's age group affect their pet preferences?"
   ]
  },
  {
   "cell_type": "markdown",
   "metadata": {
    "deletable": false,
    "editable": false,
    "nbgrader": {
     "cell_type": "markdown",
     "checksum": "1a5df171bb9d8df967d458957b54272c",
     "grade": false,
     "grade_id": "cell-69643c447b29484e",
     "locked": true,
     "schema_version": 3,
     "solution": false,
     "task": false
    }
   },
   "source": [
    "**Part A)** What kind of test should you use to solve this problem? \n",
    "\n",
    "1. Z-test\n",
    "2. t-test\n",
    "3. Chi-Square Goodness of Fit test\n",
    "4. Chi-Square Test of Independence\n",
    "5. Some other test\n",
    "\n",
    "Select the *integer* of the most appropriate test and save it into variable `p3.a`."
   ]
  },
  {
   "cell_type": "code",
   "execution_count": 35,
   "metadata": {
    "deletable": false,
    "nbgrader": {
     "cell_type": "code",
     "checksum": "2565300611e74adce5423fffde8736c1",
     "grade": false,
     "grade_id": "cell-4414d854db730b17",
     "locked": false,
     "schema_version": 3,
     "solution": true,
     "task": false
    }
   },
   "outputs": [],
   "source": [
    "p3.a = 4\n",
    "\n",
    "# your code here"
   ]
  },
  {
   "cell_type": "code",
   "execution_count": null,
   "metadata": {
    "deletable": false,
    "editable": false,
    "nbgrader": {
     "cell_type": "code",
     "checksum": "ec43a346d4f72efcc7afc55cce63769b",
     "grade": true,
     "grade_id": "cell-d7fa401188bd2ba1",
     "locked": true,
     "points": 1,
     "schema_version": 3,
     "solution": false,
     "task": false
    }
   },
   "outputs": [],
   "source": [
    "# Hidden Test Cell"
   ]
  },
  {
   "cell_type": "markdown",
   "metadata": {
    "deletable": false,
    "editable": false,
    "nbgrader": {
     "cell_type": "markdown",
     "checksum": "72e2872fa2841b72c4650163504c982e",
     "grade": false,
     "grade_id": "cell-7d4d0133d5645acd",
     "locked": true,
     "schema_version": 3,
     "solution": false,
     "task": false
    }
   },
   "source": [
    "**Part B)** Determine whether people's age affect their preference in pet. Use an $\\alpha=0.05$ significance level. Using the test you selected in **Part A**, save the p-value of your test statistic as `p3.b.pval`. Round this value to three decimal places. If people's preference of pet is determined by their age, save `TRUE` into variable `p3.b`. Otherwise, save `FALSE` into `p3.b`."
   ]
  },
  {
   "cell_type": "code",
   "execution_count": 37,
   "metadata": {
    "deletable": false,
    "nbgrader": {
     "cell_type": "code",
     "checksum": "bf192689055338d0f0638708aef20799",
     "grade": false,
     "grade_id": "cell-e86baedf85c8255d",
     "locked": false,
     "schema_version": 3,
     "solution": true,
     "task": false
    }
   },
   "outputs": [
    {
     "data": {
      "text/html": [
       "0.0197909628175721"
      ],
      "text/latex": [
       "0.0197909628175721"
      ],
      "text/markdown": [
       "0.0197909628175721"
      ],
      "text/plain": [
       "[1] 0.01979096"
      ]
     },
     "metadata": {},
     "output_type": "display_data"
    },
    {
     "data": {
      "text/html": [
       "0.99926389101676"
      ],
      "text/latex": [
       "0.99926389101676"
      ],
      "text/markdown": [
       "0.99926389101676"
      ],
      "text/plain": [
       "[1] 0.9992639"
      ]
     },
     "metadata": {},
     "output_type": "display_data"
    },
    {
     "data": {
      "text/html": [
       "7.81472790325118"
      ],
      "text/latex": [
       "7.81472790325118"
      ],
      "text/markdown": [
       "7.81472790325118"
      ],
      "text/plain": [
       "[1] 7.814728"
      ]
     },
     "metadata": {},
     "output_type": "display_data"
    },
    {
     "data": {
      "text/plain": [
       "\n",
       "\tPearson's Chi-squared test\n",
       "\n",
       "data:  M\n",
       "X-squared = 0.019791, df = 3, p-value = 0.9993\n"
      ]
     },
     "metadata": {},
     "output_type": "display_data"
    },
    {
     "data": {
      "text/plain": [
       "       CandyType\n",
       "Bags    Dog Cat\n",
       "  0-20   41  28\n",
       "  20-40  76  54\n",
       "  40-60  80  56\n",
       "  60+    38  27"
      ]
     },
     "metadata": {},
     "output_type": "display_data"
    },
    {
     "data": {
      "text/html": [
       "<table>\n",
       "<caption>A matrix: 4 × 2 of type dbl</caption>\n",
       "<thead>\n",
       "\t<tr><th></th><th scope=col>Dog</th><th scope=col>Cat</th></tr>\n",
       "</thead>\n",
       "<tbody>\n",
       "\t<tr><th scope=row>0-20</th><td>40.5375</td><td>28.4625</td></tr>\n",
       "\t<tr><th scope=row>20-40</th><td>76.3750</td><td>53.6250</td></tr>\n",
       "\t<tr><th scope=row>40-60</th><td>79.9000</td><td>56.1000</td></tr>\n",
       "\t<tr><th scope=row>60+</th><td>38.1875</td><td>26.8125</td></tr>\n",
       "</tbody>\n",
       "</table>\n"
      ],
      "text/latex": [
       "A matrix: 4 × 2 of type dbl\n",
       "\\begin{tabular}{r|ll}\n",
       "  & Dog & Cat\\\\\n",
       "\\hline\n",
       "\t0-20 & 40.5375 & 28.4625\\\\\n",
       "\t20-40 & 76.3750 & 53.6250\\\\\n",
       "\t40-60 & 79.9000 & 56.1000\\\\\n",
       "\t60+ & 38.1875 & 26.8125\\\\\n",
       "\\end{tabular}\n"
      ],
      "text/markdown": [
       "\n",
       "A matrix: 4 × 2 of type dbl\n",
       "\n",
       "| <!--/--> | Dog | Cat |\n",
       "|---|---|---|\n",
       "| 0-20 | 40.5375 | 28.4625 |\n",
       "| 20-40 | 76.3750 | 53.6250 |\n",
       "| 40-60 | 79.9000 | 56.1000 |\n",
       "| 60+ | 38.1875 | 26.8125 |\n",
       "\n"
      ],
      "text/plain": [
       "       CandyType\n",
       "Bags    Dog     Cat    \n",
       "  0-20  40.5375 28.4625\n",
       "  20-40 76.3750 53.6250\n",
       "  40-60 79.9000 56.1000\n",
       "  60+   38.1875 26.8125"
      ]
     },
     "metadata": {},
     "output_type": "display_data"
    },
    {
     "data": {
      "text/plain": [
       "       CandyType\n",
       "Bags            Dog         Cat\n",
       "  0-20   0.07264124 -0.08669124\n",
       "  20-40 -0.04290972  0.05120916\n",
       "  40-60  0.01118733 -0.01335115\n",
       "  60+   -0.03034175  0.03621034"
      ]
     },
     "metadata": {},
     "output_type": "display_data"
    },
    {
     "data": {
      "text/plain": [
       "       CandyType\n",
       "Bags            Dog         Cat\n",
       "  0-20   0.12433325 -0.12433325\n",
       "  20-40 -0.08131896  0.08131896\n",
       "  40-60  0.02144088 -0.02144088\n",
       "  60+   -0.05162217  0.05162217"
      ]
     },
     "metadata": {},
     "output_type": "display_data"
    }
   ],
   "source": [
    "p3.b.pval = 0.999\n",
    "p3.b = FALSE\n",
    "alpha = 0.05\n",
    "\n",
    "# your code here\n",
    "M <- as.table(rbind(c(41,28), c(76,54), c(80,56), c(38,27)))\n",
    "dimnames(M) <- list(Bags = c('0-20', '20-40', '40-60', '60+'),\n",
    "                    CandyType = c('Dog', 'Cat'))\n",
    "#M\n",
    "rs <- rowSums(M)\n",
    "cs <- colSums(M)\n",
    "total <- sum(M)\n",
    "O <- M\n",
    "E <- outer(rs, cs) / total\n",
    "sum((O - E)^2/E)\n",
    "pchisq(sum((O - E)^2/E), df = (nrow(M)-1)*(ncol(M)-1), lower.tail=FALSE)\n",
    "qchisq(0.05,  df = (nrow(M)-1)*(ncol(M)-1), lower.tail=FALSE)\n",
    "\n",
    "(Xsq <- chisq.test(M))  # Prints test summary\n",
    "Xsq$observed   # observed counts (same as M)\n",
    "Xsq$expected   # expected counts under the null\n",
    "Xsq$residuals  # Pearson residuals\n",
    "Xsq$stdres     # standardized residuals"
   ]
  },
  {
   "cell_type": "code",
   "execution_count": null,
   "metadata": {
    "deletable": false,
    "editable": false,
    "nbgrader": {
     "cell_type": "code",
     "checksum": "3868eec416d47ef5463efdac8618f5d9",
     "grade": true,
     "grade_id": "cell-5c458bffd5e8c5b2",
     "locked": true,
     "points": 1,
     "schema_version": 3,
     "solution": false,
     "task": false
    }
   },
   "outputs": [],
   "source": [
    "# Hidden Test Cell"
   ]
  },
  {
   "cell_type": "markdown",
   "metadata": {
    "deletable": false,
    "editable": false,
    "nbgrader": {
     "cell_type": "markdown",
     "checksum": "0c1cdddd25feb4574121406ffa48e62a",
     "grade": false,
     "grade_id": "cell-d7e4004bedf949c7",
     "locked": true,
     "schema_version": 3,
     "solution": false,
     "task": false
    }
   },
   "source": [
    "**Part C)** Suppose that the results of your test from **Part B** indicate that you should reject the null hypothesis. Does this also mean that the different age groups *causes* the difference in pet preferences? Save the boolean `TRUE` or `FALSE` into variable `p3.c`."
   ]
  },
  {
   "cell_type": "code",
   "execution_count": 38,
   "metadata": {
    "deletable": false,
    "nbgrader": {
     "cell_type": "code",
     "checksum": "7eab6c2bfeacb7578c447dfea0cbc012",
     "grade": false,
     "grade_id": "cell-ec6cfa7b0afc9dd8",
     "locked": false,
     "schema_version": 3,
     "solution": true,
     "task": false
    }
   },
   "outputs": [],
   "source": [
    "p3.c = FALSE\n",
    "\n",
    "# your code here\n"
   ]
  },
  {
   "cell_type": "code",
   "execution_count": null,
   "metadata": {
    "deletable": false,
    "editable": false,
    "nbgrader": {
     "cell_type": "code",
     "checksum": "edd67ef654b7513acbe57e974da1418f",
     "grade": true,
     "grade_id": "cell-a8fe69f03a70c254",
     "locked": true,
     "points": 1,
     "schema_version": 3,
     "solution": false,
     "task": false
    }
   },
   "outputs": [],
   "source": [
    "# Hidden Test Cell"
   ]
  }
 ],
 "metadata": {
  "kernelspec": {
   "display_name": "R",
   "language": "R",
   "name": "ir"
  },
  "language_info": {
   "codemirror_mode": "r",
   "file_extension": ".r",
   "mimetype": "text/x-r-source",
   "name": "R",
   "pygments_lexer": "r",
   "version": "3.6.3"
  }
 },
 "nbformat": 4,
 "nbformat_minor": 4
}
