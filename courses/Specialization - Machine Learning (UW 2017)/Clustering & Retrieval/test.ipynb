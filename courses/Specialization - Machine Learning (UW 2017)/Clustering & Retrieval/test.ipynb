{
 "cells": [
  {
   "cell_type": "code",
   "execution_count": 23,
   "metadata": {},
   "outputs": [
    {
     "data": {
      "text/plain": [
       "10"
      ]
     },
     "execution_count": 23,
     "metadata": {},
     "output_type": "execute_result"
    }
   ],
   "source": [
    "x=['the','a','quick','brown', 'fox', 'jumps', 'over', 'lazy', 'dog', 'outpaces']\n",
    "len(x)"
   ]
  },
  {
   "cell_type": "code",
   "execution_count": 24,
   "metadata": {},
   "outputs": [],
   "source": [
    "s1 = 'The quick brown fox jumps over the lazy dog'\n",
    "s2 = 'A quick brown dog outpaces a quick fox'\n",
    "\n",
    "s1 = list(map(lambda x: x.lower(), s1.split()))\n",
    "s2 = list(map(lambda x: x.lower(), s2.split()))"
   ]
  },
  {
   "cell_type": "code",
   "execution_count": 25,
   "metadata": {},
   "outputs": [
    {
     "data": {
      "text/plain": [
       "(['the', 'quick', 'brown', 'fox', 'jumps', 'over', 'the', 'lazy', 'dog'],\n",
       " ['a', 'quick', 'brown', 'dog', 'outpaces', 'a', 'quick', 'fox'])"
      ]
     },
     "execution_count": 25,
     "metadata": {},
     "output_type": "execute_result"
    }
   ],
   "source": [
    "s1, s2"
   ]
  },
  {
   "cell_type": "code",
   "execution_count": 26,
   "metadata": {},
   "outputs": [
    {
     "data": {
      "text/plain": [
       "({'the': 2,\n",
       "  'a': 0,\n",
       "  'quick': 1,\n",
       "  'brown': 1,\n",
       "  'fox': 1,\n",
       "  'jumps': 1,\n",
       "  'over': 1,\n",
       "  'lazy': 1,\n",
       "  'dog': 1,\n",
       "  'outpaces': 0},\n",
       " {'the': 0,\n",
       "  'a': 2,\n",
       "  'quick': 2,\n",
       "  'brown': 1,\n",
       "  'fox': 1,\n",
       "  'jumps': 0,\n",
       "  'over': 0,\n",
       "  'lazy': 0,\n",
       "  'dog': 1,\n",
       "  'outpaces': 1})"
      ]
     },
     "execution_count": 26,
     "metadata": {},
     "output_type": "execute_result"
    }
   ],
   "source": [
    "x1, x2 = {w:0 for w in x}, {w:0 for w in x}\n",
    "for w in s1:\n",
    "    x1[w] += 1\n",
    "for w in s2:\n",
    "    x2[w] += 1\n",
    "x1, x2"
   ]
  },
  {
   "cell_type": "code",
   "execution_count": 31,
   "metadata": {},
   "outputs": [],
   "source": [
    "x1, x2 = np.array(list(x1.values())), np.array(list(x2.values()))"
   ]
  },
  {
   "cell_type": "code",
   "execution_count": 32,
   "metadata": {},
   "outputs": [
    {
     "data": {
      "text/plain": [
       "3.605551275463989"
      ]
     },
     "execution_count": 32,
     "metadata": {},
     "output_type": "execute_result"
    }
   ],
   "source": [
    "import numpy as np\n",
    "#np.sqrt(np.sum([(x1[w] - x2[w])**2 for w in x]))\n",
    "np.sqrt(np.sum((x1 - x2)**2))"
   ]
  },
  {
   "cell_type": "code",
   "execution_count": 34,
   "metadata": {},
   "outputs": [
    {
     "data": {
      "text/plain": [
       "0.5648058601107554"
      ]
     },
     "execution_count": 34,
     "metadata": {},
     "output_type": "execute_result"
    }
   ],
   "source": [
    "1-x1@x2 / (np.sqrt(x1@x1)*np.sqrt(x2@x2))"
   ]
  },
  {
   "cell_type": "code",
   "execution_count": 1,
   "metadata": {},
   "outputs": [],
   "source": [
    "import numpy as np\n",
    "X = np.array([[-1.58,-2.01],\n",
    "              [0.91,3.98],\n",
    "              [-0.73,4.00],\n",
    "              [-4.22,1.16],\n",
    "              [4.19,-2.02],\n",
    "              [-0.33,2.15]])"
   ]
  },
  {
   "cell_type": "code",
   "execution_count": 9,
   "metadata": {},
   "outputs": [
    {
     "name": "stdout",
     "output_type": "stream",
     "text": [
      "6 0\n",
      "splits: -0.01499999999999968 0\n",
      "4 1\n",
      "splits: 0.9950000000000001 1\n",
      "2 1\n",
      "1 0\n",
      "3 0\n",
      "splits: -2.275 0\n",
      "1 1\n",
      "2 1\n"
     ]
    }
   ],
   "source": [
    "split_points = []\n",
    "queue = [(X, 0)]\n",
    "while queue:\n",
    "    pts, axis = queue.pop(0)\n",
    "    print(len(pts), axis)\n",
    "    if len(pts) > 2:\n",
    "        split_val = (np.max(pts[:,axis]) + np.min(pts[:,axis])) / 2\n",
    "        print('splits:', split_val, axis)\n",
    "        queue.append((pts[pts[:,axis] < split_val], (axis + 1) % 2))\n",
    "        queue.append((pts[pts[:,axis] >= split_val], (axis + 1) % 2))"
   ]
  },
  {
   "cell_type": "code",
   "execution_count": 10,
   "metadata": {},
   "outputs": [],
   "source": [
    "query = np.array([-3,1.5])"
   ]
  },
  {
   "cell_type": "code",
   "execution_count": 11,
   "metadata": {},
   "outputs": [
    {
     "data": {
      "text/plain": [
       "1.266491215919005"
      ]
     },
     "execution_count": 11,
     "metadata": {},
     "output_type": "execute_result"
    }
   ],
   "source": [
    "np.sqrt(np.sum((query - X[3])**2))"
   ]
  },
  {
   "cell_type": "code",
   "execution_count": 17,
   "metadata": {},
   "outputs": [
    {
     "data": {
      "text/plain": [
       "array([3.37681803, 2.74798108])"
      ]
     },
     "execution_count": 17,
     "metadata": {},
     "output_type": "execute_result"
    }
   ],
   "source": [
    "np.sqrt(np.sum((query - X[[2,5],:])**2, axis=1))"
   ]
  },
  {
   "cell_type": "code",
   "execution_count": 16,
   "metadata": {},
   "outputs": [
    {
     "data": {
      "text/plain": [
       "array([[5.1529, 6.25  ],\n",
       "       [7.1289, 0.4225]])"
      ]
     },
     "execution_count": 16,
     "metadata": {},
     "output_type": "execute_result"
    }
   ],
   "source": [
    "(query - X[[2,5],:])**2"
   ]
  },
  {
   "cell_type": "code",
   "execution_count": null,
   "metadata": {},
   "outputs": [],
   "source": []
  }
 ],
 "metadata": {
  "kernelspec": {
   "display_name": "Python 3",
   "language": "python",
   "name": "python3"
  },
  "language_info": {
   "codemirror_mode": {
    "name": "ipython",
    "version": 3
   },
   "file_extension": ".py",
   "mimetype": "text/x-python",
   "name": "python",
   "nbconvert_exporter": "python",
   "pygments_lexer": "ipython3",
   "version": "3.7.6"
  }
 },
 "nbformat": 4,
 "nbformat_minor": 4
}
