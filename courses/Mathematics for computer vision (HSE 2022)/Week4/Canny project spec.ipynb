{
 "cells": [
  {
   "cell_type": "markdown",
   "metadata": {},
   "source": [
    "# Canny Edge Detector\n",
    "\n",
    "## Background\n",
    "\n",
    "In this project you have to implement a method for detecting edges on the images. One of the most popular ways to deal with this task is [Canny's algorithm](https://en.wikipedia.org/wiki/Canny_edge_detector). It has several stages:\n",
    "1. Image smothing (to reduce the noise)\n",
    "2. Gradient calculation (its orientation and magnitude)\n",
    "3. Non-max suppression (to thin out the edges)\n",
    "4. Double threshold\n",
    "5. Edge Tracking by Hysteresis.\n",
    "\n",
    "Your goal is to perform each stage of the algorithm. After applying these stages to some input image you will see the following results:\n",
    "\n",
    "<table><tr>\n",
    "<td> \n",
    "  <p align=\"center\" style=\"padding: 10px\">\n",
    "    <img alt=\"Input\" src=\"whitepawn.jpg\" width=\"320\">\n",
    "    <br>\n",
    "    <em style=\"color: black\">Input image</em>\n",
    "  </p> \n",
    "</td>\n",
    "<td> \n",
    "  <p align=\"center\">\n",
    "    <img alt=\"Result\" src=\"canny.jpg\" width=\"320\">\n",
    "    <br>\n",
    "    <em style=\"color: black\">Result</em>\n",
    "  </p> \n",
    "</td>\n",
    "</tr></table>\n",
    "\n",
    "All the code you should complete will be at the same level of indentation as the instruction comment.\n",
    "\n",
    "You will need to use some of the following functions:\n",
    "```python\n",
    "convolve(image, kernel, padding)                #apply convolution to the image (matrix)\n",
    "get_gaussian_kernel(kernel_size)                #get gaussian kernel of selected size\n",
    "get_sobel_kernel(kernel_size, direction)        #get Sobel kernel of selected size and direction (if True, horisontal)\n",
    "non_max_suppression(intensity, orientation)     #apply non-max supperession on given gradient intensity matrix using the matrix of gradient orientations\n",
    "threshold(img, low_threshold, high_threshold, weak, strong) #double threshold function\n",
    "hysteresis(img, weak, strong)                   #hysteresis function to choose if weak pixel should be included in edges\n",
    "\n",
    "```\n",
    "\n",
    "This exercise will require you to combine these functions correctly. You will find more details about these functions below\n",
    "\n",
    "\n",
    "\n",
    "### How to submit\n",
    "Edit the code in the cell below to complete the assignment.\n",
    "Once you are finished and happy with it, press the *Submit Assignment* button at the top of this notebook.\n",
    "\n",
    "Please don't change any of the function names, as these will be checked by the grading script.\n"
   ]
  },
  {
   "cell_type": "code",
   "execution_count": 1,
   "metadata": {},
   "outputs": [],
   "source": [
    "# PACKAGES\n",
    "# First of all, run this cell once to load the dependancies.\n",
    "import cv2\n",
    "import numpy as np\n",
    "import matplotlib.pyplot as plt\n",
    "from utils import convolve, get_gaussian_kernel, get_sobel_kernel, non_max_suppression, threshold, hysteresis"
   ]
  },
  {
   "cell_type": "code",
   "execution_count": 2,
   "metadata": {},
   "outputs": [],
   "source": [
    "# Image reading\n",
    "# Use this function to read images and \n",
    "\n",
    "def processImage(image): \n",
    "  image = cv2.imread(image) \n",
    "  image = cv2.cvtColor(src=image, code=cv2.COLOR_BGR2GRAY) \n",
    "  return image"
   ]
  },
  {
   "cell_type": "code",
   "execution_count": 20,
   "metadata": {
    "deletable": false,
    "nbgrader": {
     "cell_type": "code",
     "checksum": "2bdad78a3fb17019db335cbf175356c6",
     "grade": false,
     "grade_id": "cell-512786cf22f4171f",
     "locked": false,
     "schema_version": 3,
     "solution": true,
     "task": false
    }
   },
   "outputs": [],
   "source": [
    "# GRADED FUNCTIONS\n",
    "# You should edit this cell.\n",
    "\n",
    "# In this function, you will return the edges for the image (matrix), the result of application \n",
    "# of Canny's algorithm\n",
    "# It should have the following signature\n",
    "# def get_canny_edges(img) : # The parameter img is an image that is passed to the function.\n",
    "\n",
    "def get_canny_edges(img) :\n",
    "    \"\"\"\n",
    "    # Use convolve to apply gaussian filter from get_gaussian_kernel to the image\n",
    "    denoised = ???\n",
    "    # Get Sobel kernels and compute horizontal and vertical gradients using convolve function\n",
    "    horizontal_grad = ???\n",
    "    vertical_grad = ???\n",
    "    # Compute the intensity and direction of gradients using get_intensity_and_direction\n",
    "    # NOTE: you should implement it below\n",
    "    grad_intensity, grad_direction = ???\n",
    "    # Use this matrices in non-max supression method to make thinner edges\n",
    "    thin_edges = ???\n",
    "    # Discard irrelevant pixels using double threshold method\n",
    "    thresholded = ???\n",
    "    # Use hysteresis to define which weak pixels should be included in the final results\n",
    "    # NOTE: parameters \"weak\" and \"strong\" should be the same for threshold and hysteresis\n",
    "    final_result = ???\n",
    "    return final_result\n",
    "    \"\"\"\n",
    "    # your code here\n",
    "    gauss_kernel = get_gaussian_kernel(3)\n",
    "    denoised = convolve(img, gauss_kernel, padding=1)\n",
    "    kernelX = get_sobel_kernel(3)\n",
    "    horizontal_grad = convolve(denoised, kernelX, padding=1)\n",
    "    kernelY = get_sobel_kernel(3, False)\n",
    "    vertical_grad = convolve(denoised, kernelY, padding=1)\n",
    "    grad_intensity, grad_direction = get_intensity_and_direction(horizontal_grad, vertical_grad)\n",
    "    thin_edges = non_max_suppression(grad_intensity, grad_direction)\n",
    "    thresholded = threshold(thin_edges)\n",
    "    final_result = hysteresis(thresholded)\n",
    "    return final_result\n",
    "\n",
    "# In this function you will return gradient intensity and direction (in radians)\n",
    "def get_intensity_and_direction(horizontal_grad, vertical_grad):    \n",
    "    # your code here\n",
    "    intensity = np.sqrt(horizontal_grad**2 + vertical_grad**2)\n",
    "    #direction = np.arctan2(horizontal_grad, vertical_grad)\n",
    "    direction = np.arctan2(vertical_grad, horizontal_grad)\n",
    "    return intensity, direction"
   ]
  },
  {
   "cell_type": "markdown",
   "metadata": {},
   "source": [
    "### These cells will be used to test your submission\n",
    "You can test your solution there, but other tests are hidden from you"
   ]
  },
  {
   "cell_type": "code",
   "execution_count": 21,
   "metadata": {
    "deletable": false,
    "editable": false,
    "nbgrader": {
     "cell_type": "code",
     "checksum": "5cff62be554d616e982343b09532e730",
     "grade": true,
     "grade_id": "cell-46769726e9adabdd",
     "locked": true,
     "points": 25,
     "schema_version": 3,
     "solution": false,
     "task": false
    }
   },
   "outputs": [],
   "source": [
    "from nose.tools import assert_equal, assert_raises, assert_greater\n",
    "test_img1 = processImage(\"circle.jpg\")\n",
    "result1 = get_canny_edges(test_img1)\n",
    "assert_equal(result1.shape[0],test_img1.shape[0])\n",
    "assert_equal(result1.shape[1],test_img1.shape[1])"
   ]
  },
  {
   "cell_type": "code",
   "execution_count": 22,
   "metadata": {
    "deletable": false,
    "editable": false,
    "nbgrader": {
     "cell_type": "code",
     "checksum": "3209ed1ddc42f5de41d7ac5f763c6020",
     "grade": true,
     "grade_id": "cell-a98e2ce127d4fd1d",
     "locked": true,
     "points": 20,
     "schema_version": 3,
     "solution": false,
     "task": false
    }
   },
   "outputs": [],
   "source": [
    "test_img3 = processImage(\"asd.jpg\")\n",
    "result3 = get_canny_edges(test_img3)\n",
    "assert_greater(result3[6,7], 0)"
   ]
  },
  {
   "cell_type": "code",
   "execution_count": 23,
   "metadata": {
    "deletable": false,
    "editable": false,
    "nbgrader": {
     "cell_type": "code",
     "checksum": "3051f82e2498da658f56b50a7abd037f",
     "grade": true,
     "grade_id": "cell-4d456dc6506df4a7",
     "locked": true,
     "points": 40,
     "schema_version": 3,
     "solution": false,
     "task": false
    }
   },
   "outputs": [],
   "source": [
    "\"\"\"Check that get_canny_edges relies on get_intensity_and_direction.\"\"\"\n",
    "orig_get_intensity_and_direction = get_intensity_and_direction\n",
    "del get_intensity_and_direction\n",
    "try:\n",
    "    assert_raises(NameError, get_canny_edges, test_img1)\n",
    "except AssertionError:\n",
    "    raise AssertionError(\"get_canny_edges does not use get_intensity_and_direction\")\n",
    "finally:\n",
    "    get_intensity_and_direction = orig_get_intensity_and_direction"
   ]
  },
  {
   "cell_type": "code",
   "execution_count": null,
   "metadata": {
    "deletable": false,
    "editable": false,
    "nbgrader": {
     "cell_type": "code",
     "checksum": "445035339943c8553d12efff4ba0f958",
     "grade": true,
     "grade_id": "cell-48e7d1e0e1cc187b",
     "locked": true,
     "points": 5,
     "schema_version": 3,
     "solution": false,
     "task": false
    }
   },
   "outputs": [],
   "source": []
  },
  {
   "cell_type": "code",
   "execution_count": 24,
   "metadata": {
    "deletable": false,
    "editable": false,
    "nbgrader": {
     "cell_type": "code",
     "checksum": "1446c092e51bf16adeade0bbf8d3ad27",
     "grade": true,
     "grade_id": "cell-5df1797d6ff0e680",
     "locked": true,
     "points": 10,
     "schema_version": 3,
     "solution": false,
     "task": false
    }
   },
   "outputs": [],
   "source": [
    "\n",
    "assert_greater((result1>0).sum(), 1500)\n",
    "assert_greater(1600, (result1>0).sum())"
   ]
  },
  {
   "cell_type": "markdown",
   "metadata": {},
   "source": [
    "# There you can see examples for each stage of the algorithm"
   ]
  },
  {
   "cell_type": "code",
   "execution_count": 3,
   "metadata": {},
   "outputs": [],
   "source": [
    "img = processImage(\"whitepawn.jpg\")"
   ]
  },
  {
   "cell_type": "code",
   "execution_count": 4,
   "metadata": {},
   "outputs": [
    {
     "data": {
      "text/plain": [
       "<matplotlib.image.AxesImage at 0x7f1ceec63910>"
      ]
     },
     "execution_count": 4,
     "metadata": {},
     "output_type": "execute_result"
    },
    {
     "data": {
      "image/png": "[encoded data removed]",
      "text/plain": [
       "<Figure size 432x288 with 1 Axes>"
      ]
     },
     "metadata": {
      "needs_background": "light"
     },
     "output_type": "display_data"
    }
   ],
   "source": [
    "plt.imshow(img, cmap='gray')"
   ]
  },
  {
   "cell_type": "code",
   "execution_count": 5,
   "metadata": {},
   "outputs": [
    {
     "data": {
      "text/plain": [
       "<matplotlib.image.AxesImage at 0x7f1cec268ed0>"
      ]
     },
     "execution_count": 5,
     "metadata": {},
     "output_type": "execute_result"
    },
    {
     "data": {
      "image/png": "[encoded data removed]",
      "text/plain": [
       "<Figure size 432x288 with 1 Axes>"
      ]
     },
     "metadata": {
      "needs_background": "light"
     },
     "output_type": "display_data"
    }
   ],
   "source": [
    "img2 = processImage(\"circle.jpg\")\n",
    "plt.imshow(img2, cmap='gray')"
   ]
  },
  {
   "cell_type": "markdown",
   "metadata": {},
   "source": [
    "## Gaussian filtering\n",
    "\n",
    "The equation for a Gaussian filter kernel of size $(2k+1)\\times(2k+1)$ is given by:\n",
    "$$ H_{i,j} = \\frac{1}{2\\pi\\sigma^2}\\exp\\left(-\\frac{\\left(i-(k+1)\\right)^2+\\left(j-(k+1)\\right)^2}{2\\sigma^2}\\right); 1\\le i, j\\le(2k+1)\n",
    "$$"
   ]
  },
  {
   "cell_type": "code",
   "execution_count": 6,
   "metadata": {},
   "outputs": [
    {
     "data": {
      "text/plain": [
       "<matplotlib.image.AxesImage at 0x7f1cec1e2ed0>"
      ]
     },
     "execution_count": 6,
     "metadata": {},
     "output_type": "execute_result"
    },
    {
     "data": {
      "image/png": "[encoded data removed]",
      "text/plain": [
       "<Figure size 432x288 with 1 Axes>"
      ]
     },
     "metadata": {
      "needs_background": "light"
     },
     "output_type": "display_data"
    }
   ],
   "source": [
    "gauss_kernel = get_gaussian_kernel(3)\n",
    "blurred = convolve(img, gauss_kernel, padding=1)\n",
    "plt.imshow(blurred, cmap='gray')"
   ]
  },
  {
   "cell_type": "markdown",
   "metadata": {},
   "source": [
    "## Sobel filtering (horizontal gradient)"
   ]
  },
  {
   "cell_type": "code",
   "execution_count": 7,
   "metadata": {
    "deletable": false,
    "editable": false,
    "nbgrader": {
     "cell_type": "code",
     "checksum": "c32d7127e5ded65a7c719c99daeaa889",
     "grade": false,
     "grade_id": "cell-8ef9837d04af9e33",
     "locked": true,
     "schema_version": 3,
     "solution": false,
     "task": false
    }
   },
   "outputs": [
    {
     "data": {
      "text/plain": [
       "<matplotlib.image.AxesImage at 0x7f1cec15a8d0>"
      ]
     },
     "execution_count": 7,
     "metadata": {},
     "output_type": "execute_result"
    },
    {
     "data": {
      "image/png": "[encoded data removed]",
      "text/plain": [
       "<Figure size 432x288 with 1 Axes>"
      ]
     },
     "metadata": {
      "needs_background": "light"
     },
     "output_type": "display_data"
    }
   ],
   "source": [
    "kernelX = get_sobel_kernel(3)\n",
    "grad_pawn_x = convolve(img, kernelX, padding=1)\n",
    "plt.imshow(grad_pawn_x, cmap='gray')"
   ]
  },
  {
   "cell_type": "code",
   "execution_count": 8,
   "metadata": {},
   "outputs": [
    {
     "data": {
      "text/plain": [
       "<matplotlib.image.AxesImage at 0x7f1cec14f2d0>"
      ]
     },
     "execution_count": 8,
     "metadata": {},
     "output_type": "execute_result"
    },
    {
     "data": {
      "image/png": "[encoded data removed]",
      "text/plain": [
       "<Figure size 432x288 with 1 Axes>"
      ]
     },
     "metadata": {
      "needs_background": "light"
     },
     "output_type": "display_data"
    }
   ],
   "source": [
    "kernelY = get_sobel_kernel(3, False)\n",
    "grad_pawn_y = convolve(img, kernelY, padding=1)\n",
    "plt.imshow(grad_pawn_y, cmap='gray')"
   ]
  },
  {
   "cell_type": "code",
   "execution_count": 9,
   "metadata": {
    "deletable": false,
    "editable": false,
    "nbgrader": {
     "cell_type": "code",
     "checksum": "8e730b94141a59254c62cd5a716ada08",
     "grade": false,
     "grade_id": "cell-3131791f9dcb138b",
     "locked": true,
     "schema_version": 3,
     "solution": false,
     "task": false
    }
   },
   "outputs": [
    {
     "data": {
      "text/plain": [
       "<matplotlib.image.AxesImage at 0x7f1cec0baad0>"
      ]
     },
     "execution_count": 9,
     "metadata": {},
     "output_type": "execute_result"
    },
    {
     "data": {
      "image/png": "[encoded data removed]",
      "text/plain": [
       "<Figure size 432x288 with 1 Axes>"
      ]
     },
     "metadata": {
      "needs_background": "light"
     },
     "output_type": "display_data"
    }
   ],
   "source": [
    "grad_circle_x = convolve(img2, kernelX, padding=1)\n",
    "plt.imshow(grad_circle_x, cmap='gray')"
   ]
  },
  {
   "cell_type": "markdown",
   "metadata": {},
   "source": [
    "## Sobel filtering (vertical gradient)"
   ]
  },
  {
   "cell_type": "markdown",
   "metadata": {},
   "source": [
    "You should get results similar to:\n",
    "<p align=\"center\" style=\"padding: 10px\">\n",
    "<img alt=\"Input\" src=\"grad_pawn_vertical.jpg\" width=\"520\">\n",
    "</p> "
   ]
  },
  {
   "cell_type": "markdown",
   "metadata": {},
   "source": [
    "## Gradient magnitude (intensity)\n",
    "\n",
    "Gradient intensity is:\n",
    "$$ \\left|G\\right| = \\sqrt{I_x^2 + I_y^2}$$\n",
    "\n",
    "The images below show computed gradient magnitude (intensity)\n",
    "<p align=\"center\" style=\"padding: 10px\">\n",
    "<img alt=\"Input\" src=\"grad_magnitude_pawn.jpg\" width=\"320\">\n",
    "</p> \n",
    "\n",
    "<p align=\"center\" style=\"padding: 10px\">\n",
    "<img alt=\"Input\" src=\"grad_magnitude_circle.jpg\" width=\"320\">\n",
    "</p> "
   ]
  },
  {
   "cell_type": "markdown",
   "metadata": {},
   "source": [
    "## Gradient direction\n",
    "\n",
    "Gradient direction is an angle:\n",
    "$$ \\left|G\\right| = \\arctan\\left(\\frac{I_x}{I_y}\\right)$$\n",
    "\n",
    "Gradient direction is best displayed for the circle image:\n",
    "<p align=\"center\" style=\"padding: 10px\">\n",
    "<img alt=\"Input\" src=\"grad_orientation_circle.jpg\" width=\"520\">\n",
    "</p> "
   ]
  },
  {
   "cell_type": "markdown",
   "metadata": {},
   "source": [
    "## Non max supression\n",
    "\n",
    "Ideally, we want to have thin edges on the final image. For this, we can use non-maximum suppression method to reduce edge thickness.\n",
    "This main idea is quite clear: the algorithm goes through all the points on the gradient intensity matrix and finds the pixels with the maximum value along the edge directions from gradient orientation matrix.\n",
    "\n",
    "The image below shows result of using ```non_max_supression``` function\n",
    "<p align=\"center\" style=\"padding: 10px\">\n",
    "<img alt=\"Input\" src=\"thin_edges.jpg\" width=\"520\">\n",
    "</p> "
   ]
  },
  {
   "cell_type": "markdown",
   "metadata": {},
   "source": [
    "## Threshold\n",
    "\n",
    "The double threshold step aims at identifying 3 kinds of pixels: strong, weak, and non-relevant:\n",
    "* Strong pixels are pixels that have very high intensity and will be included to the final edge.\n",
    "* Weak pixels are pixels that have an intensity value that is not enough to be considered as strong ones, but yet not small enough to be considered as non-relevant for the edge detection.\n",
    "* Irrelevant pixels\n",
    "\n",
    "<img alt=\"threshold\" src=\"threshold.jpg\">"
   ]
  },
  {
   "cell_type": "markdown",
   "metadata": {},
   "source": [
    "## Hysterisis\n",
    "\n",
    "Based on the threshold results, the hysteresis consists of transforming weak pixels into strong ones, if and only if at least one of the pixels around the one being processed is a strong one"
   ]
  },
  {
   "cell_type": "markdown",
   "metadata": {},
   "source": [
    "If your are not sure which parameters to use for the previous functions, try default ones first\n",
    "If you do everything right, you will get final result:\n",
    "<p align=\"center\" style=\"padding: 10px\">\n",
    "<img alt=\"Input\" src=\"canny.jpg\" width=\"520\">\n",
    "</p> "
   ]
  },
  {
   "cell_type": "code",
   "execution_count": null,
   "metadata": {},
   "outputs": [],
   "source": []
  }
 ],
 "metadata": {
  "kernelspec": {
   "display_name": "Python 3",
   "language": "python",
   "name": "python3"
  },
  "language_info": {
   "codemirror_mode": {
    "name": "ipython",
    "version": 3
   },
   "file_extension": ".py",
   "mimetype": "text/x-python",
   "name": "python",
   "nbconvert_exporter": "python",
   "pygments_lexer": "ipython3",
   "version": "3.7.6"
  }
 },
 "nbformat": 4,
 "nbformat_minor": 2
}
