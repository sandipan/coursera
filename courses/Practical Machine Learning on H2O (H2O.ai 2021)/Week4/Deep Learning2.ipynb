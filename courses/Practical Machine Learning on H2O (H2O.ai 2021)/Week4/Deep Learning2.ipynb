{
 "cells": [
  {
   "cell_type": "markdown",
   "metadata": {},
   "source": [
    "## Project Choice #2\n",
    "\n",
    "http://coursera.h2o.ai/cacao.882.csv\n",
    "\n",
    "This is a classification problem. You have to predict \"Maker Location\" (notice the space). In other words, using the rating, and the other fields, how accurately can you identify if it is Belgian chocolate, French chocolate, and so on.\n",
    "\n",
    "You should split the data into train, valid and test. Use a seed (of your choice) to make your experiments more reproducible. Alternatively, you can split into just train and test, and then use cross-validation."
   ]
  },
  {
   "cell_type": "markdown",
   "metadata": {},
   "source": [
    "## Step 1"
   ]
  },
  {
   "cell_type": "code",
   "execution_count": 53,
   "metadata": {},
   "outputs": [],
   "source": [
    "## Step one is to start h2o, load your data set, and split it if necessary. By the end of this stage you should have \n",
    "## three variables, pointing to three data frames on h2o: train, valid, test. However, if you are choosing to use \n",
    "## cross-validation, you will only have two: train and test."
   ]
  },
  {
   "cell_type": "code",
   "execution_count": 1,
   "metadata": {},
   "outputs": [],
   "source": [
    "import h2o\n",
    "import pandas as pd\n",
    "import numpy as np\n",
    "import matplotlib.pyplot as plt"
   ]
  },
  {
   "cell_type": "code",
   "execution_count": 4,
   "id": "d45e2aa7",
   "metadata": {},
   "outputs": [
    {
     "name": "stdout",
     "output_type": "stream",
     "text": [
      "Checking whether there is an H2O instance running at http://localhost:54321. connected.\n",
      "Warning: Your H2O cluster version is too old (4 years and 9 days)! Please download and install the latest version from http://h2o.ai/download/\n"
     ]
    },
    {
     "data": {
      "text/html": [
       "<div style=\"overflow:auto\"><table style=\"width:50%\"><tr><td>H2O cluster uptime:</td>\n",
       "<td>1 day 14 hours 21 mins</td></tr>\n",
       "<tr><td>H2O cluster version:</td>\n",
       "<td>3.13.0.3978</td></tr>\n",
       "<tr><td>H2O cluster version age:</td>\n",
       "<td>4 years and 9 days !!!</td></tr>\n",
       "<tr><td>H2O cluster name:</td>\n",
       "<td>H2O_started_from_R_Sandipan.Dey_kpl973</td></tr>\n",
       "<tr><td>H2O cluster total nodes:</td>\n",
       "<td>1</td></tr>\n",
       "<tr><td>H2O cluster free memory:</td>\n",
       "<td>2.540 Gb</td></tr>\n",
       "<tr><td>H2O cluster total cores:</td>\n",
       "<td>4</td></tr>\n",
       "<tr><td>H2O cluster allowed cores:</td>\n",
       "<td>4</td></tr>\n",
       "<tr><td>H2O cluster status:</td>\n",
       "<td>locked, healthy</td></tr>\n",
       "<tr><td>H2O connection url:</td>\n",
       "<td>http://localhost:54321</td></tr>\n",
       "<tr><td>H2O connection proxy:</td>\n",
       "<td>None</td></tr>\n",
       "<tr><td>H2O internal security:</td>\n",
       "<td>False</td></tr>\n",
       "<tr><td>H2O API Extensions:</td>\n",
       "<td>Algos, AutoML, Core V3, Core V4</td></tr>\n",
       "<tr><td>Python version:</td>\n",
       "<td>3.7.6 final</td></tr></table></div>"
      ],
      "text/plain": [
       "--------------------------  --------------------------------------\n",
       "H2O cluster uptime:         1 day 14 hours 21 mins\n",
       "H2O cluster version:        3.13.0.3978\n",
       "H2O cluster version age:    4 years and 9 days !!!\n",
       "H2O cluster name:           H2O_started_from_R_Sandipan.Dey_kpl973\n",
       "H2O cluster total nodes:    1\n",
       "H2O cluster free memory:    2.540 Gb\n",
       "H2O cluster total cores:    4\n",
       "H2O cluster allowed cores:  4\n",
       "H2O cluster status:         locked, healthy\n",
       "H2O connection url:         http://localhost:54321\n",
       "H2O connection proxy:\n",
       "H2O internal security:      False\n",
       "H2O API Extensions:         Algos, AutoML, Core V3, Core V4\n",
       "Python version:             3.7.6 final\n",
       "--------------------------  --------------------------------------"
      ]
     },
     "metadata": {},
     "output_type": "display_data"
    }
   ],
   "source": [
    "h2o.init() # h2o.clusterStatus()"
   ]
  },
  {
   "cell_type": "code",
   "execution_count": 5,
   "id": "664dd86f",
   "metadata": {},
   "outputs": [
    {
     "name": "stdout",
     "output_type": "stream",
     "text": [
      "Parse progress: |█████████████████████████████████████████████████████████| 100%\n",
      "Rows:1795\n",
      "Cols:9\n",
      "\n",
      "\n"
     ]
    },
    {
     "data": {
      "text/html": [
       "<table>\n",
       "<thead>\n",
       "<tr><th>       </th><th>Maker   </th><th>Origin        </th><th>REF               </th><th>Review Date      </th><th>Cocoa Percent      </th><th>Maker Location  </th><th>Rating            </th><th>Bean Type  </th><th>Bean Origin  </th></tr>\n",
       "</thead>\n",
       "<tbody>\n",
       "<tr><td>type   </td><td>enum    </td><td>enum          </td><td>int               </td><td>int              </td><td>real               </td><td>enum            </td><td>real              </td><td>enum       </td><td>enum         </td></tr>\n",
       "<tr><td>mins   </td><td>        </td><td>              </td><td>5.0               </td><td>2006.0           </td><td>0.42               </td><td>                </td><td>1.0               </td><td>           </td><td>             </td></tr>\n",
       "<tr><td>mean   </td><td>        </td><td>              </td><td>1035.9047353760463</td><td>2012.325348189414</td><td>0.7169832869080773 </td><td>                </td><td>3.185933147632313 </td><td>           </td><td>             </td></tr>\n",
       "<tr><td>maxs   </td><td>        </td><td>              </td><td>1952.0            </td><td>2017.0           </td><td>1.0                </td><td>                </td><td>5.0               </td><td>           </td><td>             </td></tr>\n",
       "<tr><td>sigma  </td><td>        </td><td>              </td><td>552.8863650101442 </td><td>2.92721027766861 </td><td>0.06323118338429189</td><td>                </td><td>0.4780623935863306</td><td>           </td><td>             </td></tr>\n",
       "<tr><td>zeros  </td><td>        </td><td>              </td><td>0                 </td><td>0                </td><td>0                  </td><td>                </td><td>0                 </td><td>           </td><td>             </td></tr>\n",
       "<tr><td>missing</td><td>0       </td><td>0             </td><td>0                 </td><td>0                </td><td>0                  </td><td>0               </td><td>0                 </td><td>1          </td><td>1            </td></tr>\n",
       "<tr><td>0      </td><td>A. Morin</td><td>Agua Grande   </td><td>1876.0            </td><td>2016.0           </td><td>0.63               </td><td>France          </td><td>3.75              </td><td>Â          </td><td>Sao Tome     </td></tr>\n",
       "<tr><td>1      </td><td>A. Morin</td><td>Kpime         </td><td>1676.0            </td><td>2015.0           </td><td>0.7000000000000001 </td><td>France          </td><td>2.75              </td><td>Â          </td><td>Togo         </td></tr>\n",
       "<tr><td>2      </td><td>A. Morin</td><td>Atsane        </td><td>1676.0            </td><td>2015.0           </td><td>0.7000000000000001 </td><td>France          </td><td>3.0               </td><td>Â          </td><td>Togo         </td></tr>\n",
       "<tr><td>3      </td><td>A. Morin</td><td>Akata         </td><td>1680.0            </td><td>2015.0           </td><td>0.7000000000000001 </td><td>France          </td><td>3.5               </td><td>Â          </td><td>Togo         </td></tr>\n",
       "<tr><td>4      </td><td>A. Morin</td><td>Quilla        </td><td>1704.0            </td><td>2015.0           </td><td>0.7000000000000001 </td><td>France          </td><td>3.5               </td><td>Â          </td><td>Peru         </td></tr>\n",
       "<tr><td>5      </td><td>A. Morin</td><td>Carenero      </td><td>1315.0            </td><td>2014.0           </td><td>0.7000000000000001 </td><td>France          </td><td>2.75              </td><td>Criollo    </td><td>Venezuela    </td></tr>\n",
       "<tr><td>6      </td><td>A. Morin</td><td>Cuba          </td><td>1315.0            </td><td>2014.0           </td><td>0.7000000000000001 </td><td>France          </td><td>3.5               </td><td>Â          </td><td>Cuba         </td></tr>\n",
       "<tr><td>7      </td><td>A. Morin</td><td>Sur del Lago  </td><td>1315.0            </td><td>2014.0           </td><td>0.7000000000000001 </td><td>France          </td><td>3.5               </td><td>Criollo    </td><td>Venezuela    </td></tr>\n",
       "<tr><td>8      </td><td>A. Morin</td><td>Puerto Cabello</td><td>1319.0            </td><td>2014.0           </td><td>0.7000000000000001 </td><td>France          </td><td>3.75              </td><td>Criollo    </td><td>Venezuela    </td></tr>\n",
       "<tr><td>9      </td><td>A. Morin</td><td>Pablino       </td><td>1319.0            </td><td>2014.0           </td><td>0.7000000000000001 </td><td>France          </td><td>4.0               </td><td>Â          </td><td>Peru         </td></tr>\n",
       "</tbody>\n",
       "</table>"
      ]
     },
     "metadata": {},
     "output_type": "display_data"
    }
   ],
   "source": [
    "df_cacao_882 = h2o.import_file('http://coursera.h2o.ai/cacao.882.csv', destination_frame = \"cacao_882\")\n",
    "#h2o_df.head()\n",
    "#h2o_df.summary()\n",
    "df_cacao_882.describe()"
   ]
  },
  {
   "cell_type": "code",
   "execution_count": 17,
   "metadata": {},
   "outputs": [
    {
     "data": {
      "text/html": [
       "<div>\n",
       "<style scoped>\n",
       "    .dataframe tbody tr th:only-of-type {\n",
       "        vertical-align: middle;\n",
       "    }\n",
       "\n",
       "    .dataframe tbody tr th {\n",
       "        vertical-align: top;\n",
       "    }\n",
       "\n",
       "    .dataframe thead th {\n",
       "        text-align: right;\n",
       "    }\n",
       "</style>\n",
       "<table border=\"1\" class=\"dataframe\">\n",
       "  <thead>\n",
       "    <tr style=\"text-align: right;\">\n",
       "      <th></th>\n",
       "      <th>Maker Location</th>\n",
       "      <th>nrow</th>\n",
       "    </tr>\n",
       "  </thead>\n",
       "  <tbody>\n",
       "    <tr>\n",
       "      <th>56</th>\n",
       "      <td>U.S.A.</td>\n",
       "      <td>764</td>\n",
       "    </tr>\n",
       "    <tr>\n",
       "      <th>18</th>\n",
       "      <td>France</td>\n",
       "      <td>156</td>\n",
       "    </tr>\n",
       "    <tr>\n",
       "      <th>7</th>\n",
       "      <td>Canada</td>\n",
       "      <td>125</td>\n",
       "    </tr>\n",
       "    <tr>\n",
       "      <th>55</th>\n",
       "      <td>U.K.</td>\n",
       "      <td>96</td>\n",
       "    </tr>\n",
       "    <tr>\n",
       "      <th>29</th>\n",
       "      <td>Italy</td>\n",
       "      <td>63</td>\n",
       "    </tr>\n",
       "    <tr>\n",
       "      <th>14</th>\n",
       "      <td>Ecuador</td>\n",
       "      <td>54</td>\n",
       "    </tr>\n",
       "    <tr>\n",
       "      <th>2</th>\n",
       "      <td>Australia</td>\n",
       "      <td>49</td>\n",
       "    </tr>\n",
       "    <tr>\n",
       "      <th>4</th>\n",
       "      <td>Belgium</td>\n",
       "      <td>40</td>\n",
       "    </tr>\n",
       "    <tr>\n",
       "      <th>54</th>\n",
       "      <td>Switzerland</td>\n",
       "      <td>38</td>\n",
       "    </tr>\n",
       "    <tr>\n",
       "      <th>19</th>\n",
       "      <td>Germany</td>\n",
       "      <td>35</td>\n",
       "    </tr>\n",
       "    <tr>\n",
       "      <th>3</th>\n",
       "      <td>Austria</td>\n",
       "      <td>26</td>\n",
       "    </tr>\n",
       "    <tr>\n",
       "      <th>50</th>\n",
       "      <td>Spain</td>\n",
       "      <td>25</td>\n",
       "    </tr>\n",
       "    <tr>\n",
       "      <th>9</th>\n",
       "      <td>Colombia</td>\n",
       "      <td>23</td>\n",
       "    </tr>\n",
       "    <tr>\n",
       "      <th>24</th>\n",
       "      <td>Hungary</td>\n",
       "      <td>22</td>\n",
       "    </tr>\n",
       "    <tr>\n",
       "      <th>57</th>\n",
       "      <td>Venezuela</td>\n",
       "      <td>20</td>\n",
       "    </tr>\n",
       "    <tr>\n",
       "      <th>36</th>\n",
       "      <td>New Zealand</td>\n",
       "      <td>17</td>\n",
       "    </tr>\n",
       "    <tr>\n",
       "      <th>32</th>\n",
       "      <td>Madagascar</td>\n",
       "      <td>17</td>\n",
       "    </tr>\n",
       "    <tr>\n",
       "      <th>39</th>\n",
       "      <td>Peru</td>\n",
       "      <td>17</td>\n",
       "    </tr>\n",
       "    <tr>\n",
       "      <th>30</th>\n",
       "      <td>Japan</td>\n",
       "      <td>17</td>\n",
       "    </tr>\n",
       "    <tr>\n",
       "      <th>6</th>\n",
       "      <td>Brazil</td>\n",
       "      <td>17</td>\n",
       "    </tr>\n",
       "    <tr>\n",
       "      <th>12</th>\n",
       "      <td>Denmark</td>\n",
       "      <td>15</td>\n",
       "    </tr>\n",
       "    <tr>\n",
       "      <th>58</th>\n",
       "      <td>Vietnam</td>\n",
       "      <td>11</td>\n",
       "    </tr>\n",
       "    <tr>\n",
       "      <th>22</th>\n",
       "      <td>Guatemala</td>\n",
       "      <td>10</td>\n",
       "    </tr>\n",
       "    <tr>\n",
       "      <th>46</th>\n",
       "      <td>Scotland</td>\n",
       "      <td>10</td>\n",
       "    </tr>\n",
       "    <tr>\n",
       "      <th>28</th>\n",
       "      <td>Israel</td>\n",
       "      <td>9</td>\n",
       "    </tr>\n",
       "    <tr>\n",
       "      <th>10</th>\n",
       "      <td>Costa Rica</td>\n",
       "      <td>9</td>\n",
       "    </tr>\n",
       "    <tr>\n",
       "      <th>1</th>\n",
       "      <td>Argentina</td>\n",
       "      <td>9</td>\n",
       "    </tr>\n",
       "    <tr>\n",
       "      <th>41</th>\n",
       "      <td>Poland</td>\n",
       "      <td>8</td>\n",
       "    </tr>\n",
       "    <tr>\n",
       "      <th>31</th>\n",
       "      <td>Lithuania</td>\n",
       "      <td>6</td>\n",
       "    </tr>\n",
       "    <tr>\n",
       "      <th>23</th>\n",
       "      <td>Honduras</td>\n",
       "      <td>6</td>\n",
       "    </tr>\n",
       "    <tr>\n",
       "      <th>53</th>\n",
       "      <td>Sweden</td>\n",
       "      <td>5</td>\n",
       "    </tr>\n",
       "    <tr>\n",
       "      <th>38</th>\n",
       "      <td>Nicaragua</td>\n",
       "      <td>5</td>\n",
       "    </tr>\n",
       "    <tr>\n",
       "      <th>13</th>\n",
       "      <td>Domincan Republic</td>\n",
       "      <td>5</td>\n",
       "    </tr>\n",
       "    <tr>\n",
       "      <th>49</th>\n",
       "      <td>South Korea</td>\n",
       "      <td>5</td>\n",
       "    </tr>\n",
       "    <tr>\n",
       "      <th>45</th>\n",
       "      <td>Sao Tome</td>\n",
       "      <td>4</td>\n",
       "    </tr>\n",
       "    <tr>\n",
       "      <th>43</th>\n",
       "      <td>Puerto Rico</td>\n",
       "      <td>4</td>\n",
       "    </tr>\n",
       "    <tr>\n",
       "      <th>0</th>\n",
       "      <td>Amsterdam</td>\n",
       "      <td>4</td>\n",
       "    </tr>\n",
       "    <tr>\n",
       "      <th>34</th>\n",
       "      <td>Mexico</td>\n",
       "      <td>4</td>\n",
       "    </tr>\n",
       "    <tr>\n",
       "      <th>27</th>\n",
       "      <td>Ireland</td>\n",
       "      <td>4</td>\n",
       "    </tr>\n",
       "    <tr>\n",
       "      <th>35</th>\n",
       "      <td>Netherlands</td>\n",
       "      <td>4</td>\n",
       "    </tr>\n",
       "    <tr>\n",
       "      <th>16</th>\n",
       "      <td>Fiji</td>\n",
       "      <td>4</td>\n",
       "    </tr>\n",
       "    <tr>\n",
       "      <th>48</th>\n",
       "      <td>South Africa</td>\n",
       "      <td>3</td>\n",
       "    </tr>\n",
       "    <tr>\n",
       "      <th>42</th>\n",
       "      <td>Portugal</td>\n",
       "      <td>3</td>\n",
       "    </tr>\n",
       "    <tr>\n",
       "      <th>25</th>\n",
       "      <td>Iceland</td>\n",
       "      <td>3</td>\n",
       "    </tr>\n",
       "    <tr>\n",
       "      <th>47</th>\n",
       "      <td>Singapore</td>\n",
       "      <td>3</td>\n",
       "    </tr>\n",
       "    <tr>\n",
       "      <th>21</th>\n",
       "      <td>Grenada</td>\n",
       "      <td>3</td>\n",
       "    </tr>\n",
       "    <tr>\n",
       "      <th>17</th>\n",
       "      <td>Finland</td>\n",
       "      <td>2</td>\n",
       "    </tr>\n",
       "    <tr>\n",
       "      <th>5</th>\n",
       "      <td>Bolivia</td>\n",
       "      <td>2</td>\n",
       "    </tr>\n",
       "    <tr>\n",
       "      <th>8</th>\n",
       "      <td>Chile</td>\n",
       "      <td>2</td>\n",
       "    </tr>\n",
       "    <tr>\n",
       "      <th>51</th>\n",
       "      <td>St. Lucia</td>\n",
       "      <td>2</td>\n",
       "    </tr>\n",
       "    <tr>\n",
       "      <th>11</th>\n",
       "      <td>Czech Republic</td>\n",
       "      <td>1</td>\n",
       "    </tr>\n",
       "    <tr>\n",
       "      <th>15</th>\n",
       "      <td>Eucador</td>\n",
       "      <td>1</td>\n",
       "    </tr>\n",
       "    <tr>\n",
       "      <th>37</th>\n",
       "      <td>Niacragua</td>\n",
       "      <td>1</td>\n",
       "    </tr>\n",
       "    <tr>\n",
       "      <th>52</th>\n",
       "      <td>Suriname</td>\n",
       "      <td>1</td>\n",
       "    </tr>\n",
       "    <tr>\n",
       "      <th>20</th>\n",
       "      <td>Ghana</td>\n",
       "      <td>1</td>\n",
       "    </tr>\n",
       "    <tr>\n",
       "      <th>26</th>\n",
       "      <td>India</td>\n",
       "      <td>1</td>\n",
       "    </tr>\n",
       "    <tr>\n",
       "      <th>44</th>\n",
       "      <td>Russia</td>\n",
       "      <td>1</td>\n",
       "    </tr>\n",
       "    <tr>\n",
       "      <th>33</th>\n",
       "      <td>Martinique</td>\n",
       "      <td>1</td>\n",
       "    </tr>\n",
       "    <tr>\n",
       "      <th>40</th>\n",
       "      <td>Philippines</td>\n",
       "      <td>1</td>\n",
       "    </tr>\n",
       "    <tr>\n",
       "      <th>59</th>\n",
       "      <td>Wales</td>\n",
       "      <td>1</td>\n",
       "    </tr>\n",
       "  </tbody>\n",
       "</table>\n",
       "</div>"
      ],
      "text/plain": [
       "       Maker Location  nrow\n",
       "56             U.S.A.   764\n",
       "18             France   156\n",
       "7              Canada   125\n",
       "55               U.K.    96\n",
       "29              Italy    63\n",
       "14            Ecuador    54\n",
       "2           Australia    49\n",
       "4             Belgium    40\n",
       "54        Switzerland    38\n",
       "19            Germany    35\n",
       "3             Austria    26\n",
       "50              Spain    25\n",
       "9            Colombia    23\n",
       "24            Hungary    22\n",
       "57          Venezuela    20\n",
       "36        New Zealand    17\n",
       "32         Madagascar    17\n",
       "39               Peru    17\n",
       "30              Japan    17\n",
       "6              Brazil    17\n",
       "12            Denmark    15\n",
       "58            Vietnam    11\n",
       "22          Guatemala    10\n",
       "46           Scotland    10\n",
       "28             Israel     9\n",
       "10         Costa Rica     9\n",
       "1           Argentina     9\n",
       "41             Poland     8\n",
       "31          Lithuania     6\n",
       "23           Honduras     6\n",
       "53             Sweden     5\n",
       "38          Nicaragua     5\n",
       "13  Domincan Republic     5\n",
       "49        South Korea     5\n",
       "45           Sao Tome     4\n",
       "43        Puerto Rico     4\n",
       "0           Amsterdam     4\n",
       "34             Mexico     4\n",
       "27            Ireland     4\n",
       "35        Netherlands     4\n",
       "16               Fiji     4\n",
       "48       South Africa     3\n",
       "42           Portugal     3\n",
       "25            Iceland     3\n",
       "47          Singapore     3\n",
       "21            Grenada     3\n",
       "17            Finland     2\n",
       "5             Bolivia     2\n",
       "8               Chile     2\n",
       "51          St. Lucia     2\n",
       "11     Czech Republic     1\n",
       "15            Eucador     1\n",
       "37          Niacragua     1\n",
       "52           Suriname     1\n",
       "20              Ghana     1\n",
       "26              India     1\n",
       "44             Russia     1\n",
       "33         Martinique     1\n",
       "40        Philippines     1\n",
       "59              Wales     1"
      ]
     },
     "execution_count": 17,
     "metadata": {},
     "output_type": "execute_result"
    }
   ],
   "source": [
    "loc_table = df_cacao_882['Maker Location'].group_by(by=['Maker Location']).count() \\\n",
    "                              .get_frame().as_data_frame().sort_values(by=['nrow'], ascending=False)\n",
    "loc_table"
   ]
  },
  {
   "cell_type": "markdown",
   "metadata": {},
   "source": [
    "As can be seen from the above table, some of the locations have too few records, which will result in poor accuracy of the model to be learnt on after splitting the dataset into train, validation and test datasets. Let's get rid of the locations that have small number of (< 40) examples in the dataset, to make the results more easily comprehendable, by reducing number of categories in the output variable."
   ]
  },
  {
   "cell_type": "code",
   "execution_count": 25,
   "metadata": {},
   "outputs": [
    {
     "name": "stdout",
     "output_type": "stream",
     "text": [
      "['U.S.A.', 'France', 'Canada', 'U.K.', 'Italy', 'Ecuador', 'Australia', 'Belgium']\n"
     ]
    },
    {
     "data": {
      "text/html": [
       "<table>\n",
       "<thead>\n",
       "<tr><th>Maker   </th><th>Origin        </th><th style=\"text-align: right;\">  REF</th><th style=\"text-align: right;\">  Review Date</th><th style=\"text-align: right;\">  Cocoa Percent</th><th>Maker Location  </th><th style=\"text-align: right;\">  Rating</th><th>Bean Type  </th><th>Bean Origin  </th></tr>\n",
       "</thead>\n",
       "<tbody>\n",
       "<tr><td>A. Morin</td><td>Agua Grande   </td><td style=\"text-align: right;\"> 1876</td><td style=\"text-align: right;\">         2016</td><td style=\"text-align: right;\">           0.63</td><td>France          </td><td style=\"text-align: right;\">    3.75</td><td>Â          </td><td>Sao Tome     </td></tr>\n",
       "<tr><td>A. Morin</td><td>Kpime         </td><td style=\"text-align: right;\"> 1676</td><td style=\"text-align: right;\">         2015</td><td style=\"text-align: right;\">           0.7 </td><td>France          </td><td style=\"text-align: right;\">    2.75</td><td>Â          </td><td>Togo         </td></tr>\n",
       "<tr><td>A. Morin</td><td>Atsane        </td><td style=\"text-align: right;\"> 1676</td><td style=\"text-align: right;\">         2015</td><td style=\"text-align: right;\">           0.7 </td><td>France          </td><td style=\"text-align: right;\">    3   </td><td>Â          </td><td>Togo         </td></tr>\n",
       "<tr><td>A. Morin</td><td>Akata         </td><td style=\"text-align: right;\"> 1680</td><td style=\"text-align: right;\">         2015</td><td style=\"text-align: right;\">           0.7 </td><td>France          </td><td style=\"text-align: right;\">    3.5 </td><td>Â          </td><td>Togo         </td></tr>\n",
       "<tr><td>A. Morin</td><td>Quilla        </td><td style=\"text-align: right;\"> 1704</td><td style=\"text-align: right;\">         2015</td><td style=\"text-align: right;\">           0.7 </td><td>France          </td><td style=\"text-align: right;\">    3.5 </td><td>Â          </td><td>Peru         </td></tr>\n",
       "<tr><td>A. Morin</td><td>Carenero      </td><td style=\"text-align: right;\"> 1315</td><td style=\"text-align: right;\">         2014</td><td style=\"text-align: right;\">           0.7 </td><td>France          </td><td style=\"text-align: right;\">    2.75</td><td>Criollo    </td><td>Venezuela    </td></tr>\n",
       "<tr><td>A. Morin</td><td>Cuba          </td><td style=\"text-align: right;\"> 1315</td><td style=\"text-align: right;\">         2014</td><td style=\"text-align: right;\">           0.7 </td><td>France          </td><td style=\"text-align: right;\">    3.5 </td><td>Â          </td><td>Cuba         </td></tr>\n",
       "<tr><td>A. Morin</td><td>Sur del Lago  </td><td style=\"text-align: right;\"> 1315</td><td style=\"text-align: right;\">         2014</td><td style=\"text-align: right;\">           0.7 </td><td>France          </td><td style=\"text-align: right;\">    3.5 </td><td>Criollo    </td><td>Venezuela    </td></tr>\n",
       "<tr><td>A. Morin</td><td>Puerto Cabello</td><td style=\"text-align: right;\"> 1319</td><td style=\"text-align: right;\">         2014</td><td style=\"text-align: right;\">           0.7 </td><td>France          </td><td style=\"text-align: right;\">    3.75</td><td>Criollo    </td><td>Venezuela    </td></tr>\n",
       "<tr><td>A. Morin</td><td>Pablino       </td><td style=\"text-align: right;\"> 1319</td><td style=\"text-align: right;\">         2014</td><td style=\"text-align: right;\">           0.7 </td><td>France          </td><td style=\"text-align: right;\">    4   </td><td>Â          </td><td>Peru         </td></tr>\n",
       "</tbody>\n",
       "</table>"
      ]
     },
     "metadata": {},
     "output_type": "display_data"
    },
    {
     "data": {
      "text/plain": []
     },
     "execution_count": 25,
     "metadata": {},
     "output_type": "execute_result"
    }
   ],
   "source": [
    "## filter out the countries for which there is < 40 examples present in the dataset\n",
    "loc_gt_40_recs = loc_table[loc_table.nrow >= 40]['Maker Location'].tolist()\n",
    "print(loc_gt_40_recs)\n",
    "df_cacao_882_sub = df_cacao_882[df_cacao_882['Maker Location'].isin(loc_gt_40_recs),:]\n",
    "df_cacao_882_sub.head()"
   ]
  },
  {
   "cell_type": "code",
   "execution_count": 26,
   "metadata": {},
   "outputs": [
    {
     "data": {
      "text/html": [
       "<table>\n",
       "<thead>\n",
       "<tr><th>Maker Location  </th><th style=\"text-align: right;\">  Count</th></tr>\n",
       "</thead>\n",
       "<tbody>\n",
       "<tr><td>Australia       </td><td style=\"text-align: right;\">     49</td></tr>\n",
       "<tr><td>Belgium         </td><td style=\"text-align: right;\">     40</td></tr>\n",
       "<tr><td>Canada          </td><td style=\"text-align: right;\">    125</td></tr>\n",
       "<tr><td>Ecuador         </td><td style=\"text-align: right;\">     54</td></tr>\n",
       "<tr><td>France          </td><td style=\"text-align: right;\">    156</td></tr>\n",
       "<tr><td>Italy           </td><td style=\"text-align: right;\">     63</td></tr>\n",
       "<tr><td>U.K.            </td><td style=\"text-align: right;\">     96</td></tr>\n",
       "<tr><td>U.S.A.          </td><td style=\"text-align: right;\">    764</td></tr>\n",
       "</tbody>\n",
       "</table>"
      ]
     },
     "metadata": {},
     "output_type": "display_data"
    },
    {
     "data": {
      "text/plain": []
     },
     "execution_count": 26,
     "metadata": {},
     "output_type": "execute_result"
    }
   ],
   "source": [
    "df_cacao_882_sub['Maker Location'].table()"
   ]
  },
  {
   "cell_type": "code",
   "execution_count": 27,
   "id": "17fc437b",
   "metadata": {},
   "outputs": [],
   "source": [
    "train, valid, test = df_cacao_882_sub.split_frame(ratios = [0.8, 0.1], \n",
    "                                              destination_frames = ['train', 'valid', 'test'], \n",
    "                                              seed = 321)"
   ]
  },
  {
   "cell_type": "code",
   "execution_count": 28,
   "metadata": {},
   "outputs": [
    {
     "name": "stdout",
     "output_type": "stream",
     "text": [
      "1082/138/127\n"
     ]
    }
   ],
   "source": [
    "print(\"%d/%d/%d\" %(train.nrows, valid.nrows, test.nrows))"
   ]
  },
  {
   "cell_type": "markdown",
   "metadata": {},
   "source": [
    "## Step 2"
   ]
  },
  {
   "cell_type": "code",
   "execution_count": 29,
   "metadata": {},
   "outputs": [],
   "source": [
    "## Step two is to set x to be the list of columns you will use to train on, to be the column you will learn. Your choice of \n",
    "## y decides if it will be a classification or a regression."
   ]
  },
  {
   "cell_type": "code",
   "execution_count": 34,
   "metadata": {},
   "outputs": [],
   "source": [
    "ignore_fields = ['Review Date', 'Bean Type', 'Maker Location']"
   ]
  },
  {
   "cell_type": "code",
   "execution_count": 36,
   "metadata": {},
   "outputs": [],
   "source": [
    "# Specify the response and predictor columns\n",
    "y = 'Maker Location' # multinomial Classification\n",
    "x = [i for i in train.names if not i in ignore_fields]"
   ]
  },
  {
   "cell_type": "markdown",
   "metadata": {},
   "source": [
    "## Step 3"
   ]
  },
  {
   "cell_type": "code",
   "execution_count": 37,
   "metadata": {},
   "outputs": [],
   "source": [
    "## Step three is to create a baseline deep learning model. It is recommended to use all default settings (remembering to \n",
    "## specify either nfolds or validation_frame); if you want to use different settings you should include a comment in your \n",
    "## source file justifying this. Allowable reasons are that the default settings were taking too long on your hardware, or \n",
    "## that they were over-fitting. Your script must include timing code."
   ]
  },
  {
   "cell_type": "code",
   "execution_count": 38,
   "metadata": {},
   "outputs": [
    {
     "name": "stdout",
     "output_type": "stream",
     "text": [
      "deeplearning Model Build progress: |██████████████████████████████████████| 100%\n",
      "Wall time: 8.66 s\n"
     ]
    }
   ],
   "source": [
    "from h2o.estimators.deeplearning import H2ODeepLearningEstimator\n",
    "\n",
    "model = H2ODeepLearningEstimator() \n",
    "\n",
    "%time model.train(x = x, y = y, training_frame = train, validation_frame = valid)"
   ]
  },
  {
   "cell_type": "code",
   "execution_count": 39,
   "metadata": {},
   "outputs": [
    {
     "data": {
      "text/plain": [
       "0.009105734513543521"
      ]
     },
     "execution_count": 39,
     "metadata": {},
     "output_type": "execute_result"
    }
   ],
   "source": [
    "model.model_performance(train).mean_per_class_error()"
   ]
  },
  {
   "cell_type": "code",
   "execution_count": 40,
   "metadata": {},
   "outputs": [
    {
     "data": {
      "text/plain": [
       "0.0370347308703473"
      ]
     },
     "execution_count": 40,
     "metadata": {},
     "output_type": "execute_result"
    }
   ],
   "source": [
    "model.model_performance(valid).mean_per_class_error()"
   ]
  },
  {
   "cell_type": "code",
   "execution_count": 41,
   "metadata": {},
   "outputs": [],
   "source": [
    "perf_test = model.model_performance(test)"
   ]
  },
  {
   "cell_type": "code",
   "execution_count": 42,
   "metadata": {},
   "outputs": [
    {
     "name": "stdout",
     "output_type": "stream",
     "text": [
      "Mean class error 0.039057859198704276\n",
      "log loss 0.6562691090589137\n",
      "MSE 0.1970419316539613\n",
      "RMSE 0.4438940545377481\n"
     ]
    }
   ],
   "source": [
    "print('Mean class error', perf_test.mean_per_class_error())\n",
    "print('log loss', perf_test.logloss())\n",
    "print('MSE', perf_test.mse())\n",
    "print('RMSE', perf_test.rmse())"
   ]
  },
  {
   "cell_type": "code",
   "execution_count": 43,
   "metadata": {},
   "outputs": [
    {
     "name": "stdout",
     "output_type": "stream",
     "text": [
      "Top-10 Hit Ratios: \n"
     ]
    },
    {
     "data": {
      "text/html": [
       "<div style=\"overflow:auto\"><table style=\"width:50%\"><tr><td><b>k</b></td>\n",
       "<td><b>hit_ratio</b></td></tr>\n",
       "<tr><td>1</td>\n",
       "<td>0.7559055</td></tr>\n",
       "<tr><td>2</td>\n",
       "<td>0.9527559</td></tr>\n",
       "<tr><td>3</td>\n",
       "<td>0.9763780</td></tr>\n",
       "<tr><td>4</td>\n",
       "<td>0.984252</td></tr>\n",
       "<tr><td>5</td>\n",
       "<td>0.984252</td></tr>\n",
       "<tr><td>6</td>\n",
       "<td>0.992126</td></tr>\n",
       "<tr><td>7</td>\n",
       "<td>1.0</td></tr>\n",
       "<tr><td>8</td>\n",
       "<td>1.0</td></tr>\n",
       "<tr><td>9</td>\n",
       "<td>1.0</td></tr>\n",
       "<tr><td>10</td>\n",
       "<td>1.0</td></tr></table></div>"
      ],
      "text/plain": [
       "k    hit_ratio\n",
       "---  -----------\n",
       "1    0.755906\n",
       "2    0.952756\n",
       "3    0.976378\n",
       "4    0.984252\n",
       "5    0.984252\n",
       "6    0.992126\n",
       "7    1\n",
       "8    1\n",
       "9    1\n",
       "10   1"
      ]
     },
     "metadata": {},
     "output_type": "display_data"
    },
    {
     "data": {
      "text/plain": []
     },
     "execution_count": 43,
     "metadata": {},
     "output_type": "execute_result"
    }
   ],
   "source": [
    "perf_test.hit_ratio_table()"
   ]
  },
  {
   "cell_type": "code",
   "execution_count": 44,
   "metadata": {},
   "outputs": [
    {
     "data": {
      "text/html": [
       "<div>\n",
       "<style scoped>\n",
       "    .dataframe tbody tr th:only-of-type {\n",
       "        vertical-align: middle;\n",
       "    }\n",
       "\n",
       "    .dataframe tbody tr th {\n",
       "        vertical-align: top;\n",
       "    }\n",
       "\n",
       "    .dataframe thead th {\n",
       "        text-align: right;\n",
       "    }\n",
       "</style>\n",
       "<table border=\"1\" class=\"dataframe\">\n",
       "  <thead>\n",
       "    <tr style=\"text-align: right;\">\n",
       "      <th></th>\n",
       "      <th>Amsterdam</th>\n",
       "      <th>Argentina</th>\n",
       "      <th>Australia</th>\n",
       "      <th>Austria</th>\n",
       "      <th>Belgium</th>\n",
       "      <th>Bolivia</th>\n",
       "      <th>Brazil</th>\n",
       "      <th>Canada</th>\n",
       "      <th>Chile</th>\n",
       "      <th>Colombia</th>\n",
       "      <th>...</th>\n",
       "      <th>Suriname</th>\n",
       "      <th>Sweden</th>\n",
       "      <th>Switzerland</th>\n",
       "      <th>U.K.</th>\n",
       "      <th>U.S.A.</th>\n",
       "      <th>Venezuela</th>\n",
       "      <th>Vietnam</th>\n",
       "      <th>Wales</th>\n",
       "      <th>Error</th>\n",
       "      <th>Rate</th>\n",
       "    </tr>\n",
       "  </thead>\n",
       "  <tbody>\n",
       "    <tr>\n",
       "      <th>0</th>\n",
       "      <td>0.0</td>\n",
       "      <td>0.0</td>\n",
       "      <td>0.0</td>\n",
       "      <td>0.0</td>\n",
       "      <td>0.0</td>\n",
       "      <td>0.0</td>\n",
       "      <td>0.0</td>\n",
       "      <td>0.0</td>\n",
       "      <td>0.0</td>\n",
       "      <td>0.0</td>\n",
       "      <td>...</td>\n",
       "      <td>0.0</td>\n",
       "      <td>0.0</td>\n",
       "      <td>0.0</td>\n",
       "      <td>0.0</td>\n",
       "      <td>0.0</td>\n",
       "      <td>0.0</td>\n",
       "      <td>0.0</td>\n",
       "      <td>0.0</td>\n",
       "      <td>NaN</td>\n",
       "      <td>0 / 0</td>\n",
       "    </tr>\n",
       "    <tr>\n",
       "      <th>1</th>\n",
       "      <td>0.0</td>\n",
       "      <td>0.0</td>\n",
       "      <td>0.0</td>\n",
       "      <td>0.0</td>\n",
       "      <td>0.0</td>\n",
       "      <td>0.0</td>\n",
       "      <td>0.0</td>\n",
       "      <td>0.0</td>\n",
       "      <td>0.0</td>\n",
       "      <td>0.0</td>\n",
       "      <td>...</td>\n",
       "      <td>0.0</td>\n",
       "      <td>0.0</td>\n",
       "      <td>0.0</td>\n",
       "      <td>0.0</td>\n",
       "      <td>0.0</td>\n",
       "      <td>0.0</td>\n",
       "      <td>0.0</td>\n",
       "      <td>0.0</td>\n",
       "      <td>NaN</td>\n",
       "      <td>0 / 0</td>\n",
       "    </tr>\n",
       "    <tr>\n",
       "      <th>2</th>\n",
       "      <td>0.0</td>\n",
       "      <td>0.0</td>\n",
       "      <td>4.0</td>\n",
       "      <td>0.0</td>\n",
       "      <td>0.0</td>\n",
       "      <td>0.0</td>\n",
       "      <td>0.0</td>\n",
       "      <td>0.0</td>\n",
       "      <td>0.0</td>\n",
       "      <td>0.0</td>\n",
       "      <td>...</td>\n",
       "      <td>0.0</td>\n",
       "      <td>0.0</td>\n",
       "      <td>0.0</td>\n",
       "      <td>0.0</td>\n",
       "      <td>0.0</td>\n",
       "      <td>0.0</td>\n",
       "      <td>0.0</td>\n",
       "      <td>0.0</td>\n",
       "      <td>0.200000</td>\n",
       "      <td>1 / 5</td>\n",
       "    </tr>\n",
       "    <tr>\n",
       "      <th>3</th>\n",
       "      <td>0.0</td>\n",
       "      <td>0.0</td>\n",
       "      <td>0.0</td>\n",
       "      <td>0.0</td>\n",
       "      <td>0.0</td>\n",
       "      <td>0.0</td>\n",
       "      <td>0.0</td>\n",
       "      <td>0.0</td>\n",
       "      <td>0.0</td>\n",
       "      <td>0.0</td>\n",
       "      <td>...</td>\n",
       "      <td>0.0</td>\n",
       "      <td>0.0</td>\n",
       "      <td>0.0</td>\n",
       "      <td>0.0</td>\n",
       "      <td>0.0</td>\n",
       "      <td>0.0</td>\n",
       "      <td>0.0</td>\n",
       "      <td>0.0</td>\n",
       "      <td>NaN</td>\n",
       "      <td>0 / 0</td>\n",
       "    </tr>\n",
       "    <tr>\n",
       "      <th>4</th>\n",
       "      <td>0.0</td>\n",
       "      <td>0.0</td>\n",
       "      <td>0.0</td>\n",
       "      <td>0.0</td>\n",
       "      <td>2.0</td>\n",
       "      <td>0.0</td>\n",
       "      <td>0.0</td>\n",
       "      <td>0.0</td>\n",
       "      <td>0.0</td>\n",
       "      <td>0.0</td>\n",
       "      <td>...</td>\n",
       "      <td>0.0</td>\n",
       "      <td>0.0</td>\n",
       "      <td>0.0</td>\n",
       "      <td>0.0</td>\n",
       "      <td>0.0</td>\n",
       "      <td>0.0</td>\n",
       "      <td>0.0</td>\n",
       "      <td>0.0</td>\n",
       "      <td>0.333333</td>\n",
       "      <td>1 / 3</td>\n",
       "    </tr>\n",
       "    <tr>\n",
       "      <th>...</th>\n",
       "      <td>...</td>\n",
       "      <td>...</td>\n",
       "      <td>...</td>\n",
       "      <td>...</td>\n",
       "      <td>...</td>\n",
       "      <td>...</td>\n",
       "      <td>...</td>\n",
       "      <td>...</td>\n",
       "      <td>...</td>\n",
       "      <td>...</td>\n",
       "      <td>...</td>\n",
       "      <td>...</td>\n",
       "      <td>...</td>\n",
       "      <td>...</td>\n",
       "      <td>...</td>\n",
       "      <td>...</td>\n",
       "      <td>...</td>\n",
       "      <td>...</td>\n",
       "      <td>...</td>\n",
       "      <td>...</td>\n",
       "      <td>...</td>\n",
       "    </tr>\n",
       "    <tr>\n",
       "      <th>56</th>\n",
       "      <td>0.0</td>\n",
       "      <td>0.0</td>\n",
       "      <td>0.0</td>\n",
       "      <td>0.0</td>\n",
       "      <td>0.0</td>\n",
       "      <td>0.0</td>\n",
       "      <td>0.0</td>\n",
       "      <td>0.0</td>\n",
       "      <td>0.0</td>\n",
       "      <td>0.0</td>\n",
       "      <td>...</td>\n",
       "      <td>0.0</td>\n",
       "      <td>0.0</td>\n",
       "      <td>0.0</td>\n",
       "      <td>0.0</td>\n",
       "      <td>58.0</td>\n",
       "      <td>0.0</td>\n",
       "      <td>0.0</td>\n",
       "      <td>0.0</td>\n",
       "      <td>0.183099</td>\n",
       "      <td>13 / 71</td>\n",
       "    </tr>\n",
       "    <tr>\n",
       "      <th>57</th>\n",
       "      <td>0.0</td>\n",
       "      <td>0.0</td>\n",
       "      <td>0.0</td>\n",
       "      <td>0.0</td>\n",
       "      <td>0.0</td>\n",
       "      <td>0.0</td>\n",
       "      <td>0.0</td>\n",
       "      <td>0.0</td>\n",
       "      <td>0.0</td>\n",
       "      <td>0.0</td>\n",
       "      <td>...</td>\n",
       "      <td>0.0</td>\n",
       "      <td>0.0</td>\n",
       "      <td>0.0</td>\n",
       "      <td>0.0</td>\n",
       "      <td>0.0</td>\n",
       "      <td>0.0</td>\n",
       "      <td>0.0</td>\n",
       "      <td>0.0</td>\n",
       "      <td>NaN</td>\n",
       "      <td>0 / 0</td>\n",
       "    </tr>\n",
       "    <tr>\n",
       "      <th>58</th>\n",
       "      <td>0.0</td>\n",
       "      <td>0.0</td>\n",
       "      <td>0.0</td>\n",
       "      <td>0.0</td>\n",
       "      <td>0.0</td>\n",
       "      <td>0.0</td>\n",
       "      <td>0.0</td>\n",
       "      <td>0.0</td>\n",
       "      <td>0.0</td>\n",
       "      <td>0.0</td>\n",
       "      <td>...</td>\n",
       "      <td>0.0</td>\n",
       "      <td>0.0</td>\n",
       "      <td>0.0</td>\n",
       "      <td>0.0</td>\n",
       "      <td>0.0</td>\n",
       "      <td>0.0</td>\n",
       "      <td>0.0</td>\n",
       "      <td>0.0</td>\n",
       "      <td>NaN</td>\n",
       "      <td>0 / 0</td>\n",
       "    </tr>\n",
       "    <tr>\n",
       "      <th>59</th>\n",
       "      <td>0.0</td>\n",
       "      <td>0.0</td>\n",
       "      <td>0.0</td>\n",
       "      <td>0.0</td>\n",
       "      <td>0.0</td>\n",
       "      <td>0.0</td>\n",
       "      <td>0.0</td>\n",
       "      <td>0.0</td>\n",
       "      <td>0.0</td>\n",
       "      <td>0.0</td>\n",
       "      <td>...</td>\n",
       "      <td>0.0</td>\n",
       "      <td>0.0</td>\n",
       "      <td>0.0</td>\n",
       "      <td>0.0</td>\n",
       "      <td>0.0</td>\n",
       "      <td>0.0</td>\n",
       "      <td>0.0</td>\n",
       "      <td>0.0</td>\n",
       "      <td>NaN</td>\n",
       "      <td>0 / 0</td>\n",
       "    </tr>\n",
       "    <tr>\n",
       "      <th>60</th>\n",
       "      <td>0.0</td>\n",
       "      <td>0.0</td>\n",
       "      <td>4.0</td>\n",
       "      <td>0.0</td>\n",
       "      <td>2.0</td>\n",
       "      <td>0.0</td>\n",
       "      <td>0.0</td>\n",
       "      <td>8.0</td>\n",
       "      <td>0.0</td>\n",
       "      <td>0.0</td>\n",
       "      <td>...</td>\n",
       "      <td>0.0</td>\n",
       "      <td>0.0</td>\n",
       "      <td>0.0</td>\n",
       "      <td>5.0</td>\n",
       "      <td>61.0</td>\n",
       "      <td>0.0</td>\n",
       "      <td>0.0</td>\n",
       "      <td>0.0</td>\n",
       "      <td>0.244094</td>\n",
       "      <td>31 / 127</td>\n",
       "    </tr>\n",
       "  </tbody>\n",
       "</table>\n",
       "<p>61 rows × 62 columns</p>\n",
       "</div>"
      ],
      "text/plain": [
       "    Amsterdam  Argentina  Australia  Austria  Belgium  Bolivia  Brazil  \\\n",
       "0         0.0        0.0        0.0      0.0      0.0      0.0     0.0   \n",
       "1         0.0        0.0        0.0      0.0      0.0      0.0     0.0   \n",
       "2         0.0        0.0        4.0      0.0      0.0      0.0     0.0   \n",
       "3         0.0        0.0        0.0      0.0      0.0      0.0     0.0   \n",
       "4         0.0        0.0        0.0      0.0      2.0      0.0     0.0   \n",
       "..        ...        ...        ...      ...      ...      ...     ...   \n",
       "56        0.0        0.0        0.0      0.0      0.0      0.0     0.0   \n",
       "57        0.0        0.0        0.0      0.0      0.0      0.0     0.0   \n",
       "58        0.0        0.0        0.0      0.0      0.0      0.0     0.0   \n",
       "59        0.0        0.0        0.0      0.0      0.0      0.0     0.0   \n",
       "60        0.0        0.0        4.0      0.0      2.0      0.0     0.0   \n",
       "\n",
       "    Canada  Chile  Colombia  ...  Suriname  Sweden  Switzerland  U.K.  U.S.A.  \\\n",
       "0      0.0    0.0       0.0  ...       0.0     0.0          0.0   0.0     0.0   \n",
       "1      0.0    0.0       0.0  ...       0.0     0.0          0.0   0.0     0.0   \n",
       "2      0.0    0.0       0.0  ...       0.0     0.0          0.0   0.0     0.0   \n",
       "3      0.0    0.0       0.0  ...       0.0     0.0          0.0   0.0     0.0   \n",
       "4      0.0    0.0       0.0  ...       0.0     0.0          0.0   0.0     0.0   \n",
       "..     ...    ...       ...  ...       ...     ...          ...   ...     ...   \n",
       "56     0.0    0.0       0.0  ...       0.0     0.0          0.0   0.0    58.0   \n",
       "57     0.0    0.0       0.0  ...       0.0     0.0          0.0   0.0     0.0   \n",
       "58     0.0    0.0       0.0  ...       0.0     0.0          0.0   0.0     0.0   \n",
       "59     0.0    0.0       0.0  ...       0.0     0.0          0.0   0.0     0.0   \n",
       "60     8.0    0.0       0.0  ...       0.0     0.0          0.0   5.0    61.0   \n",
       "\n",
       "    Venezuela  Vietnam  Wales     Error      Rate  \n",
       "0         0.0      0.0    0.0       NaN     0 / 0  \n",
       "1         0.0      0.0    0.0       NaN     0 / 0  \n",
       "2         0.0      0.0    0.0  0.200000     1 / 5  \n",
       "3         0.0      0.0    0.0       NaN     0 / 0  \n",
       "4         0.0      0.0    0.0  0.333333     1 / 3  \n",
       "..        ...      ...    ...       ...       ...  \n",
       "56        0.0      0.0    0.0  0.183099   13 / 71  \n",
       "57        0.0      0.0    0.0       NaN     0 / 0  \n",
       "58        0.0      0.0    0.0       NaN     0 / 0  \n",
       "59        0.0      0.0    0.0       NaN     0 / 0  \n",
       "60        0.0      0.0    0.0  0.244094  31 / 127  \n",
       "\n",
       "[61 rows x 62 columns]"
      ]
     },
     "execution_count": 44,
     "metadata": {},
     "output_type": "execute_result"
    }
   ],
   "source": [
    "perf_test.confusion_matrix().as_data_frame()"
   ]
  },
  {
   "cell_type": "code",
   "execution_count": 271,
   "metadata": {},
   "outputs": [
    {
     "data": {
      "image/png": "[encoded data removed]",
      "text/plain": [
       "<Figure size 432x288 with 1 Axes>"
      ]
     },
     "metadata": {
      "needs_background": "light"
     },
     "output_type": "display_data"
    }
   ],
   "source": [
    "model.plot()"
   ]
  },
  {
   "cell_type": "markdown",
   "metadata": {},
   "source": [
    "## Step 4"
   ]
  },
  {
   "cell_type": "code",
   "execution_count": 62,
   "metadata": {},
   "outputs": [],
   "source": [
    "## Step four is to produce a tuned model, that gives superior performance. However you should use no more than 10 times \n",
    "## the running time of your baseline model, so again your script should be timing the model."
   ]
  },
  {
   "cell_type": "code",
   "execution_count": 296,
   "id": "a2354913",
   "metadata": {},
   "outputs": [
    {
     "name": "stdout",
     "output_type": "stream",
     "text": [
      "deeplearning Model Build progress: |██████████████████████████████████████| 100%\n",
      "Wall time: 23.8 s\n"
     ]
    }
   ],
   "source": [
    "model_tuned = H2ODeepLearningEstimator(epochs=200, \n",
    "                                       distribution=\"multinomial\",\n",
    "                                       activation=\"RectifierWithDropout\",\n",
    "                                       stopping_rounds=5, \n",
    "                                       stopping_tolerance=0, \n",
    "                                       stopping_metric=\"logloss\",\n",
    "                                       input_dropout_ratio=0.2,\n",
    "                                       l1=1e-5,\n",
    "                                       hidden=[200,200,200])\n",
    "%time model_tuned.train(x, y, training_frame = train, validation_frame = valid)"
   ]
  },
  {
   "cell_type": "code",
   "execution_count": 297,
   "metadata": {},
   "outputs": [
    {
     "data": {
      "text/plain": [
       "0.0"
      ]
     },
     "execution_count": 297,
     "metadata": {},
     "output_type": "execute_result"
    }
   ],
   "source": [
    "model_tuned.model_performance(train).mean_per_class_error()"
   ]
  },
  {
   "cell_type": "code",
   "execution_count": 298,
   "metadata": {},
   "outputs": [
    {
     "data": {
      "text/plain": [
       "0.07525252525252525"
      ]
     },
     "execution_count": 298,
     "metadata": {},
     "output_type": "execute_result"
    }
   ],
   "source": [
    "model_tuned.model_performance(valid).mean_per_class_error()"
   ]
  },
  {
   "cell_type": "code",
   "execution_count": 299,
   "metadata": {},
   "outputs": [
    {
     "name": "stdout",
     "output_type": "stream",
     "text": [
      "Mean class error 0.09962121212121211\n",
      "log loss 0.14914048100263927\n",
      "MSE 0.043523282338803496\n",
      "RMSE 0.20862234381485484\n"
     ]
    }
   ],
   "source": [
    "perf_test = model_tuned.model_performance(test)\n",
    "print('Mean class error', perf_test.mean_per_class_error())\n",
    "print('log loss', perf_test.logloss())\n",
    "print('MSE', perf_test.mse())\n",
    "print('RMSE', perf_test.rmse())"
   ]
  },
  {
   "cell_type": "code",
   "execution_count": 300,
   "metadata": {},
   "outputs": [
    {
     "name": "stdout",
     "output_type": "stream",
     "text": [
      "Top-8 Hit Ratios: \n"
     ]
    },
    {
     "data": {
      "text/html": [
       "<div style=\"overflow:auto\"><table style=\"width:50%\"><tr><td><b>k</b></td>\n",
       "<td><b>hit_ratio</b></td></tr>\n",
       "<tr><td>1</td>\n",
       "<td>0.9527559</td></tr>\n",
       "<tr><td>2</td>\n",
       "<td>0.9763780</td></tr>\n",
       "<tr><td>3</td>\n",
       "<td>0.9763780</td></tr>\n",
       "<tr><td>4</td>\n",
       "<td>0.992126</td></tr>\n",
       "<tr><td>5</td>\n",
       "<td>1.0</td></tr>\n",
       "<tr><td>6</td>\n",
       "<td>1.0</td></tr>\n",
       "<tr><td>7</td>\n",
       "<td>1.0</td></tr>\n",
       "<tr><td>8</td>\n",
       "<td>1.0</td></tr></table></div>"
      ],
      "text/plain": [
       "k    hit_ratio\n",
       "---  -----------\n",
       "1    0.952756\n",
       "2    0.976378\n",
       "3    0.976378\n",
       "4    0.992126\n",
       "5    1\n",
       "6    1\n",
       "7    1\n",
       "8    1"
      ]
     },
     "metadata": {},
     "output_type": "display_data"
    },
    {
     "data": {
      "text/plain": []
     },
     "execution_count": 300,
     "metadata": {},
     "output_type": "execute_result"
    }
   ],
   "source": [
    "perf_test.hit_ratio_table()"
   ]
  },
  {
   "cell_type": "code",
   "execution_count": 301,
   "metadata": {},
   "outputs": [
    {
     "data": {
      "text/html": [
       "<div>\n",
       "<style scoped>\n",
       "    .dataframe tbody tr th:only-of-type {\n",
       "        vertical-align: middle;\n",
       "    }\n",
       "\n",
       "    .dataframe tbody tr th {\n",
       "        vertical-align: top;\n",
       "    }\n",
       "\n",
       "    .dataframe thead th {\n",
       "        text-align: right;\n",
       "    }\n",
       "</style>\n",
       "<table border=\"1\" class=\"dataframe\">\n",
       "  <thead>\n",
       "    <tr style=\"text-align: right;\">\n",
       "      <th></th>\n",
       "      <th>Australia</th>\n",
       "      <th>Belgium</th>\n",
       "      <th>Canada</th>\n",
       "      <th>Ecuador</th>\n",
       "      <th>France</th>\n",
       "      <th>Italy</th>\n",
       "      <th>U.K.</th>\n",
       "      <th>U.S.A.</th>\n",
       "      <th>Error</th>\n",
       "      <th>Rate</th>\n",
       "    </tr>\n",
       "  </thead>\n",
       "  <tbody>\n",
       "    <tr>\n",
       "      <th>0</th>\n",
       "      <td>5.0</td>\n",
       "      <td>0.0</td>\n",
       "      <td>0.0</td>\n",
       "      <td>0.0</td>\n",
       "      <td>0.0</td>\n",
       "      <td>0.0</td>\n",
       "      <td>0.0</td>\n",
       "      <td>0.0</td>\n",
       "      <td>0.000000</td>\n",
       "      <td>0 / 5</td>\n",
       "    </tr>\n",
       "    <tr>\n",
       "      <th>1</th>\n",
       "      <td>0.0</td>\n",
       "      <td>3.0</td>\n",
       "      <td>0.0</td>\n",
       "      <td>0.0</td>\n",
       "      <td>0.0</td>\n",
       "      <td>0.0</td>\n",
       "      <td>0.0</td>\n",
       "      <td>0.0</td>\n",
       "      <td>0.000000</td>\n",
       "      <td>0 / 3</td>\n",
       "    </tr>\n",
       "    <tr>\n",
       "      <th>2</th>\n",
       "      <td>0.0</td>\n",
       "      <td>0.0</td>\n",
       "      <td>13.0</td>\n",
       "      <td>0.0</td>\n",
       "      <td>0.0</td>\n",
       "      <td>0.0</td>\n",
       "      <td>0.0</td>\n",
       "      <td>0.0</td>\n",
       "      <td>0.000000</td>\n",
       "      <td>0 / 13</td>\n",
       "    </tr>\n",
       "    <tr>\n",
       "      <th>3</th>\n",
       "      <td>0.0</td>\n",
       "      <td>0.0</td>\n",
       "      <td>0.0</td>\n",
       "      <td>2.0</td>\n",
       "      <td>0.0</td>\n",
       "      <td>0.0</td>\n",
       "      <td>0.0</td>\n",
       "      <td>1.0</td>\n",
       "      <td>0.333333</td>\n",
       "      <td>1 / 3</td>\n",
       "    </tr>\n",
       "    <tr>\n",
       "      <th>4</th>\n",
       "      <td>0.0</td>\n",
       "      <td>0.0</td>\n",
       "      <td>0.0</td>\n",
       "      <td>0.0</td>\n",
       "      <td>10.0</td>\n",
       "      <td>0.0</td>\n",
       "      <td>0.0</td>\n",
       "      <td>1.0</td>\n",
       "      <td>0.090909</td>\n",
       "      <td>1 / 11</td>\n",
       "    </tr>\n",
       "    <tr>\n",
       "      <th>5</th>\n",
       "      <td>0.0</td>\n",
       "      <td>0.0</td>\n",
       "      <td>0.0</td>\n",
       "      <td>0.0</td>\n",
       "      <td>0.0</td>\n",
       "      <td>9.0</td>\n",
       "      <td>0.0</td>\n",
       "      <td>1.0</td>\n",
       "      <td>0.100000</td>\n",
       "      <td>1 / 10</td>\n",
       "    </tr>\n",
       "    <tr>\n",
       "      <th>6</th>\n",
       "      <td>0.0</td>\n",
       "      <td>0.0</td>\n",
       "      <td>0.0</td>\n",
       "      <td>0.0</td>\n",
       "      <td>0.0</td>\n",
       "      <td>0.0</td>\n",
       "      <td>8.0</td>\n",
       "      <td>3.0</td>\n",
       "      <td>0.272727</td>\n",
       "      <td>3 / 11</td>\n",
       "    </tr>\n",
       "    <tr>\n",
       "      <th>7</th>\n",
       "      <td>0.0</td>\n",
       "      <td>0.0</td>\n",
       "      <td>0.0</td>\n",
       "      <td>0.0</td>\n",
       "      <td>0.0</td>\n",
       "      <td>0.0</td>\n",
       "      <td>0.0</td>\n",
       "      <td>71.0</td>\n",
       "      <td>0.000000</td>\n",
       "      <td>0 / 71</td>\n",
       "    </tr>\n",
       "    <tr>\n",
       "      <th>8</th>\n",
       "      <td>5.0</td>\n",
       "      <td>3.0</td>\n",
       "      <td>13.0</td>\n",
       "      <td>2.0</td>\n",
       "      <td>10.0</td>\n",
       "      <td>9.0</td>\n",
       "      <td>8.0</td>\n",
       "      <td>77.0</td>\n",
       "      <td>0.047244</td>\n",
       "      <td>6 / 127</td>\n",
       "    </tr>\n",
       "  </tbody>\n",
       "</table>\n",
       "</div>"
      ],
      "text/plain": [
       "   Australia  Belgium  Canada  Ecuador  France  Italy  U.K.  U.S.A.     Error  \\\n",
       "0        5.0      0.0     0.0      0.0     0.0    0.0   0.0     0.0  0.000000   \n",
       "1        0.0      3.0     0.0      0.0     0.0    0.0   0.0     0.0  0.000000   \n",
       "2        0.0      0.0    13.0      0.0     0.0    0.0   0.0     0.0  0.000000   \n",
       "3        0.0      0.0     0.0      2.0     0.0    0.0   0.0     1.0  0.333333   \n",
       "4        0.0      0.0     0.0      0.0    10.0    0.0   0.0     1.0  0.090909   \n",
       "5        0.0      0.0     0.0      0.0     0.0    9.0   0.0     1.0  0.100000   \n",
       "6        0.0      0.0     0.0      0.0     0.0    0.0   8.0     3.0  0.272727   \n",
       "7        0.0      0.0     0.0      0.0     0.0    0.0   0.0    71.0  0.000000   \n",
       "8        5.0      3.0    13.0      2.0    10.0    9.0   8.0    77.0  0.047244   \n",
       "\n",
       "      Rate  \n",
       "0    0 / 5  \n",
       "1    0 / 3  \n",
       "2   0 / 13  \n",
       "3    1 / 3  \n",
       "4   1 / 11  \n",
       "5   1 / 10  \n",
       "6   3 / 11  \n",
       "7   0 / 71  \n",
       "8  6 / 127  "
      ]
     },
     "execution_count": 301,
     "metadata": {},
     "output_type": "execute_result"
    }
   ],
   "source": [
    "perf_test.confusion_matrix().as_data_frame()"
   ]
  },
  {
   "cell_type": "code",
   "execution_count": 302,
   "metadata": {},
   "outputs": [
    {
     "data": {
      "image/png": "[encoded data removed]",
      "text/plain": [
       "<Figure size 432x288 with 1 Axes>"
      ]
     },
     "metadata": {
      "needs_background": "light"
     },
     "output_type": "display_data"
    }
   ],
   "source": [
    "m_100_epochs.plot()"
   ]
  },
  {
   "cell_type": "markdown",
   "metadata": {},
   "source": [
    "As can be seen from the above plot, the model started to overfit slightly, but early stopping stopped it."
   ]
  },
  {
   "cell_type": "markdown",
   "metadata": {},
   "source": [
    "## Step 5"
   ]
  },
  {
   "cell_type": "code",
   "execution_count": 290,
   "metadata": {},
   "outputs": [],
   "source": [
    "# Step five is to save both your models, to your local disk, and they should be submitted with your script. \n",
    "# Use saveModel() (in R) or save_model() (Python), to export the binary version of the model. (Do not export a POJO.)"
   ]
  },
  {
   "cell_type": "code",
   "execution_count": 307,
   "metadata": {},
   "outputs": [
    {
     "data": {
      "text/plain": [
       "'C:\\\\Users\\\\Sandipan.Dey\\\\Documents\\\\tuned_model\\\\DeepLearning_model_python_1628664387786_42'"
      ]
     },
     "execution_count": 307,
     "metadata": {},
     "output_type": "execute_result"
    }
   ],
   "source": [
    "h2o.save_model(model, 'base_model')\n",
    "h2o.save_model(model_tuned, 'tuned_model')"
   ]
  },
  {
   "cell_type": "code",
   "execution_count": null,
   "metadata": {},
   "outputs": [],
   "source": []
  }
 ],
 "metadata": {
  "kernelspec": {
   "display_name": "Python 3",
   "language": "python",
   "name": "python3"
  },
  "language_info": {
   "codemirror_mode": {
    "name": "ipython",
    "version": 3
   },
   "file_extension": ".py",
   "mimetype": "text/x-python",
   "name": "python",
   "nbconvert_exporter": "python",
   "pygments_lexer": "ipython3",
   "version": "3.7.6"
  }
 },
 "nbformat": 4,
 "nbformat_minor": 5
}
