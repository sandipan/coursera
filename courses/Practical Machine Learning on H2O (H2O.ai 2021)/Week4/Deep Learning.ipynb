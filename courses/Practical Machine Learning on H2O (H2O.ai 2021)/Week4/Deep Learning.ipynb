{
 "cells": [
  {
   "cell_type": "markdown",
   "metadata": {},
   "source": [
    "# Predict Chocolate Makers Location with Deep Learning Model with H2O"
   ]
  },
  {
   "cell_type": "markdown",
   "metadata": {},
   "source": [
    "## Project Choice #2\n",
    "\n",
    "http://coursera.h2o.ai/cacao.882.csv\n",
    "\n",
    "This is a classification problem. You have to predict \"Maker Location\" (notice the space). In other words, using the rating, and the other fields, how accurately can you identify if it is Belgian chocolate, French chocolate, and so on.\n",
    "\n",
    "You should split the data into train, valid and test. Use a seed (of your choice) to make your experiments more reproducible. Alternatively, you can split into just train and test, and then use cross-validation."
   ]
  },
  {
   "cell_type": "markdown",
   "metadata": {},
   "source": [
    "## Step 1"
   ]
  },
  {
   "cell_type": "code",
   "execution_count": 1,
   "metadata": {},
   "outputs": [],
   "source": [
    "## Step one is to start h2o, load your data set, and split it if necessary. By the end of this stage you should have \n",
    "## three variables, pointing to three data frames on h2o: train, valid, test. However, if you are choosing to use \n",
    "## cross-validation, you will only have two: train and test."
   ]
  },
  {
   "cell_type": "code",
   "execution_count": 2,
   "metadata": {},
   "outputs": [],
   "source": [
    "import h2o\n",
    "import pandas as pd\n",
    "import numpy as np\n",
    "import matplotlib.pyplot as plt"
   ]
  },
  {
   "cell_type": "code",
   "execution_count": 3,
   "metadata": {},
   "outputs": [
    {
     "name": "stdout",
     "output_type": "stream",
     "text": [
      "(1795, 9)\n"
     ]
    },
    {
     "data": {
      "text/html": [
       "<div>\n",
       "<style scoped>\n",
       "    .dataframe tbody tr th:only-of-type {\n",
       "        vertical-align: middle;\n",
       "    }\n",
       "\n",
       "    .dataframe tbody tr th {\n",
       "        vertical-align: top;\n",
       "    }\n",
       "\n",
       "    .dataframe thead th {\n",
       "        text-align: right;\n",
       "    }\n",
       "</style>\n",
       "<table border=\"1\" class=\"dataframe\">\n",
       "  <thead>\n",
       "    <tr style=\"text-align: right;\">\n",
       "      <th></th>\n",
       "      <th>Maker</th>\n",
       "      <th>Origin</th>\n",
       "      <th>REF</th>\n",
       "      <th>Review Date</th>\n",
       "      <th>Cocoa Percent</th>\n",
       "      <th>Maker Location</th>\n",
       "      <th>Rating</th>\n",
       "      <th>Bean Type</th>\n",
       "      <th>Bean Origin</th>\n",
       "    </tr>\n",
       "  </thead>\n",
       "  <tbody>\n",
       "    <tr>\n",
       "      <th>0</th>\n",
       "      <td>A. Morin</td>\n",
       "      <td>Agua Grande</td>\n",
       "      <td>1876</td>\n",
       "      <td>2016</td>\n",
       "      <td>63%</td>\n",
       "      <td>France</td>\n",
       "      <td>3.75</td>\n",
       "      <td></td>\n",
       "      <td>Sao Tome</td>\n",
       "    </tr>\n",
       "    <tr>\n",
       "      <th>1</th>\n",
       "      <td>A. Morin</td>\n",
       "      <td>Kpime</td>\n",
       "      <td>1676</td>\n",
       "      <td>2015</td>\n",
       "      <td>70%</td>\n",
       "      <td>France</td>\n",
       "      <td>2.75</td>\n",
       "      <td></td>\n",
       "      <td>Togo</td>\n",
       "    </tr>\n",
       "    <tr>\n",
       "      <th>2</th>\n",
       "      <td>A. Morin</td>\n",
       "      <td>Atsane</td>\n",
       "      <td>1676</td>\n",
       "      <td>2015</td>\n",
       "      <td>70%</td>\n",
       "      <td>France</td>\n",
       "      <td>3.00</td>\n",
       "      <td></td>\n",
       "      <td>Togo</td>\n",
       "    </tr>\n",
       "    <tr>\n",
       "      <th>3</th>\n",
       "      <td>A. Morin</td>\n",
       "      <td>Akata</td>\n",
       "      <td>1680</td>\n",
       "      <td>2015</td>\n",
       "      <td>70%</td>\n",
       "      <td>France</td>\n",
       "      <td>3.50</td>\n",
       "      <td></td>\n",
       "      <td>Togo</td>\n",
       "    </tr>\n",
       "    <tr>\n",
       "      <th>4</th>\n",
       "      <td>A. Morin</td>\n",
       "      <td>Quilla</td>\n",
       "      <td>1704</td>\n",
       "      <td>2015</td>\n",
       "      <td>70%</td>\n",
       "      <td>France</td>\n",
       "      <td>3.50</td>\n",
       "      <td></td>\n",
       "      <td>Peru</td>\n",
       "    </tr>\n",
       "  </tbody>\n",
       "</table>\n",
       "</div>"
      ],
      "text/plain": [
       "      Maker       Origin   REF  Review Date Cocoa Percent Maker Location  \\\n",
       "0  A. Morin  Agua Grande  1876         2016           63%         France   \n",
       "1  A. Morin        Kpime  1676         2015           70%         France   \n",
       "2  A. Morin       Atsane  1676         2015           70%         France   \n",
       "3  A. Morin        Akata  1680         2015           70%         France   \n",
       "4  A. Morin       Quilla  1704         2015           70%         France   \n",
       "\n",
       "   Rating Bean Type Bean Origin  \n",
       "0    3.75              Sao Tome  \n",
       "1    2.75                  Togo  \n",
       "2    3.00                  Togo  \n",
       "3    3.50                  Togo  \n",
       "4    3.50                  Peru  "
      ]
     },
     "execution_count": 3,
     "metadata": {},
     "output_type": "execute_result"
    }
   ],
   "source": [
    "df = pd.read_csv('http://coursera.h2o.ai/cacao.882.csv')\n",
    "print(df.shape)\n",
    "df.head()"
   ]
  },
  {
   "cell_type": "code",
   "execution_count": 4,
   "metadata": {},
   "outputs": [
    {
     "name": "stdout",
     "output_type": "stream",
     "text": [
      "['France' 'U.S.A.' 'Fiji' 'Ecuador' 'Mexico' 'Switzerland' 'Netherlands'\n",
      " 'Spain' 'Peru' 'Canada' 'Italy' 'Brazil' 'U.K.' 'Australia' 'Wales'\n",
      " 'Belgium' 'Germany' 'Russia' 'Puerto Rico' 'Venezuela' 'Colombia' 'Japan'\n",
      " 'New Zealand' 'Costa Rica' 'South Korea' 'Amsterdam' 'Scotland'\n",
      " 'Martinique' 'Sao Tome' 'Argentina' 'Guatemala' 'South Africa' 'Bolivia'\n",
      " 'St. Lucia' 'Portugal' 'Singapore' 'Denmark' 'Vietnam' 'Grenada' 'Israel'\n",
      " 'India' 'Czech Republic' 'Domincan Republic' 'Finland' 'Madagascar'\n",
      " 'Philippines' 'Sweden' 'Poland' 'Austria' 'Honduras' 'Nicaragua'\n",
      " 'Lithuania' 'Niacragua' 'Chile' 'Ghana' 'Iceland' 'Eucador' 'Hungary'\n",
      " 'Suriname' 'Ireland']\n",
      "60\n",
      "U.S.A.               764\n",
      "France               156\n",
      "Canada               125\n",
      "U.K.                  96\n",
      "Italy                 63\n",
      "Ecuador               54\n",
      "Australia             49\n",
      "Belgium               40\n",
      "Switzerland           38\n",
      "Germany               35\n",
      "Austria               26\n",
      "Spain                 25\n",
      "Colombia              23\n",
      "Hungary               22\n",
      "Venezuela             20\n",
      "Japan                 17\n",
      "New Zealand           17\n",
      "Peru                  17\n",
      "Madagascar            17\n",
      "Brazil                17\n",
      "Denmark               15\n",
      "Vietnam               11\n",
      "Scotland              10\n",
      "Guatemala             10\n",
      "Argentina              9\n",
      "Israel                 9\n",
      "Costa Rica             9\n",
      "Poland                 8\n",
      "Lithuania              6\n",
      "Honduras               6\n",
      "Nicaragua              5\n",
      "South Korea            5\n",
      "Domincan Republic      5\n",
      "Sweden                 5\n",
      "Puerto Rico            4\n",
      "Amsterdam              4\n",
      "Mexico                 4\n",
      "Ireland                4\n",
      "Netherlands            4\n",
      "Sao Tome               4\n",
      "Fiji                   4\n",
      "Grenada                3\n",
      "Portugal               3\n",
      "Singapore              3\n",
      "South Africa           3\n",
      "Iceland                3\n",
      "Chile                  2\n",
      "St. Lucia              2\n",
      "Bolivia                2\n",
      "Finland                2\n",
      "Martinique             1\n",
      "Philippines            1\n",
      "Wales                  1\n",
      "Czech Republic         1\n",
      "Russia                 1\n",
      "Ghana                  1\n",
      "Eucador                1\n",
      "Niacragua              1\n",
      "India                  1\n",
      "Suriname               1\n",
      "Name: Maker Location, dtype: int64\n"
     ]
    },
    {
     "data": {
      "text/plain": [
       "<AxesSubplot:>"
      ]
     },
     "execution_count": 4,
     "metadata": {},
     "output_type": "execute_result"
    },
    {
     "data": {
      "image/png": "[encoded data removed]",
      "text/plain": [
       "<Figure size 432x288 with 1 Axes>"
      ]
     },
     "metadata": {
      "needs_background": "light"
     },
     "output_type": "display_data"
    }
   ],
   "source": [
    "#df.dtypes\n",
    "print(df['Maker Location'].unique())\n",
    "print(len(df['Maker Location'].unique()))\n",
    "loc_table = df['Maker Location'].value_counts()\n",
    "print(loc_table)\n",
    "loc_table.hist()"
   ]
  },
  {
   "cell_type": "markdown",
   "metadata": {},
   "source": [
    "As can be seen from the above table, some of the locations have too few records, which will result in poor accuracy of the model to be learnt on after splitting the dataset into train, validation and test datasets. Let's get rid of the locations that have small number of (< 40) examples in the dataset, to make the results more easily comprehendable, by reducing number of categories in the output variable."
   ]
  },
  {
   "cell_type": "code",
   "execution_count": 5,
   "metadata": {},
   "outputs": [],
   "source": [
    "## filter out the countries for which there is < 40 examples present in the dataset\n",
    "loc_gt_40_recs = loc_table[loc_table >= 40].index.tolist()\n",
    "df_sub = df[df['Maker Location'].isin(loc_gt_40_recs)]"
   ]
  },
  {
   "cell_type": "code",
   "execution_count": 6,
   "id": "d45e2aa7",
   "metadata": {},
   "outputs": [
    {
     "name": "stdout",
     "output_type": "stream",
     "text": [
      "Checking whether there is an H2O instance running at http://localhost:54321. connected.\n",
      "Warning: Your H2O cluster version is too old (4 years and 10 days)! Please download and install the latest version from http://h2o.ai/download/\n"
     ]
    },
    {
     "data": {
      "text/html": [
       "<div style=\"overflow:auto\"><table style=\"width:50%\"><tr><td>H2O cluster uptime:</td>\n",
       "<td>1 hour 59 mins</td></tr>\n",
       "<tr><td>H2O cluster version:</td>\n",
       "<td>3.13.0.3978</td></tr>\n",
       "<tr><td>H2O cluster version age:</td>\n",
       "<td>4 years and 10 days !!!</td></tr>\n",
       "<tr><td>H2O cluster name:</td>\n",
       "<td>H2O_started_from_R_Sandipan.Dey_tlu199</td></tr>\n",
       "<tr><td>H2O cluster total nodes:</td>\n",
       "<td>1</td></tr>\n",
       "<tr><td>H2O cluster free memory:</td>\n",
       "<td>2.897 Gb</td></tr>\n",
       "<tr><td>H2O cluster total cores:</td>\n",
       "<td>4</td></tr>\n",
       "<tr><td>H2O cluster allowed cores:</td>\n",
       "<td>4</td></tr>\n",
       "<tr><td>H2O cluster status:</td>\n",
       "<td>locked, healthy</td></tr>\n",
       "<tr><td>H2O connection url:</td>\n",
       "<td>http://localhost:54321</td></tr>\n",
       "<tr><td>H2O connection proxy:</td>\n",
       "<td>None</td></tr>\n",
       "<tr><td>H2O internal security:</td>\n",
       "<td>False</td></tr>\n",
       "<tr><td>H2O API Extensions:</td>\n",
       "<td>Algos, AutoML, Core V3, Core V4</td></tr>\n",
       "<tr><td>Python version:</td>\n",
       "<td>3.7.6 final</td></tr></table></div>"
      ],
      "text/plain": [
       "--------------------------  --------------------------------------\n",
       "H2O cluster uptime:         1 hour 59 mins\n",
       "H2O cluster version:        3.13.0.3978\n",
       "H2O cluster version age:    4 years and 10 days !!!\n",
       "H2O cluster name:           H2O_started_from_R_Sandipan.Dey_tlu199\n",
       "H2O cluster total nodes:    1\n",
       "H2O cluster free memory:    2.897 Gb\n",
       "H2O cluster total cores:    4\n",
       "H2O cluster allowed cores:  4\n",
       "H2O cluster status:         locked, healthy\n",
       "H2O connection url:         http://localhost:54321\n",
       "H2O connection proxy:\n",
       "H2O internal security:      False\n",
       "H2O API Extensions:         Algos, AutoML, Core V3, Core V4\n",
       "Python version:             3.7.6 final\n",
       "--------------------------  --------------------------------------"
      ]
     },
     "metadata": {},
     "output_type": "display_data"
    }
   ],
   "source": [
    "h2o.init() # h2o.clusterStatus()"
   ]
  },
  {
   "cell_type": "code",
   "execution_count": 7,
   "id": "664dd86f",
   "metadata": {},
   "outputs": [
    {
     "name": "stdout",
     "output_type": "stream",
     "text": [
      "Parse progress: |█████████████████████████████████████████████████████████| 100%\n"
     ]
    }
   ],
   "source": [
    "h2o_df = h2o.H2OFrame(df_sub.values, destination_frame = \"cacao_882\", \n",
    "                      column_names=[x.replace(' ', '_') for x in df.columns.tolist()])\n",
    "#h2o_df.head()\n",
    "#h2o_df.summary()"
   ]
  },
  {
   "cell_type": "code",
   "execution_count": 8,
   "id": "aac4db66",
   "metadata": {},
   "outputs": [
    {
     "name": "stdout",
     "output_type": "stream",
     "text": [
      "Rows:1347\n",
      "Cols:9\n",
      "\n",
      "\n"
     ]
    },
    {
     "data": {
      "text/html": [
       "<table>\n",
       "<thead>\n",
       "<tr><th>       </th><th>Maker   </th><th>Origin        </th><th>REF               </th><th>Review_Date      </th><th>Cocoa_Percent  </th><th>Maker_Location  </th><th>Rating            </th><th>Bean_Type  </th><th>Bean_Origin  </th></tr>\n",
       "</thead>\n",
       "<tbody>\n",
       "<tr><td>type   </td><td>enum    </td><td>enum          </td><td>int               </td><td>int              </td><td>enum           </td><td>enum            </td><td>real              </td><td>enum       </td><td>enum         </td></tr>\n",
       "<tr><td>mins   </td><td>        </td><td>              </td><td>5.0               </td><td>2006.0           </td><td>               </td><td>                </td><td>1.0               </td><td>           </td><td>             </td></tr>\n",
       "<tr><td>mean   </td><td>        </td><td>              </td><td>1025.8849294729039</td><td>2012.273942093541</td><td>               </td><td>                </td><td>3.1818856718633928</td><td>           </td><td>             </td></tr>\n",
       "<tr><td>maxs   </td><td>        </td><td>              </td><td>1952.0            </td><td>2017.0           </td><td>               </td><td>                </td><td>5.0               </td><td>           </td><td>             </td></tr>\n",
       "<tr><td>sigma  </td><td>        </td><td>              </td><td>553.7812013716441 </td><td>2.978615633185091</td><td>               </td><td>                </td><td>0.4911459825968248</td><td>           </td><td>             </td></tr>\n",
       "<tr><td>zeros  </td><td>        </td><td>              </td><td>0                 </td><td>0                </td><td>               </td><td>                </td><td>0                 </td><td>           </td><td>             </td></tr>\n",
       "<tr><td>missing</td><td>0       </td><td>0             </td><td>0                 </td><td>0                </td><td>0              </td><td>0               </td><td>0                 </td><td>0          </td><td>0            </td></tr>\n",
       "<tr><td>0      </td><td>A. Morin</td><td>Agua Grande   </td><td>1876.0            </td><td>2016.0           </td><td>63%            </td><td>France          </td><td>3.75              </td><td>&lt;0xA0&gt;     </td><td>Sao Tome     </td></tr>\n",
       "<tr><td>1      </td><td>A. Morin</td><td>Kpime         </td><td>1676.0            </td><td>2015.0           </td><td>70%            </td><td>France          </td><td>2.75              </td><td>&lt;0xA0&gt;     </td><td>Togo         </td></tr>\n",
       "<tr><td>2      </td><td>A. Morin</td><td>Atsane        </td><td>1676.0            </td><td>2015.0           </td><td>70%            </td><td>France          </td><td>3.0               </td><td>&lt;0xA0&gt;     </td><td>Togo         </td></tr>\n",
       "<tr><td>3      </td><td>A. Morin</td><td>Akata         </td><td>1680.0            </td><td>2015.0           </td><td>70%            </td><td>France          </td><td>3.5               </td><td>&lt;0xA0&gt;     </td><td>Togo         </td></tr>\n",
       "<tr><td>4      </td><td>A. Morin</td><td>Quilla        </td><td>1704.0            </td><td>2015.0           </td><td>70%            </td><td>France          </td><td>3.5               </td><td>&lt;0xA0&gt;     </td><td>Peru         </td></tr>\n",
       "<tr><td>5      </td><td>A. Morin</td><td>Carenero      </td><td>1315.0            </td><td>2014.0           </td><td>70%            </td><td>France          </td><td>2.75              </td><td>Criollo    </td><td>Venezuela    </td></tr>\n",
       "<tr><td>6      </td><td>A. Morin</td><td>Cuba          </td><td>1315.0            </td><td>2014.0           </td><td>70%            </td><td>France          </td><td>3.5               </td><td>&lt;0xA0&gt;     </td><td>Cuba         </td></tr>\n",
       "<tr><td>7      </td><td>A. Morin</td><td>Sur del Lago  </td><td>1315.0            </td><td>2014.0           </td><td>70%            </td><td>France          </td><td>3.5               </td><td>Criollo    </td><td>Venezuela    </td></tr>\n",
       "<tr><td>8      </td><td>A. Morin</td><td>Puerto Cabello</td><td>1319.0            </td><td>2014.0           </td><td>70%            </td><td>France          </td><td>3.75              </td><td>Criollo    </td><td>Venezuela    </td></tr>\n",
       "<tr><td>9      </td><td>A. Morin</td><td>Pablino       </td><td>1319.0            </td><td>2014.0           </td><td>70%            </td><td>France          </td><td>4.0               </td><td>&lt;0xA0&gt;     </td><td>Peru         </td></tr>\n",
       "</tbody>\n",
       "</table>"
      ]
     },
     "metadata": {},
     "output_type": "display_data"
    }
   ],
   "source": [
    "df_cacao_882 = h2o.get_frame('cacao_882') # df_cacao_882.as_data_frame()\n",
    "#df_cacao_882.head()\n",
    "df_cacao_882.describe()"
   ]
  },
  {
   "cell_type": "code",
   "execution_count": 9,
   "metadata": {},
   "outputs": [
    {
     "data": {
      "text/html": [
       "<table>\n",
       "<thead>\n",
       "<tr><th>Maker_Location  </th><th style=\"text-align: right;\">  Count</th></tr>\n",
       "</thead>\n",
       "<tbody>\n",
       "<tr><td>Australia       </td><td style=\"text-align: right;\">     49</td></tr>\n",
       "<tr><td>Belgium         </td><td style=\"text-align: right;\">     40</td></tr>\n",
       "<tr><td>Canada          </td><td style=\"text-align: right;\">    125</td></tr>\n",
       "<tr><td>Ecuador         </td><td style=\"text-align: right;\">     54</td></tr>\n",
       "<tr><td>France          </td><td style=\"text-align: right;\">    156</td></tr>\n",
       "<tr><td>Italy           </td><td style=\"text-align: right;\">     63</td></tr>\n",
       "<tr><td>U.K.            </td><td style=\"text-align: right;\">     96</td></tr>\n",
       "<tr><td>U.S.A.          </td><td style=\"text-align: right;\">    764</td></tr>\n",
       "</tbody>\n",
       "</table>"
      ]
     },
     "metadata": {},
     "output_type": "display_data"
    },
    {
     "data": {
      "text/plain": []
     },
     "execution_count": 9,
     "metadata": {},
     "output_type": "execute_result"
    }
   ],
   "source": [
    "df_cacao_882['Maker_Location'].table()"
   ]
  },
  {
   "cell_type": "code",
   "execution_count": 27,
   "id": "17fc437b",
   "metadata": {},
   "outputs": [],
   "source": [
    "train, valid, test = df_cacao_882.split_frame(ratios = [0.8, 0.1], \n",
    "                                              destination_frames = ['train', 'valid', 'test'], \n",
    "                                              seed = 321)"
   ]
  },
  {
   "cell_type": "code",
   "execution_count": 28,
   "metadata": {},
   "outputs": [
    {
     "name": "stdout",
     "output_type": "stream",
     "text": [
      "1082/138/127\n"
     ]
    }
   ],
   "source": [
    "print(\"%d/%d/%d\" %(train.nrows, valid.nrows, test.nrows))"
   ]
  },
  {
   "cell_type": "markdown",
   "metadata": {},
   "source": [
    "## Step 2"
   ]
  },
  {
   "cell_type": "code",
   "execution_count": 29,
   "metadata": {},
   "outputs": [],
   "source": [
    "## Step two is to set x to be the list of columns you will use to train on, to be the column you will learn. Your choice of \n",
    "## y decides if it will be a classification or a regression."
   ]
  },
  {
   "cell_type": "code",
   "execution_count": 30,
   "metadata": {},
   "outputs": [],
   "source": [
    "ignore_fields = ['Review_Date', 'Bean_Type', 'Maker_Location']"
   ]
  },
  {
   "cell_type": "code",
   "execution_count": 31,
   "metadata": {},
   "outputs": [],
   "source": [
    "# Specify the response and predictor columns\n",
    "y = 'Maker_Location' # multinomial Classification\n",
    "x = [i for i in train.names if not i in ignore_fields]"
   ]
  },
  {
   "cell_type": "markdown",
   "metadata": {},
   "source": [
    "## Step 3"
   ]
  },
  {
   "cell_type": "code",
   "execution_count": 32,
   "metadata": {},
   "outputs": [],
   "source": [
    "## Step three is to create a baseline deep learning model. It is recommended to use all default settings (remembering to \n",
    "## specify either nfolds or validation_frame); if you want to use different settings you should include a comment in your \n",
    "## source file justifying this. Allowable reasons are that the default settings were taking too long on your hardware, or \n",
    "## that they were over-fitting. Your script must include timing code."
   ]
  },
  {
   "cell_type": "code",
   "execution_count": 33,
   "metadata": {},
   "outputs": [
    {
     "name": "stdout",
     "output_type": "stream",
     "text": [
      "deeplearning Model Build progress: |██████████████████████████████████████| 100%\n",
      "Wall time: 15.7 s\n"
     ]
    }
   ],
   "source": [
    "from h2o.estimators.deeplearning import H2ODeepLearningEstimator\n",
    "\n",
    "model = H2ODeepLearningEstimator(seed=321, reproducible=True) \n",
    "\n",
    "%time model.train(x = x, y = y, training_frame = train, validation_frame = valid)"
   ]
  },
  {
   "cell_type": "code",
   "execution_count": 34,
   "metadata": {},
   "outputs": [
    {
     "data": {
      "text/plain": [
       "0.00020161290322580645"
      ]
     },
     "execution_count": 34,
     "metadata": {},
     "output_type": "execute_result"
    }
   ],
   "source": [
    "model.model_performance(train).mean_per_class_error()"
   ]
  },
  {
   "cell_type": "code",
   "execution_count": 35,
   "metadata": {},
   "outputs": [
    {
     "data": {
      "text/plain": [
       "0.18289141414141413"
      ]
     },
     "execution_count": 35,
     "metadata": {},
     "output_type": "execute_result"
    }
   ],
   "source": [
    "model.model_performance(valid).mean_per_class_error()"
   ]
  },
  {
   "cell_type": "code",
   "execution_count": 36,
   "metadata": {},
   "outputs": [],
   "source": [
    "perf_test = model.model_performance(test)"
   ]
  },
  {
   "cell_type": "code",
   "execution_count": 37,
   "metadata": {},
   "outputs": [
    {
     "name": "stdout",
     "output_type": "stream",
     "text": [
      "Mean class error 0.1516731507928691\n",
      "log loss 0.34992752504372965\n",
      "MSE 0.08433363535920778\n",
      "RMSE 0.29040254020791173\n"
     ]
    }
   ],
   "source": [
    "print('Mean class error', perf_test.mean_per_class_error())\n",
    "print('log loss', perf_test.logloss())\n",
    "print('MSE', perf_test.mse())\n",
    "print('RMSE', perf_test.rmse())"
   ]
  },
  {
   "cell_type": "code",
   "execution_count": 38,
   "metadata": {},
   "outputs": [
    {
     "name": "stdout",
     "output_type": "stream",
     "text": [
      "Top-8 Hit Ratios: \n"
     ]
    },
    {
     "data": {
      "text/html": [
       "<div style=\"overflow:auto\"><table style=\"width:50%\"><tr><td><b>k</b></td>\n",
       "<td><b>hit_ratio</b></td></tr>\n",
       "<tr><td>1</td>\n",
       "<td>0.8976378</td></tr>\n",
       "<tr><td>2</td>\n",
       "<td>0.9606299</td></tr>\n",
       "<tr><td>3</td>\n",
       "<td>0.9685040</td></tr>\n",
       "<tr><td>4</td>\n",
       "<td>0.9763780</td></tr>\n",
       "<tr><td>5</td>\n",
       "<td>1.0</td></tr>\n",
       "<tr><td>6</td>\n",
       "<td>1.0</td></tr>\n",
       "<tr><td>7</td>\n",
       "<td>1.0</td></tr>\n",
       "<tr><td>8</td>\n",
       "<td>1.0</td></tr></table></div>"
      ],
      "text/plain": [
       "k    hit_ratio\n",
       "---  -----------\n",
       "1    0.897638\n",
       "2    0.96063\n",
       "3    0.968504\n",
       "4    0.976378\n",
       "5    1\n",
       "6    1\n",
       "7    1\n",
       "8    1"
      ]
     },
     "metadata": {},
     "output_type": "display_data"
    },
    {
     "data": {
      "text/plain": []
     },
     "execution_count": 38,
     "metadata": {},
     "output_type": "execute_result"
    }
   ],
   "source": [
    "perf_test.hit_ratio_table()"
   ]
  },
  {
   "cell_type": "code",
   "execution_count": 39,
   "metadata": {},
   "outputs": [
    {
     "data": {
      "text/html": [
       "<div>\n",
       "<style scoped>\n",
       "    .dataframe tbody tr th:only-of-type {\n",
       "        vertical-align: middle;\n",
       "    }\n",
       "\n",
       "    .dataframe tbody tr th {\n",
       "        vertical-align: top;\n",
       "    }\n",
       "\n",
       "    .dataframe thead th {\n",
       "        text-align: right;\n",
       "    }\n",
       "</style>\n",
       "<table border=\"1\" class=\"dataframe\">\n",
       "  <thead>\n",
       "    <tr style=\"text-align: right;\">\n",
       "      <th></th>\n",
       "      <th>Australia</th>\n",
       "      <th>Belgium</th>\n",
       "      <th>Canada</th>\n",
       "      <th>Ecuador</th>\n",
       "      <th>France</th>\n",
       "      <th>Italy</th>\n",
       "      <th>U.K.</th>\n",
       "      <th>U.S.A.</th>\n",
       "      <th>Error</th>\n",
       "      <th>Rate</th>\n",
       "    </tr>\n",
       "  </thead>\n",
       "  <tbody>\n",
       "    <tr>\n",
       "      <th>0</th>\n",
       "      <td>4.0</td>\n",
       "      <td>0.0</td>\n",
       "      <td>0.0</td>\n",
       "      <td>0.0</td>\n",
       "      <td>0.0</td>\n",
       "      <td>0.0</td>\n",
       "      <td>0.0</td>\n",
       "      <td>1.0</td>\n",
       "      <td>0.200000</td>\n",
       "      <td>1 / 5</td>\n",
       "    </tr>\n",
       "    <tr>\n",
       "      <th>1</th>\n",
       "      <td>0.0</td>\n",
       "      <td>3.0</td>\n",
       "      <td>0.0</td>\n",
       "      <td>0.0</td>\n",
       "      <td>0.0</td>\n",
       "      <td>0.0</td>\n",
       "      <td>0.0</td>\n",
       "      <td>0.0</td>\n",
       "      <td>0.000000</td>\n",
       "      <td>0 / 3</td>\n",
       "    </tr>\n",
       "    <tr>\n",
       "      <th>2</th>\n",
       "      <td>0.0</td>\n",
       "      <td>0.0</td>\n",
       "      <td>11.0</td>\n",
       "      <td>0.0</td>\n",
       "      <td>0.0</td>\n",
       "      <td>0.0</td>\n",
       "      <td>0.0</td>\n",
       "      <td>2.0</td>\n",
       "      <td>0.153846</td>\n",
       "      <td>2 / 13</td>\n",
       "    </tr>\n",
       "    <tr>\n",
       "      <th>3</th>\n",
       "      <td>0.0</td>\n",
       "      <td>0.0</td>\n",
       "      <td>0.0</td>\n",
       "      <td>3.0</td>\n",
       "      <td>0.0</td>\n",
       "      <td>0.0</td>\n",
       "      <td>0.0</td>\n",
       "      <td>0.0</td>\n",
       "      <td>0.000000</td>\n",
       "      <td>0 / 3</td>\n",
       "    </tr>\n",
       "    <tr>\n",
       "      <th>4</th>\n",
       "      <td>0.0</td>\n",
       "      <td>0.0</td>\n",
       "      <td>0.0</td>\n",
       "      <td>0.0</td>\n",
       "      <td>10.0</td>\n",
       "      <td>0.0</td>\n",
       "      <td>0.0</td>\n",
       "      <td>1.0</td>\n",
       "      <td>0.090909</td>\n",
       "      <td>1 / 11</td>\n",
       "    </tr>\n",
       "    <tr>\n",
       "      <th>5</th>\n",
       "      <td>0.0</td>\n",
       "      <td>0.0</td>\n",
       "      <td>0.0</td>\n",
       "      <td>0.0</td>\n",
       "      <td>2.0</td>\n",
       "      <td>7.0</td>\n",
       "      <td>0.0</td>\n",
       "      <td>1.0</td>\n",
       "      <td>0.300000</td>\n",
       "      <td>3 / 10</td>\n",
       "    </tr>\n",
       "    <tr>\n",
       "      <th>6</th>\n",
       "      <td>0.0</td>\n",
       "      <td>0.0</td>\n",
       "      <td>0.0</td>\n",
       "      <td>0.0</td>\n",
       "      <td>0.0</td>\n",
       "      <td>0.0</td>\n",
       "      <td>6.0</td>\n",
       "      <td>5.0</td>\n",
       "      <td>0.454545</td>\n",
       "      <td>5 / 11</td>\n",
       "    </tr>\n",
       "    <tr>\n",
       "      <th>7</th>\n",
       "      <td>0.0</td>\n",
       "      <td>0.0</td>\n",
       "      <td>0.0</td>\n",
       "      <td>0.0</td>\n",
       "      <td>1.0</td>\n",
       "      <td>0.0</td>\n",
       "      <td>0.0</td>\n",
       "      <td>70.0</td>\n",
       "      <td>0.014085</td>\n",
       "      <td>1 / 71</td>\n",
       "    </tr>\n",
       "    <tr>\n",
       "      <th>8</th>\n",
       "      <td>4.0</td>\n",
       "      <td>3.0</td>\n",
       "      <td>11.0</td>\n",
       "      <td>3.0</td>\n",
       "      <td>13.0</td>\n",
       "      <td>7.0</td>\n",
       "      <td>6.0</td>\n",
       "      <td>80.0</td>\n",
       "      <td>0.102362</td>\n",
       "      <td>13 / 127</td>\n",
       "    </tr>\n",
       "  </tbody>\n",
       "</table>\n",
       "</div>"
      ],
      "text/plain": [
       "   Australia  Belgium  Canada  Ecuador  France  Italy  U.K.  U.S.A.     Error  \\\n",
       "0        4.0      0.0     0.0      0.0     0.0    0.0   0.0     1.0  0.200000   \n",
       "1        0.0      3.0     0.0      0.0     0.0    0.0   0.0     0.0  0.000000   \n",
       "2        0.0      0.0    11.0      0.0     0.0    0.0   0.0     2.0  0.153846   \n",
       "3        0.0      0.0     0.0      3.0     0.0    0.0   0.0     0.0  0.000000   \n",
       "4        0.0      0.0     0.0      0.0    10.0    0.0   0.0     1.0  0.090909   \n",
       "5        0.0      0.0     0.0      0.0     2.0    7.0   0.0     1.0  0.300000   \n",
       "6        0.0      0.0     0.0      0.0     0.0    0.0   6.0     5.0  0.454545   \n",
       "7        0.0      0.0     0.0      0.0     1.0    0.0   0.0    70.0  0.014085   \n",
       "8        4.0      3.0    11.0      3.0    13.0    7.0   6.0    80.0  0.102362   \n",
       "\n",
       "       Rate  \n",
       "0     1 / 5  \n",
       "1     0 / 3  \n",
       "2    2 / 13  \n",
       "3     0 / 3  \n",
       "4    1 / 11  \n",
       "5    3 / 10  \n",
       "6    5 / 11  \n",
       "7    1 / 71  \n",
       "8  13 / 127  "
      ]
     },
     "execution_count": 39,
     "metadata": {},
     "output_type": "execute_result"
    }
   ],
   "source": [
    "perf_test.confusion_matrix().as_data_frame()"
   ]
  },
  {
   "cell_type": "code",
   "execution_count": 40,
   "metadata": {},
   "outputs": [
    {
     "data": {
      "image/png": "[encoded data removed]",
      "text/plain": [
       "<Figure size 432x288 with 1 Axes>"
      ]
     },
     "metadata": {
      "needs_background": "light"
     },
     "output_type": "display_data"
    }
   ],
   "source": [
    "model.plot()"
   ]
  },
  {
   "cell_type": "markdown",
   "metadata": {},
   "source": [
    "## Step 4"
   ]
  },
  {
   "cell_type": "code",
   "execution_count": 28,
   "metadata": {},
   "outputs": [],
   "source": [
    "## Step four is to produce a tuned model, that gives superior performance. However you should use no more than 10 times \n",
    "## the running time of your baseline model, so again your script should be timing the model."
   ]
  },
  {
   "cell_type": "code",
   "execution_count": 41,
   "id": "a2354913",
   "metadata": {},
   "outputs": [
    {
     "name": "stdout",
     "output_type": "stream",
     "text": [
      "deeplearning Model Build progress: |██████████████████████████████████████| 100%\n",
      "Wall time: 1min 23s\n"
     ]
    }
   ],
   "source": [
    "model_tuned = H2ODeepLearningEstimator(epochs=200, \n",
    "                                       distribution=\"multinomial\",\n",
    "                                       activation=\"RectifierWithDropout\",\n",
    "                                       stopping_rounds=5, \n",
    "                                       stopping_tolerance=0, \n",
    "                                       stopping_metric=\"logloss\",\n",
    "                                       input_dropout_ratio=0.2,\n",
    "                                       l1=1e-5,\n",
    "                                       hidden=[200,200,200],\n",
    "                                      seed=321,\n",
    "                                      reproducible=True)\n",
    "%time model_tuned.train(x, y, training_frame = train, validation_frame = valid)"
   ]
  },
  {
   "cell_type": "code",
   "execution_count": 42,
   "metadata": {},
   "outputs": [
    {
     "data": {
      "text/plain": [
       "0.0"
      ]
     },
     "execution_count": 42,
     "metadata": {},
     "output_type": "execute_result"
    }
   ],
   "source": [
    "model_tuned.model_performance(train).mean_per_class_error()"
   ]
  },
  {
   "cell_type": "code",
   "execution_count": 43,
   "metadata": {},
   "outputs": [
    {
     "data": {
      "text/plain": [
       "0.07696485401964853"
      ]
     },
     "execution_count": 43,
     "metadata": {},
     "output_type": "execute_result"
    }
   ],
   "source": [
    "model_tuned.model_performance(valid).mean_per_class_error()"
   ]
  },
  {
   "cell_type": "code",
   "execution_count": 44,
   "metadata": {},
   "outputs": [
    {
     "name": "stdout",
     "output_type": "stream",
     "text": [
      "Mean class error 0.11212121212121212\n",
      "log loss 0.17093351194458314\n",
      "MSE 0.04538028467085852\n",
      "RMSE 0.21302648819069078\n"
     ]
    }
   ],
   "source": [
    "perf_test = model_tuned.model_performance(test)\n",
    "print('Mean class error', perf_test.mean_per_class_error())\n",
    "print('log loss', perf_test.logloss())\n",
    "print('MSE', perf_test.mse())\n",
    "print('RMSE', perf_test.rmse())"
   ]
  },
  {
   "cell_type": "code",
   "execution_count": 45,
   "metadata": {},
   "outputs": [
    {
     "name": "stdout",
     "output_type": "stream",
     "text": [
      "Top-8 Hit Ratios: \n"
     ]
    },
    {
     "data": {
      "text/html": [
       "<div style=\"overflow:auto\"><table style=\"width:50%\"><tr><td><b>k</b></td>\n",
       "<td><b>hit_ratio</b></td></tr>\n",
       "<tr><td>1</td>\n",
       "<td>0.9448819</td></tr>\n",
       "<tr><td>2</td>\n",
       "<td>0.9763780</td></tr>\n",
       "<tr><td>3</td>\n",
       "<td>0.984252</td></tr>\n",
       "<tr><td>4</td>\n",
       "<td>0.992126</td></tr>\n",
       "<tr><td>5</td>\n",
       "<td>1.0</td></tr>\n",
       "<tr><td>6</td>\n",
       "<td>1.0</td></tr>\n",
       "<tr><td>7</td>\n",
       "<td>1.0</td></tr>\n",
       "<tr><td>8</td>\n",
       "<td>1.0</td></tr></table></div>"
      ],
      "text/plain": [
       "k    hit_ratio\n",
       "---  -----------\n",
       "1    0.944882\n",
       "2    0.976378\n",
       "3    0.984252\n",
       "4    0.992126\n",
       "5    1\n",
       "6    1\n",
       "7    1\n",
       "8    1"
      ]
     },
     "metadata": {},
     "output_type": "display_data"
    },
    {
     "data": {
      "text/plain": []
     },
     "execution_count": 45,
     "metadata": {},
     "output_type": "execute_result"
    }
   ],
   "source": [
    "perf_test.hit_ratio_table()"
   ]
  },
  {
   "cell_type": "code",
   "execution_count": 46,
   "metadata": {},
   "outputs": [
    {
     "data": {
      "text/html": [
       "<div>\n",
       "<style scoped>\n",
       "    .dataframe tbody tr th:only-of-type {\n",
       "        vertical-align: middle;\n",
       "    }\n",
       "\n",
       "    .dataframe tbody tr th {\n",
       "        vertical-align: top;\n",
       "    }\n",
       "\n",
       "    .dataframe thead th {\n",
       "        text-align: right;\n",
       "    }\n",
       "</style>\n",
       "<table border=\"1\" class=\"dataframe\">\n",
       "  <thead>\n",
       "    <tr style=\"text-align: right;\">\n",
       "      <th></th>\n",
       "      <th>Australia</th>\n",
       "      <th>Belgium</th>\n",
       "      <th>Canada</th>\n",
       "      <th>Ecuador</th>\n",
       "      <th>France</th>\n",
       "      <th>Italy</th>\n",
       "      <th>U.K.</th>\n",
       "      <th>U.S.A.</th>\n",
       "      <th>Error</th>\n",
       "      <th>Rate</th>\n",
       "    </tr>\n",
       "  </thead>\n",
       "  <tbody>\n",
       "    <tr>\n",
       "      <th>0</th>\n",
       "      <td>5.0</td>\n",
       "      <td>0.0</td>\n",
       "      <td>0.0</td>\n",
       "      <td>0.0</td>\n",
       "      <td>0.0</td>\n",
       "      <td>0.0</td>\n",
       "      <td>0.0</td>\n",
       "      <td>0.0</td>\n",
       "      <td>0.000000</td>\n",
       "      <td>0 / 5</td>\n",
       "    </tr>\n",
       "    <tr>\n",
       "      <th>1</th>\n",
       "      <td>0.0</td>\n",
       "      <td>2.0</td>\n",
       "      <td>0.0</td>\n",
       "      <td>1.0</td>\n",
       "      <td>0.0</td>\n",
       "      <td>0.0</td>\n",
       "      <td>0.0</td>\n",
       "      <td>0.0</td>\n",
       "      <td>0.333333</td>\n",
       "      <td>1 / 3</td>\n",
       "    </tr>\n",
       "    <tr>\n",
       "      <th>2</th>\n",
       "      <td>0.0</td>\n",
       "      <td>0.0</td>\n",
       "      <td>13.0</td>\n",
       "      <td>0.0</td>\n",
       "      <td>0.0</td>\n",
       "      <td>0.0</td>\n",
       "      <td>0.0</td>\n",
       "      <td>0.0</td>\n",
       "      <td>0.000000</td>\n",
       "      <td>0 / 13</td>\n",
       "    </tr>\n",
       "    <tr>\n",
       "      <th>3</th>\n",
       "      <td>0.0</td>\n",
       "      <td>0.0</td>\n",
       "      <td>0.0</td>\n",
       "      <td>3.0</td>\n",
       "      <td>0.0</td>\n",
       "      <td>0.0</td>\n",
       "      <td>0.0</td>\n",
       "      <td>0.0</td>\n",
       "      <td>0.000000</td>\n",
       "      <td>0 / 3</td>\n",
       "    </tr>\n",
       "    <tr>\n",
       "      <th>4</th>\n",
       "      <td>0.0</td>\n",
       "      <td>0.0</td>\n",
       "      <td>0.0</td>\n",
       "      <td>0.0</td>\n",
       "      <td>10.0</td>\n",
       "      <td>0.0</td>\n",
       "      <td>0.0</td>\n",
       "      <td>1.0</td>\n",
       "      <td>0.090909</td>\n",
       "      <td>1 / 11</td>\n",
       "    </tr>\n",
       "    <tr>\n",
       "      <th>5</th>\n",
       "      <td>0.0</td>\n",
       "      <td>0.0</td>\n",
       "      <td>0.0</td>\n",
       "      <td>0.0</td>\n",
       "      <td>1.0</td>\n",
       "      <td>8.0</td>\n",
       "      <td>0.0</td>\n",
       "      <td>1.0</td>\n",
       "      <td>0.200000</td>\n",
       "      <td>2 / 10</td>\n",
       "    </tr>\n",
       "    <tr>\n",
       "      <th>6</th>\n",
       "      <td>0.0</td>\n",
       "      <td>0.0</td>\n",
       "      <td>0.0</td>\n",
       "      <td>0.0</td>\n",
       "      <td>0.0</td>\n",
       "      <td>0.0</td>\n",
       "      <td>8.0</td>\n",
       "      <td>3.0</td>\n",
       "      <td>0.272727</td>\n",
       "      <td>3 / 11</td>\n",
       "    </tr>\n",
       "    <tr>\n",
       "      <th>7</th>\n",
       "      <td>0.0</td>\n",
       "      <td>0.0</td>\n",
       "      <td>0.0</td>\n",
       "      <td>0.0</td>\n",
       "      <td>0.0</td>\n",
       "      <td>0.0</td>\n",
       "      <td>0.0</td>\n",
       "      <td>71.0</td>\n",
       "      <td>0.000000</td>\n",
       "      <td>0 / 71</td>\n",
       "    </tr>\n",
       "    <tr>\n",
       "      <th>8</th>\n",
       "      <td>5.0</td>\n",
       "      <td>2.0</td>\n",
       "      <td>13.0</td>\n",
       "      <td>4.0</td>\n",
       "      <td>11.0</td>\n",
       "      <td>8.0</td>\n",
       "      <td>8.0</td>\n",
       "      <td>76.0</td>\n",
       "      <td>0.055118</td>\n",
       "      <td>7 / 127</td>\n",
       "    </tr>\n",
       "  </tbody>\n",
       "</table>\n",
       "</div>"
      ],
      "text/plain": [
       "   Australia  Belgium  Canada  Ecuador  France  Italy  U.K.  U.S.A.     Error  \\\n",
       "0        5.0      0.0     0.0      0.0     0.0    0.0   0.0     0.0  0.000000   \n",
       "1        0.0      2.0     0.0      1.0     0.0    0.0   0.0     0.0  0.333333   \n",
       "2        0.0      0.0    13.0      0.0     0.0    0.0   0.0     0.0  0.000000   \n",
       "3        0.0      0.0     0.0      3.0     0.0    0.0   0.0     0.0  0.000000   \n",
       "4        0.0      0.0     0.0      0.0    10.0    0.0   0.0     1.0  0.090909   \n",
       "5        0.0      0.0     0.0      0.0     1.0    8.0   0.0     1.0  0.200000   \n",
       "6        0.0      0.0     0.0      0.0     0.0    0.0   8.0     3.0  0.272727   \n",
       "7        0.0      0.0     0.0      0.0     0.0    0.0   0.0    71.0  0.000000   \n",
       "8        5.0      2.0    13.0      4.0    11.0    8.0   8.0    76.0  0.055118   \n",
       "\n",
       "      Rate  \n",
       "0    0 / 5  \n",
       "1    1 / 3  \n",
       "2   0 / 13  \n",
       "3    0 / 3  \n",
       "4   1 / 11  \n",
       "5   2 / 10  \n",
       "6   3 / 11  \n",
       "7   0 / 71  \n",
       "8  7 / 127  "
      ]
     },
     "execution_count": 46,
     "metadata": {},
     "output_type": "execute_result"
    }
   ],
   "source": [
    "perf_test.confusion_matrix().as_data_frame()"
   ]
  },
  {
   "cell_type": "code",
   "execution_count": 47,
   "metadata": {},
   "outputs": [
    {
     "data": {
      "image/png": "[encoded data removed]",
      "text/plain": [
       "<Figure size 432x288 with 1 Axes>"
      ]
     },
     "metadata": {
      "needs_background": "light"
     },
     "output_type": "display_data"
    }
   ],
   "source": [
    "model_tuned.plot()"
   ]
  },
  {
   "cell_type": "markdown",
   "metadata": {},
   "source": [
    "As can be seen from the above plot, the early-stopping stopped the model to overfit and the model achieves better accruacy on the test dataset."
   ]
  },
  {
   "cell_type": "markdown",
   "metadata": {},
   "source": [
    "## Step 5"
   ]
  },
  {
   "cell_type": "code",
   "execution_count": 48,
   "metadata": {},
   "outputs": [],
   "source": [
    "# Step five is to save both your models, to your local disk, and they should be submitted with your script. \n",
    "# Use saveModel() (in R) or save_model() (Python), to export the binary version of the model. (Do not export a POJO.)"
   ]
  },
  {
   "cell_type": "code",
   "execution_count": 49,
   "metadata": {},
   "outputs": [
    {
     "data": {
      "text/plain": [
       "'C:\\\\courses\\\\coursera\\\\H2O\\\\Week2\\\\tuned_model\\\\DeepLearning_model_python_1628936868218_4'"
      ]
     },
     "execution_count": 49,
     "metadata": {},
     "output_type": "execute_result"
    }
   ],
   "source": [
    "h2o.save_model(model, 'base_model')\n",
    "h2o.save_model(model_tuned, 'tuned_model')"
   ]
  },
  {
   "cell_type": "code",
   "execution_count": null,
   "metadata": {},
   "outputs": [],
   "source": []
  }
 ],
 "metadata": {
  "kernelspec": {
   "display_name": "Python 3",
   "language": "python",
   "name": "python3"
  },
  "language_info": {
   "codemirror_mode": {
    "name": "ipython",
    "version": 3
   },
   "file_extension": ".py",
   "mimetype": "text/x-python",
   "name": "python",
   "nbconvert_exporter": "python",
   "pygments_lexer": "ipython3",
   "version": "3.7.6"
  }
 },
 "nbformat": 4,
 "nbformat_minor": 5
}
