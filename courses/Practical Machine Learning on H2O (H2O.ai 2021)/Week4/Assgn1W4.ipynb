{
 "cells": [
  {
   "cell_type": "markdown",
   "id": "4e297b31",
   "metadata": {},
   "source": [
    "Initialize h2o and import the dataset"
   ]
  },
  {
   "cell_type": "code",
   "execution_count": 1,
   "id": "3b8ca0f4",
   "metadata": {},
   "outputs": [
    {
     "name": "stdout",
     "output_type": "stream",
     "text": [
      "Checking whether there is an H2O instance running at http://localhost:54321. connected.\n",
      "Warning: Your H2O cluster version is too old (4 years and 9 days)! Please download and install the latest version from http://h2o.ai/download/\n"
     ]
    },
    {
     "data": {
      "text/html": [
       "<div style=\"overflow:auto\"><table style=\"width:50%\"><tr><td>H2O cluster uptime:</td>\n",
       "<td>1 day 23 hours 13 mins</td></tr>\n",
       "<tr><td>H2O cluster version:</td>\n",
       "<td>3.13.0.3978</td></tr>\n",
       "<tr><td>H2O cluster version age:</td>\n",
       "<td>4 years and 9 days !!!</td></tr>\n",
       "<tr><td>H2O cluster name:</td>\n",
       "<td>H2O_started_from_R_Sandipan.Dey_kpl973</td></tr>\n",
       "<tr><td>H2O cluster total nodes:</td>\n",
       "<td>1</td></tr>\n",
       "<tr><td>H2O cluster free memory:</td>\n",
       "<td>2.510 Gb</td></tr>\n",
       "<tr><td>H2O cluster total cores:</td>\n",
       "<td>4</td></tr>\n",
       "<tr><td>H2O cluster allowed cores:</td>\n",
       "<td>4</td></tr>\n",
       "<tr><td>H2O cluster status:</td>\n",
       "<td>locked, healthy</td></tr>\n",
       "<tr><td>H2O connection url:</td>\n",
       "<td>http://localhost:54321</td></tr>\n",
       "<tr><td>H2O connection proxy:</td>\n",
       "<td>None</td></tr>\n",
       "<tr><td>H2O internal security:</td>\n",
       "<td>False</td></tr>\n",
       "<tr><td>H2O API Extensions:</td>\n",
       "<td>Algos, AutoML, Core V3, Core V4</td></tr>\n",
       "<tr><td>Python version:</td>\n",
       "<td>3.7.6 final</td></tr></table></div>"
      ],
      "text/plain": [
       "--------------------------  --------------------------------------\n",
       "H2O cluster uptime:         1 day 23 hours 13 mins\n",
       "H2O cluster version:        3.13.0.3978\n",
       "H2O cluster version age:    4 years and 9 days !!!\n",
       "H2O cluster name:           H2O_started_from_R_Sandipan.Dey_kpl973\n",
       "H2O cluster total nodes:    1\n",
       "H2O cluster free memory:    2.510 Gb\n",
       "H2O cluster total cores:    4\n",
       "H2O cluster allowed cores:  4\n",
       "H2O cluster status:         locked, healthy\n",
       "H2O connection url:         http://localhost:54321\n",
       "H2O connection proxy:\n",
       "H2O internal security:      False\n",
       "H2O API Extensions:         Algos, AutoML, Core V3, Core V4\n",
       "Python version:             3.7.6 final\n",
       "--------------------------  --------------------------------------"
      ]
     },
     "metadata": {},
     "output_type": "display_data"
    }
   ],
   "source": [
    "import h2o\n",
    "h2o.init()\n",
    "import matplotlib.pyplot as plt\n",
    "%matplotlib inline"
   ]
  },
  {
   "cell_type": "code",
   "execution_count": 2,
   "id": "2c5a8bd5",
   "metadata": {},
   "outputs": [
    {
     "name": "stdout",
     "output_type": "stream",
     "text": [
      "Parse progress: |█████████████████████████████████████████████████████████| 100%\n"
     ]
    }
   ],
   "source": [
    "data= h2o.import_file(\"http://coursera.h2o.ai/cacao.882.csv\")"
   ]
  },
  {
   "cell_type": "code",
   "execution_count": 3,
   "id": "94378754",
   "metadata": {},
   "outputs": [],
   "source": [
    "#data.summary()\n",
    "#data.nlevels()"
   ]
  },
  {
   "cell_type": "code",
   "execution_count": 4,
   "id": "e3591893",
   "metadata": {},
   "outputs": [],
   "source": [
    "##split data into train, valid and test datasets \n",
    "train,valid,test = data.split_frame([.8,.1], seed=69)\n",
    "##validate the size of dataset (uncommnt to execute)\n",
    "#print( \"%d %d %d\" % (train.nrows,valid.nrows, test.nrows  ))"
   ]
  },
  {
   "cell_type": "code",
   "execution_count": null,
   "id": "e02ecbf9",
   "metadata": {},
   "outputs": [],
   "source": []
  },
  {
   "cell_type": "code",
   "execution_count": 5,
   "id": "71b2c445",
   "metadata": {},
   "outputs": [],
   "source": [
    "## set the features and response column names, the column Origin\n",
    "## was removed because of its high cardinality and its redundancy (bean origin),\n",
    "## the reduced model resulted in a lower error and deviance\n",
    "## \n",
    "y =  'Rating'\n",
    "\n",
    "xAll = [i for i in train.names if i not in y]\n",
    "xAll2 =[i for i in train.names if i not in ['Rating', 'Origin']]\n"
   ]
  },
  {
   "cell_type": "code",
   "execution_count": 6,
   "id": "2cf8c710",
   "metadata": {
    "scrolled": true
   },
   "outputs": [
    {
     "name": "stdout",
     "output_type": "stream",
     "text": [
      "deeplearning Model Build progress: |██████████████████████████████████████| 100%\n",
      "Wall time: 8.81 s\n"
     ]
    }
   ],
   "source": [
    "## build a deep learning model with default parameters with full reduced feature list(a regression model to predict \"Rating\")\n",
    "## run_time 12s\n",
    "\n",
    "from h2o.estimators.deeplearning import H2ODeepLearningEstimator\n",
    "m_def = H2ODeepLearningEstimator(model_id = \"untuned_model\", seed = 69)\n",
    "%time m_def.train(xAll, y, train, validation_frame = valid)"
   ]
  },
  {
   "cell_type": "code",
   "execution_count": 7,
   "id": "a83da779",
   "metadata": {},
   "outputs": [
    {
     "name": "stdout",
     "output_type": "stream",
     "text": [
      "\n",
      "ModelMetricsRegression: deeplearning\n",
      "** Reported on test data. **\n",
      "\n",
      "MSE: 0.19803237041288513\n",
      "RMSE: 0.44500828128573644\n",
      "MAE: 0.36327013200551606\n",
      "RMSLE: 0.11078124573783053\n",
      "Mean Residual Deviance: 0.19803237041288513\n"
     ]
    },
    {
     "data": {
      "text/plain": []
     },
     "execution_count": 7,
     "metadata": {},
     "output_type": "execute_result"
    }
   ],
   "source": [
    "m_def.model_performance(test)"
   ]
  },
  {
   "cell_type": "code",
   "execution_count": 8,
   "id": "94eda9cb",
   "metadata": {
    "scrolled": true
   },
   "outputs": [
    {
     "data": {
      "image/png": "[encoded data removed]",
      "text/plain": [
       "<Figure size 432x288 with 1 Axes>"
      ]
     },
     "metadata": {
      "needs_background": "light"
     },
     "output_type": "display_data"
    }
   ],
   "source": [
    "m_def.plot()"
   ]
  },
  {
   "cell_type": "code",
   "execution_count": 9,
   "id": "28fae5fd",
   "metadata": {},
   "outputs": [
    {
     "name": "stdout",
     "output_type": "stream",
     "text": [
      "deeplearning Model Build progress: |██████████████████████████████████████| 100%\n",
      "Wall time: 27.1 s\n"
     ]
    }
   ],
   "source": [
    "## tuned model initalization and training\n",
    "## for the tuned model the origin feature was deopped because of high cardinality and its redundancy (bean origin)\n",
    "## run_time 35s\n",
    "m_def_tuned =H2ODeepLearningEstimator(epochs =25,\n",
    "                                   stopping_rounds =5,\n",
    "                                   stopping_tolerance = 0,\n",
    "                                   stopping_metric = \"AUTO\",\n",
    "                                    l1 = 1e-6,\n",
    "                                    l2 = 1e-6,\n",
    "                                    hidden = [400,400],\n",
    "                                    hidden_dropout_ratios = [0.1,0.1],\n",
    "                                    activation =\"RectifierWithDropout\",\n",
    "                                    model_id = \"tuned_model\", seed = 69)\n",
    "%time m_def_tuned.train(xAll2, y, train, validation_frame = valid)"
   ]
  },
  {
   "cell_type": "code",
   "execution_count": 10,
   "id": "9b32e5bd",
   "metadata": {},
   "outputs": [
    {
     "name": "stdout",
     "output_type": "stream",
     "text": [
      "\n",
      "ModelMetricsRegression: deeplearning\n",
      "** Reported on test data. **\n",
      "\n",
      "MSE: 0.19345577185065752\n",
      "RMSE: 0.43983607383962664\n",
      "MAE: 0.3487758542082269\n",
      "RMSLE: 0.109353702213071\n",
      "Mean Residual Deviance: 0.19345577185065752\n"
     ]
    },
    {
     "data": {
      "text/plain": []
     },
     "execution_count": 10,
     "metadata": {},
     "output_type": "execute_result"
    }
   ],
   "source": [
    "m_def_tuned.model_performance(test)"
   ]
  },
  {
   "cell_type": "code",
   "execution_count": 11,
   "id": "21bc4441",
   "metadata": {},
   "outputs": [
    {
     "data": {
      "image/png": "[encoded data removed]",
      "text/plain": [
       "<Figure size 432x288 with 1 Axes>"
      ]
     },
     "metadata": {
      "needs_background": "light"
     },
     "output_type": "display_data"
    }
   ],
   "source": [
    "m_def_tuned.plot()"
   ]
  },
  {
   "cell_type": "code",
   "execution_count": 12,
   "id": "f942d9e0",
   "metadata": {},
   "outputs": [
    {
     "data": {
      "text/plain": [
       "'C:\\\\h2o_models\\\\tuned_model'"
      ]
     },
     "execution_count": 12,
     "metadata": {},
     "output_type": "execute_result"
    }
   ],
   "source": [
    "##save models\n",
    "h2o.save_model(m_def, \"c:\\h2o_models\")\n",
    "h2o.save_model(m_def_tuned, \"c:\\h2o_models\")"
   ]
  },
  {
   "cell_type": "code",
   "execution_count": null,
   "id": "e51c5418",
   "metadata": {},
   "outputs": [],
   "source": []
  }
 ],
 "metadata": {
  "kernelspec": {
   "display_name": "Python 3",
   "language": "python",
   "name": "python3"
  },
  "language_info": {
   "codemirror_mode": {
    "name": "ipython",
    "version": 3
   },
   "file_extension": ".py",
   "mimetype": "text/x-python",
   "name": "python",
   "nbconvert_exporter": "python",
   "pygments_lexer": "ipython3",
   "version": "3.7.6"
  }
 },
 "nbformat": 4,
 "nbformat_minor": 5
}
