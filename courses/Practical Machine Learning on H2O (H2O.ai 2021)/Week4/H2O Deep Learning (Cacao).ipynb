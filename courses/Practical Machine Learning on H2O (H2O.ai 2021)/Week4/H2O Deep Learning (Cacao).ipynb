{
 "cells": [
  {
   "cell_type": "code",
   "execution_count": 1,
   "id": "dc27b61e",
   "metadata": {},
   "outputs": [],
   "source": [
    "import h2o\n",
    "import pandas as pd\n",
    "import numpy as np\n",
    "import matplotlib.pyplot as plt\n",
    "import random\n",
    "from time import time"
   ]
  },
  {
   "cell_type": "code",
   "execution_count": 2,
   "id": "e9625a92",
   "metadata": {},
   "outputs": [
    {
     "name": "stdout",
     "output_type": "stream",
     "text": [
      "Checking whether there is an H2O instance running at http://localhost:54321. connected.\n",
      "Warning: Your H2O cluster version is too old (4 years and 9 days)! Please download and install the latest version from http://h2o.ai/download/\n"
     ]
    },
    {
     "data": {
      "text/html": [
       "<div style=\"overflow:auto\"><table style=\"width:50%\"><tr><td>H2O cluster uptime:</td>\n",
       "<td>1 day 14 hours 12 mins</td></tr>\n",
       "<tr><td>H2O cluster version:</td>\n",
       "<td>3.13.0.3978</td></tr>\n",
       "<tr><td>H2O cluster version age:</td>\n",
       "<td>4 years and 9 days !!!</td></tr>\n",
       "<tr><td>H2O cluster name:</td>\n",
       "<td>H2O_started_from_R_Sandipan.Dey_kpl973</td></tr>\n",
       "<tr><td>H2O cluster total nodes:</td>\n",
       "<td>1</td></tr>\n",
       "<tr><td>H2O cluster free memory:</td>\n",
       "<td>2.543 Gb</td></tr>\n",
       "<tr><td>H2O cluster total cores:</td>\n",
       "<td>4</td></tr>\n",
       "<tr><td>H2O cluster allowed cores:</td>\n",
       "<td>4</td></tr>\n",
       "<tr><td>H2O cluster status:</td>\n",
       "<td>locked, healthy</td></tr>\n",
       "<tr><td>H2O connection url:</td>\n",
       "<td>http://localhost:54321</td></tr>\n",
       "<tr><td>H2O connection proxy:</td>\n",
       "<td>None</td></tr>\n",
       "<tr><td>H2O internal security:</td>\n",
       "<td>False</td></tr>\n",
       "<tr><td>H2O API Extensions:</td>\n",
       "<td>Algos, AutoML, Core V3, Core V4</td></tr>\n",
       "<tr><td>Python version:</td>\n",
       "<td>3.7.6 final</td></tr></table></div>"
      ],
      "text/plain": [
       "--------------------------  --------------------------------------\n",
       "H2O cluster uptime:         1 day 14 hours 12 mins\n",
       "H2O cluster version:        3.13.0.3978\n",
       "H2O cluster version age:    4 years and 9 days !!!\n",
       "H2O cluster name:           H2O_started_from_R_Sandipan.Dey_kpl973\n",
       "H2O cluster total nodes:    1\n",
       "H2O cluster free memory:    2.543 Gb\n",
       "H2O cluster total cores:    4\n",
       "H2O cluster allowed cores:  4\n",
       "H2O cluster status:         locked, healthy\n",
       "H2O connection url:         http://localhost:54321\n",
       "H2O connection proxy:\n",
       "H2O internal security:      False\n",
       "H2O API Extensions:         Algos, AutoML, Core V3, Core V4\n",
       "Python version:             3.7.6 final\n",
       "--------------------------  --------------------------------------"
      ]
     },
     "metadata": {},
     "output_type": "display_data"
    }
   ],
   "source": [
    "h2o.init()"
   ]
  },
  {
   "cell_type": "code",
   "execution_count": 3,
   "id": "7c7c9920",
   "metadata": {},
   "outputs": [
    {
     "name": "stdout",
     "output_type": "stream",
     "text": [
      "Parse progress: |█████████████████████████████████████████████████████████| 100%\n"
     ]
    },
    {
     "data": {
      "text/html": [
       "<table>\n",
       "<thead>\n",
       "<tr><th>Maker   </th><th>Origin        </th><th style=\"text-align: right;\">  REF</th><th style=\"text-align: right;\">  Review Date</th><th style=\"text-align: right;\">  Cocoa Percent</th><th>Maker Location  </th><th style=\"text-align: right;\">  Rating</th><th>Bean Type  </th><th>Bean Origin  </th></tr>\n",
       "</thead>\n",
       "<tbody>\n",
       "<tr><td>A. Morin</td><td>Agua Grande   </td><td style=\"text-align: right;\"> 1876</td><td style=\"text-align: right;\">         2016</td><td style=\"text-align: right;\">           0.63</td><td>France          </td><td style=\"text-align: right;\">    3.75</td><td>Â          </td><td>Sao Tome     </td></tr>\n",
       "<tr><td>A. Morin</td><td>Kpime         </td><td style=\"text-align: right;\"> 1676</td><td style=\"text-align: right;\">         2015</td><td style=\"text-align: right;\">           0.7 </td><td>France          </td><td style=\"text-align: right;\">    2.75</td><td>Â          </td><td>Togo         </td></tr>\n",
       "<tr><td>A. Morin</td><td>Atsane        </td><td style=\"text-align: right;\"> 1676</td><td style=\"text-align: right;\">         2015</td><td style=\"text-align: right;\">           0.7 </td><td>France          </td><td style=\"text-align: right;\">    3   </td><td>Â          </td><td>Togo         </td></tr>\n",
       "<tr><td>A. Morin</td><td>Akata         </td><td style=\"text-align: right;\"> 1680</td><td style=\"text-align: right;\">         2015</td><td style=\"text-align: right;\">           0.7 </td><td>France          </td><td style=\"text-align: right;\">    3.5 </td><td>Â          </td><td>Togo         </td></tr>\n",
       "<tr><td>A. Morin</td><td>Quilla        </td><td style=\"text-align: right;\"> 1704</td><td style=\"text-align: right;\">         2015</td><td style=\"text-align: right;\">           0.7 </td><td>France          </td><td style=\"text-align: right;\">    3.5 </td><td>Â          </td><td>Peru         </td></tr>\n",
       "<tr><td>A. Morin</td><td>Carenero      </td><td style=\"text-align: right;\"> 1315</td><td style=\"text-align: right;\">         2014</td><td style=\"text-align: right;\">           0.7 </td><td>France          </td><td style=\"text-align: right;\">    2.75</td><td>Criollo    </td><td>Venezuela    </td></tr>\n",
       "<tr><td>A. Morin</td><td>Cuba          </td><td style=\"text-align: right;\"> 1315</td><td style=\"text-align: right;\">         2014</td><td style=\"text-align: right;\">           0.7 </td><td>France          </td><td style=\"text-align: right;\">    3.5 </td><td>Â          </td><td>Cuba         </td></tr>\n",
       "<tr><td>A. Morin</td><td>Sur del Lago  </td><td style=\"text-align: right;\"> 1315</td><td style=\"text-align: right;\">         2014</td><td style=\"text-align: right;\">           0.7 </td><td>France          </td><td style=\"text-align: right;\">    3.5 </td><td>Criollo    </td><td>Venezuela    </td></tr>\n",
       "<tr><td>A. Morin</td><td>Puerto Cabello</td><td style=\"text-align: right;\"> 1319</td><td style=\"text-align: right;\">         2014</td><td style=\"text-align: right;\">           0.7 </td><td>France          </td><td style=\"text-align: right;\">    3.75</td><td>Criollo    </td><td>Venezuela    </td></tr>\n",
       "<tr><td>A. Morin</td><td>Pablino       </td><td style=\"text-align: right;\"> 1319</td><td style=\"text-align: right;\">         2014</td><td style=\"text-align: right;\">           0.7 </td><td>France          </td><td style=\"text-align: right;\">    4   </td><td>Â          </td><td>Peru         </td></tr>\n",
       "</tbody>\n",
       "</table>"
      ]
     },
     "metadata": {},
     "output_type": "display_data"
    },
    {
     "data": {
      "text/plain": []
     },
     "execution_count": 3,
     "metadata": {},
     "output_type": "execute_result"
    }
   ],
   "source": [
    "url = \"http://coursera.h2o.ai/cacao.882.csv\"\n",
    "cacao = h2o.import_file(url,destination_frame = \"Cacao\")\n",
    "cacao"
   ]
  },
  {
   "cell_type": "code",
   "execution_count": 7,
   "id": "5f918569",
   "metadata": {},
   "outputs": [
    {
     "name": "stdout",
     "output_type": "stream",
     "text": [
      "Rows:1795\n",
      "Cols:9\n",
      "\n",
      "\n"
     ]
    },
    {
     "data": {
      "text/html": [
       "<table>\n",
       "<thead>\n",
       "<tr><th>       </th><th>Maker   </th><th>Origin        </th><th>REF               </th><th>Review Date      </th><th>Cocoa Percent      </th><th>Maker Location  </th><th>Rating            </th><th>Bean Type  </th><th>Bean Origin  </th></tr>\n",
       "</thead>\n",
       "<tbody>\n",
       "<tr><td>type   </td><td>enum    </td><td>enum          </td><td>int               </td><td>int              </td><td>real               </td><td>enum            </td><td>real              </td><td>enum       </td><td>enum         </td></tr>\n",
       "<tr><td>mins   </td><td>        </td><td>              </td><td>5.0               </td><td>2006.0           </td><td>0.42               </td><td>                </td><td>1.0               </td><td>           </td><td>             </td></tr>\n",
       "<tr><td>mean   </td><td>        </td><td>              </td><td>1035.9047353760463</td><td>2012.325348189414</td><td>0.7169832869080773 </td><td>                </td><td>3.185933147632313 </td><td>           </td><td>             </td></tr>\n",
       "<tr><td>maxs   </td><td>        </td><td>              </td><td>1952.0            </td><td>2017.0           </td><td>1.0                </td><td>                </td><td>5.0               </td><td>           </td><td>             </td></tr>\n",
       "<tr><td>sigma  </td><td>        </td><td>              </td><td>552.8863650101442 </td><td>2.92721027766861 </td><td>0.06323118338429189</td><td>                </td><td>0.4780623935863306</td><td>           </td><td>             </td></tr>\n",
       "<tr><td>zeros  </td><td>        </td><td>              </td><td>0                 </td><td>0                </td><td>0                  </td><td>                </td><td>0                 </td><td>           </td><td>             </td></tr>\n",
       "<tr><td>missing</td><td>0       </td><td>0             </td><td>0                 </td><td>0                </td><td>0                  </td><td>0               </td><td>0                 </td><td>1          </td><td>1            </td></tr>\n",
       "<tr><td>0      </td><td>A. Morin</td><td>Agua Grande   </td><td>1876.0            </td><td>2016.0           </td><td>0.63               </td><td>France          </td><td>3.75              </td><td>Â          </td><td>Sao Tome     </td></tr>\n",
       "<tr><td>1      </td><td>A. Morin</td><td>Kpime         </td><td>1676.0            </td><td>2015.0           </td><td>0.7000000000000001 </td><td>France          </td><td>2.75              </td><td>Â          </td><td>Togo         </td></tr>\n",
       "<tr><td>2      </td><td>A. Morin</td><td>Atsane        </td><td>1676.0            </td><td>2015.0           </td><td>0.7000000000000001 </td><td>France          </td><td>3.0               </td><td>Â          </td><td>Togo         </td></tr>\n",
       "<tr><td>3      </td><td>A. Morin</td><td>Akata         </td><td>1680.0            </td><td>2015.0           </td><td>0.7000000000000001 </td><td>France          </td><td>3.5               </td><td>Â          </td><td>Togo         </td></tr>\n",
       "<tr><td>4      </td><td>A. Morin</td><td>Quilla        </td><td>1704.0            </td><td>2015.0           </td><td>0.7000000000000001 </td><td>France          </td><td>3.5               </td><td>Â          </td><td>Peru         </td></tr>\n",
       "<tr><td>5      </td><td>A. Morin</td><td>Carenero      </td><td>1315.0            </td><td>2014.0           </td><td>0.7000000000000001 </td><td>France          </td><td>2.75              </td><td>Criollo    </td><td>Venezuela    </td></tr>\n",
       "<tr><td>6      </td><td>A. Morin</td><td>Cuba          </td><td>1315.0            </td><td>2014.0           </td><td>0.7000000000000001 </td><td>France          </td><td>3.5               </td><td>Â          </td><td>Cuba         </td></tr>\n",
       "<tr><td>7      </td><td>A. Morin</td><td>Sur del Lago  </td><td>1315.0            </td><td>2014.0           </td><td>0.7000000000000001 </td><td>France          </td><td>3.5               </td><td>Criollo    </td><td>Venezuela    </td></tr>\n",
       "<tr><td>8      </td><td>A. Morin</td><td>Puerto Cabello</td><td>1319.0            </td><td>2014.0           </td><td>0.7000000000000001 </td><td>France          </td><td>3.75              </td><td>Criollo    </td><td>Venezuela    </td></tr>\n",
       "<tr><td>9      </td><td>A. Morin</td><td>Pablino       </td><td>1319.0            </td><td>2014.0           </td><td>0.7000000000000001 </td><td>France          </td><td>4.0               </td><td>Â          </td><td>Peru         </td></tr>\n",
       "</tbody>\n",
       "</table>"
      ]
     },
     "metadata": {},
     "output_type": "display_data"
    }
   ],
   "source": [
    "cacao.describe()"
   ]
  },
  {
   "cell_type": "code",
   "execution_count": 8,
   "id": "9b9e06e0",
   "metadata": {},
   "outputs": [],
   "source": [
    "train,test,valid = cacao.split_frame(ratios=[0.7,0.15],destination_frames = ['train_cacao','test_cacao','valid_cacao'],seed=420)"
   ]
  },
  {
   "cell_type": "code",
   "execution_count": 9,
   "id": "6ea2b754",
   "metadata": {},
   "outputs": [],
   "source": [
    "x_cols = ['REF','Cocoa Percent','Maker Location','Bean Type','Bean Origin']\n",
    "y_col = 'Rating'"
   ]
  },
  {
   "cell_type": "code",
   "execution_count": 11,
   "id": "719abfbe",
   "metadata": {},
   "outputs": [
    {
     "name": "stdout",
     "output_type": "stream",
     "text": [
      "deeplearning Model Build progress: |██████████████████████████████████████| 100%\n",
      "Time taken =  3.8047678470611572  secs\n"
     ]
    }
   ],
   "source": [
    "from h2o.estimators import H2ODeepLearningEstimator\n",
    "start = time()\n",
    "dl = H2ODeepLearningEstimator(seed=1234)\n",
    "dl.train(training_frame = train,x = x_cols,y=y_col,validation_frame=test)\n",
    "print(\"Time taken = \",time()-start,\" secs\")\n",
    "perf_train = dl.model_performance(train)\n",
    "perf_test = dl.model_performance(test)\n",
    "perf_valid = dl.model_performance(valid)"
   ]
  },
  {
   "cell_type": "code",
   "execution_count": 12,
   "id": "bb52a46f",
   "metadata": {},
   "outputs": [
    {
     "data": {
      "text/html": [
       "<div>\n",
       "<style scoped>\n",
       "    .dataframe tbody tr th:only-of-type {\n",
       "        vertical-align: middle;\n",
       "    }\n",
       "\n",
       "    .dataframe tbody tr th {\n",
       "        vertical-align: top;\n",
       "    }\n",
       "\n",
       "    .dataframe thead th {\n",
       "        text-align: right;\n",
       "    }\n",
       "</style>\n",
       "<table border=\"1\" class=\"dataframe\">\n",
       "  <thead>\n",
       "    <tr style=\"text-align: right;\">\n",
       "      <th></th>\n",
       "      <th></th>\n",
       "      <th>timestamp</th>\n",
       "      <th>duration</th>\n",
       "      <th>training_speed</th>\n",
       "      <th>epochs</th>\n",
       "      <th>iterations</th>\n",
       "      <th>samples</th>\n",
       "      <th>training_rmse</th>\n",
       "      <th>training_deviance</th>\n",
       "      <th>training_mae</th>\n",
       "      <th>validation_rmse</th>\n",
       "      <th>validation_deviance</th>\n",
       "      <th>validation_mae</th>\n",
       "    </tr>\n",
       "  </thead>\n",
       "  <tbody>\n",
       "    <tr>\n",
       "      <th>0</th>\n",
       "      <td></td>\n",
       "      <td>2021-08-13 02:29:56</td>\n",
       "      <td>0.000 sec</td>\n",
       "      <td>None</td>\n",
       "      <td>0.0</td>\n",
       "      <td>0</td>\n",
       "      <td>0.0</td>\n",
       "      <td>NaN</td>\n",
       "      <td>NaN</td>\n",
       "      <td>NaN</td>\n",
       "      <td>NaN</td>\n",
       "      <td>NaN</td>\n",
       "      <td>NaN</td>\n",
       "    </tr>\n",
       "    <tr>\n",
       "      <th>1</th>\n",
       "      <td></td>\n",
       "      <td>2021-08-13 02:29:56</td>\n",
       "      <td>0.554 sec</td>\n",
       "      <td>3222 obs/sec</td>\n",
       "      <td>1.0</td>\n",
       "      <td>1</td>\n",
       "      <td>1276.0</td>\n",
       "      <td>0.478909</td>\n",
       "      <td>0.229354</td>\n",
       "      <td>0.385200</td>\n",
       "      <td>0.469010</td>\n",
       "      <td>0.219970</td>\n",
       "      <td>0.386216</td>\n",
       "    </tr>\n",
       "    <tr>\n",
       "      <th>2</th>\n",
       "      <td></td>\n",
       "      <td>2021-08-13 02:29:59</td>\n",
       "      <td>3.498 sec</td>\n",
       "      <td>3976 obs/sec</td>\n",
       "      <td>10.0</td>\n",
       "      <td>10</td>\n",
       "      <td>12760.0</td>\n",
       "      <td>0.449333</td>\n",
       "      <td>0.201900</td>\n",
       "      <td>0.355606</td>\n",
       "      <td>0.500892</td>\n",
       "      <td>0.250892</td>\n",
       "      <td>0.392566</td>\n",
       "    </tr>\n",
       "    <tr>\n",
       "      <th>3</th>\n",
       "      <td></td>\n",
       "      <td>2021-08-13 02:29:59</td>\n",
       "      <td>3.643 sec</td>\n",
       "      <td>3963 obs/sec</td>\n",
       "      <td>10.0</td>\n",
       "      <td>10</td>\n",
       "      <td>12760.0</td>\n",
       "      <td>0.478909</td>\n",
       "      <td>0.229354</td>\n",
       "      <td>0.385200</td>\n",
       "      <td>0.469010</td>\n",
       "      <td>0.219970</td>\n",
       "      <td>0.386216</td>\n",
       "    </tr>\n",
       "  </tbody>\n",
       "</table>\n",
       "</div>"
      ],
      "text/plain": [
       "               timestamp    duration training_speed  epochs  iterations  \\\n",
       "0    2021-08-13 02:29:56   0.000 sec           None     0.0           0   \n",
       "1    2021-08-13 02:29:56   0.554 sec   3222 obs/sec     1.0           1   \n",
       "2    2021-08-13 02:29:59   3.498 sec   3976 obs/sec    10.0          10   \n",
       "3    2021-08-13 02:29:59   3.643 sec   3963 obs/sec    10.0          10   \n",
       "\n",
       "   samples  training_rmse  training_deviance  training_mae  validation_rmse  \\\n",
       "0      0.0            NaN                NaN           NaN              NaN   \n",
       "1   1276.0       0.478909           0.229354      0.385200         0.469010   \n",
       "2  12760.0       0.449333           0.201900      0.355606         0.500892   \n",
       "3  12760.0       0.478909           0.229354      0.385200         0.469010   \n",
       "\n",
       "   validation_deviance  validation_mae  \n",
       "0                  NaN             NaN  \n",
       "1             0.219970        0.386216  \n",
       "2             0.250892        0.392566  \n",
       "3             0.219970        0.386216  "
      ]
     },
     "execution_count": 12,
     "metadata": {},
     "output_type": "execute_result"
    }
   ],
   "source": [
    "dl.scoring_history()"
   ]
  },
  {
   "cell_type": "code",
   "execution_count": 13,
   "id": "391462df",
   "metadata": {},
   "outputs": [
    {
     "name": "stdout",
     "output_type": "stream",
     "text": [
      "\n",
      "ModelMetricsRegression: deeplearning\n",
      "** Reported on test data. **\n",
      "\n",
      "MSE: 0.22935427506444606\n",
      "RMSE: 0.47890946437134235\n",
      "MAE: 0.3852000535532169\n",
      "RMSLE: 0.11885485400053404\n",
      "Mean Residual Deviance: 0.22935427506444606\n"
     ]
    },
    {
     "data": {
      "text/plain": []
     },
     "execution_count": 13,
     "metadata": {},
     "output_type": "execute_result"
    }
   ],
   "source": [
    "perf_train"
   ]
  },
  {
   "cell_type": "code",
   "execution_count": 14,
   "id": "d5048c2a",
   "metadata": {},
   "outputs": [
    {
     "name": "stdout",
     "output_type": "stream",
     "text": [
      "\n",
      "ModelMetricsRegression: deeplearning\n",
      "** Reported on test data. **\n",
      "\n",
      "MSE: 0.21997009814241808\n",
      "RMSE: 0.4690096994118758\n",
      "MAE: 0.386216223750279\n",
      "RMSLE: 0.11673122743650532\n",
      "Mean Residual Deviance: 0.21997009814241808\n"
     ]
    },
    {
     "data": {
      "text/plain": []
     },
     "execution_count": 14,
     "metadata": {},
     "output_type": "execute_result"
    }
   ],
   "source": [
    "perf_test"
   ]
  },
  {
   "cell_type": "code",
   "execution_count": 15,
   "id": "12f3c319",
   "metadata": {},
   "outputs": [
    {
     "name": "stdout",
     "output_type": "stream",
     "text": [
      "\n",
      "ModelMetricsRegression: deeplearning\n",
      "** Reported on test data. **\n",
      "\n",
      "MSE: 0.20328184322399315\n",
      "RMSE: 0.4508678777912584\n",
      "MAE: 0.36578662847753873\n",
      "RMSLE: 0.11224947937968141\n",
      "Mean Residual Deviance: 0.20328184322399315\n"
     ]
    },
    {
     "data": {
      "text/plain": []
     },
     "execution_count": 15,
     "metadata": {},
     "output_type": "execute_result"
    }
   ],
   "source": [
    "perf_valid"
   ]
  },
  {
   "cell_type": "code",
   "execution_count": 16,
   "id": "7d6af901",
   "metadata": {},
   "outputs": [
    {
     "name": "stdout",
     "output_type": "stream",
     "text": [
      "deeplearning Model Build progress: |██████████████████████████████████████| 100%\n",
      "Time Taken =  8.82381820678711  secs\n"
     ]
    }
   ],
   "source": [
    "#Tuning\n",
    "start2 = time()\n",
    "dl_tuned = H2ODeepLearningEstimator(epochs = 50,hidden=[64,64,64,64],distribution='gaussian',\n",
    "                                    adaptive_rate=True,\n",
    "                                    score_training_samples=50,\n",
    "                                    activation = \"MaxoutWithDropout\",seed=1234)\n",
    "dl_tuned.train(training_frame = train,x = x_cols,y=y_col,validation_frame=test)\n",
    "print(\"Time Taken = \",time()-start2,\" secs\")\n",
    "perf_train_v2 = dl_tuned.model_performance(train)\n",
    "perf_test_v2 = dl_tuned.model_performance(test)\n",
    "perf_valid_v2 = dl_tuned.model_performance(valid)"
   ]
  },
  {
   "cell_type": "code",
   "execution_count": 17,
   "id": "32636654",
   "metadata": {},
   "outputs": [
    {
     "data": {
      "text/html": [
       "<div>\n",
       "<style scoped>\n",
       "    .dataframe tbody tr th:only-of-type {\n",
       "        vertical-align: middle;\n",
       "    }\n",
       "\n",
       "    .dataframe tbody tr th {\n",
       "        vertical-align: top;\n",
       "    }\n",
       "\n",
       "    .dataframe thead th {\n",
       "        text-align: right;\n",
       "    }\n",
       "</style>\n",
       "<table border=\"1\" class=\"dataframe\">\n",
       "  <thead>\n",
       "    <tr style=\"text-align: right;\">\n",
       "      <th></th>\n",
       "      <th></th>\n",
       "      <th>timestamp</th>\n",
       "      <th>duration</th>\n",
       "      <th>training_speed</th>\n",
       "      <th>epochs</th>\n",
       "      <th>iterations</th>\n",
       "      <th>samples</th>\n",
       "      <th>training_rmse</th>\n",
       "      <th>training_deviance</th>\n",
       "      <th>training_mae</th>\n",
       "      <th>validation_rmse</th>\n",
       "      <th>validation_deviance</th>\n",
       "      <th>validation_mae</th>\n",
       "    </tr>\n",
       "  </thead>\n",
       "  <tbody>\n",
       "    <tr>\n",
       "      <th>0</th>\n",
       "      <td></td>\n",
       "      <td>2021-08-13 02:30:23</td>\n",
       "      <td>0.000 sec</td>\n",
       "      <td>None</td>\n",
       "      <td>0.0</td>\n",
       "      <td>0</td>\n",
       "      <td>0.0</td>\n",
       "      <td>NaN</td>\n",
       "      <td>NaN</td>\n",
       "      <td>NaN</td>\n",
       "      <td>NaN</td>\n",
       "      <td>NaN</td>\n",
       "      <td>NaN</td>\n",
       "    </tr>\n",
       "    <tr>\n",
       "      <th>1</th>\n",
       "      <td></td>\n",
       "      <td>2021-08-13 02:30:24</td>\n",
       "      <td>1.331 sec</td>\n",
       "      <td>5216 obs/sec</td>\n",
       "      <td>5.0</td>\n",
       "      <td>1</td>\n",
       "      <td>6380.0</td>\n",
       "      <td>0.446914</td>\n",
       "      <td>0.199732</td>\n",
       "      <td>0.366826</td>\n",
       "      <td>0.471130</td>\n",
       "      <td>0.221964</td>\n",
       "      <td>0.382119</td>\n",
       "    </tr>\n",
       "    <tr>\n",
       "      <th>2</th>\n",
       "      <td></td>\n",
       "      <td>2021-08-13 02:30:30</td>\n",
       "      <td>6.944 sec</td>\n",
       "      <td>7523 obs/sec</td>\n",
       "      <td>40.0</td>\n",
       "      <td>8</td>\n",
       "      <td>51040.0</td>\n",
       "      <td>0.421889</td>\n",
       "      <td>0.177990</td>\n",
       "      <td>0.353723</td>\n",
       "      <td>0.464446</td>\n",
       "      <td>0.215710</td>\n",
       "      <td>0.375374</td>\n",
       "    </tr>\n",
       "    <tr>\n",
       "      <th>3</th>\n",
       "      <td></td>\n",
       "      <td>2021-08-13 02:30:32</td>\n",
       "      <td>8.701 sec</td>\n",
       "      <td>7503 obs/sec</td>\n",
       "      <td>50.0</td>\n",
       "      <td>10</td>\n",
       "      <td>63800.0</td>\n",
       "      <td>0.407085</td>\n",
       "      <td>0.165718</td>\n",
       "      <td>0.340480</td>\n",
       "      <td>0.446158</td>\n",
       "      <td>0.199057</td>\n",
       "      <td>0.362531</td>\n",
       "    </tr>\n",
       "  </tbody>\n",
       "</table>\n",
       "</div>"
      ],
      "text/plain": [
       "               timestamp    duration training_speed  epochs  iterations  \\\n",
       "0    2021-08-13 02:30:23   0.000 sec           None     0.0           0   \n",
       "1    2021-08-13 02:30:24   1.331 sec   5216 obs/sec     5.0           1   \n",
       "2    2021-08-13 02:30:30   6.944 sec   7523 obs/sec    40.0           8   \n",
       "3    2021-08-13 02:30:32   8.701 sec   7503 obs/sec    50.0          10   \n",
       "\n",
       "   samples  training_rmse  training_deviance  training_mae  validation_rmse  \\\n",
       "0      0.0            NaN                NaN           NaN              NaN   \n",
       "1   6380.0       0.446914           0.199732      0.366826         0.471130   \n",
       "2  51040.0       0.421889           0.177990      0.353723         0.464446   \n",
       "3  63800.0       0.407085           0.165718      0.340480         0.446158   \n",
       "\n",
       "   validation_deviance  validation_mae  \n",
       "0                  NaN             NaN  \n",
       "1             0.221964        0.382119  \n",
       "2             0.215710        0.375374  \n",
       "3             0.199057        0.362531  "
      ]
     },
     "execution_count": 17,
     "metadata": {},
     "output_type": "execute_result"
    }
   ],
   "source": [
    "dl_tuned.scoring_history()"
   ]
  },
  {
   "cell_type": "code",
   "execution_count": 18,
   "id": "6d61c34d",
   "metadata": {},
   "outputs": [
    {
     "name": "stdout",
     "output_type": "stream",
     "text": [
      "\n",
      "ModelMetricsRegression: deeplearning\n",
      "** Reported on test data. **\n",
      "\n",
      "MSE: 0.19411645502353408\n",
      "RMSE: 0.44058648983319276\n",
      "MAE: 0.35260849849550135\n",
      "RMSLE: 0.1122210054550642\n",
      "Mean Residual Deviance: 0.19411645502353408\n"
     ]
    },
    {
     "data": {
      "text/plain": []
     },
     "execution_count": 18,
     "metadata": {},
     "output_type": "execute_result"
    }
   ],
   "source": [
    "perf_train_v2"
   ]
  },
  {
   "cell_type": "code",
   "execution_count": 19,
   "id": "192d1133",
   "metadata": {},
   "outputs": [
    {
     "name": "stdout",
     "output_type": "stream",
     "text": [
      "\n",
      "ModelMetricsRegression: deeplearning\n",
      "** Reported on test data. **\n",
      "\n",
      "MSE: 0.19905678085221287\n",
      "RMSE: 0.446157798152417\n",
      "MAE: 0.36253069218817846\n",
      "RMSLE: 0.11319528519499306\n",
      "Mean Residual Deviance: 0.19905678085221287\n"
     ]
    },
    {
     "data": {
      "text/plain": []
     },
     "execution_count": 19,
     "metadata": {},
     "output_type": "execute_result"
    }
   ],
   "source": [
    "perf_test_v2"
   ]
  },
  {
   "cell_type": "code",
   "execution_count": 20,
   "id": "a48ca7a6",
   "metadata": {},
   "outputs": [
    {
     "name": "stdout",
     "output_type": "stream",
     "text": [
      "\n",
      "ModelMetricsRegression: deeplearning\n",
      "** Reported on test data. **\n",
      "\n",
      "MSE: 0.18053333867480648\n",
      "RMSE: 0.424892149462433\n",
      "MAE: 0.3387604151202593\n",
      "RMSLE: 0.10832749813639425\n",
      "Mean Residual Deviance: 0.18053333867480648\n"
     ]
    },
    {
     "data": {
      "text/plain": []
     },
     "execution_count": 20,
     "metadata": {},
     "output_type": "execute_result"
    }
   ],
   "source": [
    "perf_valid_v2"
   ]
  },
  {
   "cell_type": "code",
   "execution_count": 21,
   "id": "b2549215",
   "metadata": {},
   "outputs": [],
   "source": [
    "#Save models\n",
    "# path = r\".\\.\"\n",
    "# 1. Baseline model\n",
    "baseline_model = h2o.save_model(dl, force=True)\n",
    "#2. Tuned model\n",
    "tuned_model = h2o.save_model(dl_tuned, force=True)"
   ]
  },
  {
   "cell_type": "code",
   "execution_count": null,
   "metadata": {},
   "outputs": [],
   "source": []
  }
 ],
 "metadata": {
  "kernelspec": {
   "display_name": "Python 3",
   "language": "python",
   "name": "python3"
  },
  "language_info": {
   "codemirror_mode": {
    "name": "ipython",
    "version": 3
   },
   "file_extension": ".py",
   "mimetype": "text/x-python",
   "name": "python",
   "nbconvert_exporter": "python",
   "pygments_lexer": "ipython3",
   "version": "3.7.6"
  }
 },
 "nbformat": 4,
 "nbformat_minor": 5
}
