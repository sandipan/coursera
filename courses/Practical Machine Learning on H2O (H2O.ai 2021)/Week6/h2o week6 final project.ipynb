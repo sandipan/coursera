{
 "cells": [
  {
   "cell_type": "code",
   "execution_count": 1,
   "metadata": {},
   "outputs": [],
   "source": [
    "import h2o\n",
    "import numpy as np\n",
    "import pandas as pd\n",
    "import matplotlib.pyplot as plt"
   ]
  },
  {
   "cell_type": "code",
   "execution_count": 2,
   "metadata": {},
   "outputs": [
    {
     "name": "stdout",
     "output_type": "stream",
     "text": [
      "Checking whether there is an H2O instance running at http://localhost:54321. connected.\n",
      "Warning: Your H2O cluster version is too old (4 years and 10 days)! Please download and install the latest version from http://h2o.ai/download/\n"
     ]
    },
    {
     "data": {
      "text/html": [
       "<div style=\"overflow:auto\"><table style=\"width:50%\"><tr><td>H2O cluster uptime:</td>\n",
       "<td>8 hours 12 mins</td></tr>\n",
       "<tr><td>H2O cluster version:</td>\n",
       "<td>3.13.0.3978</td></tr>\n",
       "<tr><td>H2O cluster version age:</td>\n",
       "<td>4 years and 10 days !!!</td></tr>\n",
       "<tr><td>H2O cluster name:</td>\n",
       "<td>H2O_from_python_Sandipan_Dey_xdrgjv</td></tr>\n",
       "<tr><td>H2O cluster total nodes:</td>\n",
       "<td>1</td></tr>\n",
       "<tr><td>H2O cluster free memory:</td>\n",
       "<td>1.868 Gb</td></tr>\n",
       "<tr><td>H2O cluster total cores:</td>\n",
       "<td>4</td></tr>\n",
       "<tr><td>H2O cluster allowed cores:</td>\n",
       "<td>4</td></tr>\n",
       "<tr><td>H2O cluster status:</td>\n",
       "<td>locked, healthy</td></tr>\n",
       "<tr><td>H2O connection url:</td>\n",
       "<td>http://localhost:54321</td></tr>\n",
       "<tr><td>H2O connection proxy:</td>\n",
       "<td>None</td></tr>\n",
       "<tr><td>H2O internal security:</td>\n",
       "<td>False</td></tr>\n",
       "<tr><td>H2O API Extensions:</td>\n",
       "<td>Algos, AutoML, Core V3, Core V4</td></tr>\n",
       "<tr><td>Python version:</td>\n",
       "<td>3.7.6 final</td></tr></table></div>"
      ],
      "text/plain": [
       "--------------------------  -----------------------------------\n",
       "H2O cluster uptime:         8 hours 12 mins\n",
       "H2O cluster version:        3.13.0.3978\n",
       "H2O cluster version age:    4 years and 10 days !!!\n",
       "H2O cluster name:           H2O_from_python_Sandipan_Dey_xdrgjv\n",
       "H2O cluster total nodes:    1\n",
       "H2O cluster free memory:    1.868 Gb\n",
       "H2O cluster total cores:    4\n",
       "H2O cluster allowed cores:  4\n",
       "H2O cluster status:         locked, healthy\n",
       "H2O connection url:         http://localhost:54321\n",
       "H2O connection proxy:\n",
       "H2O internal security:      False\n",
       "H2O API Extensions:         Algos, AutoML, Core V3, Core V4\n",
       "Python version:             3.7.6 final\n",
       "--------------------------  -----------------------------------"
      ]
     },
     "metadata": {},
     "output_type": "display_data"
    }
   ],
   "source": [
    "h2o.init()"
   ]
  },
  {
   "cell_type": "code",
   "execution_count": 3,
   "metadata": {},
   "outputs": [
    {
     "name": "stderr",
     "output_type": "stream",
     "text": [
      "C:\\Users\\Sandipan.Dey\\anaconda3\\lib\\site-packages\\h2o\\utils\\shared_utils.py:162: FutureWarning: Method .as_matrix will be removed in a future version. Use .values instead.\n",
      "  data = _handle_python_lists(python_obj.as_matrix().tolist(), -1)[1]\n"
     ]
    },
    {
     "name": "stdout",
     "output_type": "stream",
     "text": [
      "Parse progress: |█████████████████████████████████████████████████████████| 100%\n"
     ]
    },
    {
     "data": {
      "text/html": [
       "<table>\n",
       "<thead>\n",
       "<tr><th style=\"text-align: right;\">         id</th><th>date               </th><th style=\"text-align: right;\">         price</th><th style=\"text-align: right;\">  bedrooms</th><th style=\"text-align: right;\">  bathrooms</th><th style=\"text-align: right;\">  sqft_living</th><th style=\"text-align: right;\">  sqft_lot</th><th style=\"text-align: right;\">  floors</th><th style=\"text-align: right;\">  waterfront</th><th style=\"text-align: right;\">  view</th><th style=\"text-align: right;\">  condition</th><th style=\"text-align: right;\">  grade</th><th style=\"text-align: right;\">  sqft_above</th><th style=\"text-align: right;\">  sqft_basement</th><th style=\"text-align: right;\">  yr_built</th><th style=\"text-align: right;\">  yr_renovated</th><th style=\"text-align: right;\">  zipcode</th><th style=\"text-align: right;\">    lat</th><th style=\"text-align: right;\">    long</th><th style=\"text-align: right;\">  sqft_living15</th><th style=\"text-align: right;\">  sqft_lot15</th><th style=\"text-align: right;\">  month</th><th style=\"text-align: right;\">  year</th></tr>\n",
       "</thead>\n",
       "<tbody>\n",
       "<tr><td style=\"text-align: right;\">7.1293e+09 </td><td>2014-10-13 00:00:00</td><td style=\"text-align: right;\">221900        </td><td style=\"text-align: right;\">         3</td><td style=\"text-align: right;\">       1   </td><td style=\"text-align: right;\">         1180</td><td style=\"text-align: right;\">      5650</td><td style=\"text-align: right;\">       1</td><td style=\"text-align: right;\">           0</td><td style=\"text-align: right;\">     0</td><td style=\"text-align: right;\">          3</td><td style=\"text-align: right;\">      7</td><td style=\"text-align: right;\">        1180</td><td style=\"text-align: right;\">              0</td><td style=\"text-align: right;\">      1955</td><td style=\"text-align: right;\">             0</td><td style=\"text-align: right;\">    98178</td><td style=\"text-align: right;\">47.5112</td><td style=\"text-align: right;\">-122.257</td><td style=\"text-align: right;\">           1340</td><td style=\"text-align: right;\">        5650</td><td style=\"text-align: right;\">     10</td><td style=\"text-align: right;\">  2014</td></tr>\n",
       "<tr><td style=\"text-align: right;\">6.4141e+09 </td><td>2014-12-09 00:00:00</td><td style=\"text-align: right;\">538000        </td><td style=\"text-align: right;\">         3</td><td style=\"text-align: right;\">       2.25</td><td style=\"text-align: right;\">         2570</td><td style=\"text-align: right;\">      7242</td><td style=\"text-align: right;\">       2</td><td style=\"text-align: right;\">           0</td><td style=\"text-align: right;\">     0</td><td style=\"text-align: right;\">          3</td><td style=\"text-align: right;\">      7</td><td style=\"text-align: right;\">        2170</td><td style=\"text-align: right;\">            400</td><td style=\"text-align: right;\">      1951</td><td style=\"text-align: right;\">          1991</td><td style=\"text-align: right;\">    98125</td><td style=\"text-align: right;\">47.721 </td><td style=\"text-align: right;\">-122.319</td><td style=\"text-align: right;\">           1690</td><td style=\"text-align: right;\">        7639</td><td style=\"text-align: right;\">     12</td><td style=\"text-align: right;\">  2014</td></tr>\n",
       "<tr><td style=\"text-align: right;\">5.6315e+09 </td><td>2015-02-25 00:00:00</td><td style=\"text-align: right;\">180000        </td><td style=\"text-align: right;\">         2</td><td style=\"text-align: right;\">       1   </td><td style=\"text-align: right;\">          770</td><td style=\"text-align: right;\">     10000</td><td style=\"text-align: right;\">       1</td><td style=\"text-align: right;\">           0</td><td style=\"text-align: right;\">     0</td><td style=\"text-align: right;\">          3</td><td style=\"text-align: right;\">      6</td><td style=\"text-align: right;\">         770</td><td style=\"text-align: right;\">              0</td><td style=\"text-align: right;\">      1933</td><td style=\"text-align: right;\">             0</td><td style=\"text-align: right;\">    98028</td><td style=\"text-align: right;\">47.7379</td><td style=\"text-align: right;\">-122.233</td><td style=\"text-align: right;\">           2720</td><td style=\"text-align: right;\">        8062</td><td style=\"text-align: right;\">      2</td><td style=\"text-align: right;\">  2015</td></tr>\n",
       "<tr><td style=\"text-align: right;\">2.4872e+09 </td><td>2014-12-09 00:00:00</td><td style=\"text-align: right;\">604000        </td><td style=\"text-align: right;\">         4</td><td style=\"text-align: right;\">       3   </td><td style=\"text-align: right;\">         1960</td><td style=\"text-align: right;\">      5000</td><td style=\"text-align: right;\">       1</td><td style=\"text-align: right;\">           0</td><td style=\"text-align: right;\">     0</td><td style=\"text-align: right;\">          5</td><td style=\"text-align: right;\">      7</td><td style=\"text-align: right;\">        1050</td><td style=\"text-align: right;\">            910</td><td style=\"text-align: right;\">      1965</td><td style=\"text-align: right;\">             0</td><td style=\"text-align: right;\">    98136</td><td style=\"text-align: right;\">47.5208</td><td style=\"text-align: right;\">-122.393</td><td style=\"text-align: right;\">           1360</td><td style=\"text-align: right;\">        5000</td><td style=\"text-align: right;\">     12</td><td style=\"text-align: right;\">  2014</td></tr>\n",
       "<tr><td style=\"text-align: right;\">1.9544e+09 </td><td>2015-02-18 00:00:00</td><td style=\"text-align: right;\">510000        </td><td style=\"text-align: right;\">         3</td><td style=\"text-align: right;\">       2   </td><td style=\"text-align: right;\">         1680</td><td style=\"text-align: right;\">      8080</td><td style=\"text-align: right;\">       1</td><td style=\"text-align: right;\">           0</td><td style=\"text-align: right;\">     0</td><td style=\"text-align: right;\">          3</td><td style=\"text-align: right;\">      8</td><td style=\"text-align: right;\">        1680</td><td style=\"text-align: right;\">              0</td><td style=\"text-align: right;\">      1987</td><td style=\"text-align: right;\">             0</td><td style=\"text-align: right;\">    98074</td><td style=\"text-align: right;\">47.6168</td><td style=\"text-align: right;\">-122.045</td><td style=\"text-align: right;\">           1800</td><td style=\"text-align: right;\">        7503</td><td style=\"text-align: right;\">      2</td><td style=\"text-align: right;\">  2015</td></tr>\n",
       "<tr><td style=\"text-align: right;\">7.23755e+09</td><td>2014-05-12 00:00:00</td><td style=\"text-align: right;\">     1.225e+06</td><td style=\"text-align: right;\">         4</td><td style=\"text-align: right;\">       4.5 </td><td style=\"text-align: right;\">         5420</td><td style=\"text-align: right;\">    101930</td><td style=\"text-align: right;\">       1</td><td style=\"text-align: right;\">           0</td><td style=\"text-align: right;\">     0</td><td style=\"text-align: right;\">          3</td><td style=\"text-align: right;\">     11</td><td style=\"text-align: right;\">        3890</td><td style=\"text-align: right;\">           1530</td><td style=\"text-align: right;\">      2001</td><td style=\"text-align: right;\">             0</td><td style=\"text-align: right;\">    98053</td><td style=\"text-align: right;\">47.6561</td><td style=\"text-align: right;\">-122.005</td><td style=\"text-align: right;\">           4760</td><td style=\"text-align: right;\">      101930</td><td style=\"text-align: right;\">      5</td><td style=\"text-align: right;\">  2014</td></tr>\n",
       "<tr><td style=\"text-align: right;\">1.3214e+09 </td><td>2014-06-27 00:00:00</td><td style=\"text-align: right;\">257500        </td><td style=\"text-align: right;\">         3</td><td style=\"text-align: right;\">       2.25</td><td style=\"text-align: right;\">         1715</td><td style=\"text-align: right;\">      6819</td><td style=\"text-align: right;\">       2</td><td style=\"text-align: right;\">           0</td><td style=\"text-align: right;\">     0</td><td style=\"text-align: right;\">          3</td><td style=\"text-align: right;\">      7</td><td style=\"text-align: right;\">        1715</td><td style=\"text-align: right;\">              0</td><td style=\"text-align: right;\">      1995</td><td style=\"text-align: right;\">             0</td><td style=\"text-align: right;\">    98003</td><td style=\"text-align: right;\">47.3097</td><td style=\"text-align: right;\">-122.327</td><td style=\"text-align: right;\">           2238</td><td style=\"text-align: right;\">        6819</td><td style=\"text-align: right;\">      6</td><td style=\"text-align: right;\">  2014</td></tr>\n",
       "<tr><td style=\"text-align: right;\">2.008e+09  </td><td>2015-01-15 00:00:00</td><td style=\"text-align: right;\">291850        </td><td style=\"text-align: right;\">         3</td><td style=\"text-align: right;\">       1.5 </td><td style=\"text-align: right;\">         1060</td><td style=\"text-align: right;\">      9711</td><td style=\"text-align: right;\">       1</td><td style=\"text-align: right;\">           0</td><td style=\"text-align: right;\">     0</td><td style=\"text-align: right;\">          3</td><td style=\"text-align: right;\">      7</td><td style=\"text-align: right;\">        1060</td><td style=\"text-align: right;\">              0</td><td style=\"text-align: right;\">      1963</td><td style=\"text-align: right;\">             0</td><td style=\"text-align: right;\">    98198</td><td style=\"text-align: right;\">47.4095</td><td style=\"text-align: right;\">-122.315</td><td style=\"text-align: right;\">           1650</td><td style=\"text-align: right;\">        9711</td><td style=\"text-align: right;\">      1</td><td style=\"text-align: right;\">  2015</td></tr>\n",
       "<tr><td style=\"text-align: right;\">2.4146e+09 </td><td>2015-04-15 00:00:00</td><td style=\"text-align: right;\">229500        </td><td style=\"text-align: right;\">         3</td><td style=\"text-align: right;\">       1   </td><td style=\"text-align: right;\">         1780</td><td style=\"text-align: right;\">      7470</td><td style=\"text-align: right;\">       1</td><td style=\"text-align: right;\">           0</td><td style=\"text-align: right;\">     0</td><td style=\"text-align: right;\">          3</td><td style=\"text-align: right;\">      7</td><td style=\"text-align: right;\">        1050</td><td style=\"text-align: right;\">            730</td><td style=\"text-align: right;\">      1960</td><td style=\"text-align: right;\">             0</td><td style=\"text-align: right;\">    98146</td><td style=\"text-align: right;\">47.5123</td><td style=\"text-align: right;\">-122.337</td><td style=\"text-align: right;\">           1780</td><td style=\"text-align: right;\">        8113</td><td style=\"text-align: right;\">      4</td><td style=\"text-align: right;\">  2015</td></tr>\n",
       "<tr><td style=\"text-align: right;\">3.7935e+09 </td><td>2015-03-12 00:00:00</td><td style=\"text-align: right;\">323000        </td><td style=\"text-align: right;\">         3</td><td style=\"text-align: right;\">       2.5 </td><td style=\"text-align: right;\">         1890</td><td style=\"text-align: right;\">      6560</td><td style=\"text-align: right;\">       2</td><td style=\"text-align: right;\">           0</td><td style=\"text-align: right;\">     0</td><td style=\"text-align: right;\">          3</td><td style=\"text-align: right;\">      7</td><td style=\"text-align: right;\">        1890</td><td style=\"text-align: right;\">              0</td><td style=\"text-align: right;\">      2003</td><td style=\"text-align: right;\">             0</td><td style=\"text-align: right;\">    98038</td><td style=\"text-align: right;\">47.3684</td><td style=\"text-align: right;\">-122.031</td><td style=\"text-align: right;\">           2390</td><td style=\"text-align: right;\">        7570</td><td style=\"text-align: right;\">      3</td><td style=\"text-align: right;\">  2015</td></tr>\n",
       "</tbody>\n",
       "</table>"
      ]
     },
     "metadata": {},
     "output_type": "display_data"
    },
    {
     "data": {
      "text/plain": []
     },
     "execution_count": 3,
     "metadata": {},
     "output_type": "execute_result"
    }
   ],
   "source": [
    "#Select project 1\n",
    "df_load = pd.read_csv('http://coursera.h2o.ai/house_data.3487.csv')\n",
    "df_load['date'] = pd.to_datetime(df_load['date'])\n",
    "df_load['month'] =  df_load['date'].dt.month\n",
    "df_load['year'] =  df_load['date'].dt.year\n",
    "df = h2o.H2OFrame(df_load)\n",
    "df.head()"
   ]
  },
  {
   "cell_type": "code",
   "execution_count": 4,
   "metadata": {},
   "outputs": [],
   "source": [
    "train, test = df.split_frame(\n",
    "    ratios = [0.9],\n",
    "    destination_frames = [\"df_train\", \"df_test\"],\n",
    "    seed  =123)"
   ]
  },
  {
   "cell_type": "code",
   "execution_count": 5,
   "metadata": {},
   "outputs": [
    {
     "name": "stdout",
     "output_type": "stream",
     "text": [
      "%d/%d/%d (19462, 2151)\n"
     ]
    }
   ],
   "source": [
    "print(\"%d/%d/%d\", (train.nrows, test.nrows))"
   ]
  },
  {
   "cell_type": "code",
   "execution_count": 6,
   "metadata": {},
   "outputs": [
    {
     "data": {
      "text/plain": [
       "'\\ntrain, valid = train.split_frame(\\n    ratios = [0.89],\\n    destination_frames = [\"df_train2\", \"df_valid\"],\\n    seed  =123)\\n'"
      ]
     },
     "execution_count": 6,
     "metadata": {},
     "output_type": "execute_result"
    }
   ],
   "source": [
    "'''\n",
    "train, valid = train.split_frame(\n",
    "    ratios = [0.89],\n",
    "    destination_frames = [\"df_train2\", \"df_valid\"],\n",
    "    seed  =123)\n",
    "'''"
   ]
  },
  {
   "cell_type": "code",
   "execution_count": 7,
   "metadata": {},
   "outputs": [
    {
     "data": {
      "text/plain": [
       "'\\nprint(\"%d/%d/%d\", (train.nrows, valid.nrows, test.nrows))\\n'"
      ]
     },
     "execution_count": 7,
     "metadata": {},
     "output_type": "execute_result"
    }
   ],
   "source": [
    "'''\n",
    "print(\"%d/%d/%d\", (train.nrows, valid.nrows, test.nrows))\n",
    "'''"
   ]
  },
  {
   "cell_type": "code",
   "execution_count": 8,
   "metadata": {},
   "outputs": [],
   "source": [
    "y = \"price\"\n",
    "ignoreFields = [y]\n",
    "x = [i for i in train.names if i not in ignoreFields]"
   ]
  },
  {
   "cell_type": "code",
   "execution_count": 9,
   "metadata": {},
   "outputs": [
    {
     "name": "stdout",
     "output_type": "stream",
     "text": [
      "gbm Model Build progress: |███████████████████████████████████████████████| 100%\n",
      "Model Details\n",
      "=============\n",
      "H2OGradientBoostingEstimator :  Gradient Boosting Machine\n",
      "Model Key:  GBM_model_python_1628864392402_56\n",
      "\n",
      "\n",
      "ModelMetricsRegression: gbm\n",
      "** Reported on train data. **\n",
      "\n",
      "MSE: 11450417449.256748\n",
      "RMSE: 107006.62338966102\n",
      "MAE: 67247.27997347395\n",
      "RMSLE: 0.17548556254126818\n",
      "Mean Residual Deviance: 11450417449.256748\n",
      "\n",
      "ModelMetricsRegression: gbm\n",
      "** Reported on validation data. **\n",
      "\n",
      "MSE: 17720891992.10455\n",
      "RMSE: 133119.84071544162\n",
      "MAE: 74445.43813975141\n",
      "RMSLE: 0.18177719770368667\n",
      "Mean Residual Deviance: 17720891992.10455\n",
      "\n",
      "ModelMetricsRegression: gbm\n",
      "** Reported on cross-validation data. **\n",
      "\n",
      "MSE: 16661846616.581255\n",
      "RMSE: 129080.77554996815\n",
      "MAE: 74074.82544133709\n",
      "RMSLE: 0.18593629400806114\n",
      "Mean Residual Deviance: 16661846616.581255\n",
      "Cross-Validation Metrics Summary: \n"
     ]
    },
    {
     "data": {
      "text/html": [
       "<div style=\"overflow:auto\"><table style=\"width:50%\"><tr><td><b></b></td>\n",
       "<td><b>mean</b></td>\n",
       "<td><b>sd</b></td>\n",
       "<td><b>cv_1_valid</b></td>\n",
       "<td><b>cv_2_valid</b></td>\n",
       "<td><b>cv_3_valid</b></td></tr>\n",
       "<tr><td>mae</td>\n",
       "<td>74074.87</td>\n",
       "<td>481.6584</td>\n",
       "<td>73218.41</td>\n",
       "<td>74121.22</td>\n",
       "<td>74884.984</td></tr>\n",
       "<tr><td>mean_residual_deviance</td>\n",
       "<td>16661901300.0000000</td>\n",
       "<td>571582530.0000000</td>\n",
       "<td>15606717400.0000000</td>\n",
       "<td>16808625200.0000000</td>\n",
       "<td>17570361300.0000000</td></tr>\n",
       "<tr><td>mse</td>\n",
       "<td>16661901300.0000000</td>\n",
       "<td>571582530.0000000</td>\n",
       "<td>15606717400.0000000</td>\n",
       "<td>16808625200.0000000</td>\n",
       "<td>17570361300.0000000</td></tr>\n",
       "<tr><td>r2</td>\n",
       "<td>0.8765894</td>\n",
       "<td>0.0035296</td>\n",
       "<td>0.8833985</td>\n",
       "<td>0.8747981</td>\n",
       "<td>0.8715717</td></tr>\n",
       "<tr><td>residual_deviance</td>\n",
       "<td>16661901300.0000000</td>\n",
       "<td>571582530.0000000</td>\n",
       "<td>15606717400.0000000</td>\n",
       "<td>16808625200.0000000</td>\n",
       "<td>17570361300.0000000</td></tr>\n",
       "<tr><td>rmse</td>\n",
       "<td>129042.72</td>\n",
       "<td>2222.2585</td>\n",
       "<td>124926.84</td>\n",
       "<td>129648.08</td>\n",
       "<td>132553.23</td></tr>\n",
       "<tr><td>rmsle</td>\n",
       "<td>0.1859034</td>\n",
       "<td>0.0024801</td>\n",
       "<td>0.1821938</td>\n",
       "<td>0.1849064</td>\n",
       "<td>0.1906099</td></tr></table></div>"
      ],
      "text/plain": [
       "                        mean         sd           cv_1_valid    cv_2_valid    cv_3_valid\n",
       "----------------------  -----------  -----------  ------------  ------------  ------------\n",
       "mae                     74074.9      481.658      73218.4       74121.2       74885\n",
       "mean_residual_deviance  1.66619e+10  5.71583e+08  1.56067e+10   1.68086e+10   1.75704e+10\n",
       "mse                     1.66619e+10  5.71583e+08  1.56067e+10   1.68086e+10   1.75704e+10\n",
       "r2                      0.876589     0.00352964   0.883399      0.874798      0.871572\n",
       "residual_deviance       1.66619e+10  5.71583e+08  1.56067e+10   1.68086e+10   1.75704e+10\n",
       "rmse                    129043       2222.26      124927        129648        132553\n",
       "rmsle                   0.185903     0.00248013   0.182194      0.184906      0.19061"
      ]
     },
     "metadata": {},
     "output_type": "display_data"
    },
    {
     "name": "stdout",
     "output_type": "stream",
     "text": [
      "Scoring History: \n"
     ]
    },
    {
     "data": {
      "text/html": [
       "<div style=\"overflow:auto\"><table style=\"width:50%\"><tr><td><b></b></td>\n",
       "<td><b>timestamp</b></td>\n",
       "<td><b>duration</b></td>\n",
       "<td><b>number_of_trees</b></td>\n",
       "<td><b>training_rmse</b></td>\n",
       "<td><b>training_mae</b></td>\n",
       "<td><b>training_deviance</b></td>\n",
       "<td><b>validation_rmse</b></td>\n",
       "<td><b>validation_mae</b></td>\n",
       "<td><b>validation_deviance</b></td></tr>\n",
       "<tr><td></td>\n",
       "<td>2021-08-14 04:02:29</td>\n",
       "<td> 6.593 sec</td>\n",
       "<td>0.0</td>\n",
       "<td>367396.3298333</td>\n",
       "<td>233426.2553599</td>\n",
       "<td>134980063174.9632874</td>\n",
       "<td>364597.3132844</td>\n",
       "<td>238323.6006897</td>\n",
       "<td>132931200854.2085419</td></tr>\n",
       "<tr><td></td>\n",
       "<td>2021-08-14 04:02:29</td>\n",
       "<td> 6.615 sec</td>\n",
       "<td>1.0</td>\n",
       "<td>340650.7210899</td>\n",
       "<td>215267.5995979</td>\n",
       "<td>116042913779.0572357</td>\n",
       "<td>339488.9864908</td>\n",
       "<td>219825.8689686</td>\n",
       "<td>115252771948.5828552</td></tr>\n",
       "<tr><td></td>\n",
       "<td>2021-08-14 04:02:29</td>\n",
       "<td> 6.633 sec</td>\n",
       "<td>2.0</td>\n",
       "<td>316836.3680564</td>\n",
       "<td>199402.2909660</td>\n",
       "<td>100385284123.1663818</td>\n",
       "<td>317314.3060676</td>\n",
       "<td>203973.0040345</td>\n",
       "<td>100688368835.1924133</td></tr>\n",
       "<tr><td></td>\n",
       "<td>2021-08-14 04:02:29</td>\n",
       "<td> 6.651 sec</td>\n",
       "<td>3.0</td>\n",
       "<td>295437.7357104</td>\n",
       "<td>184698.6548932</td>\n",
       "<td>87283455681.6686859</td>\n",
       "<td>296774.2889341</td>\n",
       "<td>188780.5127509</td>\n",
       "<td>88074978572.3358917</td></tr>\n",
       "<tr><td></td>\n",
       "<td>2021-08-14 04:02:29</td>\n",
       "<td> 6.671 sec</td>\n",
       "<td>4.0</td>\n",
       "<td>276220.7292073</td>\n",
       "<td>172077.8714530</td>\n",
       "<td>76297891243.7910614</td>\n",
       "<td>279215.5313113</td>\n",
       "<td>175879.9623026</td>\n",
       "<td>77961312925.4544220</td></tr>\n",
       "<tr><td>---</td>\n",
       "<td>---</td>\n",
       "<td>---</td>\n",
       "<td>---</td>\n",
       "<td>---</td>\n",
       "<td>---</td>\n",
       "<td>---</td>\n",
       "<td>---</td>\n",
       "<td>---</td>\n",
       "<td>---</td></tr>\n",
       "<tr><td></td>\n",
       "<td>2021-08-14 04:02:30</td>\n",
       "<td> 7.818 sec</td>\n",
       "<td>46.0</td>\n",
       "<td>108488.5006315</td>\n",
       "<td>68086.7776388</td>\n",
       "<td>11769754769.2676620</td>\n",
       "<td>134086.0513659</td>\n",
       "<td>75126.1914826</td>\n",
       "<td>17979069170.8970680</td></tr>\n",
       "<tr><td></td>\n",
       "<td>2021-08-14 04:02:30</td>\n",
       "<td> 7.854 sec</td>\n",
       "<td>47.0</td>\n",
       "<td>108158.0153456</td>\n",
       "<td>67893.8514790</td>\n",
       "<td>11698156283.4916668</td>\n",
       "<td>133932.1422381</td>\n",
       "<td>74983.3004336</td>\n",
       "<td>17937818724.4871902</td></tr>\n",
       "<tr><td></td>\n",
       "<td>2021-08-14 04:02:30</td>\n",
       "<td> 7.890 sec</td>\n",
       "<td>48.0</td>\n",
       "<td>107760.5738633</td>\n",
       "<td>67727.7168858</td>\n",
       "<td>11612341279.3545761</td>\n",
       "<td>133483.3010903</td>\n",
       "<td>74861.7058368</td>\n",
       "<td>17817791669.9729271</td></tr>\n",
       "<tr><td></td>\n",
       "<td>2021-08-14 04:02:30</td>\n",
       "<td> 7.925 sec</td>\n",
       "<td>49.0</td>\n",
       "<td>107404.4280887</td>\n",
       "<td>67479.9267419</td>\n",
       "<td>11535711173.0624638</td>\n",
       "<td>133153.0836566</td>\n",
       "<td>74653.5710268</td>\n",
       "<td>17729743687.2624016</td></tr>\n",
       "<tr><td></td>\n",
       "<td>2021-08-14 04:02:30</td>\n",
       "<td> 7.961 sec</td>\n",
       "<td>50.0</td>\n",
       "<td>107006.6233897</td>\n",
       "<td>67247.2799735</td>\n",
       "<td>11450417449.2567482</td>\n",
       "<td>133119.8407154</td>\n",
       "<td>74445.4381398</td>\n",
       "<td>17720891992.1045494</td></tr></table></div>"
      ],
      "text/plain": [
       "     timestamp            duration    number_of_trees    training_rmse       training_mae        training_deviance    validation_rmse     validation_mae      validation_deviance\n",
       "---  -------------------  ----------  -----------------  ------------------  ------------------  -------------------  ------------------  ------------------  ---------------------\n",
       "     2021-08-14 04:02:29  6.593 sec   0.0                367396.32983327867  233426.25535987684  134980063174.96329   364597.3132844077   238323.60068972426  132931200854.20854\n",
       "     2021-08-14 04:02:29  6.615 sec   1.0                340650.72108988295  215267.59959793443  116042913779.05724   339488.98649084754  219825.86896864796  115252771948.58286\n",
       "     2021-08-14 04:02:29  6.633 sec   2.0                316836.3680563934   199402.29096604922  100385284123.16638   317314.30606764706  203973.00403453546  100688368835.19241\n",
       "     2021-08-14 04:02:29  6.651 sec   3.0                295437.73571036704  184698.6548931893   87283455681.66869    296774.288934092    188780.5127509262   88074978572.33589\n",
       "     2021-08-14 04:02:29  6.671 sec   4.0                276220.7292072611   172077.87145302384  76297891243.79106    279215.5313113051   175879.96230258545  77961312925.45442\n",
       "---  ---                  ---         ---                ---                 ---                 ---                  ---                 ---                 ---\n",
       "     2021-08-14 04:02:30  7.818 sec   46.0               108488.50063148473  68086.77763879612   11769754769.267662   134086.05136589365  75126.19148263079   17979069170.897068\n",
       "     2021-08-14 04:02:30  7.854 sec   47.0               108158.01534556589  67893.85147900396   11698156283.491667   133932.142238102    74983.30043362385   17937818724.48719\n",
       "     2021-08-14 04:02:30  7.890 sec   48.0               107760.57386333174  67727.71688579026   11612341279.354576   133483.30109033463  74861.70583680568   17817791669.972927\n",
       "     2021-08-14 04:02:30  7.925 sec   49.0               107404.42808870807  67479.92674185592   11535711173.062464   133153.08365660332  74653.57102683221   17729743687.2624\n",
       "     2021-08-14 04:02:30  7.961 sec   50.0               107006.62338966102  67247.27997347395   11450417449.256748   133119.84071544162  74445.43813975141   17720891992.10455"
      ]
     },
     "metadata": {},
     "output_type": "display_data"
    },
    {
     "name": "stdout",
     "output_type": "stream",
     "text": [
      "\n",
      "See the whole table with table.as_data_frame()\n",
      "Variable Importances: \n"
     ]
    },
    {
     "data": {
      "text/html": [
       "<div style=\"overflow:auto\"><table style=\"width:50%\"><tr><td><b>variable</b></td>\n",
       "<td><b>relative_importance</b></td>\n",
       "<td><b>scaled_importance</b></td>\n",
       "<td><b>percentage</b></td></tr>\n",
       "<tr><td>grade</td>\n",
       "<td>4248303550070784.0000000</td>\n",
       "<td>1.0</td>\n",
       "<td>0.3357461</td></tr>\n",
       "<tr><td>sqft_living</td>\n",
       "<td>3558860367331328.0000000</td>\n",
       "<td>0.8377133</td>\n",
       "<td>0.2812589</td></tr>\n",
       "<tr><td>lat</td>\n",
       "<td>2060472039768064.0000000</td>\n",
       "<td>0.4850105</td>\n",
       "<td>0.1628404</td></tr>\n",
       "<tr><td>long</td>\n",
       "<td>925237893922816.0000000</td>\n",
       "<td>0.2177900</td>\n",
       "<td>0.0731221</td></tr>\n",
       "<tr><td>waterfront</td>\n",
       "<td>407412779515904.0000000</td>\n",
       "<td>0.0959001</td>\n",
       "<td>0.0321981</td></tr>\n",
       "<tr><td>---</td>\n",
       "<td>---</td>\n",
       "<td>---</td>\n",
       "<td>---</td></tr>\n",
       "<tr><td>floors</td>\n",
       "<td>10834083315712.0000000</td>\n",
       "<td>0.0025502</td>\n",
       "<td>0.0008562</td></tr>\n",
       "<tr><td>yr_renovated</td>\n",
       "<td>9736233680896.0000000</td>\n",
       "<td>0.0022918</td>\n",
       "<td>0.0007695</td></tr>\n",
       "<tr><td>bedrooms</td>\n",
       "<td>7224896258048.0000000</td>\n",
       "<td>0.0017007</td>\n",
       "<td>0.0005710</td></tr>\n",
       "<tr><td>month</td>\n",
       "<td>1137470734336.0000000</td>\n",
       "<td>0.0002677</td>\n",
       "<td>0.0000899</td></tr>\n",
       "<tr><td>year</td>\n",
       "<td>0.0</td>\n",
       "<td>0.0</td>\n",
       "<td>0.0</td></tr></table></div>"
      ],
      "text/plain": [
       "variable      relative_importance    scaled_importance      percentage\n",
       "------------  ---------------------  ---------------------  ---------------------\n",
       "grade         4248303550070784.0     1.0                    0.33574605839731403\n",
       "sqft_living   3558860367331328.0     0.8377132955275833     0.2812589370404104\n",
       "lat           2060472039768064.0     0.4850105496189727     0.16284038031568498\n",
       "long          925237893922816.0      0.21778996792905722    0.0731221232906584\n",
       "waterfront    407412779515904.0      0.09590011041209986    0.03219808407072974\n",
       "---           ---                    ---                    ---\n",
       "floors        10834083315712.0       0.002550214029675795   0.000856224308533179\n",
       "yr_renovated  9736233680896.0        0.0022917933161188016  0.0007694605725481971\n",
       "bedrooms      7224896258048.0        0.0017006544313265047  0.0005709880220137996\n",
       "month         1137470734336.0        0.0002677470479521285  8.989501599744377e-05\n",
       "year          0.0                    0.0                    0.0"
      ]
     },
     "metadata": {},
     "output_type": "display_data"
    },
    {
     "name": "stdout",
     "output_type": "stream",
     "text": [
      "\n",
      "See the whole table with table.as_data_frame()\n"
     ]
    },
    {
     "data": {
      "text/plain": []
     },
     "execution_count": 9,
     "metadata": {},
     "output_type": "execute_result"
    }
   ],
   "source": [
    "from h2o.estimators.gbm import H2OGradientBoostingEstimator\n",
    "m1 = H2OGradientBoostingEstimator(nfolds = 3, fold_assignment = \"Modulo\",\n",
    "                                 keep_cross_validation_predictions = True)\n",
    "m1.train(x,y, train, validation_frame = test)\n",
    "m1"
   ]
  },
  {
   "cell_type": "code",
   "execution_count": 10,
   "metadata": {},
   "outputs": [
    {
     "name": "stdout",
     "output_type": "stream",
     "text": [
      "\n",
      "ModelMetricsRegression: gbm\n",
      "** Reported on test data. **\n",
      "\n",
      "MSE: 17720891992.10455\n",
      "RMSE: 133119.84071544162\n",
      "MAE: 74445.43813975141\n",
      "RMSLE: 0.18177719770368667\n",
      "Mean Residual Deviance: 17720891992.10455\n"
     ]
    },
    {
     "data": {
      "text/plain": []
     },
     "execution_count": 10,
     "metadata": {},
     "output_type": "execute_result"
    }
   ],
   "source": [
    "#Model performance on testing data\n",
    "m1.model_performance(test)"
   ]
  },
  {
   "cell_type": "code",
   "execution_count": 11,
   "metadata": {},
   "outputs": [
    {
     "name": "stdout",
     "output_type": "stream",
     "text": [
      "deeplearning Model Build progress: |██████████████████████████████████████| 100%\n",
      "Model Details\n",
      "=============\n",
      "H2ODeepLearningEstimator :  Deep Learning\n",
      "Model Key:  DeepLearning_model_python_1628864392402_57\n",
      "\n",
      "\n",
      "ModelMetricsRegression: deeplearning\n",
      "** Reported on train data. **\n",
      "\n",
      "MSE: 11474076411.896387\n",
      "RMSE: 107117.1154013045\n",
      "MAE: 66509.94293667236\n",
      "RMSLE: 0.17486326874130692\n",
      "Mean Residual Deviance: 11474076411.896387\n",
      "\n",
      "ModelMetricsRegression: deeplearning\n",
      "** Reported on validation data. **\n",
      "\n",
      "MSE: 14104792807.61289\n",
      "RMSE: 118763.60051637408\n",
      "MAE: 71399.93484515595\n",
      "RMSLE: 0.18208790336271913\n",
      "Mean Residual Deviance: 14104792807.61289\n",
      "\n",
      "ModelMetricsRegression: deeplearning\n",
      "** Reported on cross-validation data. **\n",
      "\n",
      "MSE: 16127799335.206907\n",
      "RMSE: 126995.27288528069\n",
      "MAE: 74438.92023581774\n",
      "RMSLE: 0.1887695191051982\n",
      "Mean Residual Deviance: 16127799335.206907\n",
      "Cross-Validation Metrics Summary: \n"
     ]
    },
    {
     "data": {
      "text/html": [
       "<div style=\"overflow:auto\"><table style=\"width:50%\"><tr><td><b></b></td>\n",
       "<td><b>mean</b></td>\n",
       "<td><b>sd</b></td>\n",
       "<td><b>cv_1_valid</b></td>\n",
       "<td><b>cv_2_valid</b></td>\n",
       "<td><b>cv_3_valid</b></td></tr>\n",
       "<tr><td>mae</td>\n",
       "<td>74438.88</td>\n",
       "<td>351.4121</td>\n",
       "<td>75140.79</td>\n",
       "<td>74056.805</td>\n",
       "<td>74119.055</td></tr>\n",
       "<tr><td>mean_residual_deviance</td>\n",
       "<td>16127771600.0000000</td>\n",
       "<td>775819710.0000000</td>\n",
       "<td>16666314800.0000000</td>\n",
       "<td>14598275100.0000000</td>\n",
       "<td>17118725100.0000000</td></tr>\n",
       "<tr><td>mse</td>\n",
       "<td>16127771600.0000000</td>\n",
       "<td>775819710.0000000</td>\n",
       "<td>16666314800.0000000</td>\n",
       "<td>14598275100.0000000</td>\n",
       "<td>17118725100.0000000</td></tr>\n",
       "<tr><td>r2</td>\n",
       "<td>0.8805391</td>\n",
       "<td>0.0053645</td>\n",
       "<td>0.875482</td>\n",
       "<td>0.8912623</td>\n",
       "<td>0.8748729</td></tr>\n",
       "<tr><td>residual_deviance</td>\n",
       "<td>16127771600.0000000</td>\n",
       "<td>775819710.0000000</td>\n",
       "<td>16666314800.0000000</td>\n",
       "<td>14598275100.0000000</td>\n",
       "<td>17118725100.0000000</td></tr>\n",
       "<tr><td>rmse</td>\n",
       "<td>126919.9840000</td>\n",
       "<td>3089.4587</td>\n",
       "<td>129098.08</td>\n",
       "<td>120823.32</td>\n",
       "<td>130838.55</td></tr>\n",
       "<tr><td>rmsle</td>\n",
       "<td>0.1887551</td>\n",
       "<td>0.0016502</td>\n",
       "<td>0.1881953</td>\n",
       "<td>0.1918519</td>\n",
       "<td>0.1862182</td></tr></table></div>"
      ],
      "text/plain": [
       "                        mean         sd          cv_1_valid    cv_2_valid    cv_3_valid\n",
       "----------------------  -----------  ----------  ------------  ------------  ------------\n",
       "mae                     74438.9      351.412     75140.8       74056.8       74119.1\n",
       "mean_residual_deviance  1.61278e+10  7.7582e+08  1.66663e+10   1.45983e+10   1.71187e+10\n",
       "mse                     1.61278e+10  7.7582e+08  1.66663e+10   1.45983e+10   1.71187e+10\n",
       "r2                      0.880539     0.00536451  0.875482      0.891262      0.874873\n",
       "residual_deviance       1.61278e+10  7.7582e+08  1.66663e+10   1.45983e+10   1.71187e+10\n",
       "rmse                    126920       3089.46     129098        120823        130839\n",
       "rmsle                   0.188755     0.00165022  0.188195      0.191852      0.186218"
      ]
     },
     "metadata": {},
     "output_type": "display_data"
    },
    {
     "name": "stdout",
     "output_type": "stream",
     "text": [
      "Scoring History: \n"
     ]
    },
    {
     "data": {
      "text/html": [
       "<div style=\"overflow:auto\"><table style=\"width:50%\"><tr><td><b></b></td>\n",
       "<td><b>timestamp</b></td>\n",
       "<td><b>duration</b></td>\n",
       "<td><b>training_speed</b></td>\n",
       "<td><b>epochs</b></td>\n",
       "<td><b>iterations</b></td>\n",
       "<td><b>samples</b></td>\n",
       "<td><b>training_rmse</b></td>\n",
       "<td><b>training_deviance</b></td>\n",
       "<td><b>training_mae</b></td>\n",
       "<td><b>validation_rmse</b></td>\n",
       "<td><b>validation_deviance</b></td>\n",
       "<td><b>validation_mae</b></td></tr>\n",
       "<tr><td></td>\n",
       "<td>2021-08-14 04:03:16</td>\n",
       "<td> 0.000 sec</td>\n",
       "<td>None</td>\n",
       "<td>0.0</td>\n",
       "<td>0</td>\n",
       "<td>0.0</td>\n",
       "<td>nan</td>\n",
       "<td>nan</td>\n",
       "<td>nan</td>\n",
       "<td>nan</td>\n",
       "<td>nan</td>\n",
       "<td>nan</td></tr>\n",
       "<tr><td></td>\n",
       "<td>2021-08-14 04:03:20</td>\n",
       "<td>49.746 sec</td>\n",
       "<td>5600 obs/sec</td>\n",
       "<td>1.0192683</td>\n",
       "<td>1</td>\n",
       "<td>19837.0</td>\n",
       "<td>145822.0084562</td>\n",
       "<td>21264058150.2096863</td>\n",
       "<td>86778.7105903</td>\n",
       "<td>142584.2399495</td>\n",
       "<td>20330265481.9739456</td>\n",
       "<td>87247.5776235</td></tr>\n",
       "<tr><td></td>\n",
       "<td>2021-08-14 04:03:26</td>\n",
       "<td>55.519 sec</td>\n",
       "<td>8790 obs/sec</td>\n",
       "<td>4.0791286</td>\n",
       "<td>4</td>\n",
       "<td>79388.0</td>\n",
       "<td>122765.2731123</td>\n",
       "<td>15071312282.3334332</td>\n",
       "<td>74189.5211930</td>\n",
       "<td>127197.7310345</td>\n",
       "<td>16179262780.3280544</td>\n",
       "<td>76588.4614498</td></tr>\n",
       "<tr><td></td>\n",
       "<td>2021-08-14 04:03:32</td>\n",
       "<td> 1 min  1.338 sec</td>\n",
       "<td>10926 obs/sec</td>\n",
       "<td>8.1735176</td>\n",
       "<td>8</td>\n",
       "<td>159073.0</td>\n",
       "<td>114451.6120221</td>\n",
       "<td>13099171494.4550972</td>\n",
       "<td>68298.7747240</td>\n",
       "<td>127346.1851109</td>\n",
       "<td>16217050862.2876930</td>\n",
       "<td>72713.7427358</td></tr>\n",
       "<tr><td></td>\n",
       "<td>2021-08-14 04:03:36</td>\n",
       "<td> 1 min  5.434 sec</td>\n",
       "<td>11904 obs/sec</td>\n",
       "<td>11.2351249</td>\n",
       "<td>11</td>\n",
       "<td>218658.0</td>\n",
       "<td>107117.1154013</td>\n",
       "<td>11474076411.8963871</td>\n",
       "<td>66509.9429367</td>\n",
       "<td>118763.6005164</td>\n",
       "<td>14104792807.6128902</td>\n",
       "<td>71399.9348452</td></tr></table></div>"
      ],
      "text/plain": [
       "    timestamp            duration          training_speed    epochs    iterations    samples    training_rmse    training_deviance    training_mae    validation_rmse    validation_deviance    validation_mae\n",
       "--  -------------------  ----------------  ----------------  --------  ------------  ---------  ---------------  -------------------  --------------  -----------------  ---------------------  ----------------\n",
       "    2021-08-14 04:03:16  0.000 sec                           0         0             0          nan              nan                  nan             nan                nan                    nan\n",
       "    2021-08-14 04:03:20  49.746 sec        5600 obs/sec      1.01927   1             19837      145822           2.12641e+10          86778.7         142584             2.03303e+10            87247.6\n",
       "    2021-08-14 04:03:26  55.519 sec        8790 obs/sec      4.07913   4             79388      122765           1.50713e+10          74189.5         127198             1.61793e+10            76588.5\n",
       "    2021-08-14 04:03:32  1 min  1.338 sec  10926 obs/sec     8.17352   8             159073     114452           1.30992e+10          68298.8         127346             1.62171e+10            72713.7\n",
       "    2021-08-14 04:03:36  1 min  5.434 sec  11904 obs/sec     11.2351   11            218658     107117           1.14741e+10          66509.9         118764             1.41048e+10            71399.9"
      ]
     },
     "metadata": {},
     "output_type": "display_data"
    },
    {
     "name": "stdout",
     "output_type": "stream",
     "text": [
      "Variable Importances: \n"
     ]
    },
    {
     "data": {
      "text/html": [
       "<div style=\"overflow:auto\"><table style=\"width:50%\"><tr><td><b>variable</b></td>\n",
       "<td><b>relative_importance</b></td>\n",
       "<td><b>scaled_importance</b></td>\n",
       "<td><b>percentage</b></td></tr>\n",
       "<tr><td>lat</td>\n",
       "<td>1.0</td>\n",
       "<td>1.0</td>\n",
       "<td>0.1309485</td></tr>\n",
       "<tr><td>long</td>\n",
       "<td>0.7562393</td>\n",
       "<td>0.7562393</td>\n",
       "<td>0.0990284</td></tr>\n",
       "<tr><td>zipcode</td>\n",
       "<td>0.4049638</td>\n",
       "<td>0.4049638</td>\n",
       "<td>0.0530294</td></tr>\n",
       "<tr><td>yr_built</td>\n",
       "<td>0.3672434</td>\n",
       "<td>0.3672434</td>\n",
       "<td>0.0480900</td></tr>\n",
       "<tr><td>sqft_lot</td>\n",
       "<td>0.3400708</td>\n",
       "<td>0.3400708</td>\n",
       "<td>0.0445318</td></tr>\n",
       "<tr><td>---</td>\n",
       "<td>---</td>\n",
       "<td>---</td>\n",
       "<td>---</td></tr>\n",
       "<tr><td>waterfront</td>\n",
       "<td>0.2612510</td>\n",
       "<td>0.2612510</td>\n",
       "<td>0.0342104</td></tr>\n",
       "<tr><td>year</td>\n",
       "<td>0.2600392</td>\n",
       "<td>0.2600392</td>\n",
       "<td>0.0340518</td></tr>\n",
       "<tr><td>view</td>\n",
       "<td>0.2569804</td>\n",
       "<td>0.2569804</td>\n",
       "<td>0.0336512</td></tr>\n",
       "<tr><td>bathrooms</td>\n",
       "<td>0.2543591</td>\n",
       "<td>0.2543591</td>\n",
       "<td>0.0333079</td></tr>\n",
       "<tr><td>yr_renovated</td>\n",
       "<td>0.2368219</td>\n",
       "<td>0.2368219</td>\n",
       "<td>0.0310115</td></tr></table></div>"
      ],
      "text/plain": [
       "variable      relative_importance    scaled_importance    percentage\n",
       "------------  ---------------------  -------------------  --------------------\n",
       "lat           1.0                    1.0                  0.13094854391232577\n",
       "long          0.7562392950057983     0.7562392950057983   0.09902843453029307\n",
       "zipcode       0.40496379137039185    0.40496379137039185  0.053029418817167696\n",
       "yr_built      0.3672434091567993     0.3672434091567993   0.04808998969048136\n",
       "sqft_lot      0.34007081389427185    0.34007081389427185  0.044531777906534425\n",
       "---           ---                    ---                  ---\n",
       "waterfront    0.26125097274780273    0.26125097274780273  0.03421043447700347\n",
       "year          0.26003924012184143    0.26003924012184143  0.034051759854022784\n",
       "view          0.25698038935661316    0.25698038935661316  0.03365120780027103\n",
       "bathrooms     0.25435906648635864    0.25435906648635864  0.03330794938728713\n",
       "yr_renovated  0.23682190477848053    0.23682190477848053  0.03101148359728549"
      ]
     },
     "metadata": {},
     "output_type": "display_data"
    },
    {
     "name": "stdout",
     "output_type": "stream",
     "text": [
      "\n",
      "See the whole table with table.as_data_frame()\n"
     ]
    },
    {
     "data": {
      "text/plain": []
     },
     "execution_count": 11,
     "metadata": {},
     "output_type": "execute_result"
    }
   ],
   "source": [
    "from h2o.estimators.deeplearning import H2ODeepLearningEstimator\n",
    "m2 = H2ODeepLearningEstimator(nfolds = 3, fold_assignment = \"Modulo\",\n",
    "                                 keep_cross_validation_predictions = True)\n",
    "m2.train(x,y, train, validation_frame = test)\n",
    "m2"
   ]
  },
  {
   "cell_type": "code",
   "execution_count": 12,
   "metadata": {},
   "outputs": [
    {
     "name": "stdout",
     "output_type": "stream",
     "text": [
      "\n",
      "ModelMetricsRegression: deeplearning\n",
      "** Reported on test data. **\n",
      "\n",
      "MSE: 14104792807.61289\n",
      "RMSE: 118763.60051637408\n",
      "MAE: 71399.93484515595\n",
      "RMSLE: 0.18208790336271913\n",
      "Mean Residual Deviance: 14104792807.61289\n"
     ]
    },
    {
     "data": {
      "text/plain": []
     },
     "execution_count": 12,
     "metadata": {},
     "output_type": "execute_result"
    }
   ],
   "source": [
    "#Model performance on testing data\n",
    "m2.model_performance(test)"
   ]
  },
  {
   "cell_type": "code",
   "execution_count": 13,
   "metadata": {},
   "outputs": [
    {
     "name": "stdout",
     "output_type": "stream",
     "text": [
      "drf Model Build progress: |███████████████████████████████████████████████| 100%\n",
      "Model Details\n",
      "=============\n",
      "H2ORandomForestEstimator :  Distributed Random Forest\n",
      "Model Key:  DRF_model_python_1628864392402_58\n",
      "\n",
      "\n",
      "ModelMetricsRegression: drf\n",
      "** Reported on train data. **\n",
      "\n",
      "MSE: 17579631500.838524\n",
      "RMSE: 132588.20272120187\n",
      "MAE: 71735.12160730344\n",
      "RMSLE: 0.18044767261385605\n",
      "Mean Residual Deviance: 17579631500.838524\n",
      "\n",
      "ModelMetricsRegression: drf\n",
      "** Reported on validation data. **\n",
      "\n",
      "MSE: 16521287313.850208\n",
      "RMSE: 128535.15983516032\n",
      "MAE: 69946.36936475773\n",
      "RMSLE: 0.1744286050481497\n",
      "Mean Residual Deviance: 16521287313.850208\n",
      "\n",
      "ModelMetricsRegression: drf\n",
      "** Reported on cross-validation data. **\n",
      "\n",
      "MSE: 17969625370.360497\n",
      "RMSE: 134050.83129306024\n",
      "MAE: 71726.48061478778\n",
      "RMSLE: 0.17984626919415644\n",
      "Mean Residual Deviance: 17969625370.360497\n",
      "Cross-Validation Metrics Summary: \n"
     ]
    },
    {
     "data": {
      "text/html": [
       "<div style=\"overflow:auto\"><table style=\"width:50%\"><tr><td><b></b></td>\n",
       "<td><b>mean</b></td>\n",
       "<td><b>sd</b></td>\n",
       "<td><b>cv_1_valid</b></td>\n",
       "<td><b>cv_2_valid</b></td>\n",
       "<td><b>cv_3_valid</b></td></tr>\n",
       "<tr><td>mae</td>\n",
       "<td>71726.51</td>\n",
       "<td>503.4024</td>\n",
       "<td>71142.73</td>\n",
       "<td>71308.02</td>\n",
       "<td>72728.78</td></tr>\n",
       "<tr><td>mean_residual_deviance</td>\n",
       "<td>17969631200.0000000</td>\n",
       "<td>395338432.0000000</td>\n",
       "<td>17856073700.0000000</td>\n",
       "<td>17348763600.0000000</td>\n",
       "<td>18704058400.0000000</td></tr>\n",
       "<tr><td>mse</td>\n",
       "<td>17969631200.0000000</td>\n",
       "<td>395338432.0000000</td>\n",
       "<td>17856073700.0000000</td>\n",
       "<td>17348763600.0000000</td>\n",
       "<td>18704058400.0000000</td></tr>\n",
       "<tr><td>r2</td>\n",
       "<td>0.8668843</td>\n",
       "<td>0.0021670</td>\n",
       "<td>0.8665931</td>\n",
       "<td>0.8707749</td>\n",
       "<td>0.8632851</td></tr>\n",
       "<tr><td>residual_deviance</td>\n",
       "<td>17969631200.0000000</td>\n",
       "<td>395338432.0000000</td>\n",
       "<td>17856073700.0000000</td>\n",
       "<td>17348763600.0000000</td>\n",
       "<td>18704058400.0000000</td></tr>\n",
       "<tr><td>rmse</td>\n",
       "<td>134034.7</td>\n",
       "<td>1471.4692</td>\n",
       "<td>133626.61</td>\n",
       "<td>131714.7</td>\n",
       "<td>136762.78</td></tr>\n",
       "<tr><td>rmsle</td>\n",
       "<td>0.1798107</td>\n",
       "<td>0.0025355</td>\n",
       "<td>0.1767503</td>\n",
       "<td>0.1778391</td>\n",
       "<td>0.1848426</td></tr></table></div>"
      ],
      "text/plain": [
       "                        mean         sd           cv_1_valid    cv_2_valid    cv_3_valid\n",
       "----------------------  -----------  -----------  ------------  ------------  ------------\n",
       "mae                     71726.5      503.402      71142.7       71308         72728.8\n",
       "mean_residual_deviance  1.79696e+10  3.95338e+08  1.78561e+10   1.73488e+10   1.87041e+10\n",
       "mse                     1.79696e+10  3.95338e+08  1.78561e+10   1.73488e+10   1.87041e+10\n",
       "r2                      0.866884     0.00216701   0.866593      0.870775      0.863285\n",
       "residual_deviance       1.79696e+10  3.95338e+08  1.78561e+10   1.73488e+10   1.87041e+10\n",
       "rmse                    134035       1471.47      133627        131715        136763\n",
       "rmsle                   0.179811     0.00253553   0.17675       0.177839      0.184843"
      ]
     },
     "metadata": {},
     "output_type": "display_data"
    },
    {
     "name": "stdout",
     "output_type": "stream",
     "text": [
      "Scoring History: \n"
     ]
    },
    {
     "data": {
      "text/html": [
       "<div style=\"overflow:auto\"><table style=\"width:50%\"><tr><td><b></b></td>\n",
       "<td><b>timestamp</b></td>\n",
       "<td><b>duration</b></td>\n",
       "<td><b>number_of_trees</b></td>\n",
       "<td><b>training_rmse</b></td>\n",
       "<td><b>training_mae</b></td>\n",
       "<td><b>training_deviance</b></td>\n",
       "<td><b>validation_rmse</b></td>\n",
       "<td><b>validation_mae</b></td>\n",
       "<td><b>validation_deviance</b></td></tr>\n",
       "<tr><td></td>\n",
       "<td>2021-08-14 04:05:25</td>\n",
       "<td>22.285 sec</td>\n",
       "<td>0.0</td>\n",
       "<td>nan</td>\n",
       "<td>nan</td>\n",
       "<td>nan</td>\n",
       "<td>nan</td>\n",
       "<td>nan</td>\n",
       "<td>nan</td></tr>\n",
       "<tr><td></td>\n",
       "<td>2021-08-14 04:05:25</td>\n",
       "<td>22.434 sec</td>\n",
       "<td>1.0</td>\n",
       "<td>205444.7999424</td>\n",
       "<td>111271.4478052</td>\n",
       "<td>42207565823.3532333</td>\n",
       "<td>188350.5603557</td>\n",
       "<td>107773.4279332</td>\n",
       "<td>35475933586.2889786</td></tr>\n",
       "<tr><td></td>\n",
       "<td>2021-08-14 04:05:25</td>\n",
       "<td>22.586 sec</td>\n",
       "<td>2.0</td>\n",
       "<td>196298.6836561</td>\n",
       "<td>105182.6091753</td>\n",
       "<td>38533173205.1036835</td>\n",
       "<td>181388.4091047</td>\n",
       "<td>96472.5284461</td>\n",
       "<td>32901754957.5201378</td></tr>\n",
       "<tr><td></td>\n",
       "<td>2021-08-14 04:05:25</td>\n",
       "<td>22.735 sec</td>\n",
       "<td>3.0</td>\n",
       "<td>202361.0879593</td>\n",
       "<td>102231.8264837</td>\n",
       "<td>40950009920.0737305</td>\n",
       "<td>161913.3311505</td>\n",
       "<td>88463.7281788</td>\n",
       "<td>26215926804.2482414</td></tr>\n",
       "<tr><td></td>\n",
       "<td>2021-08-14 04:05:25</td>\n",
       "<td>22.879 sec</td>\n",
       "<td>4.0</td>\n",
       "<td>196293.3742716</td>\n",
       "<td>98272.0179776</td>\n",
       "<td>38531088782.9114151</td>\n",
       "<td>148133.5266411</td>\n",
       "<td>83350.1421722</td>\n",
       "<td>21943541715.1184311</td></tr>\n",
       "<tr><td>---</td>\n",
       "<td>---</td>\n",
       "<td>---</td>\n",
       "<td>---</td>\n",
       "<td>---</td>\n",
       "<td>---</td>\n",
       "<td>---</td>\n",
       "<td>---</td>\n",
       "<td>---</td>\n",
       "<td>---</td></tr>\n",
       "<tr><td></td>\n",
       "<td>2021-08-14 04:05:28</td>\n",
       "<td>25.778 sec</td>\n",
       "<td>23.0</td>\n",
       "<td>139334.1649203</td>\n",
       "<td>75562.4531024</td>\n",
       "<td>19414009514.0350151</td>\n",
       "<td>131479.6921988</td>\n",
       "<td>71490.4572838</td>\n",
       "<td>17286909460.6969681</td></tr>\n",
       "<tr><td></td>\n",
       "<td>2021-08-14 04:05:28</td>\n",
       "<td>25.934 sec</td>\n",
       "<td>24.0</td>\n",
       "<td>138535.8023814</td>\n",
       "<td>75305.3897253</td>\n",
       "<td>19192168541.4604836</td>\n",
       "<td>130765.1170151</td>\n",
       "<td>71353.2093427</td>\n",
       "<td>17099515827.9695930</td></tr>\n",
       "<tr><td></td>\n",
       "<td>2021-08-14 04:05:29</td>\n",
       "<td>26.098 sec</td>\n",
       "<td>25.0</td>\n",
       "<td>138085.5937417</td>\n",
       "<td>74993.2749555</td>\n",
       "<td>19067631198.9990158</td>\n",
       "<td>130142.9664060</td>\n",
       "<td>71049.5103533</td>\n",
       "<td>16937191704.9567394</td></tr>\n",
       "<tr><td></td>\n",
       "<td>2021-08-14 04:05:29</td>\n",
       "<td>26.258 sec</td>\n",
       "<td>26.0</td>\n",
       "<td>137592.4799135</td>\n",
       "<td>74751.5015269</td>\n",
       "<td>18931690528.7371292</td>\n",
       "<td>130749.2653256</td>\n",
       "<td>71035.1317320</td>\n",
       "<td>17095370383.1720238</td></tr>\n",
       "<tr><td></td>\n",
       "<td>2021-08-14 04:05:32</td>\n",
       "<td>29.517 sec</td>\n",
       "<td>50.0</td>\n",
       "<td>132588.2027212</td>\n",
       "<td>71735.1216073</td>\n",
       "<td>17579631500.8385239</td>\n",
       "<td>128535.1598352</td>\n",
       "<td>69946.3693648</td>\n",
       "<td>16521287313.8502083</td></tr></table></div>"
      ],
      "text/plain": [
       "     timestamp            duration    number_of_trees    training_rmse       training_mae        training_deviance    validation_rmse     validation_mae      validation_deviance\n",
       "---  -------------------  ----------  -----------------  ------------------  ------------------  -------------------  ------------------  ------------------  ---------------------\n",
       "     2021-08-14 04:05:25  22.285 sec  0.0                nan                 nan                 nan                  nan                 nan                 nan\n",
       "     2021-08-14 04:05:25  22.434 sec  1.0                205444.7999423525   111271.44780518323  42207565823.35323    188350.5603556543   107773.42793322873  35475933586.28898\n",
       "     2021-08-14 04:05:25  22.586 sec  2.0                196298.6836560645   105182.60917525801  38533173205.10368    181388.40910466175  96472.52844607159   32901754957.520138\n",
       "     2021-08-14 04:05:25  22.735 sec  3.0                202361.08795930538  102231.8264837395   40950009920.07373    161913.33115049     88463.72817875394   26215926804.24824\n",
       "     2021-08-14 04:05:25  22.879 sec  4.0                196293.37427155155  98272.01797755173   38531088782.911415   148133.5266410627   83350.14217224547   21943541715.11843\n",
       "---  ---                  ---         ---                ---                 ---                 ---                  ---                 ---                 ---\n",
       "     2021-08-14 04:05:28  25.778 sec  23.0               139334.1649202916   75562.45310236      19414009514.035015   131479.69219882198  71490.457283834     17286909460.696968\n",
       "     2021-08-14 04:05:28  25.934 sec  24.0               138535.80238140782  75305.38972533486   19192168541.460484   130765.11701508776  71353.20934273518   17099515827.969593\n",
       "     2021-08-14 04:05:29  26.098 sec  25.0               138085.59374170433  74993.27495552693   19067631198.999016   130142.96640601342  71049.51035332392   16937191704.95674\n",
       "     2021-08-14 04:05:29  26.258 sec  26.0               137592.47991346449  74751.5015269159    18931690528.73713    130749.26532555364  71035.13173197073   17095370383.172024\n",
       "     2021-08-14 04:05:32  29.517 sec  50.0               132588.20272120187  71735.12160730344   17579631500.838524   128535.15983516032  69946.36936475773   16521287313.850208"
      ]
     },
     "metadata": {},
     "output_type": "display_data"
    },
    {
     "name": "stdout",
     "output_type": "stream",
     "text": [
      "\n",
      "See the whole table with table.as_data_frame()\n",
      "Variable Importances: \n"
     ]
    },
    {
     "data": {
      "text/html": [
       "<div style=\"overflow:auto\"><table style=\"width:50%\"><tr><td><b>variable</b></td>\n",
       "<td><b>relative_importance</b></td>\n",
       "<td><b>scaled_importance</b></td>\n",
       "<td><b>percentage</b></td></tr>\n",
       "<tr><td>grade</td>\n",
       "<td>24927966563663872.0000000</td>\n",
       "<td>1.0</td>\n",
       "<td>0.2588695</td></tr>\n",
       "<tr><td>sqft_living</td>\n",
       "<td>20536667446181888.0000000</td>\n",
       "<td>0.8238405</td>\n",
       "<td>0.2132672</td></tr>\n",
       "<tr><td>lat</td>\n",
       "<td>10850675453853696.0000000</td>\n",
       "<td>0.4352812</td>\n",
       "<td>0.1126811</td></tr>\n",
       "<tr><td>sqft_living15</td>\n",
       "<td>8360965053612032.0000000</td>\n",
       "<td>0.3354050</td>\n",
       "<td>0.0868261</td></tr>\n",
       "<tr><td>bathrooms</td>\n",
       "<td>5753210161594368.0000000</td>\n",
       "<td>0.2307934</td>\n",
       "<td>0.0597454</td></tr>\n",
       "<tr><td>---</td>\n",
       "<td>---</td>\n",
       "<td>---</td>\n",
       "<td>---</td></tr>\n",
       "<tr><td>bedrooms</td>\n",
       "<td>473799216594944.0000000</td>\n",
       "<td>0.0190067</td>\n",
       "<td>0.0049203</td></tr>\n",
       "<tr><td>condition</td>\n",
       "<td>465431814995968.0000000</td>\n",
       "<td>0.0186711</td>\n",
       "<td>0.0048334</td></tr>\n",
       "<tr><td>floors</td>\n",
       "<td>348648835645440.0000000</td>\n",
       "<td>0.0139863</td>\n",
       "<td>0.0036206</td></tr>\n",
       "<tr><td>yr_renovated</td>\n",
       "<td>240523872829440.0000000</td>\n",
       "<td>0.0096488</td>\n",
       "<td>0.0024978</td></tr>\n",
       "<tr><td>year</td>\n",
       "<td>106454614802432.0000000</td>\n",
       "<td>0.0042705</td>\n",
       "<td>0.0011055</td></tr></table></div>"
      ],
      "text/plain": [
       "variable       relative_importance     scaled_importance      percentage\n",
       "-------------  ----------------------  ---------------------  ---------------------\n",
       "grade          2.492796656366387e+16   1.0                    0.258869547952379\n",
       "sqft_living    2.053666744618189e+16   0.8238404602209737     0.2132672075222833\n",
       "lat            1.0850675453853696e+16  0.4352812102079008     0.11268105011868372\n",
       "sqft_living15  8360965053612032.0      0.3354050171825628     0.08682614517900993\n",
       "bathrooms      5753210161594368.0      0.23079340013158178    0.0597453831624551\n",
       "---            ---                     ---                    ---\n",
       "bedrooms       473799216594944.0       0.019006733476832207   0.0049202645031989015\n",
       "condition      465431814995968.0       0.018671070253857062   0.004833371516403087\n",
       "floors         348648835645440.0       0.013986252539091828   0.0036206148723425136\n",
       "yr_renovated   240523872829440.0       0.009648756235899258   0.0024977691650899386\n",
       "year           106454614802432.0       0.0042704893128990735  0.0011054996379656484"
      ]
     },
     "metadata": {},
     "output_type": "display_data"
    },
    {
     "name": "stdout",
     "output_type": "stream",
     "text": [
      "\n",
      "See the whole table with table.as_data_frame()\n"
     ]
    },
    {
     "data": {
      "text/plain": []
     },
     "execution_count": 13,
     "metadata": {},
     "output_type": "execute_result"
    }
   ],
   "source": [
    "from h2o.estimators.random_forest import H2ORandomForestEstimator\n",
    "m3 = H2ORandomForestEstimator(nfolds = 3, fold_assignment = \"Modulo\",\n",
    "                                 keep_cross_validation_predictions = True)\n",
    "m3.train(x,y, train, validation_frame = test)\n",
    "m3"
   ]
  },
  {
   "cell_type": "code",
   "execution_count": 17,
   "metadata": {},
   "outputs": [
    {
     "name": "stdout",
     "output_type": "stream",
     "text": [
      "\n",
      "ModelMetricsRegression: drf\n",
      "** Reported on test data. **\n",
      "\n",
      "MSE: 16521287313.850208\n",
      "RMSE: 128535.15983516032\n",
      "MAE: 69946.36936475773\n",
      "RMSLE: 0.1744286050481497\n",
      "Mean Residual Deviance: 16521287313.850208\n"
     ]
    },
    {
     "data": {
      "text/plain": []
     },
     "execution_count": 17,
     "metadata": {},
     "output_type": "execute_result"
    }
   ],
   "source": [
    "#Model performance on testing data\n",
    "m3.model_performance(test)"
   ]
  },
  {
   "cell_type": "code",
   "execution_count": 18,
   "metadata": {},
   "outputs": [
    {
     "name": "stdout",
     "output_type": "stream",
     "text": [
      "stackedensemble Model Build progress: |███████████████████████████████████| 100%\n",
      "Model Details\n",
      "=============\n",
      "H2OStackedEnsembleEstimator :  Stacked Ensemble\n",
      "Model Key:  ensemble\n",
      "No model summary for this model\n",
      "\n",
      "\n",
      "ModelMetricsRegressionGLM: stackedensemble\n",
      "** Reported on train data. **\n",
      "\n",
      "MSE: 132828321416.4578\n",
      "RMSE: 364456.1995857085\n",
      "MAE: 231541.32009651873\n",
      "RMSLE: 0.5424941705664406\n",
      "R^2: 0.015941182037499946\n",
      "Mean Residual Deviance: 132828321416.4578\n",
      "Null degrees of freedom: 19461\n",
      "Residual degrees of freedom: 19458\n",
      "Null deviance: 2626981989511144.5\n",
      "Residual deviance: 2585104791407101.5\n",
      "AIC: 553707.7998216151\n",
      "\n",
      "ModelMetricsRegressionGLM: stackedensemble\n",
      "** Reported on validation data. **\n",
      "\n",
      "MSE: 130916407681.26642\n",
      "RMSE: 361823.72459702863\n",
      "MAE: 236446.8919247562\n",
      "RMSLE: 0.551486679343279\n",
      "R^2: 0.015148333531510239\n",
      "Mean Residual Deviance: 130916407681.26642\n",
      "Null degrees of freedom: 2150\n",
      "Residual degrees of freedom: 2147\n",
      "Null deviance: 285935013037402.7\n",
      "Residual deviance: 281601192922404.06\n",
      "AIC: 61175.194816100266\n"
     ]
    },
    {
     "data": {
      "text/plain": []
     },
     "execution_count": 18,
     "metadata": {},
     "output_type": "execute_result"
    }
   ],
   "source": [
    "from h2o.estimators.stackedensemble import H2OStackedEnsembleEstimator\n",
    "stack = H2OStackedEnsembleEstimator(model_id=\"ensemble\",\n",
    "                                    base_models=[m1.model_id, m2.model_id,m3.model_id])\n",
    "stack.train(x,y, train, validation_frame = test)\n",
    "stack"
   ]
  },
  {
   "cell_type": "code",
   "execution_count": 19,
   "metadata": {},
   "outputs": [
    {
     "name": "stdout",
     "output_type": "stream",
     "text": [
      "\n",
      "ModelMetricsRegressionGLM: stackedensemble\n",
      "** Reported on test data. **\n",
      "\n",
      "MSE: 130916407681.26642\n",
      "RMSE: 361823.72459702863\n",
      "MAE: 236446.8919247562\n",
      "RMSLE: 0.551486679343279\n",
      "R^2: 0.015148333531510239\n",
      "Mean Residual Deviance: 130916407681.26642\n",
      "Null degrees of freedom: 2150\n",
      "Residual degrees of freedom: 2147\n",
      "Null deviance: 285935013037402.7\n",
      "Residual deviance: 281601192922404.06\n",
      "AIC: 61175.194816100266\n"
     ]
    },
    {
     "data": {
      "text/plain": []
     },
     "execution_count": 19,
     "metadata": {},
     "output_type": "execute_result"
    }
   ],
   "source": [
    "#Model performance on testing data\n",
    "stack.model_performance(test)"
   ]
  },
  {
   "cell_type": "code",
   "execution_count": 34,
   "metadata": {},
   "outputs": [
    {
     "name": "stdout",
     "output_type": "stream",
     "text": [
      "C:\\Data\\JupyterNotebooks\\models\\GBM_model_python_1626924113729_4\n",
      "C:\\Data\\JupyterNotebooks\\models\\DeepLearning_model_python_1626924113729_5\n",
      "C:\\Data\\JupyterNotebooks\\models\\DRF_model_python_1626924113729_6\n",
      "C:\\Data\\JupyterNotebooks\\models\\ensemble\n"
     ]
    }
   ],
   "source": [
    "# save the model\n",
    "model_path = h2o.save_model(model=m1, path=r\"C:\\Data\\JupyterNotebooks\\models\", force=True)\n",
    "print(model_path)\n",
    "model_path2 = h2o.save_model(model=m2, path=r\"C:\\Data\\JupyterNotebooks\\models\", force=True)\n",
    "print(model_path2)\n",
    "model_path3 = h2o.save_model(model=m3, path=r\"C:\\Data\\JupyterNotebooks\\models\", force=True)\n",
    "print(model_path3)\n",
    "model_path4 = h2o.save_model(model=stack, path=r\"C:\\Data\\JupyterNotebooks\\models\", force=True)\n",
    "print(model_path4)"
   ]
  },
  {
   "cell_type": "code",
   "execution_count": null,
   "metadata": {},
   "outputs": [],
   "source": [
    "#Best model is the ensemble model\n",
    "#RMSE on the test set= 118511.93119627934"
   ]
  }
 ],
 "metadata": {
  "kernelspec": {
   "display_name": "Python 3",
   "language": "python",
   "name": "python3"
  },
  "language_info": {
   "codemirror_mode": {
    "name": "ipython",
    "version": 3
   },
   "file_extension": ".py",
   "mimetype": "text/x-python",
   "name": "python",
   "nbconvert_exporter": "python",
   "pygments_lexer": "ipython3",
   "version": "3.7.6"
  }
 },
 "nbformat": 4,
 "nbformat_minor": 4
}
