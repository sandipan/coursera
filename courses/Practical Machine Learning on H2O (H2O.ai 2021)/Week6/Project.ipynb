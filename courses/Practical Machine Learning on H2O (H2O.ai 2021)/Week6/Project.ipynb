{
 "cells": [
  {
   "cell_type": "markdown",
   "metadata": {},
   "source": [
    "# Final Project\n",
    "\n",
    "# Predict Price of a house with Stacked Ensemble model with H2O"
   ]
  },
  {
   "cell_type": "markdown",
   "metadata": {},
   "source": [
    "# Project Choice #1\n",
    "\n",
    "http://coursera.h2o.ai/house_data.3487.csv\n",
    "\n",
    "This is a regression problem. You have to predict \"price\".\n",
    "\n",
    "You should split date into year and month columns. You can then optionally combine them into a numeric date column.\n",
    "\n",
    "Split the data into train and test, using 0.9 for the ratio, and a seed of 123. That should give you 19,462 training rows and 2,151 test rows.\n",
    "\n",
    "If you decide you want a valid data set, too, split that from train after doing the above split.\n",
    "\n",
    "Your target is an RMSE below $123,000."
   ]
  },
  {
   "cell_type": "markdown",
   "metadata": {},
   "source": [
    "## Step 1"
   ]
  },
  {
   "cell_type": "markdown",
   "metadata": {},
   "source": [
    "Step one is to start h2o, load your chosen data set(s) and follow the project-specific data manipulation steps.\n",
    "\n",
    "At the end of this step you will have `train`, `test`, `x` and `y` variables, and possibly `valid` also. Check you have the correct number of rows and columns (as specified in the project description) before moving on."
   ]
  },
  {
   "cell_type": "code",
   "execution_count": 1,
   "metadata": {},
   "outputs": [],
   "source": [
    "import h2o\n",
    "import pandas as pd\n",
    "import numpy as np\n",
    "import matplotlib.pyplot as plt\n",
    "import random\n",
    "from time import time"
   ]
  },
  {
   "cell_type": "code",
   "execution_count": 2,
   "id": "e9625a92",
   "metadata": {},
   "outputs": [
    {
     "name": "stdout",
     "output_type": "stream",
     "text": [
      "Checking whether there is an H2O instance running at http://localhost:54321. connected.\n",
      "Warning: Your H2O cluster version is too old (4 years and 10 days)! Please download and install the latest version from http://h2o.ai/download/\n"
     ]
    },
    {
     "data": {
      "text/html": [
       "<div style=\"overflow:auto\"><table style=\"width:50%\"><tr><td>H2O cluster uptime:</td>\n",
       "<td>8 hours 23 mins</td></tr>\n",
       "<tr><td>H2O cluster version:</td>\n",
       "<td>3.13.0.3978</td></tr>\n",
       "<tr><td>H2O cluster version age:</td>\n",
       "<td>4 years and 10 days !!!</td></tr>\n",
       "<tr><td>H2O cluster name:</td>\n",
       "<td>H2O_from_python_Sandipan_Dey_xdrgjv</td></tr>\n",
       "<tr><td>H2O cluster total nodes:</td>\n",
       "<td>1</td></tr>\n",
       "<tr><td>H2O cluster free memory:</td>\n",
       "<td>1.714 Gb</td></tr>\n",
       "<tr><td>H2O cluster total cores:</td>\n",
       "<td>4</td></tr>\n",
       "<tr><td>H2O cluster allowed cores:</td>\n",
       "<td>4</td></tr>\n",
       "<tr><td>H2O cluster status:</td>\n",
       "<td>locked, healthy</td></tr>\n",
       "<tr><td>H2O connection url:</td>\n",
       "<td>http://localhost:54321</td></tr>\n",
       "<tr><td>H2O connection proxy:</td>\n",
       "<td>None</td></tr>\n",
       "<tr><td>H2O internal security:</td>\n",
       "<td>False</td></tr>\n",
       "<tr><td>H2O API Extensions:</td>\n",
       "<td>Algos, AutoML, Core V3, Core V4</td></tr>\n",
       "<tr><td>Python version:</td>\n",
       "<td>3.7.6 final</td></tr></table></div>"
      ],
      "text/plain": [
       "--------------------------  -----------------------------------\n",
       "H2O cluster uptime:         8 hours 23 mins\n",
       "H2O cluster version:        3.13.0.3978\n",
       "H2O cluster version age:    4 years and 10 days !!!\n",
       "H2O cluster name:           H2O_from_python_Sandipan_Dey_xdrgjv\n",
       "H2O cluster total nodes:    1\n",
       "H2O cluster free memory:    1.714 Gb\n",
       "H2O cluster total cores:    4\n",
       "H2O cluster allowed cores:  4\n",
       "H2O cluster status:         locked, healthy\n",
       "H2O connection url:         http://localhost:54321\n",
       "H2O connection proxy:\n",
       "H2O internal security:      False\n",
       "H2O API Extensions:         Algos, AutoML, Core V3, Core V4\n",
       "Python version:             3.7.6 final\n",
       "--------------------------  -----------------------------------"
      ]
     },
     "metadata": {},
     "output_type": "display_data"
    }
   ],
   "source": [
    "h2o.init()"
   ]
  },
  {
   "cell_type": "code",
   "execution_count": 3,
   "id": "7c7c9920",
   "metadata": {},
   "outputs": [
    {
     "name": "stdout",
     "output_type": "stream",
     "text": [
      "Parse progress: |█████████████████████████████████████████████████████████| 100%\n"
     ]
    }
   ],
   "source": [
    "url = \"http://coursera.h2o.ai/house_data.3487.csv\"\n",
    "house_df = h2o.import_file(url, destination_frame = \"house_data\")"
   ]
  },
  {
   "cell_type": "markdown",
   "metadata": {},
   "source": [
    "### Preporcessing"
   ]
  },
  {
   "cell_type": "code",
   "execution_count": 4,
   "metadata": {},
   "outputs": [],
   "source": [
    "house_df['year'] = house_df['date'].substring(0,4).asnumeric()\n",
    "house_df['month'] = house_df['date'].substring(4,6).asnumeric()\n",
    "house_df['day'] = house_df['date'].substring(6,8).asnumeric()"
   ]
  },
  {
   "cell_type": "code",
   "execution_count": 5,
   "metadata": {},
   "outputs": [],
   "source": [
    "house_df = house_df.drop('date')"
   ]
  },
  {
   "cell_type": "code",
   "execution_count": 6,
   "metadata": {},
   "outputs": [
    {
     "data": {
      "text/html": [
       "<table>\n",
       "<thead>\n",
       "<tr><th style=\"text-align: right;\">         id</th><th style=\"text-align: right;\">         price</th><th style=\"text-align: right;\">  bedrooms</th><th style=\"text-align: right;\">  bathrooms</th><th style=\"text-align: right;\">  sqft_living</th><th style=\"text-align: right;\">  sqft_lot</th><th style=\"text-align: right;\">  floors</th><th style=\"text-align: right;\">  waterfront</th><th style=\"text-align: right;\">  view</th><th style=\"text-align: right;\">  condition</th><th style=\"text-align: right;\">  grade</th><th style=\"text-align: right;\">  sqft_above</th><th style=\"text-align: right;\">  sqft_basement</th><th style=\"text-align: right;\">  yr_built</th><th style=\"text-align: right;\">  yr_renovated</th><th style=\"text-align: right;\">  zipcode</th><th style=\"text-align: right;\">    lat</th><th style=\"text-align: right;\">    long</th><th style=\"text-align: right;\">  sqft_living15</th><th style=\"text-align: right;\">  sqft_lot15</th><th style=\"text-align: right;\">  year</th><th style=\"text-align: right;\">  month</th><th style=\"text-align: right;\">  day</th></tr>\n",
       "</thead>\n",
       "<tbody>\n",
       "<tr><td style=\"text-align: right;\">7.1293e+09 </td><td style=\"text-align: right;\">221900        </td><td style=\"text-align: right;\">         3</td><td style=\"text-align: right;\">       1   </td><td style=\"text-align: right;\">         1180</td><td style=\"text-align: right;\">      5650</td><td style=\"text-align: right;\">       1</td><td style=\"text-align: right;\">           0</td><td style=\"text-align: right;\">     0</td><td style=\"text-align: right;\">          3</td><td style=\"text-align: right;\">      7</td><td style=\"text-align: right;\">        1180</td><td style=\"text-align: right;\">              0</td><td style=\"text-align: right;\">      1955</td><td style=\"text-align: right;\">             0</td><td style=\"text-align: right;\">    98178</td><td style=\"text-align: right;\">47.5112</td><td style=\"text-align: right;\">-122.257</td><td style=\"text-align: right;\">           1340</td><td style=\"text-align: right;\">        5650</td><td style=\"text-align: right;\">  2014</td><td style=\"text-align: right;\">     10</td><td style=\"text-align: right;\">   13</td></tr>\n",
       "<tr><td style=\"text-align: right;\">6.4141e+09 </td><td style=\"text-align: right;\">538000        </td><td style=\"text-align: right;\">         3</td><td style=\"text-align: right;\">       2.25</td><td style=\"text-align: right;\">         2570</td><td style=\"text-align: right;\">      7242</td><td style=\"text-align: right;\">       2</td><td style=\"text-align: right;\">           0</td><td style=\"text-align: right;\">     0</td><td style=\"text-align: right;\">          3</td><td style=\"text-align: right;\">      7</td><td style=\"text-align: right;\">        2170</td><td style=\"text-align: right;\">            400</td><td style=\"text-align: right;\">      1951</td><td style=\"text-align: right;\">          1991</td><td style=\"text-align: right;\">    98125</td><td style=\"text-align: right;\">47.721 </td><td style=\"text-align: right;\">-122.319</td><td style=\"text-align: right;\">           1690</td><td style=\"text-align: right;\">        7639</td><td style=\"text-align: right;\">  2014</td><td style=\"text-align: right;\">     12</td><td style=\"text-align: right;\">    9</td></tr>\n",
       "<tr><td style=\"text-align: right;\">5.6315e+09 </td><td style=\"text-align: right;\">180000        </td><td style=\"text-align: right;\">         2</td><td style=\"text-align: right;\">       1   </td><td style=\"text-align: right;\">          770</td><td style=\"text-align: right;\">     10000</td><td style=\"text-align: right;\">       1</td><td style=\"text-align: right;\">           0</td><td style=\"text-align: right;\">     0</td><td style=\"text-align: right;\">          3</td><td style=\"text-align: right;\">      6</td><td style=\"text-align: right;\">         770</td><td style=\"text-align: right;\">              0</td><td style=\"text-align: right;\">      1933</td><td style=\"text-align: right;\">             0</td><td style=\"text-align: right;\">    98028</td><td style=\"text-align: right;\">47.7379</td><td style=\"text-align: right;\">-122.233</td><td style=\"text-align: right;\">           2720</td><td style=\"text-align: right;\">        8062</td><td style=\"text-align: right;\">  2015</td><td style=\"text-align: right;\">      2</td><td style=\"text-align: right;\">   25</td></tr>\n",
       "<tr><td style=\"text-align: right;\">2.4872e+09 </td><td style=\"text-align: right;\">604000        </td><td style=\"text-align: right;\">         4</td><td style=\"text-align: right;\">       3   </td><td style=\"text-align: right;\">         1960</td><td style=\"text-align: right;\">      5000</td><td style=\"text-align: right;\">       1</td><td style=\"text-align: right;\">           0</td><td style=\"text-align: right;\">     0</td><td style=\"text-align: right;\">          5</td><td style=\"text-align: right;\">      7</td><td style=\"text-align: right;\">        1050</td><td style=\"text-align: right;\">            910</td><td style=\"text-align: right;\">      1965</td><td style=\"text-align: right;\">             0</td><td style=\"text-align: right;\">    98136</td><td style=\"text-align: right;\">47.5208</td><td style=\"text-align: right;\">-122.393</td><td style=\"text-align: right;\">           1360</td><td style=\"text-align: right;\">        5000</td><td style=\"text-align: right;\">  2014</td><td style=\"text-align: right;\">     12</td><td style=\"text-align: right;\">    9</td></tr>\n",
       "<tr><td style=\"text-align: right;\">1.9544e+09 </td><td style=\"text-align: right;\">510000        </td><td style=\"text-align: right;\">         3</td><td style=\"text-align: right;\">       2   </td><td style=\"text-align: right;\">         1680</td><td style=\"text-align: right;\">      8080</td><td style=\"text-align: right;\">       1</td><td style=\"text-align: right;\">           0</td><td style=\"text-align: right;\">     0</td><td style=\"text-align: right;\">          3</td><td style=\"text-align: right;\">      8</td><td style=\"text-align: right;\">        1680</td><td style=\"text-align: right;\">              0</td><td style=\"text-align: right;\">      1987</td><td style=\"text-align: right;\">             0</td><td style=\"text-align: right;\">    98074</td><td style=\"text-align: right;\">47.6168</td><td style=\"text-align: right;\">-122.045</td><td style=\"text-align: right;\">           1800</td><td style=\"text-align: right;\">        7503</td><td style=\"text-align: right;\">  2015</td><td style=\"text-align: right;\">      2</td><td style=\"text-align: right;\">   18</td></tr>\n",
       "<tr><td style=\"text-align: right;\">7.23755e+09</td><td style=\"text-align: right;\">     1.225e+06</td><td style=\"text-align: right;\">         4</td><td style=\"text-align: right;\">       4.5 </td><td style=\"text-align: right;\">         5420</td><td style=\"text-align: right;\">    101930</td><td style=\"text-align: right;\">       1</td><td style=\"text-align: right;\">           0</td><td style=\"text-align: right;\">     0</td><td style=\"text-align: right;\">          3</td><td style=\"text-align: right;\">     11</td><td style=\"text-align: right;\">        3890</td><td style=\"text-align: right;\">           1530</td><td style=\"text-align: right;\">      2001</td><td style=\"text-align: right;\">             0</td><td style=\"text-align: right;\">    98053</td><td style=\"text-align: right;\">47.6561</td><td style=\"text-align: right;\">-122.005</td><td style=\"text-align: right;\">           4760</td><td style=\"text-align: right;\">      101930</td><td style=\"text-align: right;\">  2014</td><td style=\"text-align: right;\">      5</td><td style=\"text-align: right;\">   12</td></tr>\n",
       "<tr><td style=\"text-align: right;\">1.3214e+09 </td><td style=\"text-align: right;\">257500        </td><td style=\"text-align: right;\">         3</td><td style=\"text-align: right;\">       2.25</td><td style=\"text-align: right;\">         1715</td><td style=\"text-align: right;\">      6819</td><td style=\"text-align: right;\">       2</td><td style=\"text-align: right;\">           0</td><td style=\"text-align: right;\">     0</td><td style=\"text-align: right;\">          3</td><td style=\"text-align: right;\">      7</td><td style=\"text-align: right;\">        1715</td><td style=\"text-align: right;\">              0</td><td style=\"text-align: right;\">      1995</td><td style=\"text-align: right;\">             0</td><td style=\"text-align: right;\">    98003</td><td style=\"text-align: right;\">47.3097</td><td style=\"text-align: right;\">-122.327</td><td style=\"text-align: right;\">           2238</td><td style=\"text-align: right;\">        6819</td><td style=\"text-align: right;\">  2014</td><td style=\"text-align: right;\">      6</td><td style=\"text-align: right;\">   27</td></tr>\n",
       "<tr><td style=\"text-align: right;\">2.008e+09  </td><td style=\"text-align: right;\">291850        </td><td style=\"text-align: right;\">         3</td><td style=\"text-align: right;\">       1.5 </td><td style=\"text-align: right;\">         1060</td><td style=\"text-align: right;\">      9711</td><td style=\"text-align: right;\">       1</td><td style=\"text-align: right;\">           0</td><td style=\"text-align: right;\">     0</td><td style=\"text-align: right;\">          3</td><td style=\"text-align: right;\">      7</td><td style=\"text-align: right;\">        1060</td><td style=\"text-align: right;\">              0</td><td style=\"text-align: right;\">      1963</td><td style=\"text-align: right;\">             0</td><td style=\"text-align: right;\">    98198</td><td style=\"text-align: right;\">47.4095</td><td style=\"text-align: right;\">-122.315</td><td style=\"text-align: right;\">           1650</td><td style=\"text-align: right;\">        9711</td><td style=\"text-align: right;\">  2015</td><td style=\"text-align: right;\">      1</td><td style=\"text-align: right;\">   15</td></tr>\n",
       "<tr><td style=\"text-align: right;\">2.4146e+09 </td><td style=\"text-align: right;\">229500        </td><td style=\"text-align: right;\">         3</td><td style=\"text-align: right;\">       1   </td><td style=\"text-align: right;\">         1780</td><td style=\"text-align: right;\">      7470</td><td style=\"text-align: right;\">       1</td><td style=\"text-align: right;\">           0</td><td style=\"text-align: right;\">     0</td><td style=\"text-align: right;\">          3</td><td style=\"text-align: right;\">      7</td><td style=\"text-align: right;\">        1050</td><td style=\"text-align: right;\">            730</td><td style=\"text-align: right;\">      1960</td><td style=\"text-align: right;\">             0</td><td style=\"text-align: right;\">    98146</td><td style=\"text-align: right;\">47.5123</td><td style=\"text-align: right;\">-122.337</td><td style=\"text-align: right;\">           1780</td><td style=\"text-align: right;\">        8113</td><td style=\"text-align: right;\">  2015</td><td style=\"text-align: right;\">      4</td><td style=\"text-align: right;\">   15</td></tr>\n",
       "<tr><td style=\"text-align: right;\">3.7935e+09 </td><td style=\"text-align: right;\">323000        </td><td style=\"text-align: right;\">         3</td><td style=\"text-align: right;\">       2.5 </td><td style=\"text-align: right;\">         1890</td><td style=\"text-align: right;\">      6560</td><td style=\"text-align: right;\">       2</td><td style=\"text-align: right;\">           0</td><td style=\"text-align: right;\">     0</td><td style=\"text-align: right;\">          3</td><td style=\"text-align: right;\">      7</td><td style=\"text-align: right;\">        1890</td><td style=\"text-align: right;\">              0</td><td style=\"text-align: right;\">      2003</td><td style=\"text-align: right;\">             0</td><td style=\"text-align: right;\">    98038</td><td style=\"text-align: right;\">47.3684</td><td style=\"text-align: right;\">-122.031</td><td style=\"text-align: right;\">           2390</td><td style=\"text-align: right;\">        7570</td><td style=\"text-align: right;\">  2015</td><td style=\"text-align: right;\">      3</td><td style=\"text-align: right;\">   12</td></tr>\n",
       "</tbody>\n",
       "</table>"
      ]
     },
     "metadata": {},
     "output_type": "display_data"
    },
    {
     "data": {
      "text/plain": []
     },
     "execution_count": 6,
     "metadata": {},
     "output_type": "execute_result"
    }
   ],
   "source": [
    "house_df.head()"
   ]
  },
  {
   "cell_type": "code",
   "execution_count": 7,
   "metadata": {},
   "outputs": [
    {
     "name": "stdout",
     "output_type": "stream",
     "text": [
      "Rows:21613\n",
      "Cols:23\n",
      "\n",
      "\n"
     ]
    },
    {
     "data": {
      "text/html": [
       "<table>\n",
       "<thead>\n",
       "<tr><th>       </th><th>id                </th><th>price             </th><th>bedrooms         </th><th>bathrooms         </th><th>sqft_living      </th><th>sqft_lot         </th><th>floors            </th><th>waterfront          </th><th>view               </th><th>condition         </th><th>grade             </th><th>sqft_above        </th><th>sqft_basement     </th><th>yr_built          </th><th>yr_renovated      </th><th>zipcode          </th><th>lat                </th><th>long               </th><th>sqft_living15     </th><th>sqft_lot15        </th><th>year              </th><th>month             </th><th>day               </th></tr>\n",
       "</thead>\n",
       "<tbody>\n",
       "<tr><td>type   </td><td>int               </td><td>int               </td><td>int              </td><td>real              </td><td>int              </td><td>int              </td><td>real              </td><td>int                 </td><td>int                </td><td>int               </td><td>int               </td><td>int               </td><td>int               </td><td>int               </td><td>int               </td><td>int              </td><td>real               </td><td>real               </td><td>int               </td><td>int               </td><td>int               </td><td>int               </td><td>int               </td></tr>\n",
       "<tr><td>mins   </td><td>1000102.0         </td><td>75000.0           </td><td>0.0              </td><td>0.0               </td><td>290.0            </td><td>520.0            </td><td>1.0               </td><td>0.0                 </td><td>0.0                </td><td>1.0               </td><td>1.0               </td><td>290.0             </td><td>0.0               </td><td>1900.0            </td><td>0.0               </td><td>98001.0          </td><td>47.1559            </td><td>-122.519           </td><td>399.0             </td><td>651.0             </td><td>2014.0            </td><td>1.0               </td><td>1.0               </td></tr>\n",
       "<tr><td>mean   </td><td>4580301520.864987 </td><td>540088.1417665284 </td><td>3.370841623097218</td><td>2.114757321982139 </td><td>2079.899736269819</td><td>15106.96756581695</td><td>1.4943089807060526</td><td>0.007541757275713691</td><td>0.23430342849211097</td><td>3.4094295100171164</td><td>7.6568731781798105</td><td>1788.3906907879518</td><td>291.50904548188555</td><td>1971.0051357979064</td><td>84.4022579003377  </td><td>98077.93980474674</td><td>47.56005251931665  </td><td>-122.21389640494158</td><td>1986.5524915560036</td><td>12768.45565169118 </td><td>2014.3229537778102</td><td>6.574422801091883 </td><td>15.688196918521294</td></tr>\n",
       "<tr><td>maxs   </td><td>9900000190.0      </td><td>7700000.0         </td><td>33.0             </td><td>8.0               </td><td>13540.0          </td><td>1651359.0        </td><td>3.5               </td><td>1.0                 </td><td>4.0                </td><td>5.0               </td><td>13.0              </td><td>9410.0            </td><td>4820.0            </td><td>2015.0            </td><td>2015.0            </td><td>98199.0          </td><td>47.7776            </td><td>-121.315           </td><td>6210.0            </td><td>871200.0          </td><td>2015.0            </td><td>12.0              </td><td>31.0              </td></tr>\n",
       "<tr><td>sigma  </td><td>2876565571.3120522</td><td>367127.19648270035</td><td>0.930061831147451</td><td>0.7701631572177408</td><td>918.4408970468095</td><td>41420.51151513551</td><td>0.5399888951423489</td><td>0.08651719772788766 </td><td>0.7663175692736117 </td><td>0.6507430463662044</td><td>1.1754587569743344</td><td>828.0909776519175 </td><td>442.57504267746685</td><td>29.373410802386235</td><td>401.67924001917555</td><td>53.50502625747248</td><td>0.13856371024192368</td><td>0.14082834238139297</td><td>685.3913042527788 </td><td>27304.179631338524</td><td>0.4676160310451536</td><td>3.1153077787263648</td><td>8.635062534286034 </td></tr>\n",
       "<tr><td>zeros  </td><td>0                 </td><td>0                 </td><td>13               </td><td>10                </td><td>0                </td><td>0                </td><td>0                 </td><td>21450               </td><td>19489              </td><td>0                 </td><td>0                 </td><td>0                 </td><td>13126             </td><td>0                 </td><td>20699             </td><td>0                </td><td>0                  </td><td>0                  </td><td>0                 </td><td>0                 </td><td>0                 </td><td>0                 </td><td>0                 </td></tr>\n",
       "<tr><td>missing</td><td>0                 </td><td>0                 </td><td>0                </td><td>0                 </td><td>0                </td><td>0                </td><td>0                 </td><td>0                   </td><td>0                  </td><td>0                 </td><td>0                 </td><td>0                 </td><td>0                 </td><td>0                 </td><td>0                 </td><td>0                </td><td>0                  </td><td>0                  </td><td>0                 </td><td>0                 </td><td>0                 </td><td>0                 </td><td>0                 </td></tr>\n",
       "<tr><td>0      </td><td>7129300520.0      </td><td>221900.0          </td><td>3.0              </td><td>1.0               </td><td>1180.0           </td><td>5650.0           </td><td>1.0               </td><td>0.0                 </td><td>0.0                </td><td>3.0               </td><td>7.0               </td><td>1180.0            </td><td>0.0               </td><td>1955.0            </td><td>0.0               </td><td>98178.0          </td><td>47.5112            </td><td>-122.257           </td><td>1340.0            </td><td>5650.0            </td><td>2014.0            </td><td>10.0              </td><td>13.0              </td></tr>\n",
       "<tr><td>1      </td><td>6414100192.0      </td><td>538000.0          </td><td>3.0              </td><td>2.25              </td><td>2570.0           </td><td>7242.0           </td><td>2.0               </td><td>0.0                 </td><td>0.0                </td><td>3.0               </td><td>7.0               </td><td>2170.0            </td><td>400.0             </td><td>1951.0            </td><td>1991.0            </td><td>98125.0          </td><td>47.721000000000004 </td><td>-122.319           </td><td>1690.0            </td><td>7639.0            </td><td>2014.0            </td><td>12.0              </td><td>9.0               </td></tr>\n",
       "<tr><td>2      </td><td>5631500400.0      </td><td>180000.0          </td><td>2.0              </td><td>1.0               </td><td>770.0            </td><td>10000.0          </td><td>1.0               </td><td>0.0                 </td><td>0.0                </td><td>3.0               </td><td>6.0               </td><td>770.0             </td><td>0.0               </td><td>1933.0            </td><td>0.0               </td><td>98028.0          </td><td>47.7379            </td><td>-122.233           </td><td>2720.0            </td><td>8062.0            </td><td>2015.0            </td><td>2.0               </td><td>25.0              </td></tr>\n",
       "<tr><td>3      </td><td>2487200875.0      </td><td>604000.0          </td><td>4.0              </td><td>3.0               </td><td>1960.0           </td><td>5000.0           </td><td>1.0               </td><td>0.0                 </td><td>0.0                </td><td>5.0               </td><td>7.0               </td><td>1050.0            </td><td>910.0             </td><td>1965.0            </td><td>0.0               </td><td>98136.0          </td><td>47.5208            </td><td>-122.393           </td><td>1360.0            </td><td>5000.0            </td><td>2014.0            </td><td>12.0              </td><td>9.0               </td></tr>\n",
       "<tr><td>4      </td><td>1954400510.0      </td><td>510000.0          </td><td>3.0              </td><td>2.0               </td><td>1680.0           </td><td>8080.0           </td><td>1.0               </td><td>0.0                 </td><td>0.0                </td><td>3.0               </td><td>8.0               </td><td>1680.0            </td><td>0.0               </td><td>1987.0            </td><td>0.0               </td><td>98074.0          </td><td>47.616800000000005 </td><td>-122.045           </td><td>1800.0            </td><td>7503.0            </td><td>2015.0            </td><td>2.0               </td><td>18.0              </td></tr>\n",
       "<tr><td>5      </td><td>7237550310.0      </td><td>1225000.0         </td><td>4.0              </td><td>4.5               </td><td>5420.0           </td><td>101930.0         </td><td>1.0               </td><td>0.0                 </td><td>0.0                </td><td>3.0               </td><td>11.0              </td><td>3890.0            </td><td>1530.0            </td><td>2001.0            </td><td>0.0               </td><td>98053.0          </td><td>47.6561            </td><td>-122.005           </td><td>4760.0            </td><td>101930.0          </td><td>2014.0            </td><td>5.0               </td><td>12.0              </td></tr>\n",
       "<tr><td>6      </td><td>1321400060.0      </td><td>257500.0          </td><td>3.0              </td><td>2.25              </td><td>1715.0           </td><td>6819.0           </td><td>2.0               </td><td>0.0                 </td><td>0.0                </td><td>3.0               </td><td>7.0               </td><td>1715.0            </td><td>0.0               </td><td>1995.0            </td><td>0.0               </td><td>98003.0          </td><td>47.3097            </td><td>-122.327           </td><td>2238.0            </td><td>6819.0            </td><td>2014.0            </td><td>6.0               </td><td>27.0              </td></tr>\n",
       "<tr><td>7      </td><td>2008000270.0      </td><td>291850.0          </td><td>3.0              </td><td>1.5               </td><td>1060.0           </td><td>9711.0           </td><td>1.0               </td><td>0.0                 </td><td>0.0                </td><td>3.0               </td><td>7.0               </td><td>1060.0            </td><td>0.0               </td><td>1963.0            </td><td>0.0               </td><td>98198.0          </td><td>47.4095            </td><td>-122.315           </td><td>1650.0            </td><td>9711.0            </td><td>2015.0            </td><td>1.0               </td><td>15.0              </td></tr>\n",
       "<tr><td>8      </td><td>2414600126.0      </td><td>229500.0          </td><td>3.0              </td><td>1.0               </td><td>1780.0           </td><td>7470.0           </td><td>1.0               </td><td>0.0                 </td><td>0.0                </td><td>3.0               </td><td>7.0               </td><td>1050.0            </td><td>730.0             </td><td>1960.0            </td><td>0.0               </td><td>98146.0          </td><td>47.5123            </td><td>-122.337           </td><td>1780.0            </td><td>8113.0            </td><td>2015.0            </td><td>4.0               </td><td>15.0              </td></tr>\n",
       "<tr><td>9      </td><td>3793500160.0      </td><td>323000.0          </td><td>3.0              </td><td>2.5               </td><td>1890.0           </td><td>6560.0           </td><td>2.0               </td><td>0.0                 </td><td>0.0                </td><td>3.0               </td><td>7.0               </td><td>1890.0            </td><td>0.0               </td><td>2003.0            </td><td>0.0               </td><td>98038.0          </td><td>47.3684            </td><td>-122.031           </td><td>2390.0            </td><td>7570.0            </td><td>2015.0            </td><td>3.0               </td><td>12.0              </td></tr>\n",
       "</tbody>\n",
       "</table>"
      ]
     },
     "metadata": {},
     "output_type": "display_data"
    }
   ],
   "source": [
    "house_df.describe()"
   ]
  },
  {
   "cell_type": "code",
   "execution_count": 8,
   "metadata": {},
   "outputs": [
    {
     "data": {
      "image/png": "[encoded data removed]",
      "text/plain": [
       "<Figure size 432x288 with 1 Axes>"
      ]
     },
     "metadata": {
      "needs_background": "light"
     },
     "output_type": "display_data"
    }
   ],
   "source": [
    "plt.hist(house_df.as_data_frame()['price'].tolist(), bins=np.linspace(0,10**6,1000))\n",
    "plt.show()"
   ]
  },
  {
   "cell_type": "markdown",
   "metadata": {},
   "source": [
    "We shall use cross-validation and not a validation dataset."
   ]
  },
  {
   "cell_type": "code",
   "execution_count": 9,
   "id": "9b9e06e0",
   "metadata": {},
   "outputs": [],
   "source": [
    "train, test = house_df.split_frame(ratios=[0.9], destination_frames = ['train', 'test'], seed=123)"
   ]
  },
  {
   "cell_type": "code",
   "execution_count": 10,
   "metadata": {},
   "outputs": [
    {
     "name": "stdout",
     "output_type": "stream",
     "text": [
      "19462/2151\n"
     ]
    }
   ],
   "source": [
    "print(\"%d/%d\" %(train.nrows, test.nrows))"
   ]
  },
  {
   "cell_type": "code",
   "execution_count": 11,
   "metadata": {},
   "outputs": [],
   "source": [
    "ignore_fields = ['id', 'price'] \n",
    "x = [i for i in train.names if not i in ignore_fields]\n",
    "y = 'price'"
   ]
  },
  {
   "cell_type": "markdown",
   "metadata": {},
   "source": [
    "## Step 2"
   ]
  },
  {
   "cell_type": "markdown",
   "metadata": {},
   "source": [
    "Step two is to train at least four different models, using at least three different supervised algorithms. Save all your models. You may use any data engineering you wish, but must not bring in any additional external data sources."
   ]
  },
  {
   "cell_type": "code",
   "execution_count": 12,
   "metadata": {},
   "outputs": [],
   "source": [
    "from h2o.estimators.gbm import H2OGradientBoostingEstimator\n",
    "from h2o.estimators.random_forest import H2ORandomForestEstimator\n",
    "from h2o.estimators.glm import H2OGeneralizedLinearEstimator\n",
    "from h2o.estimators.deeplearning import H2ODeepLearningEstimator\n",
    "from h2o.estimators.stackedensemble import H2OStackedEnsembleEstimator"
   ]
  },
  {
   "cell_type": "code",
   "execution_count": 13,
   "metadata": {},
   "outputs": [],
   "source": [
    "nfolds = 5"
   ]
  },
  {
   "cell_type": "markdown",
   "metadata": {},
   "source": [
    "### Model 1"
   ]
  },
  {
   "cell_type": "code",
   "execution_count": 14,
   "metadata": {},
   "outputs": [
    {
     "name": "stdout",
     "output_type": "stream",
     "text": [
      "glm Model Build progress: |███████████████████████████████████████████████| 100%\n",
      "Wall time: 259 ms\n"
     ]
    }
   ],
   "source": [
    "model_GLM= H2OGeneralizedLinearEstimator(\n",
    "    family='gaussian', #'gamma',\n",
    "    model_id='glm_house',\n",
    "    nfolds=nfolds,\n",
    "    alpha=0.61,\n",
    "    fold_assignment=\"Modulo\",\n",
    "    keep_cross_validation_predictions=True)\n",
    "%time model_GLM.train(x, y, train)"
   ]
  },
  {
   "cell_type": "code",
   "execution_count": 15,
   "metadata": {},
   "outputs": [
    {
     "data": {
      "text/html": [
       "<div>\n",
       "<style scoped>\n",
       "    .dataframe tbody tr th:only-of-type {\n",
       "        vertical-align: middle;\n",
       "    }\n",
       "\n",
       "    .dataframe tbody tr th {\n",
       "        vertical-align: top;\n",
       "    }\n",
       "\n",
       "    .dataframe thead th {\n",
       "        text-align: right;\n",
       "    }\n",
       "</style>\n",
       "<table border=\"1\" class=\"dataframe\">\n",
       "  <thead>\n",
       "    <tr style=\"text-align: right;\">\n",
       "      <th></th>\n",
       "      <th></th>\n",
       "      <th>mean</th>\n",
       "      <th>sd</th>\n",
       "      <th>cv_1_valid</th>\n",
       "      <th>cv_2_valid</th>\n",
       "      <th>cv_3_valid</th>\n",
       "      <th>cv_4_valid</th>\n",
       "      <th>cv_5_valid</th>\n",
       "    </tr>\n",
       "  </thead>\n",
       "  <tbody>\n",
       "    <tr>\n",
       "      <th>0</th>\n",
       "      <td>mae</td>\n",
       "      <td>230053.23</td>\n",
       "      <td>715.8795</td>\n",
       "      <td>229225.16</td>\n",
       "      <td>230969.69</td>\n",
       "      <td>228503.45</td>\n",
       "      <td>230529.47</td>\n",
       "      <td>231038.42</td>\n",
       "    </tr>\n",
       "    <tr>\n",
       "      <th>1</th>\n",
       "      <td>mean_residual_deviance</td>\n",
       "      <td>1.31780157E11</td>\n",
       "      <td>4.5671977E9</td>\n",
       "      <td>1.32968604E11</td>\n",
       "      <td>1.41431144E11</td>\n",
       "      <td>1.31364495E11</td>\n",
       "      <td>1.32024402E11</td>\n",
       "      <td>1.21112134E11</td>\n",
       "    </tr>\n",
       "    <tr>\n",
       "      <th>2</th>\n",
       "      <td>mse</td>\n",
       "      <td>1.31780157E11</td>\n",
       "      <td>4.5671977E9</td>\n",
       "      <td>1.32968604E11</td>\n",
       "      <td>1.41431144E11</td>\n",
       "      <td>1.31364495E11</td>\n",
       "      <td>1.32024402E11</td>\n",
       "      <td>1.21112134E11</td>\n",
       "    </tr>\n",
       "    <tr>\n",
       "      <th>3</th>\n",
       "      <td>null_deviance</td>\n",
       "      <td>5.25455325E14</td>\n",
       "      <td>1.80834544E13</td>\n",
       "      <td>5.3056184E14</td>\n",
       "      <td>5.636807E14</td>\n",
       "      <td>5.23549568E14</td>\n",
       "      <td>5.26203388E14</td>\n",
       "      <td>4.83281095E14</td>\n",
       "    </tr>\n",
       "    <tr>\n",
       "      <th>4</th>\n",
       "      <td>r2</td>\n",
       "      <td>0.023522535</td>\n",
       "      <td>4.801036E-4</td>\n",
       "      <td>0.024299357</td>\n",
       "      <td>0.023168933</td>\n",
       "      <td>0.022531934</td>\n",
       "      <td>0.023340257</td>\n",
       "      <td>0.024272196</td>\n",
       "    </tr>\n",
       "    <tr>\n",
       "      <th>5</th>\n",
       "      <td>residual_deviance</td>\n",
       "      <td>5.12943247E14</td>\n",
       "      <td>1.7808912E13</td>\n",
       "      <td>5.17646773E14</td>\n",
       "      <td>5.5059142E14</td>\n",
       "      <td>5.11270625E14</td>\n",
       "      <td>5.13838982E14</td>\n",
       "      <td>4.71368433E14</td>\n",
       "    </tr>\n",
       "    <tr>\n",
       "      <th>6</th>\n",
       "      <td>rmse</td>\n",
       "      <td>362905.53</td>\n",
       "      <td>6314.0225</td>\n",
       "      <td>364648.6</td>\n",
       "      <td>376073.3</td>\n",
       "      <td>362442.4</td>\n",
       "      <td>363351.62</td>\n",
       "      <td>348011.7</td>\n",
       "    </tr>\n",
       "    <tr>\n",
       "      <th>7</th>\n",
       "      <td>rmsle</td>\n",
       "      <td>0.53911585</td>\n",
       "      <td>0.0047404445</td>\n",
       "      <td>0.54277176</td>\n",
       "      <td>0.5389013</td>\n",
       "      <td>0.5275475</td>\n",
       "      <td>0.53846484</td>\n",
       "      <td>0.54789394</td>\n",
       "    </tr>\n",
       "  </tbody>\n",
       "</table>\n",
       "</div>"
      ],
      "text/plain": [
       "                                    mean             sd     cv_1_valid  \\\n",
       "0                     mae      230053.23       715.8795      229225.16   \n",
       "1  mean_residual_deviance  1.31780157E11    4.5671977E9  1.32968604E11   \n",
       "2                     mse  1.31780157E11    4.5671977E9  1.32968604E11   \n",
       "3           null_deviance  5.25455325E14  1.80834544E13   5.3056184E14   \n",
       "4                      r2    0.023522535    4.801036E-4    0.024299357   \n",
       "5       residual_deviance  5.12943247E14   1.7808912E13  5.17646773E14   \n",
       "6                    rmse      362905.53      6314.0225       364648.6   \n",
       "7                   rmsle     0.53911585   0.0047404445     0.54277176   \n",
       "\n",
       "      cv_2_valid     cv_3_valid     cv_4_valid     cv_5_valid  \n",
       "0      230969.69      228503.45      230529.47      231038.42  \n",
       "1  1.41431144E11  1.31364495E11  1.32024402E11  1.21112134E11  \n",
       "2  1.41431144E11  1.31364495E11  1.32024402E11  1.21112134E11  \n",
       "3    5.636807E14  5.23549568E14  5.26203388E14  4.83281095E14  \n",
       "4    0.023168933    0.022531934    0.023340257    0.024272196  \n",
       "5   5.5059142E14  5.11270625E14  5.13838982E14  4.71368433E14  \n",
       "6       376073.3       362442.4      363351.62       348011.7  \n",
       "7      0.5389013      0.5275475     0.53846484     0.54789394  "
      ]
     },
     "execution_count": 15,
     "metadata": {},
     "output_type": "execute_result"
    }
   ],
   "source": [
    "model_GLM.cross_validation_metrics_summary().as_data_frame()"
   ]
  },
  {
   "cell_type": "code",
   "execution_count": 16,
   "metadata": {
    "scrolled": true
   },
   "outputs": [
    {
     "name": "stdout",
     "output_type": "stream",
     "text": [
      "\n",
      "ModelMetricsRegressionGLM: glm\n",
      "** Reported on test data. **\n",
      "\n",
      "MSE: 128806123545.59714\n",
      "RMSE: 358895.7000934911\n",
      "MAE: 233890.6933813204\n",
      "RMSLE: 0.5456714021880726\n",
      "R^2: 0.03102347771355851\n",
      "Mean Residual Deviance: 128806123545.59714\n",
      "Null degrees of freedom: 2150\n",
      "Residual degrees of freedom: 2129\n",
      "Null deviance: 285935013037402.7\n",
      "Residual deviance: 277061971746579.44\n",
      "AIC: 61176.23965800522\n"
     ]
    },
    {
     "data": {
      "text/plain": []
     },
     "execution_count": 16,
     "metadata": {},
     "output_type": "execute_result"
    }
   ],
   "source": [
    "model_GLM.model_performance(test)"
   ]
  },
  {
   "cell_type": "markdown",
   "metadata": {},
   "source": [
    "The best performing $\\alpha$ hyperparameter value for GLM was found using *GridSearch*. As can be seen from above, GLM could not achieve the target of RMSE below $123k neither on cross-validation nor on test dataset.\n",
    "\n",
    "The below models (**GBM**, **DRF** and **DL**) and the corresponding parameters were found with **AutoML leaderboard** and **GridSearch**, along with some manual tuning.\n",
    "\n",
    "### Model 2"
   ]
  },
  {
   "cell_type": "code",
   "execution_count": 17,
   "id": "6ea2b754",
   "metadata": {},
   "outputs": [
    {
     "name": "stdout",
     "output_type": "stream",
     "text": [
      "gbm Model Build progress: |███████████████████████████████████████████████| 100%\n",
      "Wall time: 54.9 s\n"
     ]
    }
   ],
   "source": [
    "model_GBM = H2OGradientBoostingEstimator(\n",
    "    model_id='gbm_house',\n",
    "    nfolds=nfolds,\n",
    "    ntrees=500,\n",
    "    fold_assignment=\"Modulo\",\n",
    "    keep_cross_validation_predictions=True,\n",
    "    seed=123)\n",
    "%time model_GBM.train(x, y, train)"
   ]
  },
  {
   "cell_type": "code",
   "execution_count": 18,
   "metadata": {},
   "outputs": [
    {
     "data": {
      "text/html": [
       "<div>\n",
       "<style scoped>\n",
       "    .dataframe tbody tr th:only-of-type {\n",
       "        vertical-align: middle;\n",
       "    }\n",
       "\n",
       "    .dataframe tbody tr th {\n",
       "        vertical-align: top;\n",
       "    }\n",
       "\n",
       "    .dataframe thead th {\n",
       "        text-align: right;\n",
       "    }\n",
       "</style>\n",
       "<table border=\"1\" class=\"dataframe\">\n",
       "  <thead>\n",
       "    <tr style=\"text-align: right;\">\n",
       "      <th></th>\n",
       "      <th></th>\n",
       "      <th>mean</th>\n",
       "      <th>sd</th>\n",
       "      <th>cv_1_valid</th>\n",
       "      <th>cv_2_valid</th>\n",
       "      <th>cv_3_valid</th>\n",
       "      <th>cv_4_valid</th>\n",
       "      <th>cv_5_valid</th>\n",
       "    </tr>\n",
       "  </thead>\n",
       "  <tbody>\n",
       "    <tr>\n",
       "      <th>0</th>\n",
       "      <td>mae</td>\n",
       "      <td>64136.496</td>\n",
       "      <td>912.2387</td>\n",
       "      <td>62751.688</td>\n",
       "      <td>66573.63</td>\n",
       "      <td>63946.31</td>\n",
       "      <td>63873.707</td>\n",
       "      <td>63537.137</td>\n",
       "    </tr>\n",
       "    <tr>\n",
       "      <th>1</th>\n",
       "      <td>mean_residual_deviance</td>\n",
       "      <td>1.38268457E10</td>\n",
       "      <td>1.43582912E9</td>\n",
       "      <td>1.24595825E10</td>\n",
       "      <td>1.75283814E10</td>\n",
       "      <td>1.2894718E10</td>\n",
       "      <td>1.43893801E10</td>\n",
       "      <td>1.18621655E10</td>\n",
       "    </tr>\n",
       "    <tr>\n",
       "      <th>2</th>\n",
       "      <td>mse</td>\n",
       "      <td>1.38268457E10</td>\n",
       "      <td>1.43582912E9</td>\n",
       "      <td>1.24595825E10</td>\n",
       "      <td>1.75283814E10</td>\n",
       "      <td>1.2894718E10</td>\n",
       "      <td>1.43893801E10</td>\n",
       "      <td>1.18621655E10</td>\n",
       "    </tr>\n",
       "    <tr>\n",
       "      <th>3</th>\n",
       "      <td>r2</td>\n",
       "      <td>0.8979097</td>\n",
       "      <td>0.0075696795</td>\n",
       "      <td>0.90857375</td>\n",
       "      <td>0.87893564</td>\n",
       "      <td>0.9040519</td>\n",
       "      <td>0.89355356</td>\n",
       "      <td>0.90443367</td>\n",
       "    </tr>\n",
       "    <tr>\n",
       "      <th>4</th>\n",
       "      <td>residual_deviance</td>\n",
       "      <td>1.38268457E10</td>\n",
       "      <td>1.43582912E9</td>\n",
       "      <td>1.24595825E10</td>\n",
       "      <td>1.75283814E10</td>\n",
       "      <td>1.2894718E10</td>\n",
       "      <td>1.43893801E10</td>\n",
       "      <td>1.18621655E10</td>\n",
       "    </tr>\n",
       "    <tr>\n",
       "      <th>5</th>\n",
       "      <td>rmse</td>\n",
       "      <td>117288.305</td>\n",
       "      <td>5928.7188</td>\n",
       "      <td>111622.5</td>\n",
       "      <td>132394.8</td>\n",
       "      <td>113554.914</td>\n",
       "      <td>119955.74</td>\n",
       "      <td>108913.57</td>\n",
       "    </tr>\n",
       "    <tr>\n",
       "      <th>6</th>\n",
       "      <td>rmsle</td>\n",
       "      <td>0.16441989</td>\n",
       "      <td>0.0025737707</td>\n",
       "      <td>0.16231671</td>\n",
       "      <td>0.17041409</td>\n",
       "      <td>0.15941188</td>\n",
       "      <td>0.16528262</td>\n",
       "      <td>0.16467415</td>\n",
       "    </tr>\n",
       "  </tbody>\n",
       "</table>\n",
       "</div>"
      ],
      "text/plain": [
       "                                    mean            sd     cv_1_valid  \\\n",
       "0                     mae      64136.496      912.2387      62751.688   \n",
       "1  mean_residual_deviance  1.38268457E10  1.43582912E9  1.24595825E10   \n",
       "2                     mse  1.38268457E10  1.43582912E9  1.24595825E10   \n",
       "3                      r2      0.8979097  0.0075696795     0.90857375   \n",
       "4       residual_deviance  1.38268457E10  1.43582912E9  1.24595825E10   \n",
       "5                    rmse     117288.305     5928.7188       111622.5   \n",
       "6                   rmsle     0.16441989  0.0025737707     0.16231671   \n",
       "\n",
       "      cv_2_valid    cv_3_valid     cv_4_valid     cv_5_valid  \n",
       "0       66573.63      63946.31      63873.707      63537.137  \n",
       "1  1.75283814E10  1.2894718E10  1.43893801E10  1.18621655E10  \n",
       "2  1.75283814E10  1.2894718E10  1.43893801E10  1.18621655E10  \n",
       "3     0.87893564     0.9040519     0.89355356     0.90443367  \n",
       "4  1.75283814E10  1.2894718E10  1.43893801E10  1.18621655E10  \n",
       "5       132394.8    113554.914      119955.74      108913.57  \n",
       "6     0.17041409    0.15941188     0.16528262     0.16467415  "
      ]
     },
     "execution_count": 18,
     "metadata": {},
     "output_type": "execute_result"
    }
   ],
   "source": [
    "model_GBM.cross_validation_metrics_summary().as_data_frame()"
   ]
  },
  {
   "cell_type": "markdown",
   "metadata": {},
   "source": [
    "As can be seen from the above table (row 5, column 1), the mean RMSE for cross-validation is 117288.305, which is below $123k."
   ]
  },
  {
   "cell_type": "code",
   "execution_count": 19,
   "metadata": {
    "scrolled": true
   },
   "outputs": [
    {
     "name": "stdout",
     "output_type": "stream",
     "text": [
      "\n",
      "ModelMetricsRegression: gbm\n",
      "** Reported on test data. **\n",
      "\n",
      "MSE: 14243079402.729088\n",
      "RMSE: 119344.37315068142\n",
      "MAE: 65050.344749203745\n",
      "RMSLE: 0.16421689257411975\n",
      "Mean Residual Deviance: 14243079402.729088\n"
     ]
    },
    {
     "data": {
      "text/plain": []
     },
     "execution_count": 19,
     "metadata": {},
     "output_type": "execute_result"
    }
   ],
   "source": [
    "model_GBM.model_performance(test)"
   ]
  },
  {
   "cell_type": "markdown",
   "metadata": {},
   "source": [
    "As can be seen from above, GBM could achieve the target of RMSE below $123k on test dataset.\n",
    "\n",
    "### Model 3"
   ]
  },
  {
   "cell_type": "code",
   "execution_count": 20,
   "metadata": {},
   "outputs": [
    {
     "name": "stdout",
     "output_type": "stream",
     "text": [
      "drf Model Build progress: |███████████████████████████████████████████████| 100%\n",
      "Wall time: 13.2 s\n"
     ]
    }
   ],
   "source": [
    "model_RF = H2ORandomForestEstimator(\n",
    "    model_id='rf_house',\n",
    "    nfolds=nfolds,\n",
    "    ntrees=20,\n",
    "    fold_assignment=\"Modulo\",\n",
    "    keep_cross_validation_predictions=True,\n",
    "    seed=123)\n",
    "%time model_RF.train(x, y, train)"
   ]
  },
  {
   "cell_type": "code",
   "execution_count": 21,
   "metadata": {},
   "outputs": [
    {
     "data": {
      "text/html": [
       "<div>\n",
       "<style scoped>\n",
       "    .dataframe tbody tr th:only-of-type {\n",
       "        vertical-align: middle;\n",
       "    }\n",
       "\n",
       "    .dataframe tbody tr th {\n",
       "        vertical-align: top;\n",
       "    }\n",
       "\n",
       "    .dataframe thead th {\n",
       "        text-align: right;\n",
       "    }\n",
       "</style>\n",
       "<table border=\"1\" class=\"dataframe\">\n",
       "  <thead>\n",
       "    <tr style=\"text-align: right;\">\n",
       "      <th></th>\n",
       "      <th></th>\n",
       "      <th>mean</th>\n",
       "      <th>sd</th>\n",
       "      <th>cv_1_valid</th>\n",
       "      <th>cv_2_valid</th>\n",
       "      <th>cv_3_valid</th>\n",
       "      <th>cv_4_valid</th>\n",
       "      <th>cv_5_valid</th>\n",
       "    </tr>\n",
       "  </thead>\n",
       "  <tbody>\n",
       "    <tr>\n",
       "      <th>0</th>\n",
       "      <td>mae</td>\n",
       "      <td>72734.0</td>\n",
       "      <td>1162.9153</td>\n",
       "      <td>73242.26</td>\n",
       "      <td>75062.21</td>\n",
       "      <td>73461.65</td>\n",
       "      <td>71646.195</td>\n",
       "      <td>70257.7</td>\n",
       "    </tr>\n",
       "    <tr>\n",
       "      <th>1</th>\n",
       "      <td>mean_residual_deviance</td>\n",
       "      <td>1.8545494E10</td>\n",
       "      <td>2.2018921E9</td>\n",
       "      <td>1.79095654E10</td>\n",
       "      <td>2.45911347E10</td>\n",
       "      <td>1.74433321E10</td>\n",
       "      <td>1.71117425E10</td>\n",
       "      <td>1.56716954E10</td>\n",
       "    </tr>\n",
       "    <tr>\n",
       "      <th>2</th>\n",
       "      <td>mse</td>\n",
       "      <td>1.8545494E10</td>\n",
       "      <td>2.2018921E9</td>\n",
       "      <td>1.79095654E10</td>\n",
       "      <td>2.45911347E10</td>\n",
       "      <td>1.74433321E10</td>\n",
       "      <td>1.71117425E10</td>\n",
       "      <td>1.56716954E10</td>\n",
       "    </tr>\n",
       "    <tr>\n",
       "      <th>3</th>\n",
       "      <td>r2</td>\n",
       "      <td>0.8632202</td>\n",
       "      <td>0.011770816</td>\n",
       "      <td>0.8685827</td>\n",
       "      <td>0.8301549</td>\n",
       "      <td>0.8702062</td>\n",
       "      <td>0.8734147</td>\n",
       "      <td>0.8737426</td>\n",
       "    </tr>\n",
       "    <tr>\n",
       "      <th>4</th>\n",
       "      <td>residual_deviance</td>\n",
       "      <td>1.8545494E10</td>\n",
       "      <td>2.2018921E9</td>\n",
       "      <td>1.79095654E10</td>\n",
       "      <td>2.45911347E10</td>\n",
       "      <td>1.74433321E10</td>\n",
       "      <td>1.71117425E10</td>\n",
       "      <td>1.56716954E10</td>\n",
       "    </tr>\n",
       "    <tr>\n",
       "      <th>5</th>\n",
       "      <td>rmse</td>\n",
       "      <td>135742.78</td>\n",
       "      <td>7726.2373</td>\n",
       "      <td>133826.62</td>\n",
       "      <td>156815.61</td>\n",
       "      <td>132073.2</td>\n",
       "      <td>130811.86</td>\n",
       "      <td>125186.64</td>\n",
       "    </tr>\n",
       "    <tr>\n",
       "      <th>6</th>\n",
       "      <td>rmsle</td>\n",
       "      <td>0.18275535</td>\n",
       "      <td>0.0020155373</td>\n",
       "      <td>0.18441868</td>\n",
       "      <td>0.18689767</td>\n",
       "      <td>0.17945778</td>\n",
       "      <td>0.1833288</td>\n",
       "      <td>0.17967385</td>\n",
       "    </tr>\n",
       "  </tbody>\n",
       "</table>\n",
       "</div>"
      ],
      "text/plain": [
       "                                   mean            sd     cv_1_valid  \\\n",
       "0                     mae       72734.0     1162.9153       73242.26   \n",
       "1  mean_residual_deviance  1.8545494E10   2.2018921E9  1.79095654E10   \n",
       "2                     mse  1.8545494E10   2.2018921E9  1.79095654E10   \n",
       "3                      r2     0.8632202   0.011770816      0.8685827   \n",
       "4       residual_deviance  1.8545494E10   2.2018921E9  1.79095654E10   \n",
       "5                    rmse     135742.78     7726.2373      133826.62   \n",
       "6                   rmsle    0.18275535  0.0020155373     0.18441868   \n",
       "\n",
       "      cv_2_valid     cv_3_valid     cv_4_valid     cv_5_valid  \n",
       "0       75062.21       73461.65      71646.195        70257.7  \n",
       "1  2.45911347E10  1.74433321E10  1.71117425E10  1.56716954E10  \n",
       "2  2.45911347E10  1.74433321E10  1.71117425E10  1.56716954E10  \n",
       "3      0.8301549      0.8702062      0.8734147      0.8737426  \n",
       "4  2.45911347E10  1.74433321E10  1.71117425E10  1.56716954E10  \n",
       "5      156815.61       132073.2      130811.86      125186.64  \n",
       "6     0.18689767     0.17945778      0.1833288     0.17967385  "
      ]
     },
     "execution_count": 21,
     "metadata": {},
     "output_type": "execute_result"
    }
   ],
   "source": [
    "model_RF.cross_validation_metrics_summary().as_data_frame()"
   ]
  },
  {
   "cell_type": "code",
   "execution_count": 22,
   "metadata": {},
   "outputs": [
    {
     "name": "stdout",
     "output_type": "stream",
     "text": [
      "\n",
      "ModelMetricsRegression: drf\n",
      "** Reported on test data. **\n",
      "\n",
      "MSE: 16405336914.530426\n",
      "RMSE: 128083.3202041953\n",
      "MAE: 71572.37981480274\n",
      "RMSLE: 0.17712324625977907\n",
      "Mean Residual Deviance: 16405336914.530426\n"
     ]
    },
    {
     "data": {
      "text/plain": []
     },
     "execution_count": 22,
     "metadata": {},
     "output_type": "execute_result"
    }
   ],
   "source": [
    "model_RF.model_performance(test)"
   ]
  },
  {
   "cell_type": "markdown",
   "metadata": {},
   "source": [
    "As can be seen from above, DRF just missed the target of RMSE below $123k for on both the cross-validation and on test dataset.\n",
    "\n",
    "### Model 4"
   ]
  },
  {
   "cell_type": "code",
   "execution_count": 23,
   "metadata": {},
   "outputs": [
    {
     "name": "stdout",
     "output_type": "stream",
     "text": [
      "deeplearning Model Build progress: |██████████████████████████████████████| 100%\n",
      "Wall time: 55.7 s\n"
     ]
    }
   ],
   "source": [
    "model_DL = H2ODeepLearningEstimator(epochs=30, \n",
    "                                       model_id='dl_house',\n",
    "                                       nfolds=nfolds,\n",
    "                                       stopping_rounds=7, \n",
    "                                       stopping_tolerance=0.006, \n",
    "                                       hidden=[30, 30, 30],\n",
    "                                       reproducible=True,\n",
    "                                       fold_assignment=\"Modulo\",\n",
    "                                       keep_cross_validation_predictions=True,\n",
    "                                       seed=123\n",
    "                                   )\n",
    "%time model_DL.train(x, y, train)"
   ]
  },
  {
   "cell_type": "code",
   "execution_count": 24,
   "metadata": {},
   "outputs": [
    {
     "data": {
      "text/html": [
       "<div>\n",
       "<style scoped>\n",
       "    .dataframe tbody tr th:only-of-type {\n",
       "        vertical-align: middle;\n",
       "    }\n",
       "\n",
       "    .dataframe tbody tr th {\n",
       "        vertical-align: top;\n",
       "    }\n",
       "\n",
       "    .dataframe thead th {\n",
       "        text-align: right;\n",
       "    }\n",
       "</style>\n",
       "<table border=\"1\" class=\"dataframe\">\n",
       "  <thead>\n",
       "    <tr style=\"text-align: right;\">\n",
       "      <th></th>\n",
       "      <th></th>\n",
       "      <th>mean</th>\n",
       "      <th>sd</th>\n",
       "      <th>cv_1_valid</th>\n",
       "      <th>cv_2_valid</th>\n",
       "      <th>cv_3_valid</th>\n",
       "      <th>cv_4_valid</th>\n",
       "      <th>cv_5_valid</th>\n",
       "    </tr>\n",
       "  </thead>\n",
       "  <tbody>\n",
       "    <tr>\n",
       "      <th>0</th>\n",
       "      <td>mae</td>\n",
       "      <td>72458.19</td>\n",
       "      <td>1241.8936</td>\n",
       "      <td>71992.18</td>\n",
       "      <td>73569.984</td>\n",
       "      <td>75272.75</td>\n",
       "      <td>70553.38</td>\n",
       "      <td>70902.65</td>\n",
       "    </tr>\n",
       "    <tr>\n",
       "      <th>1</th>\n",
       "      <td>mean_residual_deviance</td>\n",
       "      <td>1.48438886E10</td>\n",
       "      <td>5.5005555E8</td>\n",
       "      <td>1.42477005E10</td>\n",
       "      <td>1.59033723E10</td>\n",
       "      <td>1.54513889E10</td>\n",
       "      <td>1.48586271E10</td>\n",
       "      <td>1.37583514E10</td>\n",
       "    </tr>\n",
       "    <tr>\n",
       "      <th>2</th>\n",
       "      <td>mse</td>\n",
       "      <td>1.48438886E10</td>\n",
       "      <td>5.5005555E8</td>\n",
       "      <td>1.42477005E10</td>\n",
       "      <td>1.59033723E10</td>\n",
       "      <td>1.54513889E10</td>\n",
       "      <td>1.48586271E10</td>\n",
       "      <td>1.37583514E10</td>\n",
       "    </tr>\n",
       "    <tr>\n",
       "      <th>3</th>\n",
       "      <td>r2</td>\n",
       "      <td>0.8899759</td>\n",
       "      <td>0.0023493338</td>\n",
       "      <td>0.89545286</td>\n",
       "      <td>0.8901592</td>\n",
       "      <td>0.885028</td>\n",
       "      <td>0.89008224</td>\n",
       "      <td>0.88915724</td>\n",
       "    </tr>\n",
       "    <tr>\n",
       "      <th>4</th>\n",
       "      <td>residual_deviance</td>\n",
       "      <td>1.48438886E10</td>\n",
       "      <td>5.5005555E8</td>\n",
       "      <td>1.42477005E10</td>\n",
       "      <td>1.59033723E10</td>\n",
       "      <td>1.54513889E10</td>\n",
       "      <td>1.48586271E10</td>\n",
       "      <td>1.37583514E10</td>\n",
       "    </tr>\n",
       "    <tr>\n",
       "      <th>5</th>\n",
       "      <td>rmse</td>\n",
       "      <td>121793.58</td>\n",
       "      <td>2259.6975</td>\n",
       "      <td>119363.734</td>\n",
       "      <td>126108.58</td>\n",
       "      <td>124303.62</td>\n",
       "      <td>121895.97</td>\n",
       "      <td>117296.0</td>\n",
       "    </tr>\n",
       "    <tr>\n",
       "      <th>6</th>\n",
       "      <td>rmsle</td>\n",
       "      <td>0.18431115</td>\n",
       "      <td>0.0011469581</td>\n",
       "      <td>0.18251595</td>\n",
       "      <td>0.18650953</td>\n",
       "      <td>0.18453318</td>\n",
       "      <td>0.18555655</td>\n",
       "      <td>0.18244053</td>\n",
       "    </tr>\n",
       "  </tbody>\n",
       "</table>\n",
       "</div>"
      ],
      "text/plain": [
       "                                    mean            sd     cv_1_valid  \\\n",
       "0                     mae       72458.19     1241.8936       71992.18   \n",
       "1  mean_residual_deviance  1.48438886E10   5.5005555E8  1.42477005E10   \n",
       "2                     mse  1.48438886E10   5.5005555E8  1.42477005E10   \n",
       "3                      r2      0.8899759  0.0023493338     0.89545286   \n",
       "4       residual_deviance  1.48438886E10   5.5005555E8  1.42477005E10   \n",
       "5                    rmse      121793.58     2259.6975     119363.734   \n",
       "6                   rmsle     0.18431115  0.0011469581     0.18251595   \n",
       "\n",
       "      cv_2_valid     cv_3_valid     cv_4_valid     cv_5_valid  \n",
       "0      73569.984       75272.75       70553.38       70902.65  \n",
       "1  1.59033723E10  1.54513889E10  1.48586271E10  1.37583514E10  \n",
       "2  1.59033723E10  1.54513889E10  1.48586271E10  1.37583514E10  \n",
       "3      0.8901592       0.885028     0.89008224     0.88915724  \n",
       "4  1.59033723E10  1.54513889E10  1.48586271E10  1.37583514E10  \n",
       "5      126108.58      124303.62      121895.97       117296.0  \n",
       "6     0.18650953     0.18453318     0.18555655     0.18244053  "
      ]
     },
     "execution_count": 24,
     "metadata": {},
     "output_type": "execute_result"
    }
   ],
   "source": [
    "model_DL.cross_validation_metrics_summary().as_data_frame()"
   ]
  },
  {
   "cell_type": "markdown",
   "metadata": {},
   "source": [
    "As can be seen from the above table (row 5, column 1), the mean RMSE for cross-validation is 121793.58, which is below $123k."
   ]
  },
  {
   "cell_type": "code",
   "execution_count": 25,
   "metadata": {
    "scrolled": true
   },
   "outputs": [
    {
     "name": "stdout",
     "output_type": "stream",
     "text": [
      "\n",
      "ModelMetricsRegression: deeplearning\n",
      "** Reported on test data. **\n",
      "\n",
      "MSE: 14781990070.095192\n",
      "RMSE: 121581.20771770278\n",
      "MAE: 72522.60487846025\n",
      "RMSLE: 0.1834924698171073\n",
      "Mean Residual Deviance: 14781990070.095192\n"
     ]
    },
    {
     "data": {
      "text/plain": []
     },
     "execution_count": 25,
     "metadata": {},
     "output_type": "execute_result"
    }
   ],
   "source": [
    "model_DL.model_performance(test)"
   ]
  },
  {
   "cell_type": "markdown",
   "metadata": {},
   "source": [
    "As can be seen from above, the deep learning model could achieve the target of RMSE below $123 on test dataset."
   ]
  },
  {
   "cell_type": "markdown",
   "metadata": {},
   "source": [
    "## Step 3\n",
    "\n",
    "Step three is to train a stacked ensemble of the models you made in step two.\n",
    "\n",
    "Repeat steps two and three until your best model (which is usually your ensemble model, but does not have to be) has the minimum required performance on the validation data.\n",
    "\n",
    "Note: only one model has to achieve the minimum required performance. If multiple models achieve it, choose the best performing one to deliver."
   ]
  },
  {
   "cell_type": "code",
   "execution_count": 26,
   "metadata": {},
   "outputs": [
    {
     "name": "stdout",
     "output_type": "stream",
     "text": [
      "stackedensemble Model Build progress: |███████████████████████████████████| 100%\n",
      "Wall time: 2.67 s\n"
     ]
    }
   ],
   "source": [
    "models = [model_GBM.model_id, model_RF.model_id, model_DL.model_id] #model_GLM.model_id,\n",
    "model_SE = H2OStackedEnsembleEstimator(model_id = 'se_gbm_dl_house', base_models=models)\n",
    "%time model_SE.train(x, y, train)"
   ]
  },
  {
   "cell_type": "code",
   "execution_count": 27,
   "metadata": {},
   "outputs": [
    {
     "name": "stdout",
     "output_type": "stream",
     "text": [
      "\n",
      "ModelMetricsRegressionGLM: stackedensemble\n",
      "** Reported on test data. **\n",
      "\n",
      "MSE: 130916347835.45828\n",
      "RMSE: 361823.6418967924\n",
      "MAE: 236448.3672215734\n",
      "RMSLE: 0.5514878971097109\n",
      "R^2: 0.015148783736682492\n",
      "Mean Residual Deviance: 130916347835.45828\n",
      "Null degrees of freedom: 2150\n",
      "Residual degrees of freedom: 2147\n",
      "Null deviance: 285935013037402.7\n",
      "Residual deviance: 281601064194070.75\n",
      "AIC: 61175.193832813566\n"
     ]
    },
    {
     "data": {
      "text/plain": []
     },
     "execution_count": 27,
     "metadata": {},
     "output_type": "execute_result"
    }
   ],
   "source": [
    "model_SE.model_performance(test)"
   ]
  },
  {
   "cell_type": "markdown",
   "metadata": {},
   "source": [
    "As can be seen from above, the stacked ensemble model could not reach the required performance, neither on the cross-validation, nor on the test dataset."
   ]
  },
  {
   "cell_type": "markdown",
   "metadata": {},
   "source": [
    "## Step 4\n",
    "\n",
    "Step four is to get the performance on the test data of your chosen model/ensemble, and confirm that this also reaches the minimum target on the test data. Record your model performance in comments at the end of your script."
   ]
  },
  {
   "cell_type": "markdown",
   "metadata": {},
   "source": [
    "### Best Model"
   ]
  },
  {
   "cell_type": "markdown",
   "metadata": {},
   "source": [
    "The model that performs best in terms of mean cross-validation RMSE and RMSE on the test dataset (both of them are below the minimum target $123k) is the gradient boositng model (**GBM**), which is the **Model 2** above."
   ]
  },
  {
   "cell_type": "code",
   "execution_count": 28,
   "metadata": {},
   "outputs": [
    {
     "name": "stdout",
     "output_type": "stream",
     "text": [
      "\n",
      "ModelMetricsRegression: gbm\n",
      "** Reported on test data. **\n",
      "\n",
      "MSE: 14243079402.729088\n",
      "RMSE: 119344.37315068142\n",
      "MAE: 65050.344749203745\n",
      "RMSLE: 0.16421689257411975\n",
      "Mean Residual Deviance: 14243079402.729088\n"
     ]
    },
    {
     "data": {
      "text/plain": []
     },
     "execution_count": 28,
     "metadata": {},
     "output_type": "execute_result"
    }
   ],
   "source": [
    "model_GBM.model_performance(test)"
   ]
  },
  {
   "cell_type": "code",
   "execution_count": 29,
   "metadata": {},
   "outputs": [
    {
     "data": {
      "text/plain": [
       "'C:\\\\courses\\\\coursera\\\\H2O\\\\Week6\\\\DL_model\\\\dl_house'"
      ]
     },
     "execution_count": 29,
     "metadata": {},
     "output_type": "execute_result"
    }
   ],
   "source": [
    "h2o.save_model(model_GBM, 'best_model (GBM)') # the final best model\n",
    "h2o.save_model(model_SE, 'SE_model')\n",
    "h2o.save_model(model_GBM, 'GBM_model')\n",
    "h2o.save_model(model_RF, 'RF_model')\n",
    "h2o.save_model(model_GLM, 'GLM_model')\n",
    "h2o.save_model(model_DL, 'DL_model')"
   ]
  },
  {
   "cell_type": "code",
   "execution_count": null,
   "metadata": {},
   "outputs": [],
   "source": []
  }
 ],
 "metadata": {
  "kernelspec": {
   "display_name": "Python 3",
   "language": "python",
   "name": "python3"
  },
  "language_info": {
   "codemirror_mode": {
    "name": "ipython",
    "version": 3
   },
   "file_extension": ".py",
   "mimetype": "text/x-python",
   "name": "python",
   "nbconvert_exporter": "python",
   "pygments_lexer": "ipython3",
   "version": "3.7.6"
  }
 },
 "nbformat": 4,
 "nbformat_minor": 5
}
