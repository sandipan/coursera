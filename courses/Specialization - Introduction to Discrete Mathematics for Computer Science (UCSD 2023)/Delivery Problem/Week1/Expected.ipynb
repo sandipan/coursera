{
 "cells": [
  {
   "cell_type": "code",
   "execution_count": 1,
   "metadata": {
    "collapsed": true
   },
   "outputs": [],
   "source": [
    "import networkx as nx\n",
    "from itertools import permutations\n",
    "import math\n",
    "\n",
    "# This function computes the distance between two points.\n",
    "def dist(x1, y1, x2, y2):\n",
    "    return math.sqrt((x1 - x2) ** 2 + (y1 - y2) ** 2)"
   ]
  },
  {
   "cell_type": "code",
   "execution_count": 2,
   "metadata": {
    "collapsed": true
   },
   "outputs": [],
   "source": [
    "# This function receives a list of 2-tuples representing the points' coordinates,\n",
    "# and returns the corresponding graph.\n",
    "def get_graph(coordinates):\n",
    "    g = nx.Graph()\n",
    "    n = len(coordinates)\n",
    "    for i in range(n):\n",
    "        for j in range(i + 1):\n",
    "            g.add_edge(i, j, weight=dist(coordinates[i][0], coordinates[i][1], coordinates[j][0], coordinates[j][1]))\n",
    "    return g"
   ]
  },
  {
   "cell_type": "code",
   "execution_count": 3,
   "metadata": {
    "collapsed": true
   },
   "outputs": [],
   "source": [
    "# This function computes the weight of the given cycle.\n",
    "def cycle_length(g, cycle):\n",
    "    # Checking that the number of vertices in the graph equals the number of vertices in the cycle.\n",
    "    assert len(cycle) == g.number_of_nodes()\n",
    "    # Write your code here.\n",
    "    return sum(g[cycle[i]][cycle[i + 1]]['weight'] for i in range(len(cycle) - 1)) + g[cycle[0]][cycle[-1]]['weight']\n",
    "\n",
    "# This function iterates through all permutations and returns the length of an optimal cycle.\n",
    "# You can implement any other algorithm here and visualize it.\n",
    "#\n",
    "def all_permutations(g):\n",
    "    # n is the number of vertices.\n",
    "    n = g.number_of_nodes()\n",
    "\n",
    "    # Iterate through all permutations of n vertices\n",
    "    opt = float('inf')\n",
    "    for p in permutations(range(n)):\n",
    "        # Write your code here.\n",
    "        opt = min(opt, cycle_length(g, p))\n",
    "\n",
    "    return opt"
   ]
  },
  {
   "cell_type": "code",
   "execution_count": 5,
   "metadata": {},
   "outputs": [],
   "source": [
    "# Insert your function computing the average length of Hamiltonian cycles here:\n",
    "def average(g):\n",
    "    n = g.number_of_nodes()\n",
    "    sum_of_weights = sum(g[i][j]['weight'] for i in range(n) for j in range(i))\n",
    "    return 2*sum_of_weights / (n-1)"
   ]
  },
  {
   "cell_type": "code",
   "execution_count": 6,
   "metadata": {},
   "outputs": [
    {
     "name": "stdout",
     "output_type": "stream",
     "text": [
      "Example 1. The length of an optimal cycle is 179.99995803749266\n",
      "Example 1. The average cycle length is 179.99995803749266\n",
      "Example 2. The length of an optimal cycle is 660.0\n",
      "Example 2. The average cycle length is 1430.4731342610064\n"
     ]
    }
   ],
   "source": [
    "# Check how close an average solution is to an optimal one for the two following examples:\n",
    "coordinates1 = [\n",
    "    (0,0),\n",
    "    (60, 0),\n",
    "    (30, 51.9615)\n",
    "    ]\n",
    "\n",
    "coordinates2 = [\n",
    "    (0, 0),\n",
    "    (300, 0),\n",
    "    (0, 10),\n",
    "    (300, 10),\n",
    "    (0, 20),\n",
    "    (300, 20),\n",
    "    (0, 30),\n",
    "    (300, 30)\n",
    "    ]\n",
    "\n",
    "g1 = get_graph(coordinates1)\n",
    "print(\"Example 1. The length of an optimal cycle is\", all_permutations(g1))\n",
    "print(\"Example 1. The average cycle length is\", average(g1))\n",
    "\n",
    "g2 = get_graph(coordinates2)\n",
    "print(\"Example 2. The length of an optimal cycle is\", all_permutations(g2))\n",
    "print(\"Example 2. The average cycle length is\", average(g2))\n",
    "\n",
    "# You might want to copy these coordinates into the previous Jupiter Notebook \n",
    "# to visualize the datasets and see other examples."
   ]
  }
 ],
 "metadata": {
  "kernelspec": {
   "display_name": "Python 3",
   "language": "python",
   "name": "python3"
  },
  "language_info": {
   "codemirror_mode": {
    "name": "ipython",
    "version": 3
   },
   "file_extension": ".py",
   "mimetype": "text/x-python",
   "name": "python",
   "nbconvert_exporter": "python",
   "pygments_lexer": "ipython3",
   "version": "3.6.2"
  }
 },
 "nbformat": 4,
 "nbformat_minor": 2
}
