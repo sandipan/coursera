{
 "cells": [
  {
   "cell_type": "code",
   "execution_count": 1,
   "metadata": {
    "collapsed": true
   },
   "outputs": [],
   "source": [
    "import networkx as nx\n",
    "import matplotlib.pyplot as plot\n",
    "import math\n",
    "from itertools import permutations\n",
    "\n",
    "\n",
    "# This function takes\n",
    "# 1. a list of 2-tuples which represent the coordinates of the given points\n",
    "# 2. and a cycle to be visualized.\n",
    "def plot_cycle(coordinates, cycle):\n",
    "    # Compute the x and y coordinates in the order according to the cycle\n",
    "    x_coordinates = [coordinates[i][0] for i in cycle]\n",
    "    y_coordinates = [coordinates[i][1] for i in cycle]\n",
    "\n",
    "    # Add the first vertex of the cycle (to close the cycle)\n",
    "    x_coordinates.append(coordinates[cycle[0]][0])\n",
    "    y_coordinates.append(coordinates[cycle[0]][1])\n",
    "\n",
    "    plot.plot(x_coordinates, y_coordinates, 'xb-', )\n",
    "    plot.show()"
   ]
  },
  {
   "cell_type": "code",
   "execution_count": 2,
   "metadata": {
    "collapsed": true
   },
   "outputs": [],
   "source": [
    "# This function computes the weight of the given cycle.\n",
    "def cycle_length(g, cycle):\n",
    "    # Checking that the number of vertices in the graph equals the number of vertices in the cycle.\n",
    "    assert len(cycle) == g.number_of_nodes()\n",
    "    # Write your code here.\n",
    "    return sum(g[cycle[i]][cycle[i + 1]]['weight'] for i in range(len(cycle) - 1)) + g[cycle[0]][cycle[-1]]['weight']"
   ]
  },
  {
   "cell_type": "code",
   "execution_count": 3,
   "metadata": {
    "collapsed": true
   },
   "outputs": [],
   "source": [
    "# This function computes the distance between two points.\n",
    "def dist(x1, y1, x2, y2):\n",
    "    return math.sqrt((x1 - x2) ** 2 + (y1 - y2) ** 2)"
   ]
  },
  {
   "cell_type": "code",
   "execution_count": 4,
   "metadata": {
    "collapsed": true
   },
   "outputs": [],
   "source": [
    "# This function receives a list of 2-tuples representing the points' coordinates,\n",
    "# and returns the corresponding graph.\n",
    "def get_graph(coordinates):\n",
    "    g = nx.Graph()\n",
    "    n = len(coordinates)\n",
    "    for i in range(n):\n",
    "        for j in range(i + 1):\n",
    "            g.add_edge(i, j, weight=dist(coordinates[i][0], coordinates[i][1], coordinates[j][0], coordinates[j][1]))\n",
    "    return g"
   ]
  },
  {
   "cell_type": "code",
   "execution_count": 5,
   "metadata": {
    "collapsed": true
   },
   "outputs": [],
   "source": [
    "# This function iterates through all permutations and returns an optimal cycle.\n",
    "# You can implement any other algorithm here and visualize it.\n",
    "#\n",
    "# Note that in the previous questions you were asked to compute the length of an optimal cycle only,\n",
    "# while this function returns an optimal cycle itself (so that we could plot it later).\n",
    "def all_permutations(g):\n",
    "    # n is the number of vertices.\n",
    "    n = g.number_of_nodes()\n",
    "    opt = float('inf')\n",
    "\n",
    "    # Iterate through all permutations of n vertices\n",
    "    for p in permutations(range(n)):\n",
    "        if cycle_length(g, p) < opt:\n",
    "            opt = cycle_length(g, p)\n",
    "            opt_perm = p\n",
    "\n",
    "    return opt_perm"
   ]
  },
  {
   "cell_type": "code",
   "execution_count": 6,
   "metadata": {},
   "outputs": [
    {
     "data": {
      "image/png": "[encoded data removed]",
      "text/plain": [
       "<matplotlib.figure.Figure at 0x7f36e25acf28>"
      ]
     },
     "metadata": {},
     "output_type": "display_data"
    }
   ],
   "source": [
    "# Example 1\n",
    "# Consider the following 3 points.\n",
    "coordinates = [\n",
    "    (166, 282),\n",
    "    (43, 79),\n",
    "    (285, 44)\n",
    "    ]\n",
    "# Create a corresponding graph.\n",
    "g = get_graph(coordinates)\n",
    "# Compute an optimal Hamiltonian path using some algorithm (e.g., the all_permutations algorithm).\n",
    "cycle = all_permutations(g)\n",
    "# Plot the resulting cycle\n",
    "plot_cycle(coordinates, cycle)"
   ]
  },
  {
   "cell_type": "code",
   "execution_count": 7,
   "metadata": {},
   "outputs": [
    {
     "data": {
      "image/png": "[encoded data removed]",
      "text/plain": [
       "<matplotlib.figure.Figure at 0x7f36e04fa278>"
      ]
     },
     "metadata": {},
     "output_type": "display_data"
    }
   ],
   "source": [
    "# Example 2\n",
    "# Consider the following 5 points.\n",
    "coordinates = [\n",
    "    (284, 87),\n",
    "    (183, 254),\n",
    "    (113, 185),\n",
    "    (159, 38),\n",
    "    (271, 257)\n",
    "    ]\n",
    "# Create a corresponding graph.\n",
    "g = get_graph(coordinates)\n",
    "# Compute an optimal Hamiltonian path using some algorithm (e.g., the all_permutations algorithm).\n",
    "cycle = all_permutations(g)\n",
    "# Plot the resulting cycle\n",
    "plot_cycle(coordinates, cycle)"
   ]
  },
  {
   "cell_type": "code",
   "execution_count": 8,
   "metadata": {},
   "outputs": [
    {
     "data": {
      "image/png": "[encoded data removed]",
      "text/plain": [
       "<matplotlib.figure.Figure at 0x7f37517f7a20>"
      ]
     },
     "metadata": {},
     "output_type": "display_data"
    }
   ],
   "source": [
    "# Example 3\n",
    "# Consider the following 7 points.\n",
    "coordinates = [\n",
    "    (231, 72),\n",
    "    (68, 9),\n",
    "    (11, 90),\n",
    "    (237, 116),\n",
    "    (168, 112),\n",
    "    (141, 69),\n",
    "    (17, 18)\n",
    "    ]\n",
    "# Create a corresponding graph.\n",
    "g = get_graph(coordinates)\n",
    "# Compute an optimal Hamiltonian path using some algorithm (e.g., the all_permutations algorithm).\n",
    "cycle = all_permutations(g)\n",
    "# Plot the resulting cycle\n",
    "plot_cycle(coordinates, cycle)"
   ]
  },
  {
   "cell_type": "code",
   "execution_count": null,
   "metadata": {
    "collapsed": true
   },
   "outputs": [],
   "source": []
  }
 ],
 "metadata": {
  "kernelspec": {
   "display_name": "Python 3",
   "language": "python",
   "name": "python3"
  },
  "language_info": {
   "codemirror_mode": {
    "name": "ipython",
    "version": 3
   },
   "file_extension": ".py",
   "mimetype": "text/x-python",
   "name": "python",
   "nbconvert_exporter": "python",
   "pygments_lexer": "ipython3",
   "version": "3.6.2"
  }
 },
 "nbformat": 4,
 "nbformat_minor": 2
}
