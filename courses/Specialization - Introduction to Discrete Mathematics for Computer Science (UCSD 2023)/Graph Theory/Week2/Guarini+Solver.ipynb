{
 "cells": [
  {
   "cell_type": "markdown",
   "metadata": {
    "raw_mimetype": "text/html"
   },
   "source": [
    "<p>In this notebook, we'll implement a program that we'll solve the Guarini puzzle in blink of an eye!</p>\n",
    "\n",
    "<p>Before starting to implement, let's agree on the following representation of a configuration. First, let's enumerate the eight essential cells of a 3x3 board as follows:\n",
    "<center><img src=\"boardnums.png\" style=\"width: 300px;\"/></center>\n",
    "By a configuration we mean a placement of two white and two black knight on this board. We will represent it as a string of length eight. Its i-th symbol is equal to \"*\", if there is no knight in the i-th cell of the board. It is equal to \"B\" or \"W\", if the i-th cell contains a black or white knight, respectively. See an example below.\n",
    "<center><img src=\"configuration.png\" style=\"width: 300px;\"/></center></p>"
   ]
  },
  {
   "cell_type": "markdown",
   "metadata": {},
   "source": [
    "We now start creating the graph of all configurations. Below, we iterate through all possible strings of length 8 with two W's and two B's. For this, we iterate through all possible four indices of W's and B's (out of eight possible positions). "
   ]
  },
  {
   "cell_type": "code",
   "execution_count": 1,
   "metadata": {
    "collapsed": true
   },
   "outputs": [],
   "source": [
    "import networkx as nx\n",
    "import itertools as it\n",
    "\n",
    "G = nx.Graph()\n",
    "\n",
    "for wb_indices in it.permutations(range(8), 4):\n",
    "    configuration = ['*'] * 8\n",
    "    configuration[wb_indices[0]] = 'W'\n",
    "    configuration[wb_indices[1]] = 'W'\n",
    "    configuration[wb_indices[2]] = 'B'\n",
    "    configuration[wb_indices[3]] = 'B'\n",
    "\n",
    "    G.add_node(\"\".join(configuration))"
   ]
  },
  {
   "cell_type": "markdown",
   "metadata": {},
   "source": [
    "We then add edges to the graph. For this, we first fill in a list moves: moves[i] are the numbers of cells where a knight can move from the i-th cell."
   ]
  },
  {
   "cell_type": "code",
   "execution_count": 2,
   "metadata": {
    "collapsed": true
   },
   "outputs": [],
   "source": [
    "moves = [[] for _ in range(8)]\n",
    "moves[0] = [4, 6]\n",
    "moves[1] = [5, 7]\n",
    "moves[2] = [3, 6]\n",
    "moves[3] = [2, 7]\n",
    "moves[4] = [0, 5]\n",
    "moves[5] = [1, 4]\n",
    "moves[6] = [0, 2]\n",
    "moves[7] = [1, 3]"
   ]
  },
  {
   "cell_type": "markdown",
   "metadata": {},
   "source": [
    "Adding edges to the graph:"
   ]
  },
  {
   "cell_type": "code",
   "execution_count": 3,
   "metadata": {
    "collapsed": true
   },
   "outputs": [],
   "source": [
    "for node in G.nodes():\n",
    "    configuration = [c for c in node]\n",
    "\n",
    "    for i in range(8):\n",
    "        if configuration[i] != \"*\":\n",
    "            for new_pos in moves[i]:\n",
    "                if configuration[new_pos] != \"*\":\n",
    "                    continue\n",
    "                new_configuration = list(configuration)\n",
    "\n",
    "                new_configuration[i] = \"*\"\n",
    "                new_configuration[new_pos] = configuration[i]\n",
    "\n",
    "                if not G.has_edge(\"\".join(configuration), \"\".join(new_configuration)):\n",
    "                    G.add_edge(\"\".join(configuration), \"\".join(new_configuration))"
   ]
  },
  {
   "cell_type": "markdown",
   "metadata": {},
   "source": [
    "OK, the graph has been cooked! We can now analyze it. Let's first print its number of nodes, number of edges, and number of connected components."
   ]
  },
  {
   "cell_type": "code",
   "execution_count": 4,
   "metadata": {},
   "outputs": [
    {
     "name": "stdout",
     "output_type": "stream",
     "text": [
      "420\n",
      "960\n",
      "2\n"
     ]
    }
   ],
   "source": [
    "print(nx.number_of_nodes(G))\n",
    "print(nx.number_of_edges(G))\n",
    "print(nx.number_connected_components(G))"
   ]
  },
  {
   "cell_type": "markdown",
   "metadata": {
    "raw_mimetype": "text/html"
   },
   "source": [
    "<p>Well, the fact that the graph has two connected components is not surprising. The eight nodes of a 3x3 board form a cycle. Thus, one connected component contains all configurations where along this cycle two white knights are followed by two black knights, while the other connected components consists of all configurations where the white and black knights are interchanged. <center><img src=\"two_configurations.png\" style=\"height: 300px;\"/></center></p>"
   ]
  },
  {
   "cell_type": "raw",
   "metadata": {},
   "source": [
    "Let’s now ensure that the configurations \"W*B**W*B\" and \"B*B**W*W\" are reachable from \"W*W**B*B\", while \"W*B**B*W\" is not."
   ]
  },
  {
   "cell_type": "code",
   "execution_count": 5,
   "metadata": {
    "collapsed": true
   },
   "outputs": [],
   "source": [
    "assert \"W*B**W*B\" in nx.node_connected_component(G, \"W*W**B*B\")\n",
    "assert \"B*B**W*W\" in nx.node_connected_component(G, \"W*W**B*B\")\n",
    "assert \"W*B**B*W\" not in nx.node_connected_component(G, \"W*W**B*B\")"
   ]
  },
  {
   "cell_type": "markdown",
   "metadata": {},
   "source": [
    "The number of connected components of the resulting graph of configurations is not the only interesting property! We can now easily find an optimal (i.e., shortest) way of getting from one configuration to another one:"
   ]
  },
  {
   "cell_type": "code",
   "execution_count": 6,
   "metadata": {},
   "outputs": [
    {
     "name": "stdout",
     "output_type": "stream",
     "text": [
      "W*W**B*B -> WBW**B** -> WBW*B*** -> *BW*B*W* -> BBW***W* -> B*W**BW* -> B*W*B*W* -> B**WB*W* -> B*WWB*** -> **WWB*B* -> B*WW**B* -> B*W***BW -> BWW***B* -> BW*W**B* -> BWBW**** -> BWB****W -> B*B**W*W\n"
     ]
    }
   ],
   "source": [
    "print(\" -> \".join(nx.shortest_path(G, \"W*W**B*B\", \"B*B**W*W\")))"
   ]
  },
  {
   "cell_type": "code",
   "execution_count": null,
   "metadata": {
    "collapsed": true
   },
   "outputs": [],
   "source": []
  }
 ],
 "metadata": {
  "celltoolbar": "Raw Cell Format",
  "kernelspec": {
   "display_name": "Python 3",
   "language": "python",
   "name": "python3"
  },
  "language_info": {
   "codemirror_mode": {
    "name": "ipython",
    "version": 3
   },
   "file_extension": ".py",
   "mimetype": "text/x-python",
   "name": "python",
   "nbconvert_exporter": "python",
   "pygments_lexer": "ipython3",
   "version": "3.6.2"
  }
 },
 "nbformat": 4,
 "nbformat_minor": 1
}
