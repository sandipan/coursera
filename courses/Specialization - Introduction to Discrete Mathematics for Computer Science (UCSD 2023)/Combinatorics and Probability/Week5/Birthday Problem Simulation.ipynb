{
 "cells": [
  {
   "cell_type": "code",
   "execution_count": 1,
   "metadata": {},
   "outputs": [
    {
     "name": "stdout",
     "output_type": "stream",
     "text": [
      "The probability for 22 people is 0.4756953076625502\n",
      "The probability for 23 people is 0.5072972343239854\n",
      "The probability for 35 people is 0.8143832388747152\n",
      "The probability for 100 people is 0.9999996927510721\n"
     ]
    },
    {
     "data": {
      "image/png": "[encoded data removed]",
      "text/plain": [
       "<Figure size 432x288 with 1 Axes>"
      ]
     },
     "metadata": {
      "needs_background": "light"
     },
     "output_type": "display_data"
    }
   ],
   "source": [
    "from itertools import accumulate\n",
    "import matplotlib.pyplot as plt\n",
    "from operator import mul\n",
    "\n",
    "num_days = 365\n",
    "\n",
    "factors = [1 - i / num_days for i in range(num_days)]\n",
    "prob_no_collision = list(accumulate(factors, mul))\n",
    "prob_collision = [1 - p for p in prob_no_collision]\n",
    "\n",
    "plt.plot(prob_collision)\n",
    "plt.savefig('birthdays.png')\n",
    "\n",
    "for n in (22, 23, 35, 100):\n",
    "    print(f'The probability for {n} people '\n",
    "          f'is {prob_collision[n - 1]}')"
   ]
  },
  {
   "cell_type": "code",
   "execution_count": null,
   "metadata": {},
   "outputs": [],
   "source": []
  }
 ],
 "metadata": {
  "kernelspec": {
   "display_name": "Python 3",
   "language": "python",
   "name": "python3"
  },
  "language_info": {
   "codemirror_mode": {
    "name": "ipython",
    "version": 3
   },
   "file_extension": ".py",
   "mimetype": "text/x-python",
   "name": "python",
   "nbconvert_exporter": "python",
   "pygments_lexer": "ipython3",
   "version": "3.7.6"
  }
 },
 "nbformat": 4,
 "nbformat_minor": 4
}
