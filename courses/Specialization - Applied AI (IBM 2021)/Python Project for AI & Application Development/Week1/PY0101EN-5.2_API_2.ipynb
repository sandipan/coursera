{
 "cells": [
  {
   "cell_type": "markdown",
   "metadata": {},
   "source": [
    "<center>\n",
    "    <img src=\"https://cf-courses-data.s3.us.cloud-object-storage.appdomain.cloud/IBMDeveloperSkillsNetwork-PY0101EN-SkillsNetwork/IDSNlogo.png\" width=\"300\" alt=\"cognitiveclass.ai logo\"  />\n",
    "</center>\n",
    "\n",
    "# Watson Speech to Text Translator\n",
    "\n",
    "Estimated time needed: **25** minutes\n",
    "\n",
    "## Objectives\n",
    "\n",
    "After completing this lab you will be able to:\n",
    "\n",
    "*   Operate a Speech to Text Translator through an API\n"
   ]
  },
  {
   "cell_type": "markdown",
   "metadata": {},
   "source": [
    "### Introduction\n",
    "\n",
    "<p>In this notebook, you will learn to convert an audio file of an English speaker to text using a Speech to Text API. Then, you will translate the English version to a Spanish version using a Language Translator API. <b>Note:</b> You must obtain the API keys and endpoints to complete the lab.</p>\n"
   ]
  },
  {
   "cell_type": "markdown",
   "metadata": {},
   "source": [
    "<div class=\"alert alert-block alert-info\" style=\"margin-top: 20px\">\n",
    "<h2>Table of Contents</h2>\n",
    "<ul>\n",
    "    <li><a href=\"#ref0\">Speech To Text</a></li>\n",
    "    <li><a href=\"#ref1\">Language Translator</a></li>\n",
    "    <li><a href=\"#ref2\">Exercise</a></li>\n",
    "</ul>\n",
    "</div>\n"
   ]
  },
  {
   "cell_type": "code",
   "execution_count": 1,
   "metadata": {
    "jupyter": {
     "outputs_hidden": false
    },
    "scrolled": true
   },
   "outputs": [
    {
     "name": "stdout",
     "output_type": "stream",
     "text": [
      "Collecting ibm_watson\n",
      "  Downloading ibm-watson-5.2.2.tar.gz (407 kB)\n",
      "  Installing build dependencies: started\n",
      "  Installing build dependencies: finished with status 'done'\n",
      "  Getting requirements to build wheel: started\n",
      "  Getting requirements to build wheel: finished with status 'done'\n",
      "    Preparing wheel metadata: started\n",
      "    Preparing wheel metadata: finished with status 'done'\n",
      "Requirement already satisfied: wget in c:\\users\\sandipan.dey\\anaconda3\\lib\\site-packages (3.2)\n",
      "Collecting websocket-client==1.1.0\n",
      "  Downloading websocket_client-1.1.0-py2.py3-none-any.whl (68 kB)\n",
      "Requirement already satisfied: python-dateutil>=2.5.3 in c:\\users\\sandipan.dey\\anaconda3\\lib\\site-packages (from ibm_watson) (2.8.1)\n",
      "Collecting ibm-cloud-sdk-core==3.*,>=3.3.6\n",
      "  Downloading ibm-cloud-sdk-core-3.10.1.tar.gz (40 kB)\n",
      "Requirement already satisfied: requests<3.0,>=2.0 in c:\\users\\sandipan.dey\\anaconda3\\lib\\site-packages (from ibm_watson) (2.25.1)\n",
      "Requirement already satisfied: six>=1.5 in c:\\users\\sandipan.dey\\anaconda3\\lib\\site-packages (from python-dateutil>=2.5.3->ibm_watson) (1.14.0)\n",
      "Collecting PyJWT<3.0.0,>=2.0.1\n",
      "  Downloading PyJWT-2.1.0-py3-none-any.whl (16 kB)\n",
      "Requirement already satisfied: urllib3<1.27,>=1.21.1 in c:\\users\\sandipan.dey\\anaconda3\\lib\\site-packages (from requests<3.0,>=2.0->ibm_watson) (1.25.8)\n",
      "Requirement already satisfied: certifi>=2017.4.17 in c:\\users\\sandipan.dey\\anaconda3\\lib\\site-packages (from requests<3.0,>=2.0->ibm_watson) (2019.11.28)\n",
      "Requirement already satisfied: idna<3,>=2.5 in c:\\users\\sandipan.dey\\anaconda3\\lib\\site-packages (from requests<3.0,>=2.0->ibm_watson) (2.8)\n",
      "Requirement already satisfied: chardet<5,>=3.0.2 in c:\\users\\sandipan.dey\\anaconda3\\lib\\site-packages (from requests<3.0,>=2.0->ibm_watson) (3.0.4)\n",
      "Building wheels for collected packages: ibm-watson, ibm-cloud-sdk-core\n",
      "  Building wheel for ibm-watson (PEP 517): started\n",
      "  Building wheel for ibm-watson (PEP 517): finished with status 'done'\n",
      "  Created wheel for ibm-watson: filename=ibm_watson-5.2.2-py3-none-any.whl size=403389 sha256=c358c3952b497625fa44aaeee9601d0b295b38a365af9c539b5e22cba22cd1af\n",
      "  Stored in directory: c:\\users\\sandipan.dey\\appdata\\local\\pip\\cache\\wheels\\64\\af\\0b\\1f0f7f72a47e98ebbd1119568cca47e480969ef9dd688c70d6\n",
      "  Building wheel for ibm-cloud-sdk-core (setup.py): started\n",
      "  Building wheel for ibm-cloud-sdk-core (setup.py): finished with status 'done'\n",
      "  Created wheel for ibm-cloud-sdk-core: filename=ibm_cloud_sdk_core-3.10.1-py3-none-any.whl size=61765 sha256=05d7e11ddb6c2e4bda30f1978f2ff2ee0dc9ac088f038b97a6dff8a884077b7e\n",
      "  Stored in directory: c:\\users\\sandipan.dey\\appdata\\local\\pip\\cache\\wheels\\db\\0c\\7e\\f377d38b5729ec554daa3f81a010d2b466ff045ee8216cecb3\n",
      "Successfully built ibm-watson ibm-cloud-sdk-core\n",
      "Installing collected packages: websocket-client, PyJWT, ibm-cloud-sdk-core, ibm-watson\n",
      "  Attempting uninstall: PyJWT\n",
      "    Found existing installation: PyJWT 2.0.0\n",
      "    Uninstalling PyJWT-2.0.0:\n",
      "      Successfully uninstalled PyJWT-2.0.0\n",
      "Successfully installed PyJWT-2.1.0 ibm-cloud-sdk-core-3.10.1 ibm-watson-5.2.2 websocket-client-1.1.0\n"
     ]
    },
    {
     "name": "stderr",
     "output_type": "stream",
     "text": [
      "ERROR: sanic-jwt 1.6.0 has requirement pyjwt==2.0.0, but you'll have pyjwt 2.1.0 which is incompatible.\n",
      "ERROR: rasa 2.2.5 has requirement regex<2020.10,>=2020.6, but you'll have regex 2018.1.10 which is incompatible.\n",
      "ERROR: rasa 2.2.5 has requirement ruamel.yaml<0.17.0,>=0.16.5, but you'll have ruamel-yaml 0.15.87 which is incompatible.\n",
      "ERROR: rasa 2.2.5 has requirement SQLAlchemy<1.4.0,>=1.3.3, but you'll have sqlalchemy 0.7.10 which is incompatible.\n",
      "ERROR: rasa 2.2.5 has requirement tensorflow<2.4,>=2.3, but you'll have tensorflow 1.14.0 which is incompatible.\n",
      "ERROR: rasa 2.2.5 has requirement tensorflow-estimator<2.4,>=2.3, but you'll have tensorflow-estimator 1.14.0 which is incompatible.\n"
     ]
    }
   ],
   "source": [
    "#you will need the following library \n",
    "!pip install ibm_watson wget"
   ]
  },
  {
   "cell_type": "markdown",
   "metadata": {},
   "source": [
    "<h2 id=\"ref0\">Speech to Text</h2>\n"
   ]
  },
  {
   "cell_type": "markdown",
   "metadata": {},
   "source": [
    "<p>First we import <code>SpeechToTextV1</code> from <code>ibm_watson</code>. For more information on the API, please click on this <a href=\"https://cloud.ibm.com/apidocs/speech-to-text?utm_medium=Exinfluencer&utm_source=Exinfluencer&utm_content=000026UJ&utm_term=10006555&utm_id=NA-SkillsNetwork-Channel-SkillsNetworkCoursesIBMDeveloperSkillsNetworkPY0101ENSkillsNetwork19487395-2021-01-01&code=python\">link</a>.</p>\n"
   ]
  },
  {
   "cell_type": "code",
   "execution_count": 2,
   "metadata": {
    "jupyter": {
     "outputs_hidden": false
    }
   },
   "outputs": [],
   "source": [
    "from ibm_watson import SpeechToTextV1 \n",
    "import json\n",
    "from ibm_cloud_sdk_core.authenticators import IAMAuthenticator"
   ]
  },
  {
   "cell_type": "markdown",
   "metadata": {},
   "source": [
    "<p>The service endpoint is based on the location of the service instance, we store the information in the variable URL. To find out which URL to use, view the service credentials and paste the url here.</p>\n"
   ]
  },
  {
   "cell_type": "code",
   "execution_count": 20,
   "metadata": {},
   "outputs": [
    {
     "data": {
      "text/plain": [
       "{'apikey': 'idrwla-RfY7fJzIH8YpJu2Y3XxnjSbYMQTTC3AeC7YNZ',\n",
       " 'iam_apikey_description': 'Auto-generated for key 7b38b9bd-efe6-4c02-b970-ab3a834c2b54',\n",
       " 'iam_apikey_name': 'Auto-generated service credentials',\n",
       " 'iam_role_crn': 'crn:v1:bluemix:public:iam::::serviceRole:Manager',\n",
       " 'iam_serviceid_crn': 'crn:v1:bluemix:public:iam-identity::a/096c0b9603054e10b1a4994316e2d8a1::serviceid:ServiceId-8de5c6b5-d754-4b3c-89a2-870c3ebc1316',\n",
       " 'url': 'https://api.eu-gb.language-translator.watson.cloud.ibm.com/instances/c30a554c-e273-43ba-b15c-d3eb4bcf6993'}"
      ]
     },
     "execution_count": 20,
     "metadata": {},
     "output_type": "execute_result"
    }
   ],
   "source": [
    "{\n",
    "  \"apikey\": \"UBC7fX_l9EUDhq5ukuZTOQ8QiBo4TrBzoelMfmlTzGW-\",\n",
    "  \"iam_apikey_description\": \"Auto-generated for key 304a3a1b-64d1-44fe-ba13-0ffa9080b133\",\n",
    "  \"iam_apikey_name\": \"Auto-generated service credentials\",\n",
    "  \"iam_role_crn\": \"crn:v1:bluemix:public:iam::::serviceRole:Manager\",\n",
    "  \"iam_serviceid_crn\": \"crn:v1:bluemix:public:iam-identity::a/096c0b9603054e10b1a4994316e2d8a1::serviceid:ServiceId-5b8a8642-c6ae-4271-9727-0e7fc46cade5\",\n",
    "  \"url\": \"https://api.eu-gb.speech-to-text.watson.cloud.ibm.com/instances/31e251c6-a500-4fbf-9cbb-c5d0fd8915f9\"\n",
    "}"
   ]
  },
  {
   "cell_type": "code",
   "execution_count": 39,
   "metadata": {},
   "outputs": [
    {
     "name": "stdout",
     "output_type": "stream",
     "text": [
      "{\n",
      "  \"models\": [\n",
      "    {\n",
      "      \"name\": \"es-MX_BroadbandModel\",\n",
      "      \"rate\": 16000,\n",
      "      \"language\": \"es-MX\",\n",
      "      \"description\": \"Mexican Spanish broadband model.\",\n",
      "      \"supported_features\": {\n",
      "        \"custom_language_model\": true,\n",
      "        \"speaker_labels\": true\n",
      "      },\n",
      "      \"url\": \"https://api.eu-gb.speech-to-text.watson.cloud.ibm.com/instances/31e251c6-a500-4fbf-9cbb-c5d0fd8915f9/v1/models/es-MX_BroadbandModel\"\n",
      "    },\n",
      "    {\n",
      "      \"name\": \"en-US_BroadbandModel\",\n",
      "      \"rate\": 16000,\n",
      "      \"language\": \"en-US\",\n",
      "      \"description\": \"US English broadband model.\",\n",
      "      \"supported_features\": {\n",
      "        \"custom_language_model\": true,\n",
      "        \"speaker_labels\": true\n",
      "      },\n",
      "      \"url\": \"https://api.eu-gb.speech-to-text.watson.cloud.ibm.com/instances/31e251c6-a500-4fbf-9cbb-c5d0fd8915f9/v1/models/en-US_BroadbandModel\"\n",
      "    },\n",
      "    {\n",
      "      \"name\": \"es-CL_BroadbandModel\",\n",
      "      \"rate\": 16000,\n",
      "      \"language\": \"es-CL\",\n",
      "      \"description\": \"Chilean Spanish broadband model.\",\n",
      "      \"supported_features\": {\n",
      "        \"custom_language_model\": true,\n",
      "        \"speaker_labels\": true\n",
      "      },\n",
      "      \"url\": \"https://api.eu-gb.speech-to-text.watson.cloud.ibm.com/instances/31e251c6-a500-4fbf-9cbb-c5d0fd8915f9/v1/models/es-CL_BroadbandModel\"\n",
      "    },\n",
      "    {\n",
      "      \"name\": \"ja-JP_BroadbandModel\",\n",
      "      \"rate\": 16000,\n",
      "      \"language\": \"ja-JP\",\n",
      "      \"description\": \"Japanese broadband model.\",\n",
      "      \"supported_features\": {\n",
      "        \"custom_language_model\": true,\n",
      "        \"speaker_labels\": true\n",
      "      },\n",
      "      \"url\": \"https://api.eu-gb.speech-to-text.watson.cloud.ibm.com/instances/31e251c6-a500-4fbf-9cbb-c5d0fd8915f9/v1/models/ja-JP_BroadbandModel\"\n",
      "    },\n",
      "    {\n",
      "      \"name\": \"zh-CN_BroadbandModel\",\n",
      "      \"rate\": 16000,\n",
      "      \"language\": \"zh-CN\",\n",
      "      \"description\": \"Mandarin broadband model.\",\n",
      "      \"supported_features\": {\n",
      "        \"custom_language_model\": false,\n",
      "        \"speaker_labels\": true\n",
      "      },\n",
      "      \"url\": \"https://api.eu-gb.speech-to-text.watson.cloud.ibm.com/instances/31e251c6-a500-4fbf-9cbb-c5d0fd8915f9/v1/models/zh-CN_BroadbandModel\"\n",
      "    },\n",
      "    {\n",
      "      \"name\": \"es-ES_BroadbandModel\",\n",
      "      \"rate\": 16000,\n",
      "      \"language\": \"es-ES\",\n",
      "      \"description\": \"Castilian Spanish broadband model.\",\n",
      "      \"supported_features\": {\n",
      "        \"custom_language_model\": true,\n",
      "        \"speaker_labels\": true\n",
      "      },\n",
      "      \"url\": \"https://api.eu-gb.speech-to-text.watson.cloud.ibm.com/instances/31e251c6-a500-4fbf-9cbb-c5d0fd8915f9/v1/models/es-ES_BroadbandModel\"\n",
      "    },\n",
      "    {\n",
      "      \"name\": \"es-CO_BroadbandModel\",\n",
      "      \"rate\": 16000,\n",
      "      \"language\": \"es-CO\",\n",
      "      \"description\": \"Colombian Spanish broadband model.\",\n",
      "      \"supported_features\": {\n",
      "        \"custom_language_model\": true,\n",
      "        \"speaker_labels\": true\n",
      "      },\n",
      "      \"url\": \"https://api.eu-gb.speech-to-text.watson.cloud.ibm.com/instances/31e251c6-a500-4fbf-9cbb-c5d0fd8915f9/v1/models/es-CO_BroadbandModel\"\n",
      "    },\n",
      "    {\n",
      "      \"name\": \"es-AR_BroadbandModel\",\n",
      "      \"rate\": 16000,\n",
      "      \"language\": \"es-AR\",\n",
      "      \"description\": \"Argentinian Spanish broadband model.\",\n",
      "      \"supported_features\": {\n",
      "        \"custom_language_model\": true,\n",
      "        \"speaker_labels\": true\n",
      "      },\n",
      "      \"url\": \"https://api.eu-gb.speech-to-text.watson.cloud.ibm.com/instances/31e251c6-a500-4fbf-9cbb-c5d0fd8915f9/v1/models/es-AR_BroadbandModel\"\n",
      "    },\n",
      "    {\n",
      "      \"name\": \"pt-BR_BroadbandModel\",\n",
      "      \"rate\": 16000,\n",
      "      \"language\": \"pt-BR\",\n",
      "      \"description\": \"Brazilian Portuguese broadband model.\",\n",
      "      \"supported_features\": {\n",
      "        \"custom_language_model\": true,\n",
      "        \"speaker_labels\": true\n",
      "      },\n",
      "      \"url\": \"https://api.eu-gb.speech-to-text.watson.cloud.ibm.com/instances/31e251c6-a500-4fbf-9cbb-c5d0fd8915f9/v1/models/pt-BR_BroadbandModel\"\n",
      "    },\n",
      "    {\n",
      "      \"name\": \"es-PE_BroadbandModel\",\n",
      "      \"rate\": 16000,\n",
      "      \"language\": \"es-PE\",\n",
      "      \"description\": \"Peruvian Spanish broadband model.\",\n",
      "      \"supported_features\": {\n",
      "        \"custom_language_model\": true,\n",
      "        \"speaker_labels\": true\n",
      "      },\n",
      "      \"url\": \"https://api.eu-gb.speech-to-text.watson.cloud.ibm.com/instances/31e251c6-a500-4fbf-9cbb-c5d0fd8915f9/v1/models/es-PE_BroadbandModel\"\n",
      "    },\n",
      "    {\n",
      "      \"name\": \"fr-FR_Multimedia\",\n",
      "      \"rate\": 16000,\n",
      "      \"language\": \"fr-FR\",\n",
      "      \"description\": \"French multimedia model for broadband audio (16kHz or more)\",\n",
      "      \"supported_features\": {\n",
      "        \"custom_language_model\": false,\n",
      "        \"low_latency\": false,\n",
      "        \"speaker_labels\": true\n",
      "      },\n",
      "      \"url\": \"https://api.eu-gb.speech-to-text.watson.cloud.ibm.com/instances/31e251c6-a500-4fbf-9cbb-c5d0fd8915f9/v1/models/fr-FR_Multimedia\"\n",
      "    },\n",
      "    {\n",
      "      \"name\": \"es-ES_NarrowbandModel\",\n",
      "      \"rate\": 8000,\n",
      "      \"language\": \"es-ES\",\n",
      "      \"description\": \"Castilian Spanish narrowband model.\",\n",
      "      \"supported_features\": {\n",
      "        \"custom_language_model\": true,\n",
      "        \"speaker_labels\": true\n",
      "      },\n",
      "      \"url\": \"https://api.eu-gb.speech-to-text.watson.cloud.ibm.com/instances/31e251c6-a500-4fbf-9cbb-c5d0fd8915f9/v1/models/es-ES_NarrowbandModel\"\n",
      "    },\n",
      "    {\n",
      "      \"name\": \"en-GB_NarrowbandModel\",\n",
      "      \"rate\": 8000,\n",
      "      \"language\": \"en-GB\",\n",
      "      \"description\": \"GB English narrowband model.\",\n",
      "      \"supported_features\": {\n",
      "        \"custom_language_model\": true,\n",
      "        \"speaker_labels\": true\n",
      "      },\n",
      "      \"url\": \"https://api.eu-gb.speech-to-text.watson.cloud.ibm.com/instances/31e251c6-a500-4fbf-9cbb-c5d0fd8915f9/v1/models/en-GB_NarrowbandModel\"\n",
      "    },\n",
      "    {\n",
      "      \"name\": \"zh-CN_NarrowbandModel\",\n",
      "      \"rate\": 8000,\n",
      "      \"language\": \"zh-CN\",\n",
      "      \"description\": \"Mandarin narrowband model.\",\n",
      "      \"supported_features\": {\n",
      "        \"custom_language_model\": false,\n",
      "        \"speaker_labels\": true\n",
      "      },\n",
      "      \"url\": \"https://api.eu-gb.speech-to-text.watson.cloud.ibm.com/instances/31e251c6-a500-4fbf-9cbb-c5d0fd8915f9/v1/models/zh-CN_NarrowbandModel\"\n",
      "    },\n",
      "    {\n",
      "      \"name\": \"nl-NL_BroadbandModel\",\n",
      "      \"rate\": 16000,\n",
      "      \"language\": \"nl-NL\",\n",
      "      \"description\": \"Dutch broadband model.\",\n",
      "      \"supported_features\": {\n",
      "        \"custom_language_model\": true,\n",
      "        \"speaker_labels\": true\n",
      "      },\n",
      "      \"url\": \"https://api.eu-gb.speech-to-text.watson.cloud.ibm.com/instances/31e251c6-a500-4fbf-9cbb-c5d0fd8915f9/v1/models/nl-NL_BroadbandModel\"\n",
      "    },\n",
      "    {\n",
      "      \"name\": \"en-US_NarrowbandModel\",\n",
      "      \"rate\": 8000,\n",
      "      \"language\": \"en-US\",\n",
      "      \"description\": \"US English narrowband model.\",\n",
      "      \"supported_features\": {\n",
      "        \"custom_language_model\": true,\n",
      "        \"speaker_labels\": true\n",
      "      },\n",
      "      \"url\": \"https://api.eu-gb.speech-to-text.watson.cloud.ibm.com/instances/31e251c6-a500-4fbf-9cbb-c5d0fd8915f9/v1/models/en-US_NarrowbandModel\"\n",
      "    },\n",
      "    {\n",
      "      \"name\": \"es-ES_Telephony\",\n",
      "      \"rate\": 8000,\n",
      "      \"language\": \"es-ES\",\n",
      "      \"description\": \"Castilian Spanish telephony model for narrowband audio (8kHz)\",\n",
      "      \"supported_features\": {\n",
      "        \"custom_language_model\": false,\n",
      "        \"low_latency\": true,\n",
      "        \"speaker_labels\": true\n",
      "      },\n",
      "      \"url\": \"https://api.eu-gb.speech-to-text.watson.cloud.ibm.com/instances/31e251c6-a500-4fbf-9cbb-c5d0fd8915f9/v1/models/es-ES_Telephony\"\n",
      "    },\n",
      "    {\n",
      "      \"name\": \"pt-BR_NarrowbandModel\",\n",
      "      \"rate\": 8000,\n",
      "      \"language\": \"pt-BR\",\n",
      "      \"description\": \"Brazilian Portuguese narrowband model.\",\n",
      "      \"supported_features\": {\n",
      "        \"custom_language_model\": true,\n",
      "        \"speaker_labels\": true\n",
      "      },\n",
      "      \"url\": \"https://api.eu-gb.speech-to-text.watson.cloud.ibm.com/instances/31e251c6-a500-4fbf-9cbb-c5d0fd8915f9/v1/models/pt-BR_NarrowbandModel\"\n",
      "    },\n",
      "    {\n",
      "      \"name\": \"ar-MS_Telephony\",\n",
      "      \"rate\": 8000,\n",
      "      \"language\": \"ar-MS\",\n",
      "      \"description\": \"Modern Standard Arabic telephony model for narrowband audio (8kHz)\",\n",
      "      \"supported_features\": {\n",
      "        \"custom_language_model\": false,\n",
      "        \"low_latency\": true,\n",
      "        \"speaker_labels\": true\n",
      "      },\n",
      "      \"url\": \"https://api.eu-gb.speech-to-text.watson.cloud.ibm.com/instances/31e251c6-a500-4fbf-9cbb-c5d0fd8915f9/v1/models/ar-MS_Telephony\"\n",
      "    },\n",
      "    {\n",
      "      \"name\": \"fr-FR_BroadbandModel\",\n",
      "      \"rate\": 16000,\n",
      "      \"language\": \"fr-FR\",\n",
      "      \"description\": \"French broadband model.\",\n",
      "      \"supported_features\": {\n",
      "        \"custom_language_model\": true,\n",
      "        \"speaker_labels\": true\n",
      "      },\n",
      "      \"url\": \"https://api.eu-gb.speech-to-text.watson.cloud.ibm.com/instances/31e251c6-a500-4fbf-9cbb-c5d0fd8915f9/v1/models/fr-FR_BroadbandModel\"\n",
      "    },\n",
      "    {\n",
      "      \"name\": \"es-AR_NarrowbandModel\",\n",
      "      \"rate\": 8000,\n",
      "      \"language\": \"es-AR\",\n",
      "      \"description\": \"Argentinian Spanish narrowband model.\",\n",
      "      \"supported_features\": {\n",
      "        \"custom_language_model\": true,\n",
      "        \"speaker_labels\": true\n",
      "      },\n",
      "      \"url\": \"https://api.eu-gb.speech-to-text.watson.cloud.ibm.com/instances/31e251c6-a500-4fbf-9cbb-c5d0fd8915f9/v1/models/es-AR_NarrowbandModel\"\n",
      "    },\n",
      "    {\n",
      "      \"name\": \"fr-FR_NarrowbandModel\",\n",
      "      \"rate\": 8000,\n",
      "      \"language\": \"fr-FR\",\n",
      "      \"description\": \"French narrowband model.\",\n",
      "      \"supported_features\": {\n",
      "        \"custom_language_model\": true,\n",
      "        \"speaker_labels\": true\n",
      "      },\n",
      "      \"url\": \"https://api.eu-gb.speech-to-text.watson.cloud.ibm.com/instances/31e251c6-a500-4fbf-9cbb-c5d0fd8915f9/v1/models/fr-FR_NarrowbandModel\"\n",
      "    },\n",
      "    {\n",
      "      \"name\": \"nl-BE_Telephony\",\n",
      "      \"rate\": 8000,\n",
      "      \"language\": \"nl-BE\",\n",
      "      \"description\": \"Belgium Dutch (Flemish) telephony model for narrowband audio (8kHz)\",\n",
      "      \"supported_features\": {\n",
      "        \"custom_language_model\": false,\n",
      "        \"low_latency\": true,\n",
      "        \"speaker_labels\": true\n",
      "      },\n",
      "      \"url\": \"https://api.eu-gb.speech-to-text.watson.cloud.ibm.com/instances/31e251c6-a500-4fbf-9cbb-c5d0fd8915f9/v1/models/nl-BE_Telephony\"\n",
      "    },\n",
      "    {\n",
      "      \"name\": \"es-CO_NarrowbandModel\",\n",
      "      \"rate\": 8000,\n",
      "      \"language\": \"es-CO\",\n",
      "      \"description\": \"Colombian Spanish narrowband model.\",\n",
      "      \"supported_features\": {\n",
      "        \"custom_language_model\": true,\n",
      "        \"speaker_labels\": true\n",
      "      },\n",
      "      \"url\": \"https://api.eu-gb.speech-to-text.watson.cloud.ibm.com/instances/31e251c6-a500-4fbf-9cbb-c5d0fd8915f9/v1/models/es-CO_NarrowbandModel\"\n",
      "    },\n",
      "    {\n",
      "      \"name\": \"en-US_Multimedia\",\n",
      "      \"rate\": 16000,\n",
      "      \"language\": \"en-US\",\n",
      "      \"description\": \"US English multimedia model for broadband audio (16kHz or more)\",\n",
      "      \"supported_features\": {\n",
      "        \"custom_language_model\": false,\n",
      "        \"low_latency\": false,\n",
      "        \"speaker_labels\": true\n",
      "      },\n",
      "      \"url\": \"https://api.eu-gb.speech-to-text.watson.cloud.ibm.com/instances/31e251c6-a500-4fbf-9cbb-c5d0fd8915f9/v1/models/en-US_Multimedia\"\n",
      "    },\n",
      "    {\n",
      "      \"name\": \"en-US_Telephony\",\n",
      "      \"rate\": 8000,\n",
      "      \"language\": \"en-US\",\n",
      "      \"description\": \"US English telephony model for narrowband audio (8kHz)\",\n",
      "      \"supported_features\": {\n",
      "        \"custom_language_model\": false,\n",
      "        \"low_latency\": true,\n",
      "        \"speaker_labels\": true\n",
      "      },\n",
      "      \"url\": \"https://api.eu-gb.speech-to-text.watson.cloud.ibm.com/instances/31e251c6-a500-4fbf-9cbb-c5d0fd8915f9/v1/models/en-US_Telephony\"\n",
      "    },\n",
      "    {\n",
      "      \"name\": \"en-GB_BroadbandModel\",\n",
      "      \"rate\": 16000,\n",
      "      \"language\": \"en-GB\",\n",
      "      \"description\": \"GB English broadband model.\",\n",
      "      \"supported_features\": {\n",
      "        \"custom_language_model\": true,\n",
      "        \"speaker_labels\": true\n",
      "      },\n",
      "      \"url\": \"https://api.eu-gb.speech-to-text.watson.cloud.ibm.com/instances/31e251c6-a500-4fbf-9cbb-c5d0fd8915f9/v1/models/en-GB_BroadbandModel\"\n",
      "    },\n",
      "    {\n",
      "      \"name\": \"ja-JP_NarrowbandModel\",\n",
      "      \"rate\": 8000,\n",
      "      \"language\": \"ja-JP\",\n",
      "      \"description\": \"Japanese narrowband model.\",\n",
      "      \"supported_features\": {\n",
      "        \"custom_language_model\": true,\n",
      "        \"speaker_labels\": true\n",
      "      },\n",
      "      \"url\": \"https://api.eu-gb.speech-to-text.watson.cloud.ibm.com/instances/31e251c6-a500-4fbf-9cbb-c5d0fd8915f9/v1/models/ja-JP_NarrowbandModel\"\n",
      "    },\n",
      "    {\n",
      "      \"name\": \"it-IT_BroadbandModel\",\n",
      "      \"rate\": 16000,\n",
      "      \"language\": \"it-IT\",\n",
      "      \"description\": \"Italian broadband model.\",\n",
      "      \"supported_features\": {\n",
      "        \"custom_language_model\": true,\n",
      "        \"speaker_labels\": true\n",
      "      },\n",
      "      \"url\": \"https://api.eu-gb.speech-to-text.watson.cloud.ibm.com/instances/31e251c6-a500-4fbf-9cbb-c5d0fd8915f9/v1/models/it-IT_BroadbandModel\"\n",
      "    },\n",
      "    {\n",
      "      \"name\": \"fr-CA_Telephony\",\n",
      "      \"rate\": 8000,\n",
      "      \"language\": \"fr-CA\",\n",
      "      \"description\": \"Canadian French telephony model for narrowband audio (8kHz)\",\n",
      "      \"supported_features\": {\n",
      "        \"custom_language_model\": false,\n",
      "        \"low_latency\": true,\n",
      "        \"speaker_labels\": true\n",
      "      },\n",
      "      \"url\": \"https://api.eu-gb.speech-to-text.watson.cloud.ibm.com/instances/31e251c6-a500-4fbf-9cbb-c5d0fd8915f9/v1/models/fr-CA_Telephony\"\n",
      "    },\n",
      "    {\n",
      "      \"name\": \"pt-BR_Telephony\",\n",
      "      \"rate\": 8000,\n",
      "      \"language\": \"pt-BR\",\n",
      "      \"description\": \"Brazilian Portuguese telephony model for narrowband audio (8kHz)\",\n",
      "      \"supported_features\": {\n",
      "        \"custom_language_model\": false,\n",
      "        \"low_latency\": true,\n",
      "        \"speaker_labels\": true\n",
      "      },\n",
      "      \"url\": \"https://api.eu-gb.speech-to-text.watson.cloud.ibm.com/instances/31e251c6-a500-4fbf-9cbb-c5d0fd8915f9/v1/models/pt-BR_Telephony\"\n",
      "    },\n",
      "    {\n",
      "      \"name\": \"it-IT_NarrowbandModel\",\n",
      "      \"rate\": 8000,\n",
      "      \"language\": \"it-IT\",\n",
      "      \"description\": \"Italian narrowband model.\",\n",
      "      \"supported_features\": {\n",
      "        \"custom_language_model\": true,\n",
      "        \"speaker_labels\": true\n",
      "      },\n",
      "      \"url\": \"https://api.eu-gb.speech-to-text.watson.cloud.ibm.com/instances/31e251c6-a500-4fbf-9cbb-c5d0fd8915f9/v1/models/it-IT_NarrowbandModel\"\n",
      "    },\n",
      "    {\n",
      "      \"name\": \"en-GB_Telephony\",\n",
      "      \"rate\": 8000,\n",
      "      \"language\": \"en-GB\",\n",
      "      \"description\": \"British English telephony model for narrowband audio (8kHz)\",\n",
      "      \"supported_features\": {\n",
      "        \"custom_language_model\": false,\n",
      "        \"low_latency\": true,\n",
      "        \"speaker_labels\": true\n",
      "      },\n",
      "      \"url\": \"https://api.eu-gb.speech-to-text.watson.cloud.ibm.com/instances/31e251c6-a500-4fbf-9cbb-c5d0fd8915f9/v1/models/en-GB_Telephony\"\n",
      "    },\n",
      "    {\n",
      "      \"name\": \"nl-NL_NarrowbandModel\",\n",
      "      \"rate\": 8000,\n",
      "      \"language\": \"nl-NL\",\n",
      "      \"description\": \"Dutch narrowband model.\",\n",
      "      \"supported_features\": {\n",
      "        \"custom_language_model\": true,\n",
      "        \"speaker_labels\": true\n",
      "      },\n",
      "      \"url\": \"https://api.eu-gb.speech-to-text.watson.cloud.ibm.com/instances/31e251c6-a500-4fbf-9cbb-c5d0fd8915f9/v1/models/nl-NL_NarrowbandModel\"\n",
      "    },\n",
      "    {\n",
      "      \"name\": \"de-DE_NarrowbandModel\",\n",
      "      \"rate\": 8000,\n",
      "      \"language\": \"de-DE\",\n",
      "      \"description\": \"German narrowband model.\",\n",
      "      \"supported_features\": {\n",
      "        \"custom_language_model\": true,\n",
      "        \"speaker_labels\": true\n",
      "      },\n",
      "      \"url\": \"https://api.eu-gb.speech-to-text.watson.cloud.ibm.com/instances/31e251c6-a500-4fbf-9cbb-c5d0fd8915f9/v1/models/de-DE_NarrowbandModel\"\n",
      "    },\n",
      "    {\n",
      "      \"name\": \"de-DE_Telephony\",\n",
      "      \"rate\": 8000,\n",
      "      \"language\": \"de-DE\",\n",
      "      \"description\": \"German telephony model for narrowband audio (8kHz)\",\n",
      "      \"supported_features\": {\n",
      "        \"custom_language_model\": false,\n",
      "        \"low_latency\": true,\n",
      "        \"speaker_labels\": true\n",
      "      },\n",
      "      \"url\": \"https://api.eu-gb.speech-to-text.watson.cloud.ibm.com/instances/31e251c6-a500-4fbf-9cbb-c5d0fd8915f9/v1/models/de-DE_Telephony\"\n",
      "    },\n",
      "    {\n",
      "      \"name\": \"ar-MS_BroadbandModel\",\n",
      "      \"rate\": 16000,\n",
      "      \"language\": \"ar-MS\",\n",
      "      \"description\": \"Modern Standard Arabic broadband model.\",\n",
      "      \"supported_features\": {\n",
      "        \"custom_language_model\": false,\n",
      "        \"speaker_labels\": true\n",
      "      },\n",
      "      \"url\": \"https://api.eu-gb.speech-to-text.watson.cloud.ibm.com/instances/31e251c6-a500-4fbf-9cbb-c5d0fd8915f9/v1/models/ar-MS_BroadbandModel\"\n",
      "    },\n",
      "    {\n",
      "      \"name\": \"de-DE_BroadbandModel\",\n",
      "      \"rate\": 16000,\n",
      "      \"language\": \"de-DE\",\n",
      "      \"description\": \"German broadband model.\",\n",
      "      \"supported_features\": {\n",
      "        \"custom_language_model\": true,\n",
      "        \"speaker_labels\": true\n",
      "      },\n",
      "      \"url\": \"https://api.eu-gb.speech-to-text.watson.cloud.ibm.com/instances/31e251c6-a500-4fbf-9cbb-c5d0fd8915f9/v1/models/de-DE_BroadbandModel\"\n",
      "    },\n",
      "    {\n",
      "      \"name\": \"fr-FR_Telephony\",\n",
      "      \"rate\": 8000,\n",
      "      \"language\": \"fr-FR\",\n",
      "      \"description\": \"French telephony model for narrowband audio (8kHz)\",\n",
      "      \"supported_features\": {\n",
      "        \"custom_language_model\": false,\n",
      "        \"low_latency\": true,\n",
      "        \"speaker_labels\": true\n",
      "      },\n",
      "      \"url\": \"https://api.eu-gb.speech-to-text.watson.cloud.ibm.com/instances/31e251c6-a500-4fbf-9cbb-c5d0fd8915f9/v1/models/fr-FR_Telephony\"\n",
      "    },\n",
      "    {\n",
      "      \"name\": \"en-AU_NarrowbandModel\",\n",
      "      \"rate\": 8000,\n",
      "      \"language\": \"en-AU\",\n",
      "      \"description\": \"AU English narrowband model.\",\n",
      "      \"supported_features\": {\n",
      "        \"custom_language_model\": true,\n",
      "        \"speaker_labels\": true\n",
      "      },\n",
      "      \"url\": \"https://api.eu-gb.speech-to-text.watson.cloud.ibm.com/instances/31e251c6-a500-4fbf-9cbb-c5d0fd8915f9/v1/models/en-AU_NarrowbandModel\"\n",
      "    },\n",
      "    {\n",
      "      \"name\": \"ko-KR_NarrowbandModel\",\n",
      "      \"rate\": 8000,\n",
      "      \"language\": \"ko-KR\",\n",
      "      \"description\": \"Korean narrowband model.\",\n",
      "      \"supported_features\": {\n",
      "        \"custom_language_model\": true,\n",
      "        \"speaker_labels\": true\n",
      "      },\n",
      "      \"url\": \"https://api.eu-gb.speech-to-text.watson.cloud.ibm.com/instances/31e251c6-a500-4fbf-9cbb-c5d0fd8915f9/v1/models/ko-KR_NarrowbandModel\"\n",
      "    },\n",
      "    {\n",
      "      \"name\": \"en-AU_Telephony\",\n",
      "      \"rate\": 8000,\n",
      "      \"language\": \"en-AU\",\n",
      "      \"description\": \"AU English telephony model for narrowband audio (8kHz)\",\n",
      "      \"supported_features\": {\n",
      "        \"custom_language_model\": false,\n",
      "        \"low_latency\": true,\n",
      "        \"speaker_labels\": true\n",
      "      },\n",
      "      \"url\": \"https://api.eu-gb.speech-to-text.watson.cloud.ibm.com/instances/31e251c6-a500-4fbf-9cbb-c5d0fd8915f9/v1/models/en-AU_Telephony\"\n",
      "    },\n",
      "    {\n",
      "      \"name\": \"en-AU_BroadbandModel\",\n",
      "      \"rate\": 16000,\n",
      "      \"language\": \"en-AU\",\n",
      "      \"description\": \"AU English broadband model.\",\n",
      "      \"supported_features\": {\n",
      "        \"custom_language_model\": true,\n",
      "        \"speaker_labels\": true\n",
      "      },\n",
      "      \"url\": \"https://api.eu-gb.speech-to-text.watson.cloud.ibm.com/instances/31e251c6-a500-4fbf-9cbb-c5d0fd8915f9/v1/models/en-AU_BroadbandModel\"\n",
      "    },\n",
      "    {\n",
      "      \"name\": \"en-US_ShortForm_NarrowbandModel\",\n",
      "      \"rate\": 8000,\n",
      "      \"language\": \"en-US\",\n",
      "      \"description\": \"US English Short Form narrowband model.\",\n",
      "      \"supported_features\": {\n",
      "        \"custom_language_model\": true,\n",
      "        \"speaker_labels\": true\n",
      "      },\n",
      "      \"url\": \"https://api.eu-gb.speech-to-text.watson.cloud.ibm.com/instances/31e251c6-a500-4fbf-9cbb-c5d0fd8915f9/v1/models/en-US_ShortForm_NarrowbandModel\"\n",
      "    },\n",
      "    {\n",
      "      \"name\": \"fr-CA_BroadbandModel\",\n",
      "      \"rate\": 16000,\n",
      "      \"language\": \"fr-CA\",\n",
      "      \"description\": \"French Canadian broadband model.\",\n",
      "      \"supported_features\": {\n",
      "        \"custom_language_model\": true,\n",
      "        \"speaker_labels\": true\n",
      "      },\n",
      "      \"url\": \"https://api.eu-gb.speech-to-text.watson.cloud.ibm.com/instances/31e251c6-a500-4fbf-9cbb-c5d0fd8915f9/v1/models/fr-CA_BroadbandModel\"\n",
      "    },\n",
      "    {\n",
      "      \"name\": \"fr-CA_NarrowbandModel\",\n",
      "      \"rate\": 8000,\n",
      "      \"language\": \"fr-CA\",\n",
      "      \"description\": \"French Canadian narrowband model.\",\n",
      "      \"supported_features\": {\n",
      "        \"custom_language_model\": true,\n",
      "        \"speaker_labels\": true\n",
      "      },\n",
      "      \"url\": \"https://api.eu-gb.speech-to-text.watson.cloud.ibm.com/instances/31e251c6-a500-4fbf-9cbb-c5d0fd8915f9/v1/models/fr-CA_NarrowbandModel\"\n",
      "    },\n",
      "    {\n",
      "      \"name\": \"ko-KR_BroadbandModel\",\n",
      "      \"rate\": 16000,\n",
      "      \"language\": \"ko-KR\",\n",
      "      \"description\": \"Korean broadband model.\",\n",
      "      \"supported_features\": {\n",
      "        \"custom_language_model\": true,\n",
      "        \"speaker_labels\": true\n",
      "      },\n",
      "      \"url\": \"https://api.eu-gb.speech-to-text.watson.cloud.ibm.com/instances/31e251c6-a500-4fbf-9cbb-c5d0fd8915f9/v1/models/ko-KR_BroadbandModel\"\n",
      "    },\n",
      "    {\n",
      "      \"name\": \"it-IT_Telephony\",\n",
      "      \"rate\": 8000,\n",
      "      \"language\": \"it-IT\",\n",
      "      \"description\": \"Italian telephony model for narrowband audio (8kHz)\",\n",
      "      \"supported_features\": {\n",
      "        \"custom_language_model\": false,\n",
      "        \"low_latency\": true,\n",
      "        \"speaker_labels\": true\n",
      "      },\n",
      "      \"url\": \"https://api.eu-gb.speech-to-text.watson.cloud.ibm.com/instances/31e251c6-a500-4fbf-9cbb-c5d0fd8915f9/v1/models/it-IT_Telephony\"\n",
      "    },\n",
      "    {\n",
      "      \"name\": \"es-CL_NarrowbandModel\",\n",
      "      \"rate\": 8000,\n",
      "      \"language\": \"es-CL\",\n",
      "      \"description\": \"Chilean Spanish narrowband model.\",\n",
      "      \"supported_features\": {\n",
      "        \"custom_language_model\": true,\n",
      "        \"speaker_labels\": true\n",
      "      },\n",
      "      \"url\": \"https://api.eu-gb.speech-to-text.watson.cloud.ibm.com/instances/31e251c6-a500-4fbf-9cbb-c5d0fd8915f9/v1/models/es-CL_NarrowbandModel\"\n",
      "    },\n",
      "    {\n",
      "      \"name\": \"es-MX_NarrowbandModel\",\n",
      "      \"rate\": 8000,\n",
      "      \"language\": \"es-MX\",\n",
      "      \"description\": \"Mexican Spanish narrowband model.\",\n",
      "      \"supported_features\": {\n",
      "        \"custom_language_model\": true,\n",
      "        \"speaker_labels\": true\n",
      "      },\n",
      "      \"url\": \"https://api.eu-gb.speech-to-text.watson.cloud.ibm.com/instances/31e251c6-a500-4fbf-9cbb-c5d0fd8915f9/v1/models/es-MX_NarrowbandModel\"\n",
      "    },\n",
      "    {\n",
      "      \"name\": \"es-PE_NarrowbandModel\",\n",
      "      \"rate\": 8000,\n",
      "      \"language\": \"es-PE\",\n",
      "      \"description\": \"Peruvian Spanish narrowband model.\",\n",
      "      \"supported_features\": {\n",
      "        \"custom_language_model\": true,\n",
      "        \"speaker_labels\": true\n",
      "      },\n",
      "      \"url\": \"https://api.eu-gb.speech-to-text.watson.cloud.ibm.com/instances/31e251c6-a500-4fbf-9cbb-c5d0fd8915f9/v1/models/es-PE_NarrowbandModel\"\n",
      "    }\n",
      "  ]\n",
      "}\n"
     ]
    },
    {
     "name": "stdout",
     "output_type": "stream",
     "text": [
      "{\n",
      "  \"name\": \"en-US_BroadbandModel\",\n",
      "  \"rate\": 16000,\n",
      "  \"language\": \"en-US\",\n",
      "  \"description\": \"US English broadband model.\",\n",
      "  \"supported_features\": {\n",
      "    \"custom_language_model\": true,\n",
      "    \"speaker_labels\": true\n",
      "  },\n",
      "  \"url\": \"https://api.eu-gb.speech-to-text.watson.cloud.ibm.com/instances/31e251c6-a500-4fbf-9cbb-c5d0fd8915f9/v1/models/en-US_BroadbandModel\"\n",
      "}\n",
      "{\n",
      "  \"result_index\": 0,\n",
      "  \"results\": [\n",
      "    {\n",
      "      \"final\": true,\n",
      "      \"alternatives\": [\n",
      "        {\n",
      "          \"transcript\": \"thunderstorms could produce large hail isolated tornadoes and heavy rain \",\n",
      "          \"confidence\": 1.0,\n",
      "          \"timestamps\": [\n",
      "            [\n",
      "              \"thunderstorms\",\n",
      "              1.45,\n",
      "              2.32\n",
      "            ],\n",
      "            [\n",
      "              \"could\",\n",
      "              2.32,\n",
      "              2.55\n",
      "            ],\n",
      "            [\n",
      "              \"produce\",\n",
      "              2.55,\n",
      "              3.01\n",
      "            ],\n",
      "            [\n",
      "              \"large\",\n",
      "              3.01,\n",
      "              3.35\n",
      "            ],\n",
      "            [\n",
      "              \"hail\",\n",
      "              3.35,\n",
      "              3.79\n",
      "            ],\n",
      "            [\n",
      "              \"isolated\",\n",
      "              3.79,\n",
      "              4.42\n",
      "            ],\n",
      "            [\n",
      "              \"tornadoes\",\n",
      "              4.42,\n",
      "              5.03\n",
      "            ],\n",
      "            [\n",
      "              \"and\",\n",
      "              5.03,\n",
      "              5.27\n",
      "            ],\n",
      "            [\n",
      "              \"heavy\",\n",
      "              5.27,\n",
      "              5.61\n",
      "            ],\n",
      "            [\n",
      "              \"rain\",\n",
      "              5.61,\n",
      "              6.15\n",
      "            ]\n",
      "          ],\n",
      "          \"word_confidence\": [\n",
      "            [\n",
      "              \"thunderstorms\",\n",
      "              1.0\n",
      "            ],\n",
      "            [\n",
      "              \"could\",\n",
      "              1.0\n",
      "            ],\n",
      "            [\n",
      "              \"produce\",\n",
      "              1.0\n",
      "            ],\n",
      "            [\n",
      "              \"large\",\n",
      "              1.0\n",
      "            ],\n",
      "            [\n",
      "              \"hail\",\n",
      "              1.0\n",
      "            ],\n",
      "            [\n",
      "              \"isolated\",\n",
      "              1.0\n",
      "            ],\n",
      "            [\n",
      "              \"tornadoes\",\n",
      "              1.0\n",
      "            ],\n",
      "            [\n",
      "              \"and\",\n",
      "              1.0\n",
      "            ],\n",
      "            [\n",
      "              \"heavy\",\n",
      "              1.0\n",
      "            ],\n",
      "            [\n",
      "              \"rain\",\n",
      "              0.99\n",
      "            ]\n",
      "          ]\n",
      "        }\n",
      "      ]\n",
      "    }\n",
      "  ]\n",
      "}\n"
     ]
    }
   ],
   "source": [
    "import json\n",
    "from os.path import join, dirname\n",
    "from ibm_watson import SpeechToTextV1\n",
    "from ibm_watson.websocket import RecognizeCallback, AudioSource\n",
    "import threading\n",
    "from ibm_cloud_sdk_core.authenticators import IAMAuthenticator\n",
    "\n",
    "authenticator = IAMAuthenticator('UBC7fX_l9EUDhq5ukuZTOQ8QiBo4TrBzoelMfmlTzGW-')\n",
    "service = SpeechToTextV1(authenticator=authenticator)\n",
    "service.set_service_url('https://api.eu-gb.speech-to-text.watson.cloud.ibm.com/instances/31e251c6-a500-4fbf-9cbb-c5d0fd8915f9')\n",
    "\n",
    "models = service.list_models().get_result()\n",
    "print(json.dumps(models, indent=2))\n",
    "\n",
    "model = service.get_model('en-US_BroadbandModel').get_result()\n",
    "print(json.dumps(model, indent=2))\n",
    "\n",
    "with open('speech.wav',\n",
    "          'rb') as audio_file:\n",
    "    print(json.dumps(\n",
    "        service.recognize(\n",
    "            audio=audio_file,\n",
    "            content_type='audio/wav',\n",
    "            timestamps=True,\n",
    "            word_confidence=True).get_result(),\n",
    "        indent=2))"
   ]
  },
  {
   "cell_type": "code",
   "execution_count": 40,
   "metadata": {},
   "outputs": [],
   "source": [
    "url_s2t = \"https://api.eu-gb.speech-to-text.watson.cloud.ibm.com/instances/31e251c6-a500-4fbf-9cbb-c5d0fd8915f9\""
   ]
  },
  {
   "cell_type": "markdown",
   "metadata": {},
   "source": [
    "<p>You require an API key, and you can obtain the key on the <a href=\"https://cloud.ibm.com/resources?utm_medium=Exinfluencer&utm_source=Exinfluencer&utm_content=000026UJ&utm_term=10006555&utm_id=NA-SkillsNetwork-Channel-SkillsNetworkCoursesIBMDeveloperSkillsNetworkPY0101ENSkillsNetwork19487395-2021-01-01\">Dashboard </a>.</p>\n"
   ]
  },
  {
   "cell_type": "code",
   "execution_count": 41,
   "metadata": {
    "jupyter": {
     "outputs_hidden": false
    }
   },
   "outputs": [],
   "source": [
    "iam_apikey_s2t = \"UBC7fX_l9EUDhq5ukuZTOQ8QiBo4TrBzoelMfmlTzGW-\""
   ]
  },
  {
   "cell_type": "markdown",
   "metadata": {},
   "source": [
    "<p>You create a <a href=\"http://watson-developer-cloud.github.io/python-sdk/v0.25.0/apis/watson_developer_cloud.speech_to_text_v1.html?utm_medium=Exinfluencer&utm_source=Exinfluencer&utm_content=000026UJ&utm_term=10006555&utm_id=NA-SkillsNetwork-Channel-SkillsNetworkCoursesIBMDeveloperSkillsNetworkPY0101ENSkillsNetwork19487395-2021-01-01\">Speech To Text Adapter object</a> the parameters are the endpoint and API key.</p>\n"
   ]
  },
  {
   "cell_type": "code",
   "execution_count": 42,
   "metadata": {},
   "outputs": [
    {
     "data": {
      "text/plain": [
       "<ibm_watson.speech_to_text_v1_adapter.SpeechToTextV1Adapter at 0x23fbc8f7f88>"
      ]
     },
     "execution_count": 42,
     "metadata": {},
     "output_type": "execute_result"
    }
   ],
   "source": [
    "authenticator = IAMAuthenticator(iam_apikey_s2t)\n",
    "s2t = SpeechToTextV1(authenticator=authenticator)\n",
    "s2t.set_service_url(url_s2t)\n",
    "s2t"
   ]
  },
  {
   "cell_type": "markdown",
   "metadata": {},
   "source": [
    "<p>Lets download the audio file that we will use to convert into text.</p>\n"
   ]
  },
  {
   "cell_type": "code",
   "execution_count": null,
   "metadata": {},
   "outputs": [],
   "source": [
    "#!wget -O PolynomialRegressionandPipelines.mp3  https://cf-courses-data.s3.us.cloud-object-storage.appdomain.cloud/IBMDeveloperSkillsNetwork-PY0101EN-SkillsNetwork/labs/Module%205/data/PolynomialRegressionandPipelines.mp3\n"
   ]
  },
  {
   "cell_type": "markdown",
   "metadata": {},
   "source": [
    "<p>We have the path of the .wav file we would like to convert to text</p>\n"
   ]
  },
  {
   "cell_type": "code",
   "execution_count": 43,
   "metadata": {
    "jupyter": {
     "outputs_hidden": false
    }
   },
   "outputs": [],
   "source": [
    "filename='PolynomialRegressionandPipelines.mp3'"
   ]
  },
  {
   "cell_type": "markdown",
   "metadata": {},
   "source": [
    "<p>We create the file object <code>wav</code> with the wav file using <code>open</code>. We set the <code>mode</code> to  \"rb\" ,  this is similar to read mode, but it ensures the file is in binary mode. We use the method <code>recognize</code> to return the recognized text. The parameter <code>audio</code> is the file object <code>wav</code>, the parameter <code>content_type</code> is the format of the audio file.</p>\n"
   ]
  },
  {
   "cell_type": "code",
   "execution_count": 44,
   "metadata": {
    "jupyter": {
     "outputs_hidden": false
    }
   },
   "outputs": [],
   "source": [
    "with open(filename, mode=\"rb\")  as wav:\n",
    "    response = s2t.recognize(audio=wav, content_type='audio/mp3')"
   ]
  },
  {
   "cell_type": "markdown",
   "metadata": {},
   "source": [
    "<p>The attribute result contains a dictionary that includes the translation:</p>\n"
   ]
  },
  {
   "cell_type": "code",
   "execution_count": 45,
   "metadata": {},
   "outputs": [
    {
     "data": {
      "text/plain": [
       "{'result_index': 0,\n",
       " 'results': [{'final': True,\n",
       "   'alternatives': [{'transcript': 'in this video we will cover polynomial regression and pipelines ',\n",
       "     'confidence': 0.94}]},\n",
       "  {'final': True,\n",
       "   'alternatives': [{'transcript': \"what do we do when a linear model is not the best fit for our data let's look into another type of regression model the polynomial regression we transform our data into a polynomial then use linear regression to fit the parameters that we will discuss pipelines pipelines are way to simplify your code \",\n",
       "     'confidence': 0.9}]},\n",
       "  {'final': True,\n",
       "   'alternatives': [{'transcript': \"polynomial regression is a special case of the general linear regression this method is beneficial for describing curvilinear relationships what is a curvilinear relationship it's what you get by squaring or setting higher order terms of the predictor variables in the model transforming the data the model can be quadratic which means the predictor variable in the model is squared we use a bracket to indicated as an exponent this is the second order polynomial regression with a figure representing the function \",\n",
       "     'confidence': 0.95}]},\n",
       "  {'final': True,\n",
       "   'alternatives': [{'transcript': 'the model can be cubic which means the predictor variable is cute this is the third order polynomial regression we see by examining the figure that the function has more variation ',\n",
       "     'confidence': 0.95}]},\n",
       "  {'final': True,\n",
       "   'alternatives': [{'transcript': \"there also exists higher order polynomial regressions when a good fit hasn't been achieved by second or third order we can see in figures how much the graphs change when we change the order of the polynomial regression the degree of the regression makes a big difference and can result in a better fit if you pick the right value in all cases the relationship between the variable in the parameter is always linear \",\n",
       "     'confidence': 0.91}]},\n",
       "  {'final': True,\n",
       "   'alternatives': [{'transcript': \"let's look at an example from our data we generate a polynomial regression model \",\n",
       "     'confidence': 0.89}]},\n",
       "  {'final': True,\n",
       "   'alternatives': [{'transcript': 'in python we do this by using the poly fit function in this example we develop a third order polynomial regression model base we can print out the model symbolic form for the model is given by the following expression ',\n",
       "     'confidence': 0.92}]},\n",
       "  {'final': True,\n",
       "   'alternatives': [{'transcript': \"negative one point five five seven X. one cute plus two hundred four point eight X. one squared plus eight thousand nine hundred sixty five X. one plus one point three seven times ten to the power of five we can also have multi dimensional polynomial linear regression the expression can get complicated here are just some of the terms for two dimensional second order polynomial none pies poly fit function cannot perform this type of regression we use the preprocessing librarian scikit learn to create a polynomial feature object the constructor takes the degree of the polynomial as a parameter then we transform the features into a polynomial feature with the fit underscore transform method let's do a more intuitive example \",\n",
       "     'confidence': 0.9}]},\n",
       "  {'final': True,\n",
       "   'alternatives': [{'transcript': 'consider the feature shown here applying the method we transform the data we now have a new set of features that are transformed version of our original features as that I mention of the data gets larger we may want to normalize multiple features as scikit learn instead we can use the preprocessing module to simplify many tasks for example we can standardize each feature simultaneously we import standard scaler we train the object fit the scale object then transform the data into a new data frame on a rate X. underscore scale there are more normalization methods available in the pre processing library as well as other transformations we can simplify our code by using a pipeline library there are many steps to getting a prediction for example normalization polynomial transform and linear regression we simplify the process using a pipeline ',\n",
       "     'confidence': 0.9}]},\n",
       "  {'final': True,\n",
       "   'alternatives': [{'transcript': 'pipeline sequentially perform a series of transformations the last step carries out a prediction first we import all the modules we need then we import the library pipeline we create a list of topples the first element in the topple contains the name of the estimator model the second element contains model constructor we input the list in the pipeline constructor we now have a pipeline object we can train the pipeline by applying the train method to the pipeline object we can also produce a prediction as well ',\n",
       "     'confidence': 0.89}]},\n",
       "  {'final': True,\n",
       "   'alternatives': [{'transcript': 'the method normalizes the data performs a polynomial transform then outputs a prediction ',\n",
       "     'confidence': 0.88}]}]}"
      ]
     },
     "execution_count": 45,
     "metadata": {},
     "output_type": "execute_result"
    }
   ],
   "source": [
    "response.result"
   ]
  },
  {
   "cell_type": "code",
   "execution_count": 46,
   "metadata": {},
   "outputs": [
    {
     "data": {
      "text/html": [
       "<div>\n",
       "<style scoped>\n",
       "    .dataframe tbody tr th:only-of-type {\n",
       "        vertical-align: middle;\n",
       "    }\n",
       "\n",
       "    .dataframe tbody tr th {\n",
       "        vertical-align: top;\n",
       "    }\n",
       "\n",
       "    .dataframe thead th {\n",
       "        text-align: right;\n",
       "    }\n",
       "</style>\n",
       "<table border=\"1\" class=\"dataframe\">\n",
       "  <thead>\n",
       "    <tr style=\"text-align: right;\">\n",
       "      <th></th>\n",
       "      <th>transcript</th>\n",
       "      <th>confidence</th>\n",
       "    </tr>\n",
       "  </thead>\n",
       "  <tbody>\n",
       "    <tr>\n",
       "      <th>0</th>\n",
       "      <td>in this video we will cover polynomial regress...</td>\n",
       "      <td>0.94</td>\n",
       "    </tr>\n",
       "    <tr>\n",
       "      <th>1</th>\n",
       "      <td>what do we do when a linear model is not the b...</td>\n",
       "      <td>0.90</td>\n",
       "    </tr>\n",
       "    <tr>\n",
       "      <th>2</th>\n",
       "      <td>polynomial regression is a special case of the...</td>\n",
       "      <td>0.95</td>\n",
       "    </tr>\n",
       "    <tr>\n",
       "      <th>3</th>\n",
       "      <td>the model can be cubic which means the predict...</td>\n",
       "      <td>0.95</td>\n",
       "    </tr>\n",
       "    <tr>\n",
       "      <th>4</th>\n",
       "      <td>there also exists higher order polynomial regr...</td>\n",
       "      <td>0.91</td>\n",
       "    </tr>\n",
       "    <tr>\n",
       "      <th>5</th>\n",
       "      <td>let's look at an example from our data we gene...</td>\n",
       "      <td>0.89</td>\n",
       "    </tr>\n",
       "    <tr>\n",
       "      <th>6</th>\n",
       "      <td>in python we do this by using the poly fit fun...</td>\n",
       "      <td>0.92</td>\n",
       "    </tr>\n",
       "    <tr>\n",
       "      <th>7</th>\n",
       "      <td>negative one point five five seven X. one cute...</td>\n",
       "      <td>0.90</td>\n",
       "    </tr>\n",
       "    <tr>\n",
       "      <th>8</th>\n",
       "      <td>consider the feature shown here applying the m...</td>\n",
       "      <td>0.90</td>\n",
       "    </tr>\n",
       "    <tr>\n",
       "      <th>9</th>\n",
       "      <td>pipeline sequentially perform a series of tran...</td>\n",
       "      <td>0.89</td>\n",
       "    </tr>\n",
       "    <tr>\n",
       "      <th>10</th>\n",
       "      <td>the method normalizes the data performs a poly...</td>\n",
       "      <td>0.88</td>\n",
       "    </tr>\n",
       "  </tbody>\n",
       "</table>\n",
       "</div>"
      ],
      "text/plain": [
       "                                           transcript  confidence\n",
       "0   in this video we will cover polynomial regress...        0.94\n",
       "1   what do we do when a linear model is not the b...        0.90\n",
       "2   polynomial regression is a special case of the...        0.95\n",
       "3   the model can be cubic which means the predict...        0.95\n",
       "4   there also exists higher order polynomial regr...        0.91\n",
       "5   let's look at an example from our data we gene...        0.89\n",
       "6   in python we do this by using the poly fit fun...        0.92\n",
       "7   negative one point five five seven X. one cute...        0.90\n",
       "8   consider the feature shown here applying the m...        0.90\n",
       "9   pipeline sequentially perform a series of tran...        0.89\n",
       "10  the method normalizes the data performs a poly...        0.88"
      ]
     },
     "execution_count": 46,
     "metadata": {},
     "output_type": "execute_result"
    }
   ],
   "source": [
    "from pandas import json_normalize\n",
    "\n",
    "json_normalize(response.result['results'],\"alternatives\")"
   ]
  },
  {
   "cell_type": "code",
   "execution_count": 47,
   "metadata": {},
   "outputs": [
    {
     "data": {
      "text/plain": [
       "<ibm_cloud_sdk_core.detailed_response.DetailedResponse at 0x23fbc9a5c88>"
      ]
     },
     "execution_count": 47,
     "metadata": {},
     "output_type": "execute_result"
    }
   ],
   "source": [
    "response"
   ]
  },
  {
   "cell_type": "markdown",
   "metadata": {},
   "source": [
    "<p>We can obtain the recognized text and assign it to the variable <code>recognized_text</code>:</p>\n"
   ]
  },
  {
   "cell_type": "code",
   "execution_count": 48,
   "metadata": {
    "jupyter": {
     "outputs_hidden": false
    }
   },
   "outputs": [
    {
     "data": {
      "text/plain": [
       "str"
      ]
     },
     "execution_count": 48,
     "metadata": {},
     "output_type": "execute_result"
    }
   ],
   "source": [
    "recognized_text=response.result['results'][0][\"alternatives\"][0][\"transcript\"]\n",
    "type(recognized_text)"
   ]
  },
  {
   "cell_type": "code",
   "execution_count": 58,
   "metadata": {},
   "outputs": [
    {
     "data": {
      "text/plain": [
       "'in this video we will cover polynomial regression and pipelines '"
      ]
     },
     "execution_count": 58,
     "metadata": {},
     "output_type": "execute_result"
    }
   ],
   "source": [
    "recognized_text"
   ]
  },
  {
   "cell_type": "markdown",
   "metadata": {},
   "source": [
    "<h2 id=\"ref1\">Language Translator</h2>\n"
   ]
  },
  {
   "cell_type": "markdown",
   "metadata": {},
   "source": [
    "<p>First we import <code>LanguageTranslatorV3</code> from ibm_watson. For more information on the API click <a href=\"https://cloud.ibm.com/apidocs/speech-to-text?utm_medium=Exinfluencer&utm_source=Exinfluencer&utm_content=000026UJ&utm_term=10006555&utm_id=NA-SkillsNetwork-Channel-SkillsNetworkCoursesIBMDeveloperSkillsNetworkPY0101ENSkillsNetwork19487395-2021-01-01&code=python\"> here</a></p>\n"
   ]
  },
  {
   "cell_type": "code",
   "execution_count": 50,
   "metadata": {},
   "outputs": [],
   "source": [
    "from ibm_watson import LanguageTranslatorV3"
   ]
  },
  {
   "cell_type": "markdown",
   "metadata": {},
   "source": [
    "<p>The service endpoint is based on the location of the service instance, we store the information in the variable URL. To find out which URL to use, view the service credentials.</p>\n"
   ]
  },
  {
   "cell_type": "code",
   "execution_count": 51,
   "metadata": {
    "jupyter": {
     "outputs_hidden": false
    }
   },
   "outputs": [],
   "source": [
    "url_lt='https://api.eu-gb.language-translator.watson.cloud.ibm.com/instances/c30a554c-e273-43ba-b15c-d3eb4bcf6993'"
   ]
  },
  {
   "cell_type": "markdown",
   "metadata": {},
   "source": [
    "<p>You require an API key, and you can obtain the key on the <a href=\"https://cloud.ibm.com/resources?utm_medium=Exinfluencer&utm_source=Exinfluencer&utm_content=000026UJ&utm_term=10006555&utm_id=NA-SkillsNetwork-Channel-SkillsNetworkCoursesIBMDeveloperSkillsNetworkPY0101ENSkillsNetwork19487395-2021-01-01\">Dashboard</a>.</p>\n"
   ]
  },
  {
   "cell_type": "code",
   "execution_count": 52,
   "metadata": {
    "jupyter": {
     "outputs_hidden": false
    }
   },
   "outputs": [],
   "source": [
    "apikey_lt='idrwla-RfY7fJzIH8YpJu2Y3XxnjSbYMQTTC3AeC7YNZ'"
   ]
  },
  {
   "cell_type": "markdown",
   "metadata": {},
   "source": [
    "<p>API requests require a version parameter that takes a date in the format version=YYYY-MM-DD. This lab describes the current version of Language Translator, 2018-05-01</p>\n"
   ]
  },
  {
   "cell_type": "code",
   "execution_count": 53,
   "metadata": {
    "jupyter": {
     "outputs_hidden": false
    }
   },
   "outputs": [],
   "source": [
    "version_lt='2018-05-01'"
   ]
  },
  {
   "cell_type": "markdown",
   "metadata": {},
   "source": [
    "<p>we create a  Language Translator object <code>language_translator</code>:</p>\n"
   ]
  },
  {
   "cell_type": "code",
   "execution_count": 54,
   "metadata": {
    "jupyter": {
     "outputs_hidden": false
    }
   },
   "outputs": [
    {
     "data": {
      "text/plain": [
       "<ibm_watson.language_translator_v3.LanguageTranslatorV3 at 0x23fbeb7d308>"
      ]
     },
     "execution_count": 54,
     "metadata": {},
     "output_type": "execute_result"
    }
   ],
   "source": [
    "authenticator = IAMAuthenticator(apikey_lt)\n",
    "language_translator = LanguageTranslatorV3(version=version_lt,authenticator=authenticator)\n",
    "language_translator.set_service_url(url_lt)\n",
    "language_translator"
   ]
  },
  {
   "cell_type": "markdown",
   "metadata": {},
   "source": [
    "<p>We can get a Lists the languages that the service can identify.\n",
    "The method Returns the language code.  For example English (en) to  Spanis (es) and name of each language.</p>\n"
   ]
  },
  {
   "cell_type": "code",
   "execution_count": 62,
   "metadata": {
    "jupyter": {
     "outputs_hidden": false
    }
   },
   "outputs": [
    {
     "data": {
      "text/html": [
       "<div>\n",
       "<style scoped>\n",
       "    .dataframe tbody tr th:only-of-type {\n",
       "        vertical-align: middle;\n",
       "    }\n",
       "\n",
       "    .dataframe tbody tr th {\n",
       "        vertical-align: top;\n",
       "    }\n",
       "\n",
       "    .dataframe thead th {\n",
       "        text-align: right;\n",
       "    }\n",
       "</style>\n",
       "<table border=\"1\" class=\"dataframe\">\n",
       "  <thead>\n",
       "    <tr style=\"text-align: right;\">\n",
       "      <th></th>\n",
       "      <th>language</th>\n",
       "      <th>name</th>\n",
       "    </tr>\n",
       "  </thead>\n",
       "  <tbody>\n",
       "    <tr>\n",
       "      <th>0</th>\n",
       "      <td>af</td>\n",
       "      <td>Afrikaans</td>\n",
       "    </tr>\n",
       "    <tr>\n",
       "      <th>1</th>\n",
       "      <td>ar</td>\n",
       "      <td>Arabic</td>\n",
       "    </tr>\n",
       "    <tr>\n",
       "      <th>2</th>\n",
       "      <td>az</td>\n",
       "      <td>Azerbaijani</td>\n",
       "    </tr>\n",
       "    <tr>\n",
       "      <th>3</th>\n",
       "      <td>ba</td>\n",
       "      <td>Bashkir</td>\n",
       "    </tr>\n",
       "    <tr>\n",
       "      <th>4</th>\n",
       "      <td>be</td>\n",
       "      <td>Belarusian</td>\n",
       "    </tr>\n",
       "    <tr>\n",
       "      <th>5</th>\n",
       "      <td>bg</td>\n",
       "      <td>Bulgarian</td>\n",
       "    </tr>\n",
       "    <tr>\n",
       "      <th>6</th>\n",
       "      <td>bn</td>\n",
       "      <td>Bengali</td>\n",
       "    </tr>\n",
       "    <tr>\n",
       "      <th>7</th>\n",
       "      <td>ca</td>\n",
       "      <td>Catalan</td>\n",
       "    </tr>\n",
       "    <tr>\n",
       "      <th>8</th>\n",
       "      <td>cs</td>\n",
       "      <td>Czech</td>\n",
       "    </tr>\n",
       "    <tr>\n",
       "      <th>9</th>\n",
       "      <td>cv</td>\n",
       "      <td>Chuvash</td>\n",
       "    </tr>\n",
       "    <tr>\n",
       "      <th>10</th>\n",
       "      <td>cy</td>\n",
       "      <td>Welsh</td>\n",
       "    </tr>\n",
       "    <tr>\n",
       "      <th>11</th>\n",
       "      <td>da</td>\n",
       "      <td>Danish</td>\n",
       "    </tr>\n",
       "    <tr>\n",
       "      <th>12</th>\n",
       "      <td>de</td>\n",
       "      <td>German</td>\n",
       "    </tr>\n",
       "    <tr>\n",
       "      <th>13</th>\n",
       "      <td>el</td>\n",
       "      <td>Greek</td>\n",
       "    </tr>\n",
       "    <tr>\n",
       "      <th>14</th>\n",
       "      <td>en</td>\n",
       "      <td>English</td>\n",
       "    </tr>\n",
       "    <tr>\n",
       "      <th>15</th>\n",
       "      <td>eo</td>\n",
       "      <td>Esperanto</td>\n",
       "    </tr>\n",
       "    <tr>\n",
       "      <th>16</th>\n",
       "      <td>es</td>\n",
       "      <td>Spanish</td>\n",
       "    </tr>\n",
       "    <tr>\n",
       "      <th>17</th>\n",
       "      <td>et</td>\n",
       "      <td>Estonian</td>\n",
       "    </tr>\n",
       "    <tr>\n",
       "      <th>18</th>\n",
       "      <td>eu</td>\n",
       "      <td>Basque</td>\n",
       "    </tr>\n",
       "    <tr>\n",
       "      <th>19</th>\n",
       "      <td>fa</td>\n",
       "      <td>Persian</td>\n",
       "    </tr>\n",
       "    <tr>\n",
       "      <th>20</th>\n",
       "      <td>fi</td>\n",
       "      <td>Finnish</td>\n",
       "    </tr>\n",
       "    <tr>\n",
       "      <th>21</th>\n",
       "      <td>fr</td>\n",
       "      <td>French</td>\n",
       "    </tr>\n",
       "    <tr>\n",
       "      <th>22</th>\n",
       "      <td>ga</td>\n",
       "      <td>Irish</td>\n",
       "    </tr>\n",
       "    <tr>\n",
       "      <th>23</th>\n",
       "      <td>gu</td>\n",
       "      <td>Gujarati</td>\n",
       "    </tr>\n",
       "    <tr>\n",
       "      <th>24</th>\n",
       "      <td>he</td>\n",
       "      <td>Hebrew</td>\n",
       "    </tr>\n",
       "    <tr>\n",
       "      <th>25</th>\n",
       "      <td>hi</td>\n",
       "      <td>Hindi</td>\n",
       "    </tr>\n",
       "    <tr>\n",
       "      <th>26</th>\n",
       "      <td>hr</td>\n",
       "      <td>Croatian</td>\n",
       "    </tr>\n",
       "    <tr>\n",
       "      <th>27</th>\n",
       "      <td>ht</td>\n",
       "      <td>Haitian</td>\n",
       "    </tr>\n",
       "    <tr>\n",
       "      <th>28</th>\n",
       "      <td>hu</td>\n",
       "      <td>Hungarian</td>\n",
       "    </tr>\n",
       "    <tr>\n",
       "      <th>29</th>\n",
       "      <td>hy</td>\n",
       "      <td>Armenian</td>\n",
       "    </tr>\n",
       "    <tr>\n",
       "      <th>30</th>\n",
       "      <td>is</td>\n",
       "      <td>Icelandic</td>\n",
       "    </tr>\n",
       "    <tr>\n",
       "      <th>31</th>\n",
       "      <td>it</td>\n",
       "      <td>Italian</td>\n",
       "    </tr>\n",
       "    <tr>\n",
       "      <th>32</th>\n",
       "      <td>ja</td>\n",
       "      <td>Japanese</td>\n",
       "    </tr>\n",
       "    <tr>\n",
       "      <th>33</th>\n",
       "      <td>ka</td>\n",
       "      <td>Georgian</td>\n",
       "    </tr>\n",
       "    <tr>\n",
       "      <th>34</th>\n",
       "      <td>kk</td>\n",
       "      <td>Kazakh</td>\n",
       "    </tr>\n",
       "    <tr>\n",
       "      <th>35</th>\n",
       "      <td>km</td>\n",
       "      <td>Central Khmer</td>\n",
       "    </tr>\n",
       "    <tr>\n",
       "      <th>36</th>\n",
       "      <td>ko</td>\n",
       "      <td>Korean</td>\n",
       "    </tr>\n",
       "    <tr>\n",
       "      <th>37</th>\n",
       "      <td>ku</td>\n",
       "      <td>Kurdish</td>\n",
       "    </tr>\n",
       "    <tr>\n",
       "      <th>38</th>\n",
       "      <td>ky</td>\n",
       "      <td>Kirghiz</td>\n",
       "    </tr>\n",
       "    <tr>\n",
       "      <th>39</th>\n",
       "      <td>lo</td>\n",
       "      <td>Lao</td>\n",
       "    </tr>\n",
       "    <tr>\n",
       "      <th>40</th>\n",
       "      <td>lt</td>\n",
       "      <td>Lithuanian</td>\n",
       "    </tr>\n",
       "    <tr>\n",
       "      <th>41</th>\n",
       "      <td>lv</td>\n",
       "      <td>Latvian</td>\n",
       "    </tr>\n",
       "    <tr>\n",
       "      <th>42</th>\n",
       "      <td>ml</td>\n",
       "      <td>Malayalam</td>\n",
       "    </tr>\n",
       "    <tr>\n",
       "      <th>43</th>\n",
       "      <td>mn</td>\n",
       "      <td>Mongolian</td>\n",
       "    </tr>\n",
       "    <tr>\n",
       "      <th>44</th>\n",
       "      <td>mr</td>\n",
       "      <td>Marathi</td>\n",
       "    </tr>\n",
       "    <tr>\n",
       "      <th>45</th>\n",
       "      <td>ms</td>\n",
       "      <td>Malay</td>\n",
       "    </tr>\n",
       "    <tr>\n",
       "      <th>46</th>\n",
       "      <td>mt</td>\n",
       "      <td>Maltese</td>\n",
       "    </tr>\n",
       "    <tr>\n",
       "      <th>47</th>\n",
       "      <td>my</td>\n",
       "      <td>Burmese</td>\n",
       "    </tr>\n",
       "    <tr>\n",
       "      <th>48</th>\n",
       "      <td>nb</td>\n",
       "      <td>Norwegian Bokmal</td>\n",
       "    </tr>\n",
       "    <tr>\n",
       "      <th>49</th>\n",
       "      <td>ne</td>\n",
       "      <td>Nepali</td>\n",
       "    </tr>\n",
       "    <tr>\n",
       "      <th>50</th>\n",
       "      <td>nl</td>\n",
       "      <td>Dutch</td>\n",
       "    </tr>\n",
       "    <tr>\n",
       "      <th>51</th>\n",
       "      <td>nn</td>\n",
       "      <td>Norwegian Nynorsk</td>\n",
       "    </tr>\n",
       "    <tr>\n",
       "      <th>52</th>\n",
       "      <td>pa</td>\n",
       "      <td>Punjabi</td>\n",
       "    </tr>\n",
       "    <tr>\n",
       "      <th>53</th>\n",
       "      <td>pa-PK</td>\n",
       "      <td>Punjabi (Shahmukhi script, Pakistan)</td>\n",
       "    </tr>\n",
       "    <tr>\n",
       "      <th>54</th>\n",
       "      <td>pl</td>\n",
       "      <td>Polish</td>\n",
       "    </tr>\n",
       "    <tr>\n",
       "      <th>55</th>\n",
       "      <td>ps</td>\n",
       "      <td>Pushto</td>\n",
       "    </tr>\n",
       "    <tr>\n",
       "      <th>56</th>\n",
       "      <td>pt</td>\n",
       "      <td>Portuguese</td>\n",
       "    </tr>\n",
       "    <tr>\n",
       "      <th>57</th>\n",
       "      <td>ro</td>\n",
       "      <td>Romanian</td>\n",
       "    </tr>\n",
       "    <tr>\n",
       "      <th>58</th>\n",
       "      <td>ru</td>\n",
       "      <td>Russian</td>\n",
       "    </tr>\n",
       "    <tr>\n",
       "      <th>59</th>\n",
       "      <td>si</td>\n",
       "      <td>Sinhala</td>\n",
       "    </tr>\n",
       "    <tr>\n",
       "      <th>60</th>\n",
       "      <td>sk</td>\n",
       "      <td>Slovakian</td>\n",
       "    </tr>\n",
       "    <tr>\n",
       "      <th>61</th>\n",
       "      <td>sl</td>\n",
       "      <td>Slovenian</td>\n",
       "    </tr>\n",
       "    <tr>\n",
       "      <th>62</th>\n",
       "      <td>so</td>\n",
       "      <td>Somali</td>\n",
       "    </tr>\n",
       "    <tr>\n",
       "      <th>63</th>\n",
       "      <td>sq</td>\n",
       "      <td>Albanian</td>\n",
       "    </tr>\n",
       "    <tr>\n",
       "      <th>64</th>\n",
       "      <td>sr</td>\n",
       "      <td>Serbian</td>\n",
       "    </tr>\n",
       "    <tr>\n",
       "      <th>65</th>\n",
       "      <td>sv</td>\n",
       "      <td>Swedish</td>\n",
       "    </tr>\n",
       "    <tr>\n",
       "      <th>66</th>\n",
       "      <td>ta</td>\n",
       "      <td>Tamil</td>\n",
       "    </tr>\n",
       "    <tr>\n",
       "      <th>67</th>\n",
       "      <td>te</td>\n",
       "      <td>Telugu</td>\n",
       "    </tr>\n",
       "    <tr>\n",
       "      <th>68</th>\n",
       "      <td>th</td>\n",
       "      <td>Thai</td>\n",
       "    </tr>\n",
       "    <tr>\n",
       "      <th>69</th>\n",
       "      <td>tl</td>\n",
       "      <td>Tagalog</td>\n",
       "    </tr>\n",
       "    <tr>\n",
       "      <th>70</th>\n",
       "      <td>tr</td>\n",
       "      <td>Turkish</td>\n",
       "    </tr>\n",
       "    <tr>\n",
       "      <th>71</th>\n",
       "      <td>uk</td>\n",
       "      <td>Ukrainian</td>\n",
       "    </tr>\n",
       "    <tr>\n",
       "      <th>72</th>\n",
       "      <td>ur</td>\n",
       "      <td>Urdu</td>\n",
       "    </tr>\n",
       "    <tr>\n",
       "      <th>73</th>\n",
       "      <td>vi</td>\n",
       "      <td>Vietnamese</td>\n",
       "    </tr>\n",
       "    <tr>\n",
       "      <th>74</th>\n",
       "      <td>zh</td>\n",
       "      <td>Simplified Chinese</td>\n",
       "    </tr>\n",
       "    <tr>\n",
       "      <th>75</th>\n",
       "      <td>zh-TW</td>\n",
       "      <td>Traditional Chinese</td>\n",
       "    </tr>\n",
       "  </tbody>\n",
       "</table>\n",
       "</div>"
      ],
      "text/plain": [
       "   language                                  name\n",
       "0        af                             Afrikaans\n",
       "1        ar                                Arabic\n",
       "2        az                           Azerbaijani\n",
       "3        ba                               Bashkir\n",
       "4        be                            Belarusian\n",
       "5        bg                             Bulgarian\n",
       "6        bn                               Bengali\n",
       "7        ca                               Catalan\n",
       "8        cs                                 Czech\n",
       "9        cv                               Chuvash\n",
       "10       cy                                 Welsh\n",
       "11       da                                Danish\n",
       "12       de                                German\n",
       "13       el                                 Greek\n",
       "14       en                               English\n",
       "15       eo                             Esperanto\n",
       "16       es                               Spanish\n",
       "17       et                              Estonian\n",
       "18       eu                                Basque\n",
       "19       fa                               Persian\n",
       "20       fi                               Finnish\n",
       "21       fr                                French\n",
       "22       ga                                 Irish\n",
       "23       gu                              Gujarati\n",
       "24       he                                Hebrew\n",
       "25       hi                                 Hindi\n",
       "26       hr                              Croatian\n",
       "27       ht                               Haitian\n",
       "28       hu                             Hungarian\n",
       "29       hy                              Armenian\n",
       "30       is                             Icelandic\n",
       "31       it                               Italian\n",
       "32       ja                              Japanese\n",
       "33       ka                              Georgian\n",
       "34       kk                                Kazakh\n",
       "35       km                         Central Khmer\n",
       "36       ko                                Korean\n",
       "37       ku                               Kurdish\n",
       "38       ky                               Kirghiz\n",
       "39       lo                                   Lao\n",
       "40       lt                            Lithuanian\n",
       "41       lv                               Latvian\n",
       "42       ml                             Malayalam\n",
       "43       mn                             Mongolian\n",
       "44       mr                               Marathi\n",
       "45       ms                                 Malay\n",
       "46       mt                               Maltese\n",
       "47       my                               Burmese\n",
       "48       nb                      Norwegian Bokmal\n",
       "49       ne                                Nepali\n",
       "50       nl                                 Dutch\n",
       "51       nn                     Norwegian Nynorsk\n",
       "52       pa                               Punjabi\n",
       "53    pa-PK  Punjabi (Shahmukhi script, Pakistan)\n",
       "54       pl                                Polish\n",
       "55       ps                                Pushto\n",
       "56       pt                            Portuguese\n",
       "57       ro                              Romanian\n",
       "58       ru                               Russian\n",
       "59       si                               Sinhala\n",
       "60       sk                             Slovakian\n",
       "61       sl                             Slovenian\n",
       "62       so                                Somali\n",
       "63       sq                              Albanian\n",
       "64       sr                               Serbian\n",
       "65       sv                               Swedish\n",
       "66       ta                                 Tamil\n",
       "67       te                                Telugu\n",
       "68       th                                  Thai\n",
       "69       tl                               Tagalog\n",
       "70       tr                               Turkish\n",
       "71       uk                             Ukrainian\n",
       "72       ur                                  Urdu\n",
       "73       vi                            Vietnamese\n",
       "74       zh                    Simplified Chinese\n",
       "75    zh-TW                   Traditional Chinese"
      ]
     },
     "execution_count": 62,
     "metadata": {},
     "output_type": "execute_result"
    }
   ],
   "source": [
    "import pandas as pd\n",
    "pd.set_option('display.max_rows', 100)\n",
    "pd.json_normalize(language_translator.list_identifiable_languages().get_result(), \"languages\")"
   ]
  },
  {
   "cell_type": "markdown",
   "metadata": {},
   "source": [
    "<p>We can use the method <code>translate</code>. This will translate the text. The parameter text is the text, Model_id is the type of model we would like to use use we use list the language. In this case, we set it to 'en-es' or English to Spanish. We get a Detailed Response object translation_response</p>\n"
   ]
  },
  {
   "cell_type": "code",
   "execution_count": 56,
   "metadata": {
    "jupyter": {
     "outputs_hidden": false
    }
   },
   "outputs": [
    {
     "data": {
      "text/plain": [
       "<ibm_cloud_sdk_core.detailed_response.DetailedResponse at 0x23fbeb89cc8>"
      ]
     },
     "execution_count": 56,
     "metadata": {},
     "output_type": "execute_result"
    }
   ],
   "source": [
    "translation_response = language_translator.translate(\\\n",
    "    text=recognized_text, model_id='en-es')\n",
    "translation_response"
   ]
  },
  {
   "cell_type": "markdown",
   "metadata": {},
   "source": [
    "<p>The result is a dictionary.</p>\n"
   ]
  },
  {
   "cell_type": "code",
   "execution_count": 57,
   "metadata": {
    "jupyter": {
     "outputs_hidden": false
    }
   },
   "outputs": [
    {
     "data": {
      "text/plain": [
       "{'translations': [{'translation': 'en este vídeo cubriremos la regresión polinómica y las tuberías '}],\n",
       " 'word_count': 10,\n",
       " 'character_count': 64}"
      ]
     },
     "execution_count": 57,
     "metadata": {},
     "output_type": "execute_result"
    }
   ],
   "source": [
    "translation=translation_response.get_result()\n",
    "translation"
   ]
  },
  {
   "cell_type": "markdown",
   "metadata": {},
   "source": [
    "<p>We can obtain the actual translation as a string as follows:</p>\n"
   ]
  },
  {
   "cell_type": "code",
   "execution_count": 59,
   "metadata": {},
   "outputs": [
    {
     "data": {
      "text/plain": [
       "'en este vídeo cubriremos la regresión polinómica y las tuberías '"
      ]
     },
     "execution_count": 59,
     "metadata": {},
     "output_type": "execute_result"
    }
   ],
   "source": [
    "spanish_translation =translation['translations'][0]['translation']\n",
    "spanish_translation "
   ]
  },
  {
   "cell_type": "markdown",
   "metadata": {},
   "source": [
    "<p>We can translate back to English</p>\n"
   ]
  },
  {
   "cell_type": "code",
   "execution_count": 60,
   "metadata": {},
   "outputs": [],
   "source": [
    "translation_new = language_translator.translate(text=spanish_translation ,model_id='es-en').get_result()"
   ]
  },
  {
   "cell_type": "markdown",
   "metadata": {},
   "source": [
    "<p>We can obtain the actual translation as a string as follows:</p>\n"
   ]
  },
  {
   "cell_type": "code",
   "execution_count": 61,
   "metadata": {},
   "outputs": [
    {
     "data": {
      "text/plain": [
       "'in this video we will cover the polynomial regression and the pipes '"
      ]
     },
     "execution_count": 61,
     "metadata": {},
     "output_type": "execute_result"
    }
   ],
   "source": [
    "translation_eng=translation_new['translations'][0]['translation']\n",
    "translation_eng"
   ]
  },
  {
   "cell_type": "markdown",
   "metadata": {},
   "source": [
    "<br>\n"
   ]
  },
  {
   "cell_type": "markdown",
   "metadata": {},
   "source": [
    "<h2>Quiz</h2>\n"
   ]
  },
  {
   "cell_type": "markdown",
   "metadata": {},
   "source": [
    "Translate to French.\n"
   ]
  },
  {
   "cell_type": "code",
   "execution_count": null,
   "metadata": {},
   "outputs": [],
   "source": [
    "# Write your code below and press Shift+Enter to execute\n"
   ]
  },
  {
   "cell_type": "markdown",
   "metadata": {},
   "source": [
    "<details><summary>Click here for the solution</summary>\n",
    "\n",
    "```python\n",
    "French_translation=language_translator.translate(\n",
    "    text=translation_eng , model_id='en-fr').get_result()\n",
    "\n",
    "French_translation['translations'][0]['translation']\n",
    "\n",
    "```\n",
    "\n",
    "</details>\n"
   ]
  },
  {
   "cell_type": "markdown",
   "metadata": {},
   "source": [
    "<h3>Language Translator</h3>\n"
   ]
  },
  {
   "cell_type": "markdown",
   "metadata": {},
   "source": [
    "<b>References</b>\n"
   ]
  },
  {
   "cell_type": "markdown",
   "metadata": {},
   "source": [
    "https://cloud.ibm.com/apidocs/speech-to-text?code=python\n"
   ]
  },
  {
   "cell_type": "markdown",
   "metadata": {},
   "source": [
    "https://cloud.ibm.com/apidocs/language-translator?code=python\n"
   ]
  },
  {
   "cell_type": "markdown",
   "metadata": {},
   "source": [
    "<hr>\n"
   ]
  },
  {
   "cell_type": "markdown",
   "metadata": {},
   "source": [
    "## Authors:\n",
    "\n",
    "[Joseph Santarcangelo](https://www.linkedin.com/in/joseph-s-50398b136/?utm_medium=Exinfluencer\\&utm_source=Exinfluencer\\&utm_content=000026UJ\\&utm_term=10006555\\&utm_id=NA-SkillsNetwork-Channel-SkillsNetworkCoursesIBMDeveloperSkillsNetworkPY0101ENSkillsNetwork19487395-2021-01-01)\n",
    "\n",
    "Joseph Santarcangelo has a PhD in Electrical Engineering, his research focused on using machine learning, signal processing, and computer vision to determine how videos impact human cognition. Joseph has been working for IBM since he completed his PhD.\n",
    "\n",
    "## Other Contributor(s)\n",
    "\n",
    "<a href=\"https://www.linkedin.com/in/fanjiang0619/?utm_medium=Exinfluencer&utm_source=Exinfluencer&utm_content=000026UJ&utm_term=10006555&utm_id=NA-SkillsNetwork-Channel-SkillsNetworkCoursesIBMDeveloperSkillsNetworkPY0101ENSkillsNetwork19487395-2021-01-01\">Fan Jiang</a>\n",
    "\n",
    "## Change Log\n",
    "\n",
    "|  Date (YYYY-MM-DD) |  Version | Changed By  |  Change Description |\n",
    "|---|---|---|---|\n",
    "| 2021-04-07 | 2.2 | Malika | Updated the libraries |\n",
    "| 2021-01-05 | 2.1 | Malika | Added a library |\n",
    "| 2020-08-26  | 2.0  | Lavanya | Moved lab to course repo in GitLab |\n",
    "|   |   |   |   |\n",
    "|   |   |   |   |\n",
    "\n",
    "<hr/>\n",
    "\n",
    "## <h3 align=\"center\"> © IBM Corporation 2020. All rights reserved. <h3/>\n"
   ]
  }
 ],
 "metadata": {
  "kernelspec": {
   "display_name": "Python 3",
   "language": "python",
   "name": "python3"
  },
  "language_info": {
   "codemirror_mode": {
    "name": "ipython",
    "version": 3
   },
   "file_extension": ".py",
   "mimetype": "text/x-python",
   "name": "python",
   "nbconvert_exporter": "python",
   "pygments_lexer": "ipython3",
   "version": "3.7.6"
  }
 },
 "nbformat": 4,
 "nbformat_minor": 4
}
